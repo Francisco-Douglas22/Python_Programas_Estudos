{
 "cells": [
  {
   "cell_type": "markdown",
   "metadata": {},
   "source": [
    "# **Leitura e Escrita em Arquivos**"
   ]
  },
  {
   "cell_type": "code",
   "execution_count": 2,
   "metadata": {},
   "outputs": [
    {
     "name": "stdout",
     "output_type": "stream",
     "text": [
      "<_io.TextIOWrapper name='texto.txt' mode='r' encoding='utf-8'>\n",
      "\n",
      "Python, serpente digital,\n",
      "Linguagem ágil, prática, fenomenal.\n",
      "Com sua sintaxe clara, expressiva,\n",
      "Soluções eficazes, criativas.\n",
      "Desliza entre módulos, frameworks, comandos,\n",
      "Domina o mundo, como um grande comando.\n"
     ]
    }
   ],
   "source": [
    "# open() - Abri arquivo, por padrao a funcao open() abre o arquivo para leitura\n",
    "# read() - Para ler o conteudo utiliza o read\n",
    "\n",
    "texto = open('texto.txt')\n",
    "print(f'{texto}\\n')\n",
    "\n",
    "#Lendo o conteudo no texto\n",
    "# read() - A funcao read() ler todo o conteudo do arquivo\n",
    "print(texto.read())\n",
    "\n",
    "#Toda vez que abri devemos fecha o arquivo para não temos problema\n",
    "texto.close()"
   ]
  },
  {
   "cell_type": "code",
   "execution_count": 3,
   "metadata": {},
   "outputs": [
    {
     "name": "stdout",
     "output_type": "stream",
     "text": [
      "Python, serpente digital,\n",
      "Linguagem ágil, prática, fenomenal.\n",
      "Com sua sintaxe clara, expressiva,\n",
      "Soluções eficazes, criativas.\n",
      "Desliza entre módulos, frameworks, comandos,\n",
      "Domina o mundo, como um grande comando.\n"
     ]
    }
   ],
   "source": [
    "#Lendo arquivo\n",
    "python = open('python.txt')\n",
    "print(python.read())\n",
    "python.close()"
   ]
  },
  {
   "cell_type": "code",
   "execution_count": null,
   "metadata": {},
   "outputs": [],
   "source": []
  },
  {
   "cell_type": "code",
   "execution_count": null,
   "metadata": {},
   "outputs": [],
   "source": []
  },
  {
   "cell_type": "code",
   "execution_count": 4,
   "metadata": {},
   "outputs": [
    {
     "name": "stdout",
     "output_type": "stream",
     "text": [
      "al,\n",
      "Linguagem ágil, prática, fenomenal.\n",
      "Com sua sintaxe clara, expressiva,\n",
      "Soluções eficazes, criativas.\n",
      "Desliza entre módulos, frameworks, comandos,\n",
      "Domina o mundo, como um grande comando.\n",
      "O Arquivo esta fechado? True\n"
     ]
    }
   ],
   "source": [
    "# seek() - E utilizada para movimenta o cursos pelo arquivo\n",
    "arquivo = open('texto.txt')\n",
    "arquivo.seek(22)\n",
    "print(arquivo.read())\n",
    "\n",
    "arquivo.close()\n",
    "\n",
    "#Verficia se O Arquivo esta aberto ou fechado\n",
    "print(f'O Arquivo esta fechado? {arquivo.closed}')"
   ]
  },
  {
   "cell_type": "code",
   "execution_count": 36,
   "metadata": {},
   "outputs": [
    {
     "name": "stdout",
     "output_type": "stream",
     "text": [
      "Python, serpente digital,\n",
      "\n",
      "Linguagem ágil, prática, fenomenal.\n",
      "\n",
      "Com sua sintaxe clara, expressiva,\n",
      "\n",
      "Soluções eficazes, criativas.\n",
      "\n"
     ]
    }
   ],
   "source": [
    "#readline() - Le arquivo linha a linha\n",
    "texto = open('texto.txt')\n",
    "print(texto.readline())\n",
    "print(texto.readline())\n",
    "print(texto.readline())\n",
    "print(texto.readline())\n",
    "\n",
    "texto.close()"
   ]
  },
  {
   "cell_type": "code",
   "execution_count": 37,
   "metadata": {},
   "outputs": [
    {
     "name": "stdout",
     "output_type": "stream",
     "text": [
      "['Python, serpente digital,\\n']\n",
      "['Linguagem ágil, prática, fenomenal.\\n']\n",
      "['Com sua sintaxe clara, expressiva,\\n']\n",
      "['Soluções eficazes, criativas.\\n']\n"
     ]
    }
   ],
   "source": [
    "# readlines() - Le as linhas\n",
    "texto = open('texto.txt')\n",
    "\n",
    "print(texto.readlines(1))\n",
    "print(texto.readlines(2))\n",
    "print(texto.readlines(3))\n",
    "print(texto.readlines(4))\n",
    "\n",
    "texto.close()\n"
   ]
  },
  {
   "cell_type": "code",
   "execution_count": 38,
   "metadata": {},
   "outputs": [
    {
     "name": "stdout",
     "output_type": "stream",
     "text": [
      "['Python, serpente digital,\\n']\n",
      "['Linguagem ágil, prática, fenomenal.\\n']\n",
      "['Com sua sintaxe clara, expressiva,\\n']\n",
      "['Soluções eficazes, criativas.\\n']\n",
      "['Desliza entre módulos, frameworks, comandos,\\n']\n",
      "['Domina o mundo, como um grande comando.']\n"
     ]
    }
   ],
   "source": [
    "texto = open('texto.txt')\n",
    "\n",
    "for t in range(1,7):\n",
    "    print(texto.readlines(t))\n",
    "\n",
    "texto.close()"
   ]
  },
  {
   "cell_type": "code",
   "execution_count": null,
   "metadata": {},
   "outputs": [],
   "source": []
  },
  {
   "cell_type": "code",
   "execution_count": null,
   "metadata": {},
   "outputs": [],
   "source": []
  },
  {
   "cell_type": "markdown",
   "metadata": {},
   "source": [
    "# **Bloco with**"
   ]
  },
  {
   "cell_type": "code",
   "execution_count": 40,
   "metadata": {},
   "outputs": [
    {
     "name": "stdout",
     "output_type": "stream",
     "text": [
      "['Python, serpente digital,\\n', 'Linguagem ágil, prática, fenomenal.\\n', 'Com sua sintaxe clara, expressiva,\\n', 'Soluções eficazes, criativas.\\n', 'Desliza entre módulos, frameworks, comandos,\\n', 'Domina o mundo, como um grande comando.']\n",
      "False\n",
      "Fechando novamente\n",
      "True\n"
     ]
    }
   ],
   "source": [
    "# bloco with e utilizado para criar um contexto de trabalho onde os recursos\n",
    "# utilizado sao fechados apos o bloco with\n",
    "\n",
    "#Bloco\n",
    "with open('texto.txt') as arquivo:\n",
    "    print(arquivo.readlines())\n",
    "    print(arquivo.closed)\n",
    "    \n",
    "print('Fechando novamente')\n",
    "arquivo.close()\n",
    "print(arquivo.closed)"
   ]
  },
  {
   "cell_type": "code",
   "execution_count": null,
   "metadata": {},
   "outputs": [],
   "source": []
  },
  {
   "cell_type": "markdown",
   "metadata": {},
   "source": [
    "# **Escrita em Arquivos**"
   ]
  },
  {
   "cell_type": "code",
   "execution_count": 43,
   "metadata": {},
   "outputs": [
    {
     "name": "stdout",
     "output_type": "stream",
     "text": [
      "Python, serpente digital,\n",
      "Linguagem ágil, prática, fenomenal.\n",
      "Com sua sintaxe clara, expressiva,\n",
      "Soluções eficazes, criativas.\n",
      "Desliza entre módulos, frameworks, comandos,\n",
      "Domina o mundo, como um grande comando.\n"
     ]
    }
   ],
   "source": [
    "arquivo = open('python.txt')\n",
    "print(arquivo.read())\n",
    "arquivo.close()"
   ]
  },
  {
   "cell_type": "code",
   "execution_count": 49,
   "metadata": {},
   "outputs": [
    {
     "name": "stdout",
     "output_type": "stream",
     "text": [
      "Este e um texto escrito diretamente no arquivo\n",
      "Podemos coloca quantas linhas quisemos\n",
      "Ultima linha de teste\n",
      "Trabalha duro\n"
     ]
    }
   ],
   "source": [
    "#Para escrever dados em arquivos devemos abrir em outro formato\n",
    "#Caso não exista o arquivo ele sera criado altomaticamente\n",
    "#Para escrevemos dados em um arquivo, apos abrir o arquivo utilizamos a função write()\n",
    "\n",
    "with open('novo.txt', 'w') as arquivo:\n",
    "    arquivo.write('Este e um texto escrito diretamente no arquivo\\n')\n",
    "    arquivo.write('Podemos coloca quantas linhas quisemos\\n')\n",
    "    arquivo.write('Ultima linha de teste\\n')\n",
    "    arquivo.write('Trabalha duro')\n",
    "    \n",
    "arquivo = open('novo.txt')\n",
    "print(arquivo.read())\n",
    "arquivo.close()"
   ]
  },
  {
   "cell_type": "code",
   "execution_count": 51,
   "metadata": {},
   "outputs": [
    {
     "name": "stdout",
     "output_type": "stream",
     "text": [
      "Manga\n",
      "Mamao\n",
      "Limao\n",
      "\n"
     ]
    }
   ],
   "source": [
    "with open('frutas.txt', 'w') as arquivo:\n",
    "    while True:\n",
    "        fruta = input('Digite uma fruta ou [S] para sair: ').title()\n",
    "        if fruta != 'S':\n",
    "            arquivo.write(f'{fruta}\\n')\n",
    "        else:\n",
    "            break\n",
    "    \n",
    "frutas = open('frutas.txt')\n",
    "print(frutas.read())\n",
    "frutas.close()"
   ]
  },
  {
   "cell_type": "markdown",
   "metadata": {},
   "source": [
    "        Personagem_____Significado\n",
    "\n",
    "\n",
    "        'r'            aberto para leitura (padrão)\n",
    "\n",
    "        'w'             aberto para gravação, truncando o arquivo primeiro\n",
    "\n",
    "        'x'             aberto para criação exclusiva, falhando se o arquivo já existir\n",
    "\n",
    "        'a'             aberto para escrita, acrescentando ao final do arquivo, se existir\n",
    "\n",
    "        'b'             modo binário\n",
    "\n",
    "        't'             modo de texto (padrão)\n",
    "\n",
    "        '+'             aberto para atualização (leitura e escrita)"
   ]
  },
  {
   "cell_type": "code",
   "execution_count": 54,
   "metadata": {},
   "outputs": [
    {
     "name": "stdout",
     "output_type": "stream",
     "text": [
      "Manga\n",
      "Manga\n",
      "Maracuja\n",
      "Limao\n",
      "\n"
     ]
    }
   ],
   "source": [
    "#Exemplos\n",
    "with open('fruts.txt', 'a') as arquivo:\n",
    "    while True:\n",
    "        fruta = input('Informe o nome da fruta ou [S] para sair ').title()\n",
    "        if fruta == 'S':\n",
    "            break\n",
    "        else:\n",
    "            arquivo.write(f'{fruta}\\n')\n",
    "            \n",
    "frutas = open('fruts.txt')\n",
    "print(frutas.read())\n",
    "frutas.close()"
   ]
  },
  {
   "cell_type": "code",
   "execution_count": 68,
   "metadata": {},
   "outputs": [
    {
     "name": "stdout",
     "output_type": "stream",
     "text": [
      "Primeira Linha\n",
      "Segunda Linha\n",
      "Ultima Linha\n",
      "Ultima Linha\n"
     ]
    }
   ],
   "source": [
    "#Exemplo\n",
    "with open('outro.txt', 'r+') as arquivo:\n",
    "    arquivo.write('Primeira Linha\\n')\n",
    "    arquivo.write('Segunda Linha\\n')\n",
    "    arquivo.write('Ultima Linha\\n')\n",
    "    arquivo.write('Ultima Linha')\n",
    "\n",
    "    \n",
    "ar = open('outro.txt')\n",
    "print(ar.read())\n",
    "ar.close()"
   ]
  },
  {
   "cell_type": "code",
   "execution_count": 69,
   "metadata": {},
   "outputs": [
    {
     "name": "stdout",
     "output_type": "stream",
     "text": [
      "Este e apenas um exemplo em Python\n"
     ]
    }
   ],
   "source": [
    "#Utilizando StringIO\n",
    "#Primeiro fazemos o import\n",
    "from io import StringIO\n",
    "\n",
    "mensagem = 'Este e apenas um exemplo em Python'\n",
    "\n",
    "#Podemos criar um arquivo em memoria ja com uma string inserida\n",
    "arquivo = StringIO(mensagem)\n",
    "\n",
    "#Agora podemos visualiza\n",
    "print(arquivo.read())"
   ]
  },
  {
   "cell_type": "code",
   "execution_count": 79,
   "metadata": {},
   "outputs": [
    {
     "name": "stdout",
     "output_type": "stream",
     "text": [
      "Olá, mundo!\n",
      "Esta é uma linha.\n",
      "Esta é outra linha.\n",
      "\n"
     ]
    }
   ],
   "source": [
    "from io import StringIO\n",
    "\n",
    "# Criando um objeto StringIO\n",
    "string_buffer = StringIO()\n",
    "\n",
    "# Escrevendo dados no objeto StringIO como se fosse um arquivo\n",
    "string_buffer.write(\"Olá, mundo!\\n\")\n",
    "string_buffer.write(\"Esta é uma linha.\\n\")\n",
    "string_buffer.write(\"Esta é outra linha.\\n\")\n",
    "\n",
    "# Lendo os dados do objeto StringIO\n",
    "string_buffer.seek(0)  # Voltando o ponteiro para o início do buffer\n",
    "conteudo = string_buffer.read()\n",
    "\n",
    "print(conteudo)"
   ]
  },
  {
   "cell_type": "code",
   "execution_count": null,
   "metadata": {},
   "outputs": [],
   "source": []
  },
  {
   "cell_type": "markdown",
   "metadata": {},
   "source": [
    "# **Sistema de Arquivos Navegacao**"
   ]
  },
  {
   "cell_type": "code",
   "execution_count": 72,
   "metadata": {},
   "outputs": [
    {
     "name": "stdout",
     "output_type": "stream",
     "text": [
      "g:\\Python\n"
     ]
    }
   ],
   "source": [
    "#Fazer o import\n",
    "import os\n",
    "\n",
    "#getcwd() - Pega o current work diretorio de trabalho corrente\n",
    "# Retorna o path (caminho) absoluto\n",
    "\n",
    "#Diretorio\n",
    "print(os.getcwd())"
   ]
  },
  {
   "cell_type": "code",
   "execution_count": 74,
   "metadata": {},
   "outputs": [
    {
     "name": "stdout",
     "output_type": "stream",
     "text": [
      "g:\\\n"
     ]
    }
   ],
   "source": [
    "#Para muda o diretorio podemos utilizar o chdir()\n",
    "os.chdir('..')\n",
    "print(os.getcwd())"
   ]
  },
  {
   "cell_type": "code",
   "execution_count": 75,
   "metadata": {},
   "outputs": [
    {
     "name": "stdout",
     "output_type": "stream",
     "text": [
      "False\n"
     ]
    }
   ],
   "source": [
    "#Checa se o diretorio e absoluto ou relativo\n",
    "print(os.path.isabs('home/'))"
   ]
  },
  {
   "cell_type": "code",
   "execution_count": null,
   "metadata": {},
   "outputs": [],
   "source": []
  },
  {
   "cell_type": "markdown",
   "metadata": {},
   "source": [
    "# **Sistema de Arquivos Manipulação**"
   ]
  },
  {
   "cell_type": "code",
   "execution_count": 84,
   "metadata": {},
   "outputs": [
    {
     "name": "stdout",
     "output_type": "stream",
     "text": [
      "False\n",
      "False\n",
      "False\n",
      "Temos o Diretorio Programa em Python? False\n"
     ]
    }
   ],
   "source": [
    "#Descobrindo se um arquivo ou diretorio existe\n",
    "\n",
    "import os\n",
    "\n",
    "\n",
    "#Diretorio\n",
    "print(os.path.exists('python.txt'))\n",
    "print(os.path.exists('frutas.txt'))\n",
    "print(os.path.exists('Programa.txt'))\n",
    "print(f\"Temos o Diretorio Programa em Python? {os.path.exists('Programa em Python.txt')}\")\n"
   ]
  },
  {
   "cell_type": "code",
   "execution_count": 85,
   "metadata": {},
   "outputs": [],
   "source": [
    "#Criando arquivos\n",
    "#Forma 1\n",
    "import os\n",
    "open('arquivo-teste.txt', 'w').close()\n",
    "\n",
    "#Forma 2\n",
    "open('arquivo-teste2.txt', 'a').close()\n",
    "\n",
    "#Forma 3\n",
    "with open('arquivo-teste3.txt', 'w') as arquivo:\n",
    "    pass"
   ]
  },
  {
   "cell_type": "code",
   "execution_count": 86,
   "metadata": {},
   "outputs": [],
   "source": [
    "#Renomeando\n",
    "os.rename('arquivo-teste.txt', 'Renomeado10.txt')\n",
    "os.rename('arquivo-teste2.txt', 'Renomeado20.txt')"
   ]
  },
  {
   "cell_type": "code",
   "execution_count": null,
   "metadata": {},
   "outputs": [],
   "source": []
  }
 ],
 "metadata": {
  "kernelspec": {
   "display_name": "base",
   "language": "python",
   "name": "python3"
  },
  "language_info": {
   "codemirror_mode": {
    "name": "ipython",
    "version": 3
   },
   "file_extension": ".py",
   "mimetype": "text/x-python",
   "name": "python",
   "nbconvert_exporter": "python",
   "pygments_lexer": "ipython3",
   "version": "3.11.5"
  }
 },
 "nbformat": 4,
 "nbformat_minor": 2
}
