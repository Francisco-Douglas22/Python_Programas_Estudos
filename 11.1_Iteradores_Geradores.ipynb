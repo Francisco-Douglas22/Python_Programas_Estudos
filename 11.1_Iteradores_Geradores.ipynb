{
 "cells": [
  {
   "cell_type": "markdown",
   "metadata": {},
   "source": [
    "# **Iteradores em Python**"
   ]
  },
  {
   "cell_type": "code",
   "execution_count": 1,
   "metadata": {},
   "outputs": [
    {
     "data": {
      "text/plain": [
       "'\\nIterator -\\n    - Um objeto que pode ter iterador\\n    - Um objeto que retorna um dado, sendo um elemento por vez quando uma funcao next() e chamada\\n    \\nIterable -\\n    - Um objeto que ira retorna um iterator quando a funcao inter() for chamada\\n\\n'"
      ]
     },
     "execution_count": 1,
     "metadata": {},
     "output_type": "execute_result"
    }
   ],
   "source": [
    "'''\n",
    "Iterator -\n",
    "    - Um objeto que pode ter iterador\n",
    "    - Um objeto que retorna um dado, sendo um elemento por vez quando uma funcao next() e chamada\n",
    "    \n",
    "Iterable -\n",
    "    - Um objeto que ira retorna um iterator quando a funcao inter() for chamada\n",
    "\n",
    "'''"
   ]
  },
  {
   "cell_type": "code",
   "execution_count": 2,
   "metadata": {},
   "outputs": [
    {
     "name": "stdout",
     "output_type": "stream",
     "text": [
      "P\n",
      "y\n",
      "t\n",
      "\n",
      "\n",
      "Numeros\n",
      "1\n",
      "2\n",
      "3\n"
     ]
    }
   ],
   "source": [
    "#Exemplo\n",
    "nome = \"Python programador\" # E um iterable mas nao e um iterator\n",
    "numeros = [1, 2, 3, 4, 5, 6, 7] # E um iterable mas nao e iterator\n",
    "\n",
    "# print(next(nome)) #Retornara erro\n",
    "\n",
    "it1 = iter(nome)\n",
    "it2 = iter(numeros)\n",
    "\n",
    "print(next(it1))\n",
    "print(next(it1))\n",
    "print(next(it1))\n",
    "\n",
    "print('\\n')\n",
    "\n",
    "print('Numeros')\n",
    "print(next(it2))\n",
    "print(next(it2))\n",
    "print(next(it2))\n",
    "\n"
   ]
  },
  {
   "cell_type": "code",
   "execution_count": 14,
   "metadata": {},
   "outputs": [
    {
     "name": "stdout",
     "output_type": "stream",
     "text": [
      "P y t h o n   p r o g r a m a d o r \n",
      "\n",
      "1 2 3 4 5 6 7 "
     ]
    }
   ],
   "source": [
    "#Utilizando o for\n",
    "#Exemplo\n",
    "nome = \"Python programador\" # E um iterable mas nao e um iterator\n",
    "numeros = [1, 2, 3, 4, 5, 6, 7] # E um iterable mas nao e iterator\n",
    "\n",
    "# print(next(nome)) #Retornara erro\n",
    "it1 = iter(nome)\n",
    "it2 = iter(numeros)\n",
    "\n",
    "for n in nome:\n",
    "    print(next(it1), end=' ')\n",
    "    \n",
    "print('\\n')\n",
    "\n",
    "for n in numeros:\n",
    "    print(next(it2), end=' ')"
   ]
  },
  {
   "cell_type": "code",
   "execution_count": 16,
   "metadata": {},
   "outputs": [
    {
     "name": "stdout",
     "output_type": "stream",
     "text": [
      "O r i e n t a c a o   a   O b j e t o s   c o m   P y t h o n "
     ]
    }
   ],
   "source": [
    "#Exemplo utilizando apenas o for\n",
    "nom = 'Orientacao a Objetos com Python'\n",
    "\n",
    "for letra in nom:\n",
    "    print(f'{letra}',end=' ')"
   ]
  },
  {
   "cell_type": "code",
   "execution_count": null,
   "metadata": {},
   "outputs": [],
   "source": []
  },
  {
   "cell_type": "markdown",
   "metadata": {},
   "source": [
    "# **Criando uma Versão do Loop**"
   ]
  },
  {
   "cell_type": "code",
   "execution_count": 26,
   "metadata": {},
   "outputs": [
    {
     "name": "stdout",
     "output_type": "stream",
     "text": [
      "P y t h o n   P r o g r a m a d o r  \n",
      "E s t o u   p r o g r a m a n d o   e m   P y t h o n None\n"
     ]
    }
   ],
   "source": [
    "#Criando uma propria versao de loop como exemplo\n",
    "\n",
    "def meu_for(interavel):\n",
    "    it = iter(interavel)\n",
    "    \n",
    "    while True:\n",
    "        try:\n",
    "            print(next(it), end=' ')\n",
    "        except StopIteration:\n",
    "            break\n",
    "        \n",
    "meu_for('Python Programador')\n",
    "\n",
    "print(' ')\n",
    "\n",
    "nome = 'Estou programando em Python'\n",
    "print(meu_for(nome))"
   ]
  },
  {
   "cell_type": "code",
   "execution_count": null,
   "metadata": {},
   "outputs": [],
   "source": []
  },
  {
   "cell_type": "markdown",
   "metadata": {},
   "source": [
    "## **Customizando Iterator**"
   ]
  },
  {
   "cell_type": "code",
   "execution_count": 2,
   "metadata": {},
   "outputs": [
    {
     "name": "stdout",
     "output_type": "stream",
     "text": [
      "P\n",
      "y\n",
      "t\n",
      "h\n"
     ]
    }
   ],
   "source": [
    "#Escrevendo um iterator customizado\n",
    "class Contador:\n",
    "    def __init__(self, menor, maior):\n",
    "        self.menor = menor\n",
    "        self.maior = maior\n",
    "        \n",
    "        \n",
    "    def _iter_(self):\n",
    "        return self\n",
    "    \n",
    "    def __next__(self):\n",
    "        if self.menor < self.maior:\n",
    "            numero = self.menor\n",
    "            self.menor = self.menor + 1\n",
    "            return numero\n",
    "        raise StopIteration()\n",
    "    \n",
    "con = Contador(1, 6)\n",
    "it = iter('Python')\n",
    "print(next(it))\n",
    "print(next(it))\n",
    "print(next(it))\n",
    "print(next(it))"
   ]
  },
  {
   "cell_type": "code",
   "execution_count": null,
   "metadata": {},
   "outputs": [],
   "source": []
  },
  {
   "cell_type": "markdown",
   "metadata": {},
   "source": [
    "# **Geradores**"
   ]
  },
  {
   "cell_type": "code",
   "execution_count": 3,
   "metadata": {},
   "outputs": [
    {
     "data": {
      "text/plain": [
       "'\\nGeradores (Generators) sao Iterators (Iteradores)\\n\\nOBS: O Contrario nao e verdadeiro. Ou seja nem todo Iterator e um Generator\\n\\nOutras informações\\n- Generators Podem sair criados com funcoes geradoras\\n- Funcoes geradoras utilizam a palavra reservada yeild\\n- Generators podem ser criados com expresssoes Geradoras\\n\\nDiferança entre Funções e Generators Functions (Funcoes geradoras)\\n\\n/ Funções                                   /Generators\\n- Utilizam return                           - Utilizam yild\\n- retorna uma so vez                        - Podem utilizar yield multiplas vezes\\n- Quando executada, retorna um valor        - Quando executada, retorna um Generator\\n'"
      ]
     },
     "execution_count": 3,
     "metadata": {},
     "output_type": "execute_result"
    }
   ],
   "source": [
    "#Geradores\n",
    "'''\n",
    "Geradores (Generators) sao Iterators (Iteradores)\n",
    "\n",
    "OBS: O Contrario nao e verdadeiro. Ou seja nem todo Iterator e um Generator\n",
    "\n",
    "Outras informações\n",
    "- Generators Podem sair criados com funcoes geradoras\n",
    "- Funcoes geradoras utilizam a palavra reservada yeild\n",
    "- Generators podem ser criados com expresssoes Geradoras\n",
    "\n",
    "Diferança entre Funções e Generators Functions (Funcoes geradoras)\n",
    "\n",
    "/ Funções                                   /Generators\n",
    "- Utilizam return                           - Utilizam yild\n",
    "- retorna uma so vez                        - Podem utilizar yield multiplas vezes\n",
    "- Quando executada, retorna um valor        - Quando executada, retorna um Generator\n",
    "'''"
   ]
  },
  {
   "cell_type": "code",
   "execution_count": 4,
   "metadata": {},
   "outputs": [
    {
     "name": "stdout",
     "output_type": "stream",
     "text": [
      "<generator object conta_ate at 0x74b15c24c520> <class 'generator'>\n"
     ]
    }
   ],
   "source": [
    "#Exemplo Generator function\n",
    "def conta_ate(valor_maximo):\n",
    "    contador = 1\n",
    "    \n",
    "    while contador <= valor_maximo:\n",
    "        yield contador\n",
    "        contador += 1\n",
    "    \n",
    "gen = conta_ate(4)\n",
    "print(gen, type(gen))"
   ]
  },
  {
   "cell_type": "code",
   "execution_count": null,
   "metadata": {},
   "outputs": [],
   "source": []
  },
  {
   "cell_type": "markdown",
   "metadata": {},
   "source": [
    "# **Teste de Memoria com Generators**"
   ]
  },
  {
   "cell_type": "code",
   "execution_count": 5,
   "metadata": {},
   "outputs": [
    {
     "name": "stdout",
     "output_type": "stream",
     "text": [
      "1 + 1 + 2 + 3 + 5 + 8 + 13 + 21 + 34 + 55 + Terminou\n"
     ]
    }
   ],
   "source": [
    "#Funcao utilizando Listas\n",
    "def fib_listas(max):\n",
    "    nums = []\n",
    "    \n",
    "    a, b = 0, 1\n",
    "    \n",
    "    while len(nums) < max:\n",
    "        nums.append(b)\n",
    "        a, b = b, a + b\n",
    "        \n",
    "    return nums\n",
    "\n",
    "#Teste\n",
    "for n in fib_listas(10):\n",
    "    print(n, end=' + ')\n",
    "    \n",
    "print('Terminou')"
   ]
  },
  {
   "cell_type": "code",
   "execution_count": 7,
   "metadata": {},
   "outputs": [
    {
     "name": "stdout",
     "output_type": "stream",
     "text": [
      "1 + 1 + 2 + 3 + 5 + 8 + 13 + 21 + 34 + 55 + 89 + 144 + 233 + 377 + 610 + Fim\n"
     ]
    }
   ],
   "source": [
    "#Mesma funcao utlizando Generators\n",
    "def fib_gen(max):\n",
    "    a, b, contador = 0, 1, 0\n",
    "    \n",
    "    while contador < max:\n",
    "        a, b = b, a+b\n",
    "        \n",
    "        yield a\n",
    "        contador += 1\n",
    "        \n",
    "        \n",
    "#Teste\n",
    "for n in fib_gen(15):\n",
    "    print(n, end=' + ')\n",
    "print('Fim')"
   ]
  },
  {
   "cell_type": "code",
   "execution_count": 12,
   "metadata": {},
   "outputs": [
    {
     "name": "stdout",
     "output_type": "stream",
     "text": [
      "<generator object nums at 0x74b15c24c2b0> <class 'generator'>\n",
      "1\n",
      "2\n",
      "3\n",
      "4\n",
      "<generator object <genexpr> at 0x74b15c24e190> <class 'generator'>\n",
      "1\n",
      "2\n",
      "3\n",
      "4\n"
     ]
    }
   ],
   "source": [
    "#Teste de Velocidade com Expressoes Geradoras\n",
    "def nums():\n",
    "    for num in range(1, 10):\n",
    "        yield num\n",
    "        \n",
    "teste1 = nums()\n",
    "print(teste1, type(teste1))\n",
    "\n",
    "print(next(teste1))\n",
    "print(next(teste1))\n",
    "print(next(teste1))\n",
    "print(next(teste1))\n",
    "\n",
    "#Generator expression\n",
    "teste2 = (num for num in range(1, 10))\n",
    "print(teste2, type(teste2))\n",
    "print(next(teste2))\n",
    "print(next(teste2))\n",
    "print(next(teste2))\n",
    "print(next(teste2))\n"
   ]
  },
  {
   "cell_type": "code",
   "execution_count": 15,
   "metadata": {},
   "outputs": [
    {
     "name": "stdout",
     "output_type": "stream",
     "text": [
      "4999999950000000\n",
      "Generator Expression: 8.333488702774048\n"
     ]
    }
   ],
   "source": [
    "#Realizando o teste de velocidade\n",
    "from time import time\n",
    "\n",
    "#Utilizando Generator expression\n",
    "gen_inicio = time()\n",
    "\n",
    "print(sum(num for num in range(100000000))) # 100 Milhoes\n",
    "\n",
    "#Calculo do tempo\n",
    "gen_tempo = time() - gen_inicio\n",
    "print(f'Generator Expression: {gen_tempo}')"
   ]
  },
  {
   "cell_type": "code",
   "execution_count": 16,
   "metadata": {},
   "outputs": [
    {
     "name": "stdout",
     "output_type": "stream",
     "text": [
      "4999999950000000\n",
      "List Comprehension 40.28422999382019\n"
     ]
    }
   ],
   "source": [
    "#Utilizando List Comprehension\n",
    "list_inicio = time()\n",
    "\n",
    "print(sum([num for num in range(100000000)])) # 100 Milhoes\n",
    "list_tempo = time() - list_inicio\n",
    "print(f'List Comprehension {list_tempo}')"
   ]
  },
  {
   "cell_type": "code",
   "execution_count": null,
   "metadata": {},
   "outputs": [],
   "source": []
  },
  {
   "cell_type": "code",
   "execution_count": null,
   "metadata": {},
   "outputs": [],
   "source": []
  },
  {
   "cell_type": "markdown",
   "metadata": {},
   "source": [
    "# **Decoradores em Python**"
   ]
  },
  {
   "cell_type": "code",
   "execution_count": 22,
   "metadata": {},
   "outputs": [
    {
     "name": "stdout",
     "output_type": "stream",
     "text": [
      "8\n",
      "2.0\n"
     ]
    }
   ],
   "source": [
    "#Funções de maior grandeza - Higher Order Functions - HOF\n",
    "\n",
    "'''\n",
    "Quando uma linguagem de programacao suporte HOF, indica que podemos ter funcoes que retorna\n",
    "outras funcoes como resultado ou mesmo que podemos passar funcoes como argumentos para outras\n",
    "funcoes, e ate mesmo cria variaveis do tipo de funcoes nos nossos programas\n",
    "'''\n",
    "\n",
    "#Exemplo - Definindo funcoes\n",
    "def soma(a, b):\n",
    "    return a + b\n",
    "\n",
    "def diminuir(a, b):\n",
    "    return a - b\n",
    "\n",
    "def multiplicar(a, b):\n",
    "    return a * b\n",
    "\n",
    "def dividir(a, b):\n",
    "    return a / b\n",
    "\n",
    "def calcular(num1, num2, funcao):\n",
    "    return funcao(num1, num2)\n",
    "\n",
    "#Testando\n",
    "print(calcular(5, 3, soma))\n",
    "print(calcular(12, 6, dividir))"
   ]
  },
  {
   "cell_type": "code",
   "execution_count": 26,
   "metadata": {},
   "outputs": [
    {
     "name": "stdout",
     "output_type": "stream",
     "text": [
      "Te amo Francisco Douglas\n"
     ]
    }
   ],
   "source": [
    "#Nested Function - Funcoes Aninhadas\n",
    "'''\n",
    "Em Python podemos ter funcoes dentro de funcoes, que sao conhecidas por Nested Functions\n",
    "ou tambem Inner Functions (Funcoes Internas)'''\n",
    "\n",
    "from random import choice\n",
    "\n",
    "def cumprimento(pessoa):\n",
    "    def humor():\n",
    "        return choice(('E ai', 'Como esta', 'Tudo bem', 'Va a Merda', 'Grosseiro', 'Te amo'))\n",
    "    return humor() + pessoa\n",
    "\n",
    "print(cumprimento(' Francisco Douglas'))"
   ]
  },
  {
   "cell_type": "code",
   "execution_count": 31,
   "metadata": {},
   "outputs": [
    {
     "name": "stdout",
     "output_type": "stream",
     "text": [
      "heheheehhe\n"
     ]
    }
   ],
   "source": [
    "#Retornando funcoes de outras funcoes\n",
    "\n",
    "from random import choice\n",
    "\n",
    "def faz_me_rir():\n",
    "    def rir():\n",
    "        return choice((\"hahahahaha\", 'kkkkkkk', 'heheheehhe'))\n",
    "    return rir\n",
    "\n",
    "#Teste\n",
    "rindo = faz_me_rir()\n",
    "print(rindo())"
   ]
  },
  {
   "cell_type": "code",
   "execution_count": 34,
   "metadata": {},
   "outputs": [
    {
     "name": "stdout",
     "output_type": "stream",
     "text": [
      "heheheheh Francisco Douglas\n",
      "kkkkkkk Francisco Douglas\n"
     ]
    }
   ],
   "source": [
    "#Inner functions (Funcoes internas  / Nested Functions)\n",
    "\n",
    "from random import choice\n",
    "\n",
    "def faz_rir(pessoa):\n",
    "    def da_risada():\n",
    "        risada = choice(('ahahahaha', 'heheheheh', 'kkkkkkk'))\n",
    "        return f'{risada} {pessoa}'\n",
    "    return da_risada\n",
    "\n",
    "#teste\n",
    "rindo = faz_rir(\"Francisco Douglas\")\n",
    "print(rindo())\n",
    "print(rindo())"
   ]
  },
  {
   "cell_type": "code",
   "execution_count": null,
   "metadata": {},
   "outputs": [],
   "source": []
  },
  {
   "cell_type": "markdown",
   "metadata": {},
   "source": [
    "# **Decoradores**"
   ]
  },
  {
   "cell_type": "code",
   "execution_count": 40,
   "metadata": {},
   "outputs": [
    {
     "data": {
      "text/plain": [
       "' \\nDecoradores (Decorators)\\nO que sao decorators\\n\\n- Decorators sao funcoes que envolvem outras funcoes e aprimoram seus comportamentos\\n- Decorators tambem sao exemplos de High Order Functions\\n- Decoratros tem uma sintaxe propria, usando \"@\" (Syntact Sugar / Açucar Sintatico)\\n'"
      ]
     },
     "execution_count": 40,
     "metadata": {},
     "output_type": "execute_result"
    }
   ],
   "source": [
    "\"\"\" \n",
    "Decoradores (Decorators)\n",
    "O que sao decorators\n",
    "\n",
    "- Decorators sao funcoes que envolvem outras funcoes e aprimoram seus comportamentos\n",
    "- Decorators tambem sao exemplos de High Order Functions\n",
    "- Decoratros tem uma sintaxe propria, usando \"@\" (Syntact Sugar / Açucar Sintatico)\n",
    "\"\"\""
   ]
  },
  {
   "cell_type": "code",
   "execution_count": 39,
   "metadata": {},
   "outputs": [
    {
     "name": "stdout",
     "output_type": "stream",
     "text": [
      "Foi um prazer conhecer voce\n",
      "Seja bem-vendo(a) Programando em Python\n",
      "Tenha um otimo dia\n"
     ]
    }
   ],
   "source": [
    "#Decorators como funoes (Sintaxe não recomendada / Sem Açuca sintatico)\n",
    "def seja_educado(funcao):\n",
    "    def sendo():\n",
    "        print('Foi um prazer conhecer voce')\n",
    "        funcao()\n",
    "        print('Tenha um otimo dia')\n",
    "    return sendo\n",
    "\n",
    "\n",
    "def saudacao():\n",
    "    print('Seja bem-vendo(a) Programando em Python')\n",
    "\n",
    "#Testando\n",
    "teste = seja_educado(saudacao)\n",
    "teste()"
   ]
  },
  {
   "cell_type": "code",
   "execution_count": 43,
   "metadata": {},
   "outputs": [
    {
     "name": "stdout",
     "output_type": "stream",
     "text": [
      "Foi um prazer conhecer voce\n",
      "Eu sou um desenvolvedor\n",
      "Tenha um otimo dia\n",
      "Foi um prazer conhecer voce\n",
      "Quero dormir\n",
      "Tenha um otimo dia\n"
     ]
    }
   ],
   "source": [
    "#Utilizando Decorators com Systanx Sugar (Açucar Sintatico)\n",
    "def ser_educado(funcao):\n",
    "    def sendo_mesmo():\n",
    "        print('Foi um prazer conhecer voce')\n",
    "        funcao()\n",
    "        print('Tenha um otimo dia')\n",
    "    return sendo_mesmo\n",
    "\n",
    "@ser_educado\n",
    "def apresentando():\n",
    "    print('Eu sou um desenvolvedor')\n",
    "    \n",
    "#Teste\n",
    "apresentando()\n",
    "\n",
    "#Outro exemplo\n",
    "@ser_educado\n",
    "def dormir():\n",
    "    print('Quero dormir')\n",
    "    \n",
    "dormir()"
   ]
  },
  {
   "cell_type": "code",
   "execution_count": 45,
   "metadata": {},
   "outputs": [
    {
     "name": "stdout",
     "output_type": "stream",
     "text": [
      "Ola Eu Sou Francisco Douglas\n",
      "Ola Eu Sou Laurice Mota\n",
      "Ola, Eu Gostaria De Picanha, Acompanhado De Pizza, Por Favor\n"
     ]
    }
   ],
   "source": [
    "#Decorators com Diferentes Assinaturas\n",
    "#Devemos utiliza a Decorator Patten\n",
    "\n",
    "def gritar(funcao):\n",
    "    def aumentar(*args, **kwargs):\n",
    "        return funcao(*args, **kwargs).title()\n",
    "    return aumentar\n",
    "\n",
    "\n",
    "@gritar\n",
    "def saudacao(nome):\n",
    "    return f'Ola eu sou {nome}'\n",
    "\n",
    "@gritar\n",
    "def ordenar(principal, acompanhamento):\n",
    "    return f'Ola, eu gostaria de {principal}, acompanhado de {acompanhamento}, por favor'\n",
    "\n",
    "#teste\n",
    "print(saudacao(\"Francisco Douglas\"))\n",
    "print(saudacao(\"Laurice Mota\"))\n",
    "print(ordenar('Picanha', 'Pizza'))"
   ]
  },
  {
   "cell_type": "code",
   "execution_count": 54,
   "metadata": {},
   "outputs": [
    {
     "name": "stdout",
     "output_type": "stream",
     "text": [
      "22\n",
      "Valor incorreto! Primeiro argumento precisa ser 10\n",
      "\n",
      "\n",
      "('pizza', 'Cochinha')\n",
      "None\n",
      "Valor incorreto! Primeiro argumento precisa ser pizza\n"
     ]
    }
   ],
   "source": [
    "#Decoradores com argumentos\n",
    "def verificar_primeiro_argumento(valor):\n",
    "    def interna(funcao):\n",
    "        def outra(*args, **kwargs):\n",
    "            if args and args[0] != valor:\n",
    "                return f'Valor incorreto! Primeiro argumento precisa ser {valor}'\n",
    "            return funcao(*args, **kwargs)\n",
    "        return outra\n",
    "    return interna\n",
    "\n",
    "@verificar_primeiro_argumento('pizza')\n",
    "def comida_favorita(*args):\n",
    "    print(args)\n",
    "    \n",
    "@verificar_primeiro_argumento(10)\n",
    "def soma_dez(num1, num2):\n",
    "    return num1 + num2\n",
    "\n",
    "#Teste \n",
    "print(soma_dez(10, 12))\n",
    "print(soma_dez(5, 12))\n",
    "\n",
    "print('\\n')\n",
    "\n",
    "print(comida_favorita('pizza', 'Cochinha'))\n",
    "print(comida_favorita('Macarrao', 'Lazanha'))"
   ]
  },
  {
   "cell_type": "code",
   "execution_count": null,
   "metadata": {},
   "outputs": [],
   "source": []
  },
  {
   "cell_type": "code",
   "execution_count": 59,
   "metadata": {},
   "outputs": [
    {
     "name": "stdout",
     "output_type": "stream",
     "text": [
      "Voce esta chamando soma\n",
      "Aqui a documentacao: Soma dois numeros\n",
      "30\n",
      "soma\n",
      "Soma dois numeros\n"
     ]
    }
   ],
   "source": [
    "#Preservando metadatas com wraps\n",
    "'''\n",
    "Metadatas - Sao dados intrisecos em arquivos\n",
    "wraps - Sao funcoes que envolvem elementos com diversas finalidades\n",
    "'''\n",
    "\n",
    "from functools import wraps\n",
    "\n",
    "#Problema\n",
    "def ver_log(funcao):\n",
    "    @wraps(funcao) #So o fato de eu coloca o wraps ja resolve varios problemas\n",
    "    \n",
    "    def logar(*args, **kwargs):\n",
    "        \"\"\"Eu sou uma funcao (logar) dentro de outra funcao\"\"\"\n",
    "        \n",
    "        print(f'Voce esta chamando {funcao.__name__}')\n",
    "        print(f'Aqui a documentacao: {funcao.__doc__}')\n",
    "        return funcao(*args, **kwargs)\n",
    "    return logar\n",
    "\n",
    "@ver_log\n",
    "def soma(a, b):\n",
    "    \"\"\"Soma dois numeros\"\"\"\n",
    "    return a + b\n",
    "\n",
    "print(soma(10, 20))\n",
    "\n",
    "print(soma.__name__)\n",
    "print(soma.__doc__)"
   ]
  },
  {
   "cell_type": "code",
   "execution_count": 61,
   "metadata": {},
   "outputs": [
    {
     "name": "stdout",
     "output_type": "stream",
     "text": [
      "Python\n",
      "Python\n",
      "Python\n",
      "0.2\n"
     ]
    }
   ],
   "source": [
    "#Forçando Tipos de Dados com Decoradores\n",
    "def forca_tipo(*tipos):\n",
    "    def decorador(funcao):\n",
    "        def converte(*args, **Kwargs):\n",
    "            novo_args = []\n",
    "            \n",
    "            for(valor , tipo) in zip(args, tipos):\n",
    "                novo_args.append(tipo(valor))\n",
    "            return funcao(*novo_args, **Kwargs)\n",
    "        return converte\n",
    "    return decorador\n",
    "\n",
    "@forca_tipo(str, int)\n",
    "def repete_msg(msg, vezes):\n",
    "    for vez in range(vezes):\n",
    "        print(msg)\n",
    "        \n",
    "repete_msg('Python', '3')\n",
    "\n",
    "@forca_tipo(float, float)\n",
    "def dividir(a, b):\n",
    "    print(a/b)\n",
    "dividir('1', 5)"
   ]
  },
  {
   "cell_type": "code",
   "execution_count": null,
   "metadata": {},
   "outputs": [],
   "source": []
  },
  {
   "cell_type": "code",
   "execution_count": null,
   "metadata": {},
   "outputs": [],
   "source": [
    "# desfazer = [] -> Refazer ['caminhar', 'fazer café']\n",
    "# refazer = todo ['fazer café']\n",
    "# refazer = todo ['fazer café', 'caminhar']\n",
    "import os\n",
    "\n",
    "\n",
    "def listar(tarefas):\n",
    "    print()\n",
    "    if not tarefas:\n",
    "        print('Nenhuma tarefa para listar')\n",
    "        return\n",
    "\n",
    "    print('Tarefas:')\n",
    "    for tarefa in tarefas:\n",
    "        print(f'\\t{tarefa}')\n",
    "    print()\n",
    "\n",
    "\n",
    "def desfazer(tarefas, tarefas_refazer):\n",
    "    print()\n",
    "    if not tarefas:\n",
    "        print('Nenhuma tarefa para desfazer')\n",
    "        return\n",
    "\n",
    "    tarefa = tarefas.pop()\n",
    "    print(f'{tarefa=} removida da lista de tarefas.')\n",
    "    tarefas_refazer.append(tarefa)\n",
    "    print()\n",
    "\n",
    "\n",
    "def refazer(tarefas, tarefas_refazer):\n",
    "    print()\n",
    "    if not tarefas_refazer:\n",
    "        print('Nenhuma tarefa para refazer')\n",
    "        return\n",
    "\n",
    "    tarefa = tarefas_refazer.pop()\n",
    "    print(f'{tarefa=} adicionada na lista de tarefas.')\n",
    "    tarefas.append(tarefa)\n",
    "    print()\n",
    "\n",
    "\n",
    "def adicionar(tarefa, tarefas):\n",
    "    print()\n",
    "    tarefa = tarefa.strip()\n",
    "    if not tarefa:\n",
    "        print('Você não digitou uma tarefa.')\n",
    "        return\n",
    "    print(f'{tarefa=} adicionada na lista de tarefas.')\n",
    "    tarefas.append(tarefa)\n",
    "    print()\n",
    "\n",
    "\n",
    "tarefas = []\n",
    "tarefas_refazer = []\n",
    "\n",
    "while True:\n",
    "    print('Comandos: listar, desfazer e refazer')\n",
    "    tarefa = input('Digite uma tarefa ou comando: ')\n",
    "\n",
    "    if tarefa == 'listar':\n",
    "        listar(tarefas)\n",
    "        continue\n",
    "    elif tarefa == 'desfazer':\n",
    "        desfazer(tarefas, tarefas_refazer)\n",
    "        listar(tarefas)\n",
    "        continue\n",
    "    elif tarefa == 'refazer':\n",
    "        refazer(tarefas, tarefas_refazer)\n",
    "        listar(tarefas)\n",
    "        continue\n",
    "    elif tarefa == 'clear':\n",
    "        os.system('clear')\n",
    "        continue\n",
    "    else:\n",
    "        adicionar(tarefa, tarefas)\n",
    "        listar(tarefas)\n",
    "        continue"
   ]
  },
  {
   "cell_type": "code",
   "execution_count": null,
   "metadata": {},
   "outputs": [],
   "source": []
  }
 ],
 "metadata": {
  "kernelspec": {
   "display_name": "Python 3 (ipykernel)",
   "language": "python",
   "name": "python3"
  },
  "language_info": {
   "codemirror_mode": {
    "name": "ipython",
    "version": 3
   },
   "file_extension": ".py",
   "mimetype": "text/x-python",
   "name": "python",
   "nbconvert_exporter": "python",
   "pygments_lexer": "ipython3",
   "version": "3.12.2"
  }
 },
 "nbformat": 4,
 "nbformat_minor": 2
}
