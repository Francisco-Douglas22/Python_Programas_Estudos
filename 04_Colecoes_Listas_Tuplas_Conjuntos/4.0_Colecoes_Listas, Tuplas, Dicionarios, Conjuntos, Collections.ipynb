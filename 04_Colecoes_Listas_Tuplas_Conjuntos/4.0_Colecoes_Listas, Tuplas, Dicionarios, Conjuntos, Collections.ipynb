{
 "cells": [
  {
   "cell_type": "markdown",
   "id": "21a99506",
   "metadata": {},
   "source": [
    "# <font color='gree'>***Listas em Python***</font>"
   ]
  },
  {
   "cell_type": "markdown",
   "id": "850ccef4",
   "metadata": {},
   "source": [
    "As listas em Python são uma estrutura de dados versátil e poderosa usada para armazenar uma coleção ordenada de elementos. Elas são mutáveis, o que significa que você pode adicionar, remover e modificar elementos facilmente. As listas são definidas usando colchetes `[]`, e os elementos dentro delas são separados por vírgulas.\n",
    "\n",
    "### Criando uma Lista:\n",
    "\n",
    "```python\n",
    "minha_lista = [1, 2, 3, 4, 5]\n",
    "```\n",
    "\n",
    "### Acessando Elementos:\n",
    "\n",
    "Você pode acessar elementos individuais em uma lista usando índices (começando em 0 para o primeiro elemento). Também é possível acessar elementos da lista de trás para frente usando índices negativos (-1 representa o último elemento, -2 representa o penúltimo e assim por diante).\n",
    "\n",
    "```python\n",
    "primeiro_elemento = minha_lista[0]\n",
    "ultimo_elemento = minha_lista[-1]\n",
    "```\n",
    "\n",
    "### Modificando Elementos:\n",
    "\n",
    "Você pode modificar os elementos de uma lista atribuindo um novo valor a um índice específico.\n",
    "\n",
    "```python\n",
    "minha_lista[0] = 10\n",
    "```\n",
    "\n",
    "### Adicionando Elementos:\n",
    "\n",
    "Você pode adicionar novos elementos a uma lista usando os métodos `append()` para adicionar um elemento ao final da lista e `insert()` para adicionar um elemento em uma posição específica.\n",
    "\n",
    "```python\n",
    "minha_lista.append(6)\n",
    "minha_lista.insert(2, 20)  # Adiciona o valor 20 na posição 2\n",
    "```\n",
    "\n",
    "### Removendo Elementos:\n",
    "\n",
    "Você pode remover elementos de uma lista usando os métodos `pop()` para remover um elemento com base no índice, `remove()` para remover um elemento específico pelo valor e `clear()` para remover todos os elementos da lista.\n",
    "\n",
    "```python\n",
    "minha_lista.pop(2)  # Remove o elemento na posição 2\n",
    "minha_lista.remove(3)  # Remove o valor 3 da lista\n",
    "minha_lista.clear()  # Remove todos os elementos da lista\n",
    "```\n",
    "\n",
    "### Outras Operações com Listas:\n",
    "\n",
    "- Você pode verificar se um elemento está presente em uma lista usando o operador `in`.\n",
    "- Você pode contar o número de ocorrências de um determinado elemento em uma lista usando o método `count()`.\n",
    "- Você pode ordenar os elementos de uma lista usando o método `sort()` ou a função `sorted()`.\n",
    "\n",
    "```python\n",
    "if 2 in minha_lista:\n",
    "    print(\"O número 2 está na lista.\")\n",
    "\n",
    "quantidade_de_2s = minha_lista.count(2)\n",
    "\n",
    "minha_lista.sort()  # Ordena a lista em ordem crescente\n",
    "```\n",
    "\n",
    "### Listas Aninhadas:\n",
    "\n",
    "Uma lista em Python pode conter outras listas como elementos. Isso é conhecido como listas aninhadas.\n",
    "\n",
    "```python\n",
    "lista_aninhada = [[1, 2, 3], [4, 5, 6], [7, 8, 9]]\n",
    "```\n",
    "\n",
    "### Compreensão de Listas:\n",
    "\n",
    "As compreensões de listas oferecem uma maneira concisa de criar listas. Permitem que você crie listas usando uma única linha de código.\n",
    "\n",
    "```python\n",
    "quadrados = [x**2 for x in range(10)]\n",
    "```\n",
    "\n",
    "As listas em Python são uma estrutura de dados flexível e útil que pode ser usada em uma variedade de situações para armazenar e manipular coleções de elementos. Elas são fundamentais para a programação em Python e desempenham um papel importante em muitos programas Python."
   ]
  },
  {
   "cell_type": "code",
   "execution_count": 1,
   "id": "5df26442",
   "metadata": {},
   "outputs": [
    {
     "name": "stdout",
     "output_type": "stream",
     "text": [
      "['__add__', '__class__', '__class_getitem__', '__contains__', '__delattr__', '__delitem__', '__dir__', '__doc__', '__eq__', '__format__', '__ge__', '__getattribute__', '__getitem__', '__getstate__', '__gt__', '__hash__', '__iadd__', '__imul__', '__init__', '__init_subclass__', '__iter__', '__le__', '__len__', '__lt__', '__mul__', '__ne__', '__new__', '__reduce__', '__reduce_ex__', '__repr__', '__reversed__', '__rmul__', '__setattr__', '__setitem__', '__sizeof__', '__str__', '__subclasshook__', 'append', 'clear', 'copy', 'count', 'extend', 'index', 'insert', 'pop', 'remove', 'reverse', 'sort']\n"
     ]
    }
   ],
   "source": [
    "#Metodos das Listas\n",
    "print(dir(list))\n"
   ]
  },
  {
   "cell_type": "code",
   "execution_count": 2,
   "id": "e7c7cb80",
   "metadata": {},
   "outputs": [],
   "source": [
    "#Criando Varias listas\n",
    "lista1 = [51, 7, 8, 9, 10]\n",
    "lista2 = list(\"Python\")\n",
    "lista3 = []\n",
    "lista4 = list(range(10))\n",
    "lista5 = list(\"Programacao\")"
   ]
  },
  {
   "cell_type": "code",
   "execution_count": 3,
   "id": "57352456",
   "metadata": {},
   "outputs": [
    {
     "name": "stdout",
     "output_type": "stream",
     "text": [
      "[7, 8, 9, 10, 51]\n",
      "['P', 'a', 'a', 'a', 'c', 'g', 'm', 'o', 'o', 'r', 'r']\n"
     ]
    }
   ],
   "source": [
    "#Ordenando uma string\n",
    "lista1.sort()\n",
    "print(lista1)\n",
    "\n",
    "#Lista5\n",
    "lista5.sort()\n",
    "print(lista5)"
   ]
  },
  {
   "cell_type": "code",
   "execution_count": 4,
   "id": "c4ac6080",
   "metadata": {},
   "outputs": [
    {
     "name": "stdout",
     "output_type": "stream",
     "text": [
      "3\n",
      "[7, 8, 9, 10, 51, 'Abraço']\n",
      "[7, 8, 9, 10, 51, 'Abraço', ['P', 'y', 't', 'h', 'o', 'n']]\n"
     ]
    }
   ],
   "source": [
    "#Contando items em uma lista\n",
    "print(lista5.count(\"a\"))\n",
    "\n",
    "#Adicionando elementos\n",
    "lista1.append(\"Abraço\")\n",
    "print(lista1)\n",
    "\n",
    "#Adicionando outra lista\n",
    "lista1.append(lista2)\n",
    "print(lista1)"
   ]
  },
  {
   "cell_type": "code",
   "execution_count": 5,
   "id": "a8ce02e7",
   "metadata": {},
   "outputs": [
    {
     "name": "stdout",
     "output_type": "stream",
     "text": [
      "['P', 'y', 't', 'h', 'o', 'n', 345, 456, 678]\n",
      "[7, 8, 'Novo Valor', 9, 10, 51, 'Abraço', ['P', 'y', 't', 'h', 'o', 'n', 345, 456, 678]]\n",
      "['P', 'a', 'a', 'a', 'c', 'g', 'm', 'o', 'o', 'r', 'r', 0, 1, 2, 3, 4, 5, 6, 7, 8, 9]\n",
      "[1, 56, 23, 9, 8, 'A', 'B', 'c', 'd', 'e']\n",
      "[['P', 'y', 't', 'h', 'o', 'n', 345, 456, 678], 'Abraço', 51, 10, 9, 'Novo Valor', 8, 7]\n",
      "['e', 'd', 'c', 'B', 'A', 8, 9, 23, 56, 1]\n",
      "8\n",
      "9\n"
     ]
    }
   ],
   "source": [
    "#Extendendo uma lista, ele adicionara elementos a lista\n",
    "lista2.extend([345, 456, 678])\n",
    "print(lista2)\n",
    "\n",
    "#Inserindo elementos na lista a parti do indice\n",
    "lista1.insert(2, 'Novo Valor')\n",
    "print(lista1)\n",
    "\n",
    "#Juntando as listas simples\n",
    "lista6 = lista5 + lista4\n",
    "print(lista6)\n",
    "\n",
    "#Tambem possu utiliza o Extend\n",
    "listaP = [1, 56, 23, 9, 8]\n",
    "listaD = ['A', 'B', 'c', 'd', 'e']\n",
    "listaP.extend(listaD)\n",
    "print(listaP)\n",
    "\n",
    "#Invertendo lista\n",
    "lista1.reverse()\n",
    "print(lista1)\n",
    "\n",
    "#Invertendo Lista2\n",
    "print(listaP[::-1])\n",
    "\n",
    "#Tamanho de uma lista\n",
    "print(len(lista1))\n",
    "print(len(lista2))"
   ]
  },
  {
   "cell_type": "code",
   "execution_count": 6,
   "id": "122b6ff0",
   "metadata": {},
   "outputs": [
    {
     "name": "stdout",
     "output_type": "stream",
     "text": [
      "['1', 'q', 3, True]\n",
      "['1', 'q', True]\n",
      "['Programação', ' em', ' python']\n",
      "P - r - o - g - r - a - m - a - n - d - o -   - P - y - t - h - o - n\n"
     ]
    }
   ],
   "source": [
    "#Removendo o ultimo elemento com pop\n",
    "#o metodo pop remove e retorna o ultimo elemento\n",
    "listaAB = ['1','q', 3, True, 'ABC']\n",
    "listaAB.pop()\n",
    "print(listaAB)\n",
    "\n",
    "#Removendo elemento pelo indice\n",
    "listaAB.pop(2)\n",
    "print(listaAB)\n",
    "\n",
    "#Utilizando o separador split\n",
    "curso = 'Programação, em, python'\n",
    "curso = curso.split(',')\n",
    "print(curso)\n",
    "\n",
    "#Transformando strin em lista com join\n",
    "string = \"Programando Python\"\n",
    "string = ' - '.join(string)\n",
    "print(string)"
   ]
  },
  {
   "cell_type": "code",
   "execution_count": 7,
   "id": "ff971bee",
   "metadata": {},
   "outputs": [
    {
     "name": "stdout",
     "output_type": "stream",
     "text": [
      "Abc\n",
      "True\n",
      "456.7\n",
      "JH\n",
      "Python\n",
      "False\n",
      "Notebook\n",
      "Pc\n",
      "Celular\n",
      "Mega\n",
      "Ddd\n",
      "Fff\n",
      "Ddd\n",
      "Aaa\n",
      "Sss\n"
     ]
    }
   ],
   "source": [
    "#Iterando sobre listas\n",
    "lista_x = ['Abc', True, 456.7, 'JH', 'Python', False]\n",
    "\n",
    "for elemento in lista_x:\n",
    "    print(elemento)\n",
    "    \n",
    "    \n",
    "# Utilizando o while\n",
    "carrinho = []\n",
    "produto = ''\n",
    "\n",
    "while produto != 'Sair':\n",
    "    produto = str(input('Didite o produto ou [sair]: ')).title()\n",
    "    if produto != \"Sair\":\n",
    "        carrinho.append(produto)\n",
    "for produto in carrinho:\n",
    "    print(produto)"
   ]
  },
  {
   "cell_type": "code",
   "execution_count": 8,
   "id": "733c42d5",
   "metadata": {},
   "outputs": [
    {
     "name": "stdout",
     "output_type": "stream",
     "text": [
      "0 branco\n",
      "1 azul\n",
      "2 verde\n",
      "3 rosa\n",
      "4 rocho\n"
     ]
    }
   ],
   "source": [
    "#Utilizando o Enumerate\n",
    "cores = ['branco', 'azul', 'verde', 'rosa', 'rocho']\n",
    "\n",
    "for indice, cor in enumerate(cores):\n",
    "    print(indice, cor)"
   ]
  },
  {
   "cell_type": "code",
   "execution_count": 9,
   "id": "942b6132",
   "metadata": {},
   "outputs": [
    {
     "name": "stdout",
     "output_type": "stream",
     "text": [
      "3\n",
      "\n",
      "      \n",
      "7\n"
     ]
    }
   ],
   "source": [
    "#Elementos com indice\n",
    "numeros = [1, 2, 3, 4, 5, 6, 7, 8, 9, 10, 11, 12]\n",
    "print(numeros.index(4))\n",
    "\n",
    "print('''\n",
    "      ''')\n",
    "\n",
    "#Buscando a partir de tal indice\n",
    "#Busque o valor 7 a partir do indice 4\n",
    "indice = 4\n",
    "valor = 7\n",
    "print(numeros.index(valor+1, indice))"
   ]
  },
  {
   "cell_type": "code",
   "execution_count": 10,
   "id": "1beddd25",
   "metadata": {},
   "outputs": [
    {
     "name": "stdout",
     "output_type": "stream",
     "text": [
      "[1, 2, 3, 4, 5, 6, 7, 8, 9, 10, 11, 12]\n",
      "[2, 3, 4, 5, 6, 7, 8, 9, 10, 11, 12]\n",
      "[1, 2, 3, 4, 5, 6]\n",
      "[2, 4, 6, 8, 10, 12]\n",
      "[12, 11, 10, 9, 8, 7, 6, 5, 4, 3, 2, 1]\n",
      "[12, 10, 8, 6, 4, 2]\n",
      "[1, 3, 5, 7, 9, 11]\n"
     ]
    }
   ],
   "source": [
    "#Slice de lista\n",
    "lista = numeros.copy() #Copia uma lista\n",
    "print(lista)\n",
    "print(lista[1:]) #Pegue a partir do indice 1\n",
    "print(lista[:6]) #Vai do indice 0 ate o 6\n",
    "print(lista[1:13:2]) #Vai do indice 1 ate o 13 pulando de 2 em 2\n",
    "print(lista[::-1]) #Traga a lista inversa\n",
    "print(lista[::-2]) #Traga a lista inversa pulando de 2 em 2\n",
    "print(lista[0::2]) #Começa do 0 e vai ate o final de 2 em 2"
   ]
  },
  {
   "cell_type": "code",
   "execution_count": 11,
   "id": "5cf1cc82",
   "metadata": {},
   "outputs": [
    {
     "name": "stdout",
     "output_type": "stream",
     "text": [
      "[1, 2, 3, 4, 5, 6, 7, 8, 9, 10, 11, 12]\n",
      "12 \tMaior Numero\n",
      "1 \tMeno Numero\n",
      "12 \tTamanho da lista\n",
      "78 \tSoma de todos os numeros\n"
     ]
    }
   ],
   "source": [
    "#Valores em uma lista\n",
    "numeros = lista.copy()\n",
    "print(numeros)\n",
    "\n",
    "print(max(lista), '\\tMaior Numero')\n",
    "print(min(lista), '\\tMeno Numero')\n",
    "print(len(lista), '\\tTamanho da lista')\n",
    "print(sum(lista), '\\tSoma de todos os numeros')"
   ]
  },
  {
   "cell_type": "markdown",
   "id": "232d9493",
   "metadata": {},
   "source": [
    "-\n",
    "-\n",
    "-\n",
    "-\n",
    "-\n",
    "-"
   ]
  },
  {
   "cell_type": "markdown",
   "id": "1aee6e66",
   "metadata": {},
   "source": [
    "# <font color='blue'>***Tuplas***</font>"
   ]
  },
  {
   "cell_type": "markdown",
   "id": "8b4e9546",
   "metadata": {},
   "source": [
    "Em Python, uma tupla é uma estrutura de dados semelhante a uma lista, mas com uma diferença crucial: ela é imutável. Isso significa que, uma vez que uma tupla é criada, seus elementos não podem ser alterados, adicionados ou removidos. As tuplas são definidas utilizando parênteses `( )` e os elementos são separados por vírgulas.\n",
    "\n",
    "Aqui está um exemplo simples de como criar uma tupla em Python:\n",
    "\n",
    "```python\n",
    "tupla = (1, 2, 3, 4, 5)\n",
    "```\n",
    "\n",
    "Uma tupla pode conter diferentes tipos de elementos, como inteiros, strings, floats, outras tuplas e assim por diante. Por exemplo:\n",
    "\n",
    "```python\n",
    "tupla = ('a', 1, 3.14, ('x', 'y', 'z'))\n",
    "```\n",
    "\n",
    "Existem várias operações que podem ser realizadas em tuplas:\n",
    "\n",
    "1. **Acesso a elementos**: Você pode acessar elementos em uma tupla usando índices, da mesma forma que em listas. Por exemplo:\n",
    "\n",
    "```python\n",
    "tupla = ('a', 'b', 'c', 'd', 'e')\n",
    "print(tupla[0])  # Saída: 'a'\n",
    "print(tupla[2])  # Saída: 'c'\n",
    "```\n",
    "\n",
    "2. **Fatiamento (slicing)**: Você pode fatiar uma tupla para obter uma parte dela, da mesma forma que em listas. Por exemplo:\n",
    "\n",
    "```python\n",
    "tupla = ('a', 'b', 'c', 'd', 'e')\n",
    "print(tupla[1:4])  # Saída: ('b', 'c', 'd')\n",
    "```\n",
    "\n",
    "3. **Comprimento da tupla**: Você pode obter o número de elementos em uma tupla usando a função `len()`:\n",
    "\n",
    "```python\n",
    "tupla = ('a', 'b', 'c', 'd', 'e')\n",
    "print(len(tupla))  # Saída: 5\n",
    "```\n",
    "\n",
    "4. **Concatenação de tuplas**: Você pode concatenar duas tuplas usando o operador `+`:\n",
    "\n",
    "```python\n",
    "tupla1 = (1, 2, 3)\n",
    "tupla2 = ('a', 'b', 'c')\n",
    "tupla_concatenada = tupla1 + tupla2\n",
    "print(tupla_concatenada)  # Saída: (1, 2, 3, 'a', 'b', 'c')\n",
    "```\n",
    "\n",
    "5. **Repetição de tuplas**: Você pode repetir uma tupla várias vezes usando o operador `*`:\n",
    "\n",
    "```python\n",
    "tupla = ('a', 'b')\n",
    "tupla_repetida = tupla * 3\n",
    "print(tupla_repetida)  # Saída: ('a', 'b', 'a', 'b', 'a', 'b')\n",
    "```\n",
    "\n",
    "6. **Verificação de existência de elementos**: Você pode verificar se um elemento está presente em uma tupla usando o operador `in`:\n",
    "\n",
    "```python\n",
    "tupla = ('a', 'b', 'c')\n",
    "print('a' in tupla)  # Saída: True\n",
    "print('d' in tupla)  # Saída: False\n",
    "```\n",
    "\n",
    "As tuplas são frequentemente usadas em Python quando se deseja garantir que os dados não sejam modificados após sua criação, por exemplo, ao passar dados para funções que não devem alterar esses dados. Elas também são úteis para retornar múltiplos valores de uma função, pois uma função pode retornar uma tupla contendo esses valores.\n",
    "\n",
    "Por serem imutáveis, as tuplas têm uma vantagem de desempenho em comparação com as listas, especialmente quando lidam com grandes quantidades de dados, pois o interpretador Python não precisa alocar ou desalocar espaço na memória para uma tupla. Isso pode resultar em tempos de execução mais rápidos em certos cenários."
   ]
  },
  {
   "cell_type": "code",
   "execution_count": 12,
   "id": "c8849c8f",
   "metadata": {},
   "outputs": [
    {
     "name": "stdout",
     "output_type": "stream",
     "text": [
      "(1, 2, 'a', 'b') <class 'tuple'>\n",
      "(1, 2, 3, 4, 5) <class 'tuple'>\n",
      "3 <class 'int'>\n",
      "(3,) <class 'tuple'>\n"
     ]
    }
   ],
   "source": [
    "# As tuplas são representadas por parenteses ()\n",
    "# As tuplas sao imutaveis\n",
    "tupla = (1, 2, 'a', 'b')\n",
    "print(tupla, type(tupla))\n",
    "\n",
    "#Tupla 2\n",
    "tupla2 = 1, 2, 3, 4, 5\n",
    "print(tupla2, type(tupla2))\n",
    "\n",
    "#Tupla2\n",
    "# So se considera tupla parenteses com 2 ou mais \n",
    "# dados e separados por virgula ou 1 elemento com virgula\n",
    "tupla3 = (3)\n",
    "print(tupla3, type(tupla3)) \n",
    "\n",
    "#Tupla4\n",
    "#Tupla se define pela , virgula\n",
    "tupla4 = (3, )\n",
    "print(tupla4, type(tupla4))"
   ]
  },
  {
   "cell_type": "code",
   "execution_count": 13,
   "id": "40811b59",
   "metadata": {},
   "outputs": [
    {
     "name": "stdout",
     "output_type": "stream",
     "text": [
      "('Programacao', 'Python')\n",
      "Programacao\n",
      "Python\n",
      "(1, 2, 3)\n",
      "(1, 2, 3, 4, 5, 6)\n",
      "(1, 2, 3, 4, 5, 6)\n"
     ]
    }
   ],
   "source": [
    "# Desempacotamento de tupla\n",
    "tupla = ('Programacao', \"Python\")\n",
    "escola, curso = tupla\n",
    "print(tupla)\n",
    "print(escola)\n",
    "print(curso)\n",
    "\n",
    "#Concatenação de tuplas\n",
    "tupla1 = (1, 2, 3)\n",
    "print(tupla1)\n",
    "\n",
    "tupla2 = (4, 5, 6)\n",
    "\n",
    "print(tupla1 + tupla2)\n",
    "\n",
    "tupla1 = tupla1 + tupla2\n",
    "print(tupla1)"
   ]
  },
  {
   "cell_type": "code",
   "execution_count": 14,
   "id": "2d4a4664",
   "metadata": {},
   "outputs": [
    {
     "name": "stdout",
     "output_type": "stream",
     "text": [
      "1\n",
      "2\n",
      "3\n",
      "4\n",
      "5\n",
      " \n",
      "0 1\n",
      "1 2\n",
      "2 3\n",
      "3 4\n",
      "4 5\n"
     ]
    }
   ],
   "source": [
    "# Tuplas\n",
    "tupla = (1, 2, 3, 4, 5)\n",
    "for n in tupla:\n",
    "    print(n)\n",
    "\n",
    "print(' ')\n",
    "\n",
    "for indice, valor in enumerate(tupla):\n",
    "    print(indice, valor)"
   ]
  },
  {
   "cell_type": "code",
   "execution_count": 15,
   "id": "0c42f754",
   "metadata": {},
   "outputs": [
    {
     "name": "stdout",
     "output_type": "stream",
     "text": [
      "3\n",
      "('d', 'e', 'f', 'g', 'h')\n"
     ]
    }
   ],
   "source": [
    "#Contagen de elementos\n",
    "tupla = ('a','b','c','d','e','f','g','h','c','c')\n",
    "print(tupla.count('c'))\n",
    "\n",
    "#Impressao por indice\n",
    "print(tupla[3:8])"
   ]
  },
  {
   "cell_type": "code",
   "execution_count": null,
   "id": "8c70559d",
   "metadata": {},
   "outputs": [],
   "source": []
  },
  {
   "cell_type": "code",
   "execution_count": null,
   "id": "47d10682",
   "metadata": {},
   "outputs": [],
   "source": []
  },
  {
   "cell_type": "markdown",
   "id": "9c75b27a",
   "metadata": {},
   "source": [
    "# <font color='green'>***Dicionarios em Python***</font>"
   ]
  },
  {
   "cell_type": "markdown",
   "id": "70e43526",
   "metadata": {},
   "source": [
    "Em Python, um dicionário é uma estrutura de dados que mapeia chaves a valores. Ele permite que você associe um valor a uma chave, fornecendo uma forma eficiente de buscar e recuperar valores com base em uma chave específica. Os dicionários são mutáveis, o que significa que você pode adicionar, alterar ou remover elementos após a sua criação. Em Python, os dicionários são definidos utilizando chaves `{}` e os pares chave-valor são separados por vírgulas.\n",
    "\n",
    "Aqui está um exemplo simples de como criar um dicionário em Python:\n",
    "\n",
    "```python\n",
    "dicionario = {'nome': 'João', 'idade': 30, 'cidade': 'São Paulo'}\n",
    "```\n",
    "\n",
    "Neste exemplo, 'nome', 'idade' e 'cidade' são chaves, e 'João', 30 e 'São Paulo' são os valores associados a essas chaves, respectivamente.\n",
    "\n",
    "Alguns pontos-chave sobre os dicionários em Python:\n",
    "\n",
    "1. **Acesso a elementos**: Você pode acessar os valores associados a uma chave em um dicionário usando a própria chave. Por exemplo:\n",
    "\n",
    "```python\n",
    "dicionario = {'nome': 'João', 'idade': 30, 'cidade': 'São Paulo'}\n",
    "print(dicionario['nome'])  # Saída: João\n",
    "print(dicionario['idade'])  # Saída: 30\n",
    "```\n",
    "\n",
    "Se uma chave não existir, isso resultará em um erro `KeyError`.\n",
    "\n",
    "2. **Adição, alteração e remoção de elementos**: Você pode adicionar, alterar ou remover elementos de um dicionário conforme necessário. Por exemplo:\n",
    "\n",
    "```python\n",
    "dicionario = {'nome': 'João', 'idade': 30}\n",
    "# Adicionar um novo elemento\n",
    "dicionario['cidade'] = 'São Paulo'\n",
    "# Alterar o valor de um elemento existente\n",
    "dicionario['idade'] = 31\n",
    "# Remover um elemento\n",
    "del dicionario['idade']\n",
    "print(dicionario)  # Saída: {'nome': 'João', 'cidade': 'São Paulo'}\n",
    "```\n",
    "\n",
    "3. **Verificação de existência de chaves**: Você pode verificar se uma chave existe em um dicionário usando o operador `in`:\n",
    "\n",
    "```python\n",
    "dicionario = {'nome': 'João', 'idade': 30}\n",
    "print('nome' in dicionario)  # Saída: True\n",
    "print('cidade' in dicionario)  # Saída: False\n",
    "```\n",
    "\n",
    "4. **Métodos úteis**: Python fornece vários métodos úteis para trabalhar com dicionários. Alguns desses métodos incluem:\n",
    "   - `keys()`: Retorna uma lista contendo todas as chaves do dicionário.\n",
    "   - `values()`: Retorna uma lista contendo todos os valores do dicionário.\n",
    "   - `items()`: Retorna uma lista de tuplas contendo os pares chave-valor do dicionário.\n",
    "   - `get()`: Retorna o valor associado a uma chave, ou um valor padrão se a chave não existir.\n",
    "   - `pop()`: Remove e retorna o valor associado a uma chave específica.\n",
    "   - `clear()`: Remove todos os itens do dicionário.\n",
    "\n",
    "Aqui está um exemplo de uso desses métodos:\n",
    "\n",
    "```python\n",
    "dicionario = {'nome': 'João', 'idade': 30, 'cidade': 'São Paulo'}\n",
    "print(dicionario.keys())  # Saída: dict_keys(['nome', 'idade', 'cidade'])\n",
    "print(dicionario.values())  # Saída: dict_values(['João', 30, 'São Paulo'])\n",
    "print(dicionario.items())  # Saída: dict_items([('nome', 'João'), ('idade', 30), ('cidade', 'São Paulo')])\n",
    "print(dicionario.get('nome'))  # Saída: João\n",
    "print(dicionario.pop('idade'))  # Saída: 30\n",
    "print(dicionario)  # Saída: {'nome': 'João', 'cidade': 'São Paulo'}\n",
    "dicionario.clear()\n",
    "print(dicionario)  # Saída: {}\n",
    "```\n",
    "\n",
    "Os dicionários em Python são muito versáteis e amplamente utilizados em muitos cenários, como armazenamento de configurações, mapeamento de dados, contagem de ocorrências e muito mais. Sua flexibilidade e eficiência tornam-nos uma escolha comum para muitas tarefas de programação."
   ]
  },
  {
   "cell_type": "markdown",
   "id": "f357fc7f",
   "metadata": {},
   "source": [
    "### Dicionarios Aninhados\n",
    "Em Python, é possível aninhar dicionários dentro de dicionários, criando assim estruturas de dados mais complexas e hierárquicas. Isso significa que os valores em um dicionário podem ser outros dicionários. Veja um exemplo:\n",
    "\n",
    "```python\n",
    "pessoa = {\n",
    "    'nome': 'João',\n",
    "    'idade': 30,\n",
    "    'endereco': {\n",
    "        'rua': 'Rua Principal',\n",
    "        'numero': 123,\n",
    "        'cidade': 'São Paulo'\n",
    "    }\n",
    "}\n",
    "```\n",
    "\n",
    "Neste exemplo, o dicionário `endereco` é um dicionário aninhado dentro do dicionário `pessoa`. Você pode acessar os valores aninhados da mesma maneira que faria com um dicionário simples, apenas adicionando outra chave para acessar o dicionário interno:\n",
    "\n",
    "```python\n",
    "print(pessoa['nome'])             # Saída: João\n",
    "print(pessoa['endereco']['rua'])  # Saída: Rua Principal\n",
    "print(pessoa['endereco']['cidade'])  # Saída: São Paulo\n",
    "```\n",
    "\n",
    "Você também pode adicionar, alterar e remover elementos de um dicionário aninhado da mesma forma que faria com um dicionário simples:\n",
    "\n",
    "```python\n",
    "# Adicionando um novo campo ao dicionário interno\n",
    "pessoa['endereco']['CEP'] = '01234-567'\n",
    "print(pessoa)\n",
    "\n",
    "# Alterando um valor no dicionário interno\n",
    "pessoa['endereco']['numero'] = 456\n",
    "print(pessoa)\n",
    "\n",
    "# Removendo um campo do dicionário interno\n",
    "del pessoa['endereco']['rua']\n",
    "print(pessoa)\n",
    "```\n",
    "\n",
    "Essa capacidade de aninhar dicionários dentro de dicionários permite uma grande flexibilidade na modelagem de dados, especialmente quando você precisa organizar informações em uma estrutura hierárquica mais complexa."
   ]
  },
  {
   "cell_type": "code",
   "execution_count": 16,
   "id": "6b36c2d1",
   "metadata": {},
   "outputs": [
    {
     "name": "stdout",
     "output_type": "stream",
     "text": [
      "Imprimindo os valores dict_values(['brasil', 'estados unidos', 'paraguai'])\n",
      "Imprimindo as chaves dict_keys(['br', 'eua', 'py'])\n",
      "\n",
      "\n",
      "Imprimindo o valor:  dict_values(['brasil', 'estados unidos', 'paraguai'])\n",
      "Imprimindo as chaves:  dict_keys(['br', 'eua', 'py'])\n"
     ]
    }
   ],
   "source": [
    "#Dicionarios são colecoes do tipo chave/valor\n",
    "#Chave e valor são separados por dois pontos 'chave':'valor',\n",
    "#Podemos ter qualquer tipo d valor nos dicionarios\n",
    "\n",
    "\n",
    "paises = {'br':'brasil', 'eua':'estados unidos', 'py':'paraguai'}\n",
    "print(\"Imprimindo os valores\", paises.values())\n",
    "print(\"Imprimindo as chaves\", paises.keys())\n",
    "\n",
    "print('\\n')\n",
    "\n",
    "#Outra forma de cria\n",
    "paises2 = dict(br='brasil', eua='estados unidos', py='paraguai')\n",
    "print('Imprimindo o valor: ', paises2.values())\n",
    "print('Imprimindo as chaves: ', paises2.keys())"
   ]
  },
  {
   "cell_type": "code",
   "execution_count": 17,
   "id": "9522c55d",
   "metadata": {},
   "outputs": [
    {
     "name": "stdout",
     "output_type": "stream",
     "text": [
      "brasil\n",
      "estados unidos\n",
      "\n",
      "\n",
      "brasil\n",
      "estados unidos\n",
      "None\n",
      "\n",
      "\n",
      "True\n",
      "True\n",
      "False\n",
      "True\n",
      "False\n"
     ]
    }
   ],
   "source": [
    "#Formas de acessa elementos\n",
    "paises = {'br':'brasil', 'eua':'estados unidos', 'py':'paraguai'}\n",
    "\n",
    "#Imprimindo atraves das chaves\n",
    "print(paises['br'])\n",
    "print(paises['eua'])\n",
    "\n",
    "print('\\n')\n",
    "#Acessando via get\n",
    "print(paises.get('br'))\n",
    "print(paises.get('eua'))\n",
    "\n",
    "#Com o get ele não mim retorna um erro trara um None\n",
    "print(paises.get('abc')) #Colocando um pais que não existe\n",
    "\n",
    "print('\\n')\n",
    "\n",
    "print('br' in paises)\n",
    "print('eua' in paises)\n",
    "print('abc' in paises)\n",
    "print('estados unidos' in paises.values())\n",
    "print('estados unidos' in paises)\n"
   ]
  },
  {
   "cell_type": "code",
   "execution_count": 18,
   "id": "5cd2e158",
   "metadata": {},
   "outputs": [
    {
     "name": "stdout",
     "output_type": "stream",
     "text": [
      "{'jan': 100, 'fev': 120, 'mar': 300} <class 'dict'>\n",
      "{'jan': 100, 'fev': 120, 'mar': 300, 'abr': 456}\n",
      "{'jan': 100, 'fev': 120, 'mar': 300, 'abr': 456, 'mai': 450}\n",
      "{'jan': 200, 'fev': 220, 'mar': 300, 'abr': 456, 'mai': 450}\n",
      "\n",
      "\n",
      "{'jan': 200, 'fev': 220, 'abr': 456, 'mai': 450}\n",
      "{'jan': 200, 'abr': 456, 'mai': 450}\n"
     ]
    }
   ],
   "source": [
    "#Exemplos\n",
    "meses = {'jan':100, 'fev':120, 'mar': 300}\n",
    "\n",
    "print(meses, type(meses))\n",
    "\n",
    "#Adicionando valores\n",
    "meses['abr'] = 456\n",
    "print(meses)\n",
    "\n",
    "#Outra forma utilizando update\n",
    "novo_dado = {'mai': 450}\n",
    "meses.update(novo_dado)\n",
    "print(meses)\n",
    "\n",
    "#Adiciona e atualiza valores utilizamos essas 2 ou mais formas\n",
    "meses['jan'] = 200\n",
    "meses.update({'fev':220})\n",
    "print(meses)\n",
    "\n",
    "print('\\n')\n",
    "#Removendo dados do dicionario\n",
    "#Fazendo logo uma copia\n",
    "copia = meses.copy()\n",
    "copia.pop('mar')\n",
    "print(copia)\n",
    "\n",
    "#Outra forma\n",
    "del copia['fev']\n",
    "print(copia)"
   ]
  },
  {
   "cell_type": "code",
   "execution_count": 19,
   "id": "78a9bb43",
   "metadata": {},
   "outputs": [
    {
     "name": "stdout",
     "output_type": "stream",
     "text": [
      "[{'Nome': 'Playstation4', 'Quantidade': 2, 'Preco': 2300}, {'Nome': 'TV', 'Quantidade': 10, 'Preco': 3000}, {'Nome': 'Geladeira', 'Quantidade': 5, 'Preço': 4000}]\n",
      "\n",
      "\n",
      "{'a': 'b'} <class 'dict'>\n",
      "{'nome': 'Estudante', 'idade': 'Estudante', 'pontos': 'Estudante', 'escola': 'Estudante'} <class 'dict'>\n",
      "{1: 'novo', 2: 'novo', 3: 'novo', 4: 'novo', 5: 'novo', 6: 'novo', 7: 'novo', 8: 'novo', 9: 'novo', 10: 'novo'}\n"
     ]
    }
   ],
   "source": [
    "#Lista de produtos em dicionario\n",
    "carrinho = []\n",
    "produt1 = {'Nome':'Playstation4', 'Quantidade':2, 'Preco':2300}\n",
    "produt2 = {'Nome':'TV', 'Quantidade':10, 'Preco':3000}\n",
    "produt3 = {'Nome':'Geladeira', 'Quantidade':5, 'Preço':4000}\n",
    "\n",
    "carrinho.append(produt1)\n",
    "carrinho.append(produt2)\n",
    "carrinho.append(produt3)\n",
    "print(carrinho)\n",
    "\n",
    "print('\\n')\n",
    "#Forma nao usual de cria dicionarios\n",
    "#O Metodo fromkeys recebe dois parametros: um interavel e um valor:\n",
    "#Ele vai gera para cada valor do iteravel uma chave e ira atribuir a chave ao valor\n",
    "outro = {}.fromkeys('a', 'b')\n",
    "print(outro, type(outro))\n",
    "\n",
    "usuario = {}.fromkeys(['nome', 'idade', 'pontos', 'escola'], 'Estudante')\n",
    "print(usuario, type(usuario))\n",
    "\n",
    "#Utilizando o range\n",
    "veja = {}.fromkeys(range(1, 11), 'novo')\n",
    "print(veja)"
   ]
  },
  {
   "cell_type": "code",
   "execution_count": 20,
   "id": "687fe4b4",
   "metadata": {},
   "outputs": [
    {
     "name": "stdout",
     "output_type": "stream",
     "text": [
      "{'jan': 100, 'fev': 120, 'mar': 300}\n",
      "jan\n",
      "fev\n",
      "mar\n",
      "\n",
      "\n",
      "100\n",
      "120\n",
      "300\n",
      "\n",
      "\n",
      "No mes de jan recebi 100\n",
      "No mes de fev recebi 120\n",
      "No mes de mar recebi 300\n",
      "\n",
      "\n",
      "100\n",
      "120\n",
      "300\n",
      "\n",
      "\n",
      "j 100\n",
      "e 120\n",
      "r 300\n",
      "\n",
      "\n",
      "Chave: jan, Valor 100\n",
      "Chave: fev, Valor 120\n",
      "Chave: mar, Valor 300\n"
     ]
    }
   ],
   "source": [
    "#Iterando sobre os valores\n",
    "meses = {'jan':100, 'fev':120, 'mar': 300}\n",
    "print(meses)\n",
    "\n",
    "#Iterando \n",
    "for chave in meses:\n",
    "    print(chave)\n",
    "\n",
    "print('\\n')\n",
    "for chave in meses:\n",
    "    print(meses[chave])\n",
    "\n",
    "print('\\n') \n",
    "for chave in meses:\n",
    "    print(f'No mes de {chave} recebi {meses[chave]}')\n",
    "\n",
    "print('\\n')    \n",
    "for chave in meses.keys():\n",
    "    print(meses[chave])\n",
    "\n",
    "print('\\n')   \n",
    "for chave, valor in enumerate(meses.keys()):\n",
    "    print(valor[chave], meses[valor])\n",
    "    \n",
    "print('\\n')\n",
    "for chave, valor in meses.items():\n",
    "    print(f'Chave: {chave}, Valor {valor}')"
   ]
  },
  {
   "cell_type": "code",
   "execution_count": 21,
   "id": "fc76f552",
   "metadata": {},
   "outputs": [],
   "source": [
    "# Métodos úteis dos dicionários em Python\n",
    "# len        - quantas chaves\n",
    "# keys       - iterável com as chaves\n",
    "# values     - iterável com os valores\n",
    "# items      - iterável com chaves e valores\n",
    "# setdefault - adiciona valor se a chave não existe\n",
    "# copy       - retorna uma cópia rasa (shallow copy)\n",
    "# get        - obtém uma chave\n",
    "# pop        - Apaga um item com a chave especificada (del)\n",
    "# popitem    - Apaga o último item adicionado\n",
    "# update     - Atualiza um dicionário com outro\n"
   ]
  },
  {
   "cell_type": "code",
   "execution_count": 22,
   "id": "68d31801",
   "metadata": {},
   "outputs": [
    {
     "name": "stdout",
     "output_type": "stream",
     "text": [
      "3\n",
      "dict_keys(['a', 'b', 'c'])\n",
      "dict_values([1, 2, 3])\n",
      "dict_items([('a', 1), ('b', 2), ('c', 3)])\n",
      "4\n",
      "{'a': 1, 'b': 2, 'c': 3, 'd': 4}\n",
      "1\n",
      "1\n",
      "('d', 4)\n",
      "{'b': 2, 'c': 3, 'e': 5}\n"
     ]
    }
   ],
   "source": [
    "# Criando um dicionário\n",
    "dicionario = {'a': 1, 'b': 2, 'c': 3}\n",
    "\n",
    "# len: Retorna o número de itens no dicionário\n",
    "print(len(dicionario))  # Saída: 3\n",
    "\n",
    "# keys: Retorna uma nova exibição dos chaves do dicionário\n",
    "print(dicionario.keys())  # Saída: dict_keys(['a', 'b', 'c'])\n",
    "\n",
    "# values: Retorna uma nova exibição dos valores do dicionário\n",
    "print(dicionario.values())  # Saída: dict_values([1, 2, 3])\n",
    "\n",
    "# items: Retorna uma nova exibição dos itens do dicionário (pares chave/valor)\n",
    "print(dicionario.items())  # Saída: dict_items([('a', 1), ('b', 2), ('c', 3)])\n",
    "\n",
    "# setdefault: Retorna o valor da chave especificada. Se a chave não existir: insira a chave, com o valor especificado\n",
    "print(dicionario.setdefault('d', 4))  # Saída: 4\n",
    "\n",
    "# copy: Retorna uma cópia do dicionário\n",
    "copia = dicionario.copy()\n",
    "print(copia)  # Saída: {'a': 1, 'b': 2, 'c': 3, 'd': 4}\n",
    "\n",
    "# get: Retorna o valor da chave especificada\n",
    "print(dicionario.get('a'))  # Saída: 1\n",
    "\n",
    "# pop: Remove o item com o nome da chave especificada\n",
    "print(dicionario.pop('a'))  # Saída: 1\n",
    "\n",
    "# popitem: Remove o último item inserido no dicionário\n",
    "print(dicionario.popitem())  # Saída: ('d', 4)\n",
    "\n",
    "# update: Atualiza o dicionário com os pares chave/valor especificados\n",
    "dicionario.update({'e': 5})\n",
    "print(dicionario)  # Saída: {'b': 2, 'c': 3, 'e': 5}\n"
   ]
  },
  {
   "cell_type": "code",
   "execution_count": null,
   "id": "62891eac",
   "metadata": {},
   "outputs": [],
   "source": []
  },
  {
   "cell_type": "code",
   "execution_count": null,
   "metadata": {},
   "outputs": [],
   "source": []
  },
  {
   "cell_type": "markdown",
   "id": "17363b2e",
   "metadata": {},
   "source": [
    "# **Conjuntos** <font color='blue'>***Set***</font>"
   ]
  },
  {
   "cell_type": "markdown",
   "id": "461aa854",
   "metadata": {},
   "source": [
    "Claro, vou explicar detalhadamente sobre sets em Python e fornecer exemplos de código para ilustrar cada conceito.\n",
    "\n",
    "### Sets em Python:\n",
    "\n",
    "Um conjunto (set) em Python é uma coleção desordenada de elementos únicos e imutáveis. Em outras palavras, ele armazena elementos únicos e não permite duplicatas. Aqui estão alguns pontos importantes sobre os sets em Python:\n",
    "\n",
    "1. **Elementos únicos**: Os sets em Python garantem que cada elemento seja único, portanto, não pode haver repetições no conjunto.\n",
    "\n",
    "2. **Desordem**: Os elementos em um conjunto não são armazenados em uma ordem específica. Quando você imprime um conjunto, a ordem dos elementos pode variar.\n",
    "\n",
    "3. **Imutabilidade dos elementos**: Os elementos de um conjunto devem ser imutáveis, o que significa que você não pode ter conjuntos contendo listas ou outros conjuntos. No entanto, você pode ter conjuntos de tuplas, já que as tuplas são imutáveis.\n",
    "\n",
    "4. **Operações de conjuntos**: Os sets em Python suportam operações de conjuntos como união, interseção, diferença e diferença simétrica.\n",
    "\n",
    "5. **Mutabilidade do próprio conjunto**: Apesar de os elementos de um conjunto serem imutáveis, o próprio conjunto é mutável, o que significa que você pode adicionar ou remover elementos de um conjunto.\n",
    "\n",
    "### Exemplos de código:\n",
    "\n",
    "1. **Criando um conjunto**:\n",
    "\n",
    "```python\n",
    "conjunto = {1, 2, 3, 4, 5}\n",
    "print(conjunto)  # Saída: {1, 2, 3, 4, 5}\n",
    "```\n",
    "\n",
    "2. **Adicionando elementos a um conjunto**:\n",
    "\n",
    "```python\n",
    "conjunto.add(6)\n",
    "print(conjunto)  # Saída: {1, 2, 3, 4, 5, 6}\n",
    "```\n",
    "\n",
    "3. **Removendo elementos de um conjunto**:\n",
    "\n",
    "```python\n",
    "conjunto.remove(3)\n",
    "print(conjunto)  # Saída: {1, 2, 4, 5, 6}\n",
    "```\n",
    "\n",
    "4. **Operações de conjuntos**:\n",
    "\n",
    "```python\n",
    "conjunto1 = {1, 2, 3, 4, 5}\n",
    "conjunto2 = {4, 5, 6, 7, 8}\n",
    "\n",
    "# União\n",
    "uniao = conjunto1.union(conjunto2)\n",
    "print(uniao)  # Saída: {1, 2, 3, 4, 5, 6, 7, 8}\n",
    "\n",
    "# Interseção\n",
    "intersecao = conjunto1.intersection(conjunto2)\n",
    "print(intersecao)  # Saída: {4, 5}\n",
    "\n",
    "# Diferença\n",
    "diferenca = conjunto1.difference(conjunto2)\n",
    "print(diferenca)  # Saída: {1, 2, 3}\n",
    "\n",
    "# Diferença simétrica\n",
    "diferenca_simetrica = conjunto1.symmetric_difference(conjunto2)\n",
    "print(diferenca_simetrica)  # Saída: {1, 2, 3, 6, 7, 8}\n",
    "```\n",
    "\n",
    "5. **Iteração sobre um conjunto**:\n",
    "\n",
    "```python\n",
    "for elemento in conjunto:\n",
    "    print(elemento)\n",
    "```\n",
    "\n",
    "Em resumo, os sets em Python são coleções desordenadas de elementos únicos e imutáveis. Eles são úteis para operações que envolvem testar a existência de elementos únicos e realizar operações de conjunto, como união, interseção, diferença e diferença simétrica."
   ]
  },
  {
   "cell_type": "code",
   "execution_count": 23,
   "id": "650a3833",
   "metadata": {},
   "outputs": [
    {
     "name": "stdout",
     "output_type": "stream",
     "text": [
      "{1, 2, 3, 4, 5, 6, 8, 9} <class 'set'>\n",
      "[1, 2, 3, 4, 5, 6] <class 'list'>\n",
      "(1, 2, 3, 4, 5, 6) <class 'tuple'>\n",
      "{1: 'ab', 2: 'cd', 3: 'zd'} <class 'dict'>\n",
      "{1, 2, 3, 4, 5, 6} <class 'set'>\n"
     ]
    }
   ],
   "source": [
    "#Sets (conjuntos) não possuem valor duplicados\n",
    "#Sets (conjuntos) não possuem valores ordenados\n",
    "#Elementos não são acessados via indice, ou seja, conjuntos não são indexados\n",
    "\n",
    "'''\n",
    "Conjuntos são bons para se utilizar quando precisamos armazenar elementos mas\n",
    "não importamos com a ordenação deles. Quando não precisamos se preocupar com \n",
    "chaves, valores e itens duplicados\n",
    "'''\n",
    "\n",
    "exemplo_set = {1, 2, 3, 4, 5, 5, 6, 6, 1, 2, 8, 9}\n",
    "print(exemplo_set, type(exemplo_set))\n",
    "\n",
    "#Ao cria um sete caso tenhamos valores duplicados sera atribuido apenas 1 valor\n",
    "\n",
    "lista = [1, 2, 3, 4, 5, 6]\n",
    "print(lista, type(lista))\n",
    "\n",
    "tupla = (1, 2, 3, 4, 5, 6)\n",
    "print(tupla, type(tupla))\n",
    "\n",
    "dicio = {1:'ab', 2:'cd', 3:'zd'}\n",
    "print(dicio, type(dicio))\n",
    "\n",
    "setes = {1, 2, 3, 4, 5, 6}\n",
    "print(setes, type(setes))"
   ]
  },
  {
   "cell_type": "code",
   "execution_count": 24,
   "id": "8ce8363e",
   "metadata": {},
   "outputs": [
    {
     "name": "stdout",
     "output_type": "stream",
     "text": [
      "5 {'Bahia', 'Brasil', 'São Paulo', 'Campinas', 'Ceara'}\n",
      "{1, 2, 3, 4, 5, 6, 7} <class 'set'>\n",
      "{1, 2, 3, 4, 6, 7}\n",
      "{1, 2, 4, 6, 7}\n",
      "{1, 2, 4, 6, 7}\n"
     ]
    }
   ],
   "source": [
    "cidades = ['São Paulo', 'Brasil', 'Campinas', 'Bahia', 'Bahia', 'Ceara']\n",
    "print(len(set(cidades)), set(cidades))\n",
    "\n",
    "numeros = {1, 2, 3, 4, 5, 5, 6, 7}\n",
    "print(numeros, type(numeros))\n",
    "\n",
    "#Removendo\n",
    "numeros.remove(5)\n",
    "print(numeros)\n",
    "numeros.discard(3)\n",
    "print(numeros)\n",
    "\n",
    "novo = numeros.copy()\n",
    "print(novo)\n"
   ]
  },
  {
   "cell_type": "code",
   "execution_count": 25,
   "id": "3d3a99e6",
   "metadata": {},
   "outputs": [
    {
     "name": "stdout",
     "output_type": "stream",
     "text": [
      "{'Gabriel', 'Samu', 'PF', 'Miguel', 'Java', 'FGG', 'Python', 'Artur'}\n",
      "{'Gabriel', 'Samu', 'PF', 'Miguel', 'Java', 'FGG', 'Python', 'Artur'}\n",
      "{'PF', 'Python'}\n",
      "{'PF', 'Python'}\n",
      "\n",
      "\n",
      "{'Gabriel', 'Miguel', 'Artur'}\n"
     ]
    }
   ],
   "source": [
    "python = {'Gabriel', 'Miguel', 'Artur', 'PF', 'Python'}\n",
    "java = {'Python','Java', 'Samu', 'PF', 'FGG'}\n",
    "\n",
    "#Uniao\n",
    "unicos = python.union(java)\n",
    "print(unicos)\n",
    "\n",
    "unicos2 = python | java\n",
    "print(unicos2)\n",
    "\n",
    "#Estudantes que estao nos 2 cursos\n",
    "ambos = python.intersection(java)\n",
    "print(ambos)\n",
    "\n",
    "#Utilizando o & comercial\n",
    "ambos2 = python & java\n",
    "print(ambos2)\n",
    "\n",
    "#Diferente\n",
    "print('\\n')\n",
    "diferent = python.difference(java)\n",
    "print(diferent)"
   ]
  },
  {
   "cell_type": "code",
   "execution_count": null,
   "id": "06a80a3b",
   "metadata": {},
   "outputs": [],
   "source": []
  },
  {
   "cell_type": "code",
   "execution_count": null,
   "id": "9d13c544",
   "metadata": {},
   "outputs": [],
   "source": []
  },
  {
   "cell_type": "markdown",
   "id": "0cadb22e",
   "metadata": {},
   "source": [
    "# <font color='red'>***Collections - Counter (Contador)***</font>"
   ]
  },
  {
   "cell_type": "markdown",
   "id": "89370b35",
   "metadata": {},
   "source": [
    "A coleção `Counter` em Python é uma estrutura de dados fornecida pelo módulo `collections` que é usada para contar elementos distintos em uma sequência. É especialmente útil quando você precisa contar a ocorrência de itens em uma lista, tupla ou qualquer outra estrutura de dados iterável. O `Counter` retorna um dicionário onde as chaves são os elementos distintos da sequência e os valores são as contagens correspondentes desses elementos.\n",
    "\n",
    "Aqui estão alguns pontos importantes sobre o `Counter`:\n",
    "\n",
    "1. **Contagem de elementos**: O `Counter` conta a ocorrência de cada elemento em uma sequência.\n",
    "\n",
    "2. **Estrutura de dados imutável**: Assim como um dicionário normal em Python, o `Counter` é uma estrutura de dados imutável.\n",
    "\n",
    "3. **Suporte a operações de dicionário**: Como um dicionário, o `Counter` suporta operações como acesso a elementos por chave, atualização de valores e iteração.\n",
    "\n",
    "4. **Métodos adicionais**: Além dos métodos de dicionário padrão, o `Counter` possui métodos adicionais úteis para operações comuns, como encontrar os elementos mais comuns, subtrair contagens entre contadores, entre outros.\n",
    "\n",
    "### Exemplo de código:\n",
    "\n",
    "Vamos ver um exemplo simples de como usar o `Counter` em Python:\n",
    "\n",
    "```python\n",
    "from collections import Counter\n",
    "\n",
    "# Definindo uma lista de elementos\n",
    "lista = ['a', 'b', 'c', 'a', 'b', 'a', 'd', 'e', 'b']\n",
    "\n",
    "# Criando um Counter a partir da lista\n",
    "contador = Counter(lista)\n",
    "\n",
    "print(contador)\n",
    "# Saída: Counter({'a': 3, 'b': 3, 'c': 1, 'd': 1, 'e': 1})\n",
    "\n",
    "# Acessando a contagem de um elemento específico\n",
    "print(contador['a'])\n",
    "# Saída: 3\n",
    "\n",
    "# Acessando a contagem de um elemento que não está presente\n",
    "print(contador['z'])\n",
    "# Saída: 0\n",
    "\n",
    "# Elementos mais comuns\n",
    "print(contador.most_common(2))\n",
    "# Saída: [('a', 3), ('b', 3)]\n",
    "\n",
    "# Atualizando o contador com mais elementos\n",
    "contador.update(['a', 'b', 'c'])\n",
    "\n",
    "print(contador)\n",
    "# Saída: Counter({'a': 4, 'b': 4, 'c': 2, 'd': 1, 'e': 1})\n",
    "```\n",
    "\n",
    "Neste exemplo, estamos contando a ocorrência de elementos na lista usando `Counter`. Você pode ver como é fácil e conveniente usar o `Counter` para contar elementos distintos em uma sequência. Ele também fornece métodos úteis, como `most_common(n)` para encontrar os elementos mais comuns e `update()` para atualizar o contador com mais elementos."
   ]
  },
  {
   "cell_type": "code",
   "execution_count": 26,
   "id": "b3e2a164",
   "metadata": {},
   "outputs": [
    {
     "name": "stdout",
     "output_type": "stream",
     "text": [
      "Counter({1: 3, 3: 2, 44: 2, 5: 2, 2: 1, 45: 1, 4: 1, 7: 1, 8: 1, 9: 1}) <class 'collections.Counter'>\n",
      "Counter({'o': 3, ' ': 2, 'A': 2, 'F': 1, 'r': 1, 'm': 1, 'a': 1, 'ç': 1, 'ã': 1, 'P': 1, 'y': 1, 't': 1, 'h': 1, 'n': 1, 'J': 1, 'v': 1})\n"
     ]
    }
   ],
   "source": [
    "#Para utiliza o Counter temos que importa as bibliotecas\n",
    "from collections import Counter\n",
    "\n",
    "lista = [1, 1,1 ,2, 3, 44, 44, 45, 5, 5, 4, 3, 7, 8,9]\n",
    "\n",
    "#Utilizando o Counter\n",
    "res = Counter(lista)\n",
    "print(res, type(res))\n",
    "\n",
    "#Para cada elemento da lista, O Counter criou uma chave e colocu o valors\n",
    "\n",
    "string = 'Formação Python JAvA'\n",
    "print(Counter(string))"
   ]
  },
  {
   "cell_type": "code",
   "execution_count": 27,
   "id": "a9464ae5",
   "metadata": {},
   "outputs": [
    {
     "data": {
      "text/plain": [
       "Counter({'o': 4,\n",
       "         'não': 3,\n",
       "         'que': 3,\n",
       "         'um': 2,\n",
       "         'projeto': 2,\n",
       "         'como': 2,\n",
       "         'seu': 2,\n",
       "         'organizar': 2,\n",
       "         'deve': 2,\n",
       "         'Iniciar': 1,\n",
       "         'novo': 1,\n",
       "         'é': 1,\n",
       "         'sempre': 1,\n",
       "         'pouco': 1,\n",
       "         'complicado.': 1,\n",
       "         'Você': 1,\n",
       "         'tem': 1,\n",
       "         'certeza': 1,\n",
       "         'de': 1,\n",
       "         'será': 1,\n",
       "         'estruturado,': 1,\n",
       "         'portanto,': 1,\n",
       "         'talvez': 1,\n",
       "         'saiba': 1,\n",
       "         'seus': 1,\n",
       "         'arquivos.': 1,\n",
       "         'No': 1,\n",
       "         'entanto,': 1,\n",
       "         'assim': 1,\n",
       "         'compreender': 1,\n",
       "         'apropriadamente': 1,\n",
       "         'as': 1,\n",
       "         'melhores': 1,\n",
       "         'práticas,': 1,\n",
       "         'saberá': 1,\n",
       "         'com': 1,\n",
       "         'qual': 1,\n",
       "         'estrutura': 1,\n",
       "         'básica': 1,\n",
       "         'deverá': 1,\n",
       "         'começar.': 1,\n",
       "         'Apresentaremos': 1,\n",
       "         'algumas': 1,\n",
       "         'dicas': 1,\n",
       "         'sobre': 1,\n",
       "         'você': 1,\n",
       "         'e': 1,\n",
       "         'fazer': 1,\n",
       "         'para': 1,\n",
       "         'projeto.': 1})"
      ]
     },
     "execution_count": 27,
     "metadata": {},
     "output_type": "execute_result"
    }
   ],
   "source": [
    "n_string = '''Iniciar um novo projeto é sempre um pouco complicado. Você não\n",
    "tem certeza de como o seu projeto será estruturado, portanto, talvez\n",
    "não saiba como organizar seus arquivos. No entanto, assim que\n",
    "compreender apropriadamente as melhores práticas, saberá com\n",
    "qual estrutura básica deverá começar. Apresentaremos algumas\n",
    "dicas sobre o que você deve e o que não deve fazer para organizar\n",
    "o seu projeto.'''\n",
    "\n",
    "palavras = n_string.split()\n",
    "\n",
    "conta = Counter(palavras)\n",
    "conta"
   ]
  },
  {
   "cell_type": "code",
   "execution_count": null,
   "id": "88ed4263",
   "metadata": {},
   "outputs": [],
   "source": []
  },
  {
   "cell_type": "code",
   "execution_count": null,
   "id": "5b7a670f",
   "metadata": {},
   "outputs": [],
   "source": []
  },
  {
   "cell_type": "markdown",
   "id": "8d2efa37",
   "metadata": {},
   "source": [
    "# <font color='blue'>***Collections Defalt Dict (Dicionario)***</font>"
   ]
  },
  {
   "cell_type": "markdown",
   "id": "26b09955",
   "metadata": {},
   "source": [
    "`collections.defaultdict` é uma subclasse de `dict` que fornece um valor padrão para chaves ausentes. A principal diferença entre `defaultdict` e `dict` é que `defaultdict` atribui um valor padrão a uma chave que ainda não existe, enquanto um `dict` normal resultaria em uma exceção `KeyError` se a chave não existisse.\n",
    "\n",
    "Aqui está uma explicação detalhada sobre `collections.defaultdict`:\n",
    "\n",
    "### Funcionamento:\n",
    "\n",
    "Ao criar um `defaultdict`, você fornece um argumento que especifica o tipo de valor padrão que será retornado para chaves ausentes. Este argumento geralmente é um tipo de dado ou uma função que retorna um valor padrão.\n",
    "\n",
    "### Exemplos de uso:\n",
    "\n",
    "1. **Defaultdict com tipo de dados padrão**:\n",
    "\n",
    "```python\n",
    "from collections import defaultdict\n",
    "\n",
    "# Criando um defaultdict com int como valor padrão\n",
    "d = defaultdict(int)\n",
    "\n",
    "d['a'] += 1\n",
    "d['b'] += 2\n",
    "print(d)  # Saída: defaultdict(<class 'int'>, {'a': 1, 'b': 2})\n",
    "print(d['c'])  # Saída: 0\n",
    "print(d)  # Saída: defaultdict(<class 'int'>, {'a': 1, 'b': 2, 'c': 0})\n",
    "```\n",
    "\n",
    "Neste exemplo, mesmo que 'c' não exista no defaultdict, ele retorna 0 como valor padrão, que é o valor padrão para o tipo de dado `int`.\n",
    "\n",
    "2. **Defaultdict com função como valor padrão**:\n",
    "\n",
    "```python\n",
    "from collections import defaultdict\n",
    "\n",
    "# Definindo uma função que retorna 'Desconhecido' como valor padrão\n",
    "def valor_padrao():\n",
    "    return 'Desconhecido'\n",
    "\n",
    "# Criando um defaultdict com a função como valor padrão\n",
    "d = defaultdict(valor_padrao)\n",
    "\n",
    "d['a'] = 'Apple'\n",
    "d['b'] = 'Banana'\n",
    "print(d['c'])  # Saída: Desconhecido\n",
    "print(d)  # Saída: defaultdict(<function valor_padrao at 0x7fb25a01c5e0>, {'a': 'Apple', 'b': 'Banana', 'c': 'Desconhecido'})\n",
    "```\n",
    "\n",
    "Neste exemplo, quando uma chave ausente 'c' é acessada, a função `valor_padrao()` é chamada e retorna 'Desconhecido'.\n",
    "\n",
    "### Uso comum:\n",
    "\n",
    "`defaultdict` é útil em situações em que você precisa de um dicionário com um valor padrão para chaves ausentes, como contadores, agrupamento de elementos e muitos outros cenários onde a manipulação de dados é necessária e algumas chaves podem não estar presentes inicialmente.\n",
    "\n",
    "Em resumo, `collections.defaultdict` é uma ferramenta útil para criar dicionários com valores padrão para chaves ausentes, o que pode simplificar a lógica do código e evitar exceções `KeyError`."
   ]
  },
  {
   "cell_type": "code",
   "execution_count": 28,
   "id": "a63ec149",
   "metadata": {},
   "outputs": [
    {
     "name": "stdout",
     "output_type": "stream",
     "text": [
      "{'curso': 'Programando em Python'} <class 'dict'>\n",
      "Programando em Python\n"
     ]
    },
    {
     "data": {
      "text/plain": [
       "\"print(dicionario['abc']) \""
      ]
     },
     "execution_count": 28,
     "metadata": {},
     "output_type": "execute_result"
    }
   ],
   "source": [
    "#Dicionario\n",
    "dicionario = {'curso':'Programando em Python'}\n",
    "print(dicionario, type(dicionario))\n",
    "print(dicionario['curso'])\n",
    "\n",
    "#Caso eu utilize qualquer valor que não estaja no dicionario\n",
    "#IRa retorna um erro\n",
    "'''print(dicionario['abc']) '''"
   ]
  },
  {
   "cell_type": "code",
   "execution_count": 29,
   "id": "ffb9f0f7",
   "metadata": {},
   "outputs": [
    {
     "name": "stdout",
     "output_type": "stream",
     "text": [
      "defaultdict(<function <lambda> at 0x0000023C59E9A2A0>, {})\n",
      "defaultdict(<function <lambda> at 0x0000023C59E9A2A0>, {'curso': 'Programação em Pyhon'}) <class 'collections.defaultdict'>\n",
      "0\n",
      "defaultdict(<function <lambda> at 0x0000023C59E9A2A0>, {'curso': 'Programação em Pyhon', 'outro': 0})\n"
     ]
    }
   ],
   "source": [
    "#Defalt Dict\n",
    "from collections import defaultdict\n",
    "\n",
    "'''\n",
    "Defalt Dict - Ao criar um dicionario utilizando nos informamos um valor default,\n",
    "podendo utilzar um lambda para isso. Este valor sera utilizado sempre que não houver\n",
    "um valor definido'''\n",
    "\n",
    "dicionario = defaultdict(lambda: 0)\n",
    "print(dicionario)\n",
    "\n",
    "dicionario['curso'] = 'Programação em Pyhon'\n",
    "print(dicionario, type(dicionario))\n",
    "\n",
    "#Com o default dict nao temos erro nos dicionarios\n",
    "print(dicionario['outro']) #Como padrao ele criara uma novo dados com 0 Zero\n",
    "print(dicionario)\n",
    "\n"
   ]
  },
  {
   "cell_type": "code",
   "execution_count": null,
   "id": "fd891cae",
   "metadata": {},
   "outputs": [],
   "source": []
  },
  {
   "cell_type": "markdown",
   "id": "c01c6645",
   "metadata": {},
   "source": [
    "# **Collections Ordered Dict**"
   ]
  },
  {
   "cell_type": "markdown",
   "id": "31617ca7",
   "metadata": {},
   "source": [
    "`collections.OrderedDict` é uma subclasse de `dict` que mantém a ordem de inserção dos itens. Ao contrário de um dicionário padrão em Python (que, a partir do Python 3.7, mantém a ordem de inserção, embora isso não seja garantido pela especificação da linguagem), um `OrderedDict` mantém a ordem na qual os itens foram inseridos.\n",
    "\n",
    "Aqui está uma explicação detalhada sobre `collections.OrderedDict`:\n",
    "\n",
    "### Funcionamento:\n",
    "\n",
    "Quando você adiciona itens a um `OrderedDict`, ele mantém a ordem em que os itens foram inseridos. Isso significa que ao iterar sobre um `OrderedDict`, os itens são retornados na mesma ordem em que foram inseridos.\n",
    "\n",
    "### Exemplos de uso:\n",
    "\n",
    "1. **Criando e usando um OrderedDict**:\n",
    "\n",
    "```python\n",
    "from collections import OrderedDict\n",
    "\n",
    "# Criando um OrderedDict com alguns itens\n",
    "od = OrderedDict([('a', 1), ('b', 2), ('c', 3)])\n",
    "\n",
    "# Adicionando mais itens\n",
    "od['d'] = 4\n",
    "\n",
    "# Iterando sobre os itens\n",
    "for chave, valor in od.items():\n",
    "    print(chave, valor)\n",
    "```\n",
    "\n",
    "Saída:\n",
    "```\n",
    "a 1\n",
    "b 2\n",
    "c 3\n",
    "d 4\n",
    "```\n",
    "\n",
    "2. **Comparando a ordem dos itens entre um dicionário padrão e um OrderedDict**:\n",
    "\n",
    "```python\n",
    "# Dicionário padrão\n",
    "dicionario_padrao = {'a': 1, 'b': 2, 'c': 3}\n",
    "\n",
    "# OrderedDict\n",
    "od = OrderedDict([('a', 1), ('b', 2), ('c', 3)])\n",
    "\n",
    "print(\"Dicionário padrão:\")\n",
    "for chave, valor in dicionario_padrao.items():\n",
    "    print(chave, valor)\n",
    "\n",
    "print(\"\\nOrderedDict:\")\n",
    "for chave, valor in od.items():\n",
    "    print(chave, valor)\n",
    "```\n",
    "\n",
    "Saída:\n",
    "```\n",
    "Dicionário padrão:\n",
    "a 1\n",
    "b 2\n",
    "c 3\n",
    "\n",
    "OrderedDict:\n",
    "a 1\n",
    "b 2\n",
    "c 3\n",
    "```\n",
    "\n",
    "Observe que a ordem dos itens é a mesma no `OrderedDict`, enquanto que em um dicionário padrão, a ordem não é garantida.\n",
    "\n",
    "### Uso comum:\n",
    "\n",
    "`collections.OrderedDict` é útil sempre que a ordem dos itens em um dicionário é importante. Isso pode ser útil em situações como:\n",
    "\n",
    "- Manter a ordem de inserção para fins de registro ou auditoria.\n",
    "- Criar representações ordenadas de dados, como configurações ou comandos.\n",
    "- Interagir com sistemas ou APIs que esperam dados em uma ordem específica.\n",
    "\n",
    "Em resumo, `collections.OrderedDict` é uma ferramenta útil quando você precisa manter a ordem de inserção dos itens em um dicionário, garantindo que os itens sejam iterados na mesma ordem em que foram inseridos."
   ]
  },
  {
   "cell_type": "code",
   "execution_count": 30,
   "id": "a0f03fa6",
   "metadata": {},
   "outputs": [
    {
     "name": "stdout",
     "output_type": "stream",
     "text": [
      "Chave: a - Valor: 1\n",
      "Chave: b - Valor: 2\n",
      "Chave: c - Valor: 3\n",
      "Chave: d - Valor: 4\n",
      "Chave: e - Valor: 5\n"
     ]
    }
   ],
   "source": [
    "#Em um dicionario a ordem de inseção dos elemento não e garantida\n",
    "dicionario = {'a':1, 'b':2, 'c':3, 'd':4, 'e':5}\n",
    "for chave, valor in dicionario.items():\n",
    "    print(f'Chave: {chave} - Valor: {valor}')"
   ]
  },
  {
   "cell_type": "code",
   "execution_count": 31,
   "id": "3de754d9",
   "metadata": {},
   "outputs": [
    {
     "name": "stdout",
     "output_type": "stream",
     "text": [
      "Chave: a - Valor: 1\n",
      "Chave: b - Valor: 2\n",
      "Chave: c - Valor: 3\n",
      "Chave: d - Valor: 4\n",
      "Chave: e - Valor: 5\n"
     ]
    }
   ],
   "source": [
    "#Ordered dict\n",
    "from collections import OrderedDict\n",
    "\n",
    "#Ordered dict nos garanti a ordem de inserção dos elementos\n",
    "dicio = OrderedDict({'a':1, 'b':2, 'c':3, 'd':4, 'e':5})\n",
    "\n",
    "for chave, valor in dicio.items():\n",
    "    print(f'Chave: {chave} - Valor: {valor}')"
   ]
  },
  {
   "cell_type": "code",
   "execution_count": 32,
   "id": "ea5f1351",
   "metadata": {},
   "outputs": [
    {
     "name": "stdout",
     "output_type": "stream",
     "text": [
      "True\n",
      "Ordered 1 e igual ao 2 False\n"
     ]
    }
   ],
   "source": [
    "#Exemplo\n",
    "dicio = {'a':1, 'b':2}\n",
    "dicio2 = {'b':2, 'a':1}\n",
    "print(dicio == dicio2)\n",
    "\n",
    "#Ordered\n",
    "ord1 = OrderedDict({'a':1, 'b':2})\n",
    "odr2 = OrderedDict({'b':2, 'a':1})\n",
    "print(f'Ordered 1 e igual ao 2 {ord1 == odr2}')"
   ]
  },
  {
   "cell_type": "code",
   "execution_count": null,
   "id": "86e9b765",
   "metadata": {},
   "outputs": [],
   "source": []
  },
  {
   "cell_type": "markdown",
   "id": "8b8d5d9d",
   "metadata": {},
   "source": [
    "# **Collections - Named Tuple**"
   ]
  },
  {
   "cell_type": "markdown",
   "id": "2bce2799",
   "metadata": {},
   "source": [
    "`collections.namedtuple` é uma função factory (fábrica de funções) que cria subclasses de tuplas com campos nomeados. Esses campos podem ser acessados usando o nome atribuído a eles, em vez de apenas índices numéricos como em tuplas normais. \n",
    "\n",
    "Aqui está uma explicação detalhada sobre `collections.namedtuple`:\n",
    "\n",
    "### Funcionamento:\n",
    "\n",
    "`namedtuple` cria uma nova subclasse de tuplas com campos nomeados. Esses campos são definidos como uma sequência de nomes de campos, fornecidos como uma string ou uma lista de strings. Esta subclasse de tupla tem uma definição de campo fixa e, portanto, é mais eficiente que um dicionário em termos de uso de memória.\n",
    "\n",
    "### Exemplos de uso:\n",
    "\n",
    "1. **Criando uma namedtuple:**\n",
    "\n",
    "```python\n",
    "from collections import namedtuple\n",
    "\n",
    "# Definindo uma namedtuple chamada 'Ponto' com campos 'x' e 'y'\n",
    "Ponto = namedtuple('Ponto', ['x', 'y'])\n",
    "\n",
    "# Criando uma instância de Ponto\n",
    "p1 = Ponto(1, 2)\n",
    "\n",
    "# Acessando os campos pelo nome\n",
    "print(p1.x)  # Saída: 1\n",
    "print(p1.y)  # Saída: 2\n",
    "```\n",
    "\n",
    "2. **Atribuindo valores aos campos por meio de unpacking:**\n",
    "\n",
    "```python\n",
    "# Criando uma instância de Ponto usando unpacking\n",
    "p2 = Ponto(x=3, y=4)\n",
    "\n",
    "# Acessando os campos pelo nome\n",
    "print(p2.x)  # Saída: 3\n",
    "print(p2.y)  # Saída: 4\n",
    "```\n",
    "\n",
    "3. **Métodos disponíveis:**\n",
    "\n",
    "`namedtuple` cria uma subclasse de tuplas que herda todos os métodos de uma tupla padrão. Além disso, ele adiciona alguns métodos próprios, como `_asdict()` e `_replace()`, que permitem manipular os dados de forma conveniente.\n",
    "\n",
    "```python\n",
    "# Obtendo um dicionário representando a namedtuple\n",
    "print(p1._asdict())  # Saída: {'x': 1, 'y': 2}\n",
    "\n",
    "# Substituindo valores de campos em uma nova instância\n",
    "p3 = p1._replace(x=5)\n",
    "print(p3)  # Saída: Ponto(x=5, y=2)\n",
    "```\n",
    "\n",
    "### Uso comum:\n",
    "\n",
    "`namedtuple` é útil sempre que você precisar de uma estrutura de dados leve e imutável com campos nomeados. Algumas situações comuns de uso incluem:\n",
    "\n",
    "- Representação de dados com campos bem definidos, como coordenadas, registros de banco de dados, pontos de dados em gráficos, etc.\n",
    "- Substituição de dicionários para economizar espaço de memória, especialmente quando você tem muitas instâncias com uma definição de campo fixa.\n",
    "\n",
    "Em resumo, `collections.namedtuple` é uma ferramenta útil para criar estruturas de dados leves e imutáveis com campos nomeados, combinando a facilidade de uso de tuplas com a acessibilidade de campos por nome."
   ]
  },
  {
   "cell_type": "code",
   "execution_count": 33,
   "id": "a5e6bb65",
   "metadata": {},
   "outputs": [
    {
     "name": "stdout",
     "output_type": "stream",
     "text": [
      "<class '__main__.cachorro'>\n",
      "<class '__main__.cachorro'>\n",
      "<class '__main__.cachorro'>\n",
      "cachorro(idade=2, raca='Chow-Chow', nome='Ray')\n"
     ]
    }
   ],
   "source": [
    "#Import\n",
    "from collections import namedtuple\n",
    "\n",
    "#Forma1 - Declara named tuple\n",
    "cachorro = namedtuple('cachorro', 'idade raca nome')\n",
    "print(cachorro)\n",
    "\n",
    "#Forma2 - Declara named tuple\n",
    "cachorro2 = namedtuple('cachorro', 'idade, raca, nome')\n",
    "print(cachorro2)\n",
    "\n",
    "#Forma3 - Declara named tuple\n",
    "cachorro3 = namedtuple('cachorro', ['idade', 'raca', 'nome'])\n",
    "print(cachorro3)\n",
    "\n",
    "ray = cachorro(idade=2, raca='Chow-Chow', nome='Ray')\n",
    "print(ray)\n",
    "\n"
   ]
  },
  {
   "cell_type": "code",
   "execution_count": null,
   "id": "476ba7c5",
   "metadata": {},
   "outputs": [],
   "source": []
  },
  {
   "cell_type": "markdown",
   "id": "6767366b",
   "metadata": {},
   "source": [
    "# **Collections - Deque**"
   ]
  },
  {
   "cell_type": "markdown",
   "id": "bd9c706b",
   "metadata": {},
   "source": [
    "`collections.deque` é uma estrutura de dados em Python que combina as características de uma pilha (stack) e de uma fila (queue). \"Deque\" é uma abreviação de \"Double-Ended Queue\", ou seja, uma fila na qual é possível adicionar e remover elementos tanto na frente quanto atrás.\n",
    "\n",
    "Aqui está uma explicação detalhada sobre `collections.deque`:\n",
    "\n",
    "### Funcionamento:\n",
    "\n",
    "`deque` é uma estrutura de dados otimizada para inserções e remoções eficientes tanto no início quanto no final da fila. Isso a torna adequada para situações em que você precisa manipular grandes quantidades de dados e deseja evitar os altos custos de inserção e remoção de elementos no início de uma lista padrão.\n",
    "\n",
    "### Exemplos de uso:\n",
    "\n",
    "1. **Criando um deque:**\n",
    "\n",
    "```python\n",
    "from collections import deque\n",
    "\n",
    "# Criando um deque vazio\n",
    "d = deque()\n",
    "\n",
    "# Adicionando elementos ao deque\n",
    "d.append(1)  # Adiciona 1 ao final do deque\n",
    "d.appendleft(2)  # Adiciona 2 ao início do deque\n",
    "\n",
    "print(d)  # Saída: deque([2, 1])\n",
    "```\n",
    "\n",
    "2. **Removendo elementos de um deque:**\n",
    "\n",
    "```python\n",
    "# Removendo elementos do final e do início do deque\n",
    "d.pop()  # Remove e retorna o último elemento do deque (1)\n",
    "d.popleft()  # Remove e retorna o primeiro elemento do deque (2)\n",
    "\n",
    "print(d)  # Saída: deque([])\n",
    "```\n",
    "\n",
    "3. **Acessando elementos de um deque:**\n",
    "\n",
    "```python\n",
    "# Acessando elementos do deque\n",
    "d.append(3)\n",
    "d.appendleft(4)\n",
    "\n",
    "print(d[0])  # Saída: 4\n",
    "print(d[-1])  # Saída: 3\n",
    "```\n",
    "\n",
    "4. **Rotação de um deque:**\n",
    "\n",
    "```python\n",
    "# Rotacionando um deque\n",
    "d.rotate(1)  # Rotaciona os elementos para a direita\n",
    "print(d)  # Saída: deque([3, 4])\n",
    "\n",
    "d.rotate(-1)  # Rotaciona os elementos para a esquerda\n",
    "print(d)  # Saída: deque([4, 3])\n",
    "```\n",
    "\n",
    "### Uso comum:\n",
    "\n",
    "`collections.deque` é útil em situações onde você precisa de uma estrutura de dados eficiente para inserir e remover elementos tanto no início quanto no final da fila. Alguns casos de uso comuns incluem:\n",
    "\n",
    "- Processamento de filas em larga escala, como processamento de logs ou mensagens.\n",
    "- Implementação de algoritmos que exigem operações de inserção e remoção eficientes em ambas as extremidades, como algoritmos de busca em largura (BFS).\n",
    "\n",
    "Em resumo, `collections.deque` é uma ferramenta útil para manipulação eficiente de filas com inserção e remoção de elementos tanto no início quanto no final. Ela oferece desempenho superior em comparação com listas padrão, especialmente em cenários onde há uma grande quantidade de operações de inserção e remoção."
   ]
  },
  {
   "cell_type": "code",
   "execution_count": 34,
   "id": "a9c33b8f",
   "metadata": {},
   "outputs": [
    {
     "name": "stdout",
     "output_type": "stream",
     "text": [
      "deque(['P', 'y', 't', 'h', 'o', 'n', ' ', 'P', 'r', 'o', 'f', 'i', 's', 's', 'i', 'o', 'n', 'a', 'l'])\n",
      "deque(['P', 'y', 't', 'h', 'o', 'n', ' ', 'P', 'r', 'o', 'f', 'i', 's', 's', 'i', 'o', 'n', 'a', 'l', 'WWE'])\n",
      "deque(['Curso Python', 'P', 'y', 't', 'h', 'o', 'n', ' ', 'P', 'r', 'o', 'f', 'i', 's', 's', 'i', 'o', 'n', 'a', 'l', 'WWE'])\n",
      "deque(['Curso Python', 'P', 'y', 't', 'h', 'o', 'n', ' ', 'P', 'r', 'o', 'f', 'i', 's', 's', 'i', 'o', 'n', 'a', 'l'])\n",
      "deque(['P', 'y', 't', 'h', 'o', 'n', ' ', 'P', 'r', 'o', 'f', 'i', 's', 's', 'i', 'o', 'n', 'a', 'l'])\n"
     ]
    }
   ],
   "source": [
    "#Import \n",
    "from collections import deque\n",
    "\n",
    "#Criando o deque\n",
    "deq = deque('Python Profissional')\n",
    "print(deq)\n",
    "\n",
    "#Adicionando elementos no inicio\n",
    "deq.append('WWE')\n",
    "print(deq)\n",
    "\n",
    "#Adicionando elementos no FInal\n",
    "deq.appendleft('Curso Python')\n",
    "print(deq)\n",
    "\n",
    "#Remove o ultimo elemento\n",
    "deq.pop()\n",
    "print(deq)\n",
    "\n",
    "#Remove o primeiro\n",
    "deq.popleft()\n",
    "print(deq)"
   ]
  },
  {
   "cell_type": "code",
   "execution_count": null,
   "id": "bdcd6ada",
   "metadata": {},
   "outputs": [],
   "source": []
  },
  {
   "cell_type": "code",
   "execution_count": null,
   "id": "4d337bcb",
   "metadata": {},
   "outputs": [],
   "source": []
  }
 ],
 "metadata": {
  "kernelspec": {
   "display_name": "Python 3 (ipykernel)",
   "language": "python",
   "name": "python3"
  },
  "language_info": {
   "codemirror_mode": {
    "name": "ipython",
    "version": 3
   },
   "file_extension": ".py",
   "mimetype": "text/x-python",
   "name": "python",
   "nbconvert_exporter": "python",
   "pygments_lexer": "ipython3",
   "version": "3.11.7"
  }
 },
 "nbformat": 4,
 "nbformat_minor": 5
}
