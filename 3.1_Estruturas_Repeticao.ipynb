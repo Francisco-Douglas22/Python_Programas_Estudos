{
 "cells": [
  {
   "cell_type": "markdown",
   "metadata": {},
   "source": [
    "# <font color='blue'>***Estruturas de Repetição - For e While***</font>"
   ]
  },
  {
   "cell_type": "markdown",
   "metadata": {},
   "source": [
    "# <font color='gray'>**For**</font>"
   ]
  },
  {
   "cell_type": "code",
   "execution_count": 1,
   "metadata": {},
   "outputs": [
    {
     "name": "stdout",
     "output_type": "stream",
     "text": [
      "D - e - s - e - n - v - o - l - v - e - d - o - r -   - P - y - t - h - o - n - "
     ]
    }
   ],
   "source": [
    "#Utilizamos loops para iterar sobre sequencas ou sobre valores iteraveis\n",
    "nome = 'Desenvolvedor Python'\n",
    "lista = [1, 2, 3, 4]\n",
    "numeros = range(1, 10)\n",
    "\n",
    "#Iterando sobre uma string\n",
    "#Para cada letra no nome imprima a letra\n",
    "# end = junta linhas e posso seleciona o espaço\n",
    "for letra in nome:\n",
    "    print(letra, end=' - ')"
   ]
  },
  {
   "cell_type": "code",
   "execution_count": 2,
   "metadata": {},
   "outputs": [
    {
     "name": "stdout",
     "output_type": "stream",
     "text": [
      "1  2  3  4  "
     ]
    }
   ],
   "source": [
    "#Exemplo for iterando sobre uma lista\n",
    "for numero in lista:\n",
    "    print(numero, end='  ') #Se eu nao utiliza o end sera imprimido cada elemento em linhas separadas"
   ]
  },
  {
   "cell_type": "code",
   "execution_count": 3,
   "metadata": {},
   "outputs": [
    {
     "name": "stdout",
     "output_type": "stream",
     "text": [
      "1\n",
      "2\n",
      "3\n",
      "4\n",
      "5\n",
      "6\n",
      "7\n",
      "8\n",
      "9\n",
      "10\n"
     ]
    }
   ],
   "source": [
    "#Utilizando com o range\n",
    "#O range sempre desconsidera o ultimo numero\n",
    "# no range o primeiro valor e 0\n",
    "\n",
    "for numero in range(1, 11):\n",
    "    print(numero)"
   ]
  },
  {
   "cell_type": "code",
   "execution_count": 4,
   "metadata": {},
   "outputs": [
    {
     "name": "stdout",
     "output_type": "stream",
     "text": [
      "P 0\n",
      "y 1\n",
      "t 2\n",
      "h 3\n",
      "o 4\n",
      "n 5\n",
      "  6\n",
      "e 7\n",
      "  8\n",
      "J 9\n",
      "A 10\n",
      "V 11\n",
      "A 12\n"
     ]
    }
   ],
   "source": [
    "#Utilizando o Enumerate\n",
    "texto = 'Python e JAVA'\n",
    "lista = [1, 45, 1, 6, 7, 8, 3, 5, 12]\n",
    "numeros = range(1,20)\n",
    "\n",
    "#Para cada indice dentro da numeracao no texto\n",
    "#Imprima o Indice e o valor/letra\n",
    "\n",
    "for indice, valor in enumerate(texto):\n",
    "    print(valor, indice)"
   ]
  },
  {
   "cell_type": "code",
   "execution_count": 5,
   "metadata": {},
   "outputs": [
    {
     "name": "stdout",
     "output_type": "stream",
     "text": [
      "P - y - t - h - o - n -   - e -   - J - A - V - A - "
     ]
    }
   ],
   "source": [
    "#Quando nao sei qual parametro utiliza ou se nao desejo utiliza o indice\n",
    "for _, letra in enumerate(texto):\n",
    "    print(letra, end=' - ')"
   ]
  },
  {
   "cell_type": "code",
   "execution_count": 6,
   "metadata": {},
   "outputs": [
    {
     "name": "stdout",
     "output_type": "stream",
     "text": [
      "0\n",
      "1\n",
      "2\n",
      "3\n",
      "4\n",
      "5\n",
      "6\n",
      "7\n",
      "8\n",
      "9\n",
      "10\n",
      "11\n",
      "12\n"
     ]
    }
   ],
   "source": [
    "#Imprimindo apenas o indice\n",
    "for indice, valor in enumerate(texto):\n",
    "    print(indice)"
   ]
  },
  {
   "cell_type": "code",
   "execution_count": 7,
   "metadata": {},
   "outputs": [
    {
     "name": "stdout",
     "output_type": "stream",
     "text": [
      "Imprimindo o valor 1\n",
      "Imprimindo o valor 2\n",
      "Imprimindo o valor 3\n"
     ]
    }
   ],
   "source": [
    "#Quantidade de numeros\n",
    "qtd = int(input('Digite a quantidade: '))\n",
    "\n",
    "for n in range(1, qtd+1):\n",
    "    print(f'Imprimindo o valor {n}')"
   ]
  },
  {
   "cell_type": "code",
   "execution_count": 8,
   "metadata": {},
   "outputs": [
    {
     "name": "stdout",
     "output_type": "stream",
     "text": [
      "A Soma dos 4 numeros e 10\n"
     ]
    }
   ],
   "source": [
    "#Outro exemplo\n",
    "qtd = int(input('Digite a quantidade: '))\n",
    "\n",
    "soma = 0\n",
    "\n",
    "for n in range(1, qtd+1):\n",
    "    num = int(input(f'Digite o {n} numero: '))\n",
    "    soma += num\n",
    "    \n",
    "print(f'A Soma dos {qtd} numeros e {soma}')"
   ]
  },
  {
   "cell_type": "code",
   "execution_count": 15,
   "metadata": {},
   "outputs": [
    {
     "name": "stdout",
     "output_type": "stream",
     "text": [
      "😂 😅\n",
      "😂😂 😅😅\n",
      "😂😂😂 😅😅😅\n",
      "😂😂😂😂 😅😅😅😅\n",
      "😂😂😂😂😂 😅😅😅😅😅\n",
      "😂😂😂😂😂😂 😅😅😅😅😅😅\n",
      "😂😂😂😂😂😂😂 😅😅😅😅😅😅😅\n",
      "😂😂😂😂😂😂😂😂 😅😅😅😅😅😅😅😅\n",
      "😂😂😂😂😂😂😂😂😂 😅😅😅😅😅😅😅😅😅\n",
      "😂😂😂😂😂😂😂😂😂😂 😅😅😅😅😅😅😅😅😅😅\n",
      "😂😂😂😂😂😂😂😂😂😂😂 😅😅😅😅😅😅😅😅😅😅😅\n"
     ]
    }
   ],
   "source": [
    "#Imprimindo emojis\n",
    "# emoji = U+1F602 - Temos que modifica, troca o + por 3 zeros 000\n",
    "# emoji = U0001F602 # Modificado\n",
    "\n",
    "emoji = 'U0001F602'\n",
    "\n",
    "for num in range(1, 12):\n",
    "    print('\\U0001F602' * num, '\\U0001F605' * num)"
   ]
  },
  {
   "cell_type": "code",
   "execution_count": 16,
   "metadata": {},
   "outputs": [
    {
     "name": "stdout",
     "output_type": "stream",
     "text": [
      "1\n",
      "3\n",
      "5\n",
      "7\n",
      "9\n"
     ]
    }
   ],
   "source": [
    "#range\n",
    "#inicio, fim, passo\n",
    "#vai de 1 ao 10 de 2 em 2\n",
    "\n",
    "for n in range(1, 11, 2):\n",
    "    print(n)"
   ]
  },
  {
   "cell_type": "code",
   "execution_count": 18,
   "metadata": {},
   "outputs": [
    {
     "name": "stdout",
     "output_type": "stream",
     "text": [
      "1 -, 4 -, 7 -, 10 -, 13 -, 16 -, 19 -, 22 -, 25 -, 28 -, 31 -, 34 -, 37 -, 40 -, 43 -, 46 -, 49 -, 52 -, 55 -, 58 -, 61 -, 64 -, 67 -, 70 -, 73 -, 76 -, 79 -, 82 -, 85 -, 88 -, 91 -, 94 -, 97 -, 100 -, "
     ]
    }
   ],
   "source": [
    "#Melhor explicação\n",
    "inicio = 1\n",
    "fim    = 100\n",
    "passo  = 3\n",
    "\n",
    "for n in range(inicio, fim + 1, passo):\n",
    "    print(n, end=' -, ')"
   ]
  },
  {
   "cell_type": "code",
   "execution_count": 19,
   "metadata": {},
   "outputs": [
    {
     "name": "stdout",
     "output_type": "stream",
     "text": [
      "0\n",
      "1\n",
      "2\n",
      "3\n",
      "4\n",
      "5\n",
      "6\n",
      "7\n",
      "8\n",
      "9\n",
      "10\n"
     ]
    }
   ],
   "source": [
    "#Utilizamos tambem o range apenas com Inicio e fim na maioria das vezes\n",
    "inicio = 0\n",
    "fim = 11\n",
    "\n",
    "for n in range(inicio, fim):\n",
    "    print(n)"
   ]
  },
  {
   "cell_type": "code",
   "execution_count": 1,
   "metadata": {},
   "outputs": [
    {
     "name": "stdout",
     "output_type": "stream",
     "text": [
      "P\n",
      "y\n",
      "t\n",
      "h\n",
      "o\n",
      "n\n"
     ]
    }
   ],
   "source": [
    "#Exemplo \n",
    "texto = 'Python'\n",
    "\n",
    "for n in texto:\n",
    "    print(n)"
   ]
  },
  {
   "cell_type": "code",
   "execution_count": 9,
   "metadata": {},
   "outputs": [
    {
     "name": "stdout",
     "output_type": "stream",
     "text": [
      "0 + 1 = 1\n",
      "1 + 2 = 3\n",
      "2 + 3 = 5\n",
      "3 + 4 = 7\n",
      "4 + 5 = 9\n",
      "5 + 6 = 11\n",
      "6 + 7 = 13\n",
      "7 + 8 = 15\n",
      "8 + 9 = 17\n",
      "9 + 10 = 19\n"
     ]
    }
   ],
   "source": [
    "#Utilizando o range\n",
    "for dados in range(10):\n",
    "    print(f'{dados} + {dados+1} = {dados+dados+1}')"
   ]
  },
  {
   "cell_type": "code",
   "execution_count": 1,
   "metadata": {},
   "outputs": [],
   "source": [
    "#QUANDO UTILIZA CADA FOR\n",
    "produtos = [\"Produto 1\", \"Produto 2\", \"Produto 3\", \"Produto 4\", \"Produto 5\", \n",
    "            \"Produto 6\", \"Produto 7\", \"Produto 8\", \"Produto 9\", \"Produto 10\"]\n",
    "\n",
    "precos = [10.99, 20.99, 30.99, 40.99, 50.99, 60.99, 70.99, 80.99, 90.99, 100.99]"
   ]
  },
  {
   "cell_type": "code",
   "execution_count": 3,
   "metadata": {},
   "outputs": [
    {
     "name": "stdout",
     "output_type": "stream",
     "text": [
      "12.09\n",
      "23.09\n",
      "34.09\n",
      "45.09\n",
      "56.09\n",
      "67.09\n",
      "78.09\n",
      "89.09\n",
      "100.09\n",
      "111.09\n"
     ]
    }
   ],
   "source": [
    "#For item in lista\n",
    "for preco in precos:\n",
    "    print(f'{preco*1.1:.2f}')"
   ]
  },
  {
   "cell_type": "code",
   "execution_count": 6,
   "metadata": {},
   "outputs": [
    {
     "name": "stdout",
     "output_type": "stream",
     "text": [
      "10.99 Produto 1\n",
      "20.99 Produto 2\n",
      "30.99 Produto 3\n",
      "40.99 Produto 4\n",
      "50.99 Produto 5\n",
      "60.99 Produto 6\n",
      "70.99 Produto 7\n",
      "80.99 Produto 8\n",
      "90.99 Produto 9\n",
      "100.99 Produto 10\n"
     ]
    }
   ],
   "source": [
    "#For i in range\n",
    "for i in range(len(precos)):\n",
    "    print(precos[i], produtos[i])"
   ]
  },
  {
   "cell_type": "code",
   "execution_count": 8,
   "metadata": {},
   "outputs": [
    {
     "name": "stdout",
     "output_type": "stream",
     "text": [
      "10.99 Produto 1\n",
      "20.99 Produto 2\n",
      "30.99 Produto 3\n",
      "40.99 Produto 4\n",
      "50.99 Produto 5\n",
      "60.99 Produto 6\n",
      "70.99 Produto 7\n",
      "80.99 Produto 8\n",
      "90.99 Produto 9\n",
      "100.99 Produto 10\n"
     ]
    }
   ],
   "source": [
    "#For item in lista com Enumerate\n",
    "for indice, preco in enumerate(precos):\n",
    "    print(precos[indice], produtos[indice])\n"
   ]
  },
  {
   "cell_type": "code",
   "execution_count": null,
   "metadata": {},
   "outputs": [],
   "source": []
  },
  {
   "cell_type": "code",
   "execution_count": null,
   "metadata": {},
   "outputs": [],
   "source": []
  },
  {
   "cell_type": "markdown",
   "metadata": {},
   "source": [
    "# **While**"
   ]
  },
  {
   "cell_type": "code",
   "execution_count": 21,
   "metadata": {},
   "outputs": [
    {
     "name": "stdout",
     "output_type": "stream",
     "text": [
      "Meu nome e 1\n",
      "Meu nome e 2\n",
      "Meu nome e 3\n",
      "Meu nome e 4\n",
      "Meu nome e 5\n",
      "Meu nome e 6\n",
      "Meu nome e 7\n",
      "Meu nome e 8\n",
      "Meu nome e 9\n",
      "Meu nome e 10\n"
     ]
    }
   ],
   "source": [
    "#While utiliza uma expressao booleana para executa o loop\n",
    "# no While sempre devo utiliza um criterio de parada\n",
    "# Algumas vezes nao poderei utiliza criterios de parada\n",
    "\n",
    "cont = 0\n",
    "\n",
    "while cont < 10:\n",
    "    cont += 1  #Caso eu nao utilize esse encremento o loop ficara infinito\n",
    "    print(f'Meu nome e {cont}')"
   ]
  },
  {
   "cell_type": "code",
   "execution_count": 22,
   "metadata": {},
   "outputs": [
    {
     "name": "stdout",
     "output_type": "stream",
     "text": [
      "amigo\n",
      "inimigo\n",
      "amen\n",
      "obrigado\n",
      "sim\n"
     ]
    }
   ],
   "source": [
    "#Outra forma\n",
    "resposta = ''\n",
    "\n",
    "while resposta != 'sim':\n",
    "    resposta = input('Digite alguma coisa ou \"sim\" para sair: ').lower()\n",
    "    print(resposta)"
   ]
  },
  {
   "cell_type": "code",
   "execution_count": 24,
   "metadata": {},
   "outputs": [
    {
     "name": "stdout",
     "output_type": "stream",
     "text": [
      "Voce digitou 4 numeros\n",
      "A Soma dos 4 numeros e 19\n"
     ]
    }
   ],
   "source": [
    "#Interronpendo loops com break\n",
    "soma = 0\n",
    "contador = 0\n",
    "\n",
    "while True:\n",
    "    \n",
    "    num = int(input('Digite um numero inteiro: '))\n",
    "    contador += 1\n",
    "    soma += num\n",
    "    \n",
    "    sair = str(input('Deseja sair [S][N]: ')).upper()\n",
    "    \n",
    "    if sair == \"S\":\n",
    "        break\n",
    "    \n",
    "print(f'Voce digitou {contador} numeros')\n",
    "print(f'A Soma dos {contador} numeros e {soma}')"
   ]
  },
  {
   "cell_type": "code",
   "execution_count": 26,
   "metadata": {},
   "outputs": [
    {
     "name": "stdout",
     "output_type": "stream",
     "text": [
      "1\n",
      "2\n",
      "3\n",
      "4\n",
      "5\n",
      "Encerrando no 6\n"
     ]
    }
   ],
   "source": [
    "#Exemplo do Break com for\n",
    "for numero in range(1, 11):\n",
    "    if numero == 6:\n",
    "        print(f'Encerrando no 6')\n",
    "        break\n",
    "    else:\n",
    "        print(numero)"
   ]
  },
  {
   "cell_type": "code",
   "execution_count": 37,
   "metadata": {},
   "outputs": [
    {
     "name": "stdout",
     "output_type": "stream",
     "text": [
      "1 2 3 5 6 7 8 12 13 14 15 17 18 19 \n",
      "\n",
      "\n",
      "1 2 3 5 6 7 8 9 10 15 16 17 18 19 20 "
     ]
    }
   ],
   "source": [
    "#Utilizando o pass\n",
    "for n in range(1, 20):\n",
    "    if n == 4:\n",
    "        pass\n",
    "    elif n > 8 and n < 12:\n",
    "        pass\n",
    "    elif n == 16:\n",
    "        pass\n",
    "    else:\n",
    "        print(n, end=' ')\n",
    "        \n",
    "print('\\n\\n')  \n",
    "\n",
    "\n",
    "#Utilizando o while\n",
    "    \n",
    "cont = 0\n",
    "while cont < 20:\n",
    "    cont += 1\n",
    "    if cont == 4:\n",
    "        pass\n",
    "    elif cont > 10 and cont < 15:\n",
    "        pass\n",
    "    else:\n",
    "        print(cont, end=' ')"
   ]
  },
  {
   "cell_type": "code",
   "execution_count": 38,
   "metadata": {},
   "outputs": [
    {
     "name": "stdout",
     "output_type": "stream",
     "text": [
      "Seu nome e Francisco Douglas\n"
     ]
    }
   ],
   "source": [
    "#Exemplo\n",
    "condicao = True\n",
    "\n",
    "while condicao:\n",
    "    nome = input('Digite o seu nome: ').title()\n",
    "    print(f'Seu nome e {nome}')\n",
    "    condicao = False"
   ]
  },
  {
   "cell_type": "code",
   "execution_count": 39,
   "metadata": {},
   "outputs": [
    {
     "name": "stdout",
     "output_type": "stream",
     "text": [
      "1 2 3 4 5 6 7 8 9 10 "
     ]
    }
   ],
   "source": [
    "#Exemplo\n",
    "contador = 0\n",
    "\n",
    "while True:\n",
    "    contador += 1\n",
    "    print(contador, end=' ')\n",
    "    if contador == 10:\n",
    "        break"
   ]
  },
  {
   "cell_type": "code",
   "execution_count": 40,
   "metadata": {},
   "outputs": [
    {
     "name": "stdout",
     "output_type": "stream",
     "text": [
      "1 - 2 - 3 - 4 - 5 - 10 - 11 - 13 - 14 - 15 - 16 - 17 - 18 - 19 - 20 - 21 - "
     ]
    }
   ],
   "source": [
    "#Utilizando o continue\n",
    "\n",
    "cont = 0\n",
    "\n",
    "while cont <= 20:\n",
    "    cont += 1\n",
    "    if cont > 5 and cont < 10:\n",
    "        continue\n",
    "    elif cont == 12:\n",
    "        continue\n",
    "    print(cont, end=' - ')"
   ]
  },
  {
   "cell_type": "code",
   "execution_count": 41,
   "metadata": {},
   "outputs": [
    {
     "name": "stdout",
     "output_type": "stream",
     "text": [
      "\n",
      "[1] [4] [1]\n",
      "[1] [4] [2]\n",
      "[1] [4] [3]\n",
      "\n",
      "[2] [4] [1]\n",
      "[2] [4] [2]\n",
      "[2] [4] [3]\n",
      "\n",
      "[3] [4] [1]\n",
      "[3] [4] [2]\n",
      "[3] [4] [3]\n"
     ]
    }
   ],
   "source": [
    "#While dentro de while criando uma matriz simples de 3 x 3\n",
    "\n",
    "qtd_linhas  = 3\n",
    "qtd_colunas = 3\n",
    "qtd_terc    = 3\n",
    "\n",
    "linha = 1\n",
    "while linha <= qtd_linhas:\n",
    "    \n",
    "    coluna = 1\n",
    "    \n",
    "    print('')\n",
    "    \n",
    "    while coluna <= qtd_colunas:\n",
    "        \n",
    "        tres = 1\n",
    "        coluna += 1\n",
    "        \n",
    "    while tres <= qtd_terc:\n",
    "        print(f'[{linha}] [{coluna}] [{tres}]')\n",
    "        tres += 1\n",
    "    linha += 1"
   ]
  },
  {
   "cell_type": "code",
   "execution_count": 6,
   "metadata": {},
   "outputs": [
    {
     "name": "stdout",
     "output_type": "stream",
     "text": [
      "Soma: 4.0 + 5.0 = 9.0\n",
      "Encerrando o programa...\n",
      "Programa encerrado com sucesso\n"
     ]
    }
   ],
   "source": [
    "#Criando uma Calculadora com o WHile\n",
    "\n",
    "from time import sleep\n",
    "\n",
    "while True:\n",
    "    \n",
    "    numero_1 = input('Digite o primeiro numero: ')\n",
    "    numero_2 = input('Digite o segundo numero: ')\n",
    "    \n",
    "    operador = input('Digite o operador [ + - / * ]: ')\n",
    "    \n",
    "    numeros_validos = None\n",
    "    \n",
    "    try:\n",
    "        n1 = float(numero_1)\n",
    "        n2 = float(numero_2)\n",
    "        \n",
    "        numeros_validos = True\n",
    "        operadores_permitidos = '+-/*'\n",
    "        \n",
    "        if numeros_validos is None:\n",
    "            print(f'Um ou Ambos os numeros e Invalido')\n",
    "            continue\n",
    "        \n",
    "        if operador not in operadores_permitidos:\n",
    "            print(f'O Operador {operador} e invalido')\n",
    "            continue\n",
    "        \n",
    "        if len(operador) > 1:\n",
    "            print('Digite apenas 1 operador')\n",
    "            continue\n",
    "        \n",
    "        #Condicionais para calculadora\n",
    "        if operador == '+':\n",
    "            print(f'Soma: {n1} + {n2} = {n1+n2}')\n",
    "            \n",
    "        elif operador == '-':\n",
    "            print(f'Subtrair: {n1} - {n2} = {n1-n2}')\n",
    "            \n",
    "        elif operador == '*':\n",
    "            print(f'Multiplicar: {n1} x {n2}')\n",
    "            \n",
    "        elif operador == '/':\n",
    "            print(f'Dividir: {n1} / {n2}')\n",
    "                  \n",
    "        \n",
    "        \n",
    "        \n",
    "    except Exception as erro:\n",
    "        print(erro)\n",
    "    \n",
    "    sair = input('Quer sair? [S][N]').title()\n",
    "    \n",
    "    if sair == \"S\":\n",
    "        print('Encerrando o programa...')\n",
    "        sleep(2)\n",
    "        print('Programa encerrado com sucesso')\n",
    "        break\n",
    "    else:\n",
    "        print(sair)\n",
    "    \n",
    "    "
   ]
  },
  {
   "cell_type": "code",
   "execution_count": 8,
   "metadata": {},
   "outputs": [
    {
     "name": "stdout",
     "output_type": "stream",
     "text": [
      "P\n",
      "y\n",
      "t\n",
      "h\n",
      "o\n",
      "n\n",
      "\n",
      "O Else foi executado\n"
     ]
    }
   ],
   "source": [
    "#Exemplo de while e else\n",
    "string = 'Python'\n",
    "\n",
    "cont = 0\n",
    "\n",
    "while cont < len(string):\n",
    "    letra = string[cont]\n",
    "    \n",
    "    print(letra)\n",
    "    cont += 1\n",
    "    \n",
    "else:\n",
    "    print('\\nO Else foi executado')"
   ]
  },
  {
   "cell_type": "code",
   "execution_count": 22,
   "metadata": {},
   "outputs": [
    {
     "name": "stdout",
     "output_type": "stream",
     "text": [
      "A Letra que apareceu mais vezes foi150 que apareceu150 x\n"
     ]
    }
   ],
   "source": [
    "#Contagem de Letras com o while\n",
    "poema =  \"\"\"Python, linguagem de encanto e magia,\n",
    "            Em cada linha, uma nova fantasia.\n",
    "            Simples e elegante, como uma canção,\n",
    "            Nos traz soluções com precisão.\n",
    "            Com sua sintaxe clara e concisa,\n",
    "            Torna a programação uma brisa.\n",
    "            Python, em nosso coração você habita,\n",
    "            Nas asas da inovação, nossa mente agita.\n",
    "            E assim vai, por sempre e para sempre.\n",
    "        \"\"\"\n",
    "\n",
    "indice = 0\n",
    "cont_letras = 0\n",
    "letra_mais_vezes = ''\n",
    "\n",
    "while indice < len(poema):\n",
    "    letra_atual = poema[indice]\n",
    "    \n",
    "    if letra_atual == '':\n",
    "        indice += 1\n",
    "        continue\n",
    "    \n",
    "    contagem_letras = poema.count(letra_atual)\n",
    "    \n",
    "    if  cont_letras < contagem_letras:\n",
    "        cont_letras = contagem_letras\n",
    "        letra_mais_vezes = letra_atual        \n",
    "    \n",
    "    indice += 1\n",
    "    \n",
    "print(\n",
    "    'A Letra que apareceu mais vezes foi'\n",
    "    f'{cont_letras} que apareceu'\n",
    "    f'{contagem_letras} x')"
   ]
  },
  {
   "cell_type": "code",
   "execution_count": null,
   "metadata": {},
   "outputs": [],
   "source": []
  },
  {
   "cell_type": "code",
   "execution_count": 1,
   "metadata": {},
   "outputs": [
    {
     "name": "stdout",
     "output_type": "stream",
     "text": [
      "Por favor, digite apenas uma letra válida.\n",
      "Palavra Formada: P-----\n",
      "Palavra Formada: Py----\n",
      "Palavra Formada: Pyt---\n",
      "Palavra Formada: Pyth--\n",
      "Palavra Formada: Pytho-\n",
      "Palavra Formada: Python\n",
      "Parabéns! Você completou a palavra!\n"
     ]
    }
   ],
   "source": [
    "import os\n",
    "\n",
    "palavra = 'Python'\n",
    "letra_correta = ''\n",
    "\n",
    "while True:\n",
    "    letra = input('Digite uma letra: ')\n",
    "    \n",
    "    if len(letra) != 1 or not letra.isalpha():\n",
    "        print('Por favor, digite apenas uma letra válida.')\n",
    "        continue\n",
    "    else:\n",
    "        if letra in palavra:\n",
    "            letra_correta += letra\n",
    "            \n",
    "        palavra_formada = ''\n",
    "        \n",
    "        for letra_secreta in palavra:\n",
    "            if letra_secreta in letra_correta:\n",
    "                palavra_formada += letra_secreta\n",
    "            else:\n",
    "                palavra_formada += '-'\n",
    "        \n",
    "        print(f'Palavra Formada: {palavra_formada}')\n",
    "        \n",
    "        if palavra_formada == palavra:\n",
    "            os.system('clear')\n",
    "            print('Parabéns! Você completou a palavra!')\n",
    "            break  # Termina o jogo quando a palavra é completada\n",
    "\n"
   ]
  },
  {
   "cell_type": "code",
   "execution_count": null,
   "metadata": {},
   "outputs": [],
   "source": []
  }
 ],
 "metadata": {
  "kernelspec": {
   "display_name": "base",
   "language": "python",
   "name": "python3"
  },
  "language_info": {
   "codemirror_mode": {
    "name": "ipython",
    "version": 3
   },
   "file_extension": ".py",
   "mimetype": "text/x-python",
   "name": "python",
   "nbconvert_exporter": "python",
   "pygments_lexer": "ipython3",
   "version": "3.12.2"
  }
 },
 "nbformat": 4,
 "nbformat_minor": 2
}
