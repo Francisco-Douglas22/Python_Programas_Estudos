{
 "cells": [
  {
   "cell_type": "markdown",
   "metadata": {},
   "source": [
    "# <font color='green'>***Orientação a Objetos***</font>"
   ]
  },
  {
   "cell_type": "code",
   "execution_count": 1,
   "metadata": {},
   "outputs": [
    {
     "name": "stdout",
     "output_type": "stream",
     "text": [
      "10 <class 'int'>\n",
      "Python <class 'str'>\n",
      "<__main__.Produto object at 0x000001E6CF6B3650> <class '__main__.Produto'>\n"
     ]
    }
   ],
   "source": [
    "\"\"\" \n",
    "Programação Orientada a Objetos - POO\n",
    "-- POO e um paradigma de programacao que utiliza mapeamento de objetos\n",
    "do mundo real para modelos computacionais\n",
    "\n",
    "-- Paradigma de programacao e a forma/metodologia utilizada para pensar/desenvolver sistemas\n",
    "\n",
    "Principais elementos da Orientacao a Objetos\n",
    "- Classe - Modelo do objeto do mundo real sendo representado computacionalmente\n",
    "- Atributo - Caracteristica do objeto\n",
    "- Metodo - Comportamento do objeto (funcoes)\n",
    "- Construtor - Metodo especial utilizado para criar os objetos\n",
    "- Objeto - Instancia da Classe\n",
    "\"\"\"\n",
    "\n",
    "#Exemplo\n",
    "numero = 10\n",
    "nom = \"Python\"\n",
    "print(numero, type(numero))\n",
    "print(nom, type(nom))\n",
    "\n",
    "class Produto:\n",
    "    pass\n",
    "\n",
    "ps4 = Produto()\n",
    "print(ps4, type(ps4))"
   ]
  },
  {
   "cell_type": "code",
   "execution_count": null,
   "metadata": {},
   "outputs": [],
   "source": [
    "#Exemplo Classe\n",
    "class Cachorro:\n",
    "    def __init__(self, nome, cor, acordado=True):\n",
    "        self.nome = nome\n",
    "        self.cor  = cor\n",
    "        self.acordado = acordado\n",
    "        \n",
    "    def latir(self):\n",
    "        print(\"Auauauaua\")\n",
    "        \n",
    "    def dormir(self):\n",
    "        self.acordado = False\n",
    "        print(\"ZZzzzzzz\")\n",
    "        \n",
    "#Objeto"
   ]
  },
  {
   "cell_type": "code",
   "execution_count": 38,
   "metadata": {},
   "outputs": [
    {
     "name": "stdout",
     "output_type": "stream",
     "text": [
      "Plim Plim\n",
      "Parada\n",
      "Pedalando...\n",
      "Verde 1500 Caloi\n"
     ]
    }
   ],
   "source": [
    "'''Joao tem uma bicicleta e gostaria de registras as vendas de suas bicicletas.\n",
    "Cre um programa onde joao informe: Cor, Modelo, Ano e valor da bicicleta vendida.\n",
    "Uma bicicleta pode buzinar, para e correr. Adicione esses comportamentos'''\n",
    "\n",
    "class Bicicleta:\n",
    "    #Metodo Construtor\n",
    "    def __init__(self, cor, modelo, ano, valor):\n",
    "        \n",
    "        #Atributos sao as caracteristicas da classe\n",
    "        self.cor = cor\n",
    "        self.modelo = modelo\n",
    "        self.ano = ano\n",
    "        self.valor = valor \n",
    "        \n",
    "    #Definindo metodos dentro da classe\n",
    "    def buzinar(self):\n",
    "        print(\"Plim Plim\")\n",
    "        \n",
    "    def parar(self):\n",
    "        print(\"Parada\")\n",
    "        \n",
    "    def correr(self):\n",
    "        print(\"Pedalando...\")\n",
    "    \n",
    "    #Segundo exemplo melhor e mais utilizado\n",
    "    def __str__(self):\n",
    "        return f\"{self.__class__.__name__}: {'; '.join([f'{chave} = {valor}' \n",
    "        for chave, valor in self.__dict__.items()])}\"\n",
    "        \n",
    "caloi = Bicicleta(\"Verde\", \"Caloi\", \"2024\", 1500)\n",
    "\n",
    "caloi.buzinar()\n",
    "caloi.parar()\n",
    "caloi.correr()\n",
    "\n",
    "print(caloi.cor, caloi.valor, caloi.modelo)\n",
    "\n"
   ]
  },
  {
   "cell_type": "code",
   "execution_count": 51,
   "metadata": {},
   "outputs": [
    {
     "name": "stdout",
     "output_type": "stream",
     "text": [
      "Inicializando a classe....\n",
      "Removendo a instancia da Classe\n",
      "Auauau\n",
      "Inicializando a classe....\n",
      "Zeus\n",
      "Removendo a instancia da Classe\n"
     ]
    }
   ],
   "source": [
    "#Construtores e Destrutores\n",
    "class Cachorro:\n",
    "    # def __init__ Construtor\n",
    "    def __init__(self, nome, cor, acordado=True):\n",
    "        print(\"Inicializando a classe....\")\n",
    "        self.nome = nome\n",
    "        self.cor  = cor\n",
    "        self.acordado = acordado\n",
    "        \n",
    "    # def __del__ Destrutor\n",
    "    def __del__(self):\n",
    "        print(\"Removendo a instancia da Classe\")\n",
    "        \n",
    "    def falar(self):\n",
    "        print(\"Auauau\")\n",
    "\n",
    "def cria_cachorro():\n",
    "    c = Cachorro(\"Zeus\", \"Branco e preto\", False)\n",
    "    print(c.nome)\n",
    "    \n",
    "    \n",
    "    \n",
    "cachorro = Cachorro(\"Rex\", \"Preto\", acordado=False)\n",
    "cachorro.falar()\n",
    "\n",
    "cria_cachorro()\n",
    "        \n",
    "    "
   ]
  },
  {
   "cell_type": "code",
   "execution_count": null,
   "metadata": {},
   "outputs": [],
   "source": []
  },
  {
   "cell_type": "code",
   "execution_count": null,
   "metadata": {},
   "outputs": [],
   "source": []
  },
  {
   "cell_type": "code",
   "execution_count": null,
   "metadata": {},
   "outputs": [],
   "source": []
  },
  {
   "cell_type": "code",
   "execution_count": null,
   "metadata": {},
   "outputs": [],
   "source": []
  },
  {
   "cell_type": "code",
   "execution_count": null,
   "metadata": {},
   "outputs": [],
   "source": []
  },
  {
   "cell_type": "code",
   "execution_count": null,
   "metadata": {},
   "outputs": [],
   "source": []
  },
  {
   "cell_type": "code",
   "execution_count": null,
   "metadata": {},
   "outputs": [],
   "source": []
  },
  {
   "cell_type": "code",
   "execution_count": null,
   "metadata": {},
   "outputs": [],
   "source": []
  },
  {
   "cell_type": "code",
   "execution_count": null,
   "metadata": {},
   "outputs": [],
   "source": []
  },
  {
   "cell_type": "code",
   "execution_count": null,
   "metadata": {},
   "outputs": [],
   "source": []
  },
  {
   "cell_type": "code",
   "execution_count": null,
   "metadata": {},
   "outputs": [],
   "source": []
  },
  {
   "cell_type": "code",
   "execution_count": null,
   "metadata": {},
   "outputs": [],
   "source": []
  },
  {
   "cell_type": "code",
   "execution_count": null,
   "metadata": {},
   "outputs": [],
   "source": []
  },
  {
   "cell_type": "code",
   "execution_count": null,
   "metadata": {},
   "outputs": [],
   "source": []
  },
  {
   "cell_type": "code",
   "execution_count": null,
   "metadata": {},
   "outputs": [],
   "source": []
  },
  {
   "cell_type": "code",
   "execution_count": null,
   "metadata": {},
   "outputs": [],
   "source": []
  },
  {
   "cell_type": "code",
   "execution_count": null,
   "metadata": {},
   "outputs": [],
   "source": []
  },
  {
   "cell_type": "code",
   "execution_count": null,
   "metadata": {},
   "outputs": [],
   "source": []
  },
  {
   "cell_type": "code",
   "execution_count": null,
   "metadata": {},
   "outputs": [],
   "source": []
  },
  {
   "cell_type": "code",
   "execution_count": null,
   "metadata": {},
   "outputs": [],
   "source": []
  },
  {
   "cell_type": "code",
   "execution_count": null,
   "metadata": {},
   "outputs": [],
   "source": []
  },
  {
   "cell_type": "code",
   "execution_count": null,
   "metadata": {},
   "outputs": [],
   "source": []
  },
  {
   "cell_type": "code",
   "execution_count": null,
   "metadata": {},
   "outputs": [],
   "source": []
  }
 ],
 "metadata": {
  "kernelspec": {
   "display_name": "base",
   "language": "python",
   "name": "python3"
  },
  "language_info": {
   "codemirror_mode": {
    "name": "ipython",
    "version": 3
   },
   "file_extension": ".py",
   "mimetype": "text/x-python",
   "name": "python",
   "nbconvert_exporter": "python",
   "pygments_lexer": "ipython3",
   "version": "3.12.2"
  }
 },
 "nbformat": 4,
 "nbformat_minor": 2
}
