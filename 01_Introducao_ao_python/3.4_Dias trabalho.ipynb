{
 "cells": [
  {
   "cell_type": "markdown",
   "metadata": {},
   "source": [
    "### ***Uma empresa contrata um encanador a R$ 30,00 por dia. Faça um programa que solicite o numero de dias trabalhados pelo encanador e imprima a quantia liquida que devera ser paga, sabendo-se que são descontados 8% para impostos de renda***"
   ]
  },
  {
   "cell_type": "code",
   "execution_count": null,
   "metadata": {},
   "outputs": [],
   "source": []
  },
  {
   "cell_type": "markdown",
   "metadata": {},
   "source": [
    "#### ***Codigo Cru sem Comentarios e explicações***"
   ]
  },
  {
   "cell_type": "code",
   "execution_count": 1,
   "metadata": {},
   "outputs": [
    {
     "name": "stdout",
     "output_type": "stream",
     "text": [
      "O Trabalhador que Trabalhou por 23 dias\n",
      "Rebera 690 R$ de Ganho com o Desconto de 8% so recebera 634.80 R$\n"
     ]
    }
   ],
   "source": [
    "dias_tabalhados = int(input('Dias Trabalhados: '))\n",
    "\n",
    "#Calculo de Ganho\n",
    "ganho = dias_tabalhados * 30\n",
    "\n",
    "#Desconto Imposto\n",
    "desconto = ganho * 0.92\n",
    "\n",
    "#Valor final a receber\n",
    "print(f'O Trabalhador que Trabalhou por {dias_tabalhados} dias')\n",
    "print(f'Rebera {ganho} R$ de Ganho com o Desconto de 8% so recebera {desconto:.2f} R$')"
   ]
  },
  {
   "cell_type": "code",
   "execution_count": null,
   "metadata": {},
   "outputs": [],
   "source": []
  },
  {
   "cell_type": "markdown",
   "metadata": {},
   "source": [
    "#### ***Codigo Documentado***"
   ]
  },
  {
   "cell_type": "markdown",
   "metadata": {},
   "source": [
    "#### ***Explicando o Codigo***"
   ]
  },
  {
   "cell_type": "markdown",
   "metadata": {
    "vscode": {
     "languageId": "plaintext"
    }
   },
   "source": [
    "```python\n",
    "dias_trabalhados = int(input('Dias Trabalhados: '))\n",
    "\n",
    "# Cálculo do ganho sem desconto de imposto\n",
    "ganho = dias_trabalhados * 30\n",
    "\n",
    "# Desconto de imposto de 8%\n",
    "desconto = ganho * 0.92\n",
    "\n",
    "# Exibição do valor final a receber após o desconto de imposto\n",
    "print(f'O Trabalhador que trabalhou por {dias_trabalhados} dias')\n",
    "print(f'Receberá {ganho} R$ de ganho. Com o desconto de 8%, só receberá {desconto:.2f} R$.')\n",
    "```\n",
    "\n",
    "Este código solicita ao usuário o número de dias trabalhados e calcula o ganho do trabalhador com base nesse número, considerando um pagamento diário de 30 reais. Em seguida, calcula o valor final a ser recebido pelo trabalhador após um desconto de imposto de 8%.\n",
    "\n",
    "O programa começa solicitando ao usuário o número de dias trabalhados, convertendo a entrada para um número inteiro e armazenando-o na variável `dias_trabalhados`.\n",
    "\n",
    "Em seguida, o programa calcula o ganho bruto (`ganho`) multiplicando o número de dias trabalhados pelo valor diário de 30 reais.\n",
    "\n",
    "Depois, é calculado o desconto de imposto de 8% (`desconto`) sobre o ganho bruto.\n",
    "\n",
    "Por fim, o programa exibe uma mensagem que indica o número de dias trabalhados e o valor bruto ganho, junto com o valor final a ser recebido pelo trabalhador após o desconto de imposto. As mensagens são formatadas usando f-strings."
   ]
  },
  {
   "cell_type": "code",
   "execution_count": null,
   "metadata": {},
   "outputs": [],
   "source": []
  }
 ],
 "metadata": {
  "kernelspec": {
   "display_name": "base",
   "language": "python",
   "name": "python3"
  },
  "language_info": {
   "codemirror_mode": {
    "name": "ipython",
    "version": 3
   },
   "file_extension": ".py",
   "mimetype": "text/x-python",
   "name": "python",
   "nbconvert_exporter": "python",
   "pygments_lexer": "ipython3",
   "version": "3.11.7"
  }
 },
 "nbformat": 4,
 "nbformat_minor": 2
}
