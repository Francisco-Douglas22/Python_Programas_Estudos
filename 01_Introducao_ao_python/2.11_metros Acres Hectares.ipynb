{
 "cells": [
  {
   "cell_type": "markdown",
   "metadata": {},
   "source": [
    "### ***21 - Leia um valor em Metros Quadrados M² e converta o para ACRES e HECTARES, depois inverta a conversão para Metros Quadrados Novamente***\n",
    "\n",
    "\n",
    "        Formulas: A = M * 0.000247 Metros² em ACRES\n",
    "        Formulas: M = A * 4048.58 ACRES em Metros²\n",
    "        Formulas: H = M * 0.0001 Metros em Hectares\n",
    "        Formulas: M = H * 1000 Hectares em Metros"
   ]
  },
  {
   "cell_type": "code",
   "execution_count": null,
   "metadata": {},
   "outputs": [],
   "source": []
  },
  {
   "cell_type": "markdown",
   "metadata": {},
   "source": [
    "#### ***Codigo Cru sem Comentarios e explicações***"
   ]
  },
  {
   "cell_type": "code",
   "execution_count": 6,
   "metadata": {},
   "outputs": [
    {
     "name": "stdout",
     "output_type": "stream",
     "text": [
      "1250.0 Metros² e equivalente a 0.3087 Acres  ou 0.125 Hectares\n",
      "0.308750 equivalem a 1250.00 Metros²\n",
      "0.1250 Hectares equivalem a 1250.00 Metros²\n"
     ]
    }
   ],
   "source": [
    "#variaveis\n",
    "metros = float(input('Digite o valor em Metros: '))\n",
    "\n",
    "#Conversão\n",
    "acres = metros * 0.000247\n",
    "hectares = metros * 0.0001\n",
    "print(f'{metros} Metros² e equivalente a {acres:.4f} Acres  ou {hectares} Hectares')\n",
    "\n",
    "#Reversao\n",
    "m_acres = acres * 4048.58\n",
    "m_hectares = hectares * 10000\n",
    "\n",
    "print(f'{acres:4f} equivalem a {m_acres:.2f} Metros²')\n",
    "print(f'{hectares:.4f} Hectares equivalem a {m_hectares:.2f} Metros²')"
   ]
  },
  {
   "cell_type": "code",
   "execution_count": null,
   "metadata": {},
   "outputs": [],
   "source": []
  },
  {
   "cell_type": "markdown",
   "metadata": {},
   "source": [
    "#### ***Codigo Documentado***"
   ]
  },
  {
   "cell_type": "markdown",
   "metadata": {},
   "source": [
    "#### ***Explicando o Codigo***"
   ]
  },
  {
   "cell_type": "markdown",
   "metadata": {
    "vscode": {
     "languageId": "plaintext"
    }
   },
   "source": [
    "\n",
    "\n",
    "```python\n",
    "# Solicita ao usuário para inserir um valor em metros quadrados\n",
    "metros = float(input('Digite o valor em Metros: '))\n",
    "\n",
    "# Converte o valor de metros quadrados para acres e hectares\n",
    "acres = metros * 0.000247\n",
    "hectares = metros * 0.0001\n",
    "\n",
    "# Exibe os resultados da conversão de metros quadrados para acres e hectares\n",
    "print(f'{metros} Metros² é equivalente a {acres:.4f} Acres ou {hectares} Hectares')\n",
    "\n",
    "# Realiza a reversão da conversão, convertendo acres e hectares de volta para metros quadrados\n",
    "m_acres = acres * 4048.58\n",
    "m_hectares = hectares * 10000\n",
    "\n",
    "# Exibe os resultados da reversão da conversão\n",
    "print(f'{acres:.4f} Acres equivalem a {m_acres:.2f} Metros²')\n",
    "print(f'{hectares:.4f} Hectares equivalem a {m_hectares:.2f} Metros²')\n",
    "```\n",
    "\n",
    "Aqui está uma explicação detalhada do código:\n",
    "\n",
    "- A variável `metros` armazena o valor inserido pelo usuário, representando a área em metros quadrados.\n",
    "\n",
    "- As variáveis `acres` e `hectares` calculam a conversão da área de metros quadrados para acres e hectares, respectivamente. Os fatores de conversão utilizados são 0.000247 para acres e 0.0001 para hectares.\n",
    "\n",
    "- O comando `print` exibe o valor original em metros quadrados, juntamente com os valores convertidos em acres e hectares. Os resultados são formatados para exibir até quatro casas decimais.\n",
    "\n",
    "- As variáveis `m_acres` e `m_hectares` calculam a reversão da conversão, convertendo as áreas em acres e hectares de volta para metros quadrados. Os fatores de conversão utilizados são 4048.58 para acres e 10000 para hectares.\n",
    "\n",
    "- O comando `print` exibe os valores convertidos de volta para metros quadrados, com precisão de duas casas decimais."
   ]
  },
  {
   "cell_type": "code",
   "execution_count": null,
   "metadata": {},
   "outputs": [],
   "source": []
  }
 ],
 "metadata": {
  "kernelspec": {
   "display_name": "base",
   "language": "python",
   "name": "python3"
  },
  "language_info": {
   "codemirror_mode": {
    "name": "ipython",
    "version": 3
   },
   "file_extension": ".py",
   "mimetype": "text/x-python",
   "name": "python",
   "nbconvert_exporter": "python",
   "pygments_lexer": "ipython3",
   "version": "3.11.7"
  }
 },
 "nbformat": 4,
 "nbformat_minor": 2
}
