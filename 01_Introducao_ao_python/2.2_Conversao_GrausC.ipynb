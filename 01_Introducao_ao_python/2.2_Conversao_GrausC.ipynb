{
 "cells": [
  {
   "cell_type": "markdown",
   "metadata": {},
   "source": [
    "### Programa que leia uma Temperatura em Graus Celsius e Apresente-a convertida em Graus\n",
    "Fahrenheit. Depois faça o inverso do programa transformando Fahrenheit em Celsius\n",
    "\n",
    "\n",
    "\n",
    "    Formulas: F = celsius * (9.0/5.0) + 32\n",
    "    Formulas: C = (F – 32) * 5 / 9"
   ]
  },
  {
   "cell_type": "code",
   "execution_count": null,
   "metadata": {},
   "outputs": [],
   "source": []
  },
  {
   "cell_type": "markdown",
   "metadata": {},
   "source": [
    "#### ***Codigo Cru sem Comentarios e explicações***"
   ]
  },
  {
   "cell_type": "code",
   "execution_count": 1,
   "metadata": {},
   "outputs": [
    {
     "name": "stdout",
     "output_type": "stream",
     "text": [
      "A Temperatura de 45.0 equivale a 113.0 Graus Fahrenheit\n",
      "A Temperatura de 113.00 F° equivalem a 45.00 Graus C°\n"
     ]
    }
   ],
   "source": [
    "celsius = float(input('Digite a Temperatura em Graus C°: '))\n",
    "\n",
    "#Conversao\n",
    "graus_f = celsius * (9/5) + 32\n",
    "print(f'A Temperatura de {celsius} equivale a {graus_f} Graus Fahrenheit')\n",
    "\n",
    "#Revertendo \n",
    "gras_C = (graus_f - 32) * 5 / 9\n",
    "print(f'A Temperatura de {graus_f:.2f} F° equivalem a {gras_C:.2f} Graus C°')"
   ]
  },
  {
   "cell_type": "code",
   "execution_count": null,
   "metadata": {},
   "outputs": [],
   "source": []
  },
  {
   "cell_type": "markdown",
   "metadata": {},
   "source": [
    "#### ***Codigo Documentado***"
   ]
  },
  {
   "cell_type": "markdown",
   "metadata": {},
   "source": [
    "#### ***Explicando o Codigo***"
   ]
  },
  {
   "cell_type": "markdown",
   "metadata": {
    "vscode": {
     "languageId": "plaintext"
    }
   },
   "source": [
    "Este é um código simples para converter a temperatura de Celsius para Fahrenheit e vice-versa. Vou documentá-lo e explicá-lo em detalhes:\n",
    "\n",
    "```python\n",
    "# Solicita ao usuário que insira a temperatura em Celsius\n",
    "celsius = float(input('Digite a Temperatura em Graus C°: '))\n",
    "\n",
    "# Converte a temperatura de Celsius para Fahrenheit\n",
    "graus_f = celsius * (9/5) + 32\n",
    "# Exibe a temperatura convertida em Fahrenheit\n",
    "print(f'A Temperatura de {celsius} equivale a {graus_f} Graus Fahrenheit')\n",
    "\n",
    "# Reverte a temperatura de Fahrenheit para Celsius\n",
    "gras_C = (graus_f - 32) * 5 / 9\n",
    "# Exibe a temperatura revertida em Celsius\n",
    "print(f'A Temperatura de {graus_f:.2f} F° equivalem a {gras_C:.2f} Graus C°')\n",
    "```\n",
    "\n",
    "**Explicação:**\n",
    "\n",
    "1. O programa solicita ao usuário que insira a temperatura em Celsius.\n",
    "2. A temperatura em Celsius é armazenada na variável `celsius`.\n",
    "3. A temperatura em Celsius é convertida para Fahrenheit usando a fórmula de conversão: `F = C × 9/5 + 32`, onde `F` é a temperatura em Fahrenheit e `C` é a temperatura em Celsius. O resultado é armazenado na variável `graus_f`.\n",
    "4. O programa exibe a temperatura convertida em Fahrenheit em uma mensagem formatada.\n",
    "5. A temperatura em Fahrenheit é revertida para Celsius usando a fórmula de conversão inversa: `C = (F - 32) × 5/9`, onde `F` é a temperatura em Fahrenheit e `C` é a temperatura em Celsius. O resultado é armazenado na variável `gras_C`.\n",
    "6. O programa exibe a temperatura revertida em Celsius em uma mensagem formatada.\n",
    "\n",
    "Este código é útil para converter a temperatura entre as escalas Celsius e Fahrenheit, fornecendo os resultados de conversão com precisão de duas casas decimais. Ele permite que os usuários convertam facilmente temperaturas entre as duas escalas de temperatura."
   ]
  },
  {
   "cell_type": "code",
   "execution_count": null,
   "metadata": {},
   "outputs": [],
   "source": []
  }
 ],
 "metadata": {
  "kernelspec": {
   "display_name": "base",
   "language": "python",
   "name": "python3"
  },
  "language_info": {
   "codemirror_mode": {
    "name": "ipython",
    "version": 3
   },
   "file_extension": ".py",
   "mimetype": "text/x-python",
   "name": "python",
   "nbconvert_exporter": "python",
   "pygments_lexer": "ipython3",
   "version": "3.11.7"
  }
 },
 "nbformat": 4,
 "nbformat_minor": 2
}
