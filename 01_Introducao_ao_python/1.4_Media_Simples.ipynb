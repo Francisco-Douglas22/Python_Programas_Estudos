{
 "cells": [
  {
   "cell_type": "markdown",
   "metadata": {},
   "source": [
    "### ***4 - Desenvolva um programa que leia as 4 notas de um aluno, calcule e mostre a sua média.***"
   ]
  },
  {
   "cell_type": "code",
   "execution_count": null,
   "metadata": {},
   "outputs": [],
   "source": []
  },
  {
   "cell_type": "markdown",
   "metadata": {},
   "source": [
    "#### ***Codigo Cru sem Comentarios e explicações***"
   ]
  },
  {
   "cell_type": "code",
   "execution_count": 1,
   "metadata": {},
   "outputs": [
    {
     "name": "stdout",
     "output_type": "stream",
     "text": [
      "A Media do Aluno sera de 6.5 pontos\n"
     ]
    }
   ],
   "source": [
    "nota1 = float(input('Primeira Nota: '))\n",
    "nota2 = float(input('Segunda Nota: '))\n",
    "nota3 = float(input('Terceira Nota: '))\n",
    "nota4 = float(input('Quarta Nota: '))\n",
    "\n",
    "media = (nota1 + nota2 + nota3 + nota4) / 4\n",
    "\n",
    "print(f'A Media do Aluno sera de {media} pontos')"
   ]
  },
  {
   "cell_type": "code",
   "execution_count": null,
   "metadata": {},
   "outputs": [],
   "source": []
  },
  {
   "cell_type": "markdown",
   "metadata": {},
   "source": [
    "#### ***Codigo Documentado***"
   ]
  },
  {
   "cell_type": "markdown",
   "metadata": {},
   "source": [
    "#### ***Explicando o Codigo***"
   ]
  },
  {
   "cell_type": "markdown",
   "metadata": {},
   "source": [
    "Aqui está o código documentado:\n",
    "\n",
    "```python\n",
    "# Solicita ao usuário que insira a primeira nota e armazena o valor na variável 'nota1'\n",
    "nota1 = float(input('Primeira Nota: '))\n",
    "\n",
    "# Solicita ao usuário que insira a segunda nota e armazena o valor na variável 'nota2'\n",
    "nota2 = float(input('Segunda Nota: '))\n",
    "\n",
    "# Solicita ao usuário que insira a terceira nota e armazena o valor na variável 'nota3'\n",
    "nota3 = float(input('Terceira Nota: '))\n",
    "\n",
    "# Solicita ao usuário que insira a quarta nota e armazena o valor na variável 'nota4'\n",
    "nota4 = float(input('Quarta Nota: '))\n",
    "\n",
    "# Calcula a média das quatro notas e armazena o resultado na variável 'media'\n",
    "media = (nota1 + nota2 + nota3 + nota4) / 4\n",
    "\n",
    "# Imprime a média do aluno\n",
    "print(f'A média do aluno será de {media} pontos')\n",
    "```\n",
    "\n",
    "**Explicação:**\n",
    "\n",
    "1. **Solicitação das notas:** O programa solicita ao usuário que insira as quatro notas, uma por vez, utilizando a função `input()`. Cada nota é convertida para um número decimal (float) utilizando `float()` e armazenada em uma variável separada (`nota1`, `nota2`, `nota3` e `nota4`).\n",
    "\n",
    "2. **Cálculo da média:** O programa calcula a média das quatro notas somando todas elas e dividindo o resultado por 4. O valor resultante é armazenado na variável `media`.\n",
    "\n",
    "3. **Impressão da média:** Utilizando uma f-string, o programa imprime uma mensagem que contém a média calculada. O valor da média é inserido na string de saída."
   ]
  },
  {
   "cell_type": "code",
   "execution_count": null,
   "metadata": {},
   "outputs": [],
   "source": []
  }
 ],
 "metadata": {
  "kernelspec": {
   "display_name": "Python 3",
   "language": "python",
   "name": "python3"
  },
  "language_info": {
   "codemirror_mode": {
    "name": "ipython",
    "version": 3
   },
   "file_extension": ".py",
   "mimetype": "text/x-python",
   "name": "python",
   "nbconvert_exporter": "python",
   "pygments_lexer": "ipython3",
   "version": "3.12.2"
  }
 },
 "nbformat": 4,
 "nbformat_minor": 2
}
