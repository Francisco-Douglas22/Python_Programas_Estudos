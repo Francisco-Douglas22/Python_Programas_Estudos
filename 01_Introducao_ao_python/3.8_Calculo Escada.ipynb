{
 "cells": [
  {
   "cell_type": "markdown",
   "metadata": {},
   "source": [
    "### ***Em uma construção o Pedreiro deseja fazer o cálculo para uma escada, para isso ele deseja cria degraus para idosos de 15CM. Faça um programa onde Receba a Altura da Escada e calcule quantos degraus irá precisa essa escada***"
   ]
  },
  {
   "cell_type": "code",
   "execution_count": null,
   "metadata": {},
   "outputs": [],
   "source": []
  },
  {
   "cell_type": "markdown",
   "metadata": {},
   "source": [
    "#### ***Codigo Cru sem Comentarios e explicações***"
   ]
  },
  {
   "cell_type": "code",
   "execution_count": 1,
   "metadata": {},
   "outputs": [
    {
     "name": "stdout",
     "output_type": "stream",
     "text": [
      "Uma Escada de 3 Metros tera um total de 20.0 Degraus\n"
     ]
    }
   ],
   "source": [
    "#Variavel\n",
    "altura_escada = int(input('Altura da Escada: '))\n",
    "\n",
    "#Calculo Quantidade degraus\n",
    "total_degraus = altura_escada / 0.15\n",
    "\n",
    "print(f'Uma Escada de {altura_escada} Metros tera um total de {total_degraus} Degraus')"
   ]
  },
  {
   "cell_type": "code",
   "execution_count": null,
   "metadata": {},
   "outputs": [],
   "source": []
  },
  {
   "cell_type": "markdown",
   "metadata": {},
   "source": [
    "#### ***Codigo Documentado***"
   ]
  },
  {
   "cell_type": "markdown",
   "metadata": {},
   "source": [
    "#### ***Explicando o Codigo***"
   ]
  },
  {
   "cell_type": "markdown",
   "metadata": {
    "vscode": {
     "languageId": "plaintext"
    }
   },
   "source": [
    "```python\n",
    "# Variável\n",
    "altura_escada = int(input('Altura da Escada: '))\n",
    "\n",
    "# Cálculo da quantidade de degraus\n",
    "altura_degrau = 0.15  # Altura padrão de cada degrau em metros\n",
    "total_degraus = altura_escada / altura_degrau\n",
    "\n",
    "# Exibição do total de degraus da escada\n",
    "print(f'Uma Escada de {altura_escada} Metros terá um total de {total_degraus} Degraus')\n",
    "```\n",
    "\n",
    "Neste código, o usuário é solicitado a inserir a altura da escada em metros. Com base nessa altura, o programa calcula o total de degraus necessários para atingir essa altura, considerando uma altura padrão de degrau de 0.15 metros.\n",
    "\n",
    "O programa começa solicitando ao usuário que insira a altura da escada, convertendo essa entrada para um número inteiro (`int`) e armazenando-o na variável `altura_escada`.\n",
    "\n",
    "Em seguida, é definida a altura padrão de cada degrau (`altura_degrau`) como 0.15 metros. \n",
    "\n",
    "Então, o programa calcula o total de degraus necessários para atingir a altura da escada dividindo a altura da escada pelo tamanho padrão de cada degrau, armazenando o resultado na variável `total_degraus`.\n",
    "\n",
    "Por fim, o programa exibe uma mensagem que mostra a altura da escada inserida pelo usuário e o total de degraus necessários para atingir essa altura. As mensagens são formatadas usando f-strings."
   ]
  },
  {
   "cell_type": "code",
   "execution_count": null,
   "metadata": {},
   "outputs": [],
   "source": []
  }
 ],
 "metadata": {
  "kernelspec": {
   "display_name": "base",
   "language": "python",
   "name": "python3"
  },
  "language_info": {
   "codemirror_mode": {
    "name": "ipython",
    "version": 3
   },
   "file_extension": ".py",
   "mimetype": "text/x-python",
   "name": "python",
   "nbconvert_exporter": "python",
   "pygments_lexer": "ipython3",
   "version": "3.11.7"
  }
 },
 "nbformat": 4,
 "nbformat_minor": 2
}
