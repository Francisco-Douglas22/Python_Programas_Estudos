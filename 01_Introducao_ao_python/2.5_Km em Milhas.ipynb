{
 "cells": [
  {
   "cell_type": "markdown",
   "metadata": {},
   "source": [
    "### ***Leia 2 Distancia, Milha e Km quilômetros, transforme as Milhas em Km e Quilometro em Milhas.***\n",
    "\n",
    "        Formulas: K = 1.61 * M\n",
    "        Formulas: M = K / 1.61"
   ]
  },
  {
   "cell_type": "code",
   "execution_count": null,
   "metadata": {},
   "outputs": [],
   "source": []
  },
  {
   "cell_type": "markdown",
   "metadata": {},
   "source": [
    "#### ***Codigo Cru sem Comentarios e explicações***"
   ]
  },
  {
   "cell_type": "code",
   "execution_count": 1,
   "metadata": {},
   "outputs": [
    {
     "name": "stdout",
     "output_type": "stream",
     "text": [
      "1000 Milhas equivalem a 1610.00 Km\n",
      "1000 Km equivalem a 621.12\n"
     ]
    }
   ],
   "source": [
    "milhas = int(input('Digite as milhas: '))\n",
    "km = int(input('Digite os Km: '))\n",
    "\n",
    "#Milhas em Km\n",
    "m_km = milhas * 1.61\n",
    "\n",
    "#Km em Milhas\n",
    "k_milhas = km / 1.61\n",
    "\n",
    "print(f'{milhas} Milhas equivalem a {m_km:.2f} Km')\n",
    "print(f'{km} Km equivalem a {k_milhas:.2f}')"
   ]
  },
  {
   "cell_type": "code",
   "execution_count": null,
   "metadata": {},
   "outputs": [],
   "source": []
  },
  {
   "cell_type": "markdown",
   "metadata": {},
   "source": [
    "#### ***Codigo Documentado***"
   ]
  },
  {
   "cell_type": "markdown",
   "metadata": {},
   "source": [
    "#### ***Explicando o Codigo***"
   ]
  },
  {
   "cell_type": "markdown",
   "metadata": {
    "vscode": {
     "languageId": "plaintext"
    }
   },
   "source": [
    "Aqui está o seu código documentado:\n",
    "\n",
    "```python\n",
    "# Solicita ao usuário que insira a quantidade de milhas e a armazena como um número inteiro\n",
    "milhas = int(input('Digite as milhas: '))\n",
    "\n",
    "# Solicita ao usuário que insira a quantidade de quilômetros e a armazena como um número inteiro\n",
    "km = int(input('Digite os Km: '))\n",
    "\n",
    "# Conversão de milhas para quilômetros\n",
    "m_km = milhas * 1.61\n",
    "\n",
    "# Conversão de quilômetros para milhas\n",
    "k_milhas = km / 1.61\n",
    "\n",
    "# Imprime a quantidade de milhas convertida para quilômetros com duas casas decimais\n",
    "print(f'{milhas} Milhas equivalem a {m_km:.2f} Km')\n",
    "\n",
    "# Imprime a quantidade de quilômetros convertida para milhas com duas casas decimais\n",
    "print(f'{km} Km equivalem a {k_milhas:.2f}')\n",
    "```\n",
    "\n",
    "Explicação detalhada:\n",
    "\n",
    "1. **Entrada de dados**: O programa pede ao usuário que insira duas quantidades: a primeira em milhas e a segunda em quilômetros. A função `input()` é usada para receber a entrada do usuário, e `int(input())` é usado para garantir que as entradas sejam convertidas em números inteiros, uma vez que milhas e quilômetros geralmente são tratados como números inteiros (embora em cálculos mais precisos possam ser usados números de ponto flutuante).\n",
    "\n",
    "2. **Conversão de milhas para quilômetros**: A fórmula de conversão de milhas para quilômetros é multiplicar a quantidade de milhas por 1.61, que é o fator de conversão entre milhas e quilômetros.\n",
    "\n",
    "3. **Conversão de quilômetros para milhas**: Para converter quilômetros para milhas, divide-se a quantidade de quilômetros por 1.61.\n",
    "\n",
    "4. **Saída dos resultados**: Os resultados das conversões são impressos na tela utilizando a função `print()`. Utiliza-se f-strings para incorporar os valores das variáveis diretamente no texto. O uso de `:.2f` limita o número de casas decimais a duas para proporcionar uma apresentação mais limpa e legível das conversões.\n",
    "\n",
    "Este código é útil para converter distâncias entre milhas e quilômetros, permitindo uma compreensão rápida e fácil das relações entre essas unidades de medida de distância."
   ]
  },
  {
   "cell_type": "code",
   "execution_count": null,
   "metadata": {},
   "outputs": [],
   "source": []
  }
 ],
 "metadata": {
  "kernelspec": {
   "display_name": "base",
   "language": "python",
   "name": "python3"
  },
  "language_info": {
   "codemirror_mode": {
    "name": "ipython",
    "version": 3
   },
   "file_extension": ".py",
   "mimetype": "text/x-python",
   "name": "python",
   "nbconvert_exporter": "python",
   "pygments_lexer": "ipython3",
   "version": "3.11.7"
  }
 },
 "nbformat": 4,
 "nbformat_minor": 2
}
