{
 "cells": [
  {
   "cell_type": "markdown",
   "metadata": {},
   "source": [
    "### ***Escreva um programa que leia um valor em metros e o exiba conver􀆟do em (Quilometro, Hectômetro, Decâmetro, Decímetro, Cen􀆡metro, Milímetro)***\n",
    "\n",
    "        sendo que\n",
    "        Km = 1000 /\n",
    "        Hec = 100 /\n",
    "        Deca = 10 /\n",
    "        Deci = 10 *\n",
    "        Cent = 100 *\n",
    "        Mili = 1000 *"
   ]
  },
  {
   "cell_type": "code",
   "execution_count": null,
   "metadata": {},
   "outputs": [],
   "source": []
  },
  {
   "cell_type": "markdown",
   "metadata": {},
   "source": [
    "#### ***Codigo Cru sem Comentarios e explicações***"
   ]
  },
  {
   "cell_type": "code",
   "execution_count": 1,
   "metadata": {},
   "outputs": [
    {
     "name": "stdout",
     "output_type": "stream",
     "text": [
      "Voce digitou 56.0 Metros\n",
      "\n",
      "56.0 Metros e queivalente a \n",
      "0.056 KM Quilometros\n",
      "0.56 Hectometros\n",
      "5.6 Decametros\n",
      "560.0 Decimetros\n",
      "5600.0 Centimetros\n",
      "56000.0 Milimetros\n"
     ]
    }
   ],
   "source": [
    "metros = float(input('Digite o comprimento em Metros: '))\n",
    "print(f'Voce digitou {metros} Metros')\n",
    "\n",
    "km = metros / 1000\n",
    "hec = metros / 100\n",
    "deca = metros / 10\n",
    "deci = metros * 10\n",
    "cent = metros * 100\n",
    "mili = metros * 1000\n",
    "\n",
    "print(f'''\n",
    "{metros} Metros e queivalente a \n",
    "{km} KM Quilometros\n",
    "{hec} Hectometros\n",
    "{deca} Decametros\n",
    "{deci} Decimetros\n",
    "{cent} Centimetros\n",
    "{mili} Milimetros''')"
   ]
  },
  {
   "cell_type": "code",
   "execution_count": null,
   "metadata": {},
   "outputs": [],
   "source": []
  },
  {
   "cell_type": "markdown",
   "metadata": {},
   "source": [
    "#### ***Codigo Documentado***"
   ]
  },
  {
   "cell_type": "markdown",
   "metadata": {},
   "source": [
    "#### ***Explicando o Codigo***"
   ]
  },
  {
   "cell_type": "markdown",
   "metadata": {
    "vscode": {
     "languageId": "plaintext"
    }
   },
   "source": [
    "Aqui está o código documentado:\n",
    "\n",
    "```python\n",
    "# Solicita ao usuário que insira o comprimento em metros e armazena o valor na variável 'metros'\n",
    "metros = float(input('Digite o comprimento em Metros: '))\n",
    "\n",
    "# Imprime o valor digitado pelo usuário\n",
    "print(f'Você digitou {metros} Metros')\n",
    "\n",
    "# Calcula as conversões de metros para outras unidades de medida\n",
    "km = metros / 1000  # Conversão para quilômetros\n",
    "hec = metros / 100  # Conversão para hectômetros\n",
    "deca = metros / 10  # Conversão para decâmetros\n",
    "deci = metros * 10  # Conversão para decímetros\n",
    "cent = metros * 100  # Conversão para centímetros\n",
    "mili = metros * 1000  # Conversão para milímetros\n",
    "\n",
    "# Imprime as conversões\n",
    "print(f'''\n",
    "{metros} Metros equivale a:\n",
    "{km} KM (Quilômetros)\n",
    "{hec} Hectômetros\n",
    "{deca} Decâmetros\n",
    "{deci} Decímetros\n",
    "{cent} Centímetros\n",
    "{mili} Milímetros\n",
    "''')\n",
    "```\n",
    "\n",
    "**Explicação:**\n",
    "\n",
    "1. **Solicitação do comprimento em metros:** O programa solicita ao usuário que insira o comprimento em metros utilizando a função `input()`. O valor inserido pelo usuário é convertido para um número decimal (float) e armazenado na variável `metros`.\n",
    "\n",
    "2. **Impressão do valor digitado:** O programa imprime uma mensagem que contém o valor digitado pelo usuário, utilizando uma f-string.\n",
    "\n",
    "3. **Cálculo das conversões:** O programa calcula as conversões do comprimento em metros para outras unidades de medida, como quilômetros, hectômetros, decâmetros, decímetros, centímetros e milímetros. Cada conversão é realizada conforme as fórmulas estabelecidas e armazenada em variáveis separadas (`km`, `hec`, `deca`, `deci`, `cent`, `mili`).\n",
    "\n",
    "4. **Impressão das conversões:** Utilizando uma f-string, o programa imprime uma mensagem que contém as conversões do comprimento em metros para as outras unidades de medida, incluindo os valores calculados previamente. Cada conversão é apresentada em uma linha separada."
   ]
  },
  {
   "cell_type": "code",
   "execution_count": null,
   "metadata": {},
   "outputs": [],
   "source": []
  }
 ],
 "metadata": {
  "kernelspec": {
   "display_name": "base",
   "language": "python",
   "name": "python3"
  },
  "language_info": {
   "codemirror_mode": {
    "name": "ipython",
    "version": 3
   },
   "file_extension": ".py",
   "mimetype": "text/x-python",
   "name": "python",
   "nbconvert_exporter": "python",
   "pygments_lexer": "ipython3",
   "version": "3.11.7"
  }
 },
 "nbformat": 4,
 "nbformat_minor": 2
}
