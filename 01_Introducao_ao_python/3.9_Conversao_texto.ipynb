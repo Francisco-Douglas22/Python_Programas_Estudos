{
 "cells": [
  {
   "cell_type": "markdown",
   "metadata": {},
   "source": [
    "### ***31 - Faça um programa onde converta Uma Palavra em Minúscula para Maiúscula e verse versa***"
   ]
  },
  {
   "cell_type": "code",
   "execution_count": null,
   "metadata": {},
   "outputs": [],
   "source": []
  },
  {
   "cell_type": "markdown",
   "metadata": {},
   "source": [
    "#### ***Codigo Cru sem Comentarios e explicações***"
   ]
  },
  {
   "cell_type": "code",
   "execution_count": 1,
   "metadata": {},
   "outputs": [
    {
     "name": "stdout",
     "output_type": "stream",
     "text": [
      "A Palavra digitada foi Amigo Do Python\n",
      "A Palavra em Maiuscula e AMIGO DO PYTHON\n",
      "A Palavra em Minuscula e amigo do python\n"
     ]
    }
   ],
   "source": [
    "#variavel\n",
    "palavra = str(input('Digite a Palavra: ')).title()\n",
    "\n",
    "#Palavra em Maiuscula\n",
    "maiusculo = palavra.upper()\n",
    "\n",
    "#Palavra em Minuscula\n",
    "minuscula = palavra.lower()\n",
    "\n",
    "print(f'A Palavra digitada foi {palavra}')\n",
    "print(f'A Palavra em Maiuscula e {maiusculo}')\n",
    "print(f'A Palavra em Minuscula e {minuscula}')"
   ]
  },
  {
   "cell_type": "code",
   "execution_count": null,
   "metadata": {},
   "outputs": [],
   "source": []
  },
  {
   "cell_type": "markdown",
   "metadata": {},
   "source": [
    "#### ***Codigo Documentado***"
   ]
  },
  {
   "cell_type": "markdown",
   "metadata": {},
   "source": [
    "#### ***Explicando o Codigo***"
   ]
  },
  {
   "cell_type": "markdown",
   "metadata": {
    "vscode": {
     "languageId": "plaintext"
    }
   },
   "source": [
    "```python\n",
    "# Variável\n",
    "palavra = str(input('Digite a Palavra: ')).title()\n",
    "\n",
    "# Palavra em Maiúscula\n",
    "maiusculo = palavra.upper()\n",
    "\n",
    "# Palavra em Minúscula\n",
    "minusculo = palavra.lower()\n",
    "\n",
    "# Exibição das palavras digitadas em diferentes formatos\n",
    "print(f'A Palavra digitada foi {palavra}')\n",
    "print(f'A Palavra em Maiúscula é {maiusculo}')\n",
    "print(f'A Palavra em Minúscula é {minusculo}')\n",
    "```\n",
    "\n",
    "Neste código, o usuário é solicitado a inserir uma palavra. O programa então converte essa palavra para o formato de título (`title()`), para garantir que a primeira letra de cada palavra esteja em maiúscula e as letras restantes em minúscula. Em seguida, o programa converte essa palavra para maiúscula e minúscula utilizando as funções `upper()` e `lower()` respectivamente.\n",
    "\n",
    "O programa começa solicitando ao usuário que insira uma palavra, convertendo essa entrada para uma string (`str`) e aplicando a função `title()` para formatar a palavra em formato de título (primeira letra de cada palavra em maiúscula e as letras restantes em minúscula), armazenando-a na variável `palavra`.\n",
    "\n",
    "Em seguida, o programa converte a palavra para maiúscula utilizando a função `upper()` e armazena o resultado na variável `maiusculo`.\n",
    "\n",
    "Depois, o programa converte a palavra para minúscula utilizando a função `lower()` e armazena o resultado na variável `minusculo`.\n",
    "\n",
    "Por fim, o programa exibe mensagens mostrando a palavra digitada pelo usuário, a palavra em maiúscula e a palavra em minúscula, utilizando f-strings para formatar as mensagens."
   ]
  },
  {
   "cell_type": "code",
   "execution_count": null,
   "metadata": {},
   "outputs": [],
   "source": []
  }
 ],
 "metadata": {
  "kernelspec": {
   "display_name": "base",
   "language": "python",
   "name": "python3"
  },
  "language_info": {
   "codemirror_mode": {
    "name": "ipython",
    "version": 3
   },
   "file_extension": ".py",
   "mimetype": "text/x-python",
   "name": "python",
   "nbconvert_exporter": "python",
   "pygments_lexer": "ipython3",
   "version": "3.11.7"
  }
 },
 "nbformat": 4,
 "nbformat_minor": 2
}
