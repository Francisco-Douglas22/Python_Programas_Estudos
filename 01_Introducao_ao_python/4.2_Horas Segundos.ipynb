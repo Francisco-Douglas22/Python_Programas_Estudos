{
 "cells": [
  {
   "cell_type": "markdown",
   "metadata": {},
   "source": [
    "### ***Leia um valor inteiro em Segundos e imprima em Horas e Minutos***"
   ]
  },
  {
   "cell_type": "code",
   "execution_count": null,
   "metadata": {},
   "outputs": [],
   "source": []
  },
  {
   "cell_type": "markdown",
   "metadata": {},
   "source": [
    "#### ***Codigo Cru sem Comentarios e explicações***"
   ]
  },
  {
   "cell_type": "code",
   "execution_count": 7,
   "metadata": {},
   "outputs": [
    {
     "name": "stdout",
     "output_type": "stream",
     "text": [
      "A Quantidade de 360 Segundos e equivalente a\n",
      "6.0 Minutos\n"
     ]
    }
   ],
   "source": [
    "segundos  = int(input('Digite os segundos: S '))\n",
    "\n",
    "minutos = segundos / 60\n",
    "horas = minutos / 60\n",
    "\n",
    "print(f'A Quantidade de {segundos} Segundos e equivalente a')\n",
    "if minutos > 60:\n",
    "    print(f'{horas:.2f} Horas')\n",
    "else:\n",
    "    print(f'{minutos:.1f} Minutos')"
   ]
  },
  {
   "cell_type": "code",
   "execution_count": null,
   "metadata": {},
   "outputs": [],
   "source": []
  },
  {
   "cell_type": "markdown",
   "metadata": {},
   "source": [
    "#### ***Codigo Documentado***"
   ]
  },
  {
   "cell_type": "markdown",
   "metadata": {},
   "source": [
    "#### ***Explicando o Codigo***"
   ]
  },
  {
   "cell_type": "markdown",
   "metadata": {
    "vscode": {
     "languageId": "plaintext"
    }
   },
   "source": [
    "\n",
    "\n",
    "```python\n",
    "# Solicita ao usuário que digite a quantidade de segundos\n",
    "segundos = int(input('Digite os segundos: '))\n",
    "\n",
    "# Converte os segundos para minutos e horas\n",
    "minutos = segundos / 60\n",
    "horas = minutos / 60\n",
    "\n",
    "# Exibe a equivalência dos segundos em minutos e horas\n",
    "print(f'A quantidade de {segundos} segundos é equivalente a')\n",
    "if minutos > 60:\n",
    "    # Se os minutos forem mais de 60, exibe a quantidade de horas\n",
    "    print(f'{horas:.2f} horas')\n",
    "else:\n",
    "    # Caso contrário, exibe a quantidade de minutos\n",
    "    print(f'{minutos:.1f} minutos')\n",
    "```\n",
    "\n",
    "explicação do código:\n",
    "\n",
    "1. O programa começa solicitando ao usuário que digite a quantidade de segundos usando a função `input`, convertendo o resultado para um número inteiro com `int(input(...))`.\n",
    "\n",
    "2. Em seguida, o programa converte os segundos para minutos dividindo a quantidade de segundos por 60, já que há 60 segundos em um minuto.\n",
    "\n",
    "3. Depois, converte os minutos para horas dividindo a quantidade de minutos por 60, uma vez que há 60 minutos em uma hora.\n",
    "\n",
    "4. O programa então exibe a equivalência dos segundos digitados em minutos e horas usando a função `print` e a formatação de string f-strings (`f'...'`).\n",
    "\n",
    "5. Ele também verifica se a quantidade de minutos é maior que 60. Se for, exibe a quantidade de horas com duas casas decimais usando `{horas:.2f}`; caso contrário, exibe a quantidade de minutos com uma casa decimal usando `{minutos:.1f}`. Isso é feito usando uma estrutura condicional `if-else`."
   ]
  },
  {
   "cell_type": "code",
   "execution_count": null,
   "metadata": {},
   "outputs": [],
   "source": []
  }
 ],
 "metadata": {
  "kernelspec": {
   "display_name": "base",
   "language": "python",
   "name": "python3"
  },
  "language_info": {
   "codemirror_mode": {
    "name": "ipython",
    "version": 3
   },
   "file_extension": ".py",
   "mimetype": "text/x-python",
   "name": "python",
   "nbconvert_exporter": "python",
   "pygments_lexer": "ipython3",
   "version": "3.11.7"
  }
 },
 "nbformat": 4,
 "nbformat_minor": 2
}
