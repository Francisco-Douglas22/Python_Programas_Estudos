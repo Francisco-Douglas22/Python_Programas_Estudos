{
 "cells": [
  {
   "cell_type": "markdown",
   "metadata": {},
   "source": [
    "### ***Crie um programa que receba o nome, idade, de uma pessoa, depois imprima com uma mensagem de boas-vindas ao mundo da programação***"
   ]
  },
  {
   "cell_type": "code",
   "execution_count": null,
   "metadata": {},
   "outputs": [],
   "source": []
  },
  {
   "cell_type": "markdown",
   "metadata": {},
   "source": [
    "#### ***Codigo Cru sem Comentarios e explicações***"
   ]
  },
  {
   "cell_type": "code",
   "execution_count": 2,
   "metadata": {},
   "outputs": [
    {
     "name": "stdout",
     "output_type": "stream",
     "text": [
      "Francisco, você tem 28 anos. Seja bem-vindo ao mundo da programação em Python\n"
     ]
    }
   ],
   "source": [
    "\n",
    "nome = str(input('Digite o seu nome: ')).title()\n",
    "\n",
    "idade = int(input(f'{nome}, digite sua idade: '))\n",
    "\n",
    "mensagem = 'Seja bem-vindo ao mundo da programação em Python'\n",
    "\n",
    "print(f'{nome}, você tem {idade} anos. {mensagem}')\n"
   ]
  },
  {
   "cell_type": "code",
   "execution_count": null,
   "metadata": {},
   "outputs": [],
   "source": []
  },
  {
   "cell_type": "markdown",
   "metadata": {},
   "source": [
    "#### ***Codigo Documentado***"
   ]
  },
  {
   "cell_type": "code",
   "execution_count": 3,
   "metadata": {},
   "outputs": [
    {
     "name": "stdout",
     "output_type": "stream",
     "text": [
      "Francisco, você tem 28 anos. Seja bem-vindo ao mundo da programação em Python\n"
     ]
    }
   ],
   "source": [
    "# Solicita ao usuário que insira seu nome e armazena o valor na variável 'nome',\n",
    "# convertendo para título (capitalizando a primeira letra de cada palavra)\n",
    "nome = str(input('Digite o seu nome: ')).title()\n",
    "\n",
    "# Solicita ao usuário que insira sua idade e armazena o valor na variável 'idade'\n",
    "idade = int(input(f'{nome}, digite sua idade: '))\n",
    "\n",
    "# Define a mensagem de boas-vindas ao mundo da programação\n",
    "mensagem = 'Seja bem-vindo ao mundo da programação em Python'\n",
    "\n",
    "# Imprime a mensagem de boas-vindas, incluindo o nome e a idade da pessoa\n",
    "print(f'{nome}, você tem {idade} anos. {mensagem}')\n"
   ]
  },
  {
   "cell_type": "code",
   "execution_count": null,
   "metadata": {},
   "outputs": [],
   "source": []
  },
  {
   "cell_type": "markdown",
   "metadata": {},
   "source": [
    "#### ***Explicando o Codigo***"
   ]
  },
  {
   "cell_type": "markdown",
   "metadata": {},
   "source": [
    "***Solicitação do nome do usuário:***\n",
    "\n",
    "    O programa solicita que o usuário insira seu nome utilizando a função input().\n",
    "    O nome inserido pelo usuário é armazenado na variável nome.\n",
    "    Utiliza-se .title() para garantir que o nome seja capitalizado corretamente, ou seja, a primeira letra de cada palavra seja maiúscula.\n",
    "\n",
    "\n",
    "***Solicitação da idade do usuário:***\n",
    "\n",
    "    O programa solicita que o usuário insira sua idade utilizando input().\n",
    "    A mensagem inclui o nome fornecido anteriormente para uma interação mais personalizada.\n",
    "    A idade inserida pelo usuário é convertida para um número inteiro utilizando a função int().\n",
    "    O valor da idade é armazenado na variável idade.\n",
    "\n",
    "\n",
    "***Definição da mensagem de boas-vindas:***\n",
    "\n",
    "    Uma mensagem de boas-vindas ao mundo da programação em Python é definida e armazenada na variável mensagem.\n",
    "\n",
    "\n",
    "***Impressão da mensagem de boas-vindas:***\n",
    "\n",
    "    Utilizando uma f-string, o programa imprime uma mensagem de boas-vindas personalizada.\n",
    "    A mensagem inclui o nome e a idade fornecidos pelo usuário, juntamente com a mensagem de boas-vindas definida anteriormente.\n",
    "\n",
    "\n",
    "**Resumindo**, \n",
    "este código é um programa simples que solicita ao usuário seu nome e idade, em seguida, imprime uma mensagem de boas-vindas personalizada ao mundo da programação, incluindo o nome e a idade fornecidos pelo usuário.    A f-string contém dois placehold"
   ]
  },
  {
   "cell_type": "code",
   "execution_count": null,
   "metadata": {},
   "outputs": [],
   "source": []
  }
 ],
 "metadata": {
  "kernelspec": {
   "display_name": "Python 3",
   "language": "python",
   "name": "python3"
  },
  "language_info": {
   "codemirror_mode": {
    "name": "ipython",
    "version": 3
   },
   "file_extension": ".py",
   "mimetype": "text/x-python",
   "name": "python",
   "nbconvert_exporter": "python",
   "pygments_lexer": "ipython3",
   "version": "3.12.2"
  }
 },
 "nbformat": 4,
 "nbformat_minor": 2
}
