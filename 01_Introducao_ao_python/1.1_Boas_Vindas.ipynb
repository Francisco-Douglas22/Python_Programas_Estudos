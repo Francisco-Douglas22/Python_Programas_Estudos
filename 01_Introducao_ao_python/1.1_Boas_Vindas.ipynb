{
 "cells": [
  {
   "cell_type": "markdown",
   "metadata": {},
   "source": [
    "### ***Crie um programa que receba o nome, idade, de uma pessoa, depois imprima com uma mensagem de boas-vindas ao mundo da programação***"
   ]
  },
  {
   "cell_type": "code",
   "execution_count": null,
   "metadata": {},
   "outputs": [],
   "source": []
  },
  {
   "cell_type": "markdown",
   "metadata": {},
   "source": [
    "#### ***Codigo sem Comentarios***"
   ]
  },
  {
   "cell_type": "code",
   "execution_count": 2,
   "metadata": {},
   "outputs": [
    {
     "name": "stdout",
     "output_type": "stream",
     "text": [
      "Francisco, você tem 28 anos. Seja bem-vindo ao mundo da programação em Python\n"
     ]
    }
   ],
   "source": [
    "\n",
    "nome = str(input('Digite o seu nome: ')).title()\n",
    "\n",
    "idade = int(input(f'{nome}, digite sua idade: '))\n",
    "\n",
    "mensagem = 'Seja bem-vindo ao mundo da programação em Python'\n",
    "\n",
    "print(f'{nome}, você tem {idade} anos. {mensagem}')\n"
   ]
  },
  {
   "cell_type": "code",
   "execution_count": null,
   "metadata": {},
   "outputs": [],
   "source": []
  },
  {
   "cell_type": "markdown",
   "metadata": {},
   "source": [
    "#### ***Codigo Documentado***"
   ]
  },
  {
   "cell_type": "code",
   "execution_count": 3,
   "metadata": {},
   "outputs": [
    {
     "name": "stdout",
     "output_type": "stream",
     "text": [
      "Francisco, você tem 28 anos. Seja bem-vindo ao mundo da programação em Python\n"
     ]
    }
   ],
   "source": [
    "# Solicita ao usuário que insira seu nome e armazena o valor na variável 'nome',\n",
    "# convertendo para título (capitalizando a primeira letra de cada palavra)\n",
    "nome = str(input('Digite o seu nome: ')).title()\n",
    "\n",
    "# Solicita ao usuário que insira sua idade e armazena o valor na variável 'idade'\n",
    "idade = int(input(f'{nome}, digite sua idade: '))\n",
    "\n",
    "# Define a mensagem de boas-vindas ao mundo da programação\n",
    "mensagem = 'Seja bem-vindo ao mundo da programação em Python'\n",
    "\n",
    "# Imprime a mensagem de boas-vindas, incluindo o nome e a idade da pessoa\n",
    "print(f'{nome}, você tem {idade} anos. {mensagem}')\n"
   ]
  },
  {
   "cell_type": "code",
   "execution_count": null,
   "metadata": {},
   "outputs": [],
   "source": []
  }
 ],
 "metadata": {
  "kernelspec": {
   "display_name": "Python 3",
   "language": "python",
   "name": "python3"
  },
  "language_info": {
   "codemirror_mode": {
    "name": "ipython",
    "version": 3
   },
   "file_extension": ".py",
   "mimetype": "text/x-python",
   "name": "python",
   "nbconvert_exporter": "python",
   "pygments_lexer": "ipython3",
   "version": "3.12.2"
  }
 },
 "nbformat": 4,
 "nbformat_minor": 2
}
