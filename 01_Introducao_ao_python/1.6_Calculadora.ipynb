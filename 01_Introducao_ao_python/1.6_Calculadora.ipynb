{
 "cells": [
  {
   "cell_type": "markdown",
   "metadata": {},
   "source": [
    "### ***6 - Faça um programa que leia um número Inteiro qualquer e mostre na tela a sua tabuada. OBS sem utiliza laço de repetição ou mesmo funções***"
   ]
  },
  {
   "cell_type": "code",
   "execution_count": null,
   "metadata": {},
   "outputs": [],
   "source": []
  },
  {
   "cell_type": "markdown",
   "metadata": {},
   "source": [
    "#### ***Codigo Cru sem Comentarios e explicações***"
   ]
  },
  {
   "cell_type": "code",
   "execution_count": 1,
   "metadata": {},
   "outputs": [
    {
     "name": "stdout",
     "output_type": "stream",
     "text": [
      "45 + 1 = 46\n",
      "45 + 2 = 47\n",
      "45 + 3 = 48\n",
      "45 + 4 = 49\n",
      "45 + 5 = 50\n",
      "45 + 6 = 51\n",
      "45 + 7 = 52\n",
      "45 + 8 = 53\n",
      "45 + 9 = 54\n",
      "45 + 10 = 55\n"
     ]
    }
   ],
   "source": [
    "numero = int(input('Digite um numero: '))\n",
    "print(f'{numero} + {1} = {numero+1}')\n",
    "print(f'{numero} + {2} = {numero+2}')\n",
    "print(f'{numero} + {3} = {numero+3}')\n",
    "print(f'{numero} + {4} = {numero+4}')\n",
    "print(f'{numero} + {5} = {numero+5}')\n",
    "print(f'{numero} + {6} = {numero+6}')\n",
    "print(f'{numero} + {7} = {numero+7}')\n",
    "print(f'{numero} + {8} = {numero+8}')\n",
    "print(f'{numero} + {9} = {numero+9}')\n",
    "print(f'{numero} + {10} = {numero+10}')"
   ]
  },
  {
   "cell_type": "code",
   "execution_count": null,
   "metadata": {},
   "outputs": [],
   "source": []
  },
  {
   "cell_type": "markdown",
   "metadata": {},
   "source": [
    "#### ***Codigo Documentado***"
   ]
  },
  {
   "cell_type": "markdown",
   "metadata": {},
   "source": [
    "#### ***Explicando o Codigo***"
   ]
  },
  {
   "cell_type": "markdown",
   "metadata": {
    "vscode": {
     "languageId": "plaintext"
    }
   },
   "source": [
    "Aqui está o código documentado:\n",
    "\n",
    "```python\n",
    "# Solicita ao usuário que insira um número e armazena o valor na variável 'numero'\n",
    "numero = int(input('Digite um número: '))\n",
    "\n",
    "# Imprime a soma do número digitado com os números de 1 a 10\n",
    "print(f'{numero} + 1 = {numero + 1}')\n",
    "print(f'{numero} + 2 = {numero + 2}')\n",
    "print(f'{numero} + 3 = {numero + 3}')\n",
    "print(f'{numero} + 4 = {numero + 4}')\n",
    "print(f'{numero} + 5 = {numero + 5}')\n",
    "print(f'{numero} + 6 = {numero + 6}')\n",
    "print(f'{numero} + 7 = {numero + 7}')\n",
    "print(f'{numero} + 8 = {numero + 8}')\n",
    "print(f'{numero} + 9 = {numero + 9}')\n",
    "print(f'{numero} + 10 = {numero + 10}')\n",
    "```\n",
    "\n",
    "**Explicação:**\n",
    "\n",
    "1. **Solicitação do número:** O programa solicita ao usuário que insira um número utilizando a função `input()`. O valor inserido pelo usuário é convertido para um número inteiro utilizando `int()` e armazenado na variável `numero`.\n",
    "\n",
    "2. **Impressão das somas:** O programa imprime as somas do número digitado com os números de 1 a 10, utilizando uma f-string para formatar a saída. Cada linha imprime uma soma diferente, onde o número digitado pelo usuário é somado com um número específico (de 1 a 10)."
   ]
  },
  {
   "cell_type": "code",
   "execution_count": null,
   "metadata": {},
   "outputs": [],
   "source": []
  }
 ],
 "metadata": {
  "kernelspec": {
   "display_name": "base",
   "language": "python",
   "name": "python3"
  },
  "language_info": {
   "codemirror_mode": {
    "name": "ipython",
    "version": 3
   },
   "file_extension": ".py",
   "mimetype": "text/x-python",
   "name": "python",
   "nbconvert_exporter": "python",
   "pygments_lexer": "ipython3",
   "version": "3.11.7"
  }
 },
 "nbformat": 4,
 "nbformat_minor": 2
}
