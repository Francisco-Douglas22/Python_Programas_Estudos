{
 "cells": [
  {
   "cell_type": "markdown",
   "metadata": {},
   "source": [
    "### ***3 - Faça um programa que leia 2 números Inteiro some os e mostre na tela o seu sucessor e seu antecessor.***"
   ]
  },
  {
   "cell_type": "code",
   "execution_count": null,
   "metadata": {},
   "outputs": [],
   "source": []
  },
  {
   "cell_type": "markdown",
   "metadata": {},
   "source": [
    "#### ***Codigo Cru sem Comentarios e explicações***"
   ]
  },
  {
   "cell_type": "code",
   "execution_count": 1,
   "metadata": {},
   "outputs": [
    {
     "name": "stdout",
     "output_type": "stream",
     "text": [
      "O Numero Digitado foi 45 seu sucessor e 46 e seu antecessor e 44\n"
     ]
    }
   ],
   "source": [
    "numero = int(input('Digite um numero: '))\n",
    "sucessor = numero + 1\n",
    "antecessor = numero - 1\n",
    "print(f'O Numero Digitado foi {numero} seu sucessor e {sucessor} e seu antecessor e {antecessor}')"
   ]
  },
  {
   "cell_type": "code",
   "execution_count": null,
   "metadata": {},
   "outputs": [],
   "source": []
  },
  {
   "cell_type": "markdown",
   "metadata": {},
   "source": [
    "#### ***Codigo Documentado***"
   ]
  },
  {
   "cell_type": "code",
   "execution_count": 2,
   "metadata": {},
   "outputs": [
    {
     "name": "stdout",
     "output_type": "stream",
     "text": [
      "O número digitado foi 45, seu sucessor é 46 e seu antecessor é 44\n"
     ]
    }
   ],
   "source": [
    "# Solicita ao usuário que insira um número e armazena o valor na variável 'numero'\n",
    "numero = int(input('Digite um número: '))\n",
    "\n",
    "# Calcula o sucessor do número digitado e armazena o resultado na variável 'sucessor'\n",
    "sucessor = numero + 1\n",
    "\n",
    "# Calcula o antecessor do número digitado e armazena o resultado na variável 'antecessor'\n",
    "antecessor = numero - 1\n",
    "\n",
    "# Imprime o número digitado, seu sucessor e seu antecessor\n",
    "print(f'O número digitado foi {numero}, seu sucessor é {sucessor} e seu antecessor é {antecessor}')\n"
   ]
  },
  {
   "cell_type": "code",
   "execution_count": null,
   "metadata": {},
   "outputs": [],
   "source": []
  },
  {
   "cell_type": "markdown",
   "metadata": {},
   "source": [
    "#### ***Explicando o Codigo***"
   ]
  },
  {
   "cell_type": "markdown",
   "metadata": {},
   "source": [
    "***Explicação detalhada:***\n",
    "\n",
    "Solicitação do número: \n",
    "\n",
    "        O programa solicita ao usuário que insira um número utilizando a função input(). O número inserido pelo usuário é convertido para um número inteiro usando int() e armazenado na variável numero.\n",
    "\n",
    "Cálculo do sucessor: \n",
    "\n",
    "        O programa calcula o sucessor do número digitado pelo usuário, adicionando 1 ao valor de numero, e armazena o resultado na variável sucessor.\n",
    "\n",
    "Cálculo do antecessor: \n",
    "\n",
    "        O programa calcula o antecessor do número digitado pelo usuário, subtraindo 1 do valor de numero, e armazena o resultado na variável antecessor.\n",
    "\n",
    "\n",
    "        Impressão dos resultados: Utilizando uma f-string, o programa imprime uma mensagem contendo o número digitado, seu sucessor e seu antecessor. A mensagem é formatada de forma que os valores de numero, sucessor e antecessor sejam inseridos na string de saída."
   ]
  },
  {
   "cell_type": "code",
   "execution_count": null,
   "metadata": {},
   "outputs": [],
   "source": []
  }
 ],
 "metadata": {
  "kernelspec": {
   "display_name": "Python 3",
   "language": "python",
   "name": "python3"
  },
  "language_info": {
   "codemirror_mode": {
    "name": "ipython",
    "version": 3
   },
   "file_extension": ".py",
   "mimetype": "text/x-python",
   "name": "python",
   "nbconvert_exporter": "python",
   "pygments_lexer": "ipython3",
   "version": "3.12.2"
  }
 },
 "nbformat": 4,
 "nbformat_minor": 2
}
