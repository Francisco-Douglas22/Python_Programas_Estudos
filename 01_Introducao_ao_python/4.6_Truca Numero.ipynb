{
 "cells": [
  {
   "cell_type": "markdown",
   "metadata": {},
   "source": [
    "### ***Crie um programa que leia um número Real qualquer pelo teclado e mostre na tela a sua porção Inteira Biblioteca: from math import trunc***"
   ]
  },
  {
   "cell_type": "code",
   "execution_count": null,
   "metadata": {},
   "outputs": [],
   "source": []
  },
  {
   "cell_type": "markdown",
   "metadata": {},
   "source": [
    "#### ***Codigo Cru sem Comentarios e explicações***"
   ]
  },
  {
   "cell_type": "code",
   "execution_count": 1,
   "metadata": {},
   "outputs": [
    {
     "name": "stdout",
     "output_type": "stream",
     "text": [
      "O Numero 346.67886 Truncado e 346\n",
      "O Numero 346.67886 convertido para int e 346\n",
      "O Numero 346.67886 Sem casas decimais e 347\n"
     ]
    }
   ],
   "source": [
    "from math import trunc\n",
    "\n",
    "numero = float(input('Digite um numero: '))\n",
    "print(f'O Numero {numero} Truncado e {trunc(numero)}')\n",
    "print(f'O Numero {numero} convertido para int e {int(numero)}')\n",
    "print(f'O Numero {numero} Sem casas decimais e {numero:.0f}')"
   ]
  },
  {
   "cell_type": "code",
   "execution_count": null,
   "metadata": {},
   "outputs": [],
   "source": []
  },
  {
   "cell_type": "markdown",
   "metadata": {},
   "source": [
    "#### ***Codigo Documentado***"
   ]
  },
  {
   "cell_type": "markdown",
   "metadata": {},
   "source": [
    "#### ***Explicando o Codigo***"
   ]
  },
  {
   "cell_type": "markdown",
   "metadata": {
    "vscode": {
     "languageId": "plaintext"
    }
   },
   "source": [
    "\n",
    "\n",
    "```python\n",
    "from math import trunc\n",
    "\n",
    "# Solicitar ao usuário que insira um número\n",
    "numero = float(input('Digite um numero: '))\n",
    "\n",
    "# Utilizando a função trunc() da biblioteca math para truncar o número\n",
    "print(f'O Numero {numero} Truncado e {trunc(numero)}')\n",
    "\n",
    "# Convertendo o número para inteiro utilizando a função int()\n",
    "print(f'O Numero {numero} convertido para int e {int(numero)}')\n",
    "\n",
    "# Formatando o número para que não tenha casas decimais\n",
    "print(f'O Numero {numero} Sem casas decimais e {numero:.0f}')\n",
    "```\n",
    "\n",
    "Explicação do código:\n",
    "\n",
    "1. O código importa a função `trunc` do módulo `math`. Esta função retorna a parte inteira de um número, eliminando sua parte fracionária.\n",
    "\n",
    "2. O programa solicita ao usuário que insira um número e armazena esse número como um valor de ponto flutuante na variável `numero`.\n",
    "\n",
    "3. Em seguida, o programa imprime o número truncado, utilizando a função `trunc(numero)` e o formata dentro de uma string usando a f-string (interpolação de string) do Python.\n",
    "\n",
    "4. Depois, o programa imprime o número convertido para um inteiro utilizando a função `int(numero)`.\n",
    "\n",
    "5. Por fim, o programa imprime o número sem casas decimais, utilizando a formatação `{numero:.0f}`. Isso garante que o número seja exibido sem casas decimais, arredondando-o para o número inteiro mais próximo."
   ]
  },
  {
   "cell_type": "code",
   "execution_count": null,
   "metadata": {},
   "outputs": [],
   "source": []
  }
 ],
 "metadata": {
  "kernelspec": {
   "display_name": "base",
   "language": "python",
   "name": "python3"
  },
  "language_info": {
   "codemirror_mode": {
    "name": "ipython",
    "version": 3
   },
   "file_extension": ".py",
   "mimetype": "text/x-python",
   "name": "python",
   "nbconvert_exporter": "python",
   "pygments_lexer": "ipython3",
   "version": "3.11.7"
  }
 },
 "nbformat": 4,
 "nbformat_minor": 2
}
