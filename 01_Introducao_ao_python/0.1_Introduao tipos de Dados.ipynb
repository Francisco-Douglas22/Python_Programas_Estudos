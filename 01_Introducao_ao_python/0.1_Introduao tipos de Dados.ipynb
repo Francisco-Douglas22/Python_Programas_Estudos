{
 "cells": [
  {
   "cell_type": "markdown",
   "metadata": {
    "id": "fEk80AQJcBZs"
   },
   "source": [
    "# **`Dir e Help no Python`**\n",
    "\n",
    "##### **dir** - Apresenta todos os atributos/Propriedades e funções/metodos disponiveis para determinado tipo de dado ou variavel.\n",
    "\n",
    "##### **help** - Apresenta a documentação/como utilizar os atributos/propriedades e funções/metodos disponiveis para determinado tipo de dado ou variavel."
   ]
  },
  {
   "cell_type": "markdown",
   "metadata": {},
   "source": [
    "Exatamente! No exemplo dado:\n",
    "\n",
    "```python\n",
    "nome = 'Francisco Douglas'\n",
    "help(nome) # Não mostrará nada nesse caso, pois 'nome' é uma string e não um objeto que possui documentação\n",
    "dir(nome) # Irá mostrar todos os métodos e atributos disponíveis para strings\n",
    "```\n",
    "\n",
    "O comando `help(nome)` não mostrará nada porque `nome` é uma string, e strings em Python são objetos simples sem documentação disponível diretamente através do comando `help()`. No entanto, você pode usar o comando `dir()` para listar todos os métodos e atributos disponíveis para a string `nome`. Isso pode ser útil para explorar as funcionalidades disponíveis para manipulação de strings em Python."
   ]
  },
  {
   "cell_type": "code",
   "execution_count": 2,
   "metadata": {
    "colab": {
     "base_uri": "https://localhost:8080/"
    },
    "executionInfo": {
     "elapsed": 7,
     "status": "ok",
     "timestamp": 1706636115391,
     "user": {
      "displayName": "Francisco Douglas",
      "userId": "10966320178514607665"
     },
     "user_tz": 180
    },
    "id": "2JKcZnzmb5wA",
    "outputId": "8cd87718-8cbd-4793-a379-4a5e92663459"
   },
   "outputs": [
    {
     "name": "stdout",
     "output_type": "stream",
     "text": [
      "No Python documentation found for 'Francisco Douglas'.\n",
      "Use help() to get the interactive help utility.\n",
      "Use help(str) for help on the str class.\n",
      "\n"
     ]
    },
    {
     "data": {
      "text/plain": [
       "['__add__',\n",
       " '__class__',\n",
       " '__contains__',\n",
       " '__delattr__',\n",
       " '__dir__',\n",
       " '__doc__',\n",
       " '__eq__',\n",
       " '__format__',\n",
       " '__ge__',\n",
       " '__getattribute__',\n",
       " '__getitem__',\n",
       " '__getnewargs__',\n",
       " '__getstate__',\n",
       " '__gt__',\n",
       " '__hash__',\n",
       " '__init__',\n",
       " '__init_subclass__',\n",
       " '__iter__',\n",
       " '__le__',\n",
       " '__len__',\n",
       " '__lt__',\n",
       " '__mod__',\n",
       " '__mul__',\n",
       " '__ne__',\n",
       " '__new__',\n",
       " '__reduce__',\n",
       " '__reduce_ex__',\n",
       " '__repr__',\n",
       " '__rmod__',\n",
       " '__rmul__',\n",
       " '__setattr__',\n",
       " '__sizeof__',\n",
       " '__str__',\n",
       " '__subclasshook__',\n",
       " 'capitalize',\n",
       " 'casefold',\n",
       " 'center',\n",
       " 'count',\n",
       " 'encode',\n",
       " 'endswith',\n",
       " 'expandtabs',\n",
       " 'find',\n",
       " 'format',\n",
       " 'format_map',\n",
       " 'index',\n",
       " 'isalnum',\n",
       " 'isalpha',\n",
       " 'isascii',\n",
       " 'isdecimal',\n",
       " 'isdigit',\n",
       " 'isidentifier',\n",
       " 'islower',\n",
       " 'isnumeric',\n",
       " 'isprintable',\n",
       " 'isspace',\n",
       " 'istitle',\n",
       " 'isupper',\n",
       " 'join',\n",
       " 'ljust',\n",
       " 'lower',\n",
       " 'lstrip',\n",
       " 'maketrans',\n",
       " 'partition',\n",
       " 'removeprefix',\n",
       " 'removesuffix',\n",
       " 'replace',\n",
       " 'rfind',\n",
       " 'rindex',\n",
       " 'rjust',\n",
       " 'rpartition',\n",
       " 'rsplit',\n",
       " 'rstrip',\n",
       " 'split',\n",
       " 'splitlines',\n",
       " 'startswith',\n",
       " 'strip',\n",
       " 'swapcase',\n",
       " 'title',\n",
       " 'translate',\n",
       " 'upper',\n",
       " 'zfill']"
      ]
     },
     "execution_count": 2,
     "metadata": {},
     "output_type": "execute_result"
    }
   ],
   "source": [
    "#Exemplo\n",
    "nome = 'Francisco Douglas'\n",
    "help(nome) #Não Mostrara nada nesse caso devo utiliza o dir\n",
    "dir(nome) # Mim mostrara todos os metodos e funções"
   ]
  },
  {
   "cell_type": "code",
   "execution_count": null,
   "metadata": {},
   "outputs": [],
   "source": []
  },
  {
   "cell_type": "code",
   "execution_count": null,
   "metadata": {},
   "outputs": [],
   "source": []
  },
  {
   "cell_type": "markdown",
   "metadata": {},
   "source": [
    "Ao utilizar o comando `help()` com métodos de string específicos, como `nome.title`, `nome.lower` e `nome.upper`, você pode acessar a documentação embutida do Python para esses métodos. Aqui está um exemplo de como isso pode ser feito:\n",
    "\n",
    "```python\n",
    "# Documentação para o método title()\n",
    "help(nome.title)\n",
    "print('-'*80)\n",
    "\n",
    "# Documentação para o método lower()\n",
    "help(nome.lower)\n",
    "print('*'*80)\n",
    "\n",
    "# Documentação para o método upper()\n",
    "help(nome.upper)\n",
    "```\n",
    "\n",
    "Isso mostrará a documentação embutida do Python para os métodos `title()`, `lower()` e `upper()` respectivamente. Esta documentação fornecerá uma descrição do que cada método faz e como usá-lo, juntamente com informações adicionais, como parâmetros e valores de retorno."
   ]
  },
  {
   "cell_type": "code",
   "execution_count": 4,
   "metadata": {
    "colab": {
     "base_uri": "https://localhost:8080/"
    },
    "executionInfo": {
     "elapsed": 275,
     "status": "ok",
     "timestamp": 1706636170589,
     "user": {
      "displayName": "Francisco Douglas",
      "userId": "10966320178514607665"
     },
     "user_tz": 180
    },
    "id": "mYALQHrNcC69",
    "outputId": "4c0fb97f-4f4b-46d1-cb87-c9a841eaaf95"
   },
   "outputs": [
    {
     "name": "stdout",
     "output_type": "stream",
     "text": [
      "Help on built-in function title:\n",
      "\n",
      "title() method of builtins.str instance\n",
      "    Return a version of the string where each word is titlecased.\n",
      "    \n",
      "    More specifically, words start with uppercased characters and all remaining\n",
      "    cased characters have lower case.\n",
      "\n",
      "--------------------------------------------------------------------------------\n",
      "Help on built-in function lower:\n",
      "\n",
      "lower() method of builtins.str instance\n",
      "    Return a copy of the string converted to lowercase.\n",
      "\n",
      "********************************************************************************\n",
      "Help on built-in function upper:\n",
      "\n",
      "upper() method of builtins.str instance\n",
      "    Return a copy of the string converted to uppercase.\n",
      "\n"
     ]
    }
   ],
   "source": [
    "#Exemplo documentacao title\n",
    "nome = 'francisco'\n",
    "help(nome.title)\n",
    "print('-'*80)\n",
    "\n",
    "#documentacao lower\n",
    "help(nome.lower)\n",
    "print('*'*80)\n",
    "\n",
    "#documentacao upper\n",
    "help(nome.upper)"
   ]
  },
  {
   "cell_type": "code",
   "execution_count": null,
   "metadata": {},
   "outputs": [],
   "source": []
  },
  {
   "cell_type": "code",
   "execution_count": null,
   "metadata": {},
   "outputs": [],
   "source": []
  },
  {
   "cell_type": "markdown",
   "metadata": {},
   "source": [
    "Excelente! Aqui está o código usando `dir()` para listar os métodos e atributos disponíveis para diferentes tipos de dados:\n",
    "\n",
    "```python\n",
    "inteiro = 23\n",
    "fracionario = 45.67\n",
    "strings = 'Programador Python'\n",
    "boleano = True\n",
    "\n",
    "# Métodos e atributos para números inteiros\n",
    "print(f'Métodos do Inteiro: {dir(inteiro)}\\n')\n",
    "\n",
    "# Métodos e atributos para números de ponto flutuante\n",
    "print(f'Métodos do Float: {dir(fracionario)}\\n')\n",
    "\n",
    "# Métodos e atributos para strings\n",
    "print(f'Métodos da String: {dir(strings)}\\n')\n",
    "\n",
    "# Métodos e atributos para valores booleanos\n",
    "print(f'Métodos do Booleano: {dir(boleano)}')\n",
    "```\n",
    "\n",
    "Isso mostrará todos os métodos e atributos disponíveis para cada tipo de dado. Você verá uma lista de métodos e atributos específicos para cada tipo de dado, como inteiros, floats, strings e booleanos. Essa é uma maneira útil de explorar as funcionalidades disponíveis para diferentes tipos de dados em Python."
   ]
  },
  {
   "cell_type": "code",
   "execution_count": 5,
   "metadata": {
    "colab": {
     "base_uri": "https://localhost:8080/"
    },
    "executionInfo": {
     "elapsed": 7,
     "status": "ok",
     "timestamp": 1706636182122,
     "user": {
      "displayName": "Francisco Douglas",
      "userId": "10966320178514607665"
     },
     "user_tz": 180
    },
    "id": "CT4vKppwcC2c",
    "outputId": "2acce51f-a2e9-4ef9-fbaa-972064dd5ebf"
   },
   "outputs": [
    {
     "name": "stdout",
     "output_type": "stream",
     "text": [
      "Metodos do Int: ['__abs__', '__add__', '__and__', '__bool__', '__ceil__', '__class__', '__delattr__', '__dir__', '__divmod__', '__doc__', '__eq__', '__float__', '__floor__', '__floordiv__', '__format__', '__ge__', '__getattribute__', '__getnewargs__', '__getstate__', '__gt__', '__hash__', '__index__', '__init__', '__init_subclass__', '__int__', '__invert__', '__le__', '__lshift__', '__lt__', '__mod__', '__mul__', '__ne__', '__neg__', '__new__', '__or__', '__pos__', '__pow__', '__radd__', '__rand__', '__rdivmod__', '__reduce__', '__reduce_ex__', '__repr__', '__rfloordiv__', '__rlshift__', '__rmod__', '__rmul__', '__ror__', '__round__', '__rpow__', '__rrshift__', '__rshift__', '__rsub__', '__rtruediv__', '__rxor__', '__setattr__', '__sizeof__', '__str__', '__sub__', '__subclasshook__', '__truediv__', '__trunc__', '__xor__', 'as_integer_ratio', 'bit_count', 'bit_length', 'conjugate', 'denominator', 'from_bytes', 'imag', 'numerator', 'real', 'to_bytes']\n",
      "\n",
      "Metodos do float: ['__abs__', '__add__', '__bool__', '__ceil__', '__class__', '__delattr__', '__dir__', '__divmod__', '__doc__', '__eq__', '__float__', '__floor__', '__floordiv__', '__format__', '__ge__', '__getattribute__', '__getformat__', '__getnewargs__', '__getstate__', '__gt__', '__hash__', '__init__', '__init_subclass__', '__int__', '__le__', '__lt__', '__mod__', '__mul__', '__ne__', '__neg__', '__new__', '__pos__', '__pow__', '__radd__', '__rdivmod__', '__reduce__', '__reduce_ex__', '__repr__', '__rfloordiv__', '__rmod__', '__rmul__', '__round__', '__rpow__', '__rsub__', '__rtruediv__', '__setattr__', '__sizeof__', '__str__', '__sub__', '__subclasshook__', '__truediv__', '__trunc__', 'as_integer_ratio', 'conjugate', 'fromhex', 'hex', 'imag', 'is_integer', 'real']\n",
      "\n",
      "Metodos String: ['__add__', '__class__', '__contains__', '__delattr__', '__dir__', '__doc__', '__eq__', '__format__', '__ge__', '__getattribute__', '__getitem__', '__getnewargs__', '__getstate__', '__gt__', '__hash__', '__init__', '__init_subclass__', '__iter__', '__le__', '__len__', '__lt__', '__mod__', '__mul__', '__ne__', '__new__', '__reduce__', '__reduce_ex__', '__repr__', '__rmod__', '__rmul__', '__setattr__', '__sizeof__', '__str__', '__subclasshook__', 'capitalize', 'casefold', 'center', 'count', 'encode', 'endswith', 'expandtabs', 'find', 'format', 'format_map', 'index', 'isalnum', 'isalpha', 'isascii', 'isdecimal', 'isdigit', 'isidentifier', 'islower', 'isnumeric', 'isprintable', 'isspace', 'istitle', 'isupper', 'join', 'ljust', 'lower', 'lstrip', 'maketrans', 'partition', 'removeprefix', 'removesuffix', 'replace', 'rfind', 'rindex', 'rjust', 'rpartition', 'rsplit', 'rstrip', 'split', 'splitlines', 'startswith', 'strip', 'swapcase', 'title', 'translate', 'upper', 'zfill']\n",
      "\n",
      "Metodos Booleano: ['__abs__', '__add__', '__and__', '__bool__', '__ceil__', '__class__', '__delattr__', '__dir__', '__divmod__', '__doc__', '__eq__', '__float__', '__floor__', '__floordiv__', '__format__', '__ge__', '__getattribute__', '__getnewargs__', '__getstate__', '__gt__', '__hash__', '__index__', '__init__', '__init_subclass__', '__int__', '__invert__', '__le__', '__lshift__', '__lt__', '__mod__', '__mul__', '__ne__', '__neg__', '__new__', '__or__', '__pos__', '__pow__', '__radd__', '__rand__', '__rdivmod__', '__reduce__', '__reduce_ex__', '__repr__', '__rfloordiv__', '__rlshift__', '__rmod__', '__rmul__', '__ror__', '__round__', '__rpow__', '__rrshift__', '__rshift__', '__rsub__', '__rtruediv__', '__rxor__', '__setattr__', '__sizeof__', '__str__', '__sub__', '__subclasshook__', '__truediv__', '__trunc__', '__xor__', 'as_integer_ratio', 'bit_count', 'bit_length', 'conjugate', 'denominator', 'from_bytes', 'imag', 'numerator', 'real', 'to_bytes']\n"
     ]
    }
   ],
   "source": [
    "#Utilizando o Dir\n",
    "inteiro     = 23\n",
    "fracionario = 45.67\n",
    "strings     = 'Programador Python'\n",
    "doubles     = True\n",
    "\n",
    "#Metodos e Funções\n",
    "print(f'Metodos do Int: {dir(inteiro)}\\n')\n",
    "print(f'Metodos do float: {dir(fracionario)}\\n')\n",
    "print(f'Metodos String: {dir(strings)}\\n')\n",
    "print(f'Metodos Booleano: {dir(doubles)}')"
   ]
  },
  {
   "cell_type": "code",
   "execution_count": null,
   "metadata": {
    "id": "OcLefWU5cCzj"
   },
   "outputs": [],
   "source": []
  },
  {
   "cell_type": "code",
   "execution_count": null,
   "metadata": {
    "id": "iM04mrlrcCw0"
   },
   "outputs": [],
   "source": []
  },
  {
   "cell_type": "markdown",
   "metadata": {
    "id": "T7_9_BfYcafk"
   },
   "source": [
    "## **Recebendo dados do usuario**"
   ]
  },
  {
   "cell_type": "markdown",
   "metadata": {},
   "source": [
    "```python\n",
    "# Imprime uma mensagem na tela\n",
    "print('O print imprime na tela')\n",
    "\n",
    "# Declarando uma variável e imprimindo seu valor\n",
    "dados = 'Acabei de declarar uma variável'\n",
    "print(dados)\n",
    "\n",
    "# Solicita ao usuário que insira dados e imprime o valor inserido\n",
    "dados2 = input('O input recebe os dados a serem digitados: ')\n",
    "print(dados2)\n",
    "\n",
    "# Formas de imprimir na tela usando f-string e format\n",
    "print('\\n')\n",
    "print(f'Utilizando f-string: {dados2}')\n",
    "print('Utilizando format: {}'.format(dados2))\n",
    "```\n",
    "\n",
    "**Explicação:**\n",
    "\n",
    "1. **Imprimindo na tela:** O comando `print()` é usado para exibir mensagens na tela.\n",
    "\n",
    "2. **Declarando variáveis:** O código declara uma variável chamada `dados` e atribui a ela a string `'Acabei de declarar uma variável'`. Em seguida, imprime o valor da variável.\n",
    "\n",
    "3. **Recebendo dados do usuário:** O código usa a função `input()` para solicitar que o usuário insira dados. Os dados inseridos são armazenados na variável `dados2`, que é então impressa na tela.\n",
    "\n",
    "4. **Formas de impressão na tela:** O código demonstra duas maneiras de imprimir na tela usando formatação de strings. A primeira usa f-strings, que são strings prefixadas com `f` e permitem inserir valores de variáveis diretamente na string. A segunda usa o método `.format()`, que substitui os marcadores de posição na string pelos valores das variáveis especificadas."
   ]
  },
  {
   "cell_type": "code",
   "execution_count": 6,
   "metadata": {
    "colab": {
     "base_uri": "https://localhost:8080/"
    },
    "executionInfo": {
     "elapsed": 3345,
     "status": "ok",
     "timestamp": 1706636210404,
     "user": {
      "displayName": "Francisco Douglas",
      "userId": "10966320178514607665"
     },
     "user_tz": 180
    },
    "id": "cQMjoPRrca25",
    "outputId": "717df080-591f-47fa-ece1-1fcc58e78535"
   },
   "outputs": [
    {
     "name": "stdout",
     "output_type": "stream",
     "text": [
      "O print imprime na tela\n",
      "Acabei de Declara uma Variavel\n",
      "der\n",
      "\n",
      "\n",
      "Utilizando f,string: der\n",
      "Utilizando f, format der\n"
     ]
    }
   ],
   "source": [
    "print('O print imprime na tela')\n",
    "\n",
    "#Declarando variaveis\n",
    "dados = 'Acabei de Declara uma Variavel'\n",
    "print(dados)\n",
    "\n",
    "#Recebendo dados do usuario\n",
    "dados2 = input('O Input recebe os dados  serem digitados: ')\n",
    "print(dados2)\n",
    "\n",
    "#Formas de imprimir na tela o melhores que acho\n",
    "print('\\n')\n",
    "print(f'Utilizando f,string: {dados2}')\n",
    "print('Utilizando f, format {}'.format(dados2))"
   ]
  },
  {
   "cell_type": "code",
   "execution_count": null,
   "metadata": {
    "id": "ZyjQcy6acbZK"
   },
   "outputs": [],
   "source": []
  },
  {
   "cell_type": "markdown",
   "metadata": {
    "id": "uRdcfXB_chcd"
   },
   "source": [
    "# **`TIPOS DE DADOS EM PYTHON`**\n",
    "\n",
    "\n",
    "```python\n",
    "# Tipo de dado: int (inteiro)\n",
    "# Descrição: Representa números inteiros, como 2, 3, 4, etc.\n",
    "# Exemplo:\n",
    "inteiro = 10\n",
    "\n",
    "# Tipo de dado: float (ponto flutuante)\n",
    "# Descrição: Representa números de ponto flutuante, como 4.3, 5.667, 2.23, etc.\n",
    "# Exemplo:\n",
    "flutuante = 3.14\n",
    "\n",
    "# Tipo de dado: bool (booleano)\n",
    "# Descrição: Representa valores lógicos Verdadeiro (True) e Falso (False).\n",
    "# Exemplo:\n",
    "booleano = True\n",
    "\n",
    "# Tipo de dado: str (string)\n",
    "# Descrição: Representa texto, palavras e tudo o que estiver entre aspas. \n",
    "# Exemplo:\n",
    "texto = 'Olá, mundo!'\n",
    "```\n",
    "\n",
    "**Explicação:**\n",
    "\n",
    "1. **int (inteiro):** Este tipo de dado representa números inteiros, como 2, 3, 4, etc.\n",
    "\n",
    "2. **float (ponto flutuante):** Este tipo de dado representa números de ponto flutuante, como 4.3, 5.667, 2.23, etc.\n",
    "\n",
    "3. **bool (booleano):** Este tipo de dado representa valores lógicos Verdadeiro (True) e Falso (False).\n",
    "\n",
    "4. **str (string):** Este tipo de dado representa texto, palavras e tudo o que estiver entre aspas (simples ou duplas). Por exemplo, `'Olá, mundo!'` é uma string."
   ]
  },
  {
   "cell_type": "markdown",
   "metadata": {
    "id": "qWVRUwtFcnxL"
   },
   "source": [
    "### Tipo int"
   ]
  },
  {
   "cell_type": "code",
   "execution_count": 7,
   "metadata": {
    "colab": {
     "base_uri": "https://localhost:8080/"
    },
    "executionInfo": {
     "elapsed": 503,
     "status": "ok",
     "timestamp": 1706636255113,
     "user": {
      "displayName": "Francisco Douglas",
      "userId": "10966320178514607665"
     },
     "user_tz": 180
    },
    "id": "xIHFZWfBcbWL",
    "outputId": "a4039246-443a-4336-ffe8-0a0eb6a1c91e"
   },
   "outputs": [
    {
     "name": "stdout",
     "output_type": "stream",
     "text": [
      "Numero inteiro 2 <class 'int'>\n"
     ]
    }
   ],
   "source": [
    "#Tipo int\n",
    "numero_int = 2\n",
    "print(f'Numero inteiro {numero_int} {type(numero_int)}')"
   ]
  },
  {
   "cell_type": "code",
   "execution_count": null,
   "metadata": {
    "id": "HSRjKFEOcqlM"
   },
   "outputs": [],
   "source": []
  },
  {
   "cell_type": "markdown",
   "metadata": {
    "id": "yMPhl8DlcscM"
   },
   "source": [
    "### Tipo float"
   ]
  },
  {
   "cell_type": "code",
   "execution_count": 8,
   "metadata": {
    "colab": {
     "base_uri": "https://localhost:8080/"
    },
    "executionInfo": {
     "elapsed": 258,
     "status": "ok",
     "timestamp": 1706636273158,
     "user": {
      "displayName": "Francisco Douglas",
      "userId": "10966320178514607665"
     },
     "user_tz": 180
    },
    "id": "afBR6iJ1cqiX",
    "outputId": "3386decc-38cc-465c-b059-a506031e8196"
   },
   "outputs": [
    {
     "name": "stdout",
     "output_type": "stream",
     "text": [
      "Numero Float 45.6 <class 'float'>\n"
     ]
    }
   ],
   "source": [
    "#Tipo float\n",
    "num_float = 45.6\n",
    "print(f'Numero Float {num_float} {type(num_float)}')"
   ]
  },
  {
   "cell_type": "markdown",
   "metadata": {},
   "source": []
  },
  {
   "cell_type": "markdown",
   "metadata": {},
   "source": [
    " `int` e `float`:\n",
    "\n",
    "```python\n",
    "# Contagem de métodos e funções para o tipo de dado int\n",
    "print(f'Ao todo temos: {len(dir(int))} métodos/funções do tipo int')\n",
    "\n",
    "# Contagem de métodos e funções para o tipo de dado float\n",
    "print(f'Ao todo temos: {len(dir(float))} métodos/funções do tipo float')\n",
    "```\n",
    "\n",
    "Este código mostrará quantos métodos e funções estão disponíveis para cada tipo de dado. Esses métodos e funções são as operações que podem ser realizadas com esses tipos de dados em Python."
   ]
  },
  {
   "cell_type": "code",
   "execution_count": 9,
   "metadata": {
    "colab": {
     "base_uri": "https://localhost:8080/"
    },
    "executionInfo": {
     "elapsed": 313,
     "status": "ok",
     "timestamp": 1706636283140,
     "user": {
      "displayName": "Francisco Douglas",
      "userId": "10966320178514607665"
     },
     "user_tz": 180
    },
    "id": "3Oljp4wecqf0",
    "outputId": "27b961ad-38ca-416b-e1ff-4856de9c4fd6"
   },
   "outputs": [
    {
     "name": "stdout",
     "output_type": "stream",
     "text": [
      "Ao todo temos: 73 metodos/funcoes do tipo int\n",
      "Ao todo temos: 59 metodos/funcoes do tipo float\n"
     ]
    }
   ],
   "source": [
    "#Metodos e funcoes do float e int\n",
    "print(f'Ao todo temos: {len(dir(int))} metodos/funcoes do tipo int')\n",
    "print(f'Ao todo temos: {len(dir(float))} metodos/funcoes do tipo float')"
   ]
  },
  {
   "cell_type": "code",
   "execution_count": 10,
   "metadata": {
    "colab": {
     "base_uri": "https://localhost:8080/"
    },
    "executionInfo": {
     "elapsed": 6,
     "status": "ok",
     "timestamp": 1706636292244,
     "user": {
      "displayName": "Francisco Douglas",
      "userId": "10966320178514607665"
     },
     "user_tz": 180
    },
    "id": "_Rgy48BDcqZk",
    "outputId": "67dee6f8-e61e-4f29-900d-8e2eca5b3ee9"
   },
   "outputs": [
    {
     "name": "stdout",
     "output_type": "stream",
     "text": [
      "Help on class int in module builtins:\n",
      "\n",
      "class int(object)\n",
      " |  int([x]) -> integer\n",
      " |  int(x, base=10) -> integer\n",
      " |  \n",
      " |  Convert a number or string to an integer, or return 0 if no arguments\n",
      " |  are given.  If x is a number, return x.__int__().  For floating point\n",
      " |  numbers, this truncates towards zero.\n",
      " |  \n",
      " |  If x is not a number or if base is given, then x must be a string,\n",
      " |  bytes, or bytearray instance representing an integer literal in the\n",
      " |  given base.  The literal can be preceded by '+' or '-' and be surrounded\n",
      " |  by whitespace.  The base defaults to 10.  Valid bases are 0 and 2-36.\n",
      " |  Base 0 means to interpret the base from the string as an integer literal.\n",
      " |  >>> int('0b100', base=0)\n",
      " |  4\n",
      " |  \n",
      " |  Built-in subclasses:\n",
      " |      bool\n",
      " |  \n",
      " |  Methods defined here:\n",
      " |  \n",
      " |  __abs__(self, /)\n",
      " |      abs(self)\n",
      " |  \n",
      " |  __add__(self, value, /)\n",
      " |      Return self+value.\n",
      " |  \n",
      " |  __and__(self, value, /)\n",
      " |      Return self&value.\n",
      " |  \n",
      " |  __bool__(self, /)\n",
      " |      True if self else False\n",
      " |  \n",
      " |  __ceil__(...)\n",
      " |      Ceiling of an Integral returns itself.\n",
      " |  \n",
      " |  __divmod__(self, value, /)\n",
      " |      Return divmod(self, value).\n",
      " |  \n",
      " |  __eq__(self, value, /)\n",
      " |      Return self==value.\n",
      " |  \n",
      " |  __float__(self, /)\n",
      " |      float(self)\n",
      " |  \n",
      " |  __floor__(...)\n",
      " |      Flooring an Integral returns itself.\n",
      " |  \n",
      " |  __floordiv__(self, value, /)\n",
      " |      Return self//value.\n",
      " |  \n",
      " |  __format__(self, format_spec, /)\n",
      " |      Default object formatter.\n",
      " |  \n",
      " |  __ge__(self, value, /)\n",
      " |      Return self>=value.\n",
      " |  \n",
      " |  __getattribute__(self, name, /)\n",
      " |      Return getattr(self, name).\n",
      " |  \n",
      " |  __getnewargs__(self, /)\n",
      " |  \n",
      " |  __gt__(self, value, /)\n",
      " |      Return self>value.\n",
      " |  \n",
      " |  __hash__(self, /)\n",
      " |      Return hash(self).\n",
      " |  \n",
      " |  __index__(self, /)\n",
      " |      Return self converted to an integer, if self is suitable for use as an index into a list.\n",
      " |  \n",
      " |  __int__(self, /)\n",
      " |      int(self)\n",
      " |  \n",
      " |  __invert__(self, /)\n",
      " |      ~self\n",
      " |  \n",
      " |  __le__(self, value, /)\n",
      " |      Return self<=value.\n",
      " |  \n",
      " |  __lshift__(self, value, /)\n",
      " |      Return self<<value.\n",
      " |  \n",
      " |  __lt__(self, value, /)\n",
      " |      Return self<value.\n",
      " |  \n",
      " |  __mod__(self, value, /)\n",
      " |      Return self%value.\n",
      " |  \n",
      " |  __mul__(self, value, /)\n",
      " |      Return self*value.\n",
      " |  \n",
      " |  __ne__(self, value, /)\n",
      " |      Return self!=value.\n",
      " |  \n",
      " |  __neg__(self, /)\n",
      " |      -self\n",
      " |  \n",
      " |  __or__(self, value, /)\n",
      " |      Return self|value.\n",
      " |  \n",
      " |  __pos__(self, /)\n",
      " |      +self\n",
      " |  \n",
      " |  __pow__(self, value, mod=None, /)\n",
      " |      Return pow(self, value, mod).\n",
      " |  \n",
      " |  __radd__(self, value, /)\n",
      " |      Return value+self.\n",
      " |  \n",
      " |  __rand__(self, value, /)\n",
      " |      Return value&self.\n",
      " |  \n",
      " |  __rdivmod__(self, value, /)\n",
      " |      Return divmod(value, self).\n",
      " |  \n",
      " |  __repr__(self, /)\n",
      " |      Return repr(self).\n",
      " |  \n",
      " |  __rfloordiv__(self, value, /)\n",
      " |      Return value//self.\n",
      " |  \n",
      " |  __rlshift__(self, value, /)\n",
      " |      Return value<<self.\n",
      " |  \n",
      " |  __rmod__(self, value, /)\n",
      " |      Return value%self.\n",
      " |  \n",
      " |  __rmul__(self, value, /)\n",
      " |      Return value*self.\n",
      " |  \n",
      " |  __ror__(self, value, /)\n",
      " |      Return value|self.\n",
      " |  \n",
      " |  __round__(...)\n",
      " |      Rounding an Integral returns itself.\n",
      " |      \n",
      " |      Rounding with an ndigits argument also returns an integer.\n",
      " |  \n",
      " |  __rpow__(self, value, mod=None, /)\n",
      " |      Return pow(value, self, mod).\n",
      " |  \n",
      " |  __rrshift__(self, value, /)\n",
      " |      Return value>>self.\n",
      " |  \n",
      " |  __rshift__(self, value, /)\n",
      " |      Return self>>value.\n",
      " |  \n",
      " |  __rsub__(self, value, /)\n",
      " |      Return value-self.\n",
      " |  \n",
      " |  __rtruediv__(self, value, /)\n",
      " |      Return value/self.\n",
      " |  \n",
      " |  __rxor__(self, value, /)\n",
      " |      Return value^self.\n",
      " |  \n",
      " |  __sizeof__(self, /)\n",
      " |      Returns size in memory, in bytes.\n",
      " |  \n",
      " |  __sub__(self, value, /)\n",
      " |      Return self-value.\n",
      " |  \n",
      " |  __truediv__(self, value, /)\n",
      " |      Return self/value.\n",
      " |  \n",
      " |  __trunc__(...)\n",
      " |      Truncating an Integral returns itself.\n",
      " |  \n",
      " |  __xor__(self, value, /)\n",
      " |      Return self^value.\n",
      " |  \n",
      " |  as_integer_ratio(self, /)\n",
      " |      Return integer ratio.\n",
      " |      \n",
      " |      Return a pair of integers, whose ratio is exactly equal to the original int\n",
      " |      and with a positive denominator.\n",
      " |      \n",
      " |      >>> (10).as_integer_ratio()\n",
      " |      (10, 1)\n",
      " |      >>> (-10).as_integer_ratio()\n",
      " |      (-10, 1)\n",
      " |      >>> (0).as_integer_ratio()\n",
      " |      (0, 1)\n",
      " |  \n",
      " |  bit_count(self, /)\n",
      " |      Number of ones in the binary representation of the absolute value of self.\n",
      " |      \n",
      " |      Also known as the population count.\n",
      " |      \n",
      " |      >>> bin(13)\n",
      " |      '0b1101'\n",
      " |      >>> (13).bit_count()\n",
      " |      3\n",
      " |  \n",
      " |  bit_length(self, /)\n",
      " |      Number of bits necessary to represent self in binary.\n",
      " |      \n",
      " |      >>> bin(37)\n",
      " |      '0b100101'\n",
      " |      >>> (37).bit_length()\n",
      " |      6\n",
      " |  \n",
      " |  conjugate(...)\n",
      " |      Returns self, the complex conjugate of any int.\n",
      " |  \n",
      " |  to_bytes(self, /, length=1, byteorder='big', *, signed=False)\n",
      " |      Return an array of bytes representing an integer.\n",
      " |      \n",
      " |      length\n",
      " |        Length of bytes object to use.  An OverflowError is raised if the\n",
      " |        integer is not representable with the given number of bytes.  Default\n",
      " |        is length 1.\n",
      " |      byteorder\n",
      " |        The byte order used to represent the integer.  If byteorder is 'big',\n",
      " |        the most significant byte is at the beginning of the byte array.  If\n",
      " |        byteorder is 'little', the most significant byte is at the end of the\n",
      " |        byte array.  To request the native byte order of the host system, use\n",
      " |        `sys.byteorder' as the byte order value.  Default is to use 'big'.\n",
      " |      signed\n",
      " |        Determines whether two's complement is used to represent the integer.\n",
      " |        If signed is False and a negative integer is given, an OverflowError\n",
      " |        is raised.\n",
      " |  \n",
      " |  ----------------------------------------------------------------------\n",
      " |  Class methods defined here:\n",
      " |  \n",
      " |  from_bytes(bytes, byteorder='big', *, signed=False) from builtins.type\n",
      " |      Return the integer represented by the given array of bytes.\n",
      " |      \n",
      " |      bytes\n",
      " |        Holds the array of bytes to convert.  The argument must either\n",
      " |        support the buffer protocol or be an iterable object producing bytes.\n",
      " |        Bytes and bytearray are examples of built-in objects that support the\n",
      " |        buffer protocol.\n",
      " |      byteorder\n",
      " |        The byte order used to represent the integer.  If byteorder is 'big',\n",
      " |        the most significant byte is at the beginning of the byte array.  If\n",
      " |        byteorder is 'little', the most significant byte is at the end of the\n",
      " |        byte array.  To request the native byte order of the host system, use\n",
      " |        `sys.byteorder' as the byte order value.  Default is to use 'big'.\n",
      " |      signed\n",
      " |        Indicates whether two's complement is used to represent the integer.\n",
      " |  \n",
      " |  ----------------------------------------------------------------------\n",
      " |  Static methods defined here:\n",
      " |  \n",
      " |  __new__(*args, **kwargs) from builtins.type\n",
      " |      Create and return a new object.  See help(type) for accurate signature.\n",
      " |  \n",
      " |  ----------------------------------------------------------------------\n",
      " |  Data descriptors defined here:\n",
      " |  \n",
      " |  denominator\n",
      " |      the denominator of a rational number in lowest terms\n",
      " |  \n",
      " |  imag\n",
      " |      the imaginary part of a complex number\n",
      " |  \n",
      " |  numerator\n",
      " |      the numerator of a rational number in lowest terms\n",
      " |  \n",
      " |  real\n",
      " |      the real part of a complex number\n",
      "\n"
     ]
    }
   ],
   "source": [
    "#Print do int\n",
    "dir(int)\n",
    "help(int)"
   ]
  },
  {
   "cell_type": "code",
   "execution_count": 9,
   "metadata": {
    "colab": {
     "base_uri": "https://localhost:8080/"
    },
    "executionInfo": {
     "elapsed": 7,
     "status": "ok",
     "timestamp": 1706636304315,
     "user": {
      "displayName": "Francisco Douglas",
      "userId": "10966320178514607665"
     },
     "user_tz": 180
    },
    "id": "Yl2Lfw7scqWG",
    "outputId": "a405aef3-4f6e-4d71-bddc-4e5f2456bc25"
   },
   "outputs": [
    {
     "name": "stdout",
     "output_type": "stream",
     "text": [
      "Help on class float in module builtins:\n",
      "\n",
      "class float(object)\n",
      " |  float(x=0, /)\n",
      " |  \n",
      " |  Convert a string or number to a floating point number, if possible.\n",
      " |  \n",
      " |  Methods defined here:\n",
      " |  \n",
      " |  __abs__(self, /)\n",
      " |      abs(self)\n",
      " |  \n",
      " |  __add__(self, value, /)\n",
      " |      Return self+value.\n",
      " |  \n",
      " |  __bool__(self, /)\n",
      " |      True if self else False\n",
      " |  \n",
      " |  __ceil__(self, /)\n",
      " |      Return the ceiling as an Integral.\n",
      " |  \n",
      " |  __divmod__(self, value, /)\n",
      " |      Return divmod(self, value).\n",
      " |  \n",
      " |  __eq__(self, value, /)\n",
      " |      Return self==value.\n",
      " |  \n",
      " |  __float__(self, /)\n",
      " |      float(self)\n",
      " |  \n",
      " |  __floor__(self, /)\n",
      " |      Return the floor as an Integral.\n",
      " |  \n",
      " |  __floordiv__(self, value, /)\n",
      " |      Return self//value.\n",
      " |  \n",
      " |  __format__(self, format_spec, /)\n",
      " |      Formats the float according to format_spec.\n",
      " |  \n",
      " |  __ge__(self, value, /)\n",
      " |      Return self>=value.\n",
      " |  \n",
      " |  __getattribute__(self, name, /)\n",
      " |      Return getattr(self, name).\n",
      " |  \n",
      " |  __getnewargs__(self, /)\n",
      " |  \n",
      " |  __gt__(self, value, /)\n",
      " |      Return self>value.\n",
      " |  \n",
      " |  __hash__(self, /)\n",
      " |      Return hash(self).\n",
      " |  \n",
      " |  __int__(self, /)\n",
      " |      int(self)\n",
      " |  \n",
      " |  __le__(self, value, /)\n",
      " |      Return self<=value.\n",
      " |  \n",
      " |  __lt__(self, value, /)\n",
      " |      Return self<value.\n",
      " |  \n",
      " |  __mod__(self, value, /)\n",
      " |      Return self%value.\n",
      " |  \n",
      " |  __mul__(self, value, /)\n",
      " |      Return self*value.\n",
      " |  \n",
      " |  __ne__(self, value, /)\n",
      " |      Return self!=value.\n",
      " |  \n",
      " |  __neg__(self, /)\n",
      " |      -self\n",
      " |  \n",
      " |  __pos__(self, /)\n",
      " |      +self\n",
      " |  \n",
      " |  __pow__(self, value, mod=None, /)\n",
      " |      Return pow(self, value, mod).\n",
      " |  \n",
      " |  __radd__(self, value, /)\n",
      " |      Return value+self.\n",
      " |  \n",
      " |  __rdivmod__(self, value, /)\n",
      " |      Return divmod(value, self).\n",
      " |  \n",
      " |  __repr__(self, /)\n",
      " |      Return repr(self).\n",
      " |  \n",
      " |  __rfloordiv__(self, value, /)\n",
      " |      Return value//self.\n",
      " |  \n",
      " |  __rmod__(self, value, /)\n",
      " |      Return value%self.\n",
      " |  \n",
      " |  __rmul__(self, value, /)\n",
      " |      Return value*self.\n",
      " |  \n",
      " |  __round__(self, ndigits=None, /)\n",
      " |      Return the Integral closest to x, rounding half toward even.\n",
      " |      \n",
      " |      When an argument is passed, work like built-in round(x, ndigits).\n",
      " |  \n",
      " |  __rpow__(self, value, mod=None, /)\n",
      " |      Return pow(value, self, mod).\n",
      " |  \n",
      " |  __rsub__(self, value, /)\n",
      " |      Return value-self.\n",
      " |  \n",
      " |  __rtruediv__(self, value, /)\n",
      " |      Return value/self.\n",
      " |  \n",
      " |  __sub__(self, value, /)\n",
      " |      Return self-value.\n",
      " |  \n",
      " |  __truediv__(self, value, /)\n",
      " |      Return self/value.\n",
      " |  \n",
      " |  __trunc__(self, /)\n",
      " |      Return the Integral closest to x between 0 and x.\n",
      " |  \n",
      " |  as_integer_ratio(self, /)\n",
      " |      Return integer ratio.\n",
      " |      \n",
      " |      Return a pair of integers, whose ratio is exactly equal to the original float\n",
      " |      and with a positive denominator.\n",
      " |      \n",
      " |      Raise OverflowError on infinities and a ValueError on NaNs.\n",
      " |      \n",
      " |      >>> (10.0).as_integer_ratio()\n",
      " |      (10, 1)\n",
      " |      >>> (0.0).as_integer_ratio()\n",
      " |      (0, 1)\n",
      " |      >>> (-.25).as_integer_ratio()\n",
      " |      (-1, 4)\n",
      " |  \n",
      " |  conjugate(self, /)\n",
      " |      Return self, the complex conjugate of any float.\n",
      " |  \n",
      " |  hex(self, /)\n",
      " |      Return a hexadecimal representation of a floating-point number.\n",
      " |      \n",
      " |      >>> (-0.1).hex()\n",
      " |      '-0x1.999999999999ap-4'\n",
      " |      >>> 3.14159.hex()\n",
      " |      '0x1.921f9f01b866ep+1'\n",
      " |  \n",
      " |  is_integer(self, /)\n",
      " |      Return True if the float is an integer.\n",
      " |  \n",
      " |  ----------------------------------------------------------------------\n",
      " |  Class methods defined here:\n",
      " |  \n",
      " |  __getformat__(typestr, /) from builtins.type\n",
      " |      You probably don't want to use this function.\n",
      " |      \n",
      " |        typestr\n",
      " |          Must be 'double' or 'float'.\n",
      " |      \n",
      " |      It exists mainly to be used in Python's test suite.\n",
      " |      \n",
      " |      This function returns whichever of 'unknown', 'IEEE, big-endian' or 'IEEE,\n",
      " |      little-endian' best describes the format of floating point numbers used by the\n",
      " |      C type named by typestr.\n",
      " |  \n",
      " |  __setformat__(typestr, fmt, /) from builtins.type\n",
      " |      You probably don't want to use this function.\n",
      " |      \n",
      " |        typestr\n",
      " |          Must be 'double' or 'float'.\n",
      " |        fmt\n",
      " |          Must be one of 'unknown', 'IEEE, big-endian' or 'IEEE, little-endian',\n",
      " |          and in addition can only be one of the latter two if it appears to\n",
      " |          match the underlying C reality.\n",
      " |      \n",
      " |      It exists mainly to be used in Python's test suite.\n",
      " |      \n",
      " |      Override the automatic determination of C-level floating point type.\n",
      " |      This affects how floats are converted to and from binary strings.\n",
      " |  \n",
      " |  fromhex(string, /) from builtins.type\n",
      " |      Create a floating-point number from a hexadecimal string.\n",
      " |      \n",
      " |      >>> float.fromhex('0x1.ffffp10')\n",
      " |      2047.984375\n",
      " |      >>> float.fromhex('-0x1p-1074')\n",
      " |      -5e-324\n",
      " |  \n",
      " |  ----------------------------------------------------------------------\n",
      " |  Static methods defined here:\n",
      " |  \n",
      " |  __new__(*args, **kwargs) from builtins.type\n",
      " |      Create and return a new object.  See help(type) for accurate signature.\n",
      " |  \n",
      " |  ----------------------------------------------------------------------\n",
      " |  Data descriptors defined here:\n",
      " |  \n",
      " |  imag\n",
      " |      the imaginary part of a complex number\n",
      " |  \n",
      " |  real\n",
      " |      the real part of a complex number\n",
      "\n"
     ]
    }
   ],
   "source": [
    "#float\n",
    "dir(float)\n",
    "help(float)"
   ]
  },
  {
   "cell_type": "code",
   "execution_count": null,
   "metadata": {
    "id": "nsFmtkrwcqRs"
   },
   "outputs": [],
   "source": []
  },
  {
   "cell_type": "markdown",
   "metadata": {
    "id": "MpgaFJdXc4mU"
   },
   "source": [
    "### **Tipo Booleano bool so aceita True ou False**"
   ]
  },
  {
   "cell_type": "code",
   "execution_count": 11,
   "metadata": {
    "colab": {
     "base_uri": "https://localhost:8080/"
    },
    "executionInfo": {
     "elapsed": 303,
     "status": "ok",
     "timestamp": 1706636349717,
     "user": {
      "displayName": "Francisco Douglas",
      "userId": "10966320178514607665"
     },
     "user_tz": 180
    },
    "id": "3Ul16gbrcbTj",
    "outputId": "9e3ccf1a-98f5-4289-e785-bce9d29134fb"
   },
   "outputs": [
    {
     "name": "stdout",
     "output_type": "stream",
     "text": [
      "False\n"
     ]
    }
   ],
   "source": [
    "#Tipo bool\n",
    "verdade = True\n",
    "falso   = False\n",
    "\n",
    "if verdade == falso:\n",
    "    print(verdade)\n",
    "else:\n",
    "    print(falso)\n",
    "\n",
    "#Sao condicoes logicas"
   ]
  },
  {
   "cell_type": "code",
   "execution_count": 12,
   "metadata": {
    "colab": {
     "base_uri": "https://localhost:8080/"
    },
    "executionInfo": {
     "elapsed": 388,
     "status": "ok",
     "timestamp": 1706636360567,
     "user": {
      "displayName": "Francisco Douglas",
      "userId": "10966320178514607665"
     },
     "user_tz": 180
    },
    "id": "BbBhOUqSc_A0",
    "outputId": "d5932b84-09b8-47a7-f830-57cd8b013f68"
   },
   "outputs": [
    {
     "name": "stdout",
     "output_type": "stream",
     "text": [
      "Help on class bool in module builtins:\n",
      "\n",
      "class bool(int)\n",
      " |  bool(x) -> bool\n",
      " |  \n",
      " |  Returns True when the argument x is true, False otherwise.\n",
      " |  The builtins True and False are the only two instances of the class bool.\n",
      " |  The class bool is a subclass of the class int, and cannot be subclassed.\n",
      " |  \n",
      " |  Method resolution order:\n",
      " |      bool\n",
      " |      int\n",
      " |      object\n",
      " |  \n",
      " |  Methods defined here:\n",
      " |  \n",
      " |  __and__(self, value, /)\n",
      " |      Return self&value.\n",
      " |  \n",
      " |  __or__(self, value, /)\n",
      " |      Return self|value.\n",
      " |  \n",
      " |  __rand__(self, value, /)\n",
      " |      Return value&self.\n",
      " |  \n",
      " |  __repr__(self, /)\n",
      " |      Return repr(self).\n",
      " |  \n",
      " |  __ror__(self, value, /)\n",
      " |      Return value|self.\n",
      " |  \n",
      " |  __rxor__(self, value, /)\n",
      " |      Return value^self.\n",
      " |  \n",
      " |  __xor__(self, value, /)\n",
      " |      Return self^value.\n",
      " |  \n",
      " |  ----------------------------------------------------------------------\n",
      " |  Static methods defined here:\n",
      " |  \n",
      " |  __new__(*args, **kwargs) from builtins.type\n",
      " |      Create and return a new object.  See help(type) for accurate signature.\n",
      " |  \n",
      " |  ----------------------------------------------------------------------\n",
      " |  Methods inherited from int:\n",
      " |  \n",
      " |  __abs__(self, /)\n",
      " |      abs(self)\n",
      " |  \n",
      " |  __add__(self, value, /)\n",
      " |      Return self+value.\n",
      " |  \n",
      " |  __bool__(self, /)\n",
      " |      True if self else False\n",
      " |  \n",
      " |  __ceil__(...)\n",
      " |      Ceiling of an Integral returns itself.\n",
      " |  \n",
      " |  __divmod__(self, value, /)\n",
      " |      Return divmod(self, value).\n",
      " |  \n",
      " |  __eq__(self, value, /)\n",
      " |      Return self==value.\n",
      " |  \n",
      " |  __float__(self, /)\n",
      " |      float(self)\n",
      " |  \n",
      " |  __floor__(...)\n",
      " |      Flooring an Integral returns itself.\n",
      " |  \n",
      " |  __floordiv__(self, value, /)\n",
      " |      Return self//value.\n",
      " |  \n",
      " |  __format__(self, format_spec, /)\n",
      " |      Default object formatter.\n",
      " |  \n",
      " |  __ge__(self, value, /)\n",
      " |      Return self>=value.\n",
      " |  \n",
      " |  __getattribute__(self, name, /)\n",
      " |      Return getattr(self, name).\n",
      " |  \n",
      " |  __getnewargs__(self, /)\n",
      " |  \n",
      " |  __gt__(self, value, /)\n",
      " |      Return self>value.\n",
      " |  \n",
      " |  __hash__(self, /)\n",
      " |      Return hash(self).\n",
      " |  \n",
      " |  __index__(self, /)\n",
      " |      Return self converted to an integer, if self is suitable for use as an index into a list.\n",
      " |  \n",
      " |  __int__(self, /)\n",
      " |      int(self)\n",
      " |  \n",
      " |  __invert__(self, /)\n",
      " |      ~self\n",
      " |  \n",
      " |  __le__(self, value, /)\n",
      " |      Return self<=value.\n",
      " |  \n",
      " |  __lshift__(self, value, /)\n",
      " |      Return self<<value.\n",
      " |  \n",
      " |  __lt__(self, value, /)\n",
      " |      Return self<value.\n",
      " |  \n",
      " |  __mod__(self, value, /)\n",
      " |      Return self%value.\n",
      " |  \n",
      " |  __mul__(self, value, /)\n",
      " |      Return self*value.\n",
      " |  \n",
      " |  __ne__(self, value, /)\n",
      " |      Return self!=value.\n",
      " |  \n",
      " |  __neg__(self, /)\n",
      " |      -self\n",
      " |  \n",
      " |  __pos__(self, /)\n",
      " |      +self\n",
      " |  \n",
      " |  __pow__(self, value, mod=None, /)\n",
      " |      Return pow(self, value, mod).\n",
      " |  \n",
      " |  __radd__(self, value, /)\n",
      " |      Return value+self.\n",
      " |  \n",
      " |  __rdivmod__(self, value, /)\n",
      " |      Return divmod(value, self).\n",
      " |  \n",
      " |  __rfloordiv__(self, value, /)\n",
      " |      Return value//self.\n",
      " |  \n",
      " |  __rlshift__(self, value, /)\n",
      " |      Return value<<self.\n",
      " |  \n",
      " |  __rmod__(self, value, /)\n",
      " |      Return value%self.\n",
      " |  \n",
      " |  __rmul__(self, value, /)\n",
      " |      Return value*self.\n",
      " |  \n",
      " |  __round__(...)\n",
      " |      Rounding an Integral returns itself.\n",
      " |      \n",
      " |      Rounding with an ndigits argument also returns an integer.\n",
      " |  \n",
      " |  __rpow__(self, value, mod=None, /)\n",
      " |      Return pow(value, self, mod).\n",
      " |  \n",
      " |  __rrshift__(self, value, /)\n",
      " |      Return value>>self.\n",
      " |  \n",
      " |  __rshift__(self, value, /)\n",
      " |      Return self>>value.\n",
      " |  \n",
      " |  __rsub__(self, value, /)\n",
      " |      Return value-self.\n",
      " |  \n",
      " |  __rtruediv__(self, value, /)\n",
      " |      Return value/self.\n",
      " |  \n",
      " |  __sizeof__(self, /)\n",
      " |      Returns size in memory, in bytes.\n",
      " |  \n",
      " |  __sub__(self, value, /)\n",
      " |      Return self-value.\n",
      " |  \n",
      " |  __truediv__(self, value, /)\n",
      " |      Return self/value.\n",
      " |  \n",
      " |  __trunc__(...)\n",
      " |      Truncating an Integral returns itself.\n",
      " |  \n",
      " |  as_integer_ratio(self, /)\n",
      " |      Return integer ratio.\n",
      " |      \n",
      " |      Return a pair of integers, whose ratio is exactly equal to the original int\n",
      " |      and with a positive denominator.\n",
      " |      \n",
      " |      >>> (10).as_integer_ratio()\n",
      " |      (10, 1)\n",
      " |      >>> (-10).as_integer_ratio()\n",
      " |      (-10, 1)\n",
      " |      >>> (0).as_integer_ratio()\n",
      " |      (0, 1)\n",
      " |  \n",
      " |  bit_count(self, /)\n",
      " |      Number of ones in the binary representation of the absolute value of self.\n",
      " |      \n",
      " |      Also known as the population count.\n",
      " |      \n",
      " |      >>> bin(13)\n",
      " |      '0b1101'\n",
      " |      >>> (13).bit_count()\n",
      " |      3\n",
      " |  \n",
      " |  bit_length(self, /)\n",
      " |      Number of bits necessary to represent self in binary.\n",
      " |      \n",
      " |      >>> bin(37)\n",
      " |      '0b100101'\n",
      " |      >>> (37).bit_length()\n",
      " |      6\n",
      " |  \n",
      " |  conjugate(...)\n",
      " |      Returns self, the complex conjugate of any int.\n",
      " |  \n",
      " |  to_bytes(self, /, length=1, byteorder='big', *, signed=False)\n",
      " |      Return an array of bytes representing an integer.\n",
      " |      \n",
      " |      length\n",
      " |        Length of bytes object to use.  An OverflowError is raised if the\n",
      " |        integer is not representable with the given number of bytes.  Default\n",
      " |        is length 1.\n",
      " |      byteorder\n",
      " |        The byte order used to represent the integer.  If byteorder is 'big',\n",
      " |        the most significant byte is at the beginning of the byte array.  If\n",
      " |        byteorder is 'little', the most significant byte is at the end of the\n",
      " |        byte array.  To request the native byte order of the host system, use\n",
      " |        `sys.byteorder' as the byte order value.  Default is to use 'big'.\n",
      " |      signed\n",
      " |        Determines whether two's complement is used to represent the integer.\n",
      " |        If signed is False and a negative integer is given, an OverflowError\n",
      " |        is raised.\n",
      " |  \n",
      " |  ----------------------------------------------------------------------\n",
      " |  Class methods inherited from int:\n",
      " |  \n",
      " |  from_bytes(bytes, byteorder='big', *, signed=False) from builtins.type\n",
      " |      Return the integer represented by the given array of bytes.\n",
      " |      \n",
      " |      bytes\n",
      " |        Holds the array of bytes to convert.  The argument must either\n",
      " |        support the buffer protocol or be an iterable object producing bytes.\n",
      " |        Bytes and bytearray are examples of built-in objects that support the\n",
      " |        buffer protocol.\n",
      " |      byteorder\n",
      " |        The byte order used to represent the integer.  If byteorder is 'big',\n",
      " |        the most significant byte is at the beginning of the byte array.  If\n",
      " |        byteorder is 'little', the most significant byte is at the end of the\n",
      " |        byte array.  To request the native byte order of the host system, use\n",
      " |        `sys.byteorder' as the byte order value.  Default is to use 'big'.\n",
      " |      signed\n",
      " |        Indicates whether two's complement is used to represent the integer.\n",
      " |  \n",
      " |  ----------------------------------------------------------------------\n",
      " |  Data descriptors inherited from int:\n",
      " |  \n",
      " |  denominator\n",
      " |      the denominator of a rational number in lowest terms\n",
      " |  \n",
      " |  imag\n",
      " |      the imaginary part of a complex number\n",
      " |  \n",
      " |  numerator\n",
      " |      the numerator of a rational number in lowest terms\n",
      " |  \n",
      " |  real\n",
      " |      the real part of a complex number\n",
      "\n"
     ]
    }
   ],
   "source": [
    "#Metodos e documentacao\n",
    "dir(bool)\n",
    "help(bool)"
   ]
  },
  {
   "cell_type": "code",
   "execution_count": null,
   "metadata": {
    "id": "VmP1y5mqc-9t"
   },
   "outputs": [],
   "source": []
  },
  {
   "cell_type": "markdown",
   "metadata": {
    "id": "53sHy3-udGd0"
   },
   "source": [
    "### Tipo string str"
   ]
  },
  {
   "cell_type": "code",
   "execution_count": 13,
   "metadata": {
    "colab": {
     "base_uri": "https://localhost:8080/"
    },
    "executionInfo": {
     "elapsed": 7,
     "status": "ok",
     "timestamp": 1706636381494,
     "user": {
      "displayName": "Francisco Douglas",
      "userId": "10966320178514607665"
     },
     "user_tz": 180
    },
    "id": "G3SP9CO5cbRE",
    "outputId": "f7f2f2cf-9004-489c-878c-05f986323172"
   },
   "outputs": [
    {
     "name": "stdout",
     "output_type": "stream",
     "text": [
      "String Palavras, textos, \"45.56\", Numeros entre aspas = <class 'str'>\n"
     ]
    }
   ],
   "source": [
    "#str\n",
    "nome = 'Palavras, textos, \"45.56\", Numeros entre aspas'\n",
    "print(f'String {nome} = {type(nome)}')"
   ]
  },
  {
   "cell_type": "code",
   "execution_count": 14,
   "metadata": {},
   "outputs": [
    {
     "name": "stdout",
     "output_type": "stream",
     "text": [
      "Seu nome e Francisco Douglas 'Voce e um programador'\n",
      "\n",
      "      Utilizando aspas Triplas\n",
      "      Tambem utilizando aspas duplas dentro de simples \"OK Python\",\n",
      "      Agora utilizando aspas simples 'Aprendendo Python'\n",
      "      Francisco Douglas\n",
      "      \n"
     ]
    }
   ],
   "source": [
    "# String , tudo que estive emtre aspas simples '', aspas duplas \"\" e aspas triplas \"\"\"\"\"\"\n",
    "# Ou seja tudo que estive entre aspas e string\n",
    "\n",
    "nome = 'Francisco Douglas'\n",
    "print(f\"Seu nome e {nome} 'Voce e um programador'\")\n",
    "\n",
    "print(f\"\"\"\n",
    "      Utilizando aspas Triplas\n",
    "      Tambem utilizando aspas duplas dentro de simples \"OK Python\",\n",
    "      Agora utilizando aspas simples 'Aprendendo Python'\n",
    "      {nome}\n",
    "      \"\"\")"
   ]
  },
  {
   "cell_type": "code",
   "execution_count": 15,
   "metadata": {
    "colab": {
     "base_uri": "https://localhost:8080/"
    },
    "executionInfo": {
     "elapsed": 7,
     "status": "ok",
     "timestamp": 1706636388902,
     "user": {
      "displayName": "Francisco Douglas",
      "userId": "10966320178514607665"
     },
     "user_tz": 180
    },
    "id": "yUowVN6XdGBb",
    "outputId": "a390e8dd-a6ae-44cd-893c-64cf74c16d21"
   },
   "outputs": [
    {
     "name": "stdout",
     "output_type": "stream",
     "text": [
      "Help on class str in module builtins:\n",
      "\n",
      "class str(object)\n",
      " |  str(object='') -> str\n",
      " |  str(bytes_or_buffer[, encoding[, errors]]) -> str\n",
      " |  \n",
      " |  Create a new string object from the given object. If encoding or\n",
      " |  errors is specified, then the object must expose a data buffer\n",
      " |  that will be decoded using the given encoding and error handler.\n",
      " |  Otherwise, returns the result of object.__str__() (if defined)\n",
      " |  or repr(object).\n",
      " |  encoding defaults to sys.getdefaultencoding().\n",
      " |  errors defaults to 'strict'.\n",
      " |  \n",
      " |  Methods defined here:\n",
      " |  \n",
      " |  __add__(self, value, /)\n",
      " |      Return self+value.\n",
      " |  \n",
      " |  __contains__(self, key, /)\n",
      " |      Return key in self.\n",
      " |  \n",
      " |  __eq__(self, value, /)\n",
      " |      Return self==value.\n",
      " |  \n",
      " |  __format__(self, format_spec, /)\n",
      " |      Return a formatted version of the string as described by format_spec.\n",
      " |  \n",
      " |  __ge__(self, value, /)\n",
      " |      Return self>=value.\n",
      " |  \n",
      " |  __getattribute__(self, name, /)\n",
      " |      Return getattr(self, name).\n",
      " |  \n",
      " |  __getitem__(self, key, /)\n",
      " |      Return self[key].\n",
      " |  \n",
      " |  __getnewargs__(...)\n",
      " |  \n",
      " |  __gt__(self, value, /)\n",
      " |      Return self>value.\n",
      " |  \n",
      " |  __hash__(self, /)\n",
      " |      Return hash(self).\n",
      " |  \n",
      " |  __iter__(self, /)\n",
      " |      Implement iter(self).\n",
      " |  \n",
      " |  __le__(self, value, /)\n",
      " |      Return self<=value.\n",
      " |  \n",
      " |  __len__(self, /)\n",
      " |      Return len(self).\n",
      " |  \n",
      " |  __lt__(self, value, /)\n",
      " |      Return self<value.\n",
      " |  \n",
      " |  __mod__(self, value, /)\n",
      " |      Return self%value.\n",
      " |  \n",
      " |  __mul__(self, value, /)\n",
      " |      Return self*value.\n",
      " |  \n",
      " |  __ne__(self, value, /)\n",
      " |      Return self!=value.\n",
      " |  \n",
      " |  __repr__(self, /)\n",
      " |      Return repr(self).\n",
      " |  \n",
      " |  __rmod__(self, value, /)\n",
      " |      Return value%self.\n",
      " |  \n",
      " |  __rmul__(self, value, /)\n",
      " |      Return value*self.\n",
      " |  \n",
      " |  __sizeof__(self, /)\n",
      " |      Return the size of the string in memory, in bytes.\n",
      " |  \n",
      " |  __str__(self, /)\n",
      " |      Return str(self).\n",
      " |  \n",
      " |  capitalize(self, /)\n",
      " |      Return a capitalized version of the string.\n",
      " |      \n",
      " |      More specifically, make the first character have upper case and the rest lower\n",
      " |      case.\n",
      " |  \n",
      " |  casefold(self, /)\n",
      " |      Return a version of the string suitable for caseless comparisons.\n",
      " |  \n",
      " |  center(self, width, fillchar=' ', /)\n",
      " |      Return a centered string of length width.\n",
      " |      \n",
      " |      Padding is done using the specified fill character (default is a space).\n",
      " |  \n",
      " |  count(...)\n",
      " |      S.count(sub[, start[, end]]) -> int\n",
      " |      \n",
      " |      Return the number of non-overlapping occurrences of substring sub in\n",
      " |      string S[start:end].  Optional arguments start and end are\n",
      " |      interpreted as in slice notation.\n",
      " |  \n",
      " |  encode(self, /, encoding='utf-8', errors='strict')\n",
      " |      Encode the string using the codec registered for encoding.\n",
      " |      \n",
      " |      encoding\n",
      " |        The encoding in which to encode the string.\n",
      " |      errors\n",
      " |        The error handling scheme to use for encoding errors.\n",
      " |        The default is 'strict' meaning that encoding errors raise a\n",
      " |        UnicodeEncodeError.  Other possible values are 'ignore', 'replace' and\n",
      " |        'xmlcharrefreplace' as well as any other name registered with\n",
      " |        codecs.register_error that can handle UnicodeEncodeErrors.\n",
      " |  \n",
      " |  endswith(...)\n",
      " |      S.endswith(suffix[, start[, end]]) -> bool\n",
      " |      \n",
      " |      Return True if S ends with the specified suffix, False otherwise.\n",
      " |      With optional start, test S beginning at that position.\n",
      " |      With optional end, stop comparing S at that position.\n",
      " |      suffix can also be a tuple of strings to try.\n",
      " |  \n",
      " |  expandtabs(self, /, tabsize=8)\n",
      " |      Return a copy where all tab characters are expanded using spaces.\n",
      " |      \n",
      " |      If tabsize is not given, a tab size of 8 characters is assumed.\n",
      " |  \n",
      " |  find(...)\n",
      " |      S.find(sub[, start[, end]]) -> int\n",
      " |      \n",
      " |      Return the lowest index in S where substring sub is found,\n",
      " |      such that sub is contained within S[start:end].  Optional\n",
      " |      arguments start and end are interpreted as in slice notation.\n",
      " |      \n",
      " |      Return -1 on failure.\n",
      " |  \n",
      " |  format(...)\n",
      " |      S.format(*args, **kwargs) -> str\n",
      " |      \n",
      " |      Return a formatted version of S, using substitutions from args and kwargs.\n",
      " |      The substitutions are identified by braces ('{' and '}').\n",
      " |  \n",
      " |  format_map(...)\n",
      " |      S.format_map(mapping) -> str\n",
      " |      \n",
      " |      Return a formatted version of S, using substitutions from mapping.\n",
      " |      The substitutions are identified by braces ('{' and '}').\n",
      " |  \n",
      " |  index(...)\n",
      " |      S.index(sub[, start[, end]]) -> int\n",
      " |      \n",
      " |      Return the lowest index in S where substring sub is found,\n",
      " |      such that sub is contained within S[start:end].  Optional\n",
      " |      arguments start and end are interpreted as in slice notation.\n",
      " |      \n",
      " |      Raises ValueError when the substring is not found.\n",
      " |  \n",
      " |  isalnum(self, /)\n",
      " |      Return True if the string is an alpha-numeric string, False otherwise.\n",
      " |      \n",
      " |      A string is alpha-numeric if all characters in the string are alpha-numeric and\n",
      " |      there is at least one character in the string.\n",
      " |  \n",
      " |  isalpha(self, /)\n",
      " |      Return True if the string is an alphabetic string, False otherwise.\n",
      " |      \n",
      " |      A string is alphabetic if all characters in the string are alphabetic and there\n",
      " |      is at least one character in the string.\n",
      " |  \n",
      " |  isascii(self, /)\n",
      " |      Return True if all characters in the string are ASCII, False otherwise.\n",
      " |      \n",
      " |      ASCII characters have code points in the range U+0000-U+007F.\n",
      " |      Empty string is ASCII too.\n",
      " |  \n",
      " |  isdecimal(self, /)\n",
      " |      Return True if the string is a decimal string, False otherwise.\n",
      " |      \n",
      " |      A string is a decimal string if all characters in the string are decimal and\n",
      " |      there is at least one character in the string.\n",
      " |  \n",
      " |  isdigit(self, /)\n",
      " |      Return True if the string is a digit string, False otherwise.\n",
      " |      \n",
      " |      A string is a digit string if all characters in the string are digits and there\n",
      " |      is at least one character in the string.\n",
      " |  \n",
      " |  isidentifier(self, /)\n",
      " |      Return True if the string is a valid Python identifier, False otherwise.\n",
      " |      \n",
      " |      Call keyword.iskeyword(s) to test whether string s is a reserved identifier,\n",
      " |      such as \"def\" or \"class\".\n",
      " |  \n",
      " |  islower(self, /)\n",
      " |      Return True if the string is a lowercase string, False otherwise.\n",
      " |      \n",
      " |      A string is lowercase if all cased characters in the string are lowercase and\n",
      " |      there is at least one cased character in the string.\n",
      " |  \n",
      " |  isnumeric(self, /)\n",
      " |      Return True if the string is a numeric string, False otherwise.\n",
      " |      \n",
      " |      A string is numeric if all characters in the string are numeric and there is at\n",
      " |      least one character in the string.\n",
      " |  \n",
      " |  isprintable(self, /)\n",
      " |      Return True if the string is printable, False otherwise.\n",
      " |      \n",
      " |      A string is printable if all of its characters are considered printable in\n",
      " |      repr() or if it is empty.\n",
      " |  \n",
      " |  isspace(self, /)\n",
      " |      Return True if the string is a whitespace string, False otherwise.\n",
      " |      \n",
      " |      A string is whitespace if all characters in the string are whitespace and there\n",
      " |      is at least one character in the string.\n",
      " |  \n",
      " |  istitle(self, /)\n",
      " |      Return True if the string is a title-cased string, False otherwise.\n",
      " |      \n",
      " |      In a title-cased string, upper- and title-case characters may only\n",
      " |      follow uncased characters and lowercase characters only cased ones.\n",
      " |  \n",
      " |  isupper(self, /)\n",
      " |      Return True if the string is an uppercase string, False otherwise.\n",
      " |      \n",
      " |      A string is uppercase if all cased characters in the string are uppercase and\n",
      " |      there is at least one cased character in the string.\n",
      " |  \n",
      " |  join(self, iterable, /)\n",
      " |      Concatenate any number of strings.\n",
      " |      \n",
      " |      The string whose method is called is inserted in between each given string.\n",
      " |      The result is returned as a new string.\n",
      " |      \n",
      " |      Example: '.'.join(['ab', 'pq', 'rs']) -> 'ab.pq.rs'\n",
      " |  \n",
      " |  ljust(self, width, fillchar=' ', /)\n",
      " |      Return a left-justified string of length width.\n",
      " |      \n",
      " |      Padding is done using the specified fill character (default is a space).\n",
      " |  \n",
      " |  lower(self, /)\n",
      " |      Return a copy of the string converted to lowercase.\n",
      " |  \n",
      " |  lstrip(self, chars=None, /)\n",
      " |      Return a copy of the string with leading whitespace removed.\n",
      " |      \n",
      " |      If chars is given and not None, remove characters in chars instead.\n",
      " |  \n",
      " |  partition(self, sep, /)\n",
      " |      Partition the string into three parts using the given separator.\n",
      " |      \n",
      " |      This will search for the separator in the string.  If the separator is found,\n",
      " |      returns a 3-tuple containing the part before the separator, the separator\n",
      " |      itself, and the part after it.\n",
      " |      \n",
      " |      If the separator is not found, returns a 3-tuple containing the original string\n",
      " |      and two empty strings.\n",
      " |  \n",
      " |  removeprefix(self, prefix, /)\n",
      " |      Return a str with the given prefix string removed if present.\n",
      " |      \n",
      " |      If the string starts with the prefix string, return string[len(prefix):].\n",
      " |      Otherwise, return a copy of the original string.\n",
      " |  \n",
      " |  removesuffix(self, suffix, /)\n",
      " |      Return a str with the given suffix string removed if present.\n",
      " |      \n",
      " |      If the string ends with the suffix string and that suffix is not empty,\n",
      " |      return string[:-len(suffix)]. Otherwise, return a copy of the original\n",
      " |      string.\n",
      " |  \n",
      " |  replace(self, old, new, count=-1, /)\n",
      " |      Return a copy with all occurrences of substring old replaced by new.\n",
      " |      \n",
      " |        count\n",
      " |          Maximum number of occurrences to replace.\n",
      " |          -1 (the default value) means replace all occurrences.\n",
      " |      \n",
      " |      If the optional argument count is given, only the first count occurrences are\n",
      " |      replaced.\n",
      " |  \n",
      " |  rfind(...)\n",
      " |      S.rfind(sub[, start[, end]]) -> int\n",
      " |      \n",
      " |      Return the highest index in S where substring sub is found,\n",
      " |      such that sub is contained within S[start:end].  Optional\n",
      " |      arguments start and end are interpreted as in slice notation.\n",
      " |      \n",
      " |      Return -1 on failure.\n",
      " |  \n",
      " |  rindex(...)\n",
      " |      S.rindex(sub[, start[, end]]) -> int\n",
      " |      \n",
      " |      Return the highest index in S where substring sub is found,\n",
      " |      such that sub is contained within S[start:end].  Optional\n",
      " |      arguments start and end are interpreted as in slice notation.\n",
      " |      \n",
      " |      Raises ValueError when the substring is not found.\n",
      " |  \n",
      " |  rjust(self, width, fillchar=' ', /)\n",
      " |      Return a right-justified string of length width.\n",
      " |      \n",
      " |      Padding is done using the specified fill character (default is a space).\n",
      " |  \n",
      " |  rpartition(self, sep, /)\n",
      " |      Partition the string into three parts using the given separator.\n",
      " |      \n",
      " |      This will search for the separator in the string, starting at the end. If\n",
      " |      the separator is found, returns a 3-tuple containing the part before the\n",
      " |      separator, the separator itself, and the part after it.\n",
      " |      \n",
      " |      If the separator is not found, returns a 3-tuple containing two empty strings\n",
      " |      and the original string.\n",
      " |  \n",
      " |  rsplit(self, /, sep=None, maxsplit=-1)\n",
      " |      Return a list of the substrings in the string, using sep as the separator string.\n",
      " |      \n",
      " |        sep\n",
      " |          The separator used to split the string.\n",
      " |      \n",
      " |          When set to None (the default value), will split on any whitespace\n",
      " |          character (including \\n \\r \\t \\f and spaces) and will discard\n",
      " |          empty strings from the result.\n",
      " |        maxsplit\n",
      " |          Maximum number of splits (starting from the left).\n",
      " |          -1 (the default value) means no limit.\n",
      " |      \n",
      " |      Splitting starts at the end of the string and works to the front.\n",
      " |  \n",
      " |  rstrip(self, chars=None, /)\n",
      " |      Return a copy of the string with trailing whitespace removed.\n",
      " |      \n",
      " |      If chars is given and not None, remove characters in chars instead.\n",
      " |  \n",
      " |  split(self, /, sep=None, maxsplit=-1)\n",
      " |      Return a list of the substrings in the string, using sep as the separator string.\n",
      " |      \n",
      " |        sep\n",
      " |          The separator used to split the string.\n",
      " |      \n",
      " |          When set to None (the default value), will split on any whitespace\n",
      " |          character (including \\n \\r \\t \\f and spaces) and will discard\n",
      " |          empty strings from the result.\n",
      " |        maxsplit\n",
      " |          Maximum number of splits (starting from the left).\n",
      " |          -1 (the default value) means no limit.\n",
      " |      \n",
      " |      Note, str.split() is mainly useful for data that has been intentionally\n",
      " |      delimited.  With natural text that includes punctuation, consider using\n",
      " |      the regular expression module.\n",
      " |  \n",
      " |  splitlines(self, /, keepends=False)\n",
      " |      Return a list of the lines in the string, breaking at line boundaries.\n",
      " |      \n",
      " |      Line breaks are not included in the resulting list unless keepends is given and\n",
      " |      true.\n",
      " |  \n",
      " |  startswith(...)\n",
      " |      S.startswith(prefix[, start[, end]]) -> bool\n",
      " |      \n",
      " |      Return True if S starts with the specified prefix, False otherwise.\n",
      " |      With optional start, test S beginning at that position.\n",
      " |      With optional end, stop comparing S at that position.\n",
      " |      prefix can also be a tuple of strings to try.\n",
      " |  \n",
      " |  strip(self, chars=None, /)\n",
      " |      Return a copy of the string with leading and trailing whitespace removed.\n",
      " |      \n",
      " |      If chars is given and not None, remove characters in chars instead.\n",
      " |  \n",
      " |  swapcase(self, /)\n",
      " |      Convert uppercase characters to lowercase and lowercase characters to uppercase.\n",
      " |  \n",
      " |  title(self, /)\n",
      " |      Return a version of the string where each word is titlecased.\n",
      " |      \n",
      " |      More specifically, words start with uppercased characters and all remaining\n",
      " |      cased characters have lower case.\n",
      " |  \n",
      " |  translate(self, table, /)\n",
      " |      Replace each character in the string using the given translation table.\n",
      " |      \n",
      " |        table\n",
      " |          Translation table, which must be a mapping of Unicode ordinals to\n",
      " |          Unicode ordinals, strings, or None.\n",
      " |      \n",
      " |      The table must implement lookup/indexing via __getitem__, for instance a\n",
      " |      dictionary or list.  If this operation raises LookupError, the character is\n",
      " |      left untouched.  Characters mapped to None are deleted.\n",
      " |  \n",
      " |  upper(self, /)\n",
      " |      Return a copy of the string converted to uppercase.\n",
      " |  \n",
      " |  zfill(self, width, /)\n",
      " |      Pad a numeric string with zeros on the left, to fill a field of the given width.\n",
      " |      \n",
      " |      The string is never truncated.\n",
      " |  \n",
      " |  ----------------------------------------------------------------------\n",
      " |  Static methods defined here:\n",
      " |  \n",
      " |  __new__(*args, **kwargs) from builtins.type\n",
      " |      Create and return a new object.  See help(type) for accurate signature.\n",
      " |  \n",
      " |  maketrans(...)\n",
      " |      Return a translation table usable for str.translate().\n",
      " |      \n",
      " |      If there is only one argument, it must be a dictionary mapping Unicode\n",
      " |      ordinals (integers) or characters to Unicode ordinals, strings or None.\n",
      " |      Character keys will be then converted to ordinals.\n",
      " |      If there are two arguments, they must be strings of equal length, and\n",
      " |      in the resulting dictionary, each character in x will be mapped to the\n",
      " |      character at the same position in y. If there is a third argument, it\n",
      " |      must be a string, whose characters will be mapped to None in the result.\n",
      "\n"
     ]
    }
   ],
   "source": [
    "#Metodos documentacao\n",
    "dir(str)\n",
    "help(str)"
   ]
  },
  {
   "cell_type": "code",
   "execution_count": null,
   "metadata": {
    "id": "Q_PR7iWGdF-U"
   },
   "outputs": [],
   "source": []
  },
  {
   "cell_type": "markdown",
   "metadata": {
    "id": "LSrF-eGmdNum"
   },
   "source": [
    "## Conversão de dados"
   ]
  },
  {
   "cell_type": "markdown",
   "metadata": {},
   "source": [
    "```python\n",
    "# Definição de variáveis\n",
    "n_int = 45          # Número inteiro\n",
    "n_float = 34.45     # Número float\n",
    "n_string = 'Uma String' # String\n",
    "n_bool = True       # Booleano\n",
    "\n",
    "# Convertendo de int para float\n",
    "de_int_float = float(n_int)\n",
    "print(f'{de_int_float} {type(de_int_float)}')\n",
    "\n",
    "# Convertendo de int para string\n",
    "de_int_str = str(n_int)\n",
    "print(f'{de_int_str} {type(de_int_str)}')\n",
    "\n",
    "# Convertendo de int para booleano\n",
    "de_int_bool = bool(n_int)\n",
    "print(de_int_bool)\n",
    "```\n",
    "\n",
    "**Explicação:**\n",
    "\n",
    "1. **Convertendo de int para float:** Usando a função `float()`, podemos converter um número inteiro em um número de ponto flutuante.\n",
    "\n",
    "2. **Convertendo de int para string:** Usando a função `str()`, podemos converter um número inteiro em uma string.\n",
    "\n",
    "3. **Convertendo de int para booleano:** Em Python, qualquer número diferente de zero é considerado verdadeiro (True) quando convertido para um booleano. Portanto, ao converter um número inteiro para booleano, se o número for diferente de zero, o valor será True; caso contrário, será False. No caso do número inteiro 45, que é diferente de zero, a saída será True."
   ]
  },
  {
   "cell_type": "code",
   "execution_count": 17,
   "metadata": {
    "colab": {
     "base_uri": "https://localhost:8080/"
    },
    "executionInfo": {
     "elapsed": 6,
     "status": "ok",
     "timestamp": 1706636410673,
     "user": {
      "displayName": "Francisco Douglas",
      "userId": "10966320178514607665"
     },
     "user_tz": 180
    },
    "id": "0VJvbXzTdF5T",
    "outputId": "3a227fb0-cb21-4b67-eb92-74979bc880aa"
   },
   "outputs": [
    {
     "name": "stdout",
     "output_type": "stream",
     "text": [
      "45.0 <class 'float'>\n",
      "45 <class 'str'>\n",
      "True\n"
     ]
    }
   ],
   "source": [
    "#Podemos converter os dados e virse versa\n",
    "n_int = 45 #Numero inteiro\n",
    "n_float = 34.45 #Numero float\n",
    "n_string = 'Uma String'\n",
    "n_bool = True #Booleano\n",
    "\n",
    "#Convertendo\n",
    "de_int_float = float(n_int) #de inteiro para float\n",
    "print(f'{de_int_float} {type(de_int_float)}')\n",
    "\n",
    "de_int_str = str(n_int) #de inteiro a string\n",
    "print(f'{de_int_str} {type(de_int_str)}')\n",
    "\n",
    "#Posso converter qualquer tipo de dado e virse versa\n",
    "\n",
    "de_int_bool = bool(n_int)\n",
    "print(de_int_bool)"
   ]
  },
  {
   "cell_type": "markdown",
   "metadata": {},
   "source": []
  },
  {
   "cell_type": "markdown",
   "metadata": {},
   "source": [
    "\n",
    "\n",
    "```python\n",
    "# Definição de uma variável global chamada 'variavel_global'\n",
    "variavel_global = 'Isso é considerado uma variável global'\n",
    "\n",
    "# Loop for para demonstrar uma variável local\n",
    "for n in range(1, 11):\n",
    "    # Dentro do loop, definimos uma variável local chamada 'abc'\n",
    "    abc = 'ABC será uma variável local'\n",
    "\n",
    "# Tentativa de imprimir a variável local 'abc' fora do loop\n",
    "print(abc)\n",
    "```\n",
    "\n",
    "**Explicação:**\n",
    "\n",
    "1. **Variável Global:** Nós declaramos uma variável chamada `variavel_global` fora de qualquer função ou loop, o que a torna acessível em todo o programa.\n",
    "\n",
    "2. **Loop For:** Usamos um loop `for` para iterar de 1 a 10. Dentro deste loop, definimos uma variável chamada `abc`. Esta variável é uma variável local, o que significa que só pode ser acessada dentro do loop.\n",
    "\n",
    "3. **Tentativa de Impressão:** Tentamos imprimir a variável `abc` fora do loop. No entanto, isso resultará em um erro porque `abc` é uma variável local e não está mais disponível fora do escopo do loop."
   ]
  },
  {
   "cell_type": "code",
   "execution_count": 19,
   "metadata": {
    "colab": {
     "base_uri": "https://localhost:8080/"
    },
    "executionInfo": {
     "elapsed": 321,
     "status": "ok",
     "timestamp": 1706636421110,
     "user": {
      "displayName": "Francisco Douglas",
      "userId": "10966320178514607665"
     },
     "user_tz": 180
    },
    "id": "oy-JuOH3cbOz",
    "outputId": "98357ecf-f7f6-49c0-ab20-5cb52faeb035"
   },
   "outputs": [
    {
     "name": "stdout",
     "output_type": "stream",
     "text": [
      "ABC sera uma variavel local\n"
     ]
    }
   ],
   "source": [
    "# Variaveis Globais\n",
    "variavel_global = 'Isso e considerado uma variavel global'\n",
    "\n",
    "#Variavel local\n",
    "for n in range(1, 11):\n",
    "    abc = 'ABC sera uma variavel local'\n",
    "\n",
    "print(abc)"
   ]
  },
  {
   "cell_type": "markdown",
   "metadata": {},
   "source": [
    "# **Essenciais**"
   ]
  },
  {
   "cell_type": "code",
   "execution_count": 20,
   "metadata": {
    "id": "1SipYrwVdSL8"
   },
   "outputs": [
    {
     "name": "stdout",
     "output_type": "stream",
     "text": [
      "12 %% 14 %% Meu nome %% True\n"
     ]
    }
   ],
   "source": [
    "#Separador sep\n",
    "#separa de acordo que o que eu escolher\n",
    "print(12, 14, \"Meu nome\", True, sep=\" %% \")\n"
   ]
  },
  {
   "cell_type": "markdown",
   "metadata": {},
   "source": [
    "O parâmetro `sep` é usado para definir o separador entre os argumentos passados para a função `print()`. Aqui está uma explicação do seu código:\n",
    "\n",
    "```python\n",
    "# Usando o parâmetro sep para definir um separador personalizado\n",
    "print(12, 14, \"Meu nome\", True, sep=\" %% \")\n",
    "```\n",
    "\n",
    "**Explicação:**\n",
    "\n",
    "- `12`, `14`, `\"Meu nome\"`, e `True` são os valores passados como argumentos para a função `print()`.\n",
    "- O parâmetro `sep=\" %% \"` define o separador entre esses valores como `\" %% \"`. Isso significa que entre cada valor impresso, haverá dois sinais de porcentagem com espaços em ambos os lados, resultando em uma saída como `12 %% 14 %% Meu nome %% True`."
   ]
  },
  {
   "cell_type": "code",
   "execution_count": null,
   "metadata": {},
   "outputs": [],
   "source": []
  },
  {
   "cell_type": "code",
   "execution_count": null,
   "metadata": {},
   "outputs": [],
   "source": []
  },
  {
   "cell_type": "code",
   "execution_count": 11,
   "metadata": {},
   "outputs": [
    {
     "name": "stdout",
     "output_type": "stream",
     "text": [
      "Novo mundo esta aqui \n",
      "print\n",
      "\n",
      "PPoo Mundo \n",
      "Aqui embaixo\n"
     ]
    }
   ],
   "source": [
    "#Quebra de linha\n",
    "# \\r e \\n\n",
    "# \\r - retorno\n",
    "# \\n - quebra linha\n",
    "\n",
    "print(\"Novo mundo esta aqui \\nprint\\n\")\n",
    "print(\"Novo Mundo \\rPPoo\")\n",
    "print(\"Aqui embaixo\")"
   ]
  },
  {
   "cell_type": "markdown",
   "metadata": {},
   "source": [
    "Certo! Aqui está a explicação do seu código:\n",
    "\n",
    "```python\n",
    "# Usando \\n para quebrar linha\n",
    "print(\"Novo mundo esta aqui \\nprint\\n\")\n",
    "\n",
    "# Usando \\r para retornar ao início da linha\n",
    "print(\"Novo Mundo \\rPPoo\")\n",
    "\n",
    "# Texto impresso após o uso de \\r\n",
    "print(\"Aqui embaixo\")\n",
    "```\n",
    "\n",
    "**Explicação:**\n",
    "\n",
    "- `\\n`: É um caractere especial que representa uma quebra de linha. Quando utilizado em uma string dentro da função `print()`, ele faz com que o texto seguinte seja impresso na próxima linha.\n",
    "- `\\r`: É um caractere especial que representa um retorno ao início da linha. Quando utilizado em uma string dentro da função `print()`, ele faz com que o texto impresso a partir desse ponto volte para o início da linha atual, sobrescrevendo os caracteres anteriores.\n",
    "- Quando usamos `\\n` na primeira impressão, ele cria uma quebra de linha após o texto `\"Novo mundo esta aqui \"`, resultando em `\"print\"` sendo impresso em uma nova linha.\n",
    "- Na segunda impressão, usamos `\\r`, que faz com que `\"PPoo\"` seja impresso no lugar de `\"Novo Mundo \"`, resultando na saída `\"Novo Mundo PPoo\"`. A parte restante da string `\"Aqui embaixo\"` é impressa após essa linha.\n"
   ]
  },
  {
   "cell_type": "code",
   "execution_count": null,
   "metadata": {},
   "outputs": [],
   "source": []
  },
  {
   "cell_type": "code",
   "execution_count": null,
   "metadata": {},
   "outputs": [],
   "source": []
  },
  {
   "cell_type": "code",
   "execution_count": 22,
   "metadata": {},
   "outputs": [
    {
     "name": "stdout",
     "output_type": "stream",
     "text": [
      "Meu nome e Francisco:  Programador python\n"
     ]
    }
   ],
   "source": [
    "#Utilizando o end\n",
    "print('Meu nome e Francisco: ',end=' ')\n",
    "print(\"Programador python\")"
   ]
  },
  {
   "cell_type": "markdown",
   "metadata": {},
   "source": [
    "O parâmetro `end` é usado para especificar o que deve ser impresso no final da função `print()`.\n",
    "\n",
    "```python\n",
    "# Utilizando o parâmetro end para especificar o que deve ser impresso no final da função print()\n",
    "print('Meu nome é Francisco: ', end=' ')\n",
    "\n",
    "# Continua na mesma linha após o nome\n",
    "print(\"Programador Python\")\n",
    "```\n",
    "\n",
    "**Explicação:**\n",
    "\n",
    "- `'Meu nome é Francisco: '` é a primeira string impressa pela função `print()`.\n",
    "- `end=' '` especifica que após a primeira string, nada deve ser impresso, ou seja, a próxima impressão continuará na mesma linha.\n",
    "- `\"Programador Python\"` é a segunda string impressa. Como o parâmetro `end` foi definido como um espaço em branco, esta string é impressa na mesma linha que a primeira."
   ]
  },
  {
   "cell_type": "code",
   "execution_count": null,
   "metadata": {},
   "outputs": [],
   "source": []
  },
  {
   "cell_type": "markdown",
   "metadata": {},
   "source": [
    "## **Formatação de Strings**"
   ]
  },
  {
   "cell_type": "code",
   "execution_count": 1,
   "metadata": {},
   "outputs": [
    {
     "name": "stdout",
     "output_type": "stream",
     "text": [
      "ABC\n",
      "       ABC\n",
      "ABC       \n",
      "   ABC    \n",
      "192.4\n"
     ]
    }
   ],
   "source": [
    "\"\"\"\n",
    "Formatacao basica de strings\n",
    "s - string\n",
    "d - int\n",
    "f - float\n",
    "\n",
    ".<numero de digitos>f\n",
    "x ou X - Hexadecimal\n",
    "\n",
    "(Caractere) (><^)(quantidade)\n",
    "> - Esquerda\n",
    "< - Direita\n",
    "^ - Centro\n",
    "\n",
    "Sinal - + ou -\n",
    "Ex: 0>-100,.1f\n",
    "Conversion flags - !r !s !a\n",
    "\"\"\"\n",
    "\n",
    "variavel = \"ABC\"\n",
    "print(f'{variavel}')\n",
    "print(f'{variavel:>10}')\n",
    "print(f'{variavel:<10}')\n",
    "print(f'{variavel:^10}')\n",
    "\n",
    "#Numero\n",
    "print(f'{192.38833:.1f}')\n"
   ]
  },
  {
   "cell_type": "markdown",
   "metadata": {},
   "source": [
    "\n",
    "\n",
    "```python\n",
    "# Definição de uma string\n",
    "variavel = \"ABC\"\n",
    "\n",
    "# Imprime a string sem formatação\n",
    "print(f'{variavel}')\n",
    "\n",
    "# Imprime a string alinhada à direita em um campo de 10 caracteres\n",
    "print(f'{variavel:>10}')\n",
    "\n",
    "# Imprime a string alinhada à esquerda em um campo de 10 caracteres\n",
    "print(f'{variavel:<10}')\n",
    "\n",
    "# Imprime a string centralizada em um campo de 10 caracteres\n",
    "print(f'{variavel:^10}')\n",
    "\n",
    "# Formata um número de ponto flutuante com uma casa decimal\n",
    "print(f'{192.38833:.1f}')\n",
    "```\n",
    "\n",
    "**Explicação:**\n",
    "\n",
    "- As f-strings (strings formatadas) permitem inserir expressões Python dentro de strings, facilitando a formatação.\n",
    "- O operador `>` alinha o texto à direita, `<` alinha à esquerda e `^` centraliza.\n",
    "- O número após o `:` em `{192.38833:.1f}` especifica que o número de ponto flutuante terá uma casa decimal.\n",
    "- Isso resulta na impressão de `192.4`, arredondando o número para uma casa decimal.\n",
    "- A formatação de strings é uma técnica poderosa em Python para exibir dados de forma legível e organizada."
   ]
  },
  {
   "cell_type": "code",
   "execution_count": null,
   "metadata": {},
   "outputs": [],
   "source": []
  },
  {
   "cell_type": "code",
   "execution_count": null,
   "metadata": {},
   "outputs": [],
   "source": []
  },
  {
   "cell_type": "code",
   "execution_count": 2,
   "metadata": {},
   "outputs": [
    {
     "name": "stdout",
     "output_type": "stream",
     "text": [
      "Tamanho da String: 27\n",
      "Euomo h\n",
      "Estou progra\n",
      "EopgmdePh\n",
      "nohtyP me odnamargorp uotsE\n",
      "ESTOU PROGRAMANDO EM PYTHON\n",
      "Estou Programando Em Python\n",
      "estou programando em python\n"
     ]
    }
   ],
   "source": [
    "# Fatiamento de String\n",
    "variavel = \"Estou programando em Python\"\n",
    "print(f'Tamanho da String: {len(variavel)}')\n",
    "print(variavel[0: len(variavel) :4]) #Vai do 0 ate o tamanho da variavel pulando de 4 em 4\n",
    "print(variavel[:12])    #Vai do 0 ate o 12\n",
    "print(variavel[0:-1:3]) #Vai do 0 ate a ultima letra pulando de 3 em 3\n",
    "print(variavel[::-1])   #Inverte toda a string\n",
    "print(variavel.upper()) #Deixa tudo em Maiusculo\n",
    "print(variavel.title()) #Deixa apenas a primeira letra de cada palavra em Maiuscula\n",
    "print(variavel.lower()) #Deixa tudo em Minusculas"
   ]
  },
  {
   "cell_type": "markdown",
   "metadata": {},
   "source": [
    "\n",
    "\n",
    "```python\n",
    "# Definição da string\n",
    "variavel = \"Estou programando em Python\"\n",
    "\n",
    "# Imprime o tamanho da string\n",
    "print(f'Tamanho da String: {len(variavel)}')\n",
    "\n",
    "# Fatiamento com intervalo de 4 em 4, começando do primeiro caractere (índice 0)\n",
    "print(variavel[0:len(variavel):4])\n",
    "\n",
    "# Fatiamento do início até o índice 12 (exclusivo)\n",
    "print(variavel[:12])\n",
    "\n",
    "# Fatiamento do início até o penúltimo caractere, com intervalo de 3 em 3\n",
    "print(variavel[0:-1:3])\n",
    "\n",
    "# Inverte toda a string\n",
    "print(variavel[::-1])\n",
    "\n",
    "# Converte toda a string para maiúsculas\n",
    "print(variavel.upper())\n",
    "\n",
    "# Converte toda a string para o estilo de título (a primeira letra de cada palavra em maiúscula)\n",
    "print(variavel.title())\n",
    "\n",
    "# Converte toda a string para minúsculas\n",
    "print(variavel.lower())\n",
    "```\n",
    "\n",
    "**Explicação:**\n",
    "\n",
    "- **Fatiamento de strings:** O fatiamento de strings é realizado usando a sintaxe `[start:end:step]`, onde `start` é o índice inicial, `end` é o índice final (não incluso) e `step` é o tamanho do passo.\n",
    "- **Inversão da string:** O uso de `[::-1]` inverte a ordem dos caracteres na string.\n",
    "- **Métodos de formatação de string:** `.upper()` converte a string para maiúsculas, `.title()` converte a string para o estilo de título e `.lower()` converte a string para minúsculas.\n",
    "- Estas são operações comuns em Python para manipulação de strings, permitindo diversas transformações e extrações de partes específicas das strings."
   ]
  },
  {
   "cell_type": "code",
   "execution_count": null,
   "metadata": {},
   "outputs": [],
   "source": []
  },
  {
   "cell_type": "code",
   "execution_count": null,
   "metadata": {},
   "outputs": [],
   "source": []
  },
  {
   "cell_type": "code",
   "execution_count": 3,
   "metadata": {},
   "outputs": [
    {
     "data": {
      "text/plain": [
       "'\\n:<\\t\\tAlinha o texto à esquerda (se tiver espaço na tela para isso)\\n:>\\t\\tAlinha o texto à direita (se tiver espaço na tela para isso)\\n:^\\t\\tAlinha o texto ao centro (se tiver espaço na tela para isso)\\n:+\\t\\tColoca o sinal sempre na frente do número (independente se é positivo ou negativo)\\n:,\\t\\tColoca a vírgula como separador de milhar\\n:_\\t\\tColoca o _ como separador de milhar\\n:e\\t\\tFormato Científico\\n:f\\t\\tNúmero com quantidade fixa de casas decimais\\n:x\\t\\tFormato HEX minúscula (para cores)\\n:X\\t\\tFormato HEX maiúscula (para cores)\\n:%\\t\\tFormato Percentual'"
      ]
     },
     "execution_count": 3,
     "metadata": {},
     "output_type": "execute_result"
    }
   ],
   "source": [
    "### Como usar o format para criar formatações personalizadas em prints e textos.\n",
    "'''\n",
    ":<\t\tAlinha o texto à esquerda (se tiver espaço na tela para isso)\n",
    ":>\t\tAlinha o texto à direita (se tiver espaço na tela para isso)\n",
    ":^\t\tAlinha o texto ao centro (se tiver espaço na tela para isso)\n",
    ":+\t\tColoca o sinal sempre na frente do número (independente se é positivo ou negativo)\n",
    ":,\t\tColoca a vírgula como separador de milhar\n",
    ":_\t\tColoca o _ como separador de milhar\n",
    ":e\t\tFormato Científico\n",
    ":f\t\tNúmero com quantidade fixa de casas decimais\n",
    ":x\t\tFormato HEX minúscula (para cores)\n",
    ":X\t\tFormato HEX maiúscula (para cores)\n",
    ":%\t\tFormato Percentual'''"
   ]
  },
  {
   "cell_type": "markdown",
   "metadata": {},
   "source": [
    "O método `format()` em Python é usado para formatar strings de maneira flexível e personalizada. Aqui está um exemplo de como usar o método `format()` para criar formatações personalizadas em textos e impressões:\n",
    "\n",
    "```python\n",
    "# Exemplo de formatação personalizada usando o método format()\n",
    "numero = 1234567.89\n",
    "print(\"Número formatado com vírgula como separador de milhar: {:,}\".format(numero))\n",
    "print(\"Número formatado com underscore como separador de milhar: {:_}\".format(numero))\n",
    "print(\"Número formatado com sinal na frente: {:+}\".format(numero))\n",
    "print(\"Número formatado em formato científico: {:e}\".format(numero))\n",
    "print(\"Número formatado com duas casas decimais: {:.2f}\".format(numero))\n",
    "print(\"Número formatado em formato hexadecimal (minúsculas): {:x}\".format(int(numero)))\n",
    "print(\"Número formatado em formato hexadecimal (maiúsculas): {:X}\".format(int(numero)))\n",
    "print(\"Número formatado como percentual: {:.2%}\".format(0.25))\n",
    "```\n",
    "\n",
    "**Saída:**\n",
    "\n",
    "```\n",
    "Número formatado com vírgula como separador de milhar: 1,234,567.89\n",
    "Número formatado com underscore como separador de milhar: 1_234_567.89\n",
    "Número formatado com sinal na frente: +1234567.89\n",
    "Número formatado em formato científico: 1.234568e+06\n",
    "Número formatado com duas casas decimais: 1234567.89\n",
    "Número formatado em formato hexadecimal (minúsculas): 12d687\n",
    "Número formatado em formato hexadecimal (maiúsculas): 12D687\n",
    "Número formatado como percentual: 25.00%\n",
    "```\n",
    "\n",
    "Esses são apenas alguns exemplos de como você pode usar o método `format()` para criar formatações personalizadas em suas strings. Ele oferece uma maneira poderosa e flexível de controlar a aparência de seus dados e textos de saída em Python."
   ]
  },
  {
   "cell_type": "code",
   "execution_count": null,
   "metadata": {},
   "outputs": [],
   "source": []
  },
  {
   "cell_type": "code",
   "execution_count": null,
   "metadata": {},
   "outputs": [],
   "source": []
  },
  {
   "cell_type": "markdown",
   "metadata": {},
   "source": [
    "## **try & except**"
   ]
  },
  {
   "cell_type": "code",
   "execution_count": 24,
   "metadata": {},
   "outputs": [
    {
     "name": "stdout",
     "output_type": "stream",
     "text": [
      "O numero digitado foi 45 seu dobro e 90\n"
     ]
    }
   ],
   "source": [
    "#Exemplo\n",
    "numero = input('Digite um numero: ')\n",
    "\n",
    "try:\n",
    "    num = int(numero)\n",
    "    dobro = num * 2\n",
    "    \n",
    "    print(f'O numero digitado foi {num} seu dobro e {dobro}')\n",
    "    \n",
    "except:\n",
    "    print('Erro!')"
   ]
  },
  {
   "cell_type": "markdown",
   "metadata": {},
   "source": [
    "Neste exemplo, o programa solicita ao usuário que insira um número. Em seguida, ele tenta converter esse número para um inteiro usando a função `int()`. Se a conversão for bem-sucedida, o programa calcula o dobro desse número e o imprime na tela. Se ocorrer algum erro durante a conversão, como quando o usuário digita algo que não pode ser convertido para um número inteiro, o bloco `except` será executado e uma mensagem de erro será exibida.\n",
    "\n",
    "```python\n",
    "# Solicita ao usuário que insira um número\n",
    "numero = input('Digite um numero: ')\n",
    "\n",
    "try:\n",
    "    # Tenta converter o número para inteiro\n",
    "    num = int(numero)\n",
    "    \n",
    "    # Calcula o dobro do número\n",
    "    dobro = num * 2\n",
    "    \n",
    "    # Imprime o número digitado e seu dobro\n",
    "    print(f'O número digitado foi {num} e seu dobro é {dobro}')\n",
    "    \n",
    "except:\n",
    "    # Se ocorrer um erro durante a conversão, imprime uma mensagem de erro\n",
    "    print('Erro!')\n",
    "```\n",
    "\n",
    "Este código demonstra como usar a declaração `try-except` em Python para lidar com possíveis erros durante a execução do programa, garantindo que o programa não seja interrompido abruptamente se ocorrerem exceções."
   ]
  },
  {
   "cell_type": "code",
   "execution_count": null,
   "metadata": {},
   "outputs": [],
   "source": []
  },
  {
   "cell_type": "code",
   "execution_count": null,
   "metadata": {},
   "outputs": [],
   "source": []
  },
  {
   "cell_type": "code",
   "execution_count": 25,
   "metadata": {},
   "outputs": [
    {
     "name": "stdout",
     "output_type": "stream",
     "text": [
      "A soma dos numeros e 90.0\n"
     ]
    }
   ],
   "source": [
    "# Exemplo\n",
    "primeiro = input('Primeiro numero: ')\n",
    "segundo = input('Segundo numero: ')\n",
    "\n",
    "try:\n",
    "    p = float(primeiro)\n",
    "    s = float(segundo)\n",
    "    \n",
    "    soma = p + s\n",
    "    print(f'A soma dos numeros e {soma}')\n",
    "    \n",
    "except:\n",
    "    print(ValueError)"
   ]
  },
  {
   "cell_type": "code",
   "execution_count": 6,
   "metadata": {},
   "outputs": [
    {
     "name": "stdout",
     "output_type": "stream",
     "text": [
      "A constante é Programando em Python <class 'str'>\n",
      "A variavel e Programa em Python <class 'str'>\n"
     ]
    }
   ],
   "source": [
    "#Contantes e Variaveis\n",
    "CONSTANTE = 'Programando em Python' #Constante e uma variavel que não muda sempre sera toda em Maiuscula\n",
    "variavel  = 'Programa em Python' #Variavel que muda\n",
    "\n",
    "print(f\"A constante é {CONSTANTE} {type(CONSTANTE)}\")#Imprimindo a Constante\n",
    "print(f'A variavel e {variavel} {type(variavel)}')"
   ]
  },
  {
   "cell_type": "markdown",
   "metadata": {},
   "source": [
    "\n",
    "\n",
    "```python\n",
    "# Declaração de uma constante\n",
    "CONSTANTE = 'Programando em Python'  # Constante é uma variável que não muda, geralmente escrita toda em maiúsculas\n",
    "\n",
    "# Declaração de uma variável\n",
    "variavel = 'Programa em Python'  # Variável é uma entidade que pode armazenar valores e pode mudar ao longo do tempo\n",
    "\n",
    "# Impressão da constante\n",
    "print(f\"A constante é {CONSTANTE} {type(CONSTANTE)}\")\n",
    "\n",
    "# Impressão da variável\n",
    "print(f'A variável é {variavel} {type(variavel)}')\n",
    "```\n",
    "\n",
    "**Explicação:**\n",
    "\n",
    "- Uma constante em Python é uma variável que não muda de valor durante a execução do programa. Por convenção, o nome de uma constante é todo em maiúsculas.\n",
    "- Uma variável em Python é uma entidade que pode armazenar valores e pode mudar ao longo do tempo.\n",
    "- O comando `print()` é usado para imprimir o valor das variáveis `CONSTANTE` e `variavel`, bem como seus tipos, utilizando a formatação de string f-string (`f\"{variavel}\"`)."
   ]
  },
  {
   "cell_type": "code",
   "execution_count": null,
   "metadata": {},
   "outputs": [],
   "source": []
  },
  {
   "cell_type": "code",
   "execution_count": null,
   "metadata": {},
   "outputs": [],
   "source": []
  },
  {
   "cell_type": "markdown",
   "metadata": {},
   "source": [
    "# Função Print"
   ]
  },
  {
   "cell_type": "code",
   "execution_count": 5,
   "metadata": {},
   "outputs": [
    {
     "name": "stdout",
     "output_type": "stream",
     "text": [
      "12 - 13 - 45\n",
      "Meu nome e Francisco\n"
     ]
    }
   ],
   "source": [
    "#Sep = separador\n",
    "#end = final do print, ele uni as linhas\n",
    "print(12, 13, 45, sep=' - ')\n",
    "print('Meu nome e ', end='')\n",
    "print('Francisco')"
   ]
  },
  {
   "cell_type": "markdown",
   "metadata": {},
   "source": [
    "Explicação\n",
    "\n",
    "```python\n",
    "# Imprime os números 12, 13 e 45, separados por um hífen e espaço\n",
    "print(12, 13, 45, sep=' - ')\n",
    "\n",
    "# Imprime 'Meu nome e ' sem pular para a próxima linha\n",
    "print('Meu nome e ', end='')\n",
    "\n",
    "# Imprime 'Francisco' na mesma linha da string anterior\n",
    "print('Francisco')\n",
    "```\n",
    "\n",
    "**Explicação:**\n",
    "\n",
    "- O parâmetro `sep` é usado para especificar o separador entre os argumentos passados para a função `print()`. Aqui, você define o separador como `' - '`, o que resulta em todos os números impressos separados por um hífen e um espaço.\n",
    "- O parâmetro `end` é usado para especificar o que deve ser impresso no final da função `print()`. No primeiro `print()`, você não especificou o `end`, portanto, a função `print()` automaticamente adiciona uma nova linha. No segundo `print()`, você definiu `end=''`, o que significa que nada será impresso no final da primeira string, permitindo que a próxima string seja impressa na mesma linha."
   ]
  },
  {
   "cell_type": "code",
   "execution_count": null,
   "metadata": {},
   "outputs": [],
   "source": []
  },
  {
   "cell_type": "code",
   "execution_count": null,
   "metadata": {},
   "outputs": [],
   "source": []
  },
  {
   "cell_type": "markdown",
   "metadata": {},
   "source": [
    "# **Tipos de Erros no Python**"
   ]
  },
  {
   "cell_type": "markdown",
   "metadata": {},
   "source": [
    "**SyntaxError**: Erro de sintaxe, geralmente ocorre quando há um erro na estrutura do código Python.\n",
    "\n",
    "**IndentationError**: Ocorre quando a indentação do código não está correta, especialmente em blocos como loops e funções.\n",
    "\n",
    "**NameError**: Indica que uma variável ou função usada não foi definida.\n",
    "\n",
    "**TypeError**: Surge quando uma operação é aplicada a um tipo incompatível de dado.\n",
    "\n",
    "**ValueError**: Ocorre quando uma função recebe um argumento com o tipo certo, mas valor inapropriado.\n",
    "\n",
    "**IndexError**: Acontece quando um índice usado para acessar um elemento de uma sequência está fora do intervalo.\n",
    "\n",
    "**KeyError**: Ocasionado ao tentar acessar uma chave que não existe em um dicionário.\n",
    "\n",
    "**AttributeError**: Surge quando uma referência a um atributo ou método de um objeto é feita, mas o objeto não possui esse atributo ou método.\n",
    "\n",
    "**ImportError**: Acontece quando uma instrução import ou from import falha em importar um módulo.\n",
    "\n",
    "**ModuleNotFoundError**: Similar ao ImportError, mas mais específico, indicando que um módulo importado não pode ser encontrado.\n",
    "\n",
    "**FileNotFoundError**: Ocorre quando um arquivo ou diretório não pode ser encontrado.\n",
    "\n",
    "**IOError**: Indica um erro de entrada/saída, geralmente relacionado à operações de leitura ou escrita em arquivos.\n",
    "\n",
    "**PermissionError**: Surge quando não há permissão para realizar uma operação em um arquivo ou diretório.\n",
    "\n",
    "**ZeroDivisionError**: Acontece quando uma divisão é feita por zero.\n",
    "\n",
    "**OverflowError**: Ocorre quando um cálculo resulta em um valor que é muito grande para ser representado.\n",
    "\n",
    "**MemoryError**: Indica que o Python não possui memória suficiente para executar uma operação.\n",
    "\n",
    "**RecursionError**: Ocorre quando uma função chama a si mesma recursivamente de forma excessiva.\n",
    "\n",
    "**KeyboardInterrupt**: Surge quando o usuário interrompe a execução de um programa pressionando Ctrl + C.\n",
    "\n",
    "**SystemExit**: Indica uma solicitação para sair do interpretador Python.\n",
    "\n",
    "**AssertionError**: Ocorre quando uma instrução assert falha.\n",
    "\n",
    "**TypeError**: Indica que um objeto não é iterável, mas uma operação de iteração é tentada.\n",
    "\n",
    "**UnboundLocalError**: Acontece quando uma variável local é referenciada antes de ser atribuída.\n",
    "\n",
    "**NotImplementedError**: Indica que uma funcionalidade ainda não foi implementada.\n",
    "\n",
    "**DeprecationWarning**: Aviso indicando que uma funcionalidade está obsoleta e será removida em versões futuras do Python.\n",
    "\n",
    "**RuntimeError**: Um erro genérico que ocorre durante a execução do programa, geralmente indicando um problema imprevisto."
   ]
  },
  {
   "cell_type": "code",
   "execution_count": null,
   "metadata": {},
   "outputs": [],
   "source": []
  },
  {
   "cell_type": "markdown",
   "metadata": {},
   "source": [
    "# Comentarios em Python"
   ]
  },
  {
   "cell_type": "code",
   "execution_count": 26,
   "metadata": {},
   "outputs": [
    {
     "data": {
      "text/plain": [
       "'Tudo que estiver entre aspas fora da variável é considerado um comentário'"
      ]
     },
     "execution_count": 26,
     "metadata": {},
     "output_type": "execute_result"
    }
   ],
   "source": [
    "# Isso é um comentário\n",
    "\n",
    "# Isso é um comentário (mas como é uma string não atribuída a uma variável ou usada, é considerado um comentário)\n",
    "'Isso é Um Comentario'\n",
    "\"Isso é Um Comentario\"\n",
    "\n",
    "\"\"\"\n",
    "Isso é um comentário\n",
    "em várias linhas\n",
    "\"\"\"\n",
    "\n",
    "# Tudo que estiver entre aspas fora da variável é considerado um comentário\n",
    "\"Tudo que estiver entre aspas fora da variável é considerado um comentário\"\n"
   ]
  },
  {
   "cell_type": "code",
   "execution_count": null,
   "metadata": {},
   "outputs": [],
   "source": []
  }
 ],
 "metadata": {
  "colab": {
   "authorship_tag": "ABX9TyNgfW/FIMEHlp1K4JkNn1eM",
   "provenance": [],
   "toc_visible": true
  },
  "kernelspec": {
   "display_name": "Python 3 (ipykernel)",
   "language": "python",
   "name": "python3"
  },
  "language_info": {
   "codemirror_mode": {
    "name": "ipython",
    "version": 3
   },
   "file_extension": ".py",
   "mimetype": "text/x-python",
   "name": "python",
   "nbconvert_exporter": "python",
   "pygments_lexer": "ipython3",
   "version": "3.11.7"
  }
 },
 "nbformat": 4,
 "nbformat_minor": 4
}
