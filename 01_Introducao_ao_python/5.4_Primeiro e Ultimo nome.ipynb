{
 "cells": [
  {
   "cell_type": "markdown",
   "metadata": {},
   "source": [
    "### ***Crie um programa que leia o nome completo de uma pessoa e diga se ela tem ‘Silva’ no nome. Depois mostre em seguida o primeiro e o ultimo nome***"
   ]
  },
  {
   "cell_type": "code",
   "execution_count": null,
   "metadata": {},
   "outputs": [],
   "source": []
  },
  {
   "cell_type": "markdown",
   "metadata": {},
   "source": [
    "#### ***Codigo Cru sem Comentarios e explicações***"
   ]
  },
  {
   "cell_type": "code",
   "execution_count": 7,
   "metadata": {},
   "outputs": [
    {
     "name": "stdout",
     "output_type": "stream",
     "text": [
      "Seu nome começa com Silva? False\n",
      "Seu nome começa com SILVA? False\n",
      "Seu nome começa com silva? False\n",
      "Seu primeiro nome e Francisco\n",
      "Seu segundo nome e Douglas\n",
      "Seu ultimo nome e Sousa\n"
     ]
    }
   ],
   "source": [
    "nome = str(input('Digite o nome completo: ')).title()\n",
    "print(f'Seu nome começa com Silva? {nome[:5] == \"Silva\"}')\n",
    "print(f'Seu nome começa com SILVA? {nome[:5] == \"SILVA\"}')\n",
    "print(f'Seu nome começa com silva? {nome[:5] == \"silva\"}')\n",
    "\n",
    "n = nome.split()\n",
    "print(f'Seu primeiro nome e {n[0]}')\n",
    "print(f'Seu segundo nome e {n[1]}')\n",
    "print(f'Seu ultimo nome e {n[-1]}')"
   ]
  },
  {
   "cell_type": "code",
   "execution_count": null,
   "metadata": {},
   "outputs": [],
   "source": []
  },
  {
   "cell_type": "markdown",
   "metadata": {},
   "source": [
    "#### ***Codigo Documentado***"
   ]
  },
  {
   "cell_type": "markdown",
   "metadata": {},
   "source": [
    "#### ***Explicando o Codigo***"
   ]
  },
  {
   "cell_type": "markdown",
   "metadata": {
    "vscode": {
     "languageId": "plaintext"
    }
   },
   "source": [
    "\n",
    "\n",
    "```python\n",
    "# Solicita ao usuário que digite o nome completo e armazena-o na variável 'nome'\n",
    "nome = str(input('Digite o nome completo: ')).title()\n",
    "\n",
    "# Verifica se o nome começa com \"Silva\" e imprime o resultado\n",
    "print(f'Seu nome começa com Silva? {nome[:5] == \"Silva\"}')\n",
    "\n",
    "# Verifica se o nome começa com \"SILVA\" e imprime o resultado\n",
    "print(f'Seu nome começa com SILVA? {nome[:5] == \"SILVA\"}')\n",
    "\n",
    "# Verifica se o nome começa com \"silva\" e imprime o resultado\n",
    "print(f'Seu nome começa com silva? {nome[:5] == \"silva\"}')\n",
    "\n",
    "# Separa o nome em uma lista de palavras\n",
    "n = nome.split()\n",
    "\n",
    "# Imprime o primeiro nome\n",
    "print(f'Seu primeiro nome é {n[0]}')\n",
    "\n",
    "# Imprime o segundo nome\n",
    "print(f'Seu segundo nome é {n[1]}')\n",
    "\n",
    "# Imprime o último nome\n",
    "print(f'Seu último nome é {n[-1]}')\n",
    "```\n",
    "\n",
    "**Explicação:**\n",
    "\n",
    "1. **Input do Nome Completo:** Solicita ao usuário que digite o nome completo e armazena-o na variável `nome`. O método `title()` é usado para capitalizar a primeira letra de cada palavra.\n",
    "\n",
    "2. **Verificação de \"Silva\":** Verifica se o nome começa com \"Silva\", \"SILVA\" ou \"silva\" utilizando slices da string `nome` e comparações com essas strings. Isso é feito para diferentes casos de letras, incluindo maiúsculas, minúsculas e misturadas.\n",
    "\n",
    "3. **Separação do Nome:** Utiliza o método `split()` para separar o nome em uma lista de palavras, onde cada palavra é um item na lista.\n",
    "\n",
    "4. **Impressão dos Nomes:**\n",
    "   - Imprime o primeiro nome, acessando o primeiro elemento da lista `n`.\n",
    "   - Imprime o segundo nome, acessando o segundo elemento da lista `n`.\n",
    "   - Imprime o último nome, acessando o último elemento da lista `n`.\n",
    "\n"
   ]
  },
  {
   "cell_type": "code",
   "execution_count": null,
   "metadata": {},
   "outputs": [],
   "source": []
  }
 ],
 "metadata": {
  "kernelspec": {
   "display_name": "base",
   "language": "python",
   "name": "python3"
  },
  "language_info": {
   "codemirror_mode": {
    "name": "ipython",
    "version": 3
   },
   "file_extension": ".py",
   "mimetype": "text/x-python",
   "name": "python",
   "nbconvert_exporter": "python",
   "pygments_lexer": "ipython3",
   "version": "3.11.7"
  }
 },
 "nbformat": 4,
 "nbformat_minor": 2
}
