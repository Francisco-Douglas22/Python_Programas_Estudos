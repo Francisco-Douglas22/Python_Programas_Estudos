{
 "cells": [
  {
   "cell_type": "markdown",
   "metadata": {},
   "source": [
    "### ***Crie um programa que leia o nome completo de uma pessoa e mostre:***\n",
    "\n",
    "\n",
    "         O nome com todas as letras maiúsculas e minúsculas.\n",
    "         Quantas letras ao todo (sem considerar espaços).\n",
    "         Quantas letras tem o primeiro nome.\n",
    "         O nome ao inverso\n",
    "         Se o nome tem algum palíndromo"
   ]
  },
  {
   "cell_type": "code",
   "execution_count": null,
   "metadata": {},
   "outputs": [],
   "source": []
  },
  {
   "cell_type": "markdown",
   "metadata": {},
   "source": [
    "#### ***Codigo Cru sem Comentarios e explicações***"
   ]
  },
  {
   "cell_type": "code",
   "execution_count": 4,
   "metadata": {},
   "outputs": [
    {
     "name": "stdout",
     "output_type": "stream",
     "text": [
      "Seu nome e Francisco Douglas\n",
      "Seu nome tem ao todo 16 letras\n",
      "Seu nome em Maiusculas e FRANCISCO DOUGLAS\n",
      "Seu nome em Minusculas e francisco douglas\n",
      "Seu primeiro nome tem 9 letra(s).\n",
      "Seu nome ao inverso e salguoD ocsicnarF\n",
      "Seu nome tem palindromo? False\n"
     ]
    }
   ],
   "source": [
    "nome = str(input('Digite seu nome completo: ')).title()\n",
    "print(f'Seu nome e {nome}')\n",
    "\n",
    "print(f'Seu nome tem ao todo {len(nome) - nome.count(\" \")} letras')\n",
    "print(f'Seu nome em Maiusculas e {nome.upper()}')\n",
    "print(f'Seu nome em Minusculas e {nome.lower()}')\n",
    "print(f'Seu primeiro nome tem {nome.find(\" \")} letra(s).')\n",
    "inverso = nome[::-1]\n",
    "print(f'Seu nome ao inverso e {inverso}')\n",
    "\n",
    "print(f'Seu nome tem palindromo? {nome == inverso}')"
   ]
  },
  {
   "cell_type": "code",
   "execution_count": null,
   "metadata": {},
   "outputs": [],
   "source": []
  },
  {
   "cell_type": "markdown",
   "metadata": {},
   "source": [
    "#### ***Codigo Documentado***"
   ]
  },
  {
   "cell_type": "markdown",
   "metadata": {},
   "source": [
    "#### ***Explicando o Codigo***"
   ]
  },
  {
   "cell_type": "markdown",
   "metadata": {
    "vscode": {
     "languageId": "plaintext"
    }
   },
   "source": [
    "\n",
    "\n",
    "```python\n",
    "# Solicita ao usuário que digite seu nome completo e armazena-o na variável 'nome'\n",
    "nome = str(input('Digite seu nome completo: ')).title()\n",
    "\n",
    "# Imprime uma mensagem com o nome fornecido pelo usuário\n",
    "print(f'Seu nome é {nome}')\n",
    "\n",
    "# Calcula e imprime o número de letras no nome, descontando os espaços\n",
    "print(f'Seu nome tem ao todo {len(nome) - nome.count(\" \")} letras')\n",
    "\n",
    "# Imprime o nome em letras maiúsculas\n",
    "print(f'Seu nome em Maiúsculas é {nome.upper()}')\n",
    "\n",
    "# Imprime o nome em letras minúsculas\n",
    "print(f'Seu nome em Minúsculas é {nome.lower()}')\n",
    "\n",
    "# Encontra a posição do primeiro espaço no nome\n",
    "print(f'Seu primeiro nome tem {nome.find(\" \")} letra(s)')\n",
    "\n",
    "# Inverte o nome e o imprime\n",
    "inverso = nome[::-1]\n",
    "print(f'Seu nome ao inverso é {inverso}')\n",
    "\n",
    "# Verifica se o nome é um palíndromo e imprime o resultado\n",
    "print(f'Seu nome é um palíndromo? {nome == inverso}')\n",
    "```\n",
    "\n",
    "**Explicação:**\n",
    "\n",
    "1. **Input do Nome:** Solicita ao usuário que digite seu nome completo e armazena-o na variável `nome`. O método `title()` é usado para capitalizar a primeira letra de cada palavra.\n",
    "\n",
    "2. **Imprimindo o Nome:** Imprime o nome fornecido pelo usuário.\n",
    "\n",
    "3. **Contagem de Letras:** Calcula o número de letras no nome, descontando os espaços, e imprime o resultado.\n",
    "\n",
    "4. **Nome em Maiúsculas:** Converte o nome para letras maiúsculas usando o método `upper()` e o imprime.\n",
    "\n",
    "5. **Nome em Minúsculas:** Converte o nome para letras minúsculas usando o método `lower()` e o imprime.\n",
    "\n",
    "6. **Posição do Primeiro Espaço:** Encontra a posição do primeiro espaço no nome usando o método `find()` e o imprime.\n",
    "\n",
    "7. **Inversão do Nome:** Inverte o nome usando slicing (`[::-1]`) e o imprime.\n",
    "\n",
    "8. **Verificação de Palíndromo:** Verifica se o nome é um palíndromo comparando-o com sua versão invertida e imprime o resultado.\n",
    "\n"
   ]
  },
  {
   "cell_type": "code",
   "execution_count": null,
   "metadata": {},
   "outputs": [],
   "source": []
  }
 ],
 "metadata": {
  "kernelspec": {
   "display_name": "base",
   "language": "python",
   "name": "python3"
  },
  "language_info": {
   "codemirror_mode": {
    "name": "ipython",
    "version": 3
   },
   "file_extension": ".py",
   "mimetype": "text/x-python",
   "name": "python",
   "nbconvert_exporter": "python",
   "pygments_lexer": "ipython3",
   "version": "3.11.7"
  }
 },
 "nbformat": 4,
 "nbformat_minor": 2
}
