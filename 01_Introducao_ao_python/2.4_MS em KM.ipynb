{
 "cells": [
  {
   "cell_type": "markdown",
   "metadata": {},
   "source": [
    "### Programa que ler a velocidade em KM/H (quilômetros por hora) e M/S (Metros por segundo).\n",
    "Converta KM/H em M/S e M/S em KM/H.\n",
    "\n",
    "\n",
    "        Formulas: M = K / 3.6\n",
    "        Formulas: K = M * 3.6"
   ]
  },
  {
   "cell_type": "code",
   "execution_count": null,
   "metadata": {},
   "outputs": [],
   "source": []
  },
  {
   "cell_type": "markdown",
   "metadata": {},
   "source": [
    "#### ***Codigo Cru sem Comentarios e explicações***"
   ]
  },
  {
   "cell_type": "code",
   "execution_count": 1,
   "metadata": {},
   "outputs": [
    {
     "name": "stdout",
     "output_type": "stream",
     "text": [
      "100.0 KM/hora equivalem a 27.78 Metros por Segundo\n",
      "35.0 Metros por segundo equivalem a 126.00 Km por Horas\n"
     ]
    }
   ],
   "source": [
    "km = float(input('Km por horas: '))\n",
    "metros = float(input('Metor Por Segundo: '))\n",
    "\n",
    "#Conversao km em ms\n",
    "m_segundo = km / 3.6\n",
    "\n",
    "#Conversao Ms em km\n",
    "k_hora = metros * 3.6\n",
    "\n",
    "print(f'{km} KM/hora equivalem a {m_segundo:.2f} Metros por Segundo')\n",
    "print(f'{metros} Metros por segundo equivalem a {k_hora:.2f} Km por Horas')"
   ]
  },
  {
   "cell_type": "code",
   "execution_count": null,
   "metadata": {},
   "outputs": [],
   "source": []
  },
  {
   "cell_type": "markdown",
   "metadata": {},
   "source": [
    "#### ***Codigo Documentado***"
   ]
  },
  {
   "cell_type": "markdown",
   "metadata": {},
   "source": [
    "#### ***Explicando o Codigo***"
   ]
  },
  {
   "cell_type": "markdown",
   "metadata": {
    "vscode": {
     "languageId": "plaintext"
    }
   },
   "source": [
    "Aqui está o seu código com uma documentação detalhada:\n",
    "\n",
    "```python\n",
    "# Solicita ao usuário que insira a velocidade em quilômetros por hora (km/h) e a armazena como um número de ponto flutuante\n",
    "km = float(input('Km por horas: '))\n",
    "\n",
    "# Solicita ao usuário que insira a velocidade em metros por segundo (m/s) e a armazena como um número de ponto flutuante\n",
    "metros = float(input('Metor Por Segundo: '))\n",
    "\n",
    "# Conversão de quilômetros por hora (km/h) para metros por segundo (m/s)\n",
    "m_segundo = km / 3.6\n",
    "\n",
    "# Conversão de metros por segundo (m/s) para quilômetros por hora (km/h)\n",
    "k_hora = metros * 3.6\n",
    "\n",
    "# Imprime a velocidade em quilômetros por hora convertida para metros por segundo com duas casas decimais\n",
    "print(f'{km} KM/hora equivalem a {m_segundo:.2f} Metros por Segundo')\n",
    "\n",
    "# Imprime a velocidade em metros por segundo convertida para quilômetros por hora com duas casas decimais\n",
    "print(f'{metros} Metros por segundo equivalem a {k_hora:.2f} Km por Horas')\n",
    "```\n",
    "\n",
    "Explicação detalhada:\n",
    "\n",
    "1. **Entrada de dados**: O código solicita ao usuário que insira duas velocidades: uma em quilômetros por hora (km/h) e outra em metros por segundo (m/s). As entradas são coletadas através da função `input()` e convertidas em números de ponto flutuante (`float(input())`) para permitir cálculos matemáticos posteriormente.\n",
    "\n",
    "2. **Conversão de km/h para m/s**: Para converter a velocidade de quilômetros por hora para metros por segundo, divide-se a velocidade em quilômetros por hora por 3.6, pois há 3600 segundos em uma hora (3600 segundos / 1000 metros = 3.6 metros por segundo). O resultado é armazenado na variável `m_segundo`.\n",
    "\n",
    "3. **Conversão de m/s para km/h**: Para converter a velocidade de metros por segundo para quilômetros por hora, multiplica-se a velocidade em metros por segundo por 3.6. Isso ocorre porque há 3600 segundos em uma hora, e ao multiplicar a velocidade em metros por segundo por 3600, obtém-se a velocidade em quilômetros por hora. O resultado é armazenado na variável `k_hora`.\n",
    "\n",
    "4. **Saída dos resultados**: Os resultados das conversões são impressos na tela utilizando a função `print()`, com f-strings para incorporar os valores das variáveis diretamente no texto. O uso de `:.2f` limita o número de casas decimais a duas para proporcionar uma apresentação mais limpa e legível das velocidades convertidas.\n",
    "\n",
    "Este código é útil para converter velocidades entre quilômetros por hora e metros por segundo, permitindo uma compreensão rápida e fácil das relações entre essas unidades de medida de velocidade."
   ]
  },
  {
   "cell_type": "code",
   "execution_count": null,
   "metadata": {},
   "outputs": [],
   "source": []
  }
 ],
 "metadata": {
  "kernelspec": {
   "display_name": "base",
   "language": "python",
   "name": "python3"
  },
  "language_info": {
   "codemirror_mode": {
    "name": "ipython",
    "version": 3
   },
   "file_extension": ".py",
   "mimetype": "text/x-python",
   "name": "python",
   "nbconvert_exporter": "python",
   "pygments_lexer": "ipython3",
   "version": "3.11.7"
  }
 },
 "nbformat": 4,
 "nbformat_minor": 2
}
