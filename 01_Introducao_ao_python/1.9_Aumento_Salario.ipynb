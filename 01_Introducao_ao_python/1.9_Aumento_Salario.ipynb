{
 "cells": [
  {
   "cell_type": "markdown",
   "metadata": {},
   "source": [
    "### ***Faça um algoritmo que leia o nome e o salário de um funcionário e mostre seu novo salário, com 15% de aumento***"
   ]
  },
  {
   "cell_type": "code",
   "execution_count": null,
   "metadata": {},
   "outputs": [],
   "source": []
  },
  {
   "cell_type": "markdown",
   "metadata": {},
   "source": [
    "#### ***Codigo Cru sem Comentarios e explicações***"
   ]
  },
  {
   "cell_type": "code",
   "execution_count": 1,
   "metadata": {},
   "outputs": [
    {
     "name": "stdout",
     "output_type": "stream",
     "text": [
      "O Funcionario que ganhava 3456.0 R$ com o aumento de 15%\n",
      "Passara a Ganha 3974.40 R$\n"
     ]
    }
   ],
   "source": [
    "salario = float(input('Digite o salariod do Funcionario: R$ '))\n",
    "aumento = 15\n",
    "novo_salario = salario * ((100+aumento) / 100)\n",
    "print(f'O Funcionario que ganhava {salario} R$ com o aumento de 15%')\n",
    "print(f'Passara a Ganha {novo_salario:.2f} R$')"
   ]
  },
  {
   "cell_type": "code",
   "execution_count": null,
   "metadata": {},
   "outputs": [],
   "source": []
  },
  {
   "cell_type": "markdown",
   "metadata": {},
   "source": [
    "#### ***Codigo Documentado***"
   ]
  },
  {
   "cell_type": "markdown",
   "metadata": {},
   "source": [
    "#### ***Explicando o Codigo***"
   ]
  },
  {
   "cell_type": "markdown",
   "metadata": {
    "vscode": {
     "languageId": "plaintext"
    }
   },
   "source": [
    "Aqui está o código documentado:\n",
    "\n",
    "```python\n",
    "# Solicita ao usuário que insira a altura da parede em metros e armazena o valor na variável 'altura_parede'\n",
    "altura_parede = float(input('Digite a altura da parede: '))\n",
    "\n",
    "# Solicita ao usuário que insira a largura da parede em metros e armazena o valor na variável 'largura_parede'\n",
    "largura_parede = float(input('Digite a largura da parede: '))\n",
    "\n",
    "# Calcula a área da parede multiplicando a altura pela largura\n",
    "metros_q = altura_parede * largura_parede\n",
    "\n",
    "# Calcula a quantidade total de tinta necessária para pintar a parede, considerando que 1 litro de tinta pinta 2 metros quadrados\n",
    "total_tinta = metros_q / 2\n",
    "\n",
    "# Imprime a quantidade de tinta necessária para pintar a parede\n",
    "print(f'Uma parede de {metros_q:.2f} metros quadrados levará {total_tinta:.2f} litros de tinta para ser pintada')\n",
    "```\n",
    "\n",
    "**Explicação:**\n",
    "\n",
    "1. **Solicitação das dimensões da parede:** O programa solicita ao usuário que insira a altura e a largura da parede em metros utilizando a função `input()`. Os valores inseridos pelo usuário são convertidos para números decimais (float) utilizando `float()` e armazenados nas variáveis `altura_parede` e `largura_parede`.\n",
    "\n",
    "2. **Cálculo da área da parede:** O programa calcula a área da parede multiplicando a altura pela largura e armazena o resultado na variável `metros_q`.\n",
    "\n",
    "3. **Cálculo da quantidade de tinta necessária:** O programa calcula a quantidade total de tinta necessária para pintar a parede, dividindo a área da parede por 2 (considerando que 1 litro de tinta pinta 2 metros quadrados) e armazena o resultado na variável `total_tinta`.\n",
    "\n",
    "4. **Impressão do resultado:** Utilizando uma f-string, o programa imprime uma mensagem que contém a área da parede em metros quadrados e a quantidade de tinta necessária em litros para pintar a parede. Os valores são formatados com duas casas decimais."
   ]
  },
  {
   "cell_type": "code",
   "execution_count": null,
   "metadata": {},
   "outputs": [],
   "source": []
  }
 ],
 "metadata": {
  "kernelspec": {
   "display_name": "base",
   "language": "python",
   "name": "python3"
  },
  "language_info": {
   "codemirror_mode": {
    "name": "ipython",
    "version": 3
   },
   "file_extension": ".py",
   "mimetype": "text/x-python",
   "name": "python",
   "nbconvert_exporter": "python",
   "pygments_lexer": "ipython3",
   "version": "3.11.7"
  }
 },
 "nbformat": 4,
 "nbformat_minor": 2
}
