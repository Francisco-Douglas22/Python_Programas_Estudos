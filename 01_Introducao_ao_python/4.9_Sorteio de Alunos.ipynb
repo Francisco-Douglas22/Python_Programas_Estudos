{
 "cells": [
  {
   "cell_type": "markdown",
   "metadata": {},
   "source": [
    "### ***Um professor que escolher entre 4 alunos da sala quem ira apaga o quadro, e depois esse mesmo professor quer sortear uma ordem de apresentação de trabalho entre esses 4 alunos. Faça um programa que ajude esse professor escolhendo o aluno e a ordem de apresentação.***\n",
    "\n",
    "\n",
    "            from random import choice\n",
    "            from random import shuffle"
   ]
  },
  {
   "cell_type": "code",
   "execution_count": null,
   "metadata": {},
   "outputs": [],
   "source": []
  },
  {
   "cell_type": "markdown",
   "metadata": {},
   "source": [
    "#### ***Codigo Cru sem Comentarios e explicações***"
   ]
  },
  {
   "cell_type": "code",
   "execution_count": 2,
   "metadata": {},
   "outputs": [
    {
     "name": "stdout",
     "output_type": "stream",
     "text": [
      "Entre os Alunos ('Ana', 'Maria', 'Miguel', 'Artu')\n",
      "O Que ira apaga o quadro sera Maria.\n",
      "A Ordem de Apresentação dos Trabalhos sera ['Artu', 'Ana', 'Miguel', 'Maria']\n"
     ]
    }
   ],
   "source": [
    "from random import choice, shuffle\n",
    "\n",
    "aluno1 = str(input('Primeiro Aluno: ')).title()\n",
    "aluno2 = str(input('Segundo Aluno: ')).title()\n",
    "aluno3 = str(input('Terceiro Aluno: ')).title()\n",
    "aluno4 = str(input('Quarto Aluno: ')).title()\n",
    "\n",
    "alunos =  [aluno1, aluno2, aluno3, aluno4]\n",
    "escolhido = choice(alunos)\n",
    "\n",
    "alunos_copia = alunos.copy()\n",
    "shuffle(alunos_copia)\n",
    "\n",
    "print(f'Entre os Alunos {aluno1, aluno2, aluno3, aluno4}')\n",
    "print(f'O Que ira apaga o quadro sera {escolhido}.')\n",
    "print(f'A Ordem de Apresentação dos Trabalhos sera {alunos_copia}')"
   ]
  },
  {
   "cell_type": "code",
   "execution_count": null,
   "metadata": {},
   "outputs": [],
   "source": []
  },
  {
   "cell_type": "markdown",
   "metadata": {},
   "source": [
    "#### ***Codigo Documentado***"
   ]
  },
  {
   "cell_type": "markdown",
   "metadata": {},
   "source": [
    "#### ***Explicando o Codigo***"
   ]
  },
  {
   "cell_type": "markdown",
   "metadata": {
    "vscode": {
     "languageId": "plaintext"
    }
   },
   "source": [
    "Este código Python realiza uma seleção aleatória de um aluno para apagar o quadro e embaralha a ordem de apresentação dos trabalhos dos alunos fornecidos pelo usuário:\n",
    "\n",
    "```python\n",
    "from random import choice, shuffle\n",
    "\n",
    "# Solicita ao usuário os nomes dos quatro alunos\n",
    "aluno1 = str(input('Primeiro Aluno: ')).title()\n",
    "aluno2 = str(input('Segundo Aluno: ')).title()\n",
    "aluno3 = str(input('Terceiro Aluno: ')).title()\n",
    "aluno4 = str(input('Quarto Aluno: ')).title()\n",
    "\n",
    "# Cria uma lista contendo os nomes dos alunos\n",
    "alunos = [aluno1, aluno2, aluno3, aluno4]\n",
    "\n",
    "# Escolhe aleatoriamente um aluno para apagar o quadro\n",
    "escolhido = choice(alunos)\n",
    "\n",
    "# Cria uma cópia da lista de alunos e a embaralha para determinar a ordem de apresentação\n",
    "alunos_copia = alunos.copy()\n",
    "shuffle(alunos_copia)\n",
    "\n",
    "# Exibe os resultados\n",
    "print(f'Entre os Alunos {aluno1}, {aluno2}, {aluno3} e {aluno4}:')\n",
    "print(f'O aluno que irá apagar o quadro será {escolhido}.')\n",
    "print(f'A ordem de apresentação dos trabalhos será {alunos_copia}')\n",
    "```\n",
    "\n",
    "Explicação do código:\n",
    "\n",
    "1. O código importa as funções `choice` e `shuffle` do módulo `random`. `choice` é usada para escolher aleatoriamente um elemento de uma lista, e `shuffle` é usada para embaralhar aleatoriamente os elementos de uma lista.\n",
    "\n",
    "2. O programa solicita ao usuário os nomes dos quatro alunos e armazena esses valores como strings nas variáveis `aluno1`, `aluno2`, `aluno3` e `aluno4`. O método `.title()` é usado para garantir que os nomes sejam formatados com a primeira letra maiúscula.\n",
    "\n",
    "3. Os nomes dos alunos são armazenados em uma lista chamada `alunos`.\n",
    "\n",
    "4. Um aluno é escolhido aleatoriamente da lista `alunos` usando a função `choice` e armazenado na variável `escolhido`.\n",
    "\n",
    "5. Uma cópia da lista de alunos é criada usando o método `copy()` e então a lista é embaralhada aleatoriamente usando a função `shuffle`. Isso determina a ordem de apresentação dos trabalhos.\n",
    "\n",
    "6. Os resultados são exibidos utilizando a função `print`, com formatação de strings para incluir os nomes dos alunos escolhidos e a ordem de apresentação."
   ]
  },
  {
   "cell_type": "code",
   "execution_count": null,
   "metadata": {},
   "outputs": [],
   "source": []
  }
 ],
 "metadata": {
  "kernelspec": {
   "display_name": "base",
   "language": "python",
   "name": "python3"
  },
  "language_info": {
   "codemirror_mode": {
    "name": "ipython",
    "version": 3
   },
   "file_extension": ".py",
   "mimetype": "text/x-python",
   "name": "python",
   "nbconvert_exporter": "python",
   "pygments_lexer": "ipython3",
   "version": "3.11.7"
  }
 },
 "nbformat": 4,
 "nbformat_minor": 2
}
