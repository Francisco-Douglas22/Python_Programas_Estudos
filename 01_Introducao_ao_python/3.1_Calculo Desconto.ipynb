{
 "cells": [
  {
   "cell_type": "markdown",
   "metadata": {},
   "source": [
    "### ***23 - Faça um programa que leia o valor de um produto e imprima o valor com desconto, tendo em vista que desconto foi de 12%***"
   ]
  },
  {
   "cell_type": "code",
   "execution_count": null,
   "metadata": {},
   "outputs": [],
   "source": []
  },
  {
   "cell_type": "markdown",
   "metadata": {},
   "source": [
    "#### ***Codigo Cru sem Comentarios e explicações***"
   ]
  },
  {
   "cell_type": "code",
   "execution_count": 1,
   "metadata": {},
   "outputs": [
    {
     "name": "stdout",
     "output_type": "stream",
     "text": [
      "O Notebook que custava 3450.00 R$ com 12% de desconto passara a custa 3036.00 R$\n"
     ]
    }
   ],
   "source": [
    "#Variaveis\n",
    "nome_produto = str(input('Produto a compra: ')).title()\n",
    "valor = float(input(f'Valor do {nome_produto}: '))\n",
    "\n",
    "#Calculo desconto\n",
    "desconto = valor * 0.88\n",
    "print(f'O {nome_produto} que custava {valor:.2f} R$ com 12% de desconto passara a custa {desconto:.2f} R$')"
   ]
  },
  {
   "cell_type": "code",
   "execution_count": null,
   "metadata": {},
   "outputs": [],
   "source": []
  },
  {
   "cell_type": "markdown",
   "metadata": {},
   "source": [
    "#### ***Codigo Documentado***"
   ]
  },
  {
   "cell_type": "markdown",
   "metadata": {},
   "source": [
    "#### ***Explicando o Codigo***"
   ]
  },
  {
   "cell_type": "markdown",
   "metadata": {
    "vscode": {
     "languageId": "plaintext"
    }
   },
   "source": [
    "\n",
    "\n",
    "```python\n",
    "# Solicita ao usuário para inserir o nome do produto e seu valor\n",
    "nome_produto = str(input('Produto a comprar: ')).title()\n",
    "valor = float(input(f'Valor do {nome_produto}: '))\n",
    "\n",
    "# Calcula o valor do produto com desconto de 12%\n",
    "desconto = valor * 0.88\n",
    "\n",
    "# Exibe a mensagem com o valor original, o valor com desconto e o nome do produto\n",
    "print(f'O {nome_produto} que custava {valor:.2f} R$ com 12% de desconto passará a custar {desconto:.2f} R$')\n",
    "```\n",
    "\n",
    "Explicação detalhada do código:\n",
    "\n",
    "- A variável 'nome_produto' armazena o nome do produto inserido pelo usuário utilizando o método `.title()` para garantir que a primeira letra seja maiúscula.\n",
    "\n",
    "- A variável 'valor' armazena o valor do produto inserido pelo usuário.\n",
    "\n",
    "- A variável 'desconto' calcula o valor do produto com um desconto de 12%. Aqui, multiplicamos o valor original por 0.88, que representa 100% (valor total) menos 12% (o valor do desconto).\n",
    "\n",
    "- O comando 'print' exibe uma mensagem formatada que mostra o nome do produto, seu valor original com duas casas decimais (`{valor:.2f}`), o desconto aplicado (12%) e o novo valor com desconto também com duas casas decimais (`{desconto:.2f}`)."
   ]
  },
  {
   "cell_type": "code",
   "execution_count": null,
   "metadata": {},
   "outputs": [],
   "source": []
  }
 ],
 "metadata": {
  "kernelspec": {
   "display_name": "base",
   "language": "python",
   "name": "python3"
  },
  "language_info": {
   "codemirror_mode": {
    "name": "ipython",
    "version": 3
   },
   "file_extension": ".py",
   "mimetype": "text/x-python",
   "name": "python",
   "nbconvert_exporter": "python",
   "pygments_lexer": "ipython3",
   "version": "3.11.7"
  }
 },
 "nbformat": 4,
 "nbformat_minor": 2
}
