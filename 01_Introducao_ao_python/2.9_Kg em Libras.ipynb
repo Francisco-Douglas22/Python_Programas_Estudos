{
 "cells": [
  {
   "cell_type": "markdown",
   "metadata": {},
   "source": [
    "### ***Leia um valor de massa em Kg Quilogramas e converta para Libras, depois disso converta novamente para kg.***\n",
    "\n",
    "\n",
    "        Formulas: L = k / 0.45\n",
    "        Formulas: k = L * 0.45"
   ]
  },
  {
   "cell_type": "code",
   "execution_count": null,
   "metadata": {},
   "outputs": [],
   "source": []
  },
  {
   "cell_type": "markdown",
   "metadata": {},
   "source": [
    "#### ***Codigo Cru sem Comentarios e explicações***"
   ]
  },
  {
   "cell_type": "code",
   "execution_count": 1,
   "metadata": {},
   "outputs": [
    {
     "name": "stdout",
     "output_type": "stream",
     "text": [
      "45.0 Kg equivale a 100.00 Libras, o inverso e 45.00 Kg\n"
     ]
    }
   ],
   "source": [
    "#variaveis\n",
    "kg = float(input('Massa em Kg: '))\n",
    "\n",
    "#Conversao\n",
    "libras = kg / 0.45\n",
    "reversao = libras * 0.45\n",
    "\n",
    "print(f'{kg} Kg equivale a {libras:.2f} Libras, o inverso e {reversao:.2f} Kg')"
   ]
  },
  {
   "cell_type": "code",
   "execution_count": null,
   "metadata": {},
   "outputs": [],
   "source": []
  },
  {
   "cell_type": "markdown",
   "metadata": {},
   "source": [
    "#### ***Codigo Documentado***"
   ]
  },
  {
   "cell_type": "markdown",
   "metadata": {},
   "source": [
    "#### ***Explicando o Codigo***"
   ]
  },
  {
   "cell_type": "markdown",
   "metadata": {
    "vscode": {
     "languageId": "plaintext"
    }
   },
   "source": [
    "\n",
    "\n",
    "```python\n",
    "# Solicita ao usuário para inserir um valor de massa em quilogramas\n",
    "kg = float(input('Massa em Kg: '))\n",
    "\n",
    "# Converte a massa de quilogramas para libras\n",
    "libras = kg / 0.45\n",
    "\n",
    "# Realiza a reversão da conversão, convertendo libras de volta para quilogramas\n",
    "reversao = libras * 0.45\n",
    "\n",
    "# Exibe os resultados da conversão para libras e a reversão para quilogramas\n",
    "print(f'{kg} Kg equivale a {libras:.2f} Libras, o inverso é {reversao:.2f} Kg')\n",
    "```\n",
    "\n",
    "Aqui está uma explicação detalhada do código:\n",
    "\n",
    "- A variável `kg` armazena o valor inserido pelo usuário, representando a massa em quilogramas.\n",
    "\n",
    "- A variável `libras` calcula a conversão da massa de quilogramas para libras, dividindo o valor em quilogramas por 0.45. Esta é uma conversão aproximada, pois 1 quilograma é aproximadamente igual a 2.20462 libras.\n",
    "\n",
    "- A variável `reversao` calcula a reversão da conversão, convertendo as libras de volta para quilogramas, multiplicando o valor em libras por 0.45.\n",
    "\n",
    "- O comando `print` exibe a massa original em quilogramas, o valor convertido em libras com duas casas decimais utilizando `:.2f`, e o valor revertido para quilogramas também com duas casas decimais."
   ]
  },
  {
   "cell_type": "code",
   "execution_count": null,
   "metadata": {},
   "outputs": [],
   "source": []
  }
 ],
 "metadata": {
  "kernelspec": {
   "display_name": "base",
   "language": "python",
   "name": "python3"
  },
  "language_info": {
   "codemirror_mode": {
    "name": "ipython",
    "version": 3
   },
   "file_extension": ".py",
   "mimetype": "text/x-python",
   "name": "python",
   "nbconvert_exporter": "python",
   "pygments_lexer": "ipython3",
   "version": "3.11.7"
  }
 },
 "nbformat": 4,
 "nbformat_minor": 2
}
