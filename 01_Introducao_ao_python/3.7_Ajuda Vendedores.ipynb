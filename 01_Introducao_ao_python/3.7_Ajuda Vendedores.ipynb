{
 "cells": [
  {
   "cell_type": "markdown",
   "metadata": {},
   "source": [
    "### ***Escreva um programa de ajuda para vendedores. A partir de um valor total lido, mostre***\n",
    "\n",
    "         O Total a pagar com 10% de desconto\n",
    "         O Valor de cada parcela, no parcelamento de 3x sem juros\n",
    "         A comissão do vendedor de %5 no caso de venda à vista"
   ]
  },
  {
   "cell_type": "code",
   "execution_count": null,
   "metadata": {},
   "outputs": [],
   "source": []
  },
  {
   "cell_type": "markdown",
   "metadata": {},
   "source": [
    "#### ***Codigo Cru sem Comentarios e explicações***"
   ]
  },
  {
   "cell_type": "code",
   "execution_count": 1,
   "metadata": {},
   "outputs": [
    {
     "name": "stdout",
     "output_type": "stream",
     "text": [
      "\n",
      "3000.0 R$ com 10% de Desconto sera de 2700.0\n",
      "3000.0 R$ em 3X sem juros as parcelas serao de 1000.0\n",
      "3000.0 R$, a Comissão do Vendedor sera de 150.0 R$\n"
     ]
    }
   ],
   "source": [
    "#Varavel\n",
    "valor = float(input('Digite o valor: R$ '))\n",
    "\n",
    "print(f'''\n",
    "{valor} R$ com 10% de Desconto sera de {valor*0.9}\n",
    "{valor} R$ em 3X sem juros as parcelas serao de {valor/3}\n",
    "{valor} R$, a Comissão do Vendedor sera de {valor*0.05} R$''')"
   ]
  },
  {
   "cell_type": "code",
   "execution_count": null,
   "metadata": {},
   "outputs": [],
   "source": []
  },
  {
   "cell_type": "markdown",
   "metadata": {},
   "source": [
    "#### ***Codigo Documentado***"
   ]
  },
  {
   "cell_type": "markdown",
   "metadata": {},
   "source": [
    "#### ***Explicando o Codigo***"
   ]
  },
  {
   "cell_type": "markdown",
   "metadata": {
    "vscode": {
     "languageId": "plaintext"
    }
   },
   "source": [
    "```python\n",
    "# Variável\n",
    "valor = float(input('Digite o valor: R$ '))\n",
    "\n",
    "# Cálculo do valor com desconto de 10%\n",
    "desconto_10_porcento = valor * 0.9\n",
    "\n",
    "# Cálculo do valor das parcelas em 3X sem juros\n",
    "parcelas_sem_juros = valor / 3\n",
    "\n",
    "# Cálculo da comissão do vendedor (5% do valor)\n",
    "comissao_vendedor = valor * 0.05\n",
    "\n",
    "# Exibição dos resultados\n",
    "print(f'''\n",
    "{valor} R$ com 10% de Desconto será de {desconto_10_porcento} R$\n",
    "{valor} R$ em 3X sem juros, as parcelas serão de {parcelas_sem_juros} R$\n",
    "{valor} R$, a Comissão do Vendedor será de {comissao_vendedor} R$''')\n",
    "```\n",
    "\n",
    "Neste código, o usuário é solicitado a inserir um valor. Com base nesse valor, o programa calcula:\n",
    "\n",
    "1. O valor com desconto de 10%;\n",
    "2. O valor de cada parcela em um pagamento em 3 vezes sem juros;\n",
    "3. A comissão do vendedor, que corresponde a 5% do valor total.\n",
    "\n",
    "O programa começa solicitando ao usuário que insira um valor, convertendo essa entrada para um número em ponto flutuante (`float`) e armazenando-o na variável `valor`.\n",
    "\n",
    "Em seguida, são realizados os cálculos mencionados acima e os resultados são armazenados nas variáveis `desconto_10_porcento`, `parcelas_sem_juros` e `comissao_vendedor`.\n",
    "\n",
    "Por fim, o programa exibe uma mensagem que mostra o valor original inserido pelo usuário, o valor com desconto de 10%, o valor das parcelas em um pagamento em 3 vezes sem juros e a comissão do vendedor. As mensagens são formatadas usando f-strings."
   ]
  },
  {
   "cell_type": "code",
   "execution_count": null,
   "metadata": {},
   "outputs": [],
   "source": []
  }
 ],
 "metadata": {
  "kernelspec": {
   "display_name": "base",
   "language": "python",
   "name": "python3"
  },
  "language_info": {
   "codemirror_mode": {
    "name": "ipython",
    "version": 3
   },
   "file_extension": ".py",
   "mimetype": "text/x-python",
   "name": "python",
   "nbconvert_exporter": "python",
   "pygments_lexer": "ipython3",
   "version": "3.11.7"
  }
 },
 "nbformat": 4,
 "nbformat_minor": 2
}
