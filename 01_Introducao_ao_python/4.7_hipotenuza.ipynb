{
 "cells": [
  {
   "cell_type": "markdown",
   "metadata": {},
   "source": [
    "### ***Faça um programa que leia o comprimento do cateto oposto e do cateto adjacente de um triângulo retângulo. Calcule e mostre o comprimento da hipotenusa. from math import hypot***"
   ]
  },
  {
   "cell_type": "code",
   "execution_count": null,
   "metadata": {},
   "outputs": [],
   "source": []
  },
  {
   "cell_type": "markdown",
   "metadata": {},
   "source": [
    "#### ***Codigo Cru sem Comentarios e explicações***"
   ]
  },
  {
   "cell_type": "code",
   "execution_count": 1,
   "metadata": {},
   "outputs": [
    {
     "name": "stdout",
     "output_type": "stream",
     "text": [
      "O Valor da hipotenuza sera de 56.4003546088143\n"
     ]
    }
   ],
   "source": [
    "from math import hypot\n",
    "\n",
    "oposto = float(input('Digite o cateto oposto; '))\n",
    "adjacent = float(input('Digite o cateto adjacente; '))\n",
    "\n",
    "hipotenuza = hypot(oposto, adjacent)\n",
    "\n",
    "print(f'O Valor da hipotenuza sera de {hipotenuza}')"
   ]
  },
  {
   "cell_type": "code",
   "execution_count": null,
   "metadata": {},
   "outputs": [],
   "source": []
  },
  {
   "cell_type": "markdown",
   "metadata": {},
   "source": [
    "#### ***Codigo Documentado***"
   ]
  },
  {
   "cell_type": "markdown",
   "metadata": {},
   "source": [
    "#### ***Explicando o Codigo***"
   ]
  },
  {
   "cell_type": "markdown",
   "metadata": {
    "vscode": {
     "languageId": "plaintext"
    }
   },
   "source": [
    "\n",
    "\n",
    "```python\n",
    "from math import hypot\n",
    "\n",
    "# Solicitar ao usuário que insira o comprimento do cateto oposto\n",
    "oposto = float(input('Digite o cateto oposto: '))\n",
    "\n",
    "# Solicitar ao usuário que insira o comprimento do cateto adjacente\n",
    "adjacente = float(input('Digite o cateto adjacente: '))\n",
    "\n",
    "# Calcular a hipotenusa usando a função hypot() do módulo math\n",
    "hipotenusa = hypot(oposto, adjacent)\n",
    "\n",
    "# Exibir o valor da hipotenusa\n",
    "print(f'O Valor da hipotenusa será de {hipotenusa}')\n",
    "```\n",
    "\n",
    "Explicação do código:\n",
    "\n",
    "1. O código importa a função `hypot` do módulo `math`. Essa função calcula a hipotenusa de um triângulo retângulo dados os comprimentos dos catetos.\n",
    "\n",
    "2. O programa solicita ao usuário que insira o comprimento do cateto oposto e armazena esse valor como um número de ponto flutuante na variável `oposto`.\n",
    "\n",
    "3. Em seguida, solicita ao usuário que insira o comprimento do cateto adjacente e armazena esse valor como um número de ponto flutuante na variável `adjacente`.\n",
    "\n",
    "4. O programa calcula a hipotenusa utilizando a função `hypot(oposto, adjacente)`, onde `oposto` e `adjacente` são os comprimentos dos catetos fornecidos pelo usuário.\n",
    "\n",
    "5. Por fim, o programa exibe o valor da hipotenusa utilizando uma f-string (interpolação de string) do Python para formatar a saída."
   ]
  },
  {
   "cell_type": "code",
   "execution_count": null,
   "metadata": {},
   "outputs": [],
   "source": []
  }
 ],
 "metadata": {
  "kernelspec": {
   "display_name": "base",
   "language": "python",
   "name": "python3"
  },
  "language_info": {
   "codemirror_mode": {
    "name": "ipython",
    "version": 3
   },
   "file_extension": ".py",
   "mimetype": "text/x-python",
   "name": "python",
   "nbconvert_exporter": "python",
   "pygments_lexer": "ipython3",
   "version": "3.11.7"
  }
 },
 "nbformat": 4,
 "nbformat_minor": 2
}
