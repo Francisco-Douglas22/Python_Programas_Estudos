{
 "cells": [
  {
   "cell_type": "markdown",
   "metadata": {},
   "source": [
    "### ***28 - Faça um programa onde o funcionário recebe o salário-base. Calcule o salário com uma gratificação de 5% sobre o salário e depois calcule 7% de imposto de renda, mostre o resultado final do salário***"
   ]
  },
  {
   "cell_type": "code",
   "execution_count": null,
   "metadata": {},
   "outputs": [],
   "source": []
  },
  {
   "cell_type": "markdown",
   "metadata": {},
   "source": [
    "#### ***Codigo Cru sem Comentarios e explicações***"
   ]
  },
  {
   "cell_type": "code",
   "execution_count": 1,
   "metadata": {},
   "outputs": [
    {
     "name": "stdout",
     "output_type": "stream",
     "text": [
      "O Funcionario que ganhava 3500.0 R$ com 5% de Gratificação teve um ganho de 3675.0 R$\n",
      "Com 7% de desconto do Imposto so recebera 3417.75 R$\n"
     ]
    }
   ],
   "source": [
    "salario = float(input('Digite o salario: R$ '))\n",
    "\n",
    "gratificacao = 5\n",
    "salario_final = salario + (gratificacao/100 * salario)\n",
    "\n",
    "desconto = salario_final * 0.93\n",
    "\n",
    "print(f'O Funcionario que ganhava {salario} R$ com 5% de Gratificação teve um ganho de {salario_final} R$')\n",
    "print(f'Com 7% de desconto do Imposto so recebera {desconto:.2f} R$')"
   ]
  },
  {
   "cell_type": "code",
   "execution_count": null,
   "metadata": {},
   "outputs": [],
   "source": []
  },
  {
   "cell_type": "markdown",
   "metadata": {},
   "source": [
    "#### ***Codigo Documentado***"
   ]
  },
  {
   "cell_type": "markdown",
   "metadata": {},
   "source": [
    "#### ***Explicando o Codigo***"
   ]
  },
  {
   "cell_type": "markdown",
   "metadata": {
    "vscode": {
     "languageId": "plaintext"
    }
   },
   "source": []
  },
  {
   "cell_type": "code",
   "execution_count": null,
   "metadata": {},
   "outputs": [],
   "source": []
  }
 ],
 "metadata": {
  "kernelspec": {
   "display_name": "base",
   "language": "python",
   "name": "python3"
  },
  "language_info": {
   "codemirror_mode": {
    "name": "ipython",
    "version": 3
   },
   "file_extension": ".py",
   "mimetype": "text/x-python",
   "name": "python",
   "nbconvert_exporter": "python",
   "pygments_lexer": "ipython3",
   "version": "3.11.7"
  }
 },
 "nbformat": 4,
 "nbformat_minor": 2
}
