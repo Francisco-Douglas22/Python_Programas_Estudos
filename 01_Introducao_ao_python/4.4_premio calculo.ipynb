{
 "cells": [
  {
   "cell_type": "markdown",
   "metadata": {},
   "source": [
    "### ***Três amigos jogaram na loteria. Caso eles ganhem, o prêmio dever ser repartido proporcionalmente ao valor que cada um deu para a aposta. Faça um programa que leia quanto cada apostador investiu, o valor do prêmio, e imprima quanto cada um ganharia com base no valor inves􀆟do***"
   ]
  },
  {
   "cell_type": "code",
   "execution_count": null,
   "metadata": {},
   "outputs": [],
   "source": []
  },
  {
   "cell_type": "markdown",
   "metadata": {},
   "source": [
    "#### ***Codigo Cru sem Comentarios e explicações***"
   ]
  },
  {
   "cell_type": "code",
   "execution_count": 7,
   "metadata": {},
   "outputs": [
    {
     "name": "stdout",
     "output_type": "stream",
     "text": [
      "102.0\n",
      "\n",
      "O Primeiro Apostou 34.0 R$ totalizando 33.33%\n",
      "O Segundo Apostou 23.0 R$ totalizando 22.55%\n",
      "O Terceiro Apostou 45.0 R$ totalizando 44.12%\n",
      " Do premio de 250000000.00 R$\n",
      "O Primeiro Ganhador recebera 83333333.33 R$\n",
      "O Segundo Ganhador recebera 56372549.02 R$\n",
      "O Terceiro Ganhador recebera 110294117.65 R$\n"
     ]
    }
   ],
   "source": [
    "valor_premio = float(input('Digite o valor do Premio: R$ '))\n",
    "\n",
    "p_aposta = float(input('Digite quanto o Primeiro apostou: R$ '))\n",
    "s_aposta = float(input('Digite quanto o Segundo Apostou: R$ '))\n",
    "t_aposta = float(input('Digite quanto o Terceiro Apostou: R$ '))\n",
    "\n",
    "#Calculo valor total da aposta\n",
    "valor_total_aposta = p_aposta + s_aposta + t_aposta\n",
    "print(valor_total_aposta)\n",
    "\n",
    "#Calculo do Percentual de Cada Jogador\n",
    "perc_primeira_aposta = p_aposta * (100 / valor_total_aposta)\n",
    "perc_segunda_aposta = s_aposta * (100 / valor_total_aposta)\n",
    "perc_terceira_aposta = t_aposta * (100 / valor_total_aposta)\n",
    "\n",
    "print(f'''\n",
    "O Primeiro Apostou {p_aposta} R$ totalizando {perc_primeira_aposta:.2f}%\n",
    "O Segundo Apostou {s_aposta} R$ totalizando {perc_segunda_aposta:.2f}%\n",
    "O Terceiro Apostou {t_aposta} R$ totalizando {perc_terceira_aposta:.2f}%''')\n",
    "\n",
    "#Calculo de quanto cada ira receber de premio\n",
    "p_primeiro = valor_premio * (perc_primeira_aposta / 100)\n",
    "p_segundo = valor_premio * (perc_segunda_aposta / 100)\n",
    "p_terceiro = valor_premio * (perc_terceira_aposta / 100)\n",
    "\n",
    "print(f''' Do premio de {valor_premio:.2f} R$\n",
    "O Primeiro Ganhador recebera {p_primeiro:.2f} R$\n",
    "O Segundo Ganhador recebera {p_segundo:.2f} R$\n",
    "O Terceiro Ganhador recebera {p_terceiro:.2f} R$''')\n"
   ]
  },
  {
   "cell_type": "code",
   "execution_count": null,
   "metadata": {},
   "outputs": [],
   "source": []
  },
  {
   "cell_type": "markdown",
   "metadata": {},
   "source": [
    "#### ***Codigo Documentado***"
   ]
  },
  {
   "cell_type": "markdown",
   "metadata": {},
   "source": [
    "#### ***Explicando o Codigo***"
   ]
  },
  {
   "cell_type": "markdown",
   "metadata": {
    "vscode": {
     "languageId": "plaintext"
    }
   },
   "source": [
    "\n",
    "\n",
    "```python\n",
    "# Solicita ao usuário que digite o valor do prêmio\n",
    "valor_premio = float(input('Digite o valor do Prêmio: R$ '))\n",
    "\n",
    "# Solicita ao usuário que digite quanto cada jogador apostou\n",
    "p_aposta = float(input('Digite quanto o Primeiro apostou: R$ '))\n",
    "s_aposta = float(input('Digite quanto o Segundo Apostou: R$ '))\n",
    "t_aposta = float(input('Digite quanto o Terceiro Apostou: R$ '))\n",
    "\n",
    "# Calcula o valor total das apostas\n",
    "valor_total_aposta = p_aposta + s_aposta + t_aposta\n",
    "\n",
    "# Calcula o percentual de cada jogador em relação ao total das apostas\n",
    "perc_primeira_aposta = p_aposta * (100 / valor_total_aposta)\n",
    "perc_segunda_aposta = s_aposta * (100 / valor_total_aposta)\n",
    "perc_terceira_aposta = t_aposta * (100 / valor_total_aposta)\n",
    "\n",
    "# Exibe o valor e o percentual de cada aposta\n",
    "print(f'''\n",
    "O Primeiro Apostou {p_aposta} R$ totalizando {perc_primeira_aposta:.2f}%\n",
    "O Segundo Apostou {s_aposta} R$ totalizando {perc_segunda_aposta:.2f}%\n",
    "O Terceiro Apostou {t_aposta} R$ totalizando {perc_terceira_aposta:.2f}%''')\n",
    "\n",
    "# Calcula quanto cada jogador irá receber do prêmio\n",
    "p_primeiro = valor_premio * (perc_primeira_aposta / 100)\n",
    "p_segundo = valor_premio * (perc_segunda_aposta / 100)\n",
    "p_terceiro = valor_premio * (perc_terceira_aposta / 100)\n",
    "\n",
    "# Exibe quanto cada jogador irá receber do prêmio\n",
    "print(f''' \n",
    "Do prêmio de {valor_premio:.2f} R$\n",
    "O Primeiro Ganhador receberá {p_primeiro:.2f} R$\n",
    "O Segundo Ganhador receberá {p_segundo:.2f} R$\n",
    "O Terceiro Ganhador receberá {p_terceiro:.2f} R$''')\n",
    "```\n",
    "\n",
    "Explicação do código:\n",
    "\n",
    "1. O programa solicita ao usuário que digite o valor do prêmio e quanto cada jogador apostou.\n",
    "\n",
    "2. Calcula o valor total das apostas somando as apostas de cada jogador.\n",
    "\n",
    "3. Calcula o percentual de cada jogador em relação ao valor total das apostas.\n",
    "\n",
    "4. Exibe o valor e o percentual de cada aposta.\n",
    "\n",
    "5. Calcula quanto cada jogador irá receber do prêmio multiplicando o percentual de sua aposta pelo valor total do prêmio.\n",
    "\n",
    "6. Exibe quanto cada jogador irá receber do prêmio."
   ]
  },
  {
   "cell_type": "code",
   "execution_count": null,
   "metadata": {},
   "outputs": [],
   "source": []
  }
 ],
 "metadata": {
  "kernelspec": {
   "display_name": "base",
   "language": "python",
   "name": "python3"
  },
  "language_info": {
   "codemirror_mode": {
    "name": "ipython",
    "version": 3
   },
   "file_extension": ".py",
   "mimetype": "text/x-python",
   "name": "python",
   "nbconvert_exporter": "python",
   "pygments_lexer": "ipython3",
   "version": "3.11.7"
  }
 },
 "nbformat": 4,
 "nbformat_minor": 2
}
