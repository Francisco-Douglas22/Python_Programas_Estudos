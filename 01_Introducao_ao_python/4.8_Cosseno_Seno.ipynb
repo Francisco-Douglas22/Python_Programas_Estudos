{
 "cells": [
  {
   "cell_type": "markdown",
   "metadata": {},
   "source": [
    "### ***Faça um programa que leia um ângulo qualquer e mostre na tela o valor do seno, cosseno e tangente desse ângulo. from math import cos, sin, tan, radians***"
   ]
  },
  {
   "cell_type": "code",
   "execution_count": null,
   "metadata": {},
   "outputs": [],
   "source": []
  },
  {
   "cell_type": "markdown",
   "metadata": {},
   "source": [
    "#### ***Codigo Cru sem Comentarios e explicações***"
   ]
  },
  {
   "cell_type": "code",
   "execution_count": 1,
   "metadata": {},
   "outputs": [
    {
     "name": "stdout",
     "output_type": "stream",
     "text": [
      "O Angulo de 45.0 tera\n",
      "\n",
      "0.7071067811865476 Seno\n",
      "0.7071067811865476 Cosseno\n",
      "0.9999999999999999 Tangente\n"
     ]
    }
   ],
   "source": [
    "from math import radians, cos, sin, tan\n",
    "\n",
    "angulo = float(input('Digite o valor do angulo: '))\n",
    "\n",
    "seno = sin(radians(angulo))\n",
    "cosseno = cos(radians(angulo))\n",
    "tangente = tan(radians(angulo))\n",
    "\n",
    "print(f'O Angulo de {angulo} tera')\n",
    "print(f'''\n",
    "{seno} Seno\n",
    "{cosseno} Cosseno\n",
    "{tangente} Tangente''')"
   ]
  },
  {
   "cell_type": "code",
   "execution_count": null,
   "metadata": {},
   "outputs": [],
   "source": []
  },
  {
   "cell_type": "markdown",
   "metadata": {},
   "source": [
    "#### ***Codigo Documentado***"
   ]
  },
  {
   "cell_type": "markdown",
   "metadata": {},
   "source": [
    "#### ***Explicando o Codigo***"
   ]
  },
  {
   "cell_type": "markdown",
   "metadata": {
    "vscode": {
     "languageId": "plaintext"
    }
   },
   "source": [
    "\n",
    "\n",
    "```python\n",
    "from math import radians, cos, sin, tan\n",
    "\n",
    "# Solicita ao usuário que insira o valor do ângulo\n",
    "angulo = float(input('Digite o valor do angulo: '))\n",
    "\n",
    "# Calcula o seno do ângulo (convertendo o ângulo para radianos usando a função radians)\n",
    "seno = sin(radians(angulo))\n",
    "\n",
    "# Calcula o cosseno do ângulo (convertendo o ângulo para radianos usando a função radians)\n",
    "cosseno = cos(radians(angulo))\n",
    "\n",
    "# Calcula a tangente do ângulo (convertendo o ângulo para radianos usando a função radians)\n",
    "tangente = tan(radians(angulo))\n",
    "\n",
    "# Exibe os resultados\n",
    "print(f'O Angulo de {angulo} graus terá')\n",
    "print(f'''\n",
    "{seno:.2f} Seno\n",
    "{cosseno:.2f} Cosseno\n",
    "{tangente:.2f} Tangente''')\n",
    "```\n",
    "\n",
    "Explicação do código:\n",
    "\n",
    "1. O código importa as funções `radians`, `cos`, `sin` e `tan` do módulo `math`. `radians` é usada para converter graus em radianos, enquanto `cos`, `sin` e `tan` são usadas para calcular o cosseno, seno e tangente, respectivamente, de um ângulo em radianos.\n",
    "\n",
    "2. O programa solicita ao usuário que insira o valor do ângulo em graus e armazena esse valor como um número de ponto flutuante na variável `angulo`.\n",
    "\n",
    "3. Os valores do seno, cosseno e tangente do ângulo são calculados usando as funções `sin`, `cos` e `tan`, respectivamente, após converter o ângulo de graus para radianos usando `radians(angulo)`.\n",
    "\n",
    "4. Os resultados são exibidos usando a função `print`. Os resultados são formatados para exibir o valor com duas casas decimais usando `:.2f`."
   ]
  },
  {
   "cell_type": "code",
   "execution_count": null,
   "metadata": {},
   "outputs": [],
   "source": []
  }
 ],
 "metadata": {
  "kernelspec": {
   "display_name": "base",
   "language": "python",
   "name": "python3"
  },
  "language_info": {
   "codemirror_mode": {
    "name": "ipython",
    "version": 3
   },
   "file_extension": ".py",
   "mimetype": "text/x-python",
   "name": "python",
   "nbconvert_exporter": "python",
   "pygments_lexer": "ipython3",
   "version": "3.11.7"
  }
 },
 "nbformat": 4,
 "nbformat_minor": 2
}
