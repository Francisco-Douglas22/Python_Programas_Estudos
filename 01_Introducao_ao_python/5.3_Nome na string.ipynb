{
 "cells": [
  {
   "cell_type": "markdown",
   "metadata": {},
   "source": [
    "### ***Crie um programa que leia o nome de uma cidade diga se ela começa ou não com o nome “SANTO”***"
   ]
  },
  {
   "cell_type": "code",
   "execution_count": null,
   "metadata": {},
   "outputs": [],
   "source": []
  },
  {
   "cell_type": "markdown",
   "metadata": {},
   "source": [
    "#### ***Codigo Cru sem Comentarios e explicações***"
   ]
  },
  {
   "cell_type": "code",
   "execution_count": 1,
   "metadata": {},
   "outputs": [
    {
     "name": "stdout",
     "output_type": "stream",
     "text": [
      "A Cidade Começa com Santo? True\n",
      "A Cidade Começa com SANTO? False\n",
      "A Cidade Começa com santo? False\n"
     ]
    }
   ],
   "source": [
    "cidade = str(input('Digite o nome da Cidade: ')).title()\n",
    "print(f'A Cidade Começa com Santo? {\"Santo\" in cidade}')\n",
    "print(f'A Cidade Começa com SANTO? {\"SANTO\" in cidade}')\n",
    "print(f'A Cidade Começa com santo? {\"santo\" in cidade}')"
   ]
  },
  {
   "cell_type": "code",
   "execution_count": null,
   "metadata": {},
   "outputs": [],
   "source": []
  },
  {
   "cell_type": "markdown",
   "metadata": {},
   "source": [
    "#### ***Codigo Documentado***"
   ]
  },
  {
   "cell_type": "markdown",
   "metadata": {},
   "source": [
    "#### ***Explicando o Codigo***"
   ]
  },
  {
   "cell_type": "markdown",
   "metadata": {
    "vscode": {
     "languageId": "plaintext"
    }
   },
   "source": [
    "\n",
    "\n",
    "```python\n",
    "# Solicita ao usuário que digite o nome da cidade e armazena-o na variável 'cidade'\n",
    "cidade = str(input('Digite o nome da cidade: ')).title()\n",
    "\n",
    "# Verifica se o nome da cidade começa com \"Santo\" e imprime o resultado\n",
    "print(f'A cidade começa com Santo? {\"Santo\" in cidade}')\n",
    "\n",
    "# Verifica se o nome da cidade começa com \"SANTO\" e imprime o resultado\n",
    "print(f'A cidade começa com SANTO? {\"SANTO\" in cidade}')\n",
    "\n",
    "# Verifica se o nome da cidade começa com \"santo\" e imprime o resultado\n",
    "print(f'A cidade começa com santo? {\"santo\" in cidade}')\n",
    "```\n",
    "\n",
    "**Explicação:**\n",
    "\n",
    "1. **Input do Nome da Cidade:** Solicita ao usuário que digite o nome da cidade e armazena-o na variável `cidade`.\n",
    "\n",
    "2. **Verificação com \"Santo\":** Utiliza a expressão `in` para verificar se o nome da cidade começa com \"Santo\". Esta expressão retorna `True` se \"Santo\" for encontrado no nome da cidade e `False` caso contrário. A função `title()` é usada para garantir que a primeira letra de cada palavra na cidade esteja em maiúscula, independentemente de como o usuário digitou.\n",
    "\n",
    "3. **Verificação com \"SANTO\":** Realiza a mesma verificação anterior, mas desta vez procurando por \"SANTO\" em vez de \"Santo\".\n",
    "\n",
    "4. **Verificação com \"santo\":** Realiza a mesma verificação anterior, mas desta vez procurando por \"santo\" em minúsculas.\n",
    "\n"
   ]
  },
  {
   "cell_type": "code",
   "execution_count": null,
   "metadata": {},
   "outputs": [],
   "source": []
  }
 ],
 "metadata": {
  "kernelspec": {
   "display_name": "base",
   "language": "python",
   "name": "python3"
  },
  "language_info": {
   "codemirror_mode": {
    "name": "ipython",
    "version": 3
   },
   "file_extension": ".py",
   "mimetype": "text/x-python",
   "name": "python",
   "nbconvert_exporter": "python",
   "pygments_lexer": "ipython3",
   "version": "3.11.7"
  }
 },
 "nbformat": 4,
 "nbformat_minor": 2
}
