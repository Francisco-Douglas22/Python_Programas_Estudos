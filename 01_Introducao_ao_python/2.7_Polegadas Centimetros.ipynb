{
 "cells": [
  {
   "cell_type": "markdown",
   "metadata": {},
   "source": [
    "### ***Leia 2 comprimento, Polegadas e Cen􀆡metros, transforme primeiro Polegadas em Centimetros e depois transforme Centimetros em Polegadas.***\n",
    "\n",
    "\n",
    "        Formulas: C = P * 2.54\n",
    "        Formulas: P = C / 2.54"
   ]
  },
  {
   "cell_type": "code",
   "execution_count": null,
   "metadata": {},
   "outputs": [],
   "source": []
  },
  {
   "cell_type": "markdown",
   "metadata": {},
   "source": [
    "#### ***Codigo Cru sem Comentarios e explicações***"
   ]
  },
  {
   "cell_type": "code",
   "execution_count": 1,
   "metadata": {},
   "outputs": [
    {
     "name": "stdout",
     "output_type": "stream",
     "text": [
      "45 Polegadas e equivalente a 114.30 Centimetros\n",
      "45 Centimetros e equivalente a 17.72 Polegadas\n"
     ]
    }
   ],
   "source": [
    "#Variaveis\n",
    "polegadas = int(input('Digite as polegadas: '))\n",
    "centimetros = int(input('Digite os Centimetros: '))\n",
    "\n",
    "#Conversao\n",
    "p_cent = polegadas * 2.54\n",
    "c_pole = centimetros / 2.54\n",
    "\n",
    "print(f'{polegadas} Polegadas e equivalente a {p_cent:.2f} Centimetros')\n",
    "print(f'{centimetros} Centimetros e equivalente a {c_pole:.2f} Polegadas')"
   ]
  },
  {
   "cell_type": "code",
   "execution_count": null,
   "metadata": {},
   "outputs": [],
   "source": []
  },
  {
   "cell_type": "markdown",
   "metadata": {},
   "source": [
    "#### ***Codigo Documentado***"
   ]
  },
  {
   "cell_type": "markdown",
   "metadata": {},
   "source": [
    "#### ***Explicando o Codigo***"
   ]
  },
  {
   "cell_type": "markdown",
   "metadata": {
    "vscode": {
     "languageId": "plaintext"
    }
   },
   "source": [
    "```python\n",
    "# Solicita ao usuário que insira o valor em polegadas e centímetros\n",
    "polegadas = int(input('Digite as polegadas: '))\n",
    "centimetros = int(input('Digite os Centimetros: '))\n",
    "\n",
    "# Converte as polegadas para centímetros multiplicando por 2.54\n",
    "p_cent = polegadas * 2.54\n",
    "\n",
    "# Converte os centímetros para polegadas dividindo por 2.54\n",
    "c_pole = centimetros / 2.54\n",
    "\n",
    "# Exibe o resultado da conversão de polegadas para centímetros com duas casas decimais\n",
    "print(f'{polegadas} Polegadas é equivalente a {p_cent:.2f} Centímetros')\n",
    "\n",
    "# Exibe o resultado da conversão de centímetros para polegadas com duas casas decimais\n",
    "print(f'{centimetros} Centímetros é equivalente a {c_pole:.2f} Polegadas')\n",
    "```\n",
    "\n",
    "Este programa solicita ao usuário que insira um valor em polegadas e outro em centímetros. Em seguida, converte esses valores para a unidade de medida oposta. \n",
    "\n",
    "- Para converter polegadas para centímetros, o programa multiplica o valor em polegadas por 2.54 (já que 1 polegada é igual a 2.54 centímetros).\n",
    "- Para converter centímetros para polegadas, o programa divide o valor em centímetros por 2.54.\n",
    "\n",
    "Por fim, o programa imprime os resultados das conversões com duas casas decimais para uma melhor precisão."
   ]
  },
  {
   "cell_type": "code",
   "execution_count": null,
   "metadata": {},
   "outputs": [],
   "source": []
  }
 ],
 "metadata": {
  "kernelspec": {
   "display_name": "base",
   "language": "python",
   "name": "python3"
  },
  "language_info": {
   "codemirror_mode": {
    "name": "ipython",
    "version": 3
   },
   "file_extension": ".py",
   "mimetype": "text/x-python",
   "name": "python",
   "nbconvert_exporter": "python",
   "pygments_lexer": "ipython3",
   "version": "3.11.7"
  }
 },
 "nbformat": 4,
 "nbformat_minor": 2
}
