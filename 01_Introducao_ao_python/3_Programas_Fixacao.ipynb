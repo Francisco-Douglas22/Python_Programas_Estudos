{
 "cells": [
  {
   "cell_type": "markdown",
   "metadata": {},
   "source": [
    "***1 - Faça um programa que leia 2 números Inteiro some os e mostre na tela o seu sucessor e seu antecessor.***"
   ]
  },
  {
   "cell_type": "code",
   "execution_count": 1,
   "metadata": {},
   "outputs": [
    {
     "name": "stdout",
     "output_type": "stream",
     "text": [
      "O Numero digitado foi 3 e 4, a soma dos numeros e 7\n",
      "O Sucessor de 7 e 8 e seu antecessor e 6\n"
     ]
    }
   ],
   "source": [
    "numero1 = int(input('Primeiro numero: '))\n",
    "numero2 = int(input('Segundo numero: '))\n",
    "\n",
    "#Soma dos Numeros\n",
    "soma = numero1 + numero2\n",
    "\n",
    "#Sucessor e antecessor\n",
    "sucessor = soma + 1\n",
    "antecessor = soma - 1\n",
    "\n",
    "print(f'O Numero digitado foi {numero1} e {numero2}, a soma dos numeros e {soma}')\n",
    "print(f'O Sucessor de {soma} e {sucessor} e seu antecessor e {antecessor}')"
   ]
  },
  {
   "cell_type": "code",
   "execution_count": null,
   "metadata": {},
   "outputs": [],
   "source": []
  },
  {
   "cell_type": "code",
   "execution_count": null,
   "metadata": {},
   "outputs": [],
   "source": []
  },
  {
   "cell_type": "markdown",
   "metadata": {},
   "source": [
    "***2 - Escreva um programa que leia um valor em metros e o exiba conver􀆟do em (Quilometro, Hectômetro, Decâmetro, Decímetro, Cen􀆟metro, Milímetro).***"
   ]
  },
  {
   "cell_type": "code",
   "execution_count": 3,
   "metadata": {},
   "outputs": [
    {
     "name": "stdout",
     "output_type": "stream",
     "text": [
      "O Comprimento de 45.0 Metros e equivalente a \n",
      "\n",
      "0.045 Km Quilometros\n",
      "4.5 Decametros\n",
      "450.0 Decimetros\n",
      "4500.0 Centimetros\n",
      "45000.0 Milimetros\n"
     ]
    }
   ],
   "source": [
    "metros = float(input('Digite o valor em Metros: M '))\n",
    "km = metros / 1000\n",
    "hec = metros / 100\n",
    "deca = metros / 10\n",
    "deci = metros * 10\n",
    "cent = metros * 100\n",
    "mili = metros * 1000\n",
    "\n",
    "print(f'O Comprimento de {metros} Metros e equivalente a ')\n",
    "print(f'''\n",
    "{km} Km Quilometros\n",
    "{deca} Decametros\n",
    "{deci} Decimetros\n",
    "{cent} Centimetros\n",
    "{mili} Milimetros''')"
   ]
  },
  {
   "cell_type": "code",
   "execution_count": null,
   "metadata": {},
   "outputs": [],
   "source": []
  },
  {
   "cell_type": "code",
   "execution_count": null,
   "metadata": {},
   "outputs": [],
   "source": []
  },
  {
   "cell_type": "markdown",
   "metadata": {},
   "source": [
    "***3 - Crie um programa que leia quanto dinheiro uma pessoa tem na carteira e mostre quantos dólares ela poderá comprar***"
   ]
  },
  {
   "cell_type": "code",
   "execution_count": 5,
   "metadata": {},
   "outputs": [
    {
     "name": "stdout",
     "output_type": "stream",
     "text": [
      "A Quantia de 3456.00 R$ com o dolar a5.67 U$ podera compra 609.52 U$\n"
     ]
    }
   ],
   "source": [
    "# Solicita ao usuário que insira o total de dinheiro em reais\n",
    "dinheiro = float(input('Digite o total de dinheiro: R$ '))\n",
    "# Define o valor do dólar em reais\n",
    "valor_dolar = 5.67\n",
    "\n",
    "# Calcula quantos dólares o usuário pode comprar com o dinheiro inserido\n",
    "total_dolares = dinheiro / valor_dolar\n",
    "\n",
    "# Exibe a quantidade de dólares que o usuário pode comprar\n",
    "print(f'A Quantia de {dinheiro:.2f} R$ com o dolar a '\n",
    "      f'{valor_dolar:.2f} U$ podera compra {total_dolares:.2f} U$')\n"
   ]
  },
  {
   "cell_type": "code",
   "execution_count": null,
   "metadata": {},
   "outputs": [],
   "source": []
  },
  {
   "cell_type": "markdown",
   "metadata": {},
   "source": []
  },
  {
   "cell_type": "markdown",
   "metadata": {},
   "source": [
    "***4 - Faça um programa que leia a largura e a altura de uma parede em metros, calcule a sua área e a quantidade de tinta necessária para pintá-la, sabendo que cada litro de tinta pinta uma área de 2 metros quadrados***"
   ]
  },
  {
   "cell_type": "code",
   "execution_count": 1,
   "metadata": {},
   "outputs": [
    {
     "name": "stdout",
     "output_type": "stream",
     "text": [
      "Uma parede de 24.00 Metros² levara 12.00 Litros de tinta para ser pintada\n"
     ]
    }
   ],
   "source": [
    "# Solicita ao usuário a altura da parede em metros\n",
    "altura = float(input('Altura da parede: '))\n",
    "\n",
    "# Solicita ao usuário a largura da parede em metros\n",
    "largura = float(input('Largura da parede: '))\n",
    "\n",
    "# Calcula a área da parede em metros quadrados\n",
    "metros_q = altura * largura\n",
    "\n",
    "# Calcula a quantidade de tinta necessária em litros, considerando que cada litro pinta 2 metros quadrados\n",
    "litros_tinta = metros_q / 2\n",
    "\n",
    "# Exibe a área da parede e a quantidade de tinta necessária para pintá-la\n",
    "print(f'Uma parede de {metros_q:.2f} Metros² levara {litros_tinta:.2f} Litros de tinta para ser pintada')\n"
   ]
  },
  {
   "cell_type": "code",
   "execution_count": null,
   "metadata": {},
   "outputs": [],
   "source": []
  },
  {
   "cell_type": "code",
   "execution_count": null,
   "metadata": {},
   "outputs": [],
   "source": []
  },
  {
   "cell_type": "markdown",
   "metadata": {},
   "source": [
    "***5 - Faça um algoritmo que leia o nome e o salário de um funcionário e mostre seu novo salário, com 15% de aumento***"
   ]
  },
  {
   "cell_type": "code",
   "execution_count": 2,
   "metadata": {},
   "outputs": [
    {
     "name": "stdout",
     "output_type": "stream",
     "text": [
      "O Funcionario que ganhava 4567.0 R$ com 15% de aumento passara a ganha 5252.05 R$\n"
     ]
    }
   ],
   "source": [
    "# Solicita ao usuário o salário do funcionário em reais\n",
    "salario = float(input('Digite o seu salario: R$ '))\n",
    "\n",
    "# Define o percentual de aumento como 15%\n",
    "aumento = 15\n",
    "\n",
    "# Calcula o novo salário com o aumento de 15%\n",
    "novo_salario = salario * (aumento / 100) + salario\n",
    "\n",
    "# Exibe o novo salário do funcionário após o aumento de 15%\n",
    "print(f'O Funcionario que ganhava {salario} R$ com 15% de aumento passara a ganha {novo_salario:.2f} R$')\n"
   ]
  },
  {
   "cell_type": "code",
   "execution_count": null,
   "metadata": {},
   "outputs": [],
   "source": []
  },
  {
   "cell_type": "code",
   "execution_count": null,
   "metadata": {},
   "outputs": [],
   "source": []
  },
  {
   "cell_type": "markdown",
   "metadata": {},
   "source": [
    "***6 - Escreva um programa que pergunte a quan􀆟dade de Km percorridos por um carro alugado e a quantidade de dias pelos quais ele foi alugado. Calcule o preço a pagar, sabendo que o carro custa R$60 por dia e R$0,15 por Km rodado***"
   ]
  },
  {
   "cell_type": "code",
   "execution_count": 4,
   "metadata": {},
   "outputs": [
    {
     "name": "stdout",
     "output_type": "stream",
     "text": [
      "Um carro que percorreu 800.0 km em 4 dias\n",
      "Tera um custo total de 360.00 R$\n"
     ]
    }
   ],
   "source": [
    "# Solicita ao usuário a quantidade de Km percorridos pelo carro\n",
    "km_percorridos = float(input('Quantidade de Km percorridos: '))\n",
    "\n",
    "# Solicita ao usuário a quantidade de dias pelos quais o carro foi alugado\n",
    "dias_alugados = int(input('Dias que ficou alugado: '))\n",
    "\n",
    "# Calcula o custo total, considerando o custo por dia e por Km rodado\n",
    "custo_total = (km_percorridos * 0.15) + (dias_alugados * 60)\n",
    "\n",
    "# Exibe a quantidade de Km percorridos e dias alugados\n",
    "print(f'Um carro que percorreu {km_percorridos} km em {dias_alugados} dias')\n",
    "\n",
    "# Exibe o custo total a ser pago\n",
    "print(f'Tera um custo total de {custo_total:.2f} R$')\n"
   ]
  },
  {
   "cell_type": "code",
   "execution_count": null,
   "metadata": {},
   "outputs": [],
   "source": []
  },
  {
   "cell_type": "code",
   "execution_count": null,
   "metadata": {},
   "outputs": [],
   "source": []
  },
  {
   "cell_type": "markdown",
   "metadata": {},
   "source": [
    "***7 - Faça um programa que leia o valor de um produto e imprima o valor com desconto, tendo em vista que desconto foi de 12%***"
   ]
  },
  {
   "cell_type": "code",
   "execution_count": 7,
   "metadata": {},
   "outputs": [
    {
     "name": "stdout",
     "output_type": "stream",
     "text": [
      "O Notbook que custava 4500.0 R$ com 12% de desconto passara a custa 3960.00 R4\n"
     ]
    }
   ],
   "source": [
    "# Solicita ao usuário o nome do produto e converte para formato de título\n",
    "produto = str(input('Nome do Produto: ')).title()\n",
    "# Solicita ao usuário o valor do produto e converte para float\n",
    "valor = float(input(f'Valor do {produto}: '))\n",
    "\n",
    "# Define o percentual de desconto como 12%\n",
    "desconto = 12\n",
    "\n",
    "# Calcula o novo preço do produto com o desconto de 12%\n",
    "novo_preco = valor - (valor * (desconto / 100))\n",
    "\n",
    "print(f'O {produto} que custava {valor} R$ com 12% de desconto passara a custa {novo_preco:.2f} R$')\n"
   ]
  },
  {
   "cell_type": "code",
   "execution_count": null,
   "metadata": {},
   "outputs": [],
   "source": []
  },
  {
   "cell_type": "code",
   "execution_count": null,
   "metadata": {},
   "outputs": [],
   "source": []
  },
  {
   "cell_type": "markdown",
   "metadata": {},
   "source": [
    "***8 - A importância de R$ 780.000,00 será dividida entre três ganhadores de um concurso. Sendo que da quantia total.***\n",
    "\n",
    "\n",
    "        a. O primeiro ganhador receberá 46%\n",
    "        b. O segundo recebera 32%\n",
    "        c. O terceiro recebera o restante calcule quanto cada ganhador irá receber"
   ]
  },
  {
   "cell_type": "code",
   "execution_count": 13,
   "metadata": {},
   "outputs": [
    {
     "name": "stdout",
     "output_type": "stream",
     "text": [
      "Do premio de 780000 R$ sera dividido\n",
      "358800.00 Para o primeiro ganhador\n",
      "249600.00 Para o segundo ganhador\n",
      "171600.00 Para o terceiro ganhador\n"
     ]
    }
   ],
   "source": [
    "# Define o valor total do prêmio\n",
    "premio = 780000\n",
    "\n",
    "# Define o percentual do prêmio para o primeiro ganhador como 46%\n",
    "primeiro = 46\n",
    "# Define o percentual do prêmio para o segundo ganhador como 32%\n",
    "segundo = 32\n",
    "# Inicializa a variável para o terceiro ganhador, que será calculado posteriormente\n",
    "\n",
    "terceiro = None\n",
    "\n",
    "# Calcula o prêmio para o primeiro ganhador, considerando 46% do total\n",
    "p_primeiro = premio * (primeiro / 100)\n",
    "p_segundo = premio * (segundo / 100)\n",
    "\n",
    "# Calcula o prêmio para o segundo ganhador, considerando 32% do total\n",
    "p_terceiro = premio - (p_primeiro + p_segundo)\n",
    "\n",
    "# Exibe o valor total do prêmio\n",
    "print(f'Do premio de {premio} R$ sera dividido')\n",
    "print(f'{p_primeiro:.2f} Para o primeiro ganhador')\n",
    "print(f'{p_primeiro:.2f} Para o primeiro ganhador')\n",
    "print(f'{p_segundo:.2f} Para o segundo ganhador')\n",
    "print(f'{p_segundo:.2f} Para o segundo ganhador')\n",
    "print(f'{p_terceiro:.2f} Para o terceiro ganhador')\n",
    "print(f'{p_terceiro:.2f} Para o terceiro ganhador')\n",
    "\n"
   ]
  },
  {
   "cell_type": "code",
   "execution_count": null,
   "metadata": {},
   "outputs": [],
   "source": []
  },
  {
   "cell_type": "code",
   "execution_count": null,
   "metadata": {},
   "outputs": [],
   "source": []
  },
  {
   "cell_type": "markdown",
   "metadata": {},
   "source": [
    "9 - Escreva um programa de ajuda para vendedores. A partir de um valor total lido, mostre\n",
    "\n",
    "        a. O Total a pagar com 10% de desconto\n",
    "        b. O Valor de cada parcela, no parcelamento de 3x sem juros\n",
    "        c. A comissão do vendedor de %5 no caso de venda à vista"
   ]
  },
  {
   "cell_type": "code",
   "execution_count": 14,
   "metadata": {},
   "outputs": [
    {
     "name": "stdout",
     "output_type": "stream",
     "text": [
      "O valor do Produto e de 4500.0 R$ \n",
      "Com 10% de desconto passara a ser 4050.0\n",
      "Parcelado em 3X as parcelas ficaram de 1500.0\n",
      "A Comissão da vendedora sera de 225.0\n"
     ]
    }
   ],
   "source": [
    "# Solicita ao usuário o valor do produto em reais\n",
    "valor_produto = float(input('Valor do Produto: R$ '))\n",
    "\n",
    "# Exibe o valor original do produto\n",
    "print(f'O valor do Produto e de {valor_produto} R$ ')\n",
    "print(f'Com 10% de desconto passara a ser {valor_produto * 0.90} R$')\n",
    "\n",
    "# Calcula e exibe o valor de cada parcela no parcelamento de 3x sem juros\n",
    "print(f'Parcelado em 3X as parcelas ficaram de {valor_produto / 3:.2f} R$')\n",
    "\n",
    "# Calcula e exibe a comissão do vendedor de 5% no caso de venda à vista\n",
    "print(f'A Comissão da vendedora sera de {valor_produto * 0.05:.2f} R$')\n"
   ]
  },
  {
   "cell_type": "code",
   "execution_count": null,
   "metadata": {},
   "outputs": [],
   "source": []
  },
  {
   "cell_type": "code",
   "execution_count": null,
   "metadata": {},
   "outputs": [],
   "source": []
  },
  {
   "cell_type": "markdown",
   "metadata": {},
   "source": [
    "***10 - Em uma construção o Pedreiro deseja fazer o cálculo para uma escada, para isso ele deseja cria degraus para idosos de 15CM. Faça um programa onde Receba a Altura da Escada e calcule quantos degraus irá precisa essa escada.***"
   ]
  },
  {
   "cell_type": "code",
   "execution_count": 15,
   "metadata": {},
   "outputs": [
    {
     "name": "stdout",
     "output_type": "stream",
     "text": [
      "Uma escada de 3 Metros de altura precisara de 20.00 Degraus de 15CM\n"
     ]
    }
   ],
   "source": [
    "# Solicita ao usuário a altura da escada em metros.\n",
    "altura = int(input('Altura da escada: '))\n",
    "\n",
    "# Calcula a quantidade de degraus necessários dividindo a altura da escada\n",
    "# pela altura de cada degrau (15cm).\n",
    "degraus = altura / 0.15\n",
    "\n",
    "# Exibe o resultado, informando a altura da escada e a quantidade de degraus\n",
    "# necessários, com duas casas decimais.\n",
    "print(f'Uma escada de {altura} Metros de altura precisara '\n",
    "      f'de {degraus:.2f} Degraus de 15CM')\n"
   ]
  },
  {
   "cell_type": "code",
   "execution_count": null,
   "metadata": {},
   "outputs": [],
   "source": []
  },
  {
   "cell_type": "code",
   "execution_count": null,
   "metadata": {},
   "outputs": [],
   "source": []
  },
  {
   "cell_type": "markdown",
   "metadata": {},
   "source": [
    "***11 - Faça um programa que leia um número inteiro posi􀆟vo de três dígitos (de 100 a 999) Gere um outro número formado de dígitos inver􀆟dos do número: Exemplo 123 = 321***"
   ]
  },
  {
   "cell_type": "code",
   "execution_count": 20,
   "metadata": {},
   "outputs": [
    {
     "name": "stdout",
     "output_type": "stream",
     "text": [
      "O Numero digitado foi 345 o inverso e 543\n"
     ]
    }
   ],
   "source": [
    "'''11 - Faça um programa que leia um número inteiro possível de três dígitos (de 100 a 999)\n",
    "Gere um outro número formado de dígitos invertidos do número: Exemplo 123 = 321'''\n",
    "\n",
    "# Solicita ao usuário que digite um número inteiro de três dígitos.\n",
    "# A função int() é usada para converter a entrada do usuário em um número inteiro.\n",
    "numero = int(input('Digite um numero inteiro; '))\n",
    "\n",
    "# Converte o número inteiro para uma string e inverte a ordem dos caracteres.\n",
    "# A notação [::-1] é usada para inverter a string.\n",
    "invertido = str(numero)[::-1]\n",
    "\n",
    "# Exibe o número original e seu inverso.\n",
    "# A função int() é usada para converter a string invertida de volta para um número inteiro.\n",
    "print(f'O Numero digitado foi {numero} o inverso e {int(invertido)}')\n"
   ]
  },
  {
   "cell_type": "code",
   "execution_count": null,
   "metadata": {},
   "outputs": [],
   "source": []
  },
  {
   "cell_type": "code",
   "execution_count": null,
   "metadata": {},
   "outputs": [],
   "source": []
  },
  {
   "cell_type": "markdown",
   "metadata": {},
   "source": [
    "***12 - Crie um programa que leia o ano de uma pessoa e calcule sua idade a par􀆟r da data atual***"
   ]
  },
  {
   "cell_type": "code",
   "execution_count": 22,
   "metadata": {},
   "outputs": [
    {
     "name": "stdout",
     "output_type": "stream",
     "text": [
      "A pessoa que nasceu em 1995 no ano atual 2024 tem ou fara 29 anos\n"
     ]
    }
   ],
   "source": [
    "# Importa a classe 'date' do módulo 'datetime' para trabalhar com datas.\n",
    "from datetime import date\n",
    "\n",
    "# Obtém o ano atual usando a função 'today().year' da classe 'date'.\n",
    "atual = date.today().year\n",
    "\n",
    "# Solicita ao usuário que digite o ano de nascimento da pessoa.\n",
    "nascimento = int(input('Digite seu ano de nascimento: '))\n",
    "\n",
    "# Calcula a idade da pessoa subtraindo o ano de nascimento do ano atual.\n",
    "idade = atual - nascimento\n",
    "\n",
    "# Exibe a idade da pessoa, informando o ano de nascimento e o ano atual.\n",
    "print(f'A pessoa que nasceu em {nascimento} no ano atual {atual} tem ou fara {idade} anos')\n"
   ]
  },
  {
   "cell_type": "code",
   "execution_count": null,
   "metadata": {},
   "outputs": [],
   "source": []
  },
  {
   "cell_type": "code",
   "execution_count": null,
   "metadata": {},
   "outputs": [],
   "source": []
  },
  {
   "cell_type": "markdown",
   "metadata": {},
   "source": [
    "13 - Três amigos jogaram na loteria. Caso eles ganhem, o prêmio dever ser repartido proporcionalmente ao valor que cada um deu para a aposta. Faça um programa que leia quanto cada apostador investiu, o valor do prêmio, e imprima quanto cada um ganharia com base no valor investido"
   ]
  },
  {
   "cell_type": "code",
   "execution_count": 28,
   "metadata": {},
   "outputs": [
    {
     "name": "stdout",
     "output_type": "stream",
     "text": [
      "O Valor total do premio e de 345678.0 R$\n",
      "A Divisão do Premio sera nas seguintes condições\n",
      "Cada apostador apostou determinado valor sendo que sera dividido conforme\n",
      "Primeiro: Apostou 22.37%, recebera o valor de 77322.71 R$\n",
      "Segundo: Apostou 36.18%, recebera de premio 125080.86 R$\n",
      "Terceiro: Apostou 41.45%, recebera 143274.43 R$ de Premio\n"
     ]
    }
   ],
   "source": [
    "aposta1 = int(input('Quanto o primeiro apostou: R$ '))\n",
    "aposta2 = int(input('Quanto o segundo apostou:  R$ '))\n",
    "aposta3 = int(input('Quanto o terceiro apostou: R$ '))\n",
    "\n",
    "#Valor do premio\n",
    "valor_premio = float(input('Valor do Premio:  R$ '))\n",
    "print(f'O Valor total do premio e de {valor_premio} R$')\n",
    "\n",
    "#Calculo do valor total das apostas somadas\n",
    "aposta_total = aposta1 + aposta2 + aposta3\n",
    "\n",
    "#Calculo do percentual que cada apostou\n",
    "percentual_1 = aposta1 * (100 / aposta_total)\n",
    "percentual_2 = aposta2 * (100 / aposta_total)\n",
    "percentual_3 = aposta3 * (100 / aposta_total)\n",
    "\n",
    "#Calculo dos valores a receber\n",
    "ganho_1 = valor_premio * (percentual_1 / 100)\n",
    "ganho_2 = valor_premio * (percentual_2 / 100)\n",
    "ganho_3 = valor_premio * (percentual_3 / 100)\n",
    "\n",
    "print(f'A Divisão do Premio sera nas seguintes condições')\n",
    "print(f'Cada apostador apostou determinado valor sendo que sera dividido conforme')\n",
    "print(f'Primeiro: Apostou {percentual_1:.2f}%, recebera o valor de {ganho_1:.2f} R$')\n",
    "print(f'Segundo: Apostou {percentual_2:.2f}%, recebera de premio {ganho_2:.2f} R$')\n",
    "print(f'Terceiro: Apostou {percentual_3:.2f}%, recebera {ganho_3:.2f} R$ de Premio')"
   ]
  },
  {
   "cell_type": "code",
   "execution_count": null,
   "metadata": {},
   "outputs": [],
   "source": []
  },
  {
   "cell_type": "code",
   "execution_count": null,
   "metadata": {},
   "outputs": [],
   "source": []
  },
  {
   "cell_type": "markdown",
   "metadata": {},
   "source": [
    "***14 - Crie um programa que leia um número Real qualquer pelo teclado e mostre na tela a sua porção Inteira***"
   ]
  },
  {
   "cell_type": "code",
   "execution_count": 1,
   "metadata": {},
   "outputs": [
    {
     "name": "stdout",
     "output_type": "stream",
     "text": [
      "O Numero 3456.0 truncado e 3456\n",
      "O Numero com 0 casas decimais e 3456\n",
      "O Numero convertido para inteiro e 3456\n"
     ]
    }
   ],
   "source": [
    "'''14 - Crie um programa que leia um número Real qualquer pelo teclado e mostre na \n",
    "tela'''\n",
    "\n",
    "# Importa a função trunc da biblioteca math para truncar números\n",
    "from math import trunc\n",
    "\n",
    "# Solicita ao usuário que insira um número real\n",
    "numero = float(input('Digite o numer real: '))\n",
    "# Exibe o número inserido pelo usuário e sua porção inteira usando a função trunc\n",
    "print(f'O Numero {numero} truncado e {trunc(numero)}')\n",
    "# Exibe o número inserido pelo usuário com 0 casas decimais\n",
    "print(f'O Numero com 0 casas decimais e {numero:.0f}')\n",
    "# Exibe o número inserido pelo usuário convertido para inteiro\n",
    "print(f'O Numero convertido para inteiro e {int(numero)}')\n"
   ]
  },
  {
   "cell_type": "code",
   "execution_count": null,
   "metadata": {},
   "outputs": [],
   "source": []
  },
  {
   "cell_type": "code",
   "execution_count": null,
   "metadata": {},
   "outputs": [],
   "source": []
  },
  {
   "cell_type": "markdown",
   "metadata": {},
   "source": [
    "***15 - Faça um programa que leia o comprimento do cateto oposto e do cateto adjacente de um triângulo retângulo. Calcule e mostre o comprimento da hipotenusa.***"
   ]
  },
  {
   "cell_type": "code",
   "execution_count": 3,
   "metadata": {},
   "outputs": [
    {
     "name": "stdout",
     "output_type": "stream",
     "text": [
      "O Valor da hipotenuza sera de 56.40\n"
     ]
    }
   ],
   "source": [
    "from math import hypot\n",
    "\n",
    "# Solicita ao usuário que insira o comprimento do cateto oposto\n",
    "cateto = int(input('Digite o cateto oposto: '))\n",
    "# Solicita ao usuário que insira o comprimento do cateto adjacente\n",
    "adjacente = int(input('Digite o cateto adjacente: '))\n",
    "\n",
    "# Calcula a hipotenusa usando a função hypot, passando os comprimentos \n",
    "# dos catetos oposto e adjacente\n",
    "hipotenuza = hypot(cateto, adjacente)\n",
    "\n",
    "# Exibe o resultado da hipotenusa com duas casas decimais\n",
    "print(f'O Valor da hipotenuza sera de {hipotenuza:.2f}')\n"
   ]
  },
  {
   "cell_type": "code",
   "execution_count": null,
   "metadata": {},
   "outputs": [],
   "source": []
  },
  {
   "cell_type": "code",
   "execution_count": null,
   "metadata": {},
   "outputs": [],
   "source": []
  },
  {
   "cell_type": "markdown",
   "metadata": {},
   "source": [
    "***16 - Faça um programa que leia um ângulo qualquer e mostre na tela o valor do seno, cosseno e tangente desse ângulo. from math import cos, sin, tan, radians***"
   ]
  },
  {
   "cell_type": "code",
   "execution_count": 6,
   "metadata": {},
   "outputs": [
    {
     "name": "stdout",
     "output_type": "stream",
     "text": [
      "\n",
      "O Angulo de 34 tera os valores de:\n",
      "0.5592 Seno\n",
      "0.8290 Cosseno\n",
      "0.6745 Tangente\n"
     ]
    }
   ],
   "source": [
    "# Importa as funções que vamos usar para calcular seno, cosseno e tangente\n",
    "from math import cos, sin, tan, radians\n",
    "\n",
    "# Pede ao usuário para digitar um ângulo em graus\n",
    "angulo = int(input('Digite o valor do angulo: '))\n",
    "\n",
    "# Calcula o seno do ângulo, convertendo-o para radianos primeiro\n",
    "seno = sin(radians(angulo))\n",
    "# Calcula a tangente do ângulo, convertendo-o para radianos primeiro\n",
    "tangente = tan(radians(angulo))\n",
    "# Calcula o cosseno do ângulo, convertendo-o para radianos primeiro\n",
    "cosseno = cos(radians(angulo))\n",
    "\n",
    "# Mostra os resultados do seno, cosseno e tangente do ângulo, \n",
    "# formatados com 4 casas decimais\n",
    "print(f'''\n",
    "O ângulo de {angulo} graus terá os seguintes valores:\n",
    "{seno:.4f} para o seno\n",
    "{cosseno:.4f} para o cosseno\n",
    "{tangente:.4f} para a tangente''')\n"
   ]
  },
  {
   "cell_type": "code",
   "execution_count": null,
   "metadata": {},
   "outputs": [],
   "source": []
  },
  {
   "cell_type": "code",
   "execution_count": null,
   "metadata": {},
   "outputs": [],
   "source": []
  },
  {
   "cell_type": "markdown",
   "metadata": {},
   "source": [
    "***17 - Um professor que escolher entre 4 alunos da sala quem irá apaga o quadro, e depois esse mesmo professor quer sortear uma ordem de apresentação de trabalho entre esses 4 alunos. Faça um programa que ajude esse professor escolhendo o aluno e a ordem de apresentação***"
   ]
  },
  {
   "cell_type": "code",
   "execution_count": 12,
   "metadata": {},
   "outputs": [
    {
     "name": "stdout",
     "output_type": "stream",
     "text": [
      "Os alunos que iram passa pelo sorteiro serão. ['Amanda', 'Miguel', 'Artur', 'Ravi']\n",
      "O Aluno escolhido para apaga o Quadro sera Amanda\n",
      "Entre os 4 alunos a ordem de apresentação sera ['Miguel', 'Ravi', 'Artur', 'Amanda']\n"
     ]
    }
   ],
   "source": [
    "# Importa as funções choice e shuffle da biblioteca random, que serão \n",
    "# usadas para escolher um aluno aleatoriamente e embaralhar a lista de alunos\n",
    "from random import choice, shuffle\n",
    "\n",
    "#Variaveis para os nomes dos alunos\n",
    "a1 = str(input('Primeiro aluno: ')).title()\n",
    "a2 = str(input('Segundo aluno: ')).title()\n",
    "a3 = str(input('Terceiro aluno: ')).title()\n",
    "a4 = str(input('Quarto aluno: ')).title()\n",
    "\n",
    "# Cria uma lista com os nomes dos alunos depois imprimir\n",
    "alunos = [a1, a2, a3, a4]\n",
    "print(f'Os alunos que iram passa pelo sorteiro serão. {alunos}')\n",
    "\n",
    "# Escolhe um aluno aleatoriamente da lista e mostra qual será o escolhido para apagar o quadro\n",
    "print(f'O Aluno escolhido para apaga o Quadro sera {choice(alunos)}')\n",
    "\n",
    "# Cria uma cópia da lista de alunos para embaralhar sem alterar a lista original\n",
    "embaralhados = alunos.copy()\n",
    "shuffle(embaralhados)\n",
    "\n",
    "# Mostra a ordem de apresentação dos alunos após o embaralhamento\n",
    "print(f'Entre os 4 alunos a ordem de apresentação sera {embaralhados}')\n"
   ]
  },
  {
   "cell_type": "code",
   "execution_count": null,
   "metadata": {},
   "outputs": [],
   "source": []
  },
  {
   "cell_type": "code",
   "execution_count": null,
   "metadata": {},
   "outputs": [],
   "source": []
  },
  {
   "cell_type": "markdown",
   "metadata": {},
   "source": [
    "***18 - Um grupo de garotos deseja cria um programa que toque um Áudio Mp3, esse programa deverá receber 3 opções, seleciona música, inicia música e tempo que irá toca.***"
   ]
  },
  {
   "cell_type": "code",
   "execution_count": 16,
   "metadata": {},
   "outputs": [],
   "source": [
    "# Importação das bibliotecas necessárias\n",
    "from pygame import mixer\n",
    "from time import sleep\n",
    "\n",
    "# Inicialização do mixer do Pygame\n",
    "mixer.init()\n",
    "\n",
    "# Carregamento do arquivo de música para reprodução\n",
    "mixer.music.load('thunder.mp3')\n",
    "\n",
    "# Solicita ao usuário a seleção de uma música (não utilizado no código)\n",
    "opcao1 = int(input('Digite o numero [0] para seleciona a musica: '))\n",
    "\n",
    "# Solicita ao usuário a opção de tocar a música\n",
    "opcao2 = int(input('Digite o numero [1] para toca a musica: '))\n",
    "\n",
    "# Solicita ao usuário o tempo de reprodução da música\n",
    "opcao3 = int(input('Digite o tempo que ira toca a musica: '))\n",
    "\n",
    "# Condição para reprodução da música\n",
    "if opcao2 == 1:\n",
    "    # Início da reprodução da música\n",
    "    mixer.music.play()\n",
    "    # Pausa a execução do programa pelo tempo definido pelo usuário\n",
    "    sleep(opcao3)\n"
   ]
  },
  {
   "cell_type": "code",
   "execution_count": null,
   "metadata": {},
   "outputs": [],
   "source": []
  },
  {
   "cell_type": "code",
   "execution_count": null,
   "metadata": {},
   "outputs": [],
   "source": []
  },
  {
   "cell_type": "markdown",
   "metadata": {},
   "source": [
    "19 - Crie um programa que leia o nome completo de uma pessoa e mostre:\n",
    "\n",
    "\n",
    "        • O nome com todas as letras maiúsculas e minúsculas.\n",
    "        • Quantas letras ao todo (sem considerar espaços).\n",
    "        • Quantas letras tem o primeiro nome.\n",
    "        • O nome ao inverso\n",
    "        • Se o nome tem algum palíndromo"
   ]
  },
  {
   "cell_type": "code",
   "execution_count": 19,
   "metadata": {},
   "outputs": [
    {
     "name": "stdout",
     "output_type": "stream",
     "text": [
      "Seu nome completo e Francisco Douglas De Sosua\n",
      "Seu nome em Maiusculas e FRANCISCO DOUGLAS DE SOSUA\n",
      "Seu nome em Minusculas e francisco douglas de sosua\n",
      "Seu nome tem ao todo 23\n",
      "Seu primeiro nome tem 9 letras\n",
      "Seu ultimo nome tem 5 letras\n",
      "Seu nome completo inverso e ausoS eD salguoD ocsicnarF\n",
      "Seu nome nao tem palindromo\n"
     ]
    }
   ],
   "source": [
    "# Solicita ao usuário que insira seu nome completo e o armazena na variável 'nome_completo'\n",
    "nome_completo = str(input('Digite seu nome completo: ')).title()\n",
    "\n",
    "# Imprime o nome completo fornecido pelo usuário\n",
    "print(f'Seu nome completo é {nome_completo}')\n",
    "\n",
    "# Imprime o nome completo em letras maiúsculas\n",
    "print(f'Seu nome em maiúsculas é {nome_completo.upper()}')\n",
    "\n",
    "# Imprime o nome completo em letras minúsculas\n",
    "print(f'Seu nome em minúsculas é {nome_completo.lower()}')\n",
    "\n",
    "# Conta o número de caracteres no nome completo, excluindo os espaços em branco\n",
    "print(f'Seu nome tem ao todo {len(nome_completo) - nome_completo.count(\" \")} caracteres')\n",
    "\n",
    "# Divide o nome completo em partes separadas e armazena em 'nome'\n",
    "nome = nome_completo.split()\n",
    "\n",
    "# Imprime o número de letras no primeiro nome\n",
    "print(f'Seu primeiro nome tem {len(nome[0])} letras')\n",
    "\n",
    "# Imprime o número de letras no último nome\n",
    "print(f'Seu último nome tem {len(nome[-1])} letras')\n",
    "\n",
    "# Inverte o nome completo e armazena em 'inverso'\n",
    "inverso = nome_completo[::-1]\n",
    "\n",
    "# Imprime o nome completo invertido\n",
    "print(f'Seu nome completo invertido é {inverso}')\n",
    "\n",
    "# Verifica se o nome completo é um palíndromo e imprime o resultado\n",
    "if inverso == nome_completo:\n",
    "    print('Seu nome é um palíndromo')\n",
    "else:\n",
    "    print('Seu nome não é um palíndromo')\n"
   ]
  },
  {
   "cell_type": "code",
   "execution_count": null,
   "metadata": {},
   "outputs": [],
   "source": []
  },
  {
   "cell_type": "code",
   "execution_count": null,
   "metadata": {},
   "outputs": [],
   "source": []
  },
  {
   "cell_type": "markdown",
   "metadata": {},
   "source": [
    "***20 - Faça um programa que leia um número de 0 a 9999 e mostre na tela cada um dos dígitos separados***"
   ]
  },
  {
   "cell_type": "code",
   "execution_count": 20,
   "metadata": {},
   "outputs": [
    {
     "name": "stdout",
     "output_type": "stream",
     "text": [
      "O Numero 4567 tem ao todo\n",
      "\n",
      "7 Unidades\n",
      "6 Dezenas\n",
      "5 Centenas\n",
      "4 Milhar\n"
     ]
    }
   ],
   "source": [
    "# Solicita ao usuário que insira um número e o converte para inteiro\n",
    "numero = int(input('Digite o número: '))\n",
    "\n",
    "# Calcula as unidades, dezenas, centenas e milhares do número fornecido\n",
    "unidade = numero // 1 % 10\n",
    "dezenas = numero // 10 % 10\n",
    "centenas = numero // 100 % 10\n",
    "milhar = numero // 1000 % 10\n",
    "\n",
    "# Imprime o número fornecido e a contagem das unidades, dezenas, centenas e milhares\n",
    "print(f'O número {numero} tem ao todo:')\n",
    "print(f'''\n",
    "{unidade} Unidades\n",
    "{dezenas} Dezenas\n",
    "{centenas} Centenas\n",
    "{milhar} Milhar\n",
    "''')\n"
   ]
  },
  {
   "cell_type": "code",
   "execution_count": null,
   "metadata": {},
   "outputs": [],
   "source": []
  },
  {
   "cell_type": "code",
   "execution_count": null,
   "metadata": {},
   "outputs": [],
   "source": []
  },
  {
   "cell_type": "markdown",
   "metadata": {},
   "source": [
    "***21 - Crie um programa que leia o nome de uma cidade diga se ela começa ou não com o nome “SANTO”***"
   ]
  },
  {
   "cell_type": "code",
   "execution_count": 21,
   "metadata": {},
   "outputs": [
    {
     "name": "stdout",
     "output_type": "stream",
     "text": [
      "False\n",
      "True\n",
      "False\n"
     ]
    }
   ],
   "source": [
    "# Solicita ao usuário que insira o nome da cidade e o armazena na variável 'cidade'\n",
    "cidade = str(input('Nome da cidade: '))\n",
    "\n",
    "# Verifica se o nome da cidade começa com \"Santo\" (considerando maiúsculas)\n",
    "print(f'O nome da cidade começa com \"Santo\": {cidade[:5] == \"SANTO\"}')\n",
    "\n",
    "# Verifica se o nome da cidade começa com \"santo\" (considerando minúsculas)\n",
    "print(f'O nome da cidade começa com \"santo\": {cidade[:5] == \"santo\"}')\n",
    "\n",
    "# Verifica se o nome da cidade começa com \"Santo\" (primeira letra maiúscula)\n",
    "print(f'O nome da cidade começa com \"Santo\": {cidade[:5] == \"Santo\"}')\n"
   ]
  },
  {
   "cell_type": "code",
   "execution_count": null,
   "metadata": {},
   "outputs": [],
   "source": []
  },
  {
   "cell_type": "code",
   "execution_count": null,
   "metadata": {},
   "outputs": [],
   "source": []
  },
  {
   "cell_type": "markdown",
   "metadata": {},
   "source": [
    "***22 - Crie um programa que leia o nome completo de uma pessoa e diga se ela tem ‘Silva’ no nome. Depois mostre em seguida o primeiro e o ul􀆟mo nome***"
   ]
  },
  {
   "cell_type": "code",
   "execution_count": 22,
   "metadata": {},
   "outputs": [
    {
     "name": "stdout",
     "output_type": "stream",
     "text": [
      "Seu nome tem SILVA? False\n",
      "Seu nome tem silva? False\n",
      "Seu nome tem Silva? True\n"
     ]
    }
   ],
   "source": [
    "# Solicita ao usuário que insira seu nome completo e o converte para o formato de título\n",
    "nome = str(input('Digite seu nome completo: ')).title()\n",
    "\n",
    "# Verifica se o sobrenome \"SILVA\" está presente no nome fornecido (maiúsculas)\n",
    "print(f'Seu nome tem SILVA? {\"SILVA\" in nome}')\n",
    "\n",
    "# Verifica se o sobrenome \"silva\" está presente no nome fornecido (minúsculas)\n",
    "print(f'Seu nome tem silva? {\"silva\" in nome}')\n",
    "\n",
    "# Verifica se o sobrenome \"Silva\" está presente no nome fornecido (primeira letra maiúscula)\n",
    "print(f'Seu nome tem Silva? {\"Silva\" in nome}')\n"
   ]
  },
  {
   "cell_type": "code",
   "execution_count": null,
   "metadata": {},
   "outputs": [],
   "source": []
  },
  {
   "cell_type": "code",
   "execution_count": null,
   "metadata": {},
   "outputs": [],
   "source": []
  },
  {
   "cell_type": "markdown",
   "metadata": {},
   "source": [
    "***23 - Faça um programa que leia uma frase pelo teclado e mostre quantas vezes aparece a letra “A”, em que posição ela aparece a primeira vez e em que posição ela aparece a última vez. O Programa devera testa se a Frase forma um palíndromo ou não***"
   ]
  },
  {
   "cell_type": "code",
   "execution_count": 26,
   "metadata": {},
   "outputs": [
    {
     "name": "stdout",
     "output_type": "stream",
     "text": [
      "A Frase tam 3 Letras (A)\n",
      "A primeira letra (A) apareceu na 1 posição \n",
      "A ultima letra (A) apareceu na 5 posição\n",
      "Palindromo\n"
     ]
    }
   ],
   "source": [
    "# Solicita ao usuário que insira uma frase e a converte para letras maiúsculas\n",
    "frase = str(input('Digite uma frase: ')).upper()\n",
    "\n",
    "# Conta o número de ocorrências da letra \"A\" na frase e imprime\n",
    "print(f'A frase tem {frase.count(\"A\")} letras (A)')\n",
    "\n",
    "# Encontra a posição da primeira ocorrência da letra \"A\" na frase e imprime\n",
    "print(f'A primeira letra (A) apareceu na posição {frase.find(\"A\") + 1}')\n",
    "\n",
    "# Encontra a posição da última ocorrência da letra \"A\" na frase e imprime\n",
    "print(f'A última letra (A) apareceu na posição {frase.rfind(\"A\") + 1}')\n",
    "\n",
    "# Inverte a frase\n",
    "inversa = frase[::-1]\n",
    "\n",
    "# Verifica se a frase é um palíndromo e imprime o resultado\n",
    "print(\"Palíndromo\" if inversa == frase else \"Não forma um palíndromo\")\n"
   ]
  },
  {
   "cell_type": "code",
   "execution_count": null,
   "metadata": {},
   "outputs": [],
   "source": []
  },
  {
   "cell_type": "code",
   "execution_count": null,
   "metadata": {},
   "outputs": [],
   "source": []
  },
  {
   "cell_type": "markdown",
   "metadata": {},
   "source": [
    "***24 - Escreva um programa que leia 2 string do usuário e imprima a Primeira string com t todas as palavras em ordem alfabética, ignorando letras maiúsculas e minúsculas. Depois imprima a Segunda string com todas as palavras em ordem alfabética inversa, ignorando letras maiúsculas e minúsculas.***"
   ]
  },
  {
   "cell_type": "code",
   "execution_count": 27,
   "metadata": {},
   "outputs": [
    {
     "name": "stdout",
     "output_type": "stream",
     "text": [
      "Primeira string em ordem alfabética: banana madura\n",
      "Segunda string em ordem alfabética inversa: verde manga\n"
     ]
    }
   ],
   "source": [
    "# Solicita ao usuário que insira duas strings\n",
    "string1 = input(\"Digite a primeira string: \")\n",
    "string2 = input(\"Digite a segunda string: \")\n",
    "\n",
    "# Converte ambas as strings para letras minúsculas e divide em palavras\n",
    "palavras_string1 = string1.lower().split()\n",
    "palavras_string2 = string2.lower().split()\n",
    "\n",
    "# Ordena as palavras em ordem alfabética e alfabética inversa, ignorando maiúsculas e minúsculas\n",
    "palavras_string1_ordenadas = sorted(palavras_string1)\n",
    "palavras_string2_ordenadas = sorted(palavras_string2, reverse=True)\n",
    "\n",
    "# Imprime a primeira string com palavras em ordem alfabética\n",
    "print(\"Primeira string em ordem alfabética:\", ' '.join(palavras_string1_ordenadas))\n",
    "\n",
    "# Imprime a segunda string com palavras em ordem alfabética inversa\n",
    "print(\"Segunda string em ordem alfabética inversa:\", ' '.join(palavras_string2_ordenadas))\n"
   ]
  },
  {
   "cell_type": "code",
   "execution_count": null,
   "metadata": {},
   "outputs": [],
   "source": []
  }
 ],
 "metadata": {
  "kernelspec": {
   "display_name": "base",
   "language": "python",
   "name": "python3"
  },
  "language_info": {
   "codemirror_mode": {
    "name": "ipython",
    "version": 3
   },
   "file_extension": ".py",
   "mimetype": "text/x-python",
   "name": "python",
   "nbconvert_exporter": "python",
   "pygments_lexer": "ipython3",
   "version": "3.11.7"
  }
 },
 "nbformat": 4,
 "nbformat_minor": 2
}
