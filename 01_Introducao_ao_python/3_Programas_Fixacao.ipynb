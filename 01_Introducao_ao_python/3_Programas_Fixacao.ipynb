{
 "cells": [
  {
   "cell_type": "code",
   "execution_count": 1,
   "metadata": {},
   "outputs": [
    {
     "name": "stdout",
     "output_type": "stream",
     "text": [
      "O Numero digitado foi 4 e 5, a soma dos numeros e 9\n",
      "O Sucessor de 9 e 10 e seu antecessor e 8\n"
     ]
    }
   ],
   "source": [
    "# 1 - Faça um programa que leia 2 números Inteiro some os e mostre na tela \n",
    "# o seu sucessor e seu antecessor.\n",
    "\n",
    "numero1 = int(input('Primeiro numero: '))\n",
    "numero2 = int(input('Segundo numero: '))\n",
    "\n",
    "#Soma dos Numeros\n",
    "soma = numero1 + numero2\n",
    "\n",
    "#Sucessor e antecessor\n",
    "sucessor = soma + 1\n",
    "antecessor = soma - 1\n",
    "\n",
    "print(f'O Numero digitado foi {numero1} e {numero2}, a soma dos numeros e {soma}')\n",
    "print(f'O Sucessor de {soma} e {sucessor} e seu antecessor e {antecessor}')"
   ]
  },
  {
   "cell_type": "code",
   "execution_count": null,
   "metadata": {},
   "outputs": [],
   "source": []
  },
  {
   "cell_type": "code",
   "execution_count": 3,
   "metadata": {},
   "outputs": [
    {
     "name": "stdout",
     "output_type": "stream",
     "text": [
      "O Comprimento de 45.0 Metros e equivalente a \n",
      "\n",
      "0.045 Km Quilometros\n",
      "4.5 Decametros\n",
      "450.0 Decimetros\n",
      "4500.0 Centimetros\n",
      "45000.0 Milimetros\n"
     ]
    }
   ],
   "source": [
    "'''2 - Escreva um programa que leia um valor em metros e o exiba conver􀆟do em \n",
    "(Quilometro, Hectômetro, Decâmetro, Decímetro, Centimetro, Milímetro).'''\n",
    "\n",
    "metros = float(input('Digite o valor em Metros: M '))\n",
    "km = metros / 1000\n",
    "hec = metros / 100\n",
    "deca = metros / 10\n",
    "deci = metros * 10\n",
    "cent = metros * 100\n",
    "mili = metros * 1000\n",
    "\n",
    "print(f'O Comprimento de {metros} Metros e equivalente a ')\n",
    "print(f'''\n",
    "{km} Km Quilometros\n",
    "{deca} Decametros\n",
    "{deci} Decimetros\n",
    "{cent} Centimetros\n",
    "{mili} Milimetros''')"
   ]
  },
  {
   "cell_type": "code",
   "execution_count": null,
   "metadata": {},
   "outputs": [],
   "source": []
  },
  {
   "cell_type": "code",
   "execution_count": 5,
   "metadata": {},
   "outputs": [
    {
     "name": "stdout",
     "output_type": "stream",
     "text": [
      "A Quantia de 3456.00 R$ com o dolar a5.67 U$ podera compra 609.52 U$\n"
     ]
    }
   ],
   "source": [
    "'''3 - Crie um programa que leia quanto dinheiro uma pessoa tem na carteira \n",
    "e mostre quantos dólares ela poderá comprar'''\n",
    "\n",
    "dinheiro = float(input('Digite o total de dinheiro: R$ '))\n",
    "valor_dolar = 5.67\n",
    "\n",
    "total_dolares = dinheiro / valor_dolar\n",
    "\n",
    "print(f'A Quantia de {dinheiro:.2f} R$ com o dolar a '\n",
    "      f'{valor_dolar:.2f} U$ podera compra {total_dolares:.2f} U$')"
   ]
  },
  {
   "cell_type": "code",
   "execution_count": null,
   "metadata": {},
   "outputs": [],
   "source": []
  },
  {
   "cell_type": "code",
   "execution_count": null,
   "metadata": {},
   "outputs": [],
   "source": []
  },
  {
   "cell_type": "code",
   "execution_count": null,
   "metadata": {},
   "outputs": [],
   "source": []
  },
  {
   "cell_type": "code",
   "execution_count": null,
   "metadata": {},
   "outputs": [],
   "source": []
  },
  {
   "cell_type": "code",
   "execution_count": null,
   "metadata": {},
   "outputs": [],
   "source": []
  },
  {
   "cell_type": "code",
   "execution_count": null,
   "metadata": {},
   "outputs": [],
   "source": []
  },
  {
   "cell_type": "code",
   "execution_count": null,
   "metadata": {},
   "outputs": [],
   "source": []
  },
  {
   "cell_type": "code",
   "execution_count": null,
   "metadata": {},
   "outputs": [],
   "source": []
  },
  {
   "cell_type": "code",
   "execution_count": null,
   "metadata": {},
   "outputs": [],
   "source": []
  },
  {
   "cell_type": "code",
   "execution_count": null,
   "metadata": {},
   "outputs": [],
   "source": []
  },
  {
   "cell_type": "code",
   "execution_count": null,
   "metadata": {},
   "outputs": [],
   "source": []
  },
  {
   "cell_type": "code",
   "execution_count": null,
   "metadata": {},
   "outputs": [],
   "source": []
  },
  {
   "cell_type": "code",
   "execution_count": null,
   "metadata": {},
   "outputs": [],
   "source": []
  },
  {
   "cell_type": "code",
   "execution_count": null,
   "metadata": {},
   "outputs": [],
   "source": []
  },
  {
   "cell_type": "code",
   "execution_count": null,
   "metadata": {},
   "outputs": [],
   "source": []
  },
  {
   "cell_type": "code",
   "execution_count": null,
   "metadata": {},
   "outputs": [],
   "source": []
  },
  {
   "cell_type": "code",
   "execution_count": null,
   "metadata": {},
   "outputs": [],
   "source": []
  },
  {
   "cell_type": "code",
   "execution_count": null,
   "metadata": {},
   "outputs": [],
   "source": []
  },
  {
   "cell_type": "code",
   "execution_count": null,
   "metadata": {},
   "outputs": [],
   "source": []
  },
  {
   "cell_type": "code",
   "execution_count": null,
   "metadata": {},
   "outputs": [],
   "source": []
  },
  {
   "cell_type": "code",
   "execution_count": null,
   "metadata": {},
   "outputs": [],
   "source": []
  },
  {
   "cell_type": "code",
   "execution_count": null,
   "metadata": {},
   "outputs": [],
   "source": []
  },
  {
   "cell_type": "code",
   "execution_count": null,
   "metadata": {},
   "outputs": [],
   "source": []
  },
  {
   "cell_type": "code",
   "execution_count": null,
   "metadata": {},
   "outputs": [],
   "source": []
  },
  {
   "cell_type": "code",
   "execution_count": null,
   "metadata": {},
   "outputs": [],
   "source": []
  },
  {
   "cell_type": "code",
   "execution_count": null,
   "metadata": {},
   "outputs": [],
   "source": []
  }
 ],
 "metadata": {
  "kernelspec": {
   "display_name": "base",
   "language": "python",
   "name": "python3"
  },
  "language_info": {
   "codemirror_mode": {
    "name": "ipython",
    "version": 3
   },
   "file_extension": ".py",
   "mimetype": "text/x-python",
   "name": "python",
   "nbconvert_exporter": "python",
   "pygments_lexer": "ipython3",
   "version": "3.11.7"
  }
 },
 "nbformat": 4,
 "nbformat_minor": 2
}
