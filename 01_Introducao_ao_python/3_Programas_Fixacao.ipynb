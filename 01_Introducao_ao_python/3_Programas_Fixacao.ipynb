{
 "cells": [
  {
   "cell_type": "code",
   "execution_count": 1,
   "metadata": {},
   "outputs": [
    {
     "name": "stdout",
     "output_type": "stream",
     "text": [
      "O Numero digitado foi 3 e 4, a soma dos numeros e 7\n",
      "O Sucessor de 7 e 8 e seu antecessor e 6\n"
     ]
    }
   ],
   "source": [
    "# 1 - Faça um programa que leia 2 números Inteiro some os e mostre na tela \n",
    "# o seu sucessor e seu antecessor.\n",
    "\n",
    "numero1 = int(input('Primeiro numero: '))\n",
    "numero2 = int(input('Segundo numero: '))\n",
    "\n",
    "#Soma dos Numeros\n",
    "soma = numero1 + numero2\n",
    "\n",
    "#Sucessor e antecessor\n",
    "sucessor = soma + 1\n",
    "antecessor = soma - 1\n",
    "\n",
    "print(f'O Numero digitado foi {numero1} e {numero2}, a soma dos numeros e {soma}')\n",
    "print(f'O Sucessor de {soma} e {sucessor} e seu antecessor e {antecessor}')"
   ]
  },
  {
   "cell_type": "code",
   "execution_count": null,
   "metadata": {},
   "outputs": [],
   "source": []
  },
  {
   "cell_type": "code",
   "execution_count": 3,
   "metadata": {},
   "outputs": [
    {
     "name": "stdout",
     "output_type": "stream",
     "text": [
      "O Comprimento de 45.0 Metros e equivalente a \n",
      "\n",
      "0.045 Km Quilometros\n",
      "4.5 Decametros\n",
      "450.0 Decimetros\n",
      "4500.0 Centimetros\n",
      "45000.0 Milimetros\n"
     ]
    }
   ],
   "source": [
    "'''2 - Escreva um programa que leia um valor em metros e o exiba convertido em \n",
    "(Quilometro, Hectômetro, Decâmetro, Decímetro, Centimetro, Milímetro).'''\n",
    "\n",
    "metros = float(input('Digite o valor em Metros: M '))\n",
    "km = metros / 1000\n",
    "hec = metros / 100\n",
    "deca = metros / 10\n",
    "deci = metros * 10\n",
    "cent = metros * 100\n",
    "mili = metros * 1000\n",
    "\n",
    "print(f'O Comprimento de {metros} Metros e equivalente a ')\n",
    "print(f'''\n",
    "{km} Km Quilometros\n",
    "{deca} Decametros\n",
    "{deci} Decimetros\n",
    "{cent} Centimetros\n",
    "{mili} Milimetros''')"
   ]
  },
  {
   "cell_type": "code",
   "execution_count": null,
   "metadata": {},
   "outputs": [],
   "source": []
  },
  {
   "cell_type": "code",
   "execution_count": 5,
   "metadata": {},
   "outputs": [
    {
     "name": "stdout",
     "output_type": "stream",
     "text": [
      "A Quantia de 3456.00 R$ com o dolar a5.67 U$ podera compra 609.52 U$\n"
     ]
    }
   ],
   "source": [
    "'''3 - Crie um programa que leia quanto dinheiro uma pessoa tem na carteira \n",
    "e mostre quantos dólares ela poderá comprar'''\n",
    "\n",
    "# Solicita ao usuário que insira o total de dinheiro em reais\n",
    "dinheiro = float(input('Digite o total de dinheiro: R$ '))\n",
    "# Define o valor do dólar em reais\n",
    "valor_dolar = 5.67\n",
    "\n",
    "# Calcula quantos dólares o usuário pode comprar com o dinheiro inserido\n",
    "total_dolares = dinheiro / valor_dolar\n",
    "\n",
    "# Exibe a quantidade de dólares que o usuário pode comprar\n",
    "print(f'A Quantia de {dinheiro:.2f} R$ com o dolar a '\n",
    "      f'{valor_dolar:.2f} U$ podera compra {total_dolares:.2f} U$')\n"
   ]
  },
  {
   "cell_type": "code",
   "execution_count": null,
   "metadata": {},
   "outputs": [],
   "source": []
  },
  {
   "cell_type": "markdown",
   "metadata": {},
   "source": []
  },
  {
   "cell_type": "code",
   "execution_count": 1,
   "metadata": {},
   "outputs": [
    {
     "name": "stdout",
     "output_type": "stream",
     "text": [
      "Uma parede de 24.00 Metros² levara 12.00 Litros de tinta para ser pintada\n"
     ]
    }
   ],
   "source": [
    "'''4 - Faça um programa que leia a largura e a altura de uma parede em metros, \n",
    "calcule a sua área e a quantidade de tinta necessária para pintá-la, sabendo que \n",
    "cada litro de  tinta pinta uma área de 2 metros quadrados'''\n",
    "\n",
    "# Solicita ao usuário a altura da parede em metros\n",
    "altura = float(input('Altura da parede: '))\n",
    "\n",
    "# Solicita ao usuário a largura da parede em metros\n",
    "largura = float(input('Largura da parede: '))\n",
    "\n",
    "# Calcula a área da parede em metros quadrados\n",
    "metros_q = altura * largura\n",
    "\n",
    "# Calcula a quantidade de tinta necessária em litros, considerando que cada litro pinta 2 metros quadrados\n",
    "litros_tinta = metros_q / 2\n",
    "\n",
    "# Exibe a área da parede e a quantidade de tinta necessária para pintá-la\n",
    "print(f'Uma parede de {metros_q:.2f} Metros² levara {litros_tinta:.2f} Litros de tinta para ser pintada')\n"
   ]
  },
  {
   "cell_type": "code",
   "execution_count": null,
   "metadata": {},
   "outputs": [],
   "source": []
  },
  {
   "cell_type": "code",
   "execution_count": null,
   "metadata": {},
   "outputs": [],
   "source": []
  },
  {
   "cell_type": "code",
   "execution_count": 2,
   "metadata": {},
   "outputs": [
    {
     "name": "stdout",
     "output_type": "stream",
     "text": [
      "O Funcionario que ganhava 4567.0 R$ com 15% de aumento passara a ganha 5252.05 R$\n"
     ]
    }
   ],
   "source": [
    "'''5 - Faça um algoritmo que leia o nome e o salário de um funcionário e mostre \n",
    "seu novo salário, com 15% de aumento'''\n",
    "\n",
    "# Solicita ao usuário o salário do funcionário em reais\n",
    "salario = float(input('Digite o seu salario: R$ '))\n",
    "\n",
    "# Define o percentual de aumento como 15%\n",
    "aumento = 15\n",
    "\n",
    "# Calcula o novo salário com o aumento de 15%\n",
    "novo_salario = salario * (aumento / 100) + salario\n",
    "\n",
    "# Exibe o novo salário do funcionário após o aumento de 15%\n",
    "print(f'O Funcionario que ganhava {salario} R$ com 15% de aumento passara a ganha {novo_salario:.2f} R$')\n"
   ]
  },
  {
   "cell_type": "code",
   "execution_count": null,
   "metadata": {},
   "outputs": [],
   "source": []
  },
  {
   "cell_type": "code",
   "execution_count": null,
   "metadata": {},
   "outputs": [],
   "source": []
  },
  {
   "cell_type": "code",
   "execution_count": 4,
   "metadata": {},
   "outputs": [
    {
     "name": "stdout",
     "output_type": "stream",
     "text": [
      "Um carro que percorreu 800.0 km em 4 dias\n",
      "Tera um custo total de 360.00 R$\n"
     ]
    }
   ],
   "source": [
    "'''6 - Escreva um programa que pergunte a quantidade de Km percorridos \n",
    "por um carro alugado e a quantidade de dias pelos quais ele foi alugado. \n",
    "Calcule o preço a pagar, sabendo que o carro custa R$60 por dia e R$0,15\n",
    "por Km rodado'''\n",
    "\n",
    "# Solicita ao usuário a quantidade de Km percorridos pelo carro\n",
    "km_percorridos = float(input('Quantidade de Km percorridos: '))\n",
    "\n",
    "# Solicita ao usuário a quantidade de dias pelos quais o carro foi alugado\n",
    "dias_alugados = int(input('Dias que ficou alugado: '))\n",
    "\n",
    "# Calcula o custo total, considerando o custo por dia e por Km rodado\n",
    "custo_total = (km_percorridos * 0.15) + (dias_alugados * 60)\n",
    "\n",
    "# Exibe a quantidade de Km percorridos e dias alugados\n",
    "print(f'Um carro que percorreu {km_percorridos} km em {dias_alugados} dias')\n",
    "\n",
    "# Exibe o custo total a ser pago\n",
    "print(f'Tera um custo total de {custo_total:.2f} R$')\n"
   ]
  },
  {
   "cell_type": "code",
   "execution_count": null,
   "metadata": {},
   "outputs": [],
   "source": []
  },
  {
   "cell_type": "code",
   "execution_count": null,
   "metadata": {},
   "outputs": [],
   "source": []
  },
  {
   "cell_type": "code",
   "execution_count": 7,
   "metadata": {},
   "outputs": [
    {
     "name": "stdout",
     "output_type": "stream",
     "text": [
      "O Notbook que custava 4500.0 R$ com 12% de desconto passara a custa 3960.00 R4\n"
     ]
    }
   ],
   "source": [
    "'''7 - Faça um programa que leia o valor de um produto e imprima o valor \n",
    "com desconto, tendo em vista que desconto foi de 12%'''\n",
    "\n",
    "# Solicita ao usuário o nome do produto e converte para formato de título\n",
    "produto = str(input('Nome do Produto: ')).title()\n",
    "# Solicita ao usuário o valor do produto e converte para float\n",
    "valor = float(input(f'Valor do {produto}: '))\n",
    "\n",
    "# Define o percentual de desconto como 12%\n",
    "desconto = 12\n",
    "\n",
    "# Calcula o novo preço do produto com o desconto de 12%\n",
    "novo_preco = valor - (valor * (desconto / 100))\n",
    "\n",
    "print(f'O {produto} que custava {valor} R$ com 12% de desconto passara a custa {novo_preco:.2f} R$')\n"
   ]
  },
  {
   "cell_type": "code",
   "execution_count": null,
   "metadata": {},
   "outputs": [],
   "source": []
  },
  {
   "cell_type": "code",
   "execution_count": null,
   "metadata": {},
   "outputs": [],
   "source": []
  },
  {
   "cell_type": "code",
   "execution_count": 13,
   "metadata": {},
   "outputs": [
    {
     "name": "stdout",
     "output_type": "stream",
     "text": [
      "Do premio de 780000 R$ sera dividido\n",
      "358800.00 Para o primeiro ganhador\n",
      "249600.00 Para o segundo ganhador\n",
      "171600.00 Para o terceiro ganhador\n"
     ]
    }
   ],
   "source": [
    "'''8 - A importância de R$ 780.000,00 será dividida entre três \n",
    "ganhadores de um concurso. Sendo que da quantia total.\n",
    "a. O primeiro ganhador receberá 46%\n",
    "b. O segundo recebera 32%\n",
    "c. O terceiro recebera o restante calcule quanto cada ganhador irá receber'''\n",
    "\n",
    "# Define o valor total do prêmio\n",
    "premio = 780000\n",
    "\n",
    "# Define o percentual do prêmio para o primeiro ganhador como 46%\n",
    "primeiro = 46\n",
    "# Define o percentual do prêmio para o segundo ganhador como 32%\n",
    "segundo = 32\n",
    "# Inicializa a variável para o terceiro ganhador, que será calculado posteriormente\n",
    "\n",
    "terceiro = None\n",
    "\n",
    "# Calcula o prêmio para o primeiro ganhador, considerando 46% do total\n",
    "p_primeiro = premio * (primeiro / 100)\n",
    "p_segundo = premio * (segundo / 100)\n",
    "\n",
    "# Calcula o prêmio para o segundo ganhador, considerando 32% do total\n",
    "p_terceiro = premio - (p_primeiro + p_segundo)\n",
    "\n",
    "# Exibe o valor total do prêmio\n",
    "print(f'Do premio de {premio} R$ sera dividido')\n",
    "print(f'{p_primeiro:.2f} Para o primeiro ganhador')\n",
    "print(f'{p_primeiro:.2f} Para o primeiro ganhador')\n",
    "print(f'{p_segundo:.2f} Para o segundo ganhador')\n",
    "print(f'{p_segundo:.2f} Para o segundo ganhador')\n",
    "print(f'{p_terceiro:.2f} Para o terceiro ganhador')\n",
    "print(f'{p_terceiro:.2f} Para o terceiro ganhador')\n",
    "\n"
   ]
  },
  {
   "cell_type": "code",
   "execution_count": null,
   "metadata": {},
   "outputs": [],
   "source": []
  },
  {
   "cell_type": "code",
   "execution_count": null,
   "metadata": {},
   "outputs": [],
   "source": []
  },
  {
   "cell_type": "code",
   "execution_count": 14,
   "metadata": {},
   "outputs": [
    {
     "name": "stdout",
     "output_type": "stream",
     "text": [
      "O valor do Produto e de 4500.0 R$ \n",
      "Com 10% de desconto passara a ser 4050.0\n",
      "Parcelado em 3X as parcelas ficaram de 1500.0\n",
      "A Comissão da vendedora sera de 225.0\n"
     ]
    }
   ],
   "source": [
    "'''9 - Escreva um programa de ajuda para vendedores. A partir de um valor \n",
    "total lido, mostre\n",
    "a. O Total a pagar com 10% de desconto\n",
    "b. O Valor de cada parcela, no parcelamento de 3x sem juros\n",
    "c. A comissão do vendedor de %5 no caso de venda à vista'''\n",
    "\n",
    "# Solicita ao usuário o valor do produto em reais\n",
    "valor_produto = float(input('Valor do Produto: R$ '))\n",
    "\n",
    "# Exibe o valor original do produto\n",
    "print(f'O valor do Produto e de {valor_produto} R$ ')\n",
    "print(f'Com 10% de desconto passara a ser {valor_produto * 0.90} R$')\n",
    "\n",
    "# Calcula e exibe o valor de cada parcela no parcelamento de 3x sem juros\n",
    "print(f'Parcelado em 3X as parcelas ficaram de {valor_produto / 3:.2f} R$')\n",
    "\n",
    "# Calcula e exibe a comissão do vendedor de 5% no caso de venda à vista\n",
    "print(f'A Comissão da vendedora sera de {valor_produto * 0.05:.2f} R$')\n"
   ]
  },
  {
   "cell_type": "code",
   "execution_count": null,
   "metadata": {},
   "outputs": [],
   "source": []
  },
  {
   "cell_type": "code",
   "execution_count": null,
   "metadata": {},
   "outputs": [],
   "source": []
  },
  {
   "cell_type": "code",
   "execution_count": 15,
   "metadata": {},
   "outputs": [
    {
     "name": "stdout",
     "output_type": "stream",
     "text": [
      "Uma escada de 3 Metros de altura precisara de 20.00 Degraus de 15CM\n"
     ]
    }
   ],
   "source": [
    "'''10 - Em uma construção o Pedreiro deseja fazer o cálculo para uma escada, para \n",
    "isso ele deseja cria degraus para idosos de 15CM. Faça um programa onde Receba a \n",
    "Altura da Escada e calcule quantos degraus irá precisa essa escada.'''\n",
    "\n",
    "# Solicita ao usuário a altura da escada em metros.\n",
    "altura = int(input('Altura da escada: '))\n",
    "\n",
    "# Calcula a quantidade de degraus necessários dividindo a altura da escada\n",
    "# pela altura de cada degrau (15cm).\n",
    "degraus = altura / 0.15\n",
    "\n",
    "# Exibe o resultado, informando a altura da escada e a quantidade de degraus\n",
    "# necessários, com duas casas decimais.\n",
    "print(f'Uma escada de {altura} Metros de altura precisara '\n",
    "      f'de {degraus:.2f} Degraus de 15CM')\n"
   ]
  },
  {
   "cell_type": "code",
   "execution_count": null,
   "metadata": {},
   "outputs": [],
   "source": []
  },
  {
   "cell_type": "code",
   "execution_count": null,
   "metadata": {},
   "outputs": [],
   "source": []
  },
  {
   "cell_type": "code",
   "execution_count": 20,
   "metadata": {},
   "outputs": [
    {
     "name": "stdout",
     "output_type": "stream",
     "text": [
      "O Numero digitado foi 345 o inverso e 543\n"
     ]
    }
   ],
   "source": [
    "'''11 - Faça um programa que leia um número inteiro possível de três dígitos (de 100 a 999)\n",
    "Gere um outro número formado de dígitos invertidos do número: Exemplo 123 = 321'''\n",
    "\n",
    "# Solicita ao usuário que digite um número inteiro de três dígitos.\n",
    "# A função int() é usada para converter a entrada do usuário em um número inteiro.\n",
    "numero = int(input('Digite um numero inteiro; '))\n",
    "\n",
    "# Converte o número inteiro para uma string e inverte a ordem dos caracteres.\n",
    "# A notação [::-1] é usada para inverter a string.\n",
    "invertido = str(numero)[::-1]\n",
    "\n",
    "# Exibe o número original e seu inverso.\n",
    "# A função int() é usada para converter a string invertida de volta para um número inteiro.\n",
    "print(f'O Numero digitado foi {numero} o inverso e {int(invertido)}')\n"
   ]
  },
  {
   "cell_type": "code",
   "execution_count": null,
   "metadata": {},
   "outputs": [],
   "source": []
  },
  {
   "cell_type": "code",
   "execution_count": null,
   "metadata": {},
   "outputs": [],
   "source": []
  },
  {
   "cell_type": "code",
   "execution_count": 22,
   "metadata": {},
   "outputs": [
    {
     "name": "stdout",
     "output_type": "stream",
     "text": [
      "A pessoa que nasceu em 1995 no ano atual 2024 tem ou fara 29 anos\n"
     ]
    }
   ],
   "source": [
    "'''12 - Crie um programa que leia o ano de uma pessoa e calcule sua idade a \n",
    "partir da data atual'''\n",
    "\n",
    "# Importa a classe 'date' do módulo 'datetime' para trabalhar com datas.\n",
    "from datetime import date\n",
    "\n",
    "# Obtém o ano atual usando a função 'today().year' da classe 'date'.\n",
    "atual = date.today().year\n",
    "\n",
    "# Solicita ao usuário que digite o ano de nascimento da pessoa.\n",
    "nascimento = int(input('Digite seu ano de nascimento: '))\n",
    "\n",
    "# Calcula a idade da pessoa subtraindo o ano de nascimento do ano atual.\n",
    "idade = atual - nascimento\n",
    "\n",
    "# Exibe a idade da pessoa, informando o ano de nascimento e o ano atual.\n",
    "print(f'A pessoa que nasceu em {nascimento} no ano atual {atual} tem ou fara {idade} anos')\n"
   ]
  },
  {
   "cell_type": "code",
   "execution_count": null,
   "metadata": {},
   "outputs": [],
   "source": []
  },
  {
   "cell_type": "code",
   "execution_count": null,
   "metadata": {},
   "outputs": [],
   "source": []
  },
  {
   "cell_type": "code",
   "execution_count": 28,
   "metadata": {},
   "outputs": [
    {
     "name": "stdout",
     "output_type": "stream",
     "text": [
      "O Valor total do premio e de 345678.0 R$\n",
      "A Divisão do Premio sera nas seguintes condições\n",
      "Cada apostador apostou determinado valor sendo que sera dividido conforme\n",
      "Primeiro: Apostou 22.37%, recebera o valor de 77322.71 R$\n",
      "Segundo: Apostou 36.18%, recebera de premio 125080.86 R$\n",
      "Terceiro: Apostou 41.45%, recebera 143274.43 R$ de Premio\n"
     ]
    }
   ],
   "source": [
    "'''13 - Três amigos jogaram na loteria. Caso eles ganhem, o prêmio dever ser \n",
    "repartido proporcionalmente ao valor que cada um deu para a aposta. Faça um \n",
    "programa que leia quanto cada apostador investiu, o valor do\n",
    "prêmio, e imprima quanto cada um ganharia com base no valor investido'''\n",
    "\n",
    "aposta1 = int(input('Quanto o primeiro apostou: R$ '))\n",
    "aposta2 = int(input('Quanto o segundo apostou:  R$ '))\n",
    "aposta3 = int(input('Quanto o terceiro apostou: R$ '))\n",
    "\n",
    "#Valor do premio\n",
    "valor_premio = float(input('Valor do Premio:  R$ '))\n",
    "print(f'O Valor total do premio e de {valor_premio} R$')\n",
    "\n",
    "#Calculo do valor total das apostas somadas\n",
    "aposta_total = aposta1 + aposta2 + aposta3\n",
    "\n",
    "#Calculo do percentual que cada apostou\n",
    "percentual_1 = aposta1 * (100 / aposta_total)\n",
    "percentual_2 = aposta2 * (100 / aposta_total)\n",
    "percentual_3 = aposta3 * (100 / aposta_total)\n",
    "\n",
    "#Calculo dos valores a receber\n",
    "ganho_1 = valor_premio * (percentual_1 / 100)\n",
    "ganho_2 = valor_premio * (percentual_2 / 100)\n",
    "ganho_3 = valor_premio * (percentual_3 / 100)\n",
    "\n",
    "print(f'A Divisão do Premio sera nas seguintes condições')\n",
    "print(f'Cada apostador apostou determinado valor sendo que sera dividido conforme')\n",
    "print(f'Primeiro: Apostou {percentual_1:.2f}%, recebera o valor de {ganho_1:.2f} R$')\n",
    "print(f'Segundo: Apostou {percentual_2:.2f}%, recebera de premio {ganho_2:.2f} R$')\n",
    "print(f'Terceiro: Apostou {percentual_3:.2f}%, recebera {ganho_3:.2f} R$ de Premio')"
   ]
  },
  {
   "cell_type": "code",
   "execution_count": null,
   "metadata": {},
   "outputs": [],
   "source": []
  },
  {
   "cell_type": "code",
   "execution_count": null,
   "metadata": {},
   "outputs": [],
   "source": []
  },
  {
   "cell_type": "code",
   "execution_count": null,
   "metadata": {},
   "outputs": [],
   "source": []
  },
  {
   "cell_type": "code",
   "execution_count": null,
   "metadata": {},
   "outputs": [],
   "source": []
  },
  {
   "cell_type": "code",
   "execution_count": null,
   "metadata": {},
   "outputs": [],
   "source": []
  },
  {
   "cell_type": "code",
   "execution_count": null,
   "metadata": {},
   "outputs": [],
   "source": []
  },
  {
   "cell_type": "code",
   "execution_count": null,
   "metadata": {},
   "outputs": [],
   "source": []
  },
  {
   "cell_type": "code",
   "execution_count": null,
   "metadata": {},
   "outputs": [],
   "source": []
  },
  {
   "cell_type": "code",
   "execution_count": null,
   "metadata": {},
   "outputs": [],
   "source": []
  },
  {
   "cell_type": "code",
   "execution_count": null,
   "metadata": {},
   "outputs": [],
   "source": []
  },
  {
   "cell_type": "code",
   "execution_count": null,
   "metadata": {},
   "outputs": [],
   "source": []
  },
  {
   "cell_type": "code",
   "execution_count": null,
   "metadata": {},
   "outputs": [],
   "source": []
  },
  {
   "cell_type": "code",
   "execution_count": null,
   "metadata": {},
   "outputs": [],
   "source": []
  },
  {
   "cell_type": "code",
   "execution_count": null,
   "metadata": {},
   "outputs": [],
   "source": []
  },
  {
   "cell_type": "code",
   "execution_count": null,
   "metadata": {},
   "outputs": [],
   "source": []
  },
  {
   "cell_type": "code",
   "execution_count": null,
   "metadata": {},
   "outputs": [],
   "source": []
  },
  {
   "cell_type": "code",
   "execution_count": null,
   "metadata": {},
   "outputs": [],
   "source": []
  },
  {
   "cell_type": "code",
   "execution_count": null,
   "metadata": {},
   "outputs": [],
   "source": []
  },
  {
   "cell_type": "code",
   "execution_count": null,
   "metadata": {},
   "outputs": [],
   "source": []
  },
  {
   "cell_type": "code",
   "execution_count": null,
   "metadata": {},
   "outputs": [],
   "source": []
  }
 ],
 "metadata": {
  "kernelspec": {
   "display_name": "base",
   "language": "python",
   "name": "python3"
  },
  "language_info": {
   "codemirror_mode": {
    "name": "ipython",
    "version": 3
   },
   "file_extension": ".py",
   "mimetype": "text/x-python",
   "name": "python",
   "nbconvert_exporter": "python",
   "pygments_lexer": "ipython3",
   "version": "3.11.7"
  }
 },
 "nbformat": 4,
 "nbformat_minor": 2
}
