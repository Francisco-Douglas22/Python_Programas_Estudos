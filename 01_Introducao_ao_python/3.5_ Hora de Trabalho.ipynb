{
 "cells": [
  {
   "cell_type": "markdown",
   "metadata": {},
   "source": [
    "### ***Faça um programa que leia o valor da hora de trabalho em R$ e numero de horas trabalhadas no mês. Sabendo que o trabalhador, trabalha 6 horas por dia e 4 dias e meio por semana. Imprima o valor a ser pago ao funcionário, adicionando 10% sobre o valor calculado.***"
   ]
  },
  {
   "cell_type": "code",
   "execution_count": null,
   "metadata": {},
   "outputs": [],
   "source": []
  },
  {
   "cell_type": "markdown",
   "metadata": {},
   "source": [
    "#### ***Codigo Cru sem Comentarios e explicações***"
   ]
  },
  {
   "cell_type": "code",
   "execution_count": 3,
   "metadata": {},
   "outputs": [
    {
     "name": "stdout",
     "output_type": "stream",
     "text": [
      "O Tabalhador que trabalhou 20 Dias recebera um valor de 1080.0 R$\n"
     ]
    }
   ],
   "source": [
    "valor_hora = float(input('Valor da Hora de Trabalho: '))\n",
    "dias_trabalho = int(input('Dias Trabalhados: '))\n",
    "\n",
    "#Calculo dias de trabalho\n",
    "horas_dia = 4\n",
    "ganho = valor_hora  *  horas_dia\n",
    "salario_mensal = ganho * dias_trabalho\n",
    "\n",
    "#Calculo desconto\n",
    "valor = salario_mensal * 0.9\n",
    "print(f'O Tabalhador que trabalhou {dias_trabalho} Dias recebera um valor de {valor} R$')"
   ]
  },
  {
   "cell_type": "code",
   "execution_count": null,
   "metadata": {},
   "outputs": [],
   "source": []
  },
  {
   "cell_type": "markdown",
   "metadata": {},
   "source": [
    "#### ***Codigo Documentado***"
   ]
  },
  {
   "cell_type": "markdown",
   "metadata": {},
   "source": [
    "#### ***Explicando o Codigo***"
   ]
  },
  {
   "cell_type": "markdown",
   "metadata": {
    "vscode": {
     "languageId": "plaintext"
    }
   },
   "source": [
    "```python\n",
    "valor_hora = float(input('Valor da Hora de Trabalho: '))\n",
    "dias_trabalho = int(input('Dias Trabalhados: '))\n",
    "\n",
    "# Cálculo do ganho diário\n",
    "horas_dia = 4\n",
    "ganho_diario = valor_hora * horas_dia\n",
    "\n",
    "# Cálculo do salário mensal\n",
    "salario_mensal = ganho_diario * dias_trabalho\n",
    "\n",
    "# Desconto de 10% sobre o salário mensal\n",
    "valor_final = salario_mensal * 0.9\n",
    "\n",
    "# Exibição do valor final a ser recebido pelo trabalhador após o desconto\n",
    "print(f'O Trabalhador que trabalhou {dias_trabalho} dias receberá um valor de {valor_final} R$.')\n",
    "```\n",
    "\n",
    "Neste código, o usuário é solicitado a inserir o valor da hora de trabalho e o número de dias trabalhados. Com base nesses dados, o programa calcula o salário mensal do trabalhador e aplica um desconto de 10% sobre esse valor.\n",
    "\n",
    "O programa começa solicitando ao usuário o valor da hora de trabalho e o número de dias trabalhados, convertendo o valor da hora para um número em ponto flutuante (`float`) e o número de dias para um número inteiro (`int`).\n",
    "\n",
    "Em seguida, o programa calcula o ganho diário multiplicando o valor da hora de trabalho pelo número de horas trabalhadas por dia.\n",
    "\n",
    "Depois, o programa calcula o salário mensal multiplicando o ganho diário pelo número de dias trabalhados.\n",
    "\n",
    "Então, é calculado o desconto de 10% sobre o salário mensal e o valor final a ser recebido pelo trabalhador é armazenado na variável `valor_final`.\n",
    "\n",
    "Por fim, o programa exibe uma mensagem informando o número de dias trabalhados e o valor final a ser recebido pelo trabalhador após o desconto, utilizando uma f-string para formatar a mensagem."
   ]
  },
  {
   "cell_type": "code",
   "execution_count": null,
   "metadata": {},
   "outputs": [],
   "source": []
  }
 ],
 "metadata": {
  "kernelspec": {
   "display_name": "base",
   "language": "python",
   "name": "python3"
  },
  "language_info": {
   "codemirror_mode": {
    "name": "ipython",
    "version": 3
   },
   "file_extension": ".py",
   "mimetype": "text/x-python",
   "name": "python",
   "nbconvert_exporter": "python",
   "pygments_lexer": "ipython3",
   "version": "3.11.7"
  }
 },
 "nbformat": 4,
 "nbformat_minor": 2
}
