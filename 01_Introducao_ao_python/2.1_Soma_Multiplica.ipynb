{
 "cells": [
  {
   "cell_type": "markdown",
   "metadata": {},
   "source": [
    "### ***Programa que leia 4 números, 2 Inteiros e 2 Flutuantes, faça a soma dos Inteiros e a multiplicação dos Flutuantes, depois faça a mul􀆟plicação dos Flutuantes ao quadrado e a Raiz quadrada dos inteiros. Some o Resultado final dos Números e Divida por 3***"
   ]
  },
  {
   "cell_type": "code",
   "execution_count": null,
   "metadata": {},
   "outputs": [],
   "source": []
  },
  {
   "cell_type": "markdown",
   "metadata": {},
   "source": [
    "#### ***Codigo Cru sem Comentarios e explicações***"
   ]
  },
  {
   "cell_type": "code",
   "execution_count": 1,
   "metadata": {},
   "outputs": [
    {
     "name": "stdout",
     "output_type": "stream",
     "text": [
      "Os Numeros inteiros digitados foram (3, 4) a soma e 7\n",
      "Os Numeros float digitados foram (5.67, 7.8) a Multiplicação e 44.226\n",
      "O Resultado final foi de 653.15\n"
     ]
    }
   ],
   "source": [
    "numero1 = int(input('PrimeiroNumero Inteiro: '))\n",
    "numero2 = int(input('Segundo Numero Inteiro: '))\n",
    "\n",
    "num1 = float(input('Primeiro Float: '))\n",
    "num2 = float(input('Segundo Float: '))\n",
    "\n",
    "#Soma dos Inteiros\n",
    "soma_int = numero1 + numero2\n",
    "print(f'Os Numeros inteiros digitados foram {numero1, numero2} a soma e {soma_int}')\n",
    "\n",
    "#Multiplicação Float\n",
    "mult_float = num1 * num2\n",
    "print(f'Os Numeros float digitados foram {num1, num2} a Multiplicação e {mult_float}')\n",
    "\n",
    "#Multi float ao quadrado\n",
    "quadrado_float = mult_float ** 2\n",
    "\n",
    "#raiz inteiro \n",
    "raiz_int = soma_int * (1/2)\n",
    "\n",
    "#Soma e divisao final\n",
    "soma_final = raiz_int + quadrado_float\n",
    "divisao_final = soma_final / 3\n",
    "\n",
    "print(f'O Resultado final foi de {divisao_final:.2f}')\n",
    "\n"
   ]
  },
  {
   "cell_type": "code",
   "execution_count": null,
   "metadata": {},
   "outputs": [],
   "source": []
  },
  {
   "cell_type": "markdown",
   "metadata": {},
   "source": [
    "#### ***Codigo Documentado***"
   ]
  },
  {
   "cell_type": "markdown",
   "metadata": {},
   "source": [
    "#### ***Explicando o Codigo***"
   ]
  },
  {
   "cell_type": "markdown",
   "metadata": {},
   "source": [
    "Claro! Vou documentar todo o código e fornecer uma explicação detalhada no final.\n",
    "\n",
    "```python\n",
    "# Solicita ao usuário que insira dois números inteiros\n",
    "numero1 = int(input('PrimeiroNumero Inteiro: '))\n",
    "numero2 = int(input('Segundo Numero Inteiro: '))\n",
    "\n",
    "# Solicita ao usuário que insira dois números flutuantes\n",
    "num1 = float(input('Primeiro Float: '))\n",
    "num2 = float(input('Segundo Float: '))\n",
    "\n",
    "# Calcula a soma dos números inteiros\n",
    "soma_int = numero1 + numero2\n",
    "# Exibe a soma dos números inteiros\n",
    "print(f'Os Numeros inteiros digitados foram {numero1, numero2} a soma e {soma_int}')\n",
    "\n",
    "# Calcula a multiplicação dos números flutuantes\n",
    "mult_float = num1 * num2\n",
    "# Exibe a multiplicação dos números flutuantes\n",
    "print(f'Os Numeros float digitados foram {num1, num2} a Multiplicação e {mult_float}')\n",
    "\n",
    "# Calcula o quadrado do resultado da multiplicação dos números flutuantes\n",
    "quadrado_float = mult_float ** 2\n",
    "\n",
    "# Calcula a raiz quadrada da soma dos números inteiros\n",
    "raiz_int = soma_int * (1/2)\n",
    "\n",
    "# Calcula a soma do resultado da raiz quadrada dos inteiros e do quadrado da multiplicação dos flutuantes\n",
    "soma_final = raiz_int + quadrado_float\n",
    "# Divide a soma final por 3 para obter o resultado final\n",
    "divisao_final = soma_final / 3\n",
    "\n",
    "# Exibe o resultado final com duas casas decimais\n",
    "print(f'O Resultado final foi de {divisao_final:.2f}')\n",
    "```\n",
    "\n",
    "**Explicação:**\n",
    "\n",
    "1. O programa solicita ao usuário que insira dois números inteiros e dois números flutuantes.\n",
    "2. Em seguida, ele calcula a soma dos números inteiros e armazena o resultado na variável `soma_int`.\n",
    "3. A multiplicação dos números flutuantes é calculada e o resultado é armazenado na variável `mult_float`.\n",
    "4. O quadrado do resultado da multiplicação dos números flutuantes é calculado e armazenado na variável `quadrado_float`.\n",
    "5. A raiz quadrada da soma dos números inteiros é calculada e armazenada na variável `raiz_int`.\n",
    "6. A soma da raiz quadrada dos inteiros e do quadrado da multiplicação dos flutuantes é calculada e armazenada na variável `soma_final`.\n",
    "7. A soma final é dividida por 3 para obter o resultado final, que é armazenado na variável `divisao_final`.\n",
    "8. Por fim, o resultado final é exibido na tela com duas casas decimais.\n",
    "\n",
    "Este programa é projetado para ler quatro números (dois inteiros e dois flutuantes), realizar cálculos com esses números e exibir o resultado final. Ele calcula a soma dos inteiros, a multiplicação dos flutuantes, o quadrado da multiplicação dos flutuantes, a raiz quadrada da soma dos inteiros e, finalmente, a média desses resultados dividida por 3."
   ]
  },
  {
   "cell_type": "code",
   "execution_count": null,
   "metadata": {},
   "outputs": [],
   "source": []
  }
 ],
 "metadata": {
  "kernelspec": {
   "display_name": "base",
   "language": "python",
   "name": "python3"
  },
  "language_info": {
   "codemirror_mode": {
    "name": "ipython",
    "version": 3
   },
   "file_extension": ".py",
   "mimetype": "text/x-python",
   "name": "python",
   "nbconvert_exporter": "python",
   "pygments_lexer": "ipython3",
   "version": "3.11.7"
  }
 },
 "nbformat": 4,
 "nbformat_minor": 2
}
