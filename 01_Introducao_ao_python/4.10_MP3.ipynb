{
 "cells": [
  {
   "cell_type": "markdown",
   "metadata": {},
   "source": [
    "### ***Um grupo de garotos deseja cria um programa que toque um Áudio Mp3.***\n",
    "\n",
    "\n",
    "Biblioteca: Pygame e Time Sleep"
   ]
  },
  {
   "cell_type": "code",
   "execution_count": 3,
   "metadata": {},
   "outputs": [],
   "source": [
    "#Instalando o Pygame\n",
    "#pip install pygame"
   ]
  },
  {
   "cell_type": "markdown",
   "metadata": {},
   "source": [
    "#### ***Codigo Cru sem Comentarios e explicações***"
   ]
  },
  {
   "cell_type": "code",
   "execution_count": 1,
   "metadata": {},
   "outputs": [
    {
     "name": "stdout",
     "output_type": "stream",
     "text": [
      "pygame 2.5.2 (SDL 2.28.3, Python 3.11.7)\n",
      "Hello from the pygame community. https://www.pygame.org/contribute.html\n"
     ]
    }
   ],
   "source": [
    "from pygame import mixer\n",
    "from time import sleep\n",
    "\n",
    "mixer.init()\n",
    "mixer.music.load(\"thunder.mp3\")\n",
    "mixer.music.play()\n",
    "sleep(360)\n"
   ]
  },
  {
   "cell_type": "code",
   "execution_count": null,
   "metadata": {},
   "outputs": [],
   "source": []
  },
  {
   "cell_type": "markdown",
   "metadata": {},
   "source": [
    "#### ***Codigo Documentado***"
   ]
  },
  {
   "cell_type": "markdown",
   "metadata": {},
   "source": [
    "#### ***Explicando o Codigo***"
   ]
  },
  {
   "cell_type": "markdown",
   "metadata": {
    "vscode": {
     "languageId": "plaintext"
    }
   },
   "source": [
    "\n",
    "\n",
    "```python\n",
    "from pygame import mixer\n",
    "from time import sleep\n",
    "\n",
    "# Inicializa o mixer do Pygame\n",
    "mixer.init()\n",
    "\n",
    "# Carrega o arquivo de música \"thunder.mp3\"\n",
    "mixer.music.load(\"thunder.mp3\")\n",
    "\n",
    "# Reproduz a música\n",
    "mixer.music.play()\n",
    "\n",
    "# Espera por 360 segundos (6 minutos)\n",
    "sleep(360)\n",
    "```\n",
    "\n",
    "Explicação do código:\n",
    "\n",
    "1. O código importa as funções necessárias da biblioteca Pygame (`mixer`) e a função `sleep` do módulo `time`.\n",
    "\n",
    "2. O mixer do Pygame é inicializado usando `mixer.init()`.\n",
    "\n",
    "3. O arquivo de música \"thunder.mp3\" é carregado na memória usando `mixer.music.load(\"thunder.mp3\")`.\n",
    "\n",
    "4. A música é reproduzida usando `mixer.music.play()`.\n",
    "\n",
    "5. O programa pausa sua execução por 360 segundos (6 minutos) usando `sleep(360)`. Durante esse tempo, a música continua tocando. Após os 6 minutos, o programa termina sua execução e a música para de tocar.\n"
   ]
  },
  {
   "cell_type": "code",
   "execution_count": null,
   "metadata": {},
   "outputs": [],
   "source": []
  }
 ],
 "metadata": {
  "kernelspec": {
   "display_name": "base",
   "language": "python",
   "name": "python3"
  },
  "language_info": {
   "codemirror_mode": {
    "name": "ipython",
    "version": 3
   },
   "file_extension": ".py",
   "mimetype": "text/x-python",
   "name": "python",
   "nbconvert_exporter": "python",
   "pygments_lexer": "ipython3",
   "version": "3.11.7"
  }
 },
 "nbformat": 4,
 "nbformat_minor": 2
}
