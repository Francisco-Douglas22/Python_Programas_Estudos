{
 "cells": [
  {
   "cell_type": "markdown",
   "metadata": {},
   "source": [
    "### ***Faça um programa que leia uma frase pelo teclado e mostre quantas vezes aparece a letra “A”, em que posição ela aparece a primeira vez e em que posição ela aparece a úl􀆟ma vez. O Programa devera testa se a Frase forma um palíndromo ou não***"
   ]
  },
  {
   "cell_type": "code",
   "execution_count": null,
   "metadata": {},
   "outputs": [],
   "source": []
  },
  {
   "cell_type": "markdown",
   "metadata": {},
   "source": [
    "#### ***Codigo Cru sem Comentarios e explicações***"
   ]
  },
  {
   "cell_type": "code",
   "execution_count": 3,
   "metadata": {},
   "outputs": [
    {
     "name": "stdout",
     "output_type": "stream",
     "text": [
      "A Frase digitada foi: \u001b[33mARARA AZUL\u001b[0m\n",
      "Quantas Vezes apareceu a letra A? 4\n",
      "Em Que posição apareceu a primeira vez a letra A? 1\n",
      "Em Que posição apareceu a ultima vez? 6\n",
      "A Frase forma um palindromo? False\n"
     ]
    }
   ],
   "source": [
    "frase = str(input('Digite uma frase: ')).upper()\n",
    "print(f'A Frase digitada foi: \\33[33m{frase}\\33[0m')\n",
    "\n",
    "print(f'Quantas Vezes apareceu a letra A? {frase.count(\"A\")}')\n",
    "print(f'Em Que posição apareceu a primeira vez a letra A? {frase.find(\"A\")+1}')\n",
    "print(f'Em Que posição apareceu a ultima vez? {frase.rfind(\"A\") - frase.count(\" \") + 1}')\n",
    "\n",
    "inverso = frase[::-1]\n",
    "print(f'A Frase forma um palindromo? {inverso == frase}')"
   ]
  },
  {
   "cell_type": "code",
   "execution_count": null,
   "metadata": {},
   "outputs": [],
   "source": []
  },
  {
   "cell_type": "markdown",
   "metadata": {},
   "source": [
    "#### ***Codigo Documentado***"
   ]
  },
  {
   "cell_type": "markdown",
   "metadata": {},
   "source": [
    "#### ***Explicando o Codigo***"
   ]
  },
  {
   "cell_type": "markdown",
   "metadata": {
    "vscode": {
     "languageId": "plaintext"
    }
   },
   "source": [
    "\n",
    "\n",
    "```python\n",
    "# Solicita ao usuário que digite uma frase e armazena-a na variável 'frase', convertendo-a para letras maiúsculas\n",
    "frase = str(input('Digite uma frase: ')).upper()\n",
    "\n",
    "# Imprime a frase digitada pelo usuário em amarelo\n",
    "print(f'A frase digitada foi: \\33[33m{frase}\\33[0m')\n",
    "\n",
    "# Conta quantas vezes a letra \"A\" aparece na frase e imprime o resultado\n",
    "print(f'Quantas vezes apareceu a letra A? {frase.count(\"A\")}')\n",
    "\n",
    "# Encontra a posição da primeira ocorrência da letra \"A\" na frase e imprime o resultado\n",
    "print(f'Em que posição apareceu a primeira vez a letra A? {frase.find(\"A\") + 1}')\n",
    "\n",
    "# Encontra a posição da última ocorrência da letra \"A\" na frase e imprime o resultado\n",
    "print(f'Em que posição apareceu a última vez? {frase.rfind(\"A\") - frase.count(\" \") + 1}')\n",
    "\n",
    "# Inverte a frase e verifica se é um palíndromo, imprime o resultado\n",
    "inverso = frase[::-1]\n",
    "print(f'A frase forma um palíndromo? {inverso == frase}')\n",
    "```\n",
    "\n",
    "**Explicação:**\n",
    "\n",
    "1. **Input da Frase:** Solicita ao usuário que digite uma frase e armazena-a na variável `frase`, convertendo-a para letras maiúsculas usando o método `upper()`.\n",
    "\n",
    "2. **Impressão da Frase:** Imprime a frase digitada pelo usuário em amarelo. Isso é feito usando códigos de escape ANSI, onde `\\33[33m` representa a cor amarela e `\\33[0m` é usado para voltar à cor padrão.\n",
    "\n",
    "3. **Contagem da Letra \"A\":** Utiliza o método `count()` para contar quantas vezes a letra \"A\" aparece na frase e imprime o resultado.\n",
    "\n",
    "4. **Posição da Primeira Ocorrência da Letra \"A\":** Utiliza o método `find()` para encontrar a posição da primeira ocorrência da letra \"A\" na frase e imprime o resultado. Adiciona 1 ao resultado para que a posição seja exibida em termos humanos (começando de 1, em vez de 0).\n",
    "\n",
    "5. **Posição da Última Ocorrência da Letra \"A\":** Utiliza o método `rfind()` para encontrar a posição da última ocorrência da letra \"A\" na frase e subtrai a contagem de espaços na frase para obter a posição correta. Novamente, adiciona 1 ao resultado para a apresentação em termos humanos.\n",
    "\n",
    "6. **Verificação de Palíndromo:** Inverte a frase e verifica se ela é um palíndromo, ou seja, se é idêntica à versão original quando invertida. Imprime o resultado da verificação."
   ]
  },
  {
   "cell_type": "code",
   "execution_count": null,
   "metadata": {},
   "outputs": [],
   "source": []
  }
 ],
 "metadata": {
  "kernelspec": {
   "display_name": "base",
   "language": "python",
   "name": "python3"
  },
  "language_info": {
   "codemirror_mode": {
    "name": "ipython",
    "version": 3
   },
   "file_extension": ".py",
   "mimetype": "text/x-python",
   "name": "python",
   "nbconvert_exporter": "python",
   "pygments_lexer": "ipython3",
   "version": "3.11.7"
  }
 },
 "nbformat": 4,
 "nbformat_minor": 2
}
