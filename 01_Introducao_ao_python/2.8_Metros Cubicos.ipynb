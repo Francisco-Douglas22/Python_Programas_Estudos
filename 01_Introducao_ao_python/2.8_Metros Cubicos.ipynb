{
 "cells": [
  {
   "cell_type": "markdown",
   "metadata": {},
   "source": [
    "### ***18 - Leia 3 valores de Metros Cúbicos M³ e apresente em Litros, depois some esses valores e apresente o resultado em Metros Cúbicos M³.***\n",
    "\n",
    "        Formulas: L = 1000 * M\n",
    "        Formulas: M = L / 1000"
   ]
  },
  {
   "cell_type": "code",
   "execution_count": null,
   "metadata": {},
   "outputs": [],
   "source": []
  },
  {
   "cell_type": "markdown",
   "metadata": {},
   "source": [
    "#### ***Codigo Cru sem Comentarios e explicações***"
   ]
  },
  {
   "cell_type": "code",
   "execution_count": 2,
   "metadata": {},
   "outputs": [
    {
     "name": "stdout",
     "output_type": "stream",
     "text": [
      "\n",
      "1 Metros M³ equivalem a 1000 Litros de Agua\n",
      "2 Metros M³ equivalem a 2000 Litros de Agua)\n",
      "3 Metros M³ equivalem a 3000 Litros de Agua)\n",
      "\n",
      "6000 Litros equivalem a 6.0 M³ de agua\n"
     ]
    }
   ],
   "source": [
    "#variaveis\n",
    "m1 = int(input('Primeiro Metro Cubico M³: '))\n",
    "m2 = int(input('Segundo Metro Cubico M³: '))\n",
    "m3 = int(input('Terceiro Metro Cubico M³: '))\n",
    "\n",
    "#Conversao\n",
    "litros1 = m1 * 1000\n",
    "litros2 = m2 * 1000\n",
    "litros3 = m3 * 1000\n",
    "print(f'''\n",
    "{m1} Metros M³ equivalem a {litros1} Litros de Agua\n",
    "{m2} Metros M³ equivalem a {litros2} Litros de Agua)\n",
    "{m3} Metros M³ equivalem a {litros3} Litros de Agua)\n",
    "''')\n",
    "\n",
    "#Soma final \n",
    "soma_litros = litros1+litros2+litros3\n",
    "M_cubico = soma_litros / 1000\n",
    "print(f'{soma_litros} Litros equivalem a {M_cubico} M³ de agua')\n"
   ]
  },
  {
   "cell_type": "code",
   "execution_count": null,
   "metadata": {},
   "outputs": [],
   "source": []
  },
  {
   "cell_type": "markdown",
   "metadata": {},
   "source": [
    "#### ***Codigo Documentado***"
   ]
  },
  {
   "cell_type": "markdown",
   "metadata": {},
   "source": [
    "#### ***Explicando o Codigo***"
   ]
  },
  {
   "cell_type": "markdown",
   "metadata": {
    "vscode": {
     "languageId": "plaintext"
    }
   },
   "source": [
    "\n",
    "\n",
    "```python\n",
    "# Solicita ao usuário para inserir três valores em metros cúbicos\n",
    "m1 = int(input('Primeiro Metro Cubico M³: '))\n",
    "m2 = int(input('Segundo Metro Cubico M³: '))\n",
    "m3 = int(input('Terceiro Metro Cubico M³: '))\n",
    "\n",
    "# Converte os metros cúbicos em litros\n",
    "litros1 = m1 * 1000\n",
    "litros2 = m2 * 1000\n",
    "litros3 = m3 * 1000\n",
    "\n",
    "# Exibe os resultados da conversão para litros para cada valor inserido\n",
    "print(f'''\n",
    "{m1} Metros M³ equivalem a {litros1} Litros de Água\n",
    "{m2} Metros M³ equivalem a {litros2} Litros de Água)\n",
    "{m3} Metros M³ equivalem a {litros3} Litros de Água)\n",
    "''')\n",
    "\n",
    "# Calcula a soma total em litros\n",
    "soma_litros = litros1 + litros2 + litros3\n",
    "\n",
    "# Converte a soma total de litros de volta para metros cúbicos\n",
    "M_cubico = soma_litros / 1000\n",
    "\n",
    "# Exibe a soma total em litros e sua equivalência em metros cúbicos\n",
    "print(f'{soma_litros} Litros equivalem a {M_cubico} M³ de água')\n",
    "```\n",
    "\n",
    "Agora, vamos explicar em detalhes:\n",
    "\n",
    "- As variáveis `m1`, `m2`, e `m3` armazenam os valores inseridos pelo usuário, que representam os metros cúbicos de água.\n",
    "\n",
    "- As variáveis `litros1`, `litros2`, e `litros3` armazenam os valores convertidos dos metros cúbicos para litros, multiplicando cada valor de metros cúbicos por 1000, pois 1 metro cúbico é igual a 1000 litros.\n",
    "\n",
    "- O comando `print` exibe os valores originais em metros cúbicos e os valores convertidos em litros para cada entrada fornecida pelo usuário.\n",
    "\n",
    "- A variável `soma_litros` calcula a soma total de litros das três entradas.\n",
    "\n",
    "- A variável `M_cubico` calcula a equivalência da soma total de litros em metros cúbicos, dividindo a soma total de litros por 1000.\n",
    "\n",
    "- Por fim, o comando `print` exibe a soma total de litros e sua equivalência em metros cúbicos."
   ]
  },
  {
   "cell_type": "code",
   "execution_count": null,
   "metadata": {},
   "outputs": [],
   "source": []
  }
 ],
 "metadata": {
  "kernelspec": {
   "display_name": "base",
   "language": "python",
   "name": "python3"
  },
  "language_info": {
   "codemirror_mode": {
    "name": "ipython",
    "version": 3
   },
   "file_extension": ".py",
   "mimetype": "text/x-python",
   "name": "python",
   "nbconvert_exporter": "python",
   "pygments_lexer": "ipython3",
   "version": "3.11.7"
  }
 },
 "nbformat": 4,
 "nbformat_minor": 2
}
