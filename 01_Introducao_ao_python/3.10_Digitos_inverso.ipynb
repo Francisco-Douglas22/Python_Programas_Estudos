{
 "cells": [
  {
   "cell_type": "markdown",
   "metadata": {},
   "source": [
    "### ***Faça um programa que leia um numero inteiro posi􀆟vo de três dígitos (de 100 a 999) Gere um outro número formado de dígitos inver􀆟dos do número: Exemplo 123 = 321***"
   ]
  },
  {
   "cell_type": "code",
   "execution_count": null,
   "metadata": {},
   "outputs": [],
   "source": []
  },
  {
   "cell_type": "markdown",
   "metadata": {},
   "source": [
    "#### ***Codigo Cru sem Comentarios e explicações***"
   ]
  },
  {
   "cell_type": "code",
   "execution_count": 2,
   "metadata": {},
   "outputs": [
    {
     "name": "stdout",
     "output_type": "stream",
     "text": [
      "O Numero digitado foi 467 seu inverso e 764\n"
     ]
    }
   ],
   "source": [
    "#Variavel\n",
    "numero = int(input('Digite o Numero: '))\n",
    "\n",
    "string = str(numero)\n",
    "inverso = string[::-1]\n",
    "\n",
    "print(f'O Numero digitado foi {numero} seu inverso e {int(inverso)}')"
   ]
  },
  {
   "cell_type": "code",
   "execution_count": null,
   "metadata": {},
   "outputs": [],
   "source": []
  },
  {
   "cell_type": "markdown",
   "metadata": {},
   "source": [
    "#### ***Codigo Documentado***"
   ]
  },
  {
   "cell_type": "markdown",
   "metadata": {},
   "source": [
    "#### ***Explicando o Codigo***"
   ]
  },
  {
   "cell_type": "markdown",
   "metadata": {
    "vscode": {
     "languageId": "plaintext"
    }
   },
   "source": [
    "```python\n",
    "# Variavel\n",
    "numero = int(input('Digite o Numero: '))  # Solicita ao usuário que digite um número e o converte para inteiro\n",
    "\n",
    "# Converte o número em uma string para poder realizar a inversão dos dígitos\n",
    "string = str(numero)\n",
    "\n",
    "# Inverte a ordem dos caracteres na string, criando o inverso do número\n",
    "inverso = string[::-1]\n",
    "\n",
    "# Imprime o número original digitado pelo usuário e seu inverso, após converter o inverso para inteiro\n",
    "print(f'O Numero digitado foi {numero} seu inverso e {int(inverso)}')\n",
    "```\n",
    "\n",
    "Este código solicita ao usuário que digite um número inteiro. Em seguida, converte esse número em uma string para que possa ser invertido. Utiliza a sintaxe de slicing `[::-1]` para inverter a ordem dos caracteres na string, produzindo o inverso do número digitado. Por fim, imprime tanto o número original quanto seu inverso."
   ]
  },
  {
   "cell_type": "code",
   "execution_count": null,
   "metadata": {},
   "outputs": [],
   "source": []
  }
 ],
 "metadata": {
  "kernelspec": {
   "display_name": "base",
   "language": "python",
   "name": "python3"
  },
  "language_info": {
   "codemirror_mode": {
    "name": "ipython",
    "version": 3
   },
   "file_extension": ".py",
   "mimetype": "text/x-python",
   "name": "python",
   "nbconvert_exporter": "python",
   "pygments_lexer": "ipython3",
   "version": "3.11.7"
  }
 },
 "nbformat": 4,
 "nbformat_minor": 2
}
