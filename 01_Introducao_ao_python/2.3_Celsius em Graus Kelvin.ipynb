{
 "cells": [
  {
   "cell_type": "markdown",
   "metadata": {},
   "source": [
    "### Programa que receba 2 inputs, um Para transforma Graus Kelvin em Graus Celsius e o outro\n",
    "Para Transforma Graus Celsius em Graus Kelvin\n",
    "\n",
    "\n",
    "        Formulas: C = K – 273.15\n",
    "        Formulas: K = C + 273.15"
   ]
  },
  {
   "cell_type": "code",
   "execution_count": null,
   "metadata": {},
   "outputs": [],
   "source": []
  },
  {
   "cell_type": "markdown",
   "metadata": {},
   "source": [
    "#### ***Codigo Cru sem Comentarios e explicações***"
   ]
  },
  {
   "cell_type": "code",
   "execution_count": 4,
   "metadata": {},
   "outputs": [
    {
     "name": "stdout",
     "output_type": "stream",
     "text": [
      "473.15 Graus K° equivalem a 200.00 Graus C°\n",
      "-73.15 Graus C° equivalem a 200.00 Graus Kelvin\n"
     ]
    }
   ],
   "source": [
    "kelvin = float(input('Digite os graus em Kelvin: '))\n",
    "celsius = float(input('Digite o Graus Celsius: '))\n",
    "\n",
    "#Conversao Kelvin para celsius\n",
    "k_para_c = kelvin - 273.15\n",
    "\n",
    "#Conversao  Celsios para Kelvin\n",
    "c_para_k = celsius + 273.15\n",
    "\n",
    "print(f'{kelvin} Graus K° equivalem a {k_para_c:.2f} Graus C°')\n",
    "print(f'{celsius} Graus C° equivalem a {c_para_k:.2f} Graus Kelvin')"
   ]
  },
  {
   "cell_type": "code",
   "execution_count": null,
   "metadata": {},
   "outputs": [],
   "source": []
  },
  {
   "cell_type": "markdown",
   "metadata": {},
   "source": [
    "#### ***Codigo Documentado***"
   ]
  },
  {
   "cell_type": "markdown",
   "metadata": {},
   "source": [
    "#### ***Explicando o Codigo***"
   ]
  },
  {
   "cell_type": "markdown",
   "metadata": {
    "vscode": {
     "languageId": "plaintext"
    }
   },
   "source": [
    "Aqui está o seu código documentado:\n",
    "\n",
    "```python\n",
    "# Solicita ao usuário que insira a temperatura em Kelvin e a armazena como um número de ponto flutuante\n",
    "kelvin = float(input('Digite os graus em Kelvin: '))\n",
    "\n",
    "# Solicita ao usuário que insira a temperatura em Celsius e a armazena como um número de ponto flutuante\n",
    "celsius = float(input('Digite os Graus Celsius: '))\n",
    "\n",
    "# Conversão de Kelvin para Celsius\n",
    "k_para_c = kelvin - 273.15\n",
    "\n",
    "# Conversão de Celsius para Kelvin\n",
    "c_para_k = celsius + 273.15\n",
    "\n",
    "# Imprime a temperatura em Kelvin convertida para Celsius com duas casas decimais\n",
    "print(f'{kelvin} Graus K° equivalem a {k_para_c:.2f} Graus C°')\n",
    "\n",
    "# Imprime a temperatura em Celsius convertida para Kelvin com duas casas decimais\n",
    "print(f'{celsius} Graus C° equivalem a {c_para_k:.2f} Graus Kelvin')\n",
    "```\n",
    "\n",
    "Explicação detalhada:\n",
    "\n",
    "1. O código começa solicitando ao usuário que insira a temperatura em Kelvin e a armazena como um número de ponto flutuante na variável `kelvin`.\n",
    "\n",
    "2. Em seguida, solicita ao usuário que insira a temperatura em Celsius e a armazena como um número de ponto flutuante na variável `celsius`.\n",
    "\n",
    "3. A temperatura em Kelvin é convertida para Celsius subtraindo 273.15 (a diferença entre o ponto de congelamento da água em Kelvin e Celsius), e o resultado é armazenado na variável `k_para_c`.\n",
    "\n",
    "4. Da mesma forma, a temperatura em Celsius é convertida para Kelvin adicionando 273.15, e o resultado é armazenado na variável `c_para_k`.\n",
    "\n",
    "5. As temperaturas convertidas são impressas na tela usando a função `print()`. Os f-strings (ou formatted strings) são usados para incorporar as variáveis diretamente no texto, e `:.2f` é usado para limitar o número de casas decimais a duas."
   ]
  },
  {
   "cell_type": "code",
   "execution_count": null,
   "metadata": {},
   "outputs": [],
   "source": []
  }
 ],
 "metadata": {
  "kernelspec": {
   "display_name": "base",
   "language": "python",
   "name": "python3"
  },
  "language_info": {
   "codemirror_mode": {
    "name": "ipython",
    "version": 3
   },
   "file_extension": ".py",
   "mimetype": "text/x-python",
   "name": "python",
   "nbconvert_exporter": "python",
   "pygments_lexer": "ipython3",
   "version": "3.11.7"
  }
 },
 "nbformat": 4,
 "nbformat_minor": 2
}
