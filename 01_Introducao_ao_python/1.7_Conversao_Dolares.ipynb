{
 "cells": [
  {
   "cell_type": "markdown",
   "metadata": {},
   "source": [
    "### ***Crie um programa que leia quanto dinheiro uma pessoa tem na carteira e mostre quantos dólares ela pode comprar***"
   ]
  },
  {
   "cell_type": "code",
   "execution_count": null,
   "metadata": {},
   "outputs": [],
   "source": []
  },
  {
   "cell_type": "markdown",
   "metadata": {},
   "source": [
    "#### ***Codigo Cru sem Comentarios e explicações***"
   ]
  },
  {
   "cell_type": "code",
   "execution_count": 1,
   "metadata": {},
   "outputs": [
    {
     "name": "stdout",
     "output_type": "stream",
     "text": [
      "A Quantia de 45678.0 R$ com o Dolar a 4.68 U$ podera compra 9760.26 U$ Dolares\n"
     ]
    }
   ],
   "source": [
    "dinheiro = float(input('Quanto dinheiro voce tem na Carteira: R$ '))\n",
    "valor_dolar = 4.68\n",
    "total_dolar = dinheiro / valor_dolar\n",
    "\n",
    "print(f'A Quantia de {dinheiro} R$ com o Dolar a {valor_dolar} U$ podera compra {total_dolar:.2f} U$ Dolares')"
   ]
  },
  {
   "cell_type": "code",
   "execution_count": null,
   "metadata": {},
   "outputs": [],
   "source": []
  },
  {
   "cell_type": "markdown",
   "metadata": {},
   "source": [
    "#### ***Codigo Documentado***"
   ]
  },
  {
   "cell_type": "markdown",
   "metadata": {},
   "source": [
    "#### ***Explicando o Codigo***"
   ]
  },
  {
   "cell_type": "markdown",
   "metadata": {
    "vscode": {
     "languageId": "plaintext"
    }
   },
   "source": [
    "Aqui está o código documentado:\n",
    "\n",
    "```python\n",
    "# Solicita ao usuário que insira a quantidade de dinheiro na carteira em reais e armazena o valor na variável 'dinheiro'\n",
    "dinheiro = float(input('Quanto dinheiro você tem na carteira: R$ '))\n",
    "\n",
    "# Define o valor atual do dólar em relação ao real\n",
    "valor_dolar = 4.68\n",
    "\n",
    "# Calcula a quantidade total de dólares que podem ser comprados com o dinheiro disponível na carteira\n",
    "total_dolar = dinheiro / valor_dolar\n",
    "\n",
    "# Imprime a quantidade de dinheiro em reais e o equivalente em dólares com duas casas decimais\n",
    "print(f'A quantia de R$ {dinheiro:.2f} com o dólar a R$ {valor_dolar:.2f} poderá comprar {total_dolar:.2f} dólares')\n",
    "```\n",
    "\n",
    "**Explicação:**\n",
    "\n",
    "1. **Solicitação da quantidade de dinheiro:** O programa solicita ao usuário que insira a quantidade de dinheiro na carteira em reais utilizando a função `input()`. O valor inserido pelo usuário é convertido para um número decimal (float) utilizando `float()` e armazenado na variável `dinheiro`.\n",
    "\n",
    "2. **Definição do valor do dólar:** O programa define o valor atual do dólar em relação ao real na variável `valor_dolar`.\n",
    "\n",
    "3. **Cálculo da quantidade de dólares:** O programa calcula a quantidade total de dólares que podem ser comprados com o dinheiro disponível na carteira, dividindo o valor em reais pela taxa de câmbio (valor do dólar em reais) e armazenando o resultado na variável `total_dolar`.\n",
    "\n",
    "4. **Impressão do resultado:** Utilizando uma f-string, o programa imprime uma mensagem que contém a quantidade de dinheiro em reais, o valor atual do dólar em reais e o equivalente em dólares com duas casas decimais."
   ]
  },
  {
   "cell_type": "code",
   "execution_count": null,
   "metadata": {},
   "outputs": [],
   "source": []
  }
 ],
 "metadata": {
  "kernelspec": {
   "display_name": "base",
   "language": "python",
   "name": "python3"
  },
  "language_info": {
   "codemirror_mode": {
    "name": "ipython",
    "version": 3
   },
   "file_extension": ".py",
   "mimetype": "text/x-python",
   "name": "python",
   "nbconvert_exporter": "python",
   "pygments_lexer": "ipython3",
   "version": "3.11.7"
  }
 },
 "nbformat": 4,
 "nbformat_minor": 2
}
