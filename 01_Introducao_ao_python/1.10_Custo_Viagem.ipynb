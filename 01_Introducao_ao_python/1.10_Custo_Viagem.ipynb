{
 "cells": [
  {
   "cell_type": "markdown",
   "metadata": {},
   "source": [
    "### ***Escreva um programa que pergunte a quan􀆟dade de Km percorridos por um carro alugado e a quantidade de dias pelos quais ele foi alugado. Calcule o preço a pagar, sabendo que o carro custa R$60 por dia e R$0,15 por Km rodado***"
   ]
  },
  {
   "cell_type": "code",
   "execution_count": null,
   "metadata": {},
   "outputs": [],
   "source": []
  },
  {
   "cell_type": "markdown",
   "metadata": {},
   "source": [
    "#### ***Codigo Cru sem Comentarios e explicações***"
   ]
  },
  {
   "cell_type": "code",
   "execution_count": 1,
   "metadata": {},
   "outputs": [
    {
     "name": "stdout",
     "output_type": "stream",
     "text": [
      "Um carro que percorreu 234.0 km em 2 dias tera um custo de 155.10 R$\n"
     ]
    }
   ],
   "source": [
    "km_percorridos = float(input('Quantidade de Km percorridos: '))\n",
    "dias_alugado = int(input('Total de dias que o carro ficou alugado: '))\n",
    "custo_total = (km_percorridos * 0.15)  + (dias_alugado * 60)\n",
    "\n",
    "print(f'Um carro que percorreu {km_percorridos} km em {dias_alugado} dias tera um custo de {custo_total:.2f} R$')"
   ]
  },
  {
   "cell_type": "code",
   "execution_count": null,
   "metadata": {},
   "outputs": [],
   "source": []
  },
  {
   "cell_type": "markdown",
   "metadata": {},
   "source": [
    "#### ***Codigo Documentado***"
   ]
  },
  {
   "cell_type": "markdown",
   "metadata": {},
   "source": [
    "#### ***Explicando o Codigo***"
   ]
  },
  {
   "cell_type": "markdown",
   "metadata": {
    "vscode": {
     "languageId": "plaintext"
    }
   },
   "source": [
    "\n",
    "\n",
    "```python\n",
    "# Solicita ao usuário que informe a quantidade de quilômetros percorridos com o carro\n",
    "km_percorridos = float(input('Quantidade de km percorridos: '))\n",
    "\n",
    "# Solicita ao usuário que informe o total de dias que o carro foi alugado\n",
    "dias_alugado = int(input('Total de dias que o carro ficou alugado: '))\n",
    "\n",
    "# Calcula o custo total do aluguel do carro, considerando R$ 0,15 por quilômetro percorrido e R$ 60 por dia de aluguel\n",
    "custo_total = (km_percorridos * 0.15) + (dias_alugado * 60)\n",
    "\n",
    "# Imprime uma mensagem informando o custo total do aluguel do carro\n",
    "print(f'Um carro que percorreu {km_percorridos} km em {dias_alugado} dias terá um custo de R$ {custo_total:.2f}.')\n",
    "```\n",
    "\n",
    "**Explicação:**\n",
    "\n",
    "1. **Solicitação das informações:** O programa pede para o usuário informar a quantidade de quilômetros percorridos com o carro e o total de dias que o carro foi alugado.\n",
    "\n",
    "2. **Cálculo do custo total:** O custo total do aluguel do carro é calculado somando o custo dos quilômetros percorridos (R$ 0,15 por quilômetro) com o custo dos dias de aluguel (R$ 60 por dia).\n",
    "\n",
    "3. **Impressão do resultado:** Por fim, o programa imprime uma mensagem que informa ao usuário o custo total do aluguel do carro, incluindo a quantidade de quilômetros percorridos e o total de dias de aluguel. Os valores são exibidos com duas casas decimais para facilitar a leitura."
   ]
  },
  {
   "cell_type": "code",
   "execution_count": null,
   "metadata": {},
   "outputs": [],
   "source": []
  }
 ],
 "metadata": {
  "kernelspec": {
   "display_name": "base",
   "language": "python",
   "name": "python3"
  },
  "language_info": {
   "codemirror_mode": {
    "name": "ipython",
    "version": 3
   },
   "file_extension": ".py",
   "mimetype": "text/x-python",
   "name": "python",
   "nbconvert_exporter": "python",
   "pygments_lexer": "ipython3",
   "version": "3.11.7"
  }
 },
 "nbformat": 4,
 "nbformat_minor": 2
}
