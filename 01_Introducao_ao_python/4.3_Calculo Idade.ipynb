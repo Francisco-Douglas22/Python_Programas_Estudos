{
 "cells": [
  {
   "cell_type": "markdown",
   "metadata": {},
   "source": [
    "### ***Crie um programa que leia o ano de uma pessoa e calcule sua idade a par􀆟r da data atual***"
   ]
  },
  {
   "cell_type": "code",
   "execution_count": null,
   "metadata": {},
   "outputs": [],
   "source": []
  },
  {
   "cell_type": "markdown",
   "metadata": {},
   "source": [
    "#### ***Codigo Cru sem Comentarios e explicações***"
   ]
  },
  {
   "cell_type": "code",
   "execution_count": 1,
   "metadata": {},
   "outputs": [
    {
     "name": "stdout",
     "output_type": "stream",
     "text": [
      "Quem nasceu em 1995 no Ano atual 2024 tem ou fará 29 anos\n"
     ]
    }
   ],
   "source": [
    "from datetime import date\n",
    "atual = date.today().year\n",
    "\n",
    "nascimento = int(input('Digte seu ano de Nascimento: '))\n",
    "\n",
    "idade = atual - nascimento\n",
    "print(f'Quem nasceu em {nascimento} no Ano atual {atual} tem ou fará {idade} anos')"
   ]
  },
  {
   "cell_type": "code",
   "execution_count": null,
   "metadata": {},
   "outputs": [],
   "source": []
  },
  {
   "cell_type": "markdown",
   "metadata": {},
   "source": [
    "#### ***Codigo Documentado***"
   ]
  },
  {
   "cell_type": "markdown",
   "metadata": {},
   "source": [
    "#### ***Explicando o Codigo***"
   ]
  },
  {
   "cell_type": "markdown",
   "metadata": {
    "vscode": {
     "languageId": "plaintext"
    }
   },
   "source": [
    "\n",
    "\n",
    "```python\n",
    "# Importa a classe 'date' do módulo 'datetime'\n",
    "from datetime import date\n",
    "\n",
    "# Obtém o ano atual\n",
    "atual = date.today().year\n",
    "\n",
    "# Solicita ao usuário que digite o ano de nascimento e converte o valor para inteiro\n",
    "nascimento = int(input('Digite seu ano de Nascimento: '))\n",
    "\n",
    "# Calcula a idade subtraindo o ano de nascimento do ano atual\n",
    "idade = atual - nascimento\n",
    "\n",
    "# Exibe a idade do usuário\n",
    "print(f'Quem nasceu em {nascimento} no ano atual {atual} tem ou fará {idade} anos')\n",
    "```\n",
    "\n",
    "Explicação do código:\n",
    "\n",
    "1. `from datetime import date`: Isso importa a classe `date` do módulo `datetime`, que é usada para manipular datas.\n",
    "\n",
    "2. `atual = date.today().year`: Isso obtém o ano atual usando o método `today()` da classe `date` para obter a data atual e, em seguida, acessa o atributo `year` para obter apenas o ano.\n",
    "\n",
    "3. `nascimento = int(input('Digite seu ano de Nascimento: '))`: Isso solicita ao usuário que digite seu ano de nascimento e converte o valor inserido para um número inteiro usando a função `int()`.\n",
    "\n",
    "4. `idade = atual - nascimento`: Isso calcula a idade subtraindo o ano de nascimento do ano atual.\n",
    "\n",
    "5. `print(f'Quem nasceu em {nascimento} no ano atual {atual} tem ou fará {idade} anos')`: Isso exibe a frase formatada usando uma f-string, onde `{nascimento}` e `{atual}` são substituídos pelos anos de nascimento e atual, respectivamente, e `{idade}` é substituído pelo cálculo da idade."
   ]
  },
  {
   "cell_type": "code",
   "execution_count": null,
   "metadata": {},
   "outputs": [],
   "source": []
  }
 ],
 "metadata": {
  "kernelspec": {
   "display_name": "base",
   "language": "python",
   "name": "python3"
  },
  "language_info": {
   "codemirror_mode": {
    "name": "ipython",
    "version": 3
   },
   "file_extension": ".py",
   "mimetype": "text/x-python",
   "name": "python",
   "nbconvert_exporter": "python",
   "pygments_lexer": "ipython3",
   "version": "3.11.7"
  }
 },
 "nbformat": 4,
 "nbformat_minor": 2
}
