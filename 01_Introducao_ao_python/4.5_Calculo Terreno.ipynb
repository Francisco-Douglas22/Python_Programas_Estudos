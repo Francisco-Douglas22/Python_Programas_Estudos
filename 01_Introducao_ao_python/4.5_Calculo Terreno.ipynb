{
 "cells": [
  {
   "cell_type": "markdown",
   "metadata": {},
   "source": [
    "### ***Faça um programa para ler as dimensões de um terreno (comprimento x largura) bem como o preço do metro de arame. Imprima o custo para cerca esse terreno todo***"
   ]
  },
  {
   "cell_type": "code",
   "execution_count": null,
   "metadata": {},
   "outputs": [],
   "source": []
  },
  {
   "cell_type": "markdown",
   "metadata": {},
   "source": [
    "#### ***Codigo Cru sem Comentarios e explicações***"
   ]
  },
  {
   "cell_type": "code",
   "execution_count": 1,
   "metadata": {},
   "outputs": [
    {
     "name": "stdout",
     "output_type": "stream",
     "text": [
      "Um terreno de 480000.00 Metros² tera um custo de 1440000.00 Para cerca de arame\n"
     ]
    }
   ],
   "source": [
    "largura = float(input('Digite a largura do Terreno: '))\n",
    "comprimento = float(input('Digite o Comprimento do Terreno: '))\n",
    "\n",
    "metros = largura * comprimento\n",
    "\n",
    "preco_arame = float(input('Preco do Metro de Arame: R$ '))\n",
    "\n",
    "Custo_total = preco_arame * metros\n",
    "\n",
    "print(f'Um terreno de {metros:.2f} Metros² tera um custo de {Custo_total:.2f} Para cerca de arame')"
   ]
  },
  {
   "cell_type": "code",
   "execution_count": null,
   "metadata": {},
   "outputs": [],
   "source": []
  },
  {
   "cell_type": "markdown",
   "metadata": {},
   "source": [
    "#### ***Codigo Documentado***"
   ]
  },
  {
   "cell_type": "markdown",
   "metadata": {},
   "source": [
    "#### ***Explicando o Codigo***"
   ]
  },
  {
   "cell_type": "markdown",
   "metadata": {
    "vscode": {
     "languageId": "plaintext"
    }
   },
   "source": [
    "\n",
    "\n",
    "```python\n",
    "# Solicitar a largura do terreno ao usuário\n",
    "largura = float(input('Digite a largura do Terreno: '))\n",
    "\n",
    "# Solicitar o comprimento do terreno ao usuário\n",
    "comprimento = float(input('Digite o Comprimento do Terreno: '))\n",
    "\n",
    "# Calcular a área do terreno multiplicando largura e comprimento\n",
    "metros = largura * comprimento\n",
    "\n",
    "# Solicitar o preço do metro de arame ao usuário\n",
    "preco_arame = float(input('Preco do Metro de Arame: R$ '))\n",
    "\n",
    "# Calcular o custo total da cerca multiplicando o preço do arame pela área do terreno\n",
    "Custo_total = preco_arame * metros\n",
    "\n",
    "# Exibir o resultado para o usuário com duas casas decimais\n",
    "print(f'Um terreno de {metros:.2f} Metros² tera um custo de {Custo_total:.2f} Para cerca de arame')\n",
    "```\n",
    "\n",
    "Explicação Detalhada:\n",
    "\n",
    "1. O programa começa solicitando ao usuário que insira a largura do terreno e armazena essa entrada como um número de ponto flutuante na variável `largura`.\n",
    "2. Em seguida, solicita ao usuário que insira o comprimento do terreno e armazena essa entrada como um número de ponto flutuante na variável `comprimento`.\n",
    "3. A área do terreno é calculada multiplicando-se a largura pelo comprimento, e o resultado é armazenado na variável `metros`.\n",
    "4. O programa então solicita ao usuário que insira o preço do metro de arame e armazena essa entrada como um número de ponto flutuante na variável `preco_arame`.\n",
    "5. O custo total para cercar o terreno é calculado multiplicando-se o preço do arame pela área do terreno, e o resultado é armazenado na variável `Custo_total`.\n",
    "6. Finalmente, o programa exibe a mensagem para o usuário, indicando a área do terreno e o custo total da cerca, utilizando formatação de string com duas casas decimais para os valores numéricos."
   ]
  },
  {
   "cell_type": "code",
   "execution_count": null,
   "metadata": {},
   "outputs": [],
   "source": []
  }
 ],
 "metadata": {
  "kernelspec": {
   "display_name": "base",
   "language": "python",
   "name": "python3"
  },
  "language_info": {
   "codemirror_mode": {
    "name": "ipython",
    "version": 3
   },
   "file_extension": ".py",
   "mimetype": "text/x-python",
   "name": "python",
   "nbconvert_exporter": "python",
   "pygments_lexer": "ipython3",
   "version": "3.11.7"
  }
 },
 "nbformat": 4,
 "nbformat_minor": 2
}
