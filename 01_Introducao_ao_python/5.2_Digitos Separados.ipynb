{
 "cells": [
  {
   "cell_type": "markdown",
   "metadata": {},
   "source": [
    "### ***Faça um programa que leia um número de 0 a 9999 e mostre na tela cada um dos dígitos separados***"
   ]
  },
  {
   "cell_type": "code",
   "execution_count": null,
   "metadata": {},
   "outputs": [],
   "source": []
  },
  {
   "cell_type": "markdown",
   "metadata": {},
   "source": [
    "#### ***Codigo Cru sem Comentarios e explicações***"
   ]
  },
  {
   "cell_type": "code",
   "execution_count": 1,
   "metadata": {},
   "outputs": [
    {
     "name": "stdout",
     "output_type": "stream",
     "text": [
      "\n",
      "O Numero 3456 tem ao todo\n",
      "6 Unidades\n",
      "5 Dezenas\n",
      "4 Centenas\n",
      "3 Milhar\n"
     ]
    }
   ],
   "source": [
    "numero = int(input('Digite um numero entre 0 a 9999: '))\n",
    "unidades = numero // 1 % 10\n",
    "dezenas = numero // 10 % 10\n",
    "centenas = numero // 100 % 10\n",
    "milhar = numero // 1000 % 10\n",
    "\n",
    "print(f'''\n",
    "O Numero {numero} tem ao todo\n",
    "{unidades} Unidades\n",
    "{dezenas} Dezenas\n",
    "{centenas} Centenas\n",
    "{milhar} Milhar''')"
   ]
  },
  {
   "cell_type": "code",
   "execution_count": null,
   "metadata": {},
   "outputs": [],
   "source": []
  },
  {
   "cell_type": "markdown",
   "metadata": {},
   "source": [
    "#### ***Codigo Documentado***"
   ]
  },
  {
   "cell_type": "markdown",
   "metadata": {},
   "source": [
    "#### ***Explicando o Codigo***"
   ]
  },
  {
   "cell_type": "markdown",
   "metadata": {
    "vscode": {
     "languageId": "plaintext"
    }
   },
   "source": [
    "\n",
    "```python\n",
    "# Solicita ao usuário que digite um número entre 0 e 9999 e armazena-o na variável 'numero'\n",
    "numero = int(input('Digite um número entre 0 e 9999: '))\n",
    "\n",
    "# Calcula as unidades, dezenas, centenas e milhares do número fornecido pelo usuário\n",
    "# O operador // é usado para divisão inteira e % é usado para obter o resto da divisão\n",
    "unidades = numero // 1 % 10  # Obtém as unidades (o último dígito)\n",
    "dezenas = numero // 10 % 10  # Obtém as dezenas (o penúltimo dígito)\n",
    "centenas = numero // 100 % 10  # Obtém as centenas (o terceiro dígito da direita para a esquerda)\n",
    "milhar = numero // 1000 % 10  # Obtém os milhares (o quarto dígito da direita para a esquerda)\n",
    "\n",
    "# Imprime as contagens das unidades, dezenas, centenas e milhares do número fornecido pelo usuário\n",
    "print(f'''\n",
    "O número {numero} tem ao todo:\n",
    "{unidades} Unidade(s)\n",
    "{dezenas} Dezena(s)\n",
    "{centenas} Centena(s)\n",
    "{milhar} Milhar(es)''')\n",
    "```\n",
    "\n",
    "**Explicação:**\n",
    "\n",
    "1. **Input do Número:** Solicita ao usuário que digite um número entre 0 e 9999 e armazena-o na variável `numero`.\n",
    "\n",
    "2. **Cálculo das Unidades, Dezenas, Centenas e Milhares:** Utiliza operações matemáticas para calcular as unidades, dezenas, centenas e milhares do número fornecido pelo usuário. O operador `//` é usado para realizar uma divisão inteira, e `%` é usado para obter o resto da divisão.\n",
    "\n",
    "3. **Impressão das Contagens:** Imprime as contagens das unidades, dezenas, centenas e milhares do número fornecido pelo usuário, em um formato mais legível para o usuário.\n",
    "\n"
   ]
  },
  {
   "cell_type": "code",
   "execution_count": null,
   "metadata": {},
   "outputs": [],
   "source": []
  }
 ],
 "metadata": {
  "kernelspec": {
   "display_name": "base",
   "language": "python",
   "name": "python3"
  },
  "language_info": {
   "codemirror_mode": {
    "name": "ipython",
    "version": 3
   },
   "file_extension": ".py",
   "mimetype": "text/x-python",
   "name": "python",
   "nbconvert_exporter": "python",
   "pygments_lexer": "ipython3",
   "version": "3.11.7"
  }
 },
 "nbformat": 4,
 "nbformat_minor": 2
}
