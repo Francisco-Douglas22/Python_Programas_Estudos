{
 "cells": [
  {
   "cell_type": "markdown",
   "metadata": {},
   "source": [
    "### ***20 - Leia um valor de comprimento em JARDAS e converta para Metros. Depois disso converta novamente para JARDAS***\n",
    "\n",
    "\n",
    "        Formulas: M = 0.91 * J\n",
    "        Formulas: J = M / 0.91"
   ]
  },
  {
   "cell_type": "code",
   "execution_count": null,
   "metadata": {},
   "outputs": [],
   "source": []
  },
  {
   "cell_type": "markdown",
   "metadata": {},
   "source": [
    "#### ***Codigo Cru sem Comentarios e explicações***"
   ]
  },
  {
   "cell_type": "code",
   "execution_count": 1,
   "metadata": {},
   "outputs": [
    {
     "name": "stdout",
     "output_type": "stream",
     "text": [
      "45.0 Jardas e o mesmo que 40.95 Metros\n",
      "40.95 Metros e o mesmo que 45.0 Jardas\n"
     ]
    }
   ],
   "source": [
    "#variaveis\n",
    "jardas = float(input('Digite as Jardas: '))\n",
    "\n",
    "#Conversao para metros\n",
    "metros = jardas * 0.91\n",
    "\n",
    "#Reversao\n",
    "reverso = metros / 0.91\n",
    "\n",
    "print(f'{jardas} Jardas e o mesmo que {metros:.2f} Metros')\n",
    "print(f'{metros} Metros e o mesmo que {reverso} Jardas')"
   ]
  },
  {
   "cell_type": "code",
   "execution_count": null,
   "metadata": {},
   "outputs": [],
   "source": []
  },
  {
   "cell_type": "markdown",
   "metadata": {},
   "source": [
    "#### ***Codigo Documentado***"
   ]
  },
  {
   "cell_type": "markdown",
   "metadata": {},
   "source": [
    "#### ***Explicando o Codigo***"
   ]
  },
  {
   "cell_type": "markdown",
   "metadata": {
    "vscode": {
     "languageId": "plaintext"
    }
   },
   "source": [
    "\n",
    "\n",
    "```python\n",
    "# Solicita ao usuário para inserir um valor em jardas\n",
    "jardas = float(input('Digite as Jardas: '))\n",
    "\n",
    "# Converte o valor de jardas para metros\n",
    "metros = jardas * 0.91\n",
    "\n",
    "# Realiza a reversão da conversão, convertendo metros de volta para jardas\n",
    "reverso = metros / 0.91\n",
    "\n",
    "# Exibe os resultados da conversão de jardas para metros e vice-versa\n",
    "print(f'{jardas} Jardas é o mesmo que {metros:.2f} Metros')\n",
    "print(f'{metros:.2f} Metros é o mesmo que {reverso:.2f} Jardas')\n",
    "```\n",
    "\n",
    "Aqui está uma explicação detalhada do código:\n",
    "\n",
    "- A variável `jardas` armazena o valor inserido pelo usuário, representando a distância em jardas.\n",
    "\n",
    "- A variável `metros` calcula a conversão da distância de jardas para metros, multiplicando o valor em jardas por 0.91. Esta é uma conversão aproximada, pois 1 jarda é igual a 0.9144 metros.\n",
    "\n",
    "- A variável `reverso` calcula a reversão da conversão, convertendo metros de volta para jardas, dividindo o valor em metros por 0.91.\n",
    "\n",
    "- O comando `print` exibe o valor original em jardas, o valor convertido em metros com duas casas decimais, e o valor revertido para jardas com duas casas decimais."
   ]
  },
  {
   "cell_type": "code",
   "execution_count": null,
   "metadata": {},
   "outputs": [],
   "source": []
  }
 ],
 "metadata": {
  "kernelspec": {
   "display_name": "base",
   "language": "python",
   "name": "python3"
  },
  "language_info": {
   "codemirror_mode": {
    "name": "ipython",
    "version": 3
   },
   "file_extension": ".py",
   "mimetype": "text/x-python",
   "name": "python",
   "nbconvert_exporter": "python",
   "pygments_lexer": "ipython3",
   "version": "3.11.7"
  }
 },
 "nbformat": 4,
 "nbformat_minor": 2
}
