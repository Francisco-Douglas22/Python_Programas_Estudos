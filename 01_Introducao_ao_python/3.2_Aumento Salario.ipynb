{
 "cells": [
  {
   "cell_type": "markdown",
   "metadata": {},
   "source": [
    "### ***Leia o salário de um funcionário. Calcule o valor do novo salário, sabendo que ele recebe um aumento de 25%***"
   ]
  },
  {
   "cell_type": "code",
   "execution_count": null,
   "metadata": {},
   "outputs": [],
   "source": []
  },
  {
   "cell_type": "markdown",
   "metadata": {},
   "source": [
    "#### ***Codigo Cru sem Comentarios e explicações***"
   ]
  },
  {
   "cell_type": "code",
   "execution_count": 1,
   "metadata": {},
   "outputs": [
    {
     "name": "stdout",
     "output_type": "stream",
     "text": [
      "O Funcionario que ganhava 3450.00 R$ com 25% de aumento passara a ganha 4312.50 R$\n"
     ]
    }
   ],
   "source": [
    "salario = float(input('Digite o salario do funcionario: R$ '))\n",
    "\n",
    "#Calculo novo salario\n",
    "novo_salario = salario * 1.25\n",
    "print(f'O Funcionario que ganhava {salario:.2f} R$ com 25% de aumento passara a ganha {novo_salario:.2f} R$')"
   ]
  },
  {
   "cell_type": "code",
   "execution_count": null,
   "metadata": {},
   "outputs": [],
   "source": []
  },
  {
   "cell_type": "markdown",
   "metadata": {},
   "source": [
    "#### ***Codigo Documentado***"
   ]
  },
  {
   "cell_type": "markdown",
   "metadata": {},
   "source": [
    "#### ***Explicando o Codigo***"
   ]
  },
  {
   "cell_type": "markdown",
   "metadata": {
    "vscode": {
     "languageId": "plaintext"
    }
   },
   "source": [
    "\n",
    "\n",
    "```python\n",
    "# Solicita ao usuário para inserir o salário do funcionário\n",
    "salario = float(input('Digite o salário do funcionário: R$ '))\n",
    "\n",
    "# Calcula o novo salário com um aumento de 25%\n",
    "novo_salario = salario * 1.25\n",
    "\n",
    "# Exibe a mensagem com o salário original, o novo salário com aumento e o percentual de aumento\n",
    "print(f'O funcionário que ganhava {salario:.2f} R$ com 25% de aumento passará a ganhar {novo_salario:.2f} R$')\n",
    "```\n",
    "\n",
    "Explicação detalhada do código:\n",
    "\n",
    "- A variável `salario` armazena o salário do funcionário inserido pelo usuário.\n",
    "\n",
    "- A variável `novo_salario` calcula o novo salário com um aumento de 25%. Aqui, multiplicamos o salário original por 1.25, que representa 100% (valor total) mais 25% (o valor do aumento).\n",
    "\n",
    "- O comando `print` exibe uma mensagem formatada que mostra o salário original com duas casas decimais (`{salario:.2f}`), o novo salário com aumento também com duas casas decimais (`{novo_salario:.2f}`) e o percentual de aumento (25%)."
   ]
  },
  {
   "cell_type": "code",
   "execution_count": null,
   "metadata": {},
   "outputs": [],
   "source": []
  }
 ],
 "metadata": {
  "kernelspec": {
   "display_name": "base",
   "language": "python",
   "name": "python3"
  },
  "language_info": {
   "codemirror_mode": {
    "name": "ipython",
    "version": 3
   },
   "file_extension": ".py",
   "mimetype": "text/x-python",
   "name": "python",
   "nbconvert_exporter": "python",
   "pygments_lexer": "ipython3",
   "version": "3.11.7"
  }
 },
 "nbformat": 4,
 "nbformat_minor": 2
}
