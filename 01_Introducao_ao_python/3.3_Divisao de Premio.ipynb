{
 "cells": [
  {
   "cell_type": "markdown",
   "metadata": {},
   "source": [
    "### ***25 - A importância de R$ 780.000,00 será dividida entre três ganhadores de um concurso. Sendo que da quantia total.***\n",
    "\n",
    "\n",
    "         O primeiro ganhador receberá 46%\n",
    "         O segundo recebera 32%\n",
    "         O terceiro recebera o restante\n",
    "        Calcule quanto cada ganhador irá receber"
   ]
  },
  {
   "cell_type": "code",
   "execution_count": null,
   "metadata": {},
   "outputs": [],
   "source": []
  },
  {
   "cell_type": "markdown",
   "metadata": {},
   "source": [
    "#### ***Codigo Cru sem Comentarios e explicações***"
   ]
  },
  {
   "cell_type": "code",
   "execution_count": 2,
   "metadata": {},
   "outputs": [
    {
     "name": "stdout",
     "output_type": "stream",
     "text": [
      "\n",
      "O Primeiro Jogador recebera 46 %\n",
      "O Segundo Jogador recebera 32 %\n",
      "O Terceiro Jogador recebera 22 %\n",
      "\n",
      "O Primeiro Ganhador recebera 358800.00 R$\n",
      "O Segundo Ganhador recebera 249600.00 R$\n",
      "O Terceiro Ganhador recebera 171600.00 R$\n"
     ]
    }
   ],
   "source": [
    "#Variaveis\n",
    "premio = 780000\n",
    "\n",
    "#Percentual de Cada Jogador\n",
    "primeiro = 46 #%%!\n",
    "segundo  = 32 #%\n",
    "terceiro = 100 - (46+32)\n",
    "\n",
    "print(f'''\n",
    "O Primeiro Jogador recebera {primeiro} %\n",
    "O Segundo Jogador recebera {segundo} %\n",
    "O Terceiro Jogador recebera {terceiro} %''')\n",
    "\n",
    "#Calculo do premio\n",
    "premio1 = premio * (primeiro / 100)\n",
    "premio2 = premio * (segundo / 100)\n",
    "premio3 = premio * (terceiro / 100)\n",
    "\n",
    "print(f'''\n",
    "O Primeiro Ganhador recebera {premio1:.2f} R$\n",
    "O Segundo Ganhador recebera {premio2:.2f} R$\n",
    "O Terceiro Ganhador recebera {premio3:.2f} R$''')\n"
   ]
  },
  {
   "cell_type": "code",
   "execution_count": null,
   "metadata": {},
   "outputs": [],
   "source": []
  },
  {
   "cell_type": "markdown",
   "metadata": {},
   "source": [
    "#### ***Codigo Documentado***"
   ]
  },
  {
   "cell_type": "markdown",
   "metadata": {},
   "source": [
    "#### ***Explicando o Codigo***"
   ]
  },
  {
   "cell_type": "markdown",
   "metadata": {
    "vscode": {
     "languageId": "plaintext"
    }
   },
   "source": [
    "```python\n",
    "# Variáveis\n",
    "premio = 780000  # Montante total do prêmio\n",
    "\n",
    "# Percentual de cada jogador\n",
    "primeiro = 46  # Porcentagem do primeiro jogador\n",
    "segundo = 32   # Porcentagem do segundo jogador\n",
    "terceiro = 100 - (46 + 32)  # Porcentagem do terceiro jogador, calculada para que a soma total seja 100%\n",
    "\n",
    "# Exibição dos percentuais de cada jogador\n",
    "print(f'''\n",
    "O Primeiro Jogador receberá {primeiro} %\n",
    "O Segundo Jogador receberá {segundo} %\n",
    "O Terceiro Jogador receberá {terceiro} %''')\n",
    "\n",
    "# Cálculo do prêmio para cada jogador\n",
    "premio1 = premio * (primeiro / 100)  # Prêmio do primeiro jogador\n",
    "premio2 = premio * (segundo / 100)   # Prêmio do segundo jogador\n",
    "premio3 = premio * (terceiro / 100)  # Prêmio do terceiro jogador\n",
    "\n",
    "# Exibição dos prêmios de cada jogador\n",
    "print(f'''\n",
    "O Primeiro Ganhador receberá {premio1:.2f} R$\n",
    "O Segundo Ganhador receberá {premio2:.2f} R$\n",
    "O Terceiro Ganhador receberá {premio3:.2f} R$''')\n",
    "```\n",
    "\n",
    "Este código tem como objetivo calcular e distribuir um prêmio de 780.000 reais entre três jogadores, onde o primeiro jogador receberá 46% do prêmio, o segundo jogador receberá 32% e o terceiro jogador receberá o restante, que é calculado para garantir que a soma total dos percentuais seja igual a 100%.\n",
    "\n",
    "O programa começa definindo o montante total do prêmio (780.000 reais) e os percentuais atribuídos a cada jogador (46% para o primeiro, 32% para o segundo e o restante para o terceiro).\n",
    "\n",
    "Em seguida, são exibidos os percentuais de cada jogador usando a função `print()`.\n",
    "\n",
    "Depois, o programa calcula os prêmios individuais de cada jogador multiplicando o montante total do prêmio pelo percentual de cada jogador (em decimal). Os prêmios são armazenados nas variáveis `premio1`, `premio2` e `premio3`.\n",
    "\n",
    "Por fim, os prêmios de cada jogador são exibidos com duas casas decimais usando a função `print()` e a formatação de strings f-strings (`{premio1:.2f}`)."
   ]
  },
  {
   "cell_type": "code",
   "execution_count": null,
   "metadata": {},
   "outputs": [],
   "source": []
  }
 ],
 "metadata": {
  "kernelspec": {
   "display_name": "base",
   "language": "python",
   "name": "python3"
  },
  "language_info": {
   "codemirror_mode": {
    "name": "ipython",
    "version": 3
   },
   "file_extension": ".py",
   "mimetype": "text/x-python",
   "name": "python",
   "nbconvert_exporter": "python",
   "pygments_lexer": "ipython3",
   "version": "3.11.7"
  }
 },
 "nbformat": 4,
 "nbformat_minor": 2
}
