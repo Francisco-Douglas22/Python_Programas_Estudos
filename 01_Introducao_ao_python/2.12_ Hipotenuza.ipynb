{
 "cells": [
  {
   "cell_type": "markdown",
   "metadata": {},
   "source": [
    "### ***22 - Sejam a e b os catetos de um triangulo, onde a Hipotenusa e obtida pela equação Hipotenusa = raiz quadrada de a² + b². Faça um programa que receba os valores de a e b e calcule o valor da Hipotenusa através da equação.***"
   ]
  },
  {
   "cell_type": "code",
   "execution_count": null,
   "metadata": {},
   "outputs": [],
   "source": []
  },
  {
   "cell_type": "markdown",
   "metadata": {},
   "source": [
    "#### ***Codigo Cru sem Comentarios e explicações***"
   ]
  },
  {
   "cell_type": "code",
   "execution_count": 1,
   "metadata": {},
   "outputs": [
    {
     "name": "stdout",
     "output_type": "stream",
     "text": [
      "O Valor da Hipotenuza sera de 7.21\n"
     ]
    }
   ],
   "source": [
    "#Variavel\n",
    "a = int(input('Valor de a: '))\n",
    "b = int(input('Valor de b: '))\n",
    "\n",
    "#Hipotenuza\n",
    "hipotenuza = (a*a + b*b)**0.5\n",
    "print(f'O Valor da Hipotenuza sera de {hipotenuza:.2f}')"
   ]
  },
  {
   "cell_type": "code",
   "execution_count": null,
   "metadata": {},
   "outputs": [],
   "source": []
  },
  {
   "cell_type": "markdown",
   "metadata": {},
   "source": [
    "#### ***Codigo Documentado***"
   ]
  },
  {
   "cell_type": "markdown",
   "metadata": {},
   "source": [
    "#### ***Explicando o Codigo***"
   ]
  },
  {
   "cell_type": "markdown",
   "metadata": {
    "vscode": {
     "languageId": "plaintext"
    }
   },
   "source": [
    "\n",
    "\n",
    "```python\n",
    "# Solicita ao usuário para inserir os valores de 'a' e 'b'\n",
    "a = int(input('Valor de a: '))\n",
    "b = int(input('Valor de b: '))\n",
    "\n",
    "# Calcula a hipotenusa usando o teorema de Pitágoras\n",
    "hipotenusa = (a * a + b * b) ** 0.5\n",
    "\n",
    "# Exibe o valor da hipotenusa com duas casas decimais\n",
    "print(f'O Valor da Hipotenusa será de {hipotenusa:.2f}')\n",
    "```\n",
    "\n",
    "Explicação detalhada do código:\n",
    "\n",
    "- As variáveis 'a' e 'b' armazenam os valores inseridos pelo usuário, que representam os comprimentos dos dois catetos de um triângulo retângulo.\n",
    "\n",
    "- A variável 'hipotenusa' calcula a hipotenusa do triângulo retângulo usando o teorema de Pitágoras, que afirma que em um triângulo retângulo, o quadrado da hipotenusa é igual à soma dos quadrados dos catetos. Aqui, estamos utilizando a fórmula matemática: √(a² + b²).\n",
    "\n",
    "- O comando 'print' exibe o valor da hipotenusa com duas casas decimais utilizando o f-string para formatar a string de saída."
   ]
  },
  {
   "cell_type": "code",
   "execution_count": null,
   "metadata": {},
   "outputs": [],
   "source": []
  }
 ],
 "metadata": {
  "kernelspec": {
   "display_name": "base",
   "language": "python",
   "name": "python3"
  },
  "language_info": {
   "codemirror_mode": {
    "name": "ipython",
    "version": 3
   },
   "file_extension": ".py",
   "mimetype": "text/x-python",
   "name": "python",
   "nbconvert_exporter": "python",
   "pygments_lexer": "ipython3",
   "version": "3.11.7"
  }
 },
 "nbformat": 4,
 "nbformat_minor": 2
}
