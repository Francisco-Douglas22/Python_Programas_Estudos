{
 "cells": [
  {
   "cell_type": "markdown",
   "metadata": {},
   "source": [
    "### ***Leia 2 ângulos, 1 Radiano e outro em Graus, transforme o Radiano em Graus e Graus em Radiano***\n",
    "\n",
    "\n",
    "        Formulas: R = G * pi / 180 sendo valor de pi = 3.14\n",
    "        Formulas: G = R * 180 / pi"
   ]
  },
  {
   "cell_type": "code",
   "execution_count": null,
   "metadata": {},
   "outputs": [],
   "source": []
  },
  {
   "cell_type": "markdown",
   "metadata": {},
   "source": [
    "#### ***Codigo Cru sem Comentarios e explicações***"
   ]
  },
  {
   "cell_type": "code",
   "execution_count": 1,
   "metadata": {},
   "outputs": [
    {
     "name": "stdout",
     "output_type": "stream",
     "text": [
      "45.0 Radianos e equivalente a 2579.62 Graus\n",
      "45.0 Graus e equivalente a 0.79 Radianos\n"
     ]
    }
   ],
   "source": [
    "#variaveis\n",
    "radiano = float(input('Angulo Radiano: '))\n",
    "graus = float(input('Angulo em Graus: '))\n",
    "\n",
    "#Conversao\n",
    "r_graus = radiano * 180 / 3.14\n",
    "g_radianos = graus * 3.14 / 180\n",
    "\n",
    "print(f'{radiano} Radianos e equivalente a {r_graus:.2f} Graus')\n",
    "print(f'{graus} Graus e equivalente a {g_radianos:.2f} Radianos')"
   ]
  },
  {
   "cell_type": "code",
   "execution_count": null,
   "metadata": {},
   "outputs": [],
   "source": []
  },
  {
   "cell_type": "markdown",
   "metadata": {},
   "source": [
    "#### ***Codigo Documentado***"
   ]
  },
  {
   "cell_type": "markdown",
   "metadata": {},
   "source": [
    "#### ***Explicando o Codigo***"
   ]
  },
  {
   "cell_type": "markdown",
   "metadata": {
    "vscode": {
     "languageId": "plaintext"
    }
   },
   "source": [
    "\n",
    "\n",
    "```python\n",
    "# Solicita ao usuário que insira um ângulo em radianos e em graus\n",
    "radiano = float(input('Angulo Radiano: '))\n",
    "graus = float(input('Angulo em Graus: '))\n",
    "\n",
    "# Converte radianos para graus utilizando a fórmula de conversão\n",
    "r_graus = radiano * 180 / 3.14\n",
    "\n",
    "# Converte graus para radianos utilizando a fórmula de conversão\n",
    "g_radianos = graus * 3.14 / 180\n",
    "\n",
    "# Imprime o resultado da conversão de radianos para graus\n",
    "print(f'{radiano} Radianos e equivalente a {r_graus:.2f} Graus')\n",
    "\n",
    "# Imprime o resultado da conversão de graus para radianos\n",
    "print(f'{graus} Graus e equivalente a {g_radianos:.2f} Radianos')\n",
    "```\n",
    "\n",
    "Agora, vamos analisar o código em detalhes:\n",
    "\n",
    "1. As duas primeiras linhas pedem ao usuário para inserir um ângulo em radianos e em graus. Os valores inseridos são convertidos em ponto flutuante (`float`) para garantir que possam representar números decimais.\n",
    "\n",
    "2. Na linha 5, é realizada a conversão de radianos para graus utilizando a fórmula: `ângulo_em_radianos * 180 / π`, onde π (pi) é aproximadamente 3.14.\n",
    "\n",
    "3. Na linha 8, é realizada a conversão de graus para radianos utilizando a fórmula inversa: `ângulo_em_graus * π / 180`.\n",
    "\n",
    "4. Nas linhas 11 e 14, os resultados das conversões são impressos na tela usando f-strings para formatar as saídas. O `.2f` na formatação especifica que os números serão arredondados para duas casas decimais.\n",
    "\n"
   ]
  },
  {
   "cell_type": "code",
   "execution_count": null,
   "metadata": {},
   "outputs": [],
   "source": []
  }
 ],
 "metadata": {
  "kernelspec": {
   "display_name": "base",
   "language": "python",
   "name": "python3"
  },
  "language_info": {
   "codemirror_mode": {
    "name": "ipython",
    "version": 3
   },
   "file_extension": ".py",
   "mimetype": "text/x-python",
   "name": "python",
   "nbconvert_exporter": "python",
   "pygments_lexer": "ipython3",
   "version": "3.11.7"
  }
 },
 "nbformat": 4,
 "nbformat_minor": 2
}
