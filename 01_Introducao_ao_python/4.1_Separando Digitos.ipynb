{
 "cells": [
  {
   "cell_type": "markdown",
   "metadata": {},
   "source": [
    "### ***Leia um numero inteiro de 4 dígitos (de 1000 a 9999) e imprima cada digito separado por linha***"
   ]
  },
  {
   "cell_type": "code",
   "execution_count": null,
   "metadata": {},
   "outputs": [],
   "source": []
  },
  {
   "cell_type": "markdown",
   "metadata": {},
   "source": [
    "#### ***Codigo Cru sem Comentarios e explicações***"
   ]
  },
  {
   "cell_type": "code",
   "execution_count": 1,
   "metadata": {},
   "outputs": [
    {
     "name": "stdout",
     "output_type": "stream",
     "text": [
      "O Numero 3456 tem ao todo\n",
      "\n",
      "6 Unidades\n",
      "5 Dezenas\n",
      "4 Centenas\n",
      "3 Milhar\n"
     ]
    }
   ],
   "source": [
    "digitos = int(input('Digite o numero entre 1000 a 9999: '))\n",
    "\n",
    "unidades = digitos // 1 % 10\n",
    "dezenas = digitos // 10 % 10\n",
    "centenas = digitos // 100 % 10\n",
    "milhar  = digitos // 1000 % 10\n",
    "\n",
    "print(f'O Numero {digitos} tem ao todo')\n",
    "print(f'''\n",
    "{unidades} Unidades\n",
    "{dezenas} Dezenas\n",
    "{centenas} Centenas\n",
    "{milhar} Milhar''')"
   ]
  },
  {
   "cell_type": "code",
   "execution_count": null,
   "metadata": {},
   "outputs": [],
   "source": []
  },
  {
   "cell_type": "markdown",
   "metadata": {},
   "source": [
    "#### ***Codigo Documentado***"
   ]
  },
  {
   "cell_type": "markdown",
   "metadata": {},
   "source": [
    "#### ***Explicando o Codigo***"
   ]
  },
  {
   "cell_type": "markdown",
   "metadata": {
    "vscode": {
     "languageId": "plaintext"
    }
   },
   "source": [
    "\n",
    "\n",
    "```python\n",
    "# Solicita ao usuário que digite um número entre 1000 e 9999\n",
    "digitos = int(input('Digite o número entre 1000 e 9999: '))\n",
    "\n",
    "# Extrai cada dígito do número digitado\n",
    "# Calcula as unidades, dezenas, centenas e milhares usando operações matemáticas\n",
    "unidades = digitos // 1 % 10\n",
    "dezenas = digitos // 10 % 10\n",
    "centenas = digitos // 100 % 10\n",
    "milhar = digitos // 1000 % 10\n",
    "\n",
    "# Exibe o número digitado e a contagem de cada tipo de dígito\n",
    "print(f'O número {digitos} tem ao todo')\n",
    "print(f'''\n",
    "{unidades} Unidades\n",
    "{dezenas} Dezenas\n",
    "{centenas} Centenas\n",
    "{milhar} Milhar''')\n",
    "```\n",
    "\n",
    "explicação detalhada do código:\n",
    "\n",
    "1. O programa começa solicitando ao usuário que digite um número entre 1000 e 9999, utilizando a função `input` e convertendo o resultado para um número inteiro com `int(input(...))`.\n",
    "\n",
    "2. O programa então extrai cada dígito do número digitado, calculando as unidades, dezenas, centenas e milhares. Ele faz isso usando operações matemáticas simples:\n",
    "   - `unidades`: Usa a operação de divisão inteira (`//`) por 1 e depois aplica o operador `%` (módulo) para obter o dígito das unidades.\n",
    "   - `dezenas`: Usa a divisão inteira por 10 para \"descartar\" as unidades e em seguida aplica `% 10` para obter o dígito das dezenas.\n",
    "   - `centenas`: Usa a divisão inteira por 100 para \"descartar\" as dezenas e unidades e depois `% 10` para obter o dígito das centenas.\n",
    "   - `milhar`: Usa a divisão inteira por 1000 para \"descartar\" as centenas, dezenas e unidades e depois `% 10` para obter o dígito do milhar.\n",
    "\n",
    "3. Por fim, o programa exibe o número digitado e a contagem de cada tipo de dígito (unidades, dezenas, centenas, milhar) usando a função `print` e a formatação de string f-strings (`f'...'`)."
   ]
  },
  {
   "cell_type": "code",
   "execution_count": null,
   "metadata": {},
   "outputs": [],
   "source": []
  }
 ],
 "metadata": {
  "kernelspec": {
   "display_name": "base",
   "language": "python",
   "name": "python3"
  },
  "language_info": {
   "codemirror_mode": {
    "name": "ipython",
    "version": 3
   },
   "file_extension": ".py",
   "mimetype": "text/x-python",
   "name": "python",
   "nbconvert_exporter": "python",
   "pygments_lexer": "ipython3",
   "version": "3.11.7"
  }
 },
 "nbformat": 4,
 "nbformat_minor": 2
}
