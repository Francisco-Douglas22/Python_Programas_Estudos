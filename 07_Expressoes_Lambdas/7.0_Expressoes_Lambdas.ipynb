{
 "cells": [
  {
   "cell_type": "markdown",
   "metadata": {},
   "source": [
    "# ***Expressões Lambdas e Funções Integradas***"
   ]
  },
  {
   "cell_type": "markdown",
   "metadata": {},
   "source": [
    "Uma expressão lambda em Python é uma maneira de criar funções anônimas de forma concisa. Elas são usadas quando uma função simples é necessária por um curto período de tempo e não precisa ser definida formalmente usando a declaração `def`. Expressões lambda são frequentemente usadas em combinação com funções de ordem superior, como `map()`, `filter()`, `reduce()` e em alguns casos com comprehension.\n",
    "\n",
    "A sintaxe básica de uma expressão lambda é:\n",
    "\n",
    "```python\n",
    "lambda argumentos: expressão\n",
    "```\n",
    "\n",
    "Onde:\n",
    "- `lambda`: palavra-chave que indica que estamos criando uma expressão lambda.\n",
    "- `argumentos`: lista de argumentos separados por vírgula, similar à lista de argumentos de uma função.\n",
    "- `expressão`: a expressão que é avaliada e retornada quando a função lambda é chamada.\n",
    "\n",
    "Aqui estão alguns exemplos para ilustrar o uso de expressões lambda:\n",
    "\n",
    "### Exemplo 1: Função lambda que retorna o quadrado de um número.\n",
    "\n",
    "```python\n",
    "quadrado = lambda x: x ** 2\n",
    "print(quadrado(5))  # Saída: 25\n",
    "```\n",
    "\n",
    "Neste exemplo, `lambda x: x ** 2` cria uma função lambda que aceita um argumento `x` e retorna o quadrado desse número. Quando chamamos `quadrado(5)`, o resultado é 25.\n",
    "\n",
    "### Exemplo 2: Função lambda para somar dois números.\n",
    "\n",
    "```python\n",
    "soma = lambda x, y: x + y\n",
    "print(soma(3, 4))  # Saída: 7\n",
    "```\n",
    "\n",
    "Aqui, `lambda x, y: x + y` cria uma função lambda que aceita dois argumentos `x` e `y` e retorna sua soma.\n",
    "\n",
    "### Exemplo 3: Utilizando lambda com funções de ordem superior.\n",
    "\n",
    "```python\n",
    "numeros = [1, 2, 3, 4, 5]\n",
    "dobro = list(map(lambda x: x * 2, numeros))\n",
    "print(dobro)  # Saída: [2, 4, 6, 8, 10]\n",
    "```\n",
    "\n",
    "Neste exemplo, `map()` aplica a função lambda a cada elemento da lista `numeros`, dobrando cada número.\n",
    "\n",
    "### Exemplo 4: Filtrando uma lista com lambda e filter.\n",
    "\n",
    "```python\n",
    "numeros = [1, 2, 3, 4, 5, 6, 7, 8, 9, 10]\n",
    "pares = list(filter(lambda x: x % 2 == 0, numeros))\n",
    "print(pares)  # Saída: [2, 4, 6, 8, 10]\n",
    "```\n",
    "\n",
    "Aqui, `filter()` usa a função lambda para filtrar apenas os números pares da lista `numeros`.\n",
    "\n",
    "As expressões lambda são úteis sempre que você precisa de uma função rápida e temporária, especialmente em situações onde definir uma função usando a declaração `def` seria excessivo ou inconveniente. Elas são frequentemente usadas em operações de mapeamento, filtragem e redução de dados, em situações onde a legibilidade do código é valorizada. No entanto, é importante usá-las com moderação e manter a clareza do código, pois podem tornar o código menos legível se usadas em excesso ou de maneira inadequada."
   ]
  },
  {
   "cell_type": "code",
   "execution_count": null,
   "metadata": {},
   "outputs": [],
   "source": []
  },
  {
   "cell_type": "code",
   "execution_count": 1,
   "metadata": {},
   "outputs": [
    {
     "name": "stdout",
     "output_type": "stream",
     "text": [
      "10\n"
     ]
    }
   ],
   "source": [
    "#Conhecidas por expressoes Lambdas, são funções sem nome ou seja. Funções anônimas\n",
    "#Função normal em python\n",
    "def soma(a, b):\n",
    "    return a + b\n",
    "\n",
    "print(soma(4, 6))"
   ]
  },
  {
   "cell_type": "code",
   "execution_count": 2,
   "metadata": {},
   "outputs": [
    {
     "name": "stdout",
     "output_type": "stream",
     "text": [
      "Francisco Douglas\n",
      "\n",
      "A Soma e 9\n"
     ]
    }
   ],
   "source": [
    "#Expressão Lambda\n",
    "nome_completo = lambda nome, sobrenome: nome.strip().title() + \" \" + sobrenome.strip().title()\n",
    "print(nome_completo('Francisco','Douglas'))\n",
    "\n",
    "#Soma\n",
    "soma = lambda a, b: a + b\n",
    "print(f'\\nA Soma e {soma(5, 4)}')"
   ]
  },
  {
   "cell_type": "code",
   "execution_count": 3,
   "metadata": {},
   "outputs": [
    {
     "name": "stdout",
     "output_type": "stream",
     "text": [
      "Como aprender Python\n",
      "19\n",
      "3.4641016151377544\n",
      "3.529411764705882\n"
     ]
    }
   ],
   "source": [
    "#Exemplo\n",
    "amar = lambda: 'Como aprender Python'\n",
    "uma  = lambda x: 3 * x + 1\n",
    "duas = lambda x, y: (x * y) ** 0.5\n",
    "tres = lambda x, y, z: 3 / (1 / x + 1/ y * 3)\n",
    "\n",
    "print(amar())\n",
    "print(uma(6))\n",
    "print(duas(3, 4))\n",
    "print(tres(4, 5, 6))"
   ]
  },
  {
   "cell_type": "code",
   "execution_count": 4,
   "metadata": {},
   "outputs": [
    {
     "name": "stdout",
     "output_type": "stream",
     "text": [
      "['Paulo Autran', 'Christian Bale', 'Humphrey Bogart', 'Marlon Brando', 'Charles Chaplin', 'Sean Connery', 'Fausto Corrêa', 'Daniel Day-Lewis', 'Leonardo DiCaprio', 'Harrison Ford', 'Tom Hanks', 'Dustin Hoffman', 'Luciano Huck', 'Larissa Machado', 'Jack Nicholson', 'Robert De Niro', 'Laurence Olivier', 'Al Pacino', 'Ivete Sangalo', 'Denzel Washington']\n"
     ]
    }
   ],
   "source": [
    "#Autores\n",
    "autores = [\n",
    "    \"Jack Nicholson\", \"Robert De Niro\", \"Al Pacino\", \"Denzel Washington\", \"Sean Connery\",\n",
    "    \"Harrison Ford\", \"Tom Hanks\",\"Marlon Brando\",\"Dustin Hoffman\", \"Laurence Olivier\",\n",
    "    \"Daniel Day-Lewis\",\"Christian Bale\",\"Leonardo DiCaprio\",\"Paulo Autran\",\n",
    "    \"Humphrey Bogart\",\"Charles Chaplin\",\"Ivete Sangalo\",\n",
    "    \"Fausto Corrêa\",\"Luciano Huck\",\"Larissa Machado\"]\n",
    "\n",
    "autores.sort(key=lambda nome: nome.split(' ')[-1].lower())\n",
    "print(autores)"
   ]
  },
  {
   "cell_type": "markdown",
   "metadata": {},
   "source": [
    "### **MAP**"
   ]
  },
  {
   "cell_type": "code",
   "execution_count": 5,
   "metadata": {},
   "outputs": [
    {
     "name": "stdout",
     "output_type": "stream",
     "text": [
      "12.566370614359172\n",
      "98.5203456165759\n",
      "[12.566370614359172, 78.53981633974483, 113.09733552923255, 12.566370614359172, 153.93804002589985, 201.06192982974676]\n",
      "\n",
      "<map object at 0x000001DBF79125C0>\n",
      "[12.566370614359172, 78.53981633974483, 113.09733552923255, 12.566370614359172, 153.93804002589985, 201.06192982974676]\n",
      "[12.566370614359172, 78.53981633974483, 113.09733552923255, 12.566370614359172, 153.93804002589985, 201.06192982974676]\n"
     ]
    }
   ],
   "source": [
    "#EXEMPLO COM DEF\n",
    "import math\n",
    "def area(r):\n",
    "    '''Calcula a area de um circulo com raio 'r' '''\n",
    "    return math.pi * (r**2)\n",
    "print(area(2))\n",
    "print(area(5.6))\n",
    "\n",
    "#Exemplo \n",
    "raios = [2, 5, 6, 2, 7, 8]\n",
    "\n",
    "#Forma comum\n",
    "areas = []\n",
    "for r in raios:\n",
    "    areas.append((area(r)))\n",
    "print(f'{areas}\\n')\n",
    "\n",
    "#Utilizando map\n",
    "areas2 = map(area, raios)\n",
    "print(areas2)\n",
    "print(list(areas))\n",
    "\n",
    "#Utilizando lambda\n",
    "print(list(map(lambda r: math.pi * (r ** 2), raios)))\n",
    "#OSB: apos utiliza a função map ele zera a memoria"
   ]
  },
  {
   "cell_type": "code",
   "execution_count": 6,
   "metadata": {},
   "outputs": [
    {
     "name": "stdout",
     "output_type": "stream",
     "text": [
      "[('berlim', 29), ('cairo', 32), ('londres', 20), ('madrid', 35), ('roma', 30), ('paris', 25), ('atenas', 33), ('lisboa', 28), ('dublin', 15), ('amsterdã', 19), ('bruxelas', 21), ('viena', 22)]\n",
      "[('berlim', 84.2), ('cairo', 89.6), ('londres', 68.0), ('madrid', 95.0), ('roma', 86.0), ('paris', 77.0), ('atenas', 91.4), ('lisboa', 82.4), ('dublin', 59.0), ('amsterdã', 66.2), ('bruxelas', 69.80000000000001), ('viena', 71.6)]\n"
     ]
    }
   ],
   "source": [
    "cidades = [('berlim', 29), ('cairo',32), ('londres', 20),('madrid', 35),\n",
    "    ('roma', 30),('paris', 25),('atenas', 33),('lisboa', 28),('dublin', 15),\n",
    "    ('amsterdã', 19),('bruxelas', 21), ('viena', 22)\n",
    "]\n",
    "print(cidades)\n",
    "\n",
    "#f = 9/ 5 * c + 32\n",
    "#Lambda\n",
    "c_para_f = lambda dado: (dado[0], (9/5) * dado[1] + 32)\n",
    "print(list(map(c_para_f, cidades)))\n"
   ]
  },
  {
   "cell_type": "code",
   "execution_count": null,
   "metadata": {},
   "outputs": [],
   "source": []
  },
  {
   "cell_type": "markdown",
   "metadata": {},
   "source": [
    "### ***Filter***"
   ]
  },
  {
   "cell_type": "code",
   "execution_count": 7,
   "metadata": {},
   "outputs": [
    {
     "name": "stdout",
     "output_type": "stream",
     "text": [
      "3.5\n"
     ]
    }
   ],
   "source": [
    "#filter() - Filtra dados de uma determinada coleção\n",
    "valores = 1, 2, 3, 4, 5, 6\n",
    "media = sum(valores) / len(valores)\n",
    "print(media)"
   ]
  },
  {
   "cell_type": "code",
   "execution_count": 8,
   "metadata": {},
   "outputs": [
    {
     "name": "stdout",
     "output_type": "stream",
     "text": [
      "2.85\n",
      "[4.5, 6.7, 3]\n"
     ]
    }
   ],
   "source": [
    "#Biblioteca -ara trabalha com dados estatisticos\n",
    "import statistics\n",
    "\n",
    "#Dados coletados de algum senso\n",
    "dados = [1.3, 4.5, 2.6, 6.7, -1, 3]\n",
    "\n",
    "#Calculando a media dos dados utilizando a funcao mean()\n",
    "media = statistics.mean(dados)\n",
    "print(media)\n",
    "\n",
    "#OBS: Assim como a funcao map(), a filte() recebe dois parametros, sendo\n",
    "#uma funcao e um iteravel\n",
    "res = filter(lambda x: x > media, dados)\n",
    "print(list(res))"
   ]
  },
  {
   "cell_type": "code",
   "execution_count": 9,
   "metadata": {},
   "outputs": [
    {
     "name": "stdout",
     "output_type": "stream",
     "text": [
      "['Brasil', '', 'Argentina', '', 'Chile', '', 'Peru', '', 'Colômbia', '', 'Uruguai', '', 'Paraguai', '', 'Bolívia', '', 'Equador', '', 'Venezuela', '']\n",
      "['Brasil', 'Argentina', 'Chile', 'Peru', 'Colômbia', 'Uruguai', 'Paraguai', 'Bolívia', 'Equador', 'Venezuela']\n",
      "['Brasil', 'Argentina', 'Chile', 'Peru', 'Colômbia', 'Uruguai', 'Paraguai', 'Bolívia', 'Equador', 'Venezuela']\n"
     ]
    }
   ],
   "source": [
    "#Paises\n",
    "paises = [\"Brasil\", \"\", \"Argentina\", \"\", \"Chile\", \"\", \n",
    "          \"Peru\", \"\", \"Colômbia\", \"\", \"Uruguai\", \"\", \n",
    "          \"Paraguai\", \"\", \"Bolívia\", \"\", \"Equador\", \"\", \"Venezuela\", \"\"]\n",
    "\n",
    "print(paises)\n",
    "\n",
    "res = filter(None, paises)\n",
    "print(list(res))\n",
    "\n",
    "#Utilizando Lambda\n",
    "res2 = list(filter(lambda x: x != \"\", paises))\n",
    "print(res2)"
   ]
  },
  {
   "cell_type": "code",
   "execution_count": 10,
   "metadata": {},
   "outputs": [
    {
     "name": "stdout",
     "output_type": "stream",
     "text": [
      "[{'username': 'samuel', 'tweets': ['Eu adoro Bolo', 'Eu adoro Pizza']}, {'username': 'nome2', 'tweets': ['Eu Como', 'Quando Quero']}, {'username': 'nome3', 'tweets': []}, {'username': 'nome4', 'tweets': []}, {'username': 'nome5', 'tweets': ['Sou Bonito']}, {'username': 'nome6', 'tweets': []}, {'username': 'nome7', 'tweets': ['Gosto de Sair', 'Saio']}, {'username': 'nome8', 'tweets': []}]\n",
      "[{'username': 'nome3', 'tweets': []}, {'username': 'nome4', 'tweets': []}, {'username': 'nome6', 'tweets': []}, {'username': 'nome8', 'tweets': []}]\n"
     ]
    }
   ],
   "source": [
    "#Exemplo\n",
    "usuarios = [\n",
    "    {\"username\": \"samuel\", \"tweets\": [\"Eu adoro Bolo\", \"Eu adoro Pizza\"]},\n",
    "    {\"username\": \"nome2\", \"tweets\": [\"Eu Como\", \"Quando Quero\"]},\n",
    "    {\"username\": \"nome3\", \"tweets\": []},\n",
    "    {\"username\": \"nome4\", \"tweets\": []},\n",
    "    {\"username\": \"nome5\", \"tweets\": [\"Sou Bonito\"]},\n",
    "    {\"username\": \"nome6\", \"tweets\": []},\n",
    "    {\"username\": \"nome7\", \"tweets\": [\"Gosto de Sair\",\"Saio\"]},\n",
    "    {\"username\": \"nome8\", \"tweets\": []}\n",
    "]\n",
    "\n",
    "print(usuarios)\n",
    "\n",
    "#FIltra os usuarios Inativos\n",
    "inativos = list(filter(lambda usuario: len(usuario['tweets']) == 0, usuarios))\n",
    "print(inativos)"
   ]
  },
  {
   "cell_type": "code",
   "execution_count": 11,
   "metadata": {},
   "outputs": [
    {
     "name": "stdout",
     "output_type": "stream",
     "text": [
      "['O Nome e ana', 'O Nome e java']\n"
     ]
    }
   ],
   "source": [
    "#Combinando filter e map\n",
    "nomes = ['ana', 'python', 'java', 'elite', 'nomes']\n",
    "\n",
    "lista = list(map(lambda nome: f'O Nome e {nome}', \n",
    "                 filter(lambda nome: len(nome) <5, nomes)))\n",
    "print(lista)"
   ]
  },
  {
   "cell_type": "code",
   "execution_count": null,
   "metadata": {},
   "outputs": [],
   "source": []
  },
  {
   "cell_type": "markdown",
   "metadata": {},
   "source": [
    "### **Reduce**"
   ]
  },
  {
   "cell_type": "code",
   "execution_count": 12,
   "metadata": {},
   "outputs": [
    {
     "name": "stdout",
     "output_type": "stream",
     "text": [
      "Utilizando o Reduce: 1099308672000\n",
      "Utilizando o For: 1099308672000\n",
      "120\n"
     ]
    }
   ],
   "source": [
    "'''\n",
    "OBS: A Partir do Python3.6 a funcao reduce() nao e mais uma funcao integrada\n",
    "(built-in). Agora temos que importa e utiliza esta função a partir do modulo \"functools\n",
    "\n",
    "Guido van Rossum: Utiliz a funcao reduce() se voce realmente precisa dela. Em todo caso\n",
    "99% das vezes um loop for e mais legivel\"'''\n",
    "\n",
    "#Assim como map() e filter() a funcao reduce recebe 2 parametros\n",
    "\n",
    "#Funcionamento do reduce na pratica\n",
    "from functools import reduce\n",
    "\n",
    "dados = [1, 45, 3, 11, 34, 6, 7, 8, 12, 15, 9, 10, 4]\n",
    "\n",
    "#Para utiliza o reduce() precisamos de uma funcao que receba 2 parametros\n",
    "mult = lambda x, y: x * y\n",
    "print(f'Utilizando o Reduce: {reduce(mult, dados)}') #\"Multiplica os dados\"\n",
    "\n",
    "#OBS: O Reduce funciona como um for\n",
    "#Ele percorre todos os elementos da lista\n",
    "res = 1\n",
    "for n in dados:\n",
    "    res *= n\n",
    "print(f'Utilizando o For: {res}')\n",
    "\n",
    "#Outro\n",
    "d = [1, 2, 3, 4, 5]\n",
    "m = lambda x, y: x * y\n",
    "print(reduce(m, d))\n"
   ]
  },
  {
   "cell_type": "code",
   "execution_count": null,
   "metadata": {},
   "outputs": [],
   "source": []
  },
  {
   "cell_type": "markdown",
   "metadata": {},
   "source": [
    "### **Any e All**\n",
    "\n",
    "As funções `any()` e `all()` são funções embutidas em Python que permitem verificar condições sobre iteráveis de uma forma mais compacta e eficiente do que usar loops tradicionais.\n",
    "\n",
    "1. **`any(iterable)`**:\n",
    "   - A função `any()` retorna `True` se pelo menos um elemento no iterável fornecido for avaliado como verdadeiro, e retorna `False` se todos os elementos forem avaliados como falso ou se o iterável estiver vazio.\n",
    "   - Se o iterável estiver vazio, `any()` retorna `False`.\n",
    "   - Por exemplo:\n",
    "\n",
    "```python\n",
    "# Verifica se há pelo menos um número par na lista\n",
    "numeros = [1, 3, 5, 6, 7]\n",
    "resultado = any(x % 2 == 0 for x in numeros)\n",
    "print(resultado)  # Saída: True\n",
    "```\n",
    "\n",
    "2. **`all(iterable)`**:\n",
    "   - A função `all()` retorna `True` se todos os elementos no iterável fornecido forem avaliados como verdadeiros, e retorna `False` se pelo menos um elemento for avaliado como falso ou se o iterável estiver vazio.\n",
    "   - Se o iterável estiver vazio, `all()` retorna `True`.\n",
    "   - Por exemplo:\n",
    "\n",
    "```python\n",
    "# Verifica se todos os números na lista são maiores que 0\n",
    "numeros_positivos = [1, 3, 5, 6, 7]\n",
    "resultado = all(x > 0 for x in numeros_positivos)\n",
    "print(resultado)  # Saída: True\n",
    "```\n",
    "\n",
    "3. **Usos Comuns**:\n",
    "   - `any()` e `all()` são frequentemente usadas em conjunto com expressões geradoras ou listas de compreensão para avaliar condições em iteráveis de maneira rápida e concisa.\n",
    "   - Elas são úteis em situações em que você precisa verificar se pelo menos um ou todos os elementos em um iterável satisfazem uma determinada condição.\n",
    "\n",
    "Por exemplo, você pode usar `any()` para verificar se pelo menos uma das strings em uma lista começa com a letra \"a\":\n",
    "\n",
    "```python\n",
    "palavras = [\"banana\", \"abacaxi\", \"laranja\", \"maçã\"]\n",
    "existe_letra_a = any(word.startswith('a') for word in palavras)\n",
    "print(existe_letra_a)  # Saída: True\n",
    "```\n",
    "\n",
    "E você pode usar `all()` para verificar se todas as strings em uma lista têm mais de 3 caracteres:\n",
    "\n",
    "```python\n",
    "palavras = [\"banana\", \"abacaxi\", \"laranja\", \"maçã\"]\n",
    "todas_maior_que_3 = all(len(word) > 3 for word in palavras)\n",
    "print(todas_maior_que_3)  # Saída: False\n",
    "```\n",
    "\n",
    "Em resumo, as funções `any()` e `all()` são úteis para verificar condições sobre iteráveis de forma concisa e eficiente, tornando o código mais legível e expressivo. Elas são comumente usadas em Python para avaliar expressões booleanas sobre coleções de dados."
   ]
  },
  {
   "cell_type": "code",
   "execution_count": 13,
   "metadata": {},
   "outputs": [
    {
     "name": "stdout",
     "output_type": "stream",
     "text": [
      "False\n",
      "True\n"
     ]
    }
   ],
   "source": [
    "#Retorna True se todos os elementos do iteravel são verdadeiros ou ainda\n",
    "#se o iteravel esta vazio\n",
    "\n",
    "print(all([0, 1, 2, 3, 4, 5, 6]))\n",
    "print(all([1, 2, 3, 4, 5, 6, 7]))"
   ]
  },
  {
   "cell_type": "code",
   "execution_count": 14,
   "metadata": {},
   "outputs": [
    {
     "name": "stdout",
     "output_type": "stream",
     "text": [
      "False\n",
      "True\n"
     ]
    }
   ],
   "source": [
    "nomes = ['MMA', 'Python', 'SQL', 'Carlos', \"Alves\"]\n",
    "print(all([nome[0] == \"M\" for nome in nomes]))\n",
    "print(all([num for num in [4, 2, 10, 6, 7, 5] if num % 2 == 0]))"
   ]
  },
  {
   "cell_type": "code",
   "execution_count": 15,
   "metadata": {},
   "outputs": [
    {
     "name": "stdout",
     "output_type": "stream",
     "text": [
      "True\n",
      "False\n",
      "True\n"
     ]
    }
   ],
   "source": [
    "#Any - Retorna True se qualquer elemento do iteravel for verdadeiro\n",
    "# Se o iteravel estiver vazio, retorna False\n",
    "print(any([0, 1, 2, 3, 4]))\n",
    "print(any([False, 0, {}, [], ()]))\n",
    "nomes = ['MMA', 'Python', 'SQL', 'Carlos', \"Alves\"]\n",
    "print(any([nome[0] == \"C\" for nome in nomes]))"
   ]
  },
  {
   "cell_type": "code",
   "execution_count": null,
   "metadata": {},
   "outputs": [],
   "source": []
  },
  {
   "cell_type": "markdown",
   "metadata": {},
   "source": [
    "## **Generators**"
   ]
  },
  {
   "cell_type": "code",
   "execution_count": 16,
   "metadata": {},
   "outputs": [
    {
     "name": "stdout",
     "output_type": "stream",
     "text": [
      "<generator object <genexpr> at 0x000001DBF78ED000>\n",
      "[False, False, False, True, False]\n",
      "<generator object <genexpr> at 0x000001DBF78C7920>\n"
     ]
    }
   ],
   "source": [
    "print(any(nome[0]) == \"C\" for nome in nomes)\n",
    "\n",
    "#List comprehension\n",
    "res = [nome[0] == \"C\" for nome in nomes]\n",
    "print(res)\n",
    "\n",
    "#Generator Tuples comprehension\n",
    "res = (nome[0] == \"C\" for nome in nomes)\n",
    "print(res)"
   ]
  },
  {
   "cell_type": "code",
   "execution_count": 17,
   "metadata": {},
   "outputs": [
    {
     "name": "stdout",
     "output_type": "stream",
     "text": [
      "64\n",
      "93\n",
      "\n",
      "\n",
      "8856\n",
      "32984\n",
      "36952\n",
      "208\n"
     ]
    }
   ],
   "source": [
    "#Getsizeof\n",
    "from sys import getsizeof as goff\n",
    "\n",
    "print(goff(\"Python Especial\"))\n",
    "print(goff(\"Programação Dinamica\"))\n",
    "\n",
    "print('\\n')\n",
    "#List Comprehension\n",
    "print(goff([x * 10 for x in range(1000)]))\n",
    "\n",
    "#Dic comprehension\n",
    "print(goff({x * 10 for x in range(1000)}))\n",
    "\n",
    "#Dictionaru Comprehension\n",
    "print(goff({x: x * 10 for x in range(1000)}))\n",
    "\n",
    "#Generator Tuple Comprehension\n",
    "print(goff(x * 10 for x in range(1000)))"
   ]
  },
  {
   "cell_type": "markdown",
   "metadata": {},
   "source": [
    "### **Min e Max**"
   ]
  },
  {
   "cell_type": "code",
   "execution_count": 18,
   "metadata": {},
   "outputs": [
    {
     "name": "stdout",
     "output_type": "stream",
     "text": [
      "1\n",
      "8\n"
     ]
    }
   ],
   "source": [
    "lista = [1, 2, 5, 1, 2, 4, 6, 8]\n",
    "print(min(lista))\n",
    "print(max(lista))"
   ]
  },
  {
   "cell_type": "code",
   "execution_count": 19,
   "metadata": {},
   "outputs": [
    {
     "name": "stdout",
     "output_type": "stream",
     "text": [
      "[6, 5, 4, 3, 2, 1]\n"
     ]
    }
   ],
   "source": [
    "#Reverse\n",
    "lista = [1 , 2, 3, 4, 5, 6]\n",
    "print(list(reversed(lista)))"
   ]
  },
  {
   "cell_type": "code",
   "execution_count": null,
   "metadata": {},
   "outputs": [],
   "source": []
  },
  {
   "cell_type": "code",
   "execution_count": null,
   "metadata": {},
   "outputs": [],
   "source": []
  },
  {
   "cell_type": "markdown",
   "metadata": {},
   "source": [
    "## ***Len abs sum round***\n",
    "\n",
    "As funções `len()`, `abs()`, `sum()` e `round()` são funções integradas do Python que fornecem funcionalidades comuns e úteis para trabalhar com coleções de dados, valores numéricos e manipulação de sequências. Vou explicar brevemente cada uma delas:\n",
    "\n",
    "1. **`len()`**:\n",
    "   - A função `len()` é utilizada para obter o comprimento (número de elementos) de uma sequência, como uma lista, uma tupla, uma string, etc.\n",
    "   - Sintaxe: `len(sequencia)`\n",
    "   - Exemplo:\n",
    "     ```python\n",
    "     lista = [1, 2, 3, 4, 5]\n",
    "     comprimento = len(lista)\n",
    "     print(comprimento)  # Saída: 5\n",
    "     ```\n",
    "\n",
    "2. **`abs()`**:\n",
    "   - A função `abs()` é utilizada para retornar o valor absoluto de um número, ou seja, o valor sem o sinal.\n",
    "   - Sintaxe: `abs(numero)`\n",
    "   - Exemplo:\n",
    "     ```python\n",
    "     valor = -10\n",
    "     absoluto = abs(valor)\n",
    "     print(absoluto)  # Saída: 10\n",
    "     ```\n",
    "\n",
    "3. **`sum()`**:\n",
    "   - A função `sum()` é utilizada para somar todos os elementos de uma sequência, como uma lista, uma tupla, etc.\n",
    "   - Sintaxe: `sum(sequencia)`\n",
    "   - Exemplo:\n",
    "     ```python\n",
    "     lista = [1, 2, 3, 4, 5]\n",
    "     total = sum(lista)\n",
    "     print(total)  # Saída: 15\n",
    "     ```\n",
    "\n",
    "4. **`round()`**:\n",
    "   - A função `round()` é utilizada para arredondar um número para um número especificado de casas decimais (ou para o inteiro mais próximo, se nenhum número de casas decimais for especificado).\n",
    "   - Sintaxe: `round(numero, numero_de_casas_decimais)`\n",
    "   - Exemplo:\n",
    "     ```python\n",
    "     numero = 3.14159\n",
    "     arredondado = round(numero, 2)\n",
    "     print(arredondado)  # Saída: 3.14\n",
    "     ```\n",
    "\n",
    "Essas funções são amplamente utilizadas em Python para realizar operações comuns em dados, como obtenção do comprimento de uma lista, cálculo do valor absoluto de um número, soma de valores em uma lista e arredondamento de números. Elas são parte integrante do conjunto de ferramentas disponíveis para os programadores Python e facilitam muitas tarefas rotineiras."
   ]
  },
  {
   "cell_type": "code",
   "execution_count": 20,
   "metadata": {},
   "outputs": [
    {
     "name": "stdout",
     "output_type": "stream",
     "text": [
      "Tamanho da Lista: 6 = [1, 2, 3, 4, 5, 6]\n",
      "21\n",
      "Soma da Lista: 21 = [1, 2, 3, 4, 5, 6]\n"
     ]
    }
   ],
   "source": [
    "#Len\n",
    "lista = [1, 2, 3, 4, 5, 6]\n",
    "print(f'Tamanho da Lista: {len(lista)} = {lista}')\n",
    "print(len(\"Programando em Python\"))\n",
    "\n",
    "#sum\n",
    "print(f'Soma da Lista: {sum(lista)} = {lista}')\n",
    "\n",
    "#round\n"
   ]
  },
  {
   "cell_type": "code",
   "execution_count": 21,
   "metadata": {},
   "outputs": [
    {
     "name": "stdout",
     "output_type": "stream",
     "text": [
      "5\n",
      "5\n",
      "4.56\n",
      "4.35\n"
     ]
    }
   ],
   "source": [
    "#ABS retorna o valor absoluto\n",
    "print(abs(-5))\n",
    "print(abs(5))\n",
    "print(abs(4.56))\n",
    "print(abs(-4.35))\n",
    "\n",
    "#utilizando o abs qualquer numero negativo vira positivo\n",
    "#o abs não se utiliza com strings"
   ]
  },
  {
   "cell_type": "code",
   "execution_count": 22,
   "metadata": {},
   "outputs": [
    {
     "name": "stdout",
     "output_type": "stream",
     "text": [
      "10\n",
      "11\n",
      "1.23\n"
     ]
    }
   ],
   "source": [
    "#round retorna um numero aredondado\n",
    "print(round(10.4)) #Aredonda para 10\n",
    "print(round(10.6)) #Aredonda para 11\n",
    "print(round(1.23456, 2)) #Aredonda para 2 casas decimais"
   ]
  },
  {
   "cell_type": "code",
   "execution_count": null,
   "metadata": {},
   "outputs": [],
   "source": []
  },
  {
   "cell_type": "code",
   "execution_count": null,
   "metadata": {},
   "outputs": [],
   "source": []
  },
  {
   "cell_type": "markdown",
   "metadata": {},
   "source": [
    "## ***ZIP***"
   ]
  },
  {
   "cell_type": "markdown",
   "metadata": {},
   "source": [
    "A função `zip()` em Python é uma função integrada que permite combinar elementos de duas ou mais sequências (geralmente listas, tuplas ou iteráveis) em tuplas. A função retorna um iterador que produz tuplas onde o i-ésimo elemento contém o i-ésimo elemento de cada uma das sequências fornecidas como argumento para a função `zip()`.\n",
    "\n",
    "A sintaxe da função `zip()` é:\n",
    "\n",
    "```python\n",
    "zip(*iteraveis)\n",
    "```\n",
    "\n",
    "Onde:\n",
    "- `*iteraveis`: São os iteráveis a serem combinados.\n",
    "\n",
    "A função `zip()` pára de produzir valores assim que a sequência mais curta for esgotada.\n",
    "\n",
    "Aqui estão alguns exemplos para ilustrar como a função `zip()` funciona:\n",
    "\n",
    "### Exemplo 1: Combinação de duas listas em tuplas usando `zip()`:\n",
    "\n",
    "```python\n",
    "lista1 = [1, 2, 3]\n",
    "lista2 = ['a', 'b', 'c']\n",
    "combinados = zip(lista1, lista2)\n",
    "print(list(combinados))  # Saída: [(1, 'a'), (2, 'b'), (3, 'c')]\n",
    "```\n",
    "\n",
    "Neste exemplo, a função `zip()` combina os elementos correspondentes de `lista1` e `lista2` em tuplas.\n",
    "\n",
    "### Exemplo 2: Combinação de três listas em tuplas usando `zip()`:\n",
    "\n",
    "```python\n",
    "lista1 = [1, 2, 3]\n",
    "lista2 = ['a', 'b', 'c']\n",
    "lista3 = ['x', 'y', 'z']\n",
    "combinados = zip(lista1, lista2, lista3)\n",
    "print(list(combinados))  # Saída: [(1, 'a', 'x'), (2, 'b', 'y'), (3, 'c', 'z')]\n",
    "```\n",
    "\n",
    "Neste exemplo, a função `zip()` combina os elementos correspondentes de `lista1`, `lista2` e `lista3` em tuplas.\n",
    "\n",
    "### Exemplo 3: Usando `zip()` com iteráveis de comprimentos diferentes:\n",
    "\n",
    "```python\n",
    "lista1 = [1, 2, 3, 4]\n",
    "lista2 = ['a', 'b', 'c']\n",
    "combinados = zip(lista1, lista2)\n",
    "print(list(combinados))  # Saída: [(1, 'a'), (2, 'b'), (3, 'c')]\n",
    "```\n",
    "\n",
    "Neste exemplo, a função `zip()` para de produzir valores assim que a sequência mais curta, neste caso `lista2`, é esgotada.\n",
    "\n",
    "### Exemplo 4: Descompactando uma lista de tuplas usando `zip()` com o operador `*`:\n",
    "\n",
    "```python\n",
    "tuplas = [(1, 'a'), (2, 'b'), (3, 'c')]\n",
    "numeros, letras = zip(*tuplas)\n",
    "print(numeros)  # Saída: (1, 2, 3)\n",
    "print(letras)   # Saída: ('a', 'b', 'c')\n",
    "```\n",
    "\n",
    "Neste exemplo, a função `zip()` é usada em conjunto com o operador `*` para descompactar uma lista de tuplas em duas listas separadas.\n",
    "\n",
    "### Onde aplicar:\n",
    "\n",
    "A função `zip()` é comumente usada para combinar elementos de várias sequências quando você precisa iterar sobre elas de forma simultânea. Isso é útil em situações como combinar dados de várias fontes para processamento em lote, criar dicionários a partir de listas de chaves e valores correspondentes, ou mesmo para criar uma representação tabular de dados para exibição. É uma ferramenta útil em Python para operações que envolvem iteração e manipulação de dados em paralelo."
   ]
  },
  {
   "cell_type": "code",
   "execution_count": 23,
   "metadata": {},
   "outputs": [
    {
     "name": "stdout",
     "output_type": "stream",
     "text": [
      "<zip object at 0x000001DBF79467C0> <class 'zip'>\n",
      "[(1, 4), (2, 5), (3, 6)]\n",
      "{}\n",
      "()\n"
     ]
    }
   ],
   "source": [
    "#Cria um iteravel (Zip Object) que agrega elemento de ada um dos iteraveis passados\n",
    "lista1 = [1, 2, 3]\n",
    "lista2 = [4, 5, 6]\n",
    "zip1 = zip(lista1, lista2)\n",
    "print(zip1, type(zip1))\n",
    "\n",
    "#Para imprimir o zip devemos converte para algum tipo de conjunto\n",
    "print(list(zip1))\n",
    "print(dict(zip1))\n",
    "print(tuple(zip1))"
   ]
  },
  {
   "cell_type": "code",
   "execution_count": null,
   "metadata": {},
   "outputs": [],
   "source": []
  },
  {
   "cell_type": "code",
   "execution_count": 24,
   "metadata": {},
   "outputs": [
    {
     "name": "stdout",
     "output_type": "stream",
     "text": [
      "[{'nome': 'Ana', 'sobrenome': 'Silva'}, {'nome': 'Carla', 'sobrenome': 'Pereira'}, {'nome': 'Fernando', 'sobrenome': 'Costa'}, {'nome': 'João', 'sobrenome': 'Santos'}, {'nome': 'Juliana', 'sobrenome': 'Ribeiro'}, {'nome': 'Luiz', 'sobrenome': 'Marcos'}, {'nome': 'Maria', 'sobrenome': 'Oliveira'}, {'nome': 'Patrícia', 'sobrenome': 'Mendes'}, {'nome': 'Pedro', 'sobrenome': 'Alves'}, {'nome': 'Ricardo', 'sobrenome': 'Lima'}]\n"
     ]
    }
   ],
   "source": [
    "pessoas = [\n",
    "    {'nome': 'Luiz', 'sobrenome': 'Marcos'},\n",
    "    {'nome': 'Ana', 'sobrenome': 'Silva'},\n",
    "    {'nome': 'Pedro', 'sobrenome': 'Alves'},\n",
    "    {'nome': 'Maria', 'sobrenome': 'Oliveira'},\n",
    "    {'nome': 'João', 'sobrenome': 'Santos'},\n",
    "    {'nome': 'Carla', 'sobrenome': 'Pereira'},\n",
    "    {'nome': 'Fernando', 'sobrenome': 'Costa'},\n",
    "    {'nome': 'Juliana', 'sobrenome': 'Ribeiro'},\n",
    "    {'nome': 'Ricardo', 'sobrenome': 'Lima'},\n",
    "    {'nome': 'Patrícia', 'sobrenome': 'Mendes'}\n",
    "]\n",
    "\n",
    "l1 = sorted(pessoas, key=lambda item: item['nome'])\n",
    "print(f'{l1}')"
   ]
  },
  {
   "cell_type": "code",
   "execution_count": null,
   "metadata": {},
   "outputs": [],
   "source": []
  },
  {
   "cell_type": "code",
   "execution_count": null,
   "metadata": {},
   "outputs": [],
   "source": []
  }
 ],
 "metadata": {
  "kernelspec": {
   "display_name": "base",
   "language": "python",
   "name": "python3"
  },
  "language_info": {
   "codemirror_mode": {
    "name": "ipython",
    "version": 3
   },
   "file_extension": ".py",
   "mimetype": "text/x-python",
   "name": "python",
   "nbconvert_exporter": "python",
   "pygments_lexer": "ipython3",
   "version": "3.11.7"
  }
 },
 "nbformat": 4,
 "nbformat_minor": 2
}
