{
 "cells": [
  {
   "cell_type": "markdown",
   "id": "f779ed6cb95e6726",
   "metadata": {
    "collapsed": false
   },
   "source": [
    "# **Iteradores em Python**"
   ]
  },
  {
   "cell_type": "code",
   "execution_count": 1,
   "id": "initial_id",
   "metadata": {
    "ExecuteTime": {
     "end_time": "2024-02-09T11:50:06.500377500Z",
     "start_time": "2024-02-09T11:50:06.411632Z"
    },
    "collapsed": true
   },
   "outputs": [
    {
     "data": {
      "text/plain": [
       "'\\nIterator - \\n    - Um Objeto que pode ter iterador\\n    - Um objeto que retorna um dado, sendo um elemento por vez quando uma funcao next() e chamada\\n    \\nIterable - \\n    - Um bjeto que ira retornar um iterator quando a função inter() for chamada\\n'"
      ]
     },
     "execution_count": 1,
     "metadata": {},
     "output_type": "execute_result"
    }
   ],
   "source": [
    "'''\n",
    "Iterator - \n",
    "    - Um Objeto que pode ter iterador\n",
    "    - Um objeto que retorna um dado, sendo um elemento por vez quando uma funcao next() e chamada\n",
    "    \n",
    "Iterable - \n",
    "    - Um bjeto que ira retornar um iterator quando a função inter() for chamada\n",
    "'''"
   ]
  },
  {
   "cell_type": "code",
   "execution_count": 7,
   "id": "5074fb12bb78f816",
   "metadata": {
    "ExecuteTime": {
     "end_time": "2024-02-09T11:53:19.120296100Z",
     "start_time": "2024-02-09T11:53:19.082039200Z"
    },
    "collapsed": false
   },
   "outputs": [
    {
     "name": "stdout",
     "output_type": "stream",
     "text": [
      "P\n",
      "y\n",
      "t\n",
      "\n",
      "\n",
      "1\n",
      "2\n",
      "3\n",
      "4\n"
     ]
    }
   ],
   "source": [
    "nome = 'Python programador' # E um iterable mas nao e um iterator\n",
    "numeros = [1, 2, 3, 4, 5, 6, 7] # E um iterable mas nao e iterator\n",
    "# print(next(nome)) # Assim trara um error\n",
    "\n",
    "it1 = iter(nome)\n",
    "it2 = iter(numeros)\n",
    "\n",
    "print(next(it1))\n",
    "print(next(it1))\n",
    "print(next(it1))\n",
    "\n",
    "print('\\n')\n",
    "print(next(it2))\n",
    "print(next(it2))\n",
    "print(next(it2))\n",
    "print(next(it2))\n"
   ]
  },
  {
   "cell_type": "code",
   "execution_count": 8,
   "id": "5b414dd367009f7b",
   "metadata": {
    "ExecuteTime": {
     "end_time": "2024-02-09T11:53:58.781031900Z",
     "start_time": "2024-02-09T11:53:58.745268700Z"
    },
    "collapsed": false
   },
   "outputs": [
    {
     "name": "stdout",
     "output_type": "stream",
     "text": [
      "O\n",
      "r\n",
      "i\n",
      "e\n",
      "n\n",
      "t\n",
      "a\n",
      "ç\n",
      "ã\n",
      "o\n",
      " \n",
      "a\n",
      " \n",
      "O\n",
      "b\n",
      "j\n",
      "e\n",
      "t\n",
      "o\n",
      "s\n",
      " \n",
      "e\n",
      "m\n",
      " \n",
      "P\n",
      "y\n",
      "t\n",
      "h\n",
      "o\n",
      "n\n"
     ]
    }
   ],
   "source": [
    "#Exemplo com for\n",
    "nom = 'Orientação a Objetos em Python'\n",
    "for letra in nom:\n",
    "    print(f'{letra}')"
   ]
  },
  {
   "cell_type": "code",
   "execution_count": null,
   "id": "be04aa2c50ded2b0",
   "metadata": {
    "collapsed": false
   },
   "outputs": [],
   "source": []
  },
  {
   "cell_type": "code",
   "execution_count": null,
   "id": "369ebc4851fb23d4",
   "metadata": {
    "collapsed": false
   },
   "outputs": [],
   "source": []
  },
  {
   "cell_type": "markdown",
   "id": "6095d4d44bfbdc8c",
   "metadata": {
    "collapsed": false
   },
   "source": [
    "## **Criando uma versão de Loop**"
   ]
  },
  {
   "cell_type": "code",
   "execution_count": null,
   "id": "dd9507dc12dab2fc",
   "metadata": {
    "collapsed": false
   },
   "outputs": [],
   "source": [
    "#Criando sua propria versao de loops\n"
   ]
  },
  {
   "cell_type": "code",
   "execution_count": 11,
   "id": "55d01128bcabd93b",
   "metadata": {
    "ExecuteTime": {
     "end_time": "2024-02-09T12:03:05.489199800Z",
     "start_time": "2024-02-09T12:03:05.427480700Z"
    },
    "collapsed": false
   },
   "outputs": [
    {
     "name": "stdout",
     "output_type": "stream",
     "text": [
      "P\n",
      "y\n",
      "t\n",
      "h\n",
      "o\n",
      "n\n",
      " \n",
      "P\n",
      "r\n",
      "o\n",
      "g\n",
      "r\n",
      "a\n",
      "m\n",
      "a\n",
      "d\n",
      "o\n",
      "r\n",
      "1\n",
      "2\n",
      "3\n",
      "4\n",
      "5\n",
      "6\n",
      "7\n"
     ]
    }
   ],
   "source": [
    "def meu_for(interavel):\n",
    "    it = iter(interavel)\n",
    "    while True:\n",
    "        try:\n",
    "            print(next(it))\n",
    "        except StopIteration:\n",
    "            break\n",
    "            \n",
    "meu_for('Python Programador')\n",
    "meu_for(numeros)"
   ]
  },
  {
   "cell_type": "code",
   "execution_count": null,
   "id": "f6583e1b422e697a",
   "metadata": {
    "collapsed": false
   },
   "outputs": [],
   "source": []
  },
  {
   "cell_type": "markdown",
   "id": "11cd01dcd7d83337",
   "metadata": {
    "collapsed": false
   },
   "source": [
    "### Customizando Iterator"
   ]
  },
  {
   "cell_type": "code",
   "execution_count": 19,
   "id": "334e9c5937f14e10",
   "metadata": {
    "ExecuteTime": {
     "end_time": "2024-02-09T12:14:29.931828200Z",
     "start_time": "2024-02-09T12:14:29.904634800Z"
    },
    "collapsed": false
   },
   "outputs": [
    {
     "name": "stdout",
     "output_type": "stream",
     "text": [
      "P\n",
      "y\n",
      "t\n"
     ]
    }
   ],
   "source": [
    "#Escrevendo um iterador customizado\n",
    "\n",
    "class Contador:\n",
    "    def __init__(self, menor, maior):\n",
    "        self.menor = menor\n",
    "        self.maior = maior\n",
    "        \n",
    "    def _iter_(self):\n",
    "        return self\n",
    "    \n",
    "    def __next__(self):\n",
    "        if self.menor < self.maior:\n",
    "            numero = self.menor\n",
    "            self.menor = self.menor + 1\n",
    "            return numero\n",
    "        raise StopIteration()\n",
    "        \n",
    "con = Contador(1, 6)\n",
    "\n",
    "it = iter('Python')\n",
    "print(next(it))\n",
    "print(next(it))\n",
    "print(next(it))\n"
   ]
  },
  {
   "cell_type": "code",
   "execution_count": null,
   "id": "af98eadad206ec93",
   "metadata": {
    "collapsed": false
   },
   "outputs": [],
   "source": []
  },
  {
   "cell_type": "markdown",
   "id": "1bf95813",
   "metadata": {},
   "source": [
    "### **Geradores**"
   ]
  },
  {
   "cell_type": "code",
   "execution_count": null,
   "id": "eb7f365bd4aa3e39",
   "metadata": {
    "collapsed": false
   },
   "outputs": [],
   "source": [
    "# Geradores\n",
    "# - Geradores (Generators) são Iterators (Iteradores)\n",
    "# OBS: O Contrario não e verdadeiro. Ou Seja, nem todo Iterator e um Generator\n",
    "\n",
    "'''\n",
    "Outras informações\n",
    "- Generators podem sair criados com funçõs geradoras;\n",
    "- Funções geradoras utilizam a palavra reservada yeild\n",
    "- Generators podem ser criados com Expressões Geradoras\n",
    "\n",
    "Diferença entre funções e Generators Functions (Funções Geradoras)\n",
    "/ Funções                                /Generator Functions\n",
    "/ Utilizam return                        /utilizam yiled\n",
    "/ retorna uma vez                        /podem utilizar yield multiplas vezes\n",
    "/quando executada, retorna um valor      /quanto executada, retorna um generator \n",
    "'''"
   ]
  },
  {
   "cell_type": "code",
   "execution_count": 3,
   "id": "f79ea0edfd79dd9f",
   "metadata": {
    "collapsed": false
   },
   "outputs": [
    {
     "name": "stdout",
     "output_type": "stream",
     "text": [
      "<generator object conta_ate at 0x00000136032B05F0> <class 'generator'>\n"
     ]
    }
   ],
   "source": [
    "#Exemplo Generator function\n",
    "def conta_ate(valor_maximo):\n",
    "    contador = 1\n",
    "    while contador <= valor_maximo:\n",
    "        yield contador\n",
    "        contador += 1\n",
    "\n",
    "gen = conta_ate(4)\n",
    "print(gen, type(gen))"
   ]
  },
  {
   "cell_type": "code",
   "execution_count": null,
   "id": "c5b07698c8593a32",
   "metadata": {
    "collapsed": false
   },
   "outputs": [],
   "source": []
  },
  {
   "cell_type": "code",
   "execution_count": null,
   "id": "93576980",
   "metadata": {},
   "outputs": [],
   "source": []
  },
  {
   "cell_type": "code",
   "execution_count": null,
   "id": "d3c0350b",
   "metadata": {},
   "outputs": [],
   "source": []
  },
  {
   "cell_type": "code",
   "execution_count": null,
   "id": "13545700",
   "metadata": {},
   "outputs": [],
   "source": []
  },
  {
   "cell_type": "code",
   "execution_count": null,
   "id": "9093f040",
   "metadata": {},
   "outputs": [],
   "source": []
  },
  {
   "cell_type": "code",
   "execution_count": null,
   "id": "99262bac",
   "metadata": {},
   "outputs": [],
   "source": []
  },
  {
   "cell_type": "code",
   "execution_count": null,
   "id": "c6718c0b",
   "metadata": {},
   "outputs": [],
   "source": []
  }
 ],
 "metadata": {
  "kernelspec": {
   "display_name": "Python 3",
   "language": "python",
   "name": "python3"
  },
  "language_info": {
   "codemirror_mode": {
    "name": "ipython",
    "version": 3
   },
   "file_extension": ".py",
   "mimetype": "text/x-python",
   "name": "python",
   "nbconvert_exporter": "python",
   "pygments_lexer": "ipython3",
   "version": "3.11.5"
  }
 },
 "nbformat": 4,
 "nbformat_minor": 5
}
