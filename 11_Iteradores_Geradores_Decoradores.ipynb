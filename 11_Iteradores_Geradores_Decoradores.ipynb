{
 "cells": [
  {
   "cell_type": "markdown",
   "id": "f779ed6cb95e6726",
   "metadata": {
    "collapsed": false
   },
   "source": [
    "# **Iteradores em Python**"
   ]
  },
  {
   "cell_type": "code",
   "execution_count": 1,
   "id": "initial_id",
   "metadata": {
    "ExecuteTime": {
     "end_time": "2024-02-09T11:50:06.500377500Z",
     "start_time": "2024-02-09T11:50:06.411632Z"
    },
    "collapsed": true
   },
   "outputs": [
    {
     "data": {
      "text/plain": [
       "'\\nIterator - \\n    - Um Objeto que pode ter iterador\\n    - Um objeto que retorna um dado, sendo um elemento por vez quando uma funcao next() e chamada\\n    \\nIterable - \\n    - Um bjeto que ira retornar um iterator quando a função inter() for chamada\\n'"
      ]
     },
     "execution_count": 1,
     "metadata": {},
     "output_type": "execute_result"
    }
   ],
   "source": [
    "'''\n",
    "Iterator - \n",
    "    - Um Objeto que pode ter iterador\n",
    "    - Um objeto que retorna um dado, sendo um elemento por vez quando uma funcao next() e chamada\n",
    "    \n",
    "Iterable - \n",
    "    - Um bjeto que ira retornar um iterator quando a função inter() for chamada\n",
    "'''"
   ]
  },
  {
   "cell_type": "code",
   "execution_count": 7,
   "id": "5074fb12bb78f816",
   "metadata": {
    "ExecuteTime": {
     "end_time": "2024-02-09T11:53:19.120296100Z",
     "start_time": "2024-02-09T11:53:19.082039200Z"
    },
    "collapsed": false
   },
   "outputs": [
    {
     "name": "stdout",
     "output_type": "stream",
     "text": [
      "P\n",
      "y\n",
      "t\n",
      "\n",
      "\n",
      "1\n",
      "2\n",
      "3\n",
      "4\n"
     ]
    }
   ],
   "source": [
    "nome = 'Python programador' # E um iterable mas nao e um iterator\n",
    "numeros = [1, 2, 3, 4, 5, 6, 7] # E um iterable mas nao e iterator\n",
    "# print(next(nome)) # Assim trara um error\n",
    "\n",
    "it1 = iter(nome)\n",
    "it2 = iter(numeros)\n",
    "\n",
    "print(next(it1))\n",
    "print(next(it1))\n",
    "print(next(it1))\n",
    "\n",
    "print('\\n')\n",
    "print(next(it2))\n",
    "print(next(it2))\n",
    "print(next(it2))\n",
    "print(next(it2))\n"
   ]
  },
  {
   "cell_type": "code",
   "execution_count": 8,
   "id": "5b414dd367009f7b",
   "metadata": {
    "ExecuteTime": {
     "end_time": "2024-02-09T11:53:58.781031900Z",
     "start_time": "2024-02-09T11:53:58.745268700Z"
    },
    "collapsed": false
   },
   "outputs": [
    {
     "name": "stdout",
     "output_type": "stream",
     "text": [
      "O\n",
      "r\n",
      "i\n",
      "e\n",
      "n\n",
      "t\n",
      "a\n",
      "ç\n",
      "ã\n",
      "o\n",
      " \n",
      "a\n",
      " \n",
      "O\n",
      "b\n",
      "j\n",
      "e\n",
      "t\n",
      "o\n",
      "s\n",
      " \n",
      "e\n",
      "m\n",
      " \n",
      "P\n",
      "y\n",
      "t\n",
      "h\n",
      "o\n",
      "n\n"
     ]
    }
   ],
   "source": [
    "#Exemplo com for\n",
    "nom = 'Orientação a Objetos em Python'\n",
    "for letra in nom:\n",
    "    print(f'{letra}')"
   ]
  },
  {
   "cell_type": "code",
   "execution_count": null,
   "id": "be04aa2c50ded2b0",
   "metadata": {
    "collapsed": false
   },
   "outputs": [],
   "source": []
  },
  {
   "cell_type": "code",
   "execution_count": null,
   "id": "369ebc4851fb23d4",
   "metadata": {
    "collapsed": false
   },
   "outputs": [],
   "source": []
  },
  {
   "cell_type": "markdown",
   "id": "6095d4d44bfbdc8c",
   "metadata": {
    "collapsed": false
   },
   "source": [
    "## **Criando uma versão de Loop**"
   ]
  },
  {
   "cell_type": "code",
   "execution_count": null,
   "id": "dd9507dc12dab2fc",
   "metadata": {
    "collapsed": false
   },
   "outputs": [],
   "source": [
    "#Criando sua propria versao de loops\n"
   ]
  },
  {
   "cell_type": "code",
   "execution_count": 11,
   "id": "55d01128bcabd93b",
   "metadata": {
    "ExecuteTime": {
     "end_time": "2024-02-09T12:03:05.489199800Z",
     "start_time": "2024-02-09T12:03:05.427480700Z"
    },
    "collapsed": false
   },
   "outputs": [
    {
     "name": "stdout",
     "output_type": "stream",
     "text": [
      "P\n",
      "y\n",
      "t\n",
      "h\n",
      "o\n",
      "n\n",
      " \n",
      "P\n",
      "r\n",
      "o\n",
      "g\n",
      "r\n",
      "a\n",
      "m\n",
      "a\n",
      "d\n",
      "o\n",
      "r\n",
      "1\n",
      "2\n",
      "3\n",
      "4\n",
      "5\n",
      "6\n",
      "7\n"
     ]
    }
   ],
   "source": [
    "def meu_for(interavel):\n",
    "    it = iter(interavel)\n",
    "    while True:\n",
    "        try:\n",
    "            print(next(it))\n",
    "        except StopIteration:\n",
    "            break\n",
    "            \n",
    "meu_for('Python Programador')\n",
    "meu_for(numeros)"
   ]
  },
  {
   "cell_type": "code",
   "execution_count": null,
   "id": "f6583e1b422e697a",
   "metadata": {
    "collapsed": false
   },
   "outputs": [],
   "source": []
  },
  {
   "cell_type": "markdown",
   "id": "11cd01dcd7d83337",
   "metadata": {
    "collapsed": false
   },
   "source": [
    "### Customizando Iterator"
   ]
  },
  {
   "cell_type": "code",
   "execution_count": 19,
   "id": "334e9c5937f14e10",
   "metadata": {
    "ExecuteTime": {
     "end_time": "2024-02-09T12:14:29.931828200Z",
     "start_time": "2024-02-09T12:14:29.904634800Z"
    },
    "collapsed": false
   },
   "outputs": [
    {
     "name": "stdout",
     "output_type": "stream",
     "text": [
      "P\n",
      "y\n",
      "t\n"
     ]
    }
   ],
   "source": [
    "#Escrevendo um iterador customizado\n",
    "\n",
    "class Contador:\n",
    "    def __init__(self, menor, maior):\n",
    "        self.menor = menor\n",
    "        self.maior = maior\n",
    "        \n",
    "    def _iter_(self):\n",
    "        return self\n",
    "    \n",
    "    def __next__(self):\n",
    "        if self.menor < self.maior:\n",
    "            numero = self.menor\n",
    "            self.menor = self.menor + 1\n",
    "            return numero\n",
    "        raise StopIteration()\n",
    "        \n",
    "con = Contador(1, 6)\n",
    "\n",
    "it = iter('Python')\n",
    "print(next(it))\n",
    "print(next(it))\n",
    "print(next(it))\n"
   ]
  },
  {
   "cell_type": "code",
   "execution_count": null,
   "id": "af98eadad206ec93",
   "metadata": {
    "collapsed": false
   },
   "outputs": [],
   "source": []
  },
  {
   "cell_type": "markdown",
   "id": "1bf95813",
   "metadata": {},
   "source": [
    "### **Geradores**"
   ]
  },
  {
   "cell_type": "code",
   "execution_count": null,
   "id": "eb7f365bd4aa3e39",
   "metadata": {
    "collapsed": false
   },
   "outputs": [],
   "source": [
    "# Geradores\n",
    "# - Geradores (Generators) são Iterators (Iteradores)\n",
    "# OBS: O Contrario não e verdadeiro. Ou Seja, nem todo Iterator e um Generator\n",
    "\n",
    "'''\n",
    "Outras informações\n",
    "- Generators podem sair criados com funçõs geradoras;\n",
    "- Funções geradoras utilizam a palavra reservada yeild\n",
    "- Generators podem ser criados com Expressões Geradoras\n",
    "\n",
    "Diferença entre funções e Generators Functions (Funções Geradoras)\n",
    "/ Funções                                /Generator Functions\n",
    "/ Utilizam return                        /utilizam yiled\n",
    "/ retorna uma vez                        /podem utilizar yield multiplas vezes\n",
    "/quando executada, retorna um valor      /quanto executada, retorna um generator \n",
    "'''"
   ]
  },
  {
   "cell_type": "code",
   "execution_count": 3,
   "id": "f79ea0edfd79dd9f",
   "metadata": {
    "collapsed": false
   },
   "outputs": [
    {
     "name": "stdout",
     "output_type": "stream",
     "text": [
      "<generator object conta_ate at 0x00000136032B05F0> <class 'generator'>\n"
     ]
    }
   ],
   "source": [
    "#Exemplo Generator function\n",
    "def conta_ate(valor_maximo):\n",
    "    contador = 1\n",
    "    while contador <= valor_maximo:\n",
    "        yield contador\n",
    "        contador += 1\n",
    "\n",
    "gen = conta_ate(4)\n",
    "print(gen, type(gen))"
   ]
  },
  {
   "cell_type": "code",
   "execution_count": null,
   "id": "c5b07698c8593a32",
   "metadata": {
    "collapsed": false
   },
   "outputs": [],
   "source": []
  },
  {
   "cell_type": "markdown",
   "id": "93576980",
   "metadata": {},
   "source": [
    "### **Teste de Memoria com Generators**"
   ]
  },
  {
   "cell_type": "code",
   "execution_count": 21,
   "id": "d3c0350b",
   "metadata": {},
   "outputs": [
    {
     "name": "stdout",
     "output_type": "stream",
     "text": [
      "1 + 1 + 2 + 3 + 5 + 8 + 13 + 21 + 34 + 55 +  = Terminou\n"
     ]
    }
   ],
   "source": [
    "#Função utilizando Listas\n",
    "def fib_lista(max):\n",
    "    nums = []\n",
    "    a, b = 0, 1\n",
    "    while len(nums) < max:\n",
    "        nums.append(b)\n",
    "        a, b = b, a + b\n",
    "    return nums\n",
    "\n",
    "#TESTE\n",
    "for n in fib_lista(10):\n",
    "    print(n, end=' + ')\n",
    "print(' = Terminou')"
   ]
  },
  {
   "cell_type": "code",
   "execution_count": 15,
   "id": "13545700",
   "metadata": {},
   "outputs": [
    {
     "name": "stdout",
     "output_type": "stream",
     "text": [
      "1\n",
      "1\n",
      "2\n",
      "3\n",
      "5\n",
      "8\n",
      "13\n",
      "21\n",
      "34\n",
      "55\n"
     ]
    }
   ],
   "source": [
    "#Função utilizando Geradores\n",
    "def fib_gen(max):\n",
    "    a, b, contador = 0, 1, 0\n",
    "    while contador < max:\n",
    "        a, b = b, a+b\n",
    "        yield a\n",
    "        contador += 1\n",
    "\n",
    "#Teste\n",
    "for n in fib_gen(10):\n",
    "    print(n)"
   ]
  },
  {
   "cell_type": "code",
   "execution_count": 27,
   "id": "9093f040",
   "metadata": {},
   "outputs": [
    {
     "name": "stdout",
     "output_type": "stream",
     "text": [
      "<generator object nums at 0x0000013621A38110> <class 'generator'>\n",
      "1\n",
      "2\n",
      "3\n",
      "<generator object <genexpr> at 0x0000013621A38450> <class 'generator'>\n",
      "1\n",
      "2\n"
     ]
    }
   ],
   "source": [
    "#Teste de Velocidade com Expressoes Geradoras\n",
    "def nums():\n",
    "    for num in range(1, 10):\n",
    "        yield num\n",
    "\n",
    "teste1 = nums()\n",
    "print(teste1, type(teste1))\n",
    "\n",
    "print(next(teste1))\n",
    "print(next(teste1))\n",
    "print(next(teste1))\n",
    "\n",
    "#Generator expression\n",
    "teste2 = (num for num in range(1, 10))\n",
    "print(teste2, type(teste2))\n",
    "print(next(teste2))\n",
    "print(next(teste2))"
   ]
  },
  {
   "cell_type": "code",
   "execution_count": 41,
   "id": "99262bac",
   "metadata": {},
   "outputs": [
    {
     "name": "stdout",
     "output_type": "stream",
     "text": [
      "4999999950000000\n",
      "Generator Expression: 8.951894521713257\n",
      "4999999950000000\n",
      "List Comprehension: 14.231874227523804\n"
     ]
    }
   ],
   "source": [
    "#Realizando o Teste de Velocidade\n",
    "from time import time\n",
    "\n",
    "#Utilizando Generator Expression\n",
    "gen_inicio = time()\n",
    "print(sum(num for num in range(100000000))) #10Bilhoes\n",
    "gen_tempo = time() - gen_inicio\n",
    "print(f'Generator Expression: {gen_tempo}')\n",
    "\n",
    "#Utilizando List Comprehension\n",
    "list_inicio = time()\n",
    "print(sum([num for num in range(100000000)])) #10Bilhoes\n",
    "list_tempo = time() - list_inicio\n",
    "print(f'List Comprehension: {list_tempo}') "
   ]
  },
  {
   "cell_type": "code",
   "execution_count": null,
   "id": "c6718c0b",
   "metadata": {},
   "outputs": [],
   "source": []
  },
  {
   "cell_type": "markdown",
   "id": "b9c4bea7",
   "metadata": {},
   "source": [
    "# **Decoradores em Python**"
   ]
  },
  {
   "cell_type": "code",
   "execution_count": 1,
   "id": "3585358f",
   "metadata": {},
   "outputs": [
    {
     "name": "stdout",
     "output_type": "stream",
     "text": [
      "8\n",
      "2\n"
     ]
    }
   ],
   "source": [
    "#Funções de maior grandeza - Higher Order Functions - HOF\n",
    "'''\n",
    "- Quando uma linguagem  de programação suporte HOF, indica que podemos ter funções que retorna outras funcoes\n",
    "como resultado ou mesmo que podemos passar funcoes como argumentos para outras funções, e ate mesmo criar variaveis\n",
    "do tipo de funções nos nossos programas'''\n",
    "\n",
    "#EXEMPLO - Definindo as funções\n",
    "def soma(a, b):\n",
    "    return a + b\n",
    "\n",
    "def diminuir(a, b):\n",
    "    return a - b\n",
    "\n",
    "def multiplicar(a, b):\n",
    "    return a * b\n",
    "\n",
    "def dividir(a, b):\n",
    "    return a / b\n",
    "\n",
    "def calcular(num1, num2, funcao):\n",
    "    return funcao(num1, num2)\n",
    "\n",
    "\n",
    "#Testando\n",
    "print(calcular(5, 3, soma))          #Soma: 8\n",
    "print(calcular(5, 3, diminuir))     #Diminuição\n"
   ]
  },
  {
   "cell_type": "code",
   "execution_count": 3,
   "id": "830a08b1",
   "metadata": {},
   "outputs": [
    {
     "name": "stdout",
     "output_type": "stream",
     "text": [
      " Amo voce Francisco Douglas\n"
     ]
    }
   ],
   "source": [
    "#Nested Function - Funções Aninhadas\n",
    "'''\n",
    "Em Python podemos ter funções dentro de funções, que são conhecidas por Nested Functions\n",
    "ou tambem Inner Functions (Funções Internas)\n",
    "'''\n",
    "\n",
    "from random import choice\n",
    "\n",
    "def cumprimento(pessoa):\n",
    "    def humor():\n",
    "        return choice((' E ai ', \" Careca \", \" Suma daqui \", \" Bixo Feio \", ' Amo voce '))\n",
    "    return humor() + pessoa\n",
    "\n",
    "print(cumprimento(\"Francisco Douglas\"))"
   ]
  },
  {
   "cell_type": "code",
   "execution_count": 5,
   "id": "cc622eba",
   "metadata": {},
   "outputs": [
    {
     "name": "stdout",
     "output_type": "stream",
     "text": [
      " hahahahah \n"
     ]
    }
   ],
   "source": [
    "#Retornado funções de outras funções\n",
    "\n",
    "from random import choice\n",
    "\n",
    "def faz_me_rir():\n",
    "    def rir():\n",
    "        return choice((\" hahahahah \", ' kkkkk ', ' yayayayaya '))\n",
    "    return rir\n",
    "\n",
    "#Teste\n",
    "rindo = faz_me_rir()\n",
    "print(rindo())"
   ]
  },
  {
   "cell_type": "code",
   "execution_count": 10,
   "id": "c81d22fd",
   "metadata": {},
   "outputs": [
    {
     "name": "stdout",
     "output_type": "stream",
     "text": [
      " hahahahaha  Francisco\n",
      " hahahahaha  Francisco\n"
     ]
    }
   ],
   "source": [
    "#Inner functions (Funcoes internas / Nested Functions)\n",
    "\n",
    "from random import choice\n",
    "\n",
    "def faz_rir(pessoa):\n",
    "    def da_risada():\n",
    "        risada = choice ((' hahahahaha ', ' lolololo ', 'kkkkkk'))\n",
    "        return f'{risada} {pessoa}'\n",
    "    return da_risada\n",
    "\n",
    "#Teste\n",
    "rindo = faz_rir('Francisco')\n",
    "print(rindo())\n",
    "print(rindo())"
   ]
  },
  {
   "cell_type": "code",
   "execution_count": null,
   "id": "03113971",
   "metadata": {},
   "outputs": [],
   "source": []
  },
  {
   "cell_type": "code",
   "execution_count": null,
   "id": "75dba6f1",
   "metadata": {},
   "outputs": [],
   "source": []
  },
  {
   "cell_type": "markdown",
   "id": "099a016a",
   "metadata": {},
   "source": [
    "### Decoradores"
   ]
  },
  {
   "cell_type": "code",
   "execution_count": 15,
   "id": "5f985117",
   "metadata": {},
   "outputs": [
    {
     "name": "stdout",
     "output_type": "stream",
     "text": [
      "Foi um prazer conhecer voce! \n",
      "Seja bem-vindo(a) Programando em Python\n",
      "Tenha um otimo dia: \n"
     ]
    }
   ],
   "source": [
    "\"\"\"\n",
    "Decoradores (Decorators)\n",
    "Oque são decorators?\n",
    "\n",
    "- Decorators sao funções que envolvem outras funções e aprimoram seus comportamentos\n",
    "- Decorators tambem são exemplos de High Order Functions;\n",
    "- Decorators tem uma sintaxe propria, usando \"@\" (Syntact Sugar / Açucar Sintatico)\n",
    "\"\"\"\n",
    "\n",
    "#Decorators como funções (Sintaxe não recomendada / Sem Açucar Sintatico)\n",
    "def seja_educado(funcao):\n",
    "    def sendo():\n",
    "        print(\"Foi um prazer conhecer voce! \")\n",
    "        funcao()\n",
    "        print(\"Tenha um otimo dia: \")\n",
    "    return sendo\n",
    "\n",
    "def saudacao():\n",
    "    print(\"Seja bem-vindo(a) Programando em Python\")\n",
    "\n",
    "#Testando\n",
    "teste = seja_educado(saudacao)\n",
    "teste()"
   ]
  },
  {
   "cell_type": "code",
   "execution_count": 19,
   "id": "ee4e01c2",
   "metadata": {},
   "outputs": [
    {
     "name": "stdout",
     "output_type": "stream",
     "text": [
      "Foi um prazer conhecer voce\n",
      "Eu sou o desenvolvedor\n",
      "Tenha um excelente dia\n",
      "\n",
      "\n",
      "\n",
      "Foi um prazer conhecer voce\n",
      "Quero Dormir\n",
      "Tenha um excelente dia\n"
     ]
    }
   ],
   "source": [
    "#Utilizando Decorators com Systanx Sugar (Açuca Sintatico)\n",
    "def ser_educado(funcao):\n",
    "    def sendo_mesmo():\n",
    "        print('Foi um prazer conhecer voce')\n",
    "        funcao()\n",
    "        print('Tenha um excelente dia')\n",
    "    return sendo_mesmo\n",
    "\n",
    "@ser_educado\n",
    "def apresentando():\n",
    "    print(\"Eu sou o desenvolvedor\")\n",
    "\n",
    "#Teste\n",
    "apresentando()\n",
    "\n",
    "print('\\n\\n')\n",
    "\n",
    "#Outro exemplo\n",
    "@ser_educado\n",
    "def dormir():\n",
    "    print('Quero Dormir')\n",
    "\n",
    "dormir()"
   ]
  },
  {
   "cell_type": "code",
   "execution_count": null,
   "id": "ec74b916",
   "metadata": {},
   "outputs": [],
   "source": []
  },
  {
   "cell_type": "code",
   "execution_count": null,
   "id": "4f4d76de",
   "metadata": {},
   "outputs": [],
   "source": []
  },
  {
   "cell_type": "code",
   "execution_count": null,
   "id": "4841f857",
   "metadata": {},
   "outputs": [],
   "source": []
  },
  {
   "cell_type": "code",
   "execution_count": null,
   "id": "ae829bc5",
   "metadata": {},
   "outputs": [],
   "source": []
  },
  {
   "cell_type": "code",
   "execution_count": null,
   "id": "0cb760f4",
   "metadata": {},
   "outputs": [],
   "source": []
  },
  {
   "cell_type": "code",
   "execution_count": null,
   "id": "f0c7aa30",
   "metadata": {},
   "outputs": [],
   "source": []
  },
  {
   "cell_type": "code",
   "execution_count": null,
   "id": "d688d161",
   "metadata": {},
   "outputs": [],
   "source": []
  },
  {
   "cell_type": "code",
   "execution_count": null,
   "id": "ac7458a8",
   "metadata": {},
   "outputs": [],
   "source": []
  },
  {
   "cell_type": "code",
   "execution_count": null,
   "id": "68ff9600",
   "metadata": {},
   "outputs": [],
   "source": []
  },
  {
   "cell_type": "code",
   "execution_count": null,
   "id": "b874804f",
   "metadata": {},
   "outputs": [],
   "source": []
  },
  {
   "cell_type": "code",
   "execution_count": null,
   "id": "416246ef",
   "metadata": {},
   "outputs": [],
   "source": []
  },
  {
   "cell_type": "code",
   "execution_count": null,
   "id": "aa8f74ca",
   "metadata": {},
   "outputs": [],
   "source": []
  },
  {
   "cell_type": "code",
   "execution_count": null,
   "id": "35c09be8",
   "metadata": {},
   "outputs": [],
   "source": []
  },
  {
   "cell_type": "code",
   "execution_count": null,
   "id": "e7c83d86",
   "metadata": {},
   "outputs": [],
   "source": []
  },
  {
   "cell_type": "code",
   "execution_count": null,
   "id": "7dd103de",
   "metadata": {},
   "outputs": [],
   "source": []
  },
  {
   "cell_type": "code",
   "execution_count": null,
   "id": "7ee31d20",
   "metadata": {},
   "outputs": [],
   "source": []
  },
  {
   "cell_type": "code",
   "execution_count": null,
   "id": "08fe66aa",
   "metadata": {},
   "outputs": [],
   "source": []
  },
  {
   "cell_type": "code",
   "execution_count": null,
   "id": "75634f07",
   "metadata": {},
   "outputs": [],
   "source": []
  },
  {
   "cell_type": "code",
   "execution_count": null,
   "id": "f208816d",
   "metadata": {},
   "outputs": [],
   "source": []
  },
  {
   "cell_type": "code",
   "execution_count": null,
   "id": "0c5d3fbc",
   "metadata": {},
   "outputs": [],
   "source": []
  }
 ],
 "metadata": {
  "kernelspec": {
   "display_name": "Python 3",
   "language": "python",
   "name": "python3"
  },
  "language_info": {
   "codemirror_mode": {
    "name": "ipython",
    "version": 3
   },
   "file_extension": ".py",
   "mimetype": "text/x-python",
   "name": "python",
   "nbconvert_exporter": "python",
   "pygments_lexer": "ipython3",
   "version": "3.11.5"
  }
 },
 "nbformat": 4,
 "nbformat_minor": 5
}
