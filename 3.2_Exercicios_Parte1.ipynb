{
 "cells": [
  {
   "cell_type": "markdown",
   "metadata": {},
   "source": [
    "# ***Estruturas de Repetição Parte1***"
   ]
  },
  {
   "cell_type": "markdown",
   "metadata": {},
   "source": [
    "1- Faça um programa que determine e mostre os 5 primeiros múltiplos de 3, considerando\n",
    "números maiores que 0."
   ]
  },
  {
   "cell_type": "code",
   "execution_count": 1,
   "metadata": {},
   "outputs": [
    {
     "name": "stdout",
     "output_type": "stream",
     "text": [
      "3 e Multiplo de 3\n",
      "6 e Multiplo de 3\n",
      "9 e Multiplo de 3\n",
      "12 e Multiplo de 3\n",
      "15 e Multiplo de 3\n"
     ]
    }
   ],
   "source": [
    "# Variaveis contador\n",
    "contador = 0\n",
    "\n",
    "for c in range(0, 100):\n",
    "    if c % 3 == 0:\n",
    "        if c > 0:\n",
    "            print(f'{c} e Multiplo de 3')\n",
    "            contador += 1\n",
    "            if contador == 5:\n",
    "                break"
   ]
  },
  {
   "cell_type": "markdown",
   "metadata": {},
   "source": [
    "-\n",
    "-\n",
    "-\n",
    "-\n",
    "\n",
    "2- Escreva um programa que escreva na tela, de 1 ate 100, de 1 em 1, 3 vezes. A primeira vez deve\n",
    "usar a estrutura de repetição for, a segunda while e a terceira while."
   ]
  },
  {
   "cell_type": "code",
   "execution_count": 9,
   "metadata": {},
   "outputs": [
    {
     "name": "stdout",
     "output_type": "stream",
     "text": [
      "1, 2, 3, 4, 5, 6, 7, 8, 9, 10, 11, 12, 13, 14, 15, 16, 17, 18, 19, 20, 21, 22, 23, 24, 25, 26, 27, 28, 29, 30, 31, 32, 33, 34, 35, 36, 37, 38, 39, 40, 41, 42, 43, 44, 45, 46, 47, 48, 49, 50, 51, 52, 53, 54, 55, 56, 57, 58, 59, 60, 61, 62, 63, 64, 65, 66, 67, 68, 69, 70, 71, 72, 73, 74, 75, 76, 77, 78, 79, 80, 81, 82, 83, 84, 85, 86, 87, 88, 89, 90, 91, 92, 93, 94, 95, 96, 97, 98, 99, 100, \n",
      "1, 2, 3, 4, 5, 6, 7, 8, 9, 10, 11, 12, 13, 14, 15, 16, 17, 18, 19, 20, 21, 22, 23, 24, 25, 26, 27, 28, 29, 30, 31, 32, 33, 34, 35, 36, 37, 38, 39, 40, 41, 42, 43, 44, 45, 46, 47, 48, 49, 50, 51, 52, 53, 54, 55, 56, 57, 58, 59, 60, 61, 62, 63, 64, 65, 66, 67, 68, 69, 70, 71, 72, 73, 74, 75, 76, 77, 78, 79, 80, 81, 82, 83, 84, 85, 86, 87, 88, 89, 90, 91, 92, 93, 94, 95, 96, 97, 98, 99, 100, \n",
      "1, 2, 3, 4, 5, 6, 7, 8, 9, 10, 11, 12, 13, 14, 15, 16, 17, 18, 19, 20, 21, 22, 23, 24, 25, 26, 27, 28, 29, 30, 31, 32, 33, 34, 35, 36, 37, 38, 39, 40, 41, 42, 43, 44, 45, 46, 47, 48, 49, 50, 51, 52, 53, 54, 55, 56, 57, 58, 59, 60, 61, 62, 63, 64, 65, 66, 67, 68, 69, 70, 71, 72, 73, 74, 75, 76, 77, 78, 79, 80, 81, 82, 83, 84, 85, 86, 87, 88, 89, 90, 91, 92, 93, 94, 95, 96, 97, 98, 99, 100, "
     ]
    }
   ],
   "source": [
    "#variaveis\n",
    "for c in range(1, 101):\n",
    "    print(c, end=', ')\n",
    "    \n",
    "print('')\n",
    "\n",
    "#Utilizando o while con parada\n",
    "contador = 0\n",
    "while contador < 100:\n",
    "    contador += 1\n",
    "    print(contador, end=', ')\n",
    "    \n",
    "print('')\n",
    "#Utilizando while infinit\n",
    "cont = 0\n",
    "while True:\n",
    "    cont += 1\n",
    "    print(cont, end=', ')\n",
    "    if cont == 100:\n",
    "        break    "
   ]
  },
  {
   "cell_type": "markdown",
   "metadata": {},
   "source": [
    "-\n",
    "-\n",
    "-\n",
    "-\n",
    "\n",
    "3- Faça um algoritmo utilizando while que mostre uma contagem regressiva na tela, de 10\n",
    "números, escolha a sequência. Separe os números pares dos impares, os pares somem os e os\n",
    "impares divida-os."
   ]
  },
  {
   "cell_type": "code",
   "execution_count": 11,
   "metadata": {},
   "outputs": [
    {
     "name": "stdout",
     "output_type": "stream",
     "text": [
      "Os numeros Pares são [2, 4, 6, 8, 10] e a soma e 30\n",
      "Os numeros impares são [1, 3, 5, 7, 9] e a Divisao e 0.0\n"
     ]
    }
   ],
   "source": [
    "#Variaveis e Listas\n",
    "par        = []\n",
    "impar      = []\n",
    "dividImpar = 0\n",
    "sPar       = 0\n",
    "cont       = 0\n",
    "\n",
    "while cont < 10:\n",
    "    cont += 1\n",
    "    if cont % 2 == 0:\n",
    "        par.append(cont)\n",
    "        sPar += cont\n",
    "    else:\n",
    "        impar.append(cont)\n",
    "        dividImpar /= cont\n",
    "        \n",
    "print(f'Os numeros Pares são {par} e a soma e {sPar}')\n",
    "print(f'Os numeros impares são {impar} e a Divisao e {dividImpar}')"
   ]
  },
  {
   "cell_type": "markdown",
   "metadata": {},
   "source": [
    "-\n",
    "-\n",
    "-\n",
    "-\n",
    "\n",
    "4- Faça um programa que leia 15 números, imprima os na tela, sendo que separe o maior e o\n",
    "menor número."
   ]
  },
  {
   "cell_type": "code",
   "execution_count": 12,
   "metadata": {},
   "outputs": [
    {
     "name": "stdout",
     "output_type": "stream",
     "text": [
      "Os numeros digitados foram [3, 6, 1, 23, 7, 8, 9, 12, 2, 45, 6, 32, 1, 2]\n",
      "\n",
      "O Maior numero e 45\n",
      "O Menor Numero e 1\n"
     ]
    }
   ],
   "source": [
    "#Variaveis\n",
    "maior = 0\n",
    "menor = 0\n",
    "numeros = []\n",
    "\n",
    "for n in range(1, 15):\n",
    "    num = int(input(f'Digite o {n} numero: '))\n",
    "    numeros.append(num)\n",
    "    \n",
    "    if n == 1:\n",
    "        maior = menor = num\n",
    "    else:\n",
    "        if num > maior:\n",
    "            maior = num\n",
    "        if num < menor:\n",
    "            menor = num\n",
    "print(f'Os numeros digitados foram {numeros}')\n",
    "print(f'\\nO Maior numero e {maior}')\n",
    "print(f'O Menor Numero e {menor}')"
   ]
  },
  {
   "cell_type": "markdown",
   "metadata": {},
   "source": [
    "-\n",
    "-\n",
    "-\n",
    "-\n",
    "5- Faça um programa que leia um numero inteiro positivo N e imprima todos os números naturais\n",
    "de 0 ate N em ordem crescente, depois imprima os em ordem decrescente."
   ]
  },
  {
   "cell_type": "code",
   "execution_count": 20,
   "metadata": {},
   "outputs": [
    {
     "name": "stdout",
     "output_type": "stream",
     "text": [
      "O Numero Digitado foi 34\n",
      "\n",
      "Numeros Naturais em Ordem Crescente\n",
      "0, 1, 2, 3, 4, 5, 6, 7, 8, 9, 10, 11, 12, 13, 14, 15, 16, 17, 18, 19, 20, 21, 22, 23, 24, 25, 26, 27, 28, 29, 30, 31, 32, 33, 34, \n",
      "Numeros Naturais em Odem Decrescente\n",
      "34, 33, 32, 31, 30, 29, 28, 27, 26, 25, 24, 23, 22, 21, 20, 19, 18, 17, 16, 15, 14, 13, 12, 11, 10, 9, 8, 7, 6, 5, 4, 3, 2, 1, 0, "
     ]
    }
   ],
   "source": [
    "try:\n",
    "    numero = int(input('Digite o numero: '))\n",
    "    print(f'O Numero Digitado foi {numero}\\n')\n",
    "    \n",
    "    if numero < 0:\n",
    "        print('O Numero deve ser positivo')\n",
    "    else:\n",
    "        print('Numeros Naturais em Ordem Crescente')\n",
    "        for i in range(numero+1):\n",
    "            print(i, end=', ')\n",
    "        \n",
    "        print('\\nNumeros Naturais em Odem Decrescente')\n",
    "        for i in range(numero, -1, -1):\n",
    "            print(i, end=', ')\n",
    "\n",
    "except:\n",
    "    print('Erro!')         "
   ]
  },
  {
   "cell_type": "markdown",
   "metadata": {},
   "source": [
    "-\n",
    "-\n",
    "-\n",
    "-\n",
    "\n",
    "6- Faça um programa que leia de 0 a 500, separe os números múltiplos de 3 divisíveis por 3 e\n",
    "múltiplos de 2 divisíveis por 2."
   ]
  },
  {
   "cell_type": "code",
   "execution_count": 2,
   "metadata": {},
   "outputs": [
    {
     "name": "stdout",
     "output_type": "stream",
     "text": [
      "Entre 0 e 500 temos\n",
      "250 Numeros Multiplos de 2 divisivel por 2 que são [2, 4, 6, 8, 10, 12, 14, 16, 18, 20, 22, 24, 26, 28, 30, 32, 34, 36, 38, 40, 42, 44, 46, 48, 50, 52, 54, 56, 58, 60, 62, 64, 66, 68, 70, 72, 74, 76, 78, 80, 82, 84, 86, 88, 90, 92, 94, 96, 98, 100, 102, 104, 106, 108, 110, 112, 114, 116, 118, 120, 122, 124, 126, 128, 130, 132, 134, 136, 138, 140, 142, 144, 146, 148, 150, 152, 154, 156, 158, 160, 162, 164, 166, 168, 170, 172, 174, 176, 178, 180, 182, 184, 186, 188, 190, 192, 194, 196, 198, 200, 202, 204, 206, 208, 210, 212, 214, 216, 218, 220, 222, 224, 226, 228, 230, 232, 234, 236, 238, 240, 242, 244, 246, 248, 250, 252, 254, 256, 258, 260, 262, 264, 266, 268, 270, 272, 274, 276, 278, 280, 282, 284, 286, 288, 290, 292, 294, 296, 298, 300, 302, 304, 306, 308, 310, 312, 314, 316, 318, 320, 322, 324, 326, 328, 330, 332, 334, 336, 338, 340, 342, 344, 346, 348, 350, 352, 354, 356, 358, 360, 362, 364, 366, 368, 370, 372, 374, 376, 378, 380, 382, 384, 386, 388, 390, 392, 394, 396, 398, 400, 402, 404, 406, 408, 410, 412, 414, 416, 418, 420, 422, 424, 426, 428, 430, 432, 434, 436, 438, 440, 442, 444, 446, 448, 450, 452, 454, 456, 458, 460, 462, 464, 466, 468, 470, 472, 474, 476, 478, 480, 482, 484, 486, 488, 490, 492, 494, 496, 498, 500]\n",
      "83 Numeros Multiplos de 3 divisivel por 3 que são [3, 9, 15, 21, 27, 33, 39, 45, 51, 57, 63, 69, 75, 81, 87, 93, 99, 105, 111, 117, 123, 129, 135, 141, 147, 153, 159, 165, 171, 177, 183, 189, 195, 201, 207, 213, 219, 225, 231, 237, 243, 249, 255, 261, 267, 273, 279, 285, 291, 297, 303, 309, 315, 321, 327, 333, 339, 345, 351, 357, 363, 369, 375, 381, 387, 393, 399, 405, 411, 417, 423, 429, 435, 441, 447, 453, 459, 465, 471, 477, 483, 489, 495]\n"
     ]
    }
   ],
   "source": [
    "multiplos_3 = []\n",
    "multiplos_2 = []\n",
    "cont_3 = 0\n",
    "cont_2 = 0\n",
    "\n",
    "for numeros in range(0, 501):\n",
    "    if numeros % 2 == 0 and numeros != 0:\n",
    "        cont_2 += 1\n",
    "        multiplos_2.append(numeros)\n",
    "    elif numeros % 3 == 0 and numeros != 0:\n",
    "        cont_3 += 1\n",
    "        multiplos_3.append(numeros)\n",
    "        \n",
    "print('Entre 0 e 500 temos')\n",
    "print(f'{cont_2} Numeros Multiplos de 2 divisivel por 2 que são {multiplos_2}')\n",
    "print(f'{cont_3} Numeros Multiplos de 3 divisivel por 3 que são {multiplos_3}')\n",
    "        "
   ]
  },
  {
   "cell_type": "markdown",
   "metadata": {},
   "source": [
    "-\n",
    "-\n",
    "-\n",
    "-\n",
    "\n",
    "7- Escreva um programa completo que permita a qualquer aluno introduzir, pelo teclado, uma\n",
    "sequência arbitraria de notas (validas no intervalo de 10 a 20) e que mostre na tela, como\n",
    "resultado, a correspondente media aritmética. O numero de notas com que o aluno pretende\n",
    "efetuar o calculo não será fornecido ao programa, o qual terminara quando for introduzido um\n",
    "valor um valor que não seja valido como nota de aprovação"
   ]
  },
  {
   "cell_type": "code",
   "execution_count": 10,
   "metadata": {},
   "outputs": [
    {
     "name": "stdout",
     "output_type": "stream",
     "text": [
      "12.0\n",
      "18.0\n",
      "19.0\n",
      "15.0\n",
      "Voce digitou 23.0 A Nota e invalida: Encerrando o programa\n",
      "Ao todo foram digitados 4 notas\n",
      "A Soma das notas e 64.0 e a Media e de 16.0\n"
     ]
    }
   ],
   "source": [
    "#Programa\n",
    "cont_notas = 0\n",
    "soma_notas = 0\n",
    "\n",
    "while True:\n",
    "    nota = float(input('Digite a nota: '))\n",
    "    \n",
    "    if nota >= 10 and nota <= 20:\n",
    "        print(nota)\n",
    "        cont_notas += 1\n",
    "        soma_notas += nota\n",
    "        \n",
    "    else:\n",
    "        print(f'Voce digitou {nota} A Nota e invalida: Encerrando o programa')\n",
    "        break\n",
    "    \n",
    "if cont_notas >= 1:\n",
    "    media = soma_notas / cont_notas\n",
    "    print(f'Ao todo foram digitados {cont_notas} notas')\n",
    "    print(f'A Soma das notas e {soma_notas} e a Media e de {media}')\n",
    "else:\n",
    "    print(f'Ainda não e possivel calcula a Media')\n",
    "    "
   ]
  },
  {
   "cell_type": "markdown",
   "metadata": {},
   "source": [
    "-\n",
    "-\n",
    "-\n",
    "-\n",
    "\n",
    "8- Faça um programa que some todos os números naturais abaixo de 1000 que são múltiplos de 3\n",
    "ou 5."
   ]
  },
  {
   "cell_type": "code",
   "execution_count": 16,
   "metadata": {},
   "outputs": [
    {
     "name": "stdout",
     "output_type": "stream",
     "text": [
      "Ao todo temos 66 Numeros Multiplos de 3 e de 5 entre 0 e 1000\n",
      "A Soma dos 66 numero e 33165\n",
      "Os numeros são [15, 30, 45, 60, 75, 90, 105, 120, 135, 150, 165, 180, 195, 210, 225, 240, 255, 270, 285, 300, 315, 330, 345, 360, 375, 390, 405, 420, 435, 450, 465, 480, 495, 510, 525, 540, 555, 570, 585, 600, 615, 630, 645, 660, 675, 690, 705, 720, 735, 750, 765, 780, 795, 810, 825, 840, 855, 870, 885, 900, 915, 930, 945, 960, 975, 990]\n"
     ]
    }
   ],
   "source": [
    "#Variaveis\n",
    "mult_5_3  = 0\n",
    "\n",
    "contador  = 0\n",
    "cont_mult = 0\n",
    "numeros   = []\n",
    "\n",
    "while contador < 1000:\n",
    "    contador += 1\n",
    "    \n",
    "    if contador % 5 == 0 and contador % 3 == 0:\n",
    "        cont_mult += 1\n",
    "        mult_5_3 += contador\n",
    "        numeros.append(contador)\n",
    "\n",
    "print(f'Ao todo temos {cont_mult} Numeros Multiplos de 3 e de 5 entre 0 e 1000')\n",
    "print(f'A Soma dos {cont_mult} numero e {mult_5_3}')\n",
    "print(f'Os numeros são {numeros}')"
   ]
  },
  {
   "cell_type": "markdown",
   "metadata": {},
   "source": [
    "-\n",
    "-\n",
    "-\n",
    "-\n",
    "9- Faça um programa que leia vários números inteiros ate que se digite um numero negativo.\n",
    "Separe os pares dos impares e diga qual é o Maior par e qual é o menor ímpar, depois some os."
   ]
  },
  {
   "cell_type": "code",
   "execution_count": 25,
   "metadata": {},
   "outputs": [
    {
     "name": "stdout",
     "output_type": "stream",
     "text": [
      "Os Numeros Pares Digitados Foram [2, 4, 6, 8] e o Maior Par e 8\n",
      "Os Numeros Impares Digitados Foram [1, 3, 5, 7, 9] e o Menor Impa e 1\n"
     ]
    }
   ],
   "source": [
    "#Programa\n",
    "pares     = []\n",
    "impares   = []\n",
    "maior     = 0\n",
    "menor     = 0\n",
    "\n",
    "while True:\n",
    "    num = int(input('Digite um numero ou <=0 para sair: '))\n",
    "    if num <= 0:\n",
    "        break\n",
    "    \n",
    "    else:\n",
    "        if num % 2 == 0:\n",
    "            pares.append(num)\n",
    "        \n",
    "        if num % 2 == 1:\n",
    "            impares.append(num)\n",
    "            \n",
    "maior = max(pares) \n",
    "menor = min(impares)               \n",
    "                    \n",
    "print(f'Os Numeros Pares Digitados Foram {pares} e o Maior Par e {maior}')\n",
    "print(f'Os Numeros Impares Digitados Foram {impares} e o Menor Impa e {menor}')\n",
    "            \n",
    "            "
   ]
  },
  {
   "cell_type": "markdown",
   "metadata": {},
   "source": [
    "-\n",
    "-\n",
    "-\n",
    "-\n",
    "\n",
    "10- Faça um programa que calcule a associação em paralelo de dois resistores R1 e R2 fornecidos\n",
    "pelo usuário via teclado. O programa fica pedindo estes valores e calculando até que o usuário\n",
    "entre com um valor igual a zero\n",
    "\n",
    "R = (R1 * R2) / (R1 + R2)"
   ]
  },
  {
   "cell_type": "code",
   "execution_count": 12,
   "metadata": {},
   "outputs": [
    {
     "name": "stdout",
     "output_type": "stream",
     "text": [
      "O Valor do Resistor Paralelo e 0.67\n",
      "O Valor do Resistor Paralelo e 1.71\n",
      "O Valor do Resistor Paralelo e 2.73\n",
      "O Valor do Resistor Paralelo e 3.73\n",
      "Voce Digitou o 0 Encerrando programa\n"
     ]
    }
   ],
   "source": [
    "#Variaveis\n",
    "while True:\n",
    "    r1 = int(input('Resistor 1: '))\n",
    "    \n",
    "    if r1 <= 0:\n",
    "        print(f'Voce Digitou o {r1} Encerrando programa...')\n",
    "        break\n",
    "    \n",
    "    r2 = int(input('Resistor 2: '))\n",
    "    if r2 <= 0:\n",
    "        print(f'Voce Digitou o {r2} Encerrando programa')\n",
    "        break\n",
    "    \n",
    "    else:\n",
    "        resistor = (r1 * r2) / (r1 + r2)\n",
    "        print(f'O Valor do Resistor Paralelo e {resistor:.2f}')"
   ]
  },
  {
   "cell_type": "markdown",
   "metadata": {},
   "source": [
    "-\n",
    "-\n",
    "-\n",
    "-\n",
    "\n",
    "11- Faça um programa que leia um conjunto não determinado de valores, um de cada vez, e escreva para cada um dos valores lidos, o quadrado, o cubo e a raiz quadrada. Finalize a entrada com um valor negativo ou zero."
   ]
  },
  {
   "cell_type": "code",
   "execution_count": 2,
   "metadata": {},
   "outputs": [
    {
     "name": "stdout",
     "output_type": "stream",
     "text": [
      "O Numero digitado foi 1\n",
      "O Quadrado de 1 e 2\n",
      "O Cubo de 1 e 1\n",
      "A Raiz de 1 e 1.0\n",
      "O Numero digitado foi 2\n",
      "O Quadrado de 2 e 4\n",
      "O Cubo de 2 e 8\n",
      "A Raiz de 2 e 1.4142135623730951\n",
      "O Numero digitado foi 3\n",
      "O Quadrado de 3 e 6\n",
      "O Cubo de 3 e 27\n",
      "A Raiz de 3 e 1.7320508075688772\n",
      "O Numero digitado foi 0\n",
      "O Quadrado de 0 e 0\n",
      "O Cubo de 0 e 0\n",
      "A Raiz de 0 e 0.0\n"
     ]
    }
   ],
   "source": [
    "#Conjunto\n",
    "while True:\n",
    "    try:\n",
    "        n = int(input(\"Digite um numero para adiciona ao conjunto: \"))\n",
    "        quadrado = n * 2\n",
    "        cubo     = n ** 3\n",
    "        raiz     = n ** 0.5\n",
    "        print(f'O Numero digitado foi {n}')\n",
    "        print(f'O Quadrado de {n} e {quadrado}')\n",
    "        print(f'O Cubo de {n} e {cubo}')\n",
    "        print(f'A Raiz de {n} e {raiz}')\n",
    "        \n",
    "        if n <= 0:\n",
    "            break\n",
    "    \n",
    "    except:\n",
    "        print('Erro de Valor tente novamente')"
   ]
  },
  {
   "cell_type": "markdown",
   "metadata": {},
   "source": [
    "-\n",
    "-\n",
    "-\n",
    "-\n",
    "\n",
    "12- Faça um programa que leia o nome e a idade de vários indivíduos, para quando for informado\n",
    "a idade 0 e depois mostre.\n",
    "\n",
    "    Quem é o Mais velho\n",
    "    Quem é o Mais novo\n",
    "    Qual a Média de idade"
   ]
  },
  {
   "cell_type": "code",
   "execution_count": 7,
   "metadata": {},
   "outputs": [
    {
     "name": "stdout",
     "output_type": "stream",
     "text": [
      "O Mais velho e Maria e tem 50 anos\n",
      "O Mais novo e Miguel e tem 23 anos\n",
      "A Media de Idades e de 23.00 anos\n"
     ]
    }
   ],
   "source": [
    "#variavel\n",
    "qtd = input('Quantidade de Pessoas que Deseja analisa: ')\n",
    "maior_idade = 0\n",
    "menor_idade = 0\n",
    "media_idade = 0\n",
    "nome_mais_velho = ''\n",
    "nome_mais_novo  = ''\n",
    "soma_idades = 0\n",
    "\n",
    "try:\n",
    "    qtd = int(qtd)\n",
    "    \n",
    "    for nom in range(qtd):\n",
    "        nomes = str(input(f'Digite o {nom} nome: ')).title()\n",
    "        idade = int(input(f'Digite a Idade do {nomes}: '))\n",
    "        soma_idades += idade\n",
    "        \n",
    "        #Condicionais\n",
    "        if nom == 1:\n",
    "            menor_idade = maior_idade = idade\n",
    "            nome_mais_novo = nome_mais_velho = nomes\n",
    "            \n",
    "        else:\n",
    "            if idade > maior_idade:\n",
    "                maior_idade = idade\n",
    "                nome_mais_velho = nomes\n",
    "            if idade < menor_idade:\n",
    "                menor_idade = idade\n",
    "                nome_mais_novo =  nomes\n",
    "                \n",
    "    #Calculo Media das idades           \n",
    "    media_idade = soma_idades / qtd\n",
    "    print(f'O Mais velho e {nome_mais_velho} e tem {maior_idade} anos')\n",
    "    print(f'O Mais novo e {nome_mais_novo} e tem {menor_idade} anos')\n",
    "    print(f'A Media de Idades e de {menor_idade:.2f} anos')\n",
    "            \n",
    "    \n",
    "except ValueError as erro:\n",
    "    print(f'Tivemos um erro {erro}')"
   ]
  },
  {
   "cell_type": "markdown",
   "metadata": {},
   "source": [
    "-\n",
    "-\n",
    "-\n",
    "-\n",
    "\n",
    "13- Leia um número positivo do usuário e calcule a sequencia de Fibonacci ate o primeiro numero\n",
    "superior ao numero lido. Exemplo: se o usuário informou o numero 30, a sequencia a ser\n",
    "impressa será 0 1 1 2 3 5 8 1 13 21 34"
   ]
  },
  {
   "cell_type": "code",
   "execution_count": 21,
   "metadata": {},
   "outputs": [
    {
     "name": "stdout",
     "output_type": "stream",
     "text": [
      "[0, 1, 1, 2, 3, 5, 8, 13, 21, 34]\n"
     ]
    }
   ],
   "source": [
    "# Variavel numero\n",
    "numero = int(input('Digite um numero para a sequencia: '))\n",
    "\n",
    "if numero <= 0:\n",
    "    print('Por favor digite um numero positivo maior que 0')\n",
    "else:\n",
    "    contador = [0, 1]\n",
    "    while contador[-1] <= numero:\n",
    "        novo_numero = contador[-1] + contador[-2]\n",
    "        contador.append(novo_numero)\n",
    "    print(contador)\n",
    "         "
   ]
  },
  {
   "cell_type": "markdown",
   "metadata": {},
   "source": [
    "-\n",
    "-\n",
    "-\n",
    "-\n",
    "\n",
    "14- Crie um programa que leia 4 frases pelo teclado, o programa devera dizer quais frases Forman\n",
    "um palíndromo e quais não formam."
   ]
  },
  {
   "cell_type": "code",
   "execution_count": 28,
   "metadata": {},
   "outputs": [
    {
     "name": "stdout",
     "output_type": "stream",
     "text": [
      "A Frase ARARA Forma um Palindromo\n",
      "A Frase ARARANONARARA Forma um Palindromo\n",
      "A Frase MINGAU não Forma um palindromo\n",
      "A Frase RICOPOBRE não Forma um palindromo\n"
     ]
    }
   ],
   "source": [
    "frases = []\n",
    "\n",
    "for n in range(4):\n",
    "    frase = input(f'Digite a {n+1} Frase: ').upper()\n",
    "    f_tratada = frase.replace(\" \",'')\n",
    "    frases.append(f_tratada)\n",
    "    \n",
    "    \n",
    "for fr in range(len(frases)):\n",
    "    if frases[fr] == frases[fr][::-1]:\n",
    "        print(f'A Frase {frases[fr]} Forma um Palindromo')\n",
    "    else:\n",
    "        print(f'A Frase {frases[fr]} não Forma um palindromo')\n"
   ]
  },
  {
   "cell_type": "markdown",
   "metadata": {},
   "source": [
    "-\n",
    "-\n",
    "-\n",
    "-\n",
    "\n",
    "15- Faça um programa que converta uma velocidade expressa em Km/h para M/s e vice versa. Você\n",
    "deve criar um menu com as duas opções de conversão e com uma opção para finaliza o\n",
    "programa. O usuário poderá fazer quantas conversões desejar, sendo que o programa só será\n",
    "finalizado quando a opção de finalizar for escolhida"
   ]
  },
  {
   "cell_type": "code",
   "execution_count": 32,
   "metadata": {},
   "outputs": [
    {
     "name": "stdout",
     "output_type": "stream",
     "text": [
      "\n",
      "       ============================\n",
      "       Opcoes de Conversão\n",
      "       [1] Converte: Km/h para M/S\n",
      "       [2] Converte: M/S para Km/h\n",
      "       [3] Encerra o programa\n",
      "       ============================\n",
      "       \n",
      "Convertendo M/S para Km/h....\n",
      "M/S para Km/H 300.0 = 1080.00 Km/h\n",
      "Encerrando o Programa....\n",
      "Programa Encerrado com Sucesso\n"
     ]
    }
   ],
   "source": [
    "menu = '''\n",
    "       ============================\n",
    "       Opcoes de Conversão\n",
    "       [1] Converte: Km/h para M/S\n",
    "       [2] Converte: M/S para Km/h\n",
    "       [3] Encerra o programa\n",
    "       ============================\n",
    "       '''\n",
    "print(menu)\n",
    "\n",
    "from time import sleep\n",
    "\n",
    "while True:\n",
    "    \n",
    "    velocidade_km = float(input('Digite a velocidade em Km: '))\n",
    "    velocidade_ms = float(input('Digite os Metros por Segundo: M/S '))\n",
    "    opcao = int(input('Digite sua opcao: [1][2][3]: '))\n",
    "    \n",
    "    if opcao >= 3:\n",
    "        print('Encerrando o Programa....')\n",
    "        sleep(2)\n",
    "        print('Programa Encerrado com Sucesso')\n",
    "        break\n",
    "    \n",
    "    elif opcao == 1:\n",
    "        # km/h para m/s\n",
    "        conversao_ms = (velocidade_km / 3.6)\n",
    "        print('Convertendo Km/h para M/S...')\n",
    "        sleep(2)\n",
    "        print(f'Km para M/S {velocidade_km} km = {conversao_ms:.3f} M/S')\n",
    "    \n",
    "    elif opcao == 2:\n",
    "        conversao_km = velocidade_ms * 3.6\n",
    "        print('Convertendo M/S para Km/h....')\n",
    "        sleep(2)\n",
    "        print(f'M/S para Km/H {velocidade_ms} = {conversao_km:.2f} Km/h')\n",
    "    else:\n",
    "        print('Encerrando o Programa....')\n",
    "        sleep(2)\n",
    "        print('Programa Encerrado com Sucesso')\n",
    "        break\n",
    "        "
   ]
  },
  {
   "cell_type": "code",
   "execution_count": null,
   "metadata": {},
   "outputs": [],
   "source": []
  },
  {
   "cell_type": "code",
   "execution_count": null,
   "metadata": {},
   "outputs": [],
   "source": []
  },
  {
   "cell_type": "code",
   "execution_count": null,
   "metadata": {},
   "outputs": [],
   "source": []
  },
  {
   "cell_type": "code",
   "execution_count": null,
   "metadata": {},
   "outputs": [],
   "source": []
  }
 ],
 "metadata": {
  "kernelspec": {
   "display_name": "Python 3 (ipykernel)",
   "language": "python",
   "name": "python3"
  },
  "language_info": {
   "codemirror_mode": {
    "name": "ipython",
    "version": 3
   },
   "file_extension": ".py",
   "mimetype": "text/x-python",
   "name": "python",
   "nbconvert_exporter": "python",
   "pygments_lexer": "ipython3",
   "version": "3.11.5"
  }
 },
 "nbformat": 4,
 "nbformat_minor": 2
}
