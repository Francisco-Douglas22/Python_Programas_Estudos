{
 "cells": [
  {
   "cell_type": "markdown",
   "id": "21a99506",
   "metadata": {},
   "source": [
    "# <font color='gree'>***Listas em Python***</font>"
   ]
  },
  {
   "cell_type": "code",
   "execution_count": 1,
   "id": "5df26442",
   "metadata": {},
   "outputs": [
    {
     "name": "stdout",
     "output_type": "stream",
     "text": [
      "['__add__', '__class__', '__class_getitem__', '__contains__', '__delattr__', '__delitem__', '__dir__', '__doc__', '__eq__', '__format__', '__ge__', '__getattribute__', '__getitem__', '__getstate__', '__gt__', '__hash__', '__iadd__', '__imul__', '__init__', '__init_subclass__', '__iter__', '__le__', '__len__', '__lt__', '__mul__', '__ne__', '__new__', '__reduce__', '__reduce_ex__', '__repr__', '__reversed__', '__rmul__', '__setattr__', '__setitem__', '__sizeof__', '__str__', '__subclasshook__', 'append', 'clear', 'copy', 'count', 'extend', 'index', 'insert', 'pop', 'remove', 'reverse', 'sort']\n"
     ]
    }
   ],
   "source": [
    "#Metodos das Listas\n",
    "print(dir(list))\n"
   ]
  },
  {
   "cell_type": "code",
   "execution_count": 2,
   "id": "e7c7cb80",
   "metadata": {},
   "outputs": [],
   "source": [
    "#Criando Varias listas\n",
    "lista1 = [51, 7, 8, 9, 10]\n",
    "lista2 = list(\"Python\")\n",
    "lista3 = []\n",
    "lista4 = list(range(10))\n",
    "lista5 = list(\"Programacao\")"
   ]
  },
  {
   "cell_type": "code",
   "execution_count": 3,
   "id": "57352456",
   "metadata": {},
   "outputs": [
    {
     "name": "stdout",
     "output_type": "stream",
     "text": [
      "[7, 8, 9, 10, 51]\n",
      "['P', 'a', 'a', 'a', 'c', 'g', 'm', 'o', 'o', 'r', 'r']\n"
     ]
    }
   ],
   "source": [
    "#Ordenando uma string\n",
    "lista1.sort()\n",
    "print(lista1)\n",
    "\n",
    "#Lista5\n",
    "lista5.sort()\n",
    "print(lista5)"
   ]
  },
  {
   "cell_type": "code",
   "execution_count": 4,
   "id": "c4ac6080",
   "metadata": {},
   "outputs": [
    {
     "name": "stdout",
     "output_type": "stream",
     "text": [
      "3\n",
      "[7, 8, 9, 10, 51, 'Abraço']\n",
      "[7, 8, 9, 10, 51, 'Abraço', ['P', 'y', 't', 'h', 'o', 'n']]\n"
     ]
    }
   ],
   "source": [
    "#Contando items em uma lista\n",
    "print(lista5.count(\"a\"))\n",
    "\n",
    "#Adicionando elementos\n",
    "lista1.append(\"Abraço\")\n",
    "print(lista1)\n",
    "\n",
    "#Adicionando outra lista\n",
    "lista1.append(lista2)\n",
    "print(lista1)"
   ]
  },
  {
   "cell_type": "code",
   "execution_count": 8,
   "id": "a8ce02e7",
   "metadata": {},
   "outputs": [
    {
     "name": "stdout",
     "output_type": "stream",
     "text": [
      "['P', 'y', 't', 'h', 'o', 'n', 345, 456, 678, 345, 456, 678, 345, 456, 678, 345, 456, 678]\n",
      "[['P', 'y', 't', 'h', 'o', 'n', 345, 456, 678, 345, 456, 678, 345, 456, 678, 345, 456, 678], 'Abraço', 'Novo Valor', 'Novo Valor', 51, 10, 9, 'Novo Valor', 'Novo Valor', 8, 7]\n",
      "['P', 'a', 'a', 'a', 'c', 'g', 'm', 'o', 'o', 'r', 'r', 0, 1, 2, 3, 4, 5, 6, 7, 8, 9]\n",
      "[1, 56, 23, 9, 8, 'A', 'B', 'c', 'd', 'e']\n",
      "[7, 8, 'Novo Valor', 'Novo Valor', 9, 10, 51, 'Novo Valor', 'Novo Valor', 'Abraço', ['P', 'y', 't', 'h', 'o', 'n', 345, 456, 678, 345, 456, 678, 345, 456, 678, 345, 456, 678]]\n",
      "['e', 'd', 'c', 'B', 'A', 8, 9, 23, 56, 1]\n",
      "11\n",
      "18\n"
     ]
    }
   ],
   "source": [
    "#Extendendo uma lista, ele adicionara elementos a lista\n",
    "lista2.extend([345, 456, 678])\n",
    "print(lista2)\n",
    "\n",
    "#Inserindo elementos na lista a parti do indice\n",
    "lista1.insert(2, 'Novo Valor')\n",
    "print(lista1)\n",
    "\n",
    "#Juntando as listas simples\n",
    "lista6 = lista5 + lista4\n",
    "print(lista6)\n",
    "\n",
    "#Tambem possu utiliza o Extend\n",
    "listaP = [1, 56, 23, 9, 8]\n",
    "listaD = ['A', 'B', 'c', 'd', 'e']\n",
    "listaP.extend(listaD)\n",
    "print(listaP)\n",
    "\n",
    "#Invertendo lista\n",
    "lista1.reverse()\n",
    "print(lista1)\n",
    "\n",
    "#Invertendo Lista2\n",
    "print(listaP[::-1])\n",
    "\n",
    "#Tamanho de uma lista\n",
    "print(len(lista1))\n",
    "print(len(lista2))"
   ]
  },
  {
   "cell_type": "code",
   "execution_count": 2,
   "id": "122b6ff0",
   "metadata": {},
   "outputs": [
    {
     "name": "stdout",
     "output_type": "stream",
     "text": [
      "['1', 'q', 3, True]\n",
      "['1', 'q', True]\n"
     ]
    },
    {
     "name": "stdout",
     "output_type": "stream",
     "text": [
      "['Programação', ' em', ' python']\n",
      "P - r - o - g - r - a - m - a - n - d - o -   - P - y - t - h - o - n\n"
     ]
    }
   ],
   "source": [
    "#Removendo o ultimo elemento com pop\n",
    "#o metodo pop remove e retorna o ultimo elemento\n",
    "listaAB = ['1','q', 3, True, 'ABC']\n",
    "listaAB.pop()\n",
    "print(listaAB)\n",
    "\n",
    "#Removendo elemento pelo indice\n",
    "listaAB.pop(2)\n",
    "print(listaAB)\n",
    "\n",
    "#Utilizando o separador split\n",
    "curso = 'Programação, em, python'\n",
    "curso = curso.split(',')\n",
    "print(curso)\n",
    "\n",
    "#Transformando strin em lista com join\n",
    "string = \"Programando Python\"\n",
    "string = ' - '.join(string)\n",
    "print(string)"
   ]
  },
  {
   "cell_type": "code",
   "execution_count": 1,
   "id": "ff971bee",
   "metadata": {},
   "outputs": [
    {
     "name": "stdout",
     "output_type": "stream",
     "text": [
      "Abc\n",
      "True\n",
      "456.7\n",
      "JH\n",
      "Python\n",
      "False\n",
      "\n",
      "Ssdfg\n",
      "Ddfg\n"
     ]
    }
   ],
   "source": [
    "#Iterando sobre listas\n",
    "lista_x = ['Abc', True, 456.7, 'JH', 'Python', False]\n",
    "\n",
    "for elemento in lista_x:\n",
    "    print(elemento)\n",
    "    \n",
    "    \n",
    "# Utilizando o while\n",
    "carrinho = []\n",
    "produto = ''\n",
    "\n",
    "while produto != 'Sair':\n",
    "    produto = str(input('Didite o produto ou [sair]: ')).title()\n",
    "    if produto != \"Sair\":\n",
    "        carrinho.append(produto)\n",
    "for produto in carrinho:\n",
    "    print(produto)"
   ]
  },
  {
   "cell_type": "code",
   "execution_count": 2,
   "id": "733c42d5",
   "metadata": {},
   "outputs": [
    {
     "name": "stdout",
     "output_type": "stream",
     "text": [
      "0 branco\n",
      "1 azul\n",
      "2 verde\n",
      "3 rosa\n",
      "4 rocho\n"
     ]
    }
   ],
   "source": [
    "#Utilizando o Enumerate\n",
    "cores = ['branco', 'azul', 'verde', 'rosa', 'rocho']\n",
    "\n",
    "for indice, cor in enumerate(cores):\n",
    "    print(indice, cor)"
   ]
  },
  {
   "cell_type": "code",
   "execution_count": 17,
   "id": "942b6132",
   "metadata": {},
   "outputs": [
    {
     "name": "stdout",
     "output_type": "stream",
     "text": [
      "3\n",
      "\n",
      "      \n",
      "7\n"
     ]
    }
   ],
   "source": [
    "#Elementos com indice\n",
    "numeros = [1, 2, 3, 4, 5, 6, 7, 8, 9, 10, 11, 12]\n",
    "print(numeros.index(4))\n",
    "\n",
    "print('''\n",
    "      ''')\n",
    "\n",
    "#Buscando a partir de tal indice\n",
    "#Busque o valor 7 a partir do indice 4\n",
    "indice = 4\n",
    "valor = 7\n",
    "print(numeros.index(valor+1, indice))"
   ]
  },
  {
   "cell_type": "code",
   "execution_count": 31,
   "id": "1beddd25",
   "metadata": {},
   "outputs": [
    {
     "name": "stdout",
     "output_type": "stream",
     "text": [
      "[1, 2, 3, 4, 5, 6, 7, 8, 9, 10, 11, 12]\n",
      "[2, 3, 4, 5, 6, 7, 8, 9, 10, 11, 12]\n",
      "[1, 2, 3, 4, 5, 6]\n",
      "[2, 4, 6, 8, 10, 12]\n",
      "[12, 11, 10, 9, 8, 7, 6, 5, 4, 3, 2, 1]\n",
      "[12, 10, 8, 6, 4, 2]\n",
      "[1, 3, 5, 7, 9, 11]\n"
     ]
    }
   ],
   "source": [
    "#Slice de lista\n",
    "lista = numeros.copy() #Copia uma lista\n",
    "print(lista)\n",
    "print(lista[1:]) #Pegue a partir do indice 1\n",
    "print(lista[:6]) #Vai do indice 0 ate o 6\n",
    "print(lista[1:13:2]) #Vai do indice 1 ate o 13 pulando de 2 em 2\n",
    "print(lista[::-1]) #Traga a lista inversa\n",
    "print(lista[::-2]) #Traga a lista inversa pulando de 2 em 2\n",
    "print(lista[0::2]) #Começa do 0 e vai ate o final de 2 em 2"
   ]
  },
  {
   "cell_type": "code",
   "execution_count": 37,
   "id": "5cf1cc82",
   "metadata": {},
   "outputs": [
    {
     "name": "stdout",
     "output_type": "stream",
     "text": [
      "[1, 2, 3, 4, 5, 6, 7, 8, 9, 10, 11, 12]\n",
      "12 \tMaior Numero\n",
      "1 \tMeno Numero\n",
      "12 \tTamanho da lista\n",
      "78 \tSoma de todos os numeros\n"
     ]
    }
   ],
   "source": [
    "#Valores em uma lista\n",
    "numeros = lista.copy()\n",
    "print(numeros)\n",
    "\n",
    "print(max(lista), '\\tMaior Numero')\n",
    "print(min(lista), '\\tMeno Numero')\n",
    "print(len(lista), '\\tTamanho da lista')\n",
    "print(sum(lista), '\\tSoma de todos os numeros')"
   ]
  },
  {
   "cell_type": "markdown",
   "id": "232d9493",
   "metadata": {},
   "source": [
    "-\n",
    "-\n",
    "-\n",
    "-\n",
    "-\n",
    "-"
   ]
  },
  {
   "cell_type": "markdown",
   "id": "1aee6e66",
   "metadata": {},
   "source": [
    "# <font color='blue'>***Tuplas***</font>"
   ]
  },
  {
   "cell_type": "code",
   "execution_count": 5,
   "id": "c8849c8f",
   "metadata": {},
   "outputs": [
    {
     "name": "stdout",
     "output_type": "stream",
     "text": [
      "(1, 2, 'a', 'b') <class 'tuple'>\n",
      "(1, 2, 3, 4, 5) <class 'tuple'>\n",
      "3 <class 'int'>\n",
      "(3,) <class 'tuple'>\n"
     ]
    }
   ],
   "source": [
    "# As tuplas são representadas por parenteses ()\n",
    "# As tuplas sao imutaveis\n",
    "tupla = (1, 2, 'a', 'b')\n",
    "print(tupla, type(tupla))\n",
    "\n",
    "#Tupla 2\n",
    "tupla2 = 1, 2, 3, 4, 5\n",
    "print(tupla2, type(tupla2))\n",
    "\n",
    "#Tupla2\n",
    "# So se considera tupla parenteses com 2 ou mais \n",
    "# dados e separados por virgula ou 1 elemento com virgula\n",
    "tupla3 = (3)\n",
    "print(tupla3, type(tupla3)) \n",
    "\n",
    "#Tupla4\n",
    "#Tupla se define pela , virgula\n",
    "tupla4 = (3, )\n",
    "print(tupla4, type(tupla4))"
   ]
  },
  {
   "cell_type": "code",
   "execution_count": 11,
   "id": "40811b59",
   "metadata": {},
   "outputs": [
    {
     "name": "stdout",
     "output_type": "stream",
     "text": [
      "('Programacao', 'Python')\n",
      "Programacao\n",
      "Python\n",
      "(1, 2, 3)\n",
      "(1, 2, 3, 4, 5, 6)\n",
      "(1, 2, 3, 4, 5, 6)\n"
     ]
    }
   ],
   "source": [
    "# Desempacotamento de tupla\n",
    "tupla = ('Programacao', \"Python\")\n",
    "escola, curso = tupla\n",
    "print(tupla)\n",
    "print(escola)\n",
    "print(curso)\n",
    "\n",
    "#Concatenação de tuplas\n",
    "tupla1 = (1, 2, 3)\n",
    "print(tupla1)\n",
    "\n",
    "tupla2 = (4, 5, 6)\n",
    "\n",
    "print(tupla1 + tupla2)\n",
    "\n",
    "tupla1 = tupla1 + tupla2\n",
    "print(tupla1)"
   ]
  },
  {
   "cell_type": "code",
   "execution_count": 14,
   "id": "2d4a4664",
   "metadata": {},
   "outputs": [
    {
     "name": "stdout",
     "output_type": "stream",
     "text": [
      "1\n",
      "2\n",
      "3\n",
      "4\n",
      "5\n",
      " \n",
      "0 1\n",
      "1 2\n",
      "2 3\n",
      "3 4\n",
      "4 5\n"
     ]
    }
   ],
   "source": [
    "# Tuplas\n",
    "tupla = (1, 2, 3, 4, 5)\n",
    "for n in tupla:\n",
    "    print(n)\n",
    "\n",
    "print(' ')\n",
    "\n",
    "for indice, valor in enumerate(tupla):\n",
    "    print(indice, valor)"
   ]
  },
  {
   "cell_type": "code",
   "execution_count": 18,
   "id": "0c42f754",
   "metadata": {},
   "outputs": [
    {
     "name": "stdout",
     "output_type": "stream",
     "text": [
      "3\n",
      "('d', 'e', 'f', 'g', 'h')\n"
     ]
    }
   ],
   "source": [
    "#Contagen de elementos\n",
    "tupla = ('a','b','c','d','e','f','g','h','c','c')\n",
    "print(tupla.count('c'))\n",
    "\n",
    "#Impressao por indice\n",
    "print(tupla[3:8])"
   ]
  },
  {
   "cell_type": "code",
   "execution_count": null,
   "id": "8c70559d",
   "metadata": {},
   "outputs": [],
   "source": []
  },
  {
   "cell_type": "code",
   "execution_count": null,
   "id": "47d10682",
   "metadata": {},
   "outputs": [],
   "source": []
  },
  {
   "cell_type": "markdown",
   "id": "9c75b27a",
   "metadata": {},
   "source": [
    "# <font color='green'>***Dicionarios em Python***</font>"
   ]
  },
  {
   "cell_type": "code",
   "execution_count": 12,
   "id": "6b36c2d1",
   "metadata": {},
   "outputs": [
    {
     "name": "stdout",
     "output_type": "stream",
     "text": [
      "Imprimindo os valores dict_values(['brasil', 'estados unidos', 'paraguai'])\n",
      "Imprimindo as chaves dict_keys(['br', 'eua', 'py'])\n",
      "\n",
      "\n",
      "Imprimindo o valor:  dict_values(['brasil', 'estados unidos', 'paraguai'])\n",
      "Imprimindo as chaves:  dict_keys(['br', 'eua', 'py'])\n"
     ]
    }
   ],
   "source": [
    "#Dicionarios são colecoes do tipo chave/valor\n",
    "#Chave e valor são separados por dois pontos 'chave':'valor',\n",
    "#Podemos ter qualquer tipo d valor nos dicionarios\n",
    "\n",
    "\n",
    "paises = {'br':'brasil', 'eua':'estados unidos', 'py':'paraguai'}\n",
    "print(\"Imprimindo os valores\", paises.values())\n",
    "print(\"Imprimindo as chaves\", paises.keys())\n",
    "\n",
    "print('\\n')\n",
    "\n",
    "#Outra forma de cria\n",
    "paises2 = dict(br='brasil', eua='estados unidos', py='paraguai')\n",
    "print('Imprimindo o valor: ', paises2.values())\n",
    "print('Imprimindo as chaves: ', paises2.keys())"
   ]
  },
  {
   "cell_type": "code",
   "execution_count": 4,
   "id": "9522c55d",
   "metadata": {},
   "outputs": [
    {
     "name": "stdout",
     "output_type": "stream",
     "text": [
      "brasil\n",
      "estados unidos\n",
      "\n",
      "\n",
      "brasil\n",
      "estados unidos\n",
      "None\n",
      "\n",
      "\n",
      "True\n",
      "True\n",
      "False\n",
      "True\n",
      "False\n"
     ]
    }
   ],
   "source": [
    "#Formas de acessa elementos\n",
    "paises = {'br':'brasil', 'eua':'estados unidos', 'py':'paraguai'}\n",
    "\n",
    "#Imprimindo atraves das chaves\n",
    "print(paises['br'])\n",
    "print(paises['eua'])\n",
    "\n",
    "print('\\n')\n",
    "#Acessando via get\n",
    "print(paises.get('br'))\n",
    "print(paises.get('eua'))\n",
    "\n",
    "#Com o get ele não mim retorna um erro trara um None\n",
    "print(paises.get('abc')) #Colocando um pais que não existe\n",
    "\n",
    "print('\\n')\n",
    "\n",
    "print('br' in paises)\n",
    "print('eua' in paises)\n",
    "print('abc' in paises)\n",
    "print('estados unidos' in paises.values())\n",
    "print('estados unidos' in paises)\n"
   ]
  },
  {
   "cell_type": "code",
   "execution_count": 15,
   "id": "5cd2e158",
   "metadata": {},
   "outputs": [
    {
     "name": "stdout",
     "output_type": "stream",
     "text": [
      "{'jan': 100, 'fev': 120, 'mar': 300} <class 'dict'>\n",
      "{'jan': 100, 'fev': 120, 'mar': 300, 'abr': 456}\n",
      "{'jan': 100, 'fev': 120, 'mar': 300, 'abr': 456, 'mai': 450}\n",
      "{'jan': 200, 'fev': 220, 'mar': 300, 'abr': 456, 'mai': 450}\n",
      "\n",
      "\n",
      "{'jan': 200, 'fev': 220, 'abr': 456, 'mai': 450}\n",
      "{'jan': 200, 'abr': 456, 'mai': 450}\n"
     ]
    }
   ],
   "source": [
    "#Exemplos\n",
    "meses = {'jan':100, 'fev':120, 'mar': 300}\n",
    "\n",
    "print(meses, type(meses))\n",
    "\n",
    "#Adicionando valores\n",
    "meses['abr'] = 456\n",
    "print(meses)\n",
    "\n",
    "#Outra forma utilizando update\n",
    "novo_dado = {'mai': 450}\n",
    "meses.update(novo_dado)\n",
    "print(meses)\n",
    "\n",
    "#Adiciona e atualiza valores utilizamos essas 2 ou mais formas\n",
    "meses['jan'] = 200\n",
    "meses.update({'fev':220})\n",
    "print(meses)\n",
    "\n",
    "print('\\n')\n",
    "#Removendo dados do dicionario\n",
    "#Fazendo logo uma copia\n",
    "copia = meses.copy()\n",
    "copia.pop('mar')\n",
    "print(copia)\n",
    "\n",
    "#Outra forma\n",
    "del copia['fev']\n",
    "print(copia)"
   ]
  },
  {
   "cell_type": "code",
   "execution_count": 34,
   "id": "78a9bb43",
   "metadata": {},
   "outputs": [
    {
     "name": "stdout",
     "output_type": "stream",
     "text": [
      "[{'Nome': 'Playstation4', 'Quantidade': 2, 'Preco': 2300}, {'Nome': 'TV', 'Quantidade': 10, 'Preco': 3000}, {'Nome': 'Geladeira', 'Quantidade': 5, 'Preço': 4000}]\n",
      "\n",
      "\n",
      "{'a': 'b'} <class 'dict'>\n",
      "{'nome': 'Estudante', 'idade': 'Estudante', 'pontos': 'Estudante', 'escola': 'Estudante'} <class 'dict'>\n",
      "{1: 'novo', 2: 'novo', 3: 'novo', 4: 'novo', 5: 'novo', 6: 'novo', 7: 'novo', 8: 'novo', 9: 'novo', 10: 'novo'}\n"
     ]
    }
   ],
   "source": [
    "#Lista de produtos em dicionario\n",
    "carrinho = []\n",
    "produt1 = {'Nome':'Playstation4', 'Quantidade':2, 'Preco':2300}\n",
    "produt2 = {'Nome':'TV', 'Quantidade':10, 'Preco':3000}\n",
    "produt3 = {'Nome':'Geladeira', 'Quantidade':5, 'Preço':4000}\n",
    "\n",
    "carrinho.append(produt1)\n",
    "carrinho.append(produt2)\n",
    "carrinho.append(produt3)\n",
    "print(carrinho)\n",
    "\n",
    "print('\\n')\n",
    "#Forma nao usual de cria dicionarios\n",
    "#O Metodo fromkeys recebe dois parametros: um interavel e um valor:\n",
    "#Ele vai gera para cada valor do iteravel uma chave e ira atribuir a chave ao valor\n",
    "outro = {}.fromkeys('a', 'b')\n",
    "print(outro, type(outro))\n",
    "\n",
    "usuario = {}.fromkeys(['nome', 'idade', 'pontos', 'escola'], 'Estudante')\n",
    "print(usuario, type(usuario))\n",
    "\n",
    "#Utilizando o range\n",
    "veja = {}.fromkeys(range(1, 11), 'novo')\n",
    "print(veja)"
   ]
  },
  {
   "cell_type": "code",
   "execution_count": 50,
   "id": "687fe4b4",
   "metadata": {},
   "outputs": [
    {
     "name": "stdout",
     "output_type": "stream",
     "text": [
      "{'jan': 100, 'fev': 120, 'mar': 300}\n",
      "jan\n",
      "fev\n",
      "mar\n",
      "\n",
      "\n",
      "100\n",
      "120\n",
      "300\n",
      "\n",
      "\n",
      "No mes de jan recebi 100\n",
      "No mes de fev recebi 120\n",
      "No mes de mar recebi 300\n",
      "\n",
      "\n",
      "100\n",
      "120\n",
      "300\n",
      "\n",
      "\n",
      "j 100\n",
      "e 120\n",
      "r 300\n",
      "\n",
      "\n",
      "Chave: jan, Valor 100\n",
      "Chave: fev, Valor 120\n",
      "Chave: mar, Valor 300\n"
     ]
    }
   ],
   "source": [
    "#Iterando sobre os valores\n",
    "meses = {'jan':100, 'fev':120, 'mar': 300}\n",
    "print(meses)\n",
    "\n",
    "#Iterando \n",
    "for chave in meses:\n",
    "    print(chave)\n",
    "\n",
    "print('\\n')\n",
    "for chave in meses:\n",
    "    print(meses[chave])\n",
    "\n",
    "print('\\n') \n",
    "for chave in meses:\n",
    "    print(f'No mes de {chave} recebi {meses[chave]}')\n",
    "\n",
    "print('\\n')    \n",
    "for chave in meses.keys():\n",
    "    print(meses[chave])\n",
    "\n",
    "print('\\n')   \n",
    "for chave, valor in enumerate(meses.keys()):\n",
    "    print(valor[chave], meses[valor])\n",
    "    \n",
    "print('\\n')\n",
    "for chave, valor in meses.items():\n",
    "    print(f'Chave: {chave}, Valor {valor}')"
   ]
  },
  {
   "cell_type": "code",
   "execution_count": null,
   "id": "fc76f552",
   "metadata": {},
   "outputs": [],
   "source": [
    "# Métodos úteis dos dicionários em Python\n",
    "# len        - quantas chaves\n",
    "# keys       - iterável com as chaves\n",
    "# values     - iterável com os valores\n",
    "# items      - iterável com chaves e valores\n",
    "# setdefault - adiciona valor se a chave não existe\n",
    "# copy       - retorna uma cópia rasa (shallow copy)\n",
    "# get        - obtém uma chave\n",
    "# pop        - Apaga um item com a chave especificada (del)\n",
    "# popitem    - Apaga o último item adicionado\n",
    "# update     - Atualiza um dicionário com outro\n"
   ]
  },
  {
   "cell_type": "code",
   "execution_count": 1,
   "id": "68d31801",
   "metadata": {},
   "outputs": [
    {
     "name": "stdout",
     "output_type": "stream",
     "text": [
      "3\n",
      "dict_keys(['a', 'b', 'c'])\n",
      "dict_values([1, 2, 3])\n",
      "dict_items([('a', 1), ('b', 2), ('c', 3)])\n",
      "4\n",
      "{'a': 1, 'b': 2, 'c': 3, 'd': 4}\n",
      "1\n",
      "1\n",
      "('d', 4)\n",
      "{'b': 2, 'c': 3, 'e': 5}\n"
     ]
    }
   ],
   "source": [
    "# Criando um dicionário\n",
    "dicionario = {'a': 1, 'b': 2, 'c': 3}\n",
    "\n",
    "# len: Retorna o número de itens no dicionário\n",
    "print(len(dicionario))  # Saída: 3\n",
    "\n",
    "# keys: Retorna uma nova exibição dos chaves do dicionário\n",
    "print(dicionario.keys())  # Saída: dict_keys(['a', 'b', 'c'])\n",
    "\n",
    "# values: Retorna uma nova exibição dos valores do dicionário\n",
    "print(dicionario.values())  # Saída: dict_values([1, 2, 3])\n",
    "\n",
    "# items: Retorna uma nova exibição dos itens do dicionário (pares chave/valor)\n",
    "print(dicionario.items())  # Saída: dict_items([('a', 1), ('b', 2), ('c', 3)])\n",
    "\n",
    "# setdefault: Retorna o valor da chave especificada. Se a chave não existir: insira a chave, com o valor especificado\n",
    "print(dicionario.setdefault('d', 4))  # Saída: 4\n",
    "\n",
    "# copy: Retorna uma cópia do dicionário\n",
    "copia = dicionario.copy()\n",
    "print(copia)  # Saída: {'a': 1, 'b': 2, 'c': 3, 'd': 4}\n",
    "\n",
    "# get: Retorna o valor da chave especificada\n",
    "print(dicionario.get('a'))  # Saída: 1\n",
    "\n",
    "# pop: Remove o item com o nome da chave especificada\n",
    "print(dicionario.pop('a'))  # Saída: 1\n",
    "\n",
    "# popitem: Remove o último item inserido no dicionário\n",
    "print(dicionario.popitem())  # Saída: ('d', 4)\n",
    "\n",
    "# update: Atualiza o dicionário com os pares chave/valor especificados\n",
    "dicionario.update({'e': 5})\n",
    "print(dicionario)  # Saída: {'b': 2, 'c': 3, 'e': 5}\n"
   ]
  },
  {
   "cell_type": "code",
   "execution_count": null,
   "id": "62891eac",
   "metadata": {},
   "outputs": [],
   "source": []
  },
  {
   "cell_type": "code",
   "execution_count": null,
   "metadata": {},
   "outputs": [],
   "source": []
  },
  {
   "cell_type": "markdown",
   "id": "17363b2e",
   "metadata": {},
   "source": [
    "# **Conjuntos** <font color='blue'>***Set***</font>"
   ]
  },
  {
   "cell_type": "code",
   "execution_count": 4,
   "id": "650a3833",
   "metadata": {},
   "outputs": [
    {
     "name": "stdout",
     "output_type": "stream",
     "text": [
      "{1, 2, 3, 4, 5, 6, 8, 9} <class 'set'>\n",
      "[1, 2, 3, 4, 5, 6] <class 'list'>\n",
      "(1, 2, 3, 4, 5, 6) <class 'tuple'>\n",
      "{1: 'ab', 2: 'cd', 3: 'zd'} <class 'dict'>\n",
      "{1, 2, 3, 4, 5, 6} <class 'set'>\n"
     ]
    }
   ],
   "source": [
    "#Sets (conjuntos) não possuem valor duplicados\n",
    "#Sets (conjuntos) não possuem valores ordenados\n",
    "#Elementos não são acessados via indice, ou seja, conjuntos não são indexados\n",
    "\n",
    "'''\n",
    "Conjuntos são bons para se utilizar quando precisamos armazenar elementos mas\n",
    "não importamos com a ordenação deles. Quando não precisamos se preocupar com \n",
    "chaves, valores e itens duplicados\n",
    "'''\n",
    "\n",
    "exemplo_set = {1, 2, 3, 4, 5, 5, 6, 6, 1, 2, 8, 9}\n",
    "print(exemplo_set, type(exemplo_set))\n",
    "\n",
    "#Ao cria um sete caso tenhamos valores duplicados sera atribuido apenas 1 valor\n",
    "\n",
    "lista = [1, 2, 3, 4, 5, 6]\n",
    "print(lista, type(lista))\n",
    "\n",
    "tupla = (1, 2, 3, 4, 5, 6)\n",
    "print(tupla, type(tupla))\n",
    "\n",
    "dicio = {1:'ab', 2:'cd', 3:'zd'}\n",
    "print(dicio, type(dicio))\n",
    "\n",
    "setes = {1, 2, 3, 4, 5, 6}\n",
    "print(setes, type(setes))"
   ]
  },
  {
   "cell_type": "code",
   "execution_count": 17,
   "id": "8ce8363e",
   "metadata": {},
   "outputs": [
    {
     "name": "stdout",
     "output_type": "stream",
     "text": [
      "5 {'Ceara', 'Bahia', 'Campinas', 'Brasil', 'São Paulo'}\n",
      "{1, 2, 3, 4, 5, 6, 7} <class 'set'>\n",
      "{1, 2, 3, 4, 6, 7}\n",
      "{1, 2, 4, 6, 7}\n",
      "{1, 2, 4, 6, 7}\n"
     ]
    }
   ],
   "source": [
    "cidades = ['São Paulo', 'Brasil', 'Campinas', 'Bahia', 'Bahia', 'Ceara']\n",
    "print(len(set(cidades)), set(cidades))\n",
    "\n",
    "numeros = {1, 2, 3, 4, 5, 5, 6, 7}\n",
    "print(numeros, type(numeros))\n",
    "\n",
    "#Removendo\n",
    "numeros.remove(5)\n",
    "print(numeros)\n",
    "numeros.discard(3)\n",
    "print(numeros)\n",
    "\n",
    "novo = numeros.copy()\n",
    "print(novo)\n"
   ]
  },
  {
   "cell_type": "code",
   "execution_count": 22,
   "id": "3d3a99e6",
   "metadata": {},
   "outputs": [
    {
     "name": "stdout",
     "output_type": "stream",
     "text": [
      "{'Python', 'Java', 'FGG', 'PF', 'Miguel', 'Gabriel', 'Samu', 'Artur'}\n",
      "{'Python', 'Java', 'FGG', 'PF', 'Miguel', 'Gabriel', 'Samu', 'Artur'}\n",
      "{'Python', 'PF'}\n",
      "{'Python', 'PF'}\n",
      "\n",
      "\n",
      "{'Gabriel', 'Artur', 'Miguel'}\n"
     ]
    }
   ],
   "source": [
    "python = {'Gabriel', 'Miguel', 'Artur', 'PF', 'Python'}\n",
    "java = {'Python','Java', 'Samu', 'PF', 'FGG'}\n",
    "\n",
    "#Uniao\n",
    "unicos = python.union(java)\n",
    "print(unicos)\n",
    "\n",
    "unicos2 = python | java\n",
    "print(unicos2)\n",
    "\n",
    "#Estudantes que estao nos 2 cursos\n",
    "ambos = python.intersection(java)\n",
    "print(ambos)\n",
    "\n",
    "#Utilizando o & comercial\n",
    "ambos2 = python & java\n",
    "print(ambos2)\n",
    "\n",
    "#Diferente\n",
    "print('\\n')\n",
    "diferent = python.difference(java)\n",
    "print(diferent)"
   ]
  },
  {
   "cell_type": "code",
   "execution_count": null,
   "id": "06a80a3b",
   "metadata": {},
   "outputs": [],
   "source": []
  },
  {
   "cell_type": "code",
   "execution_count": null,
   "id": "9d13c544",
   "metadata": {},
   "outputs": [],
   "source": []
  },
  {
   "cell_type": "markdown",
   "id": "0cadb22e",
   "metadata": {},
   "source": [
    "# <font color='red'>***Collections - Counter (Contador)***</font>"
   ]
  },
  {
   "cell_type": "code",
   "execution_count": 26,
   "id": "b3e2a164",
   "metadata": {},
   "outputs": [
    {
     "name": "stdout",
     "output_type": "stream",
     "text": [
      "Counter({1: 3, 3: 2, 44: 2, 5: 2, 2: 1, 45: 1, 4: 1, 7: 1, 8: 1, 9: 1}) <class 'collections.Counter'>\n",
      "Counter({'o': 3, ' ': 2, 'A': 2, 'F': 1, 'r': 1, 'm': 1, 'a': 1, 'ç': 1, 'ã': 1, 'P': 1, 'y': 1, 't': 1, 'h': 1, 'n': 1, 'J': 1, 'v': 1})\n"
     ]
    }
   ],
   "source": [
    "#Para utiliza o Counter temos que importa as bibliotecas\n",
    "from collections import Counter\n",
    "\n",
    "lista = [1, 1,1 ,2, 3, 44, 44, 45, 5, 5, 4, 3, 7, 8,9]\n",
    "\n",
    "#Utilizando o Counter\n",
    "res = Counter(lista)\n",
    "print(res, type(res))\n",
    "\n",
    "#Para cada elemento da lista, O Counter criou uma chave e colocu o valors\n",
    "\n",
    "string = 'Formação Python JAvA'\n",
    "print(Counter(string))"
   ]
  },
  {
   "cell_type": "code",
   "execution_count": 27,
   "id": "a9464ae5",
   "metadata": {},
   "outputs": [
    {
     "data": {
      "text/plain": [
       "Counter({'o': 4,\n",
       "         'não': 3,\n",
       "         'que': 3,\n",
       "         'um': 2,\n",
       "         'projeto': 2,\n",
       "         'como': 2,\n",
       "         'seu': 2,\n",
       "         'organizar': 2,\n",
       "         'deve': 2,\n",
       "         'Iniciar': 1,\n",
       "         'novo': 1,\n",
       "         'é': 1,\n",
       "         'sempre': 1,\n",
       "         'pouco': 1,\n",
       "         'complicado.': 1,\n",
       "         'Você': 1,\n",
       "         'tem': 1,\n",
       "         'certeza': 1,\n",
       "         'de': 1,\n",
       "         'será': 1,\n",
       "         'estruturado,': 1,\n",
       "         'portanto,': 1,\n",
       "         'talvez': 1,\n",
       "         'saiba': 1,\n",
       "         'seus': 1,\n",
       "         'arquivos.': 1,\n",
       "         'No': 1,\n",
       "         'entanto,': 1,\n",
       "         'assim': 1,\n",
       "         'compreender': 1,\n",
       "         'apropriadamente': 1,\n",
       "         'as': 1,\n",
       "         'melhores': 1,\n",
       "         'práticas,': 1,\n",
       "         'saberá': 1,\n",
       "         'com': 1,\n",
       "         'qual': 1,\n",
       "         'estrutura': 1,\n",
       "         'básica': 1,\n",
       "         'deverá': 1,\n",
       "         'começar.': 1,\n",
       "         'Apresentaremos': 1,\n",
       "         'algumas': 1,\n",
       "         'dicas': 1,\n",
       "         'sobre': 1,\n",
       "         'você': 1,\n",
       "         'e': 1,\n",
       "         'fazer': 1,\n",
       "         'para': 1,\n",
       "         'projeto.': 1})"
      ]
     },
     "execution_count": 27,
     "metadata": {},
     "output_type": "execute_result"
    }
   ],
   "source": [
    "n_string = '''Iniciar um novo projeto é sempre um pouco complicado. Você não\n",
    "tem certeza de como o seu projeto será estruturado, portanto, talvez\n",
    "não saiba como organizar seus arquivos. No entanto, assim que\n",
    "compreender apropriadamente as melhores práticas, saberá com\n",
    "qual estrutura básica deverá começar. Apresentaremos algumas\n",
    "dicas sobre o que você deve e o que não deve fazer para organizar\n",
    "o seu projeto.'''\n",
    "\n",
    "palavras = n_string.split()\n",
    "\n",
    "conta = Counter(palavras)\n",
    "conta"
   ]
  },
  {
   "cell_type": "code",
   "execution_count": null,
   "id": "88ed4263",
   "metadata": {},
   "outputs": [],
   "source": []
  },
  {
   "cell_type": "code",
   "execution_count": null,
   "id": "5b7a670f",
   "metadata": {},
   "outputs": [],
   "source": []
  },
  {
   "cell_type": "markdown",
   "id": "8d2efa37",
   "metadata": {},
   "source": [
    "# <font color='blue'>***Collections Defalt Dict (Dicionario)***</font>"
   ]
  },
  {
   "cell_type": "code",
   "execution_count": 33,
   "id": "a63ec149",
   "metadata": {},
   "outputs": [
    {
     "name": "stdout",
     "output_type": "stream",
     "text": [
      "{'curso': 'Programando em Python'} <class 'dict'>\n",
      "Programando em Python\n"
     ]
    },
    {
     "data": {
      "text/plain": [
       "\"print(dicionario['abc']) \""
      ]
     },
     "execution_count": 33,
     "metadata": {},
     "output_type": "execute_result"
    }
   ],
   "source": [
    "#Dicionario\n",
    "dicionario = {'curso':'Programando em Python'}\n",
    "print(dicionario, type(dicionario))\n",
    "print(dicionario['curso'])\n",
    "\n",
    "#Caso eu utilize qualquer valor que não estaja no dicionario\n",
    "#IRa retorna um erro\n",
    "'''print(dicionario['abc']) '''"
   ]
  },
  {
   "cell_type": "code",
   "execution_count": 41,
   "id": "ffb9f0f7",
   "metadata": {},
   "outputs": [
    {
     "name": "stdout",
     "output_type": "stream",
     "text": [
      "defaultdict(<function <lambda> at 0x00000248FEB6DD00>, {})\n",
      "defaultdict(<function <lambda> at 0x00000248FEB6DD00>, {'curso': 'Programação em Pyhon'}) <class 'collections.defaultdict'>\n",
      "0\n",
      "defaultdict(<function <lambda> at 0x00000248FEB6DD00>, {'curso': 'Programação em Pyhon', 'outro': 0})\n"
     ]
    }
   ],
   "source": [
    "#Defalt Dict\n",
    "from collections import defaultdict\n",
    "\n",
    "'''\n",
    "Defalt Dict - Ao criar um dicionario utilizando nos informamos um valor default,\n",
    "podendo utilzar um lambda para isso. Este valor sera utilizado sempre que não houver\n",
    "um valor definido'''\n",
    "\n",
    "dicionario = defaultdict(lambda: 0)\n",
    "print(dicionario)\n",
    "\n",
    "dicionario['curso'] = 'Programação em Pyhon'\n",
    "print(dicionario, type(dicionario))\n",
    "\n",
    "#Com o default dict nao temos erro nos dicionarios\n",
    "print(dicionario['outro']) #Como padrao ele criara uma novo dados com 0 Zero\n",
    "print(dicionario)\n",
    "\n"
   ]
  },
  {
   "cell_type": "code",
   "execution_count": null,
   "id": "fd891cae",
   "metadata": {},
   "outputs": [],
   "source": []
  },
  {
   "cell_type": "markdown",
   "id": "c01c6645",
   "metadata": {},
   "source": [
    "# **Collections Ordered Dict**"
   ]
  },
  {
   "cell_type": "code",
   "execution_count": 1,
   "id": "a0f03fa6",
   "metadata": {},
   "outputs": [
    {
     "name": "stdout",
     "output_type": "stream",
     "text": [
      "Chave: a - Valor: 1\n",
      "Chave: b - Valor: 2\n",
      "Chave: c - Valor: 3\n",
      "Chave: d - Valor: 4\n",
      "Chave: e - Valor: 5\n"
     ]
    }
   ],
   "source": [
    "#Em um dicionario a ordem de inseção dos elemento não e garantida\n",
    "dicionario = {'a':1, 'b':2, 'c':3, 'd':4, 'e':5}\n",
    "for chave, valor in dicionario.items():\n",
    "    print(f'Chave: {chave} - Valor: {valor}')"
   ]
  },
  {
   "cell_type": "code",
   "execution_count": 5,
   "id": "3de754d9",
   "metadata": {},
   "outputs": [
    {
     "name": "stdout",
     "output_type": "stream",
     "text": [
      "Chave: a - Valor: 1\n",
      "Chave: b - Valor: 2\n",
      "Chave: c - Valor: 3\n",
      "Chave: d - Valor: 4\n",
      "Chave: e - Valor: 5\n"
     ]
    }
   ],
   "source": [
    "#Ordered dict\n",
    "from collections import OrderedDict\n",
    "\n",
    "#Ordered dict nos garanti a ordem de inserção dos elementos\n",
    "dicio = OrderedDict({'a':1, 'b':2, 'c':3, 'd':4, 'e':5})\n",
    "\n",
    "for chave, valor in dicio.items():\n",
    "    print(f'Chave: {chave} - Valor: {valor}')"
   ]
  },
  {
   "cell_type": "code",
   "execution_count": 10,
   "id": "ea5f1351",
   "metadata": {},
   "outputs": [
    {
     "name": "stdout",
     "output_type": "stream",
     "text": [
      "True\n",
      "Ordered 1 e igual ao 2 False\n"
     ]
    }
   ],
   "source": [
    "#Exemplo\n",
    "dicio = {'a':1, 'b':2}\n",
    "dicio2 = {'b':2, 'a':1}\n",
    "print(dicio == dicio2)\n",
    "\n",
    "#Ordered\n",
    "ord1 = OrderedDict({'a':1, 'b':2})\n",
    "odr2 = OrderedDict({'b':2, 'a':1})\n",
    "print(f'Ordered 1 e igual ao 2 {ord1 == odr2}')"
   ]
  },
  {
   "cell_type": "code",
   "execution_count": null,
   "id": "86e9b765",
   "metadata": {},
   "outputs": [],
   "source": []
  },
  {
   "cell_type": "markdown",
   "id": "8b8d5d9d",
   "metadata": {},
   "source": [
    "# **Collections - Named Tuple**"
   ]
  },
  {
   "cell_type": "code",
   "execution_count": 14,
   "id": "a5e6bb65",
   "metadata": {},
   "outputs": [
    {
     "name": "stdout",
     "output_type": "stream",
     "text": [
      "<class '__main__.cachorro'>\n",
      "<class '__main__.cachorro'>\n",
      "<class '__main__.cachorro'>\n",
      "cachorro(idade=2, raca='Chow-Chow', nome='Ray')\n"
     ]
    }
   ],
   "source": [
    "#Import\n",
    "from collections import namedtuple\n",
    "\n",
    "#Forma1 - Declara named tuple\n",
    "cachorro = namedtuple('cachorro', 'idade raca nome')\n",
    "print(cachorro)\n",
    "\n",
    "#Forma2 - Declara named tuple\n",
    "cachorro2 = namedtuple('cachorro', 'idade, raca, nome')\n",
    "print(cachorro2)\n",
    "\n",
    "#Forma3 - Declara named tuple\n",
    "cachorro3 = namedtuple('cachorro', ['idade', 'raca', 'nome'])\n",
    "print(cachorro3)\n",
    "\n",
    "ray = cachorro(idade=2, raca='Chow-Chow', nome='Ray')\n",
    "print(ray)\n",
    "\n"
   ]
  },
  {
   "cell_type": "code",
   "execution_count": null,
   "id": "476ba7c5",
   "metadata": {},
   "outputs": [],
   "source": []
  },
  {
   "cell_type": "markdown",
   "id": "6767366b",
   "metadata": {},
   "source": [
    "# **Collections - Deque**"
   ]
  },
  {
   "cell_type": "code",
   "execution_count": 22,
   "id": "a9c33b8f",
   "metadata": {},
   "outputs": [
    {
     "name": "stdout",
     "output_type": "stream",
     "text": [
      "deque(['P', 'y', 't', 'h', 'o', 'n', ' ', 'P', 'r', 'o', 'f', 'i', 's', 's', 'i', 'o', 'n', 'a', 'l'])\n",
      "deque(['P', 'y', 't', 'h', 'o', 'n', ' ', 'P', 'r', 'o', 'f', 'i', 's', 's', 'i', 'o', 'n', 'a', 'l', 'WWE'])\n",
      "deque(['Curso Python', 'P', 'y', 't', 'h', 'o', 'n', ' ', 'P', 'r', 'o', 'f', 'i', 's', 's', 'i', 'o', 'n', 'a', 'l', 'WWE'])\n",
      "deque(['Curso Python', 'P', 'y', 't', 'h', 'o', 'n', ' ', 'P', 'r', 'o', 'f', 'i', 's', 's', 'i', 'o', 'n', 'a', 'l'])\n",
      "deque(['P', 'y', 't', 'h', 'o', 'n', ' ', 'P', 'r', 'o', 'f', 'i', 's', 's', 'i', 'o', 'n', 'a', 'l'])\n"
     ]
    }
   ],
   "source": [
    "#Import \n",
    "from collections import deque\n",
    "\n",
    "#Criando o deque\n",
    "deq = deque('Python Profissional')\n",
    "print(deq)\n",
    "\n",
    "#Adicionando elementos no inicio\n",
    "deq.append('WWE')\n",
    "print(deq)\n",
    "\n",
    "#Adicionando elementos no FInal\n",
    "deq.appendleft('Curso Python')\n",
    "print(deq)\n",
    "\n",
    "#Remove o ultimo elemento\n",
    "deq.pop()\n",
    "print(deq)\n",
    "\n",
    "#Remove o primeiro\n",
    "deq.popleft()\n",
    "print(deq)"
   ]
  },
  {
   "cell_type": "code",
   "execution_count": null,
   "id": "bdcd6ada",
   "metadata": {},
   "outputs": [],
   "source": []
  },
  {
   "cell_type": "code",
   "execution_count": null,
   "id": "4d337bcb",
   "metadata": {},
   "outputs": [],
   "source": []
  }
 ],
 "metadata": {
  "kernelspec": {
   "display_name": "Python 3 (ipykernel)",
   "language": "python",
   "name": "python3"
  },
  "language_info": {
   "codemirror_mode": {
    "name": "ipython",
    "version": 3
   },
   "file_extension": ".py",
   "mimetype": "text/x-python",
   "name": "python",
   "nbconvert_exporter": "python",
   "pygments_lexer": "ipython3",
   "version": "0.0.0"
  }
 },
 "nbformat": 4,
 "nbformat_minor": 5
}
