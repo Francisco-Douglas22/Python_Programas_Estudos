{
 "cells": [
  {
   "cell_type": "markdown",
   "metadata": {},
   "source": [
    "# **Estruturas Logicas e Condicionais**\n",
    "\n",
    "\n",
    "# **34 Exercicios/Programas**"
   ]
  },
  {
   "cell_type": "markdown",
   "metadata": {},
   "source": [
    "***1- Escreva um programa que faça o computador “pensar” em um número inteiro entre 0 e 5 e peça para o usuário tentar descobrir qual foi o número escolhido pelo computador. O programa deverá escrever na tela se o usuário venceu ou perdeu***"
   ]
  },
  {
   "cell_type": "code",
   "execution_count": 2,
   "metadata": {},
   "outputs": [
    {
     "name": "stdout",
     "output_type": "stream",
     "text": [
      "==========================================\n",
      "Estou pensando em um numero tente advinhar!! \n",
      "==========================================\n",
      "Voce errou\n",
      "Notebook pensou em 2 e voce digitou 5\n"
     ]
    }
   ],
   "source": [
    "#Imports\n",
    "from random import randint\n",
    "notebook = randint(0,5)\n",
    "\n",
    "print('='*42)\n",
    "print('Estou pensando em um numero tente advinhar!! ')\n",
    "print('='*42)\n",
    "\n",
    "try:\n",
    "    opcao = int(input('Digite sua opcao: '))\n",
    "    \n",
    "    if opcao == notebook:\n",
    "        print(f'Parabens Voce acertou')\n",
    "        print(f'Notebook pensou em {notebook} e voce digitou {opcao}')\n",
    "    else:\n",
    "        print('Voce errou')\n",
    "        print(f'Notebook pensou em {notebook} e voce digitou {opcao}')\n",
    "\n",
    "    \n",
    "except ValueError as erro:\n",
    "    print('Tivemos um erro de Valor', erro)\n",
    "    "
   ]
  },
  {
   "cell_type": "code",
   "execution_count": null,
   "metadata": {},
   "outputs": [],
   "source": []
  },
  {
   "cell_type": "markdown",
   "metadata": {},
   "source": [
    "***2- Escreva um programa que leia a velocidade de um carro. Se ele ultrapassar 80Km/h, mostre uma mensagem dizendo que ele foi multado. A multa vai custar R$7,00 por cada Km acima do limite***"
   ]
  },
  {
   "cell_type": "code",
   "execution_count": 5,
   "metadata": {},
   "outputs": [
    {
     "name": "stdout",
     "output_type": "stream",
     "text": [
      "O Carro que estava a 100.0km por hora sera multado em 140.00R$\n"
     ]
    }
   ],
   "source": [
    "#Variaveis\n",
    "velocidade = input('Digite a velocidade do carro: ')\n",
    "\n",
    "try:\n",
    "    #Tratando a velocidade\n",
    "    v = float(velocidade)\n",
    "    \n",
    "    if v > 80:\n",
    "        #Calculo da multa\n",
    "        multa = (v - 80) * 7\n",
    "        print(f'O Carro que estava a {v}km por hora sera multado em {multa:.2f}R$')\n",
    "    else:\n",
    "        print(f'Parabens voce e um motorista prudente estava a {v}km por hora')\n",
    "        \n",
    "except:\n",
    "    print('Erro no codigo')"
   ]
  },
  {
   "cell_type": "code",
   "execution_count": null,
   "metadata": {},
   "outputs": [],
   "source": []
  },
  {
   "cell_type": "markdown",
   "metadata": {},
   "source": [
    "***3- Crie um programa que leia 2 números inteiros e mostre na tela qual é PAR e qual e IMPAR, depois mostre qual deles e o maior***"
   ]
  },
  {
   "cell_type": "code",
   "execution_count": 3,
   "metadata": {},
   "outputs": [
    {
     "name": "stdout",
     "output_type": "stream",
     "text": [
      "O Numero1 2 e PAR e o Numero2 3 e Impar\n",
      "O Numero2 3 e o Maior\n"
     ]
    }
   ],
   "source": [
    "#Variaveis numeros\n",
    "\n",
    "numero1 = input('Primeiro numero: ')\n",
    "numero2 = input('Segundo numero: ')\n",
    "\n",
    "try:\n",
    "    n1 = int(numero1)\n",
    "    n2 = int(numero2)\n",
    "    \n",
    "    #Verificando par ou impa\n",
    "    if n1 % 2 == 0 and n2 % 2 == 0:\n",
    "        print(f'O Numero1 {n1} e o Numero2 {n2} são Pares')\n",
    "    elif n1 % 2 == 1 and n2 % 2 == 1:\n",
    "        print(f'O Numero1 {n1} e o Numero2 {n2} são Impares')\n",
    "    elif n1 % 2 == 0 and n2 % 2 == 1:\n",
    "        print(f'O Numero1 {n1} e PAR e o Numero2 {n2} e Impar')\n",
    "    else:\n",
    "        print(f'O Numero1 {n1} e Impar e o Numero2 {n2} e Par')\n",
    "\n",
    "    #Verificando qual e o Maior\n",
    "    if n1 > n2:\n",
    "        print(f'O Numero1 {n1} e O Maior')\n",
    "    else:\n",
    "        print(f'O Numero2 {n2} e o Maior')\n",
    "        \n",
    "    \n",
    "except ValueError as erro:\n",
    "    print('Erro', erro)"
   ]
  },
  {
   "cell_type": "code",
   "execution_count": null,
   "metadata": {},
   "outputs": [],
   "source": []
  },
  {
   "cell_type": "markdown",
   "metadata": {},
   "source": [
    "***4- Desenvolva um programa que pergunte a distância de uma viagem em Km. Calcule o preço da\n",
    "passagem, cobrando R$0,50 por Km para viagens de até 200Km e R$0,45 parta viagens mais longas***"
   ]
  },
  {
   "cell_type": "code",
   "execution_count": 4,
   "metadata": {},
   "outputs": [
    {
     "name": "stdout",
     "output_type": "stream",
     "text": [
      "Uma viagem de 250.0km tera um custo de 112.50 R$\n"
     ]
    }
   ],
   "source": [
    "#Variaveis\n",
    "distancia = float(input('Digite a distancia da Viagem em Km: '))\n",
    "\n",
    "if distancia <= 200:\n",
    "    custo = distancia * 0.50\n",
    "    print(f'Uma viagem de {distancia}km tera um custo de {custo:.2f} R$')\n",
    "else:\n",
    "    custo = distancia * 0.45\n",
    "    print(f'Uma viagem de {distancia}km tera um custo de {custo:.2f} R$')"
   ]
  },
  {
   "cell_type": "code",
   "execution_count": null,
   "metadata": {},
   "outputs": [],
   "source": []
  },
  {
   "cell_type": "markdown",
   "metadata": {},
   "source": [
    "***5- Faça um programa que leia 3 anos qualquer e mostre qual é bissexto. Sendo que um ano e bissexto se for divisível por 400 ou se for divisível por 4 e não for divisível por 100.***"
   ]
  },
  {
   "cell_type": "code",
   "execution_count": 7,
   "metadata": {},
   "outputs": [
    {
     "name": "stdout",
     "output_type": "stream",
     "text": [
      "O Ano atual 2024 e BISSEXTO\n",
      "O Segundo ano 1998 Não e BISSEXTO\n",
      "O Terceiro ano 2009 Não e BISSEXTO\n"
     ]
    }
   ],
   "source": [
    "#Import da biblioteca para o ano atual\n",
    "from datetime import date\n",
    "\n",
    "#Variveis\n",
    "ano_atual = date.today().year\n",
    "ano2 = input('Digite o segundo ano: ')\n",
    "ano3 = input('Digite o terceiro ano: ')\n",
    "\n",
    "#Tratamento\n",
    "try:\n",
    "    ano2 = int(ano2)\n",
    "    ano3 = int(ano3)\n",
    "    \n",
    "    #Condicional\n",
    "    if ano_atual:\n",
    "        if ano_atual % 4 == 0 and ano_atual % 100 != 0 or ano_atual % 400 == 0:\n",
    "            print(f'O Ano atual {ano_atual} e BISSEXTO')\n",
    "        else:\n",
    "            print(f'O Ano atual {ano_atual} não e BISSEXTO')\n",
    "            \n",
    "    if ano2:\n",
    "        if ano2 % 4 == 0 and ano2 % 100 != 0 or ano2 % 400 == 0:\n",
    "            print(f'O Segundo ano {ano2} e BISSEXTO')\n",
    "        else:\n",
    "            print(f'O Segundo ano {ano2} Não e BISSEXTO')\n",
    "            \n",
    "    if ano3:\n",
    "        if ano3 % 4 == 0 and ano3 % 100 != 0 or ano3 % 400 == 0:\n",
    "            print(f'O Terceiro ano {ano3} e BISSEXTO')\n",
    "        else:\n",
    "            print(f'O Terceiro ano {ano3} Não e BISSEXTO')\n",
    "            \n",
    "except:\n",
    "    print('Erro de digitacao verifique o seu codigo')\n",
    "    "
   ]
  },
  {
   "cell_type": "code",
   "execution_count": null,
   "metadata": {},
   "outputs": [],
   "source": []
  },
  {
   "cell_type": "markdown",
   "metadata": {},
   "source": [
    "***6- Leia um numero fornecido pelo usuário. Se esse numero for PAR, calcule sua Raiz Quadrada, caso contrário, multiplique o numero ao quadrado e depois calcule a Raiz quadrada.***"
   ]
  },
  {
   "cell_type": "code",
   "execution_count": 9,
   "metadata": {},
   "outputs": [
    {
     "name": "stdout",
     "output_type": "stream",
     "text": [
      "O Numero digitado foi 43 seu quadrado e 86\n"
     ]
    }
   ],
   "source": [
    "#Variavel\n",
    "numero = int(input('Digite um numero: '))\n",
    "\n",
    "if numero % 2 == 0:\n",
    "    raiz = numero * (1/2)\n",
    "    print(f'O Numero digitado foi {numero} sua raiz e {raiz:.2f}')\n",
    "else:\n",
    "    quadrado = numero * 2\n",
    "    print(f'O Numero digitado foi {numero} seu quadrado e {quadrado}')"
   ]
  },
  {
   "cell_type": "code",
   "execution_count": null,
   "metadata": {},
   "outputs": [],
   "source": []
  },
  {
   "cell_type": "markdown",
   "metadata": {},
   "source": [
    "***7- Faça um programa que leia 2 notas de um aluno, verifique se as notas são validas e exiba na tela a media das notas. Uma nota valida dever ser um valor entre 0.0 e 10.0, caso não seja válida imprima invalida***"
   ]
  },
  {
   "cell_type": "code",
   "execution_count": 10,
   "metadata": {},
   "outputs": [
    {
     "name": "stdout",
     "output_type": "stream",
     "text": [
      "As notas 6.0 e 7.0 são validas\n",
      "A Media do Aluno e de 6.5 pontos\n"
     ]
    }
   ],
   "source": [
    "##Variaveis notas\n",
    "nota1 = input('Primeira nota: ')\n",
    "nota2 = input('Segunda Nota: ')\n",
    "\n",
    "#Verificando os dados\n",
    "try:\n",
    "    nota1 = float(nota1)\n",
    "    nota2 = float(nota2)\n",
    "    \n",
    "    #Condicional\n",
    "    if nota1 > 0 and nota1 < 10 and nota2 > 0 and nota2 < 10:\n",
    "        print(f'As notas {nota1} e {nota2} são validas')\n",
    "        \n",
    "        #Calculo da media\n",
    "        media = (nota1 + nota2) / 2\n",
    "        print(f'A Media do Aluno e de {media} pontos')\n",
    "    else:\n",
    "        print(f'Uma ou as 2 notas são invalidas')\n",
    "    \n",
    "except:\n",
    "    print('Tivemos um Erro')"
   ]
  },
  {
   "cell_type": "code",
   "execution_count": null,
   "metadata": {},
   "outputs": [],
   "source": []
  },
  {
   "cell_type": "markdown",
   "metadata": {},
   "source": [
    "***8- Faça um programa que leia três números e mostre qual é o maior e qual é o menor***"
   ]
  },
  {
   "cell_type": "code",
   "execution_count": 11,
   "metadata": {},
   "outputs": [
    {
     "name": "stdout",
     "output_type": "stream",
     "text": [
      "Os Numeros digitados foram 4, 5, 6\n",
      "O Numero 6 e Maior\n",
      "O Numero 4 e o Menor\n"
     ]
    }
   ],
   "source": [
    "#Variaveis numeros\n",
    "num1 = int(input('Primeiro Numero: '))\n",
    "num2 = int(input('Segundo Numero: '))\n",
    "num3 = int(input('Terceiro Numero: '))\n",
    "\n",
    "print(f'Os Numeros digitados foram {num1}, {num2}, {num3}')\n",
    "\n",
    "#Maior valor\n",
    "if num1 and num2 and num3: #Caso os numeros tenham sido digitados\n",
    "    if num2 < num1 > num3: #Verifique se o num1 e maior que num2 e num3\n",
    "        print(f'O Numero {num1} e Maior')\n",
    "    elif num1 < num2 > num3: #Verifique se o num2 e maior que num1 e num3\n",
    "        print(f'O Numero {num2} e Maior')\n",
    "        \n",
    "    else: #Caso ja tenha feito as verificações anteriores e nãos seja nenhuma delas\n",
    "        #O Maior numero sera\n",
    "        print(f'O Numero {num3} e Maior')\n",
    "        \n",
    "if num1 and num2 and num3:\n",
    "    if num2 > num1 < num3: #Verifique se o num1 e menor que num2 e num3\n",
    "        print(f'O Numero {num1} e o Menor')\n",
    "    elif num1 > num2 < num3:\n",
    "        print(f'O Numero {num2} e o Menor')\n",
    "    else:\n",
    "        print(f'O Numero {num3} e o Menor')\n",
    "        \n",
    "else:\n",
    "    print('Por favor digite os dados corretamente')"
   ]
  },
  {
   "cell_type": "code",
   "execution_count": null,
   "metadata": {},
   "outputs": [],
   "source": []
  },
  {
   "cell_type": "markdown",
   "metadata": {},
   "source": [
    "***9- Escreva um programa que pergunte o salário de um funcionário e calcule o valor do seu aumento. Para salários superiores a R$1250,00, calcule um aumento de 10%. Para os inferiores ou iguais, o aumento é de 15%.***"
   ]
  },
  {
   "cell_type": "code",
   "execution_count": 12,
   "metadata": {},
   "outputs": [
    {
     "name": "stdout",
     "output_type": "stream",
     "text": [
      "O Funcionario que Ganhava 3456.0 R$ \n",
      "Com 10% de Aumento passara a Ganha 3801.60 R$\n"
     ]
    }
   ],
   "source": [
    "#Salario\n",
    "salario = float(input('Digite o salario do Funcionario'))\n",
    "\n",
    "#Calculo do aumento\n",
    "if salario > 1250:\n",
    "    aumento = salario + (salario * 0.10)\n",
    "    print(f'O Funcionario que Ganhava {salario} R$ ')\n",
    "    print(f'Com 10% de Aumento passara a Ganha {aumento:.2f} R$')\n",
    "else:\n",
    "    aumento = salario + (salario * 0.15)\n",
    "    print(f'O Funcionario que Ganhava {salario} R$ ')\n",
    "    print(f'Com 15% de Aumento passara a Ganha {aumento:.2f} R$')"
   ]
  },
  {
   "cell_type": "code",
   "execution_count": null,
   "metadata": {},
   "outputs": [],
   "source": []
  },
  {
   "cell_type": "markdown",
   "metadata": {},
   "source": [
    "***10- Escreva um programa que leia um numero inteiro maior que zero e devolva, na tela a soma de todos os seus algorismos.  Por exemplo, ao numero 251 corresponde o valor 8 (2 + 5 + 1). Se o número lido não for maior que zero, o programa terminara.***"
   ]
  },
  {
   "cell_type": "code",
   "execution_count": 19,
   "metadata": {},
   "outputs": [
    {
     "name": "stdout",
     "output_type": "stream",
     "text": [
      "O Numero digitado foi 456\n",
      "Os Digitos do numero e 4 + 5 + 6\n",
      "A Soma dos numeros e 15\n"
     ]
    }
   ],
   "source": [
    "#Variaveis\n",
    "numero = int(input('Digite um numero: '))\n",
    "\n",
    "if numero > 0:\n",
    "    u = numero // 1 % 10\n",
    "    d = numero // 10 % 10\n",
    "    c = numero // 100 % 10\n",
    "    \n",
    "    soma_numeros = u + d + c\n",
    "    print(f'O Numero digitado foi {numero}')\n",
    "    print(f'Os Digitos do numero e {c} + {d} + {u}')\n",
    "    print(f'A Soma dos numeros e {soma_numeros}')\n",
    "    \n",
    "else:\n",
    "    print('Digite apenas numeros inteiros Maior que 0')"
   ]
  },
  {
   "cell_type": "code",
   "execution_count": null,
   "metadata": {},
   "outputs": [],
   "source": []
  },
  {
   "cell_type": "markdown",
   "metadata": {},
   "source": [
    "***11- Desenvolva um programa que leia o comprimento de três retas e diga ao usuário se elas podem ou não formar um triângulo***"
   ]
  },
  {
   "cell_type": "code",
   "execution_count": 1,
   "metadata": {},
   "outputs": [
    {
     "name": "stdout",
     "output_type": "stream",
     "text": [
      "Os Lados digitados foram (4, 5, 6)\n",
      "Os Lados Forman um triangulo\n"
     ]
    }
   ],
   "source": [
    "#Comprimentos\n",
    "lado1 = int(input('Lado1: '))\n",
    "lado2 = int(input('Lado2: '))\n",
    "lado3 = int(input('Lado3: '))\n",
    "print(f'Os Lados digitados foram {lado1, lado2, lado3}')\n",
    "\n",
    "#Condicional\n",
    "if lado1 < lado2+lado3 and lado2 < lado1+lado3 and lado3 < lado1+lado2:\n",
    "    print(f'Os Lados Forman um triangulo')\n",
    "else:\n",
    "    print('Os Lados Não forman um triangulo')"
   ]
  },
  {
   "cell_type": "code",
   "execution_count": null,
   "metadata": {},
   "outputs": [],
   "source": []
  },
  {
   "cell_type": "markdown",
   "metadata": {},
   "source": [
    "***12- Escreva um programa para aprovar o empréstimo bancário para a compra de uma casa. Pergunte o valor da casa, o salário do comprador e em quantos anos ele vai pagar. A prestação mensal não pode exceder 30% do salário ou então o empréstimo será negado***"
   ]
  },
  {
   "cell_type": "code",
   "execution_count": 2,
   "metadata": {},
   "outputs": [
    {
     "name": "stdout",
     "output_type": "stream",
     "text": [
      "Seu Emprestimo sera negado pois ultrapassa o limite de 30%\n",
      "As prestações ficaram de 1736.11R$ e seu limite e 1680.00 R$\n"
     ]
    }
   ],
   "source": [
    "#Variaveis\n",
    "valor_casa = float(input('Digite o valor da casa: '))\n",
    "salario    = float(input('Salario do Comprador: '))\n",
    "tempo_paga = int(input('Em quantos anos deseja paga: '))\n",
    "\n",
    "#Calculo da prestação mensal\n",
    "prestação = valor_casa / (tempo_paga * 12)\n",
    "maximo_30 = salario * 0.3\n",
    "\n",
    "#Condicional\n",
    "if prestação > maximo_30:\n",
    "    print(f'Seu Emprestimo sera negado pois ultrapassa o limite de 30%')\n",
    "    print(f'As prestações ficaram de {prestação:.2f}R$ e seu limite e {maximo_30:.2f} R$')\n",
    "    \n",
    "else:\n",
    "    print(f'Seu emprestimo sera concedido pois não ultrpassa o limite de 30%')\n",
    "    print(f'As prestações ficaram de {prestação:.2f}R$ e seu limite e {maximo_30:.2f} R$')"
   ]
  },
  {
   "cell_type": "code",
   "execution_count": null,
   "metadata": {},
   "outputs": [],
   "source": []
  },
  {
   "cell_type": "markdown",
   "metadata": {},
   "source": [
    "***13- Escreva um programa em Python que leia um número inteiro qualquer e peça para o usuário escolher\n",
    "qual será a base de conversão: 1 para binário, 2 para octal e 3 para hexadecimal.***"
   ]
  },
  {
   "cell_type": "code",
   "execution_count": 3,
   "metadata": {},
   "outputs": [
    {
     "name": "stdout",
     "output_type": "stream",
     "text": [
      "\n",
      "Para qual Voce deseja converte\n",
      "     [1] Binario\n",
      "     [2] Octal\n",
      "     [3] Haxadecimal\n",
      "O Numero 456 Convertido para BINARIO: 0b111001000\n"
     ]
    }
   ],
   "source": [
    "#Variavel\n",
    "num = int(input('Digite um numero: '))\n",
    "\n",
    "#Opcoes \n",
    "print(f'''\n",
    "Para qual Voce deseja converte\n",
    "     [1] Binario\n",
    "     [2] Octal\n",
    "     [3] Haxadecimal''')\n",
    "\n",
    "opcao = int(input('Digite sua opcao: '))\n",
    "\n",
    "#Condicional\n",
    "if opcao == 1:\n",
    "    print(f'O Numero {num} Convertido para BINARIO: {bin(num)}')\n",
    "elif opcao == 2:\n",
    "    print(f'O Numero {num} Convertido para OCTAL: {oct(num)}')\n",
    "elif opcao == 3:\n",
    "    print(f'O Numero {num} Convertido para HEXADECIMAL: {hex(num)}')\n",
    "else:\n",
    "    print('Por favor digite uma opcao correta')"
   ]
  },
  {
   "cell_type": "code",
   "execution_count": null,
   "metadata": {},
   "outputs": [],
   "source": []
  },
  {
   "cell_type": "markdown",
   "metadata": {},
   "source": [
    "***14- Você precisa criar um programa que vai analisar o resultado de vendas dos produtos da Amazon em um mês.***\n",
    "\n",
    "    Meta de Vendas do Iphone = 50.000 unidades\n",
    "    QuanTIdade vendida no Mês = 65.300 unidades"
   ]
  },
  {
   "cell_type": "code",
   "execution_count": 4,
   "metadata": {},
   "outputs": [
    {
     "name": "stdout",
     "output_type": "stream",
     "text": [
      "Ultapassemos a Meta de Vendas do mes, Vendemos 57835\n"
     ]
    }
   ],
   "source": [
    "#Variaveis\n",
    "from random import randint\n",
    "\n",
    "meta_vendas = 50000\n",
    "qtd_vendida = randint(40000, 80000)\n",
    "\n",
    "if qtd_vendida == meta_vendas:\n",
    "    print(f'Batemos a Meta de Vendas do mes, Vendemos {qtd_vendida}')\n",
    "elif qtd_vendida > meta_vendas:\n",
    "    print(f'Ultapassemos a Meta de Vendas do mes, Vendemos {qtd_vendida}')\n",
    "else:\n",
    "    print(f'Não batemos a meta de vendas do mes, Vendemos {qtd_vendida}')"
   ]
  },
  {
   "cell_type": "code",
   "execution_count": null,
   "metadata": {},
   "outputs": [],
   "source": []
  },
  {
   "cell_type": "markdown",
   "metadata": {},
   "source": [
    "***15- Digamos que você precisa criar um programa para um fundo de investimentos conseguir avaliar o resultado de uma carteira de ações e o quanto de taxa deverá ser pago.***\n",
    "\n",
    "A regra desse fundo de investimentos é:\n",
    "\n",
    "O fundo se compromete a entregar no mínimo 5% de retorno ao ano. \n",
    "Caso o fundo não consiga entregar os 5% de retorno, ele não pode cobrar taxa dos seus investidores. Caso o fundo consiga\n",
    "entregar mais de 5% de retorno, ele irá cobrar 2% de taxa dos seus investidores. Caso o fundo consiga mais de 20% de retorno, ele irá cobrar 4% de taxa dos seus investidores."
   ]
  },
  {
   "cell_type": "code",
   "execution_count": 5,
   "metadata": {},
   "outputs": [
    {
     "name": "stdout",
     "output_type": "stream",
     "text": [
      "O percentual de lucro deste fundo é de 73.53%\n",
      "O Fundo cobrara uma taxa de 2%\n",
      "Do lucro de 25000000.0R$ o fundo ficara com 500000.0\n"
     ]
    }
   ],
   "source": [
    "capital_fundo = float(input('Digite o capital do fundo: R$ '))\n",
    "lucro_fundo = float(input('Quanto o Fundo lucrou no ano: R$ '))\n",
    "\n",
    "#Percentual de lucro\n",
    "p_lucro = (lucro_fundo / capital_fundo) * 100\n",
    "\n",
    "print(f\"O percentual de lucro deste fundo é de {p_lucro:.2f}%\")\n",
    "\n",
    "if p_lucro >= 5:\n",
    "    taxa = 2\n",
    "    print(f'O Fundo cobrara uma taxa de 2%')\n",
    "    print(f'Do lucro de {lucro_fundo}R$ o fundo ficara com {lucro_fundo*0.02}')\n",
    "\n",
    "elif p_lucro < 5:\n",
    "    print('O Fundo não cobrara taxa dos Investidores')\n",
    "\n",
    "elif p_lucro >= 20:\n",
    "    taxa = 4\n",
    "    print('O Fundo Cobrara 4% de taxa')\n",
    "    print(f'Do lucro de {lucro_fundo}R$ o fundo ficara com {lucro_fundo*0.04}')\n",
    "    \n",
    "else:\n",
    "    print('Por Favor tente novamente')"
   ]
  },
  {
   "cell_type": "code",
   "execution_count": null,
   "metadata": {},
   "outputs": [],
   "source": []
  },
  {
   "cell_type": "markdown",
   "metadata": {},
   "source": [
    "***16- Vamos criar um programa para analisar o bônus dos funcionários de uma empresa (pode parecer \"simples\", mas uma empresa como a Amazon tem 900.000 funcionários)***\n",
    "\n",
    "Para os cargos de vendedores, a regra do bônus é de acordo com a meta de vendas da pessoa: \n",
    "\n",
    "Se ela vendeu abaixo da meta dela, ela não ganha bônus. Se ela vendeu acima da meta dela, ela ganha como bônus 3% do valor que ela vendeu. \n",
    "\n",
    "Se ela vendeu mais do que o dobro da meta dela, ela ganha como\n",
    "bônus 7% do valor que ela vendeu. \n",
    "\n",
    "Vamos criar um programa para avaliar uma pessoa que tinha como meta de vendas 20.000 reais e calcular o bônus dela de acordo com o valor de vendas que ela 􀆟ver."
   ]
  },
  {
   "cell_type": "code",
   "execution_count": 6,
   "metadata": {},
   "outputs": [
    {
     "name": "stdout",
     "output_type": "stream",
     "text": [
      "O vendedor vendeu 34000.0 ira receber 3% de Bonus = 1020.00 R$\n"
     ]
    }
   ],
   "source": [
    "#Variaveis\n",
    "meta = 20000\n",
    "v_vendedor = input('Vendas do Vendedor: ')\n",
    "\n",
    "try:\n",
    "    vendas = float(v_vendedor)\n",
    "    \n",
    "    if vendas >= meta:\n",
    "        if vendas >= meta * 2:\n",
    "            bonus = vendas * 0.07\n",
    "            print(f'O vendedor vendeu {vendas} ira receber 7% de Bonus = {bonus:.2f} R$')\n",
    "        else:\n",
    "            bonus = vendas * 0.03\n",
    "            print(f'O vendedor vendeu {vendas} ira receber 3% de Bonus = {bonus:.2f} R$')\n",
    "            \n",
    "    else:\n",
    "        print(f'O Vendedor não bateu a meta de {meta} vendeu apenas {vendas}')\n",
    "    \n",
    "    \n",
    "except ValueError as erro:\n",
    "    print(erro)"
   ]
  },
  {
   "cell_type": "code",
   "execution_count": null,
   "metadata": {},
   "outputs": [],
   "source": []
  },
  {
   "cell_type": "markdown",
   "metadata": {},
   "source": [
    "***19- Faça um programa que mostre um menu de matemática, o programa deve receber 2 números, depois com condicionais escolha o que deve ser feito, soma, dividir etc...***"
   ]
  },
  {
   "cell_type": "code",
   "execution_count": 7,
   "metadata": {},
   "outputs": [
    {
     "name": "stdout",
     "output_type": "stream",
     "text": [
      "\n",
      "===============\n",
      "[1] Soma\n",
      "[2] Subtrair\n",
      "[3] Dividir\n",
      "[4] Multiplica\n",
      "===============\n",
      "\n",
      "Subtrair: 4 - 5 = -1\n"
     ]
    }
   ],
   "source": [
    "#Variaveis \n",
    "num1 = input('Digite o primeiro numero: ')\n",
    "num2 = input('Digite o segundo numero: ')\n",
    "\n",
    "menu = '''\n",
    "===============\n",
    "[1] Soma\n",
    "[2] Subtrair\n",
    "[3] Dividir\n",
    "[4] Multiplica\n",
    "===============\n",
    "'''\n",
    "print(menu)\n",
    "\n",
    "opcao = input('Digite sua opcao de calculo: ')\n",
    "\n",
    "try:\n",
    "    n1 = int(num1)\n",
    "    n2 = int(num2)\n",
    "    op = int(opcao)\n",
    "    \n",
    "    if op >= 1 and op <= 4:\n",
    "        if op == 1:\n",
    "            print(f'Soma: {n1} + {n2} = {n1+n2}')\n",
    "        elif op == 2:\n",
    "            print(f'Subtrair: {n1} - {n2} = {n1-n2}')\n",
    "        elif op == 3:\n",
    "            print(f'Dividir: {n1} / {n2} = {n1/n2}')\n",
    "        else:\n",
    "            print(f'Multiplica: {n1} x {n2} = {n1*n2}')\n",
    "            \n",
    "    else:\n",
    "        print(f'Voce digitou a opcao errada {op} digite de 1 a 4')\n",
    "    \n",
    "except ValueError as erro:\n",
    "    print(erro)"
   ]
  },
  {
   "cell_type": "code",
   "execution_count": null,
   "metadata": {},
   "outputs": [],
   "source": []
  },
  {
   "cell_type": "markdown",
   "metadata": {},
   "source": [
    "***20- Faça um programa para verificar se um determinado número inteiro e divisível por 3 ou 5 mais que não seja divisível por 2***"
   ]
  },
  {
   "cell_type": "code",
   "execution_count": 8,
   "metadata": {},
   "outputs": [
    {
     "name": "stdout",
     "output_type": "stream",
     "text": [
      "O Numero 45 e Divisivel por 3 e por 5\n"
     ]
    }
   ],
   "source": [
    "#Variavel\n",
    "num = int(input('Digite um numero: '))\n",
    "\n",
    "if num % 2 == 0:\n",
    "    print(f'O Numero {num} e Divisivel por 2')\n",
    "    \n",
    "    \n",
    "else:\n",
    "    if num % 3 == 0 and num % 5 == 0:\n",
    "        print(f'O Numero {num} e Divisivel por 3 e por 5')\n",
    "    elif num % 3 == 0:\n",
    "        print(f'O Numero {num} e Divisivel por 3')\n",
    "    elif num % 5 == 0:\n",
    "        print(f'O Numero {num} e Divisivel por 5')"
   ]
  },
  {
   "cell_type": "code",
   "execution_count": null,
   "metadata": {},
   "outputs": [],
   "source": []
  },
  {
   "cell_type": "markdown",
   "metadata": {},
   "source": [
    "***21- Dados 3 valores, A, B, C, verifique se eles podem forma um triangulo, e se forma, veja qual 􀆟po de\n",
    "triangulo formara, Escaleno, Isósceles, Equilátero.***\n",
    "\n",
    "Considere\n",
    "\n",
    "     O Comprimento de cada lado de um triangulo e menor que a soma dos outros dois lados\n",
    "     O Equilátero tem Três lados iguais\n",
    "     O Isósceles tem apenas dois lados iguais\n",
    "     Escaleno Todos os lados são diferentes"
   ]
  },
  {
   "cell_type": "code",
   "execution_count": 9,
   "metadata": {},
   "outputs": [
    {
     "name": "stdout",
     "output_type": "stream",
     "text": [
      "Os Lados digitados foram 4, 5, 6\n",
      "Forman um triangulo do Tipo: Escaleno\n"
     ]
    }
   ],
   "source": [
    "#Variaveis\n",
    "lado1 = input('Primeiro lado: ')\n",
    "lado2 = input('Segundo lado: ')\n",
    "lado3 = input('Terceiro lado: ')\n",
    "\n",
    "print(f'Os Lados digitados foram {lado1}, {lado2}, {lado3}')\n",
    "\n",
    "try:\n",
    "    a = int(lado1)\n",
    "    b = int(lado2)\n",
    "    c = int(lado3)\n",
    "    \n",
    "    #Condicional\n",
    "    if a < b+c and b <a+c and c <a+b:\n",
    "        print(f'Forman um triangulo do Tipo: ',end='')\n",
    "        if a == b == c:\n",
    "            print('Equilatero')\n",
    "        elif a != b != c:\n",
    "            print('Escaleno')\n",
    "        else:\n",
    "            print('Isosceles')\n",
    "            \n",
    "    else:\n",
    "        print('Não Formam um triangulo')\n",
    "    \n",
    "except ValueError as erro:\n",
    "    print('Erro!', erro)"
   ]
  },
  {
   "cell_type": "code",
   "execution_count": null,
   "metadata": {},
   "outputs": [],
   "source": []
  },
  {
   "cell_type": "markdown",
   "metadata": {},
   "source": [
    "***22- Leia a idade e o tempo de serviço de um trabalhador e escreva se ele pode ou não se aposentar.***\n",
    "\n",
    "As condições são.\n",
    "\n",
    "\n",
    "         Ter pelo menos 65 anos\n",
    "         Ou ter trabalhado pelo menos 30 anos\n",
    "         Ou ter pelo menos 60 anos e trabalhado 25 anos."
   ]
  },
  {
   "cell_type": "code",
   "execution_count": 5,
   "metadata": {},
   "outputs": [
    {
     "name": "stdout",
     "output_type": "stream",
     "text": [
      "Francisoc Não podera se aposenta nem por idade nem tempo de Serviço\n",
      "Para se aposenta pela idade falta 36 anos\n",
      "Para se aposenta por tempo de serviço faltam 28 anos\n"
     ]
    }
   ],
   "source": [
    "#Variaveis\n",
    "from datetime import date \n",
    "atual = date.today().year\n",
    "\n",
    "nome = input('Digite o seu nome: ').title()\n",
    "nascimento = input(\"Seu ano de nascimento: \")\n",
    "tempo_serviço = input(f'Tempo de Serviço {nome}: ')\n",
    "\n",
    "try:\n",
    "    nasc = int(nascimento)\n",
    "    t_serv = int(tempo_serviço)\n",
    "    idade = atual - nasc\n",
    "    \n",
    "    #Condicional\n",
    "    if idade >= 65:\n",
    "        print(f'{nome} podera se aposenta por idade')\n",
    "        \n",
    "    elif idade < 65 and t_serv > 30:\n",
    "        print(f'{nome} podera se aposenta por tempo de serviço')\n",
    "        \n",
    "    elif idade >= 60 and t_serv >= 25:\n",
    "        print(f'{nome} podera se aposenta por tempo de serviço e pela idade')\n",
    "        \n",
    "    else:\n",
    "        f_serv = 30 - t_serv\n",
    "        f_idade = 65 - idade\n",
    "        print(f'{nome} Não podera se aposenta nem por idade nem tempo de Serviço')\n",
    "        print(f'Para se aposenta pela idade falta {f_idade} anos\\n'\n",
    "              f'Para se aposenta por tempo de serviço faltam {f_serv} anos')\n",
    "    \n",
    "except ValueError as erro:\n",
    "    print(f'Tivemos um erro de valores nao convertidos')"
   ]
  },
  {
   "cell_type": "code",
   "execution_count": null,
   "metadata": {},
   "outputs": [],
   "source": []
  },
  {
   "cell_type": "code",
   "execution_count": null,
   "metadata": {},
   "outputs": [],
   "source": []
  },
  {
   "cell_type": "markdown",
   "metadata": {},
   "source": [
    "***23- Uma empresa vende o mesmo produto para quatro diferentes estados. Cada estado possui uma taxa diferente de imposto sobre o produto (MG 7%, SP 12%, RJ 15%, MS 8%, PI 14%) faça um programa em que o usuário entre o valor e o estado destino do produto e o programa retorne o preço final do produto acrescido do imposto do estado em que será vendido.***"
   ]
  },
  {
   "cell_type": "code",
   "execution_count": 6,
   "metadata": {},
   "outputs": [
    {
     "name": "stdout",
     "output_type": "stream",
     "text": [
      "Para o estado MG o imposto de Renda sera de 7%\n",
      "O Preço do produto que era de 3456.0R$ passara a custa em MG 3697.92R$\n"
     ]
    }
   ],
   "source": [
    "#Variaveis \n",
    "v_produto = float(input('Digite o valor do produto R$: '))\n",
    "estado_destino = str(input('Digite o estado de destino: [MG][SP][RJ][MS][PI]: ')).upper()\n",
    "\n",
    "#Dicionario com as taxas de cada estado\n",
    "taxas = {'MG':7, 'SP':12, 'RJ':15, 'MS':8,'PI':14}\n",
    "\n",
    "if estado_destino in taxas:\n",
    "    \n",
    "    #Calcula preco final\n",
    "    preco_final = v_produto + ((v_produto * taxas[estado_destino])/100)\n",
    "    \n",
    "    print(f'Para o estado {estado_destino} o imposto de Renda sera de {taxas[estado_destino]}%')\n",
    "    print(f'O Preço do produto que era de {v_produto}R$ passara a custa em {estado_destino} {preco_final}R$')\n",
    "    \n",
    "else:\n",
    "    print('Estado de Destino Invalido')"
   ]
  },
  {
   "cell_type": "code",
   "execution_count": null,
   "metadata": {},
   "outputs": [],
   "source": []
  },
  {
   "cell_type": "code",
   "execution_count": null,
   "metadata": {},
   "outputs": [],
   "source": []
  },
  {
   "cell_type": "markdown",
   "metadata": {},
   "source": [
    "***24- Leia a distancia em Km e a quantidade de litros de gasolina consumidos por um carro em um percurso, calcule o consumo em Km/l e escreva uma mensagem de acordo com as opções.***\n",
    "\n",
    "\n",
    "         Se percorre 8km por litro: Venda o carro\n",
    "         Se percorre entre 10 e 12: Econômico\n",
    "         Se percorre mais que 12: Super econômico"
   ]
  },
  {
   "cell_type": "code",
   "execution_count": 9,
   "metadata": {},
   "outputs": [
    {
     "name": "stdout",
     "output_type": "stream",
     "text": [
      "Seu carro consumio 15.0 em 200.0, equivalente a 13.33 Litros Por KM\n",
      "Super Economico\n"
     ]
    }
   ],
   "source": [
    "#Variaveis\n",
    "d_km = float(input('Distancia percorrida: '))\n",
    "consumo = float(input('Consumo do Carro: '))\n",
    "\n",
    "km_litro = d_km / consumo\n",
    "\n",
    "if km_litro <= 8:\n",
    "    print(f'Seu carro consumio {consumo} em {d_km}, equivalente a {km_litro:.2f} Litros Por KM')\n",
    "    print('Venda o Carro')\n",
    "    \n",
    "elif km_litro > 10 and km_litro < 12:\n",
    "    print(f'Seu carro consumio {consumo} em {d_km}, equivalente a {km_litro:.2f} Litros Por KM')\n",
    "    print('Economico')\n",
    "    \n",
    "else:\n",
    "    print(f'Seu carro consumio {consumo} em {d_km}, equivalente a {km_litro:.2f} Litros Por KM')\n",
    "    print('Super Economico')\n"
   ]
  },
  {
   "cell_type": "code",
   "execution_count": null,
   "metadata": {},
   "outputs": [],
   "source": []
  },
  {
   "cell_type": "markdown",
   "metadata": {},
   "source": [
    "***25- A Confederação Nacional de Natação precisa de um programa que leia o ano de nascimento de um atleta e mostre sua categoria, de acordo com a idade:***\n",
    "\n",
    "         Até 9 anos: MIRIM\n",
    "         Até 14 anos: INFANTIL\n",
    "         Até 19 anos: JÚNIOR\n",
    "         Até 25 anos: SÊNIOR\n",
    "         Acima de 25 anos: MASTER"
   ]
  },
  {
   "cell_type": "code",
   "execution_count": 12,
   "metadata": {},
   "outputs": [
    {
     "name": "stdout",
     "output_type": "stream",
     "text": [
      "O Atleta Masco tem 29 anos, ele ficara na categoria:  Master\n"
     ]
    }
   ],
   "source": [
    "from datetime import datetime\n",
    "atual = date.today().year\n",
    "\n",
    "nome = input('Digite o nome do atleta: ').title()\n",
    "nasc = input(f'Digite o ano de nascimento do {nome}: ')\n",
    "\n",
    "try:\n",
    "    nasc = int(nasc)\n",
    "    idade = atual - nasc\n",
    "    \n",
    "    print(f'O Atleta {nome} tem {idade} anos, ele ficara na categoria: ',end=' ')\n",
    "  \n",
    "    if idade <= 9:\n",
    "        print('Mirim')\n",
    "        \n",
    "    elif idade <= 14:\n",
    "        print('Infantil')\n",
    "        \n",
    "    elif idade <= 19:\n",
    "        print('Junior')\n",
    "        \n",
    "    elif idade <= 25:\n",
    "        print('Senior')\n",
    "        \n",
    "    else:\n",
    "        print('Master')\n",
    "\n",
    "except:\n",
    "    pass"
   ]
  },
  {
   "cell_type": "code",
   "execution_count": null,
   "metadata": {},
   "outputs": [],
   "source": []
  },
  {
   "cell_type": "markdown",
   "metadata": {},
   "source": [
    "***26- Desenvolva uma lógica que leia o peso e a altura de uma pessoa, calcule seu Índice de Massa Corporal (IMC) e mostre seu status, de acordo com a tabela abaixo:***\n",
    "\n",
    "         IMC abaixo de 18,5: Abaixo do Peso\n",
    "         Entre 18,5 e 25: Peso Ideal\n",
    "         25 até 30: Sobrepeso\n",
    "         30 até 40: Obesidade\n",
    "         Acima de 40: Obesidade Grave"
   ]
  },
  {
   "cell_type": "code",
   "execution_count": 1,
   "metadata": {},
   "outputs": [
    {
     "name": "stdout",
     "output_type": "stream",
     "text": [
      "Uma Pessoa com 82.0 kg, e 1.67 Metros de altura\n",
      "Tem um IMC de 29.402273297715947  Acima do Peso\n"
     ]
    }
   ],
   "source": [
    "#Variaveis\n",
    "nome = input('Digite o seu nome: ').title()\n",
    "peso = input('Digite o seu peso: kg ')\n",
    "altura = input('Digite a altura: ')\n",
    "\n",
    "try:\n",
    "    peso = float(peso)\n",
    "    alt = float(altura)\n",
    "    \n",
    "    #Calculo do IMC\n",
    "    imc = peso / (alt ** 2)\n",
    "    \n",
    "    print(f'Uma Pessoa com {peso} kg, e {altura} Metros de altura')\n",
    "    print(f'Tem um IMC de {imc} ', end=' ')\n",
    "    \n",
    "    if imc < 18.5:\n",
    "        print('Abaixo do Peso')\n",
    "    elif imc > 18.5 and imc < 25:\n",
    "        print('Peso Ideal')\n",
    "    elif imc > 25 and imc < 30:\n",
    "        print('Acima do Peso')\n",
    "    elif imc > 30 and imc < 40:\n",
    "        print('Obesidade')\n",
    "    else:\n",
    "        print('Obesidade Grave')\n",
    "    \n",
    "except:\n",
    "    print('Erro!')"
   ]
  },
  {
   "cell_type": "code",
   "execution_count": null,
   "metadata": {},
   "outputs": [],
   "source": []
  },
  {
   "cell_type": "markdown",
   "metadata": {},
   "source": [
    "***27- Escreva um programa que leia o código de um produto escolhido do cardápio e a quantidade em kg.\n",
    "O programa deve calcula o valor a ser pago de acordo com a tabela:***\n",
    "\n",
    "        Produto         Código    Preço kg\n",
    "        Cachorro quente  100        1.20\n",
    "        Bauru Simples    101        1.30\n",
    "        Bauru com ovo    102        1.45\n",
    "        Refrigerante     103        1.67\n",
    "        Cheeseburguer    104        2.21\n",
    "        Suco Natural     105        1.23\n",
    "        Hamburguer       106        2.11"
   ]
  },
  {
   "cell_type": "code",
   "execution_count": 2,
   "metadata": {},
   "outputs": [
    {
     "name": "stdout",
     "output_type": "stream",
     "text": [
      " \n",
      "            Produto --- Código --- Preço kg\n",
      "        Cachorro quente  100        1.20\n",
      "        Bauru Simples    101        1.30\n",
      "        Bauru com ovo    102        1.45\n",
      "        Refrigerante     103        1.67\n",
      "        Cheeseburguer    104        2.21\n",
      "        Suco Natural     105        1.23\n",
      "        Hamburguer       106        2.11\n",
      "\n",
      "Produto Escolhido [Bauru com ovo]\n",
      "Voce selecionou 2.0 kg o preço sera de 2.90 R$\n"
     ]
    }
   ],
   "source": [
    "cardapio = ''' \n",
    "            Produto --- Código --- Preço kg\n",
    "        Cachorro quente  100        1.20\n",
    "        Bauru Simples    101        1.30\n",
    "        Bauru com ovo    102        1.45\n",
    "        Refrigerante     103        1.67\n",
    "        Cheeseburguer    104        2.21\n",
    "        Suco Natural     105        1.23\n",
    "        Hamburguer       106        2.11\n",
    "'''\n",
    "\n",
    "ver_cardapio = str(input('Deseja ver o Cardapio: [S/N] ')).upper()\n",
    "\n",
    "if ver_cardapio == 'S':\n",
    "    print(cardapio)\n",
    "\n",
    "else:\n",
    "    pass\n",
    "\n",
    "codigo = int(input('Digite o codigo do produto desejado: '))\n",
    "\n",
    "codigo = int(input('Digite o codigo do produto desejado: '))\n",
    "if codigo == 100:\n",
    "    print(f'Produto Escolhido [Cachorro Quente]')\n",
    "    total = float(input('Quantos Kg voce deseja: '))\n",
    "    preco = total * 1.20\n",
    "    print(f'Voce selecionou {total} kg o preço sera de {preco:.2f} R$')\n",
    "    \n",
    "elif codigo == 101:\n",
    "    print(f'Produto Escolhido [Bauru Simples]')\n",
    "    total = float(input('Quantos Kg voce deseja: '))\n",
    "    preco = total * 1.30\n",
    "    print(f'Voce selecionou {total} kg o preço sera de {preco:.2f} R$')\n",
    "    \n",
    "elif codigo == 102:\n",
    "    print(f'Produto Escolhido [Bauru com ovo]')\n",
    "    total = float(input('Quantos Kg voce deseja: '))\n",
    "    preco = total * 1.45\n",
    "    print(f'Voce selecionou {total} kg o preço sera de {preco:.2f} R$')\n",
    "    \n",
    "elif codigo == 103:\n",
    "    print(f'Produto Escolhido [Refrigerante]')\n",
    "    total = float(input('Quantos Kg voce deseja: '))\n",
    "    preco = total * 1.67\n",
    "    print(f'Voce selecionou {total} kg o preço sera de {preco:.2f} R$')\n",
    "    \n",
    "elif codigo == 104:\n",
    "    print(f'Produto Escolhido [Cheeseburguer]')\n",
    "    total = float(input('Quantos Kg voce deseja: '))\n",
    "    preco = total * 2.21\n",
    "    print(f'Voce selecionou {total} kg o preço sera de {preco:.2f} R$')\n",
    "    \n",
    "elif codigo == 105:\n",
    "    print(f'Produto Escolhido [Suco Natural]')\n",
    "    total = float(input('Quantos Kg voce deseja: '))\n",
    "    preco = total * 1.23\n",
    "    print(f'Voce selecionou {total} kg o preço sera de {preco:.2f} R$')\n",
    "\n",
    "elif codigo == 106:\n",
    "    print(f'Produto Escolhido [Hamburguer]')\n",
    "    total = float(input('Quantos Kg voce deseja: '))\n",
    "    preco = total * 2.11\n",
    "    print(f'Voce selecionou {total} kg o preço sera de {preco:.2f} R$')\n",
    "    \n",
    "else:\n",
    "    print(f'Por favor selecione uma opcao no Menu')"
   ]
  },
  {
   "cell_type": "code",
   "execution_count": null,
   "metadata": {},
   "outputs": [],
   "source": []
  },
  {
   "cell_type": "markdown",
   "metadata": {},
   "source": [
    "***28- Uma empresa decide dar um aumento aos seus funcionários de acordo com uma tabela que considera\n",
    "o salário atual e o tempo de serviço de acordo com os dados.***\n",
    "\n",
    "         De 3 a 5 anos 10% de aumento\n",
    "         De 6 a 10 anos 15% de aumento\n",
    "         Abaixo de 3 anos 5% de aumento"
   ]
  },
  {
   "cell_type": "code",
   "execution_count": 3,
   "metadata": {},
   "outputs": [
    {
     "name": "stdout",
     "output_type": "stream",
     "text": [
      "O Funcionario que Ganhava 1535 R$ e que esta com 6 anos de empresa\n",
      "Recebera um aumento de 15% e passara a ganha 1765.25 R$\n"
     ]
    }
   ],
   "source": [
    "#Variaveis\n",
    "from random import randint as rand \n",
    "\n",
    "#Criando 2 metros um altomatico e outro o usuario digitara\n",
    "#salario = float(input('Salario do Funcionari: E$))\n",
    "salario = rand(1500, 5000)\n",
    "\n",
    "#tempo_serviço = int(input('Tempo de Serviço do Funcionario'))\n",
    "tempo_sevico = rand(1, 10)\n",
    "\n",
    "if tempo_sevico >= 3 and tempo_sevico <= 5:\n",
    "    aumento = salario * 1.10\n",
    "    print(f'O Funcionario que Ganhava {salario} R$ e que esta com {tempo_sevico} anos de empresa')\n",
    "    print(f'Recebera um aumento de 10% e passara a ganha {aumento:.2f} R$')\n",
    "elif tempo_sevico >= 6 and tempo_sevico <= 10:\n",
    "    aumento = salario * 1.15\n",
    "    print(f'O Funcionario que Ganhava {salario} R$ e que esta com {tempo_sevico} anos de empresa')\n",
    "    print(f'Recebera um aumento de 15% e passara a ganha {aumento:.2f} R$')\n",
    "elif tempo_sevico < 3:\n",
    "    aumento = salario * 1.05\n",
    "    print(f'O Funcionario que Ganhava {salario} R$ e que esta com {tempo_sevico} anos de empresa')\n",
    "    print(f'Recebera um aumento de 5% e passara a ganha {aumento:.2f} R$')"
   ]
  },
  {
   "cell_type": "code",
   "execution_count": null,
   "metadata": {},
   "outputs": [],
   "source": []
  },
  {
   "cell_type": "markdown",
   "metadata": {},
   "source": [
    "***29- Escreva um programa que leia dois números inteiros e compare-os. mostrando na tela uma\n",
    "mensagem:***\n",
    "\n",
    "        – O primeiro valor é maior\n",
    "        – O segundo valor é maior\n",
    "        – Não existe valor maior, os dois são iguais"
   ]
  },
  {
   "cell_type": "code",
   "execution_count": 4,
   "metadata": {},
   "outputs": [
    {
     "name": "stdout",
     "output_type": "stream",
     "text": [
      "Os Numeros Digitados Foram 45 e 65\n",
      "O numero 65 e maior\n"
     ]
    }
   ],
   "source": [
    "#Variaveis numero\n",
    "num1 = int(input('Primeiro Numero: '))\n",
    "num2 = int(input('Segundo Numero: '))\n",
    "\n",
    "print(f'Os Numeros Digitados Foram {num1} e {num2}')\n",
    "\n",
    "if num1 > num2:\n",
    "    print(f'O numero {num1} e maior que {num2}')\n",
    "elif num1 == num2:\n",
    "    print(f'Os numeros {num1} e {num2} são iguais')\n",
    "else:\n",
    "    print(f'O numero {num2} e maior')"
   ]
  },
  {
   "cell_type": "code",
   "execution_count": null,
   "metadata": {},
   "outputs": [],
   "source": []
  },
  {
   "cell_type": "markdown",
   "metadata": {},
   "source": [
    "***30- Faça um programa que leia o ano de nascimento de um jovem e informe, de acordo com a sua idade,\n",
    "se ele ainda vai se alistar ao serviço militar, se é a hora exata de se alistar ou se já passou do tempo do alistamento. Seu programa também deverá mostrar o tempo que falta ou que passou do prazo.***"
   ]
  },
  {
   "cell_type": "code",
   "execution_count": 5,
   "metadata": {},
   "outputs": [
    {
     "name": "stdout",
     "output_type": "stream",
     "text": [
      "Seu nome e: Francisco voce tem: 29 anos\n",
      "Ja se passaram 11 anos do seu alistamento que foi em 2013\n"
     ]
    }
   ],
   "source": [
    "#Import da biblioteca\n",
    "from datetime import date as dt \n",
    "atual = dt.today().year\n",
    "\n",
    "nome = str(input('Digite o seu nome: ')).title()\n",
    "ano_nasc = int(input(f'Digite seu ano de Nascimento: '))\n",
    "\n",
    "#Calculo da idade\n",
    "idade = atual - ano_nasc\n",
    "print(f'Seu nome e: {nome} voce tem: {idade} anos')\n",
    "\n",
    "if idade == 18:\n",
    "    print(f'Voce ja tem {idade} ja esta na hora de se alista')\n",
    "elif idade > 18:\n",
    "    passou = idade - 18\n",
    "    ano = atual - passou\n",
    "    print(f'Ja se passaram {passou} anos do seu alistamento que foi em {ano}')\n",
    "elif idade < 18:\n",
    "    falta = 18 - idade\n",
    "    ano = atual + falta\n",
    "    print(f'Ainda faltam {falta} anos para seu alistamento que sera em {ano}')\n",
    "else:\n",
    "    print('Print Por favor digite a sua data de nascimento correta')"
   ]
  },
  {
   "cell_type": "code",
   "execution_count": null,
   "metadata": {},
   "outputs": [],
   "source": []
  },
  {
   "cell_type": "markdown",
   "metadata": {},
   "source": [
    "***31- Crie um programa que leia duas notas de um aluno e calcule sua média, mostrando uma mensagem no final, de acordo com a média atingida:***\n",
    "\n",
    "    – Média abaixo de 5.0: REPROVADO\n",
    "    – Média entre 5.0 e 6.9: RECUPERAÇÃO\n",
    "    – Média 7.0 ou superior: APROVADO"
   ]
  },
  {
   "cell_type": "code",
   "execution_count": 6,
   "metadata": {},
   "outputs": [
    {
     "name": "stdout",
     "output_type": "stream",
     "text": [
      "MARCIO suas notas são 6.7 e 8.0\n",
      "MARCIO Sua media e de 7.35 e voce esta: Aprovado\n"
     ]
    }
   ],
   "source": [
    "#Variaveis \n",
    "nome = str(input('Digite o nome do aluno: '))\n",
    "nota1 = float(input(f'Primeira nota do {nome}: '))\n",
    "nota2 = float(input(f'Segunda nota do {nome}: '))\n",
    "\n",
    "media = (nota1 + nota2) / 2\n",
    "\n",
    "print(f'{nome} suas notas são {nota1} e {nota2}')\n",
    "print(f'{nome} Sua media e de {media} e voce esta: ',end='')\n",
    "\n",
    "if media < 5:\n",
    "    print('Reprovado')\n",
    "elif media > 5 and media < 6.9:\n",
    "    print('Recuperação')\n",
    "elif media >= 7:\n",
    "    print('Aprovado')\n",
    "else:\n",
    "    print('Por favor digite as 2 notas corretamente')"
   ]
  },
  {
   "cell_type": "code",
   "execution_count": null,
   "metadata": {},
   "outputs": [],
   "source": []
  },
  {
   "cell_type": "markdown",
   "metadata": {},
   "source": [
    "***32- Elabore um programa que calcule o valor a ser pago por um produto,\n",
    "considerando o seu preço normal e condição de pagamento:***\n",
    "\n",
    "     à vista dinheiro/cheque: 10% de desconto\n",
    "     à vista no cartão: 5% de desconto\n",
    "     em até 2x no cartão: preço formal\n",
    "     3x ou mais no cartão: 20% de juros"
   ]
  },
  {
   "cell_type": "code",
   "execution_count": 7,
   "metadata": {},
   "outputs": [
    {
     "name": "stdout",
     "output_type": "stream",
     "text": [
      "Voce deseja compra: \u001b[33mGeladeira que custa 3450R$\u001b[0m\n",
      "=============================================\n",
      "\n",
      "Condição de Pagamento\n",
      "[1] A Vista Dinheiro/Cheque 10% de desconto\n",
      "[2] A Vista no Cartao 5% de Desconto\n",
      "[3] Em 2x no cartao Sem desconto\n",
      "[4] 3x ou mais no cartao 20% de Juros\n",
      "=============================================\n",
      "A Opção escolhida foi: \u001b[32m4- 3x ou Mais no Cartao\u001b[0m\n",
      "O(A) Geladeira que custava 3450 R$\n",
      "Parcelado em 4 vezes de 1035.0 e com 20% de juros\n",
      "Seu novo valor sera de 4140.00 R$\n"
     ]
    }
   ],
   "source": [
    "from random import randint as rand \n",
    "produtos = ['Notebook', 'TV', 'Geladeira', 'Celular', 'Sofá', 'Fogão']\n",
    "precos = [4500, 1350, 3450, 1200, 1000, 780]\n",
    "\n",
    "selecao = rand(0, 5)\n",
    "\n",
    "print(f'Voce deseja compra: \\33[33m{produtos[selecao]} que custa {precos[selecao]}R$\\33[0m')\n",
    "\n",
    "print('='*45)\n",
    "print('''\n",
    "Condição de Pagamento\n",
    "[1] A Vista Dinheiro/Cheque 10% de desconto\n",
    "[2] A Vista no Cartao 5% de Desconto\n",
    "[3] Em 2x no cartao Sem desconto\n",
    "[4] 3x ou mais no cartao 20% de Juros''')\n",
    "print('='*45)\n",
    "\n",
    "opcoes = ['1- A Vista Dinheiro/Cheque', \n",
    "          '2- A Vista no Cartao', \n",
    "          '3- Em 2x No Carto', \n",
    "          '4- 3x ou Mais no Cartao']\n",
    "opcao = rand(0,3)\n",
    "\n",
    "print(f'A Opção escolhida foi: \\33[32m{opcoes[opcao]}\\33[0m')\n",
    "\n",
    "\n",
    "if opcao == 0:\n",
    "    desconto = precos[selecao] * 0.90\n",
    "    print(f'O Produto: {produtos[selecao]} que tinha um custo de {precos[selecao]}R$')\n",
    "    print(f'Com 10% de desconto passara a custa {desconto:.2f} R$')\n",
    "    \n",
    "elif opcao == 1:\n",
    "    desconto = precos[selecao] * 0.95\n",
    "    print(f'O Produto: {produtos[selecao]} que tinha um custo de {precos[selecao]} R$')\n",
    "    print(f'Com 5% de desconto passara a custa {desconto:.2f} R$')\n",
    "    \n",
    "elif opcao == 2:\n",
    "    print(f'O(a) {produtos[selecao]} não tera desconto seu preço sera o preço Normal de {precos[selecao]}R$')\n",
    "    \n",
    "elif opcao == 3:\n",
    "    parcelas = 'Em quantas vezes no Cartão: '\n",
    "    qtd = rand(3, 6)\n",
    "    juros = precos[selecao] * 1.20\n",
    "    valor_parcelas = juros / qtd\n",
    "    \n",
    "    print(f'O(A) {produtos[selecao]} que custava {precos[selecao]} R$')\n",
    "    print(f'Parcelado em {qtd} vezes de {valor_parcelas} e com 20% de juros')\n",
    "    print(f'Seu novo valor sera de {juros:.2f} R$')\n",
    "    "
   ]
  },
  {
   "cell_type": "code",
   "execution_count": null,
   "metadata": {},
   "outputs": [],
   "source": []
  },
  {
   "cell_type": "markdown",
   "metadata": {},
   "source": [
    "***33- Elabora um programa que Jogue Pedra Papel e Tesoura, o programa deverá receber 2 input e uma alto moção, sendo que serão 2 jogadores contra o Computador.***"
   ]
  },
  {
   "cell_type": "markdown",
   "metadata": {},
   "source": [
    "### <font color='red'>OBS: Neste programa eu poderia utiliza um laço for e indica quantas pessoas eu gostaria que participassem do jogo, porem estamos seguindo a linha de aprendizagem do Basico ao avançado</font>"
   ]
  },
  {
   "cell_type": "code",
   "execution_count": 8,
   "metadata": {},
   "outputs": [
    {
     "name": "stdout",
     "output_type": "stream",
     "text": [
      "Escolha uma opcao: [0][1][2]: \n",
      "------------------------------\n",
      "Computador Jogou \u001b[1;34mPedra\u001b[0m\n",
      "O Jogador \u001b[1;33mJoao\u001b[0m Jogou Papel\n",
      "O Jogador \u001b[1;33mJoao\u001b[0m Ganhou\n",
      "\n",
      "\n",
      "Computador Jogou \u001b[1;34mPedra\u001b[0m\n",
      "O Jogador \u001b[1;33mLucas\u001b[0m Jogou Tesoura\n",
      "Computador Ganhou\n"
     ]
    }
   ],
   "source": [
    "#Import da biblioteca random\n",
    "from random import randint as rand \n",
    "lista = ['Pedra','Papel','Tesoura']\n",
    "pc    = rand(0, 2)\n",
    "\n",
    "#Imprimindo as opcoes\n",
    "print('Escolha uma opcao: [0][1][2]: ')\n",
    "jogador1 = int(input('Jogador 1 - Escolha sua: [0][1][2]: '))\n",
    "jogador2 = int(input('Jogador 2 - Escolha sua: [0][1][2]: '))\n",
    "nomes = ['\\33[1;33mJoao\\33[0m', '\\33[1;33mLucas\\33[0m']\n",
    "\n",
    "print('-'*30)\n",
    "\n",
    "if jogador1:\n",
    "    if jogador1 >= 0 and jogador1 <= 2:\n",
    "        \n",
    "        print(f'Computador Jogou \\33[1;34m{lista[pc]}\\33[0m')\n",
    "        print(f'O Jogador {nomes[0]} Jogou {lista[jogador1]}')\n",
    "        \n",
    "        if jogador1 == pc:\n",
    "            print('Tivemos um empate')\n",
    "        elif jogador1 == 0 and pc == 1:\n",
    "            print(f'Computador Ganhou')\n",
    "        elif jogador1 == 0 and pc == 2:\n",
    "            print(f'O Jogador {nomes[0]} Ganhou')\n",
    "        elif jogador1 == 1 and pc == 0:\n",
    "            print(f'O Jogador {nomes[0]} Ganhou')\n",
    "        elif jogador1 == 1 and pc == 2:\n",
    "            print('Computador Ganhou')\n",
    "        elif jogador1 == 2 and pc == 0:\n",
    "            print('Computador Ganhou')\n",
    "        elif jogador1 == 2 and pc == 1:\n",
    "            print(f'O Jogador {nomes[0]} Ganhou')\n",
    "    \n",
    "    else:\n",
    "        print(f'Jogador {nomes[0]} Jogou um numero invalido, jogou {jogador1}')\n",
    "        print(f'O Jogo Continuara apenas com o Jogador {nomes[1]}')\n",
    "\n",
    "print('\\n')\n",
    "\n",
    "if jogador2:\n",
    "    if jogador2 >= 0 and jogador2 <= 2:\n",
    "        \n",
    "        print(f'Computador Jogou \\33[1;34m{lista[pc]}\\33[0m')\n",
    "        print(f'O Jogador {nomes[1]} Jogou {lista[jogador2]}')\n",
    "        \n",
    "        if jogador2 == pc:\n",
    "            print('Tivemos um empate')\n",
    "        elif jogador2 == 0 and pc == 1:\n",
    "            print(f'Computador Ganhou')\n",
    "        elif jogador2 == 0 and pc == 2:\n",
    "            print(f'O Jogador {nomes[1]} Ganhou')\n",
    "        elif jogador2 == 1 and pc == 0:\n",
    "            print(f'O Jogador {nomes[1]} Ganhou')\n",
    "        elif jogador2 == 1 and pc == 2:\n",
    "            print('Computador Ganhou')\n",
    "        elif jogador2 == 2 and pc == 0:\n",
    "            print('Computador Ganhou')\n",
    "        elif jogador2 == 2 and pc == 1:\n",
    "            print(f'O Jogador {nomes[1]} Ganhou')\n",
    "        \n",
    "    \n",
    "    else:\n",
    "        print(f'Jogador {nomes[1]} Jogou um numero invalido, jogou {jogador2}')\n",
    "        print(f'O Jogo Ocorreu apenas com o Jogador {nomes[0]}')\n",
    "        \n",
    "        \n",
    "else:\n",
    "    print('Jogadores. Joguem apenas os numeros entre 0 e 2')  "
   ]
  },
  {
   "cell_type": "code",
   "execution_count": null,
   "metadata": {},
   "outputs": [],
   "source": []
  },
  {
   "cell_type": "markdown",
   "metadata": {},
   "source": [
    "***34- Escreva um programa que receba o nome e a idade de uma pessoa e verifique se ela pode se aposentar ou não. \n",
    "Considere que a idade mínima para se aposentar é de 65 anos para homens e 60 anos para mulheres. O programa deve mostrar uma mensagem adequada para cada caso.***\n",
    "\n",
    "        # Exemplo de entrada:\n",
    "\n",
    "        # Nome: Ana\n",
    "        # Idade: 58\n",
    "        # Exemplo de saída:\n",
    "        # Ana, você ainda não pode se aposentar. Você precisa de mais 2 anos."
   ]
  },
  {
   "cell_type": "code",
   "execution_count": 9,
   "metadata": {},
   "outputs": [
    {
     "name": "stdout",
     "output_type": "stream",
     "text": [
      "FRANCISCO Voce ainda não podera se aposente pois so tem 28 anos\n",
      "Voce podera se aposenta em 2061 falta apenas 37 anos\n"
     ]
    }
   ],
   "source": [
    "#Import da Biblioteca DateTime para Saber a Data Atual\n",
    "from datetime import date \n",
    "atual = date.today().year\n",
    "\n",
    "nome  = str(input('Digite o seu nome: '))\n",
    "idade = input(f'{nome} Digite a sua idade: ')\n",
    "sexo  = input(f'{nome} Digite seu Sexo: [F/M] ').upper()\n",
    "try:\n",
    "    idade = int(idade)\n",
    "    \n",
    "    if sexo == 'F':\n",
    "        if idade == 65:\n",
    "            print(f'{nome} voce ja pode se aposentar pois ja tem {idade} anos')\n",
    "        elif idade > 65:\n",
    "            passou = idade - 65\n",
    "            ano = atual - passou\n",
    "            print(f'{nome} ja se passaram {passou} anos para se aposentar, deveria ter sido em {ano}')\n",
    "        elif idade < 65:\n",
    "            falta = 65 - idade\n",
    "            seraEm = atual + falta\n",
    "            print(f'{nome} Voce ainda não podera se aposente pois so tem {idade} anos')\n",
    "            print(f'Voce podera se aposenta em {seraEm} falta apenas {falta} anos')\n",
    "        else:\n",
    "            print(f'{nome} Por favor digite sua idade corretamente')\n",
    "        \n",
    "    if sexo == 'M':\n",
    "        if idade == 65:\n",
    "            print(f'{nome} voce ja pode se aposentar pois ja tem {idade} anos')\n",
    "        elif idade > 65:\n",
    "            passou = idade - 65\n",
    "            ano = atual - passou\n",
    "            print(f'{nome} ja se passaram {passou} anos para se aposentar, deveria ter sido em {ano}')\n",
    "        elif idade < 65:\n",
    "            falta = 65 - idade\n",
    "            seraEm = atual + falta\n",
    "            print(f'{nome} Voce ainda não podera se aposente pois so tem {idade} anos')\n",
    "            print(f'Voce podera se aposenta em {seraEm} falta apenas {falta} anos')\n",
    "        else:\n",
    "            print(f'{nome} Por favor digite sua idade corretamente')\n",
    "    \n",
    "except:\n",
    "    print('Erro!')"
   ]
  },
  {
   "cell_type": "code",
   "execution_count": null,
   "metadata": {},
   "outputs": [],
   "source": []
  },
  {
   "cell_type": "code",
   "execution_count": null,
   "metadata": {},
   "outputs": [],
   "source": []
  },
  {
   "cell_type": "code",
   "execution_count": null,
   "metadata": {},
   "outputs": [],
   "source": []
  }
 ],
 "metadata": {
  "kernelspec": {
   "display_name": "base",
   "language": "python",
   "name": "python3"
  },
  "language_info": {
   "codemirror_mode": {
    "name": "ipython",
    "version": 3
   },
   "file_extension": ".py",
   "mimetype": "text/x-python",
   "name": "python",
   "nbconvert_exporter": "python",
   "pygments_lexer": "ipython3",
   "version": "3.12.2"
  }
 },
 "nbformat": 4,
 "nbformat_minor": 2
}
