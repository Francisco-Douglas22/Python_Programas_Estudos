{
 "cells": [
  {
   "cell_type": "markdown",
   "metadata": {},
   "source": [
    "# <font color='green'>***Funções em Python***</font>"
   ]
  },
  {
   "cell_type": "markdown",
   "metadata": {},
   "source": [
    "Em Python, funções são blocos de código reutilizáveis que realizam uma tarefa específica. Elas são definidas usando a palavra-chave `def`, seguida pelo nome da função, uma lista de parâmetros entre parênteses e um bloco de código indentado que define o que a função faz. As funções podem ter um valor de retorno, que é especificado usando a palavra-chave `return`.\n",
    "\n",
    "Vamos explorar detalhadamente os diferentes aspectos das funções em Python, incluindo sua definição, parâmetros, valor de retorno e métodos associados.\n",
    "\n",
    "### Definição de Funções:\n",
    "\n",
    "Em Python, uma função é definida usando a seguinte sintaxe:\n",
    "\n",
    "```python\n",
    "def nome_da_funcao(parametros):\n",
    "    # Corpo da função\n",
    "    # Realiza alguma operação\n",
    "    return valor_de_retorno\n",
    "```\n",
    "\n",
    "### Parâmetros:\n",
    "\n",
    "Os parâmetros são valores que podem ser passados para uma função quando ela é chamada. Uma função pode ter zero ou mais parâmetros. Eles são especificados entre parênteses na definição da função. Os parâmetros podem ter valores padrão, que são usados quando nenhum valor é fornecido durante a chamada da função.\n",
    "\n",
    "### Valor de Retorno:\n",
    "\n",
    "Uma função pode retornar um valor usando a palavra-chave `return`. Se uma função não especificar um valor de retorno, ela retorna `None` por padrão. Uma função pode retornar múltiplos valores como uma tupla.\n",
    "\n",
    "### Métodos Associados às Funções:\n",
    "\n",
    "1. **Docstring (`__doc__`)**: Permite documentar a função, fornecendo uma string de documentação. Ela pode ser acessada usando o atributo `__doc__`.\n",
    "\n",
    "2. **Nome (`__name__`)**: Fornece o nome da função como uma string. Útil para introspecção.\n",
    "\n",
    "3. **Código de byte (`__code__`)**: Retorna um objeto de código que representa o bytecode da função.\n",
    "\n",
    "4. **Padrão de parâmetros (`__defaults__`)**: Retorna uma tupla contendo os valores padrão dos parâmetros da função.\n",
    "\n",
    "5. **Assinatura (`__signature__`)**: Retorna um objeto `Signature` que representa a assinatura da função, incluindo os parâmetros e suas anotações.\n",
    "\n",
    "6. **Annotations (`__annotations__`)**: Retorna um dicionário contendo as anotações dos parâmetros e do valor de retorno da função.\n",
    "\n",
    "### Exemplos:\n",
    "\n",
    "```python\n",
    "# Definição de uma função simples\n",
    "def saudacao(nome):\n",
    "    return f\"Olá, {nome}!\"\n",
    "\n",
    "# Chamando a função e imprimindo o valor de retorno\n",
    "print(saudacao(\"Mundo\"))\n",
    "\n",
    "# Acessando a docstring da função\n",
    "print(saudacao.__doc__)\n",
    "\n",
    "# Acessando o nome da função\n",
    "print(saudacao.__name__)\n",
    "\n",
    "# Acessando a assinatura da função\n",
    "import inspect\n",
    "print(inspect.signature(saudacao))\n",
    "```\n",
    "\n",
    "Saída:\n",
    "```\n",
    "Olá, Mundo!\n",
    "None\n",
    "saudacao(nome)\n",
    "```\n",
    "\n",
    "### Uso Comum:\n",
    "\n",
    "As funções são uma parte essencial da programação em Python e são amplamente utilizadas para modularizar o código, promover a reutilização e tornar o código mais legível e organizado. Elas são usadas em muitos aspectos da programação, desde tarefas simples até algoritmos complexos.\n",
    "\n",
    "Em resumo, as funções em Python são blocos de código reutilizáveis que realizam uma tarefa específica. Elas podem ter parâmetros, um valor de retorno e vários métodos associados que fornecem informações sobre a função. As funções são uma parte fundamental da linguagem Python e são usadas extensivamente em desenvolvimento de software."
   ]
  },
  {
   "cell_type": "markdown",
   "metadata": {},
   "source": [
    "## **Exemplos**"
   ]
  },
  {
   "cell_type": "markdown",
   "metadata": {},
   "source": [
    "Claro! Vou fornecer exemplos de funções em Python, cobrindo diferentes aspectos, como definição, parâmetros, valor de retorno e métodos associados.\n",
    "\n",
    "### Exemplo 1: Função Simples\n",
    "\n",
    "Vamos começar com uma função simples que recebe um nome como parâmetro e retorna uma saudação.\n",
    "\n",
    "```python\n",
    "def saudacao(nome):\n",
    "    \"\"\"Retorna uma saudação com o nome fornecido.\"\"\"\n",
    "    return f\"Olá, {nome}!\"\n",
    "\n",
    "# Chamando a função e imprimindo o valor de retorno\n",
    "print(saudacao(\"Mundo\"))\n",
    "```\n",
    "\n",
    "Saída:\n",
    "```\n",
    "Olá, Mundo!\n",
    "```\n",
    "\n",
    "### Exemplo 2: Função com Parâmetros Padrão\n",
    "\n",
    "Vamos criar uma função que calcula a área de um retângulo. Esta função terá parâmetros padrão para o comprimento e a largura.\n",
    "\n",
    "```python\n",
    "def area_retangulo(comprimento=1, largura=1):\n",
    "    \"\"\"Calcula a área de um retângulo.\"\"\"\n",
    "    return comprimento * largura\n",
    "\n",
    "# Chamando a função com parâmetros padrão\n",
    "print(\"Área do retângulo:\", area_retangulo())\n",
    "\n",
    "# Chamando a função com valores específicos\n",
    "print(\"Área do retângulo:\", area_retangulo(5, 3))\n",
    "```\n",
    "\n",
    "Saída:\n",
    "```\n",
    "Área do retângulo: 1\n",
    "Área do retângulo: 15\n",
    "```\n",
    "\n",
    "### Exemplo 3: Função com Múltiplos Valores de Retorno\n",
    "\n",
    "Vamos criar uma função que retorna múltiplos valores, neste caso, o quociente e o resto da divisão entre dois números.\n",
    "\n",
    "```python\n",
    "def divisao_e_resto(dividendo, divisor):\n",
    "    \"\"\"Retorna o quociente e o resto da divisão.\"\"\"\n",
    "    quociente = dividendo // divisor\n",
    "    resto = dividendo % divisor\n",
    "    return quociente, resto\n",
    "\n",
    "# Chamando a função e armazenando os valores de retorno em variáveis separadas\n",
    "quociente, resto = divisao_e_resto(10, 3)\n",
    "print(\"Quociente:\", quociente)\n",
    "print(\"Resto:\", resto)\n",
    "```\n",
    "\n",
    "Saída:\n",
    "```\n",
    "Quociente: 3\n",
    "Resto: 1\n",
    "```\n",
    "\n",
    "### Exemplo 4: Função com Anotações de Tipos\n",
    "\n",
    "Vamos criar uma função que recebe dois inteiros como parâmetros e retorna um inteiro.\n",
    "\n",
    "```python\n",
    "def soma(a: int, b: int) -> int:\n",
    "    \"\"\"Retorna a soma de dois números inteiros.\"\"\"\n",
    "    return a + b\n",
    "\n",
    "# Chamando a função e imprimindo o valor de retorno\n",
    "print(\"Soma:\", soma(5, 3))\n",
    "```\n",
    "\n",
    "Saída:\n",
    "```\n",
    "Soma: 8\n",
    "```\n",
    "\n",
    "Estes são apenas alguns exemplos básicos de funções em Python. Elas podem ser usadas para realizar uma ampla variedade de tarefas e são uma parte fundamental da programação em Python."
   ]
  },
  {
   "cell_type": "code",
   "execution_count": null,
   "metadata": {},
   "outputs": [],
   "source": []
  },
  {
   "cell_type": "code",
   "execution_count": 1,
   "metadata": {},
   "outputs": [
    {
     "name": "stdout",
     "output_type": "stream",
     "text": [
      "Olá Francisco Douglas seja bem vindo\n",
      "Olá Laurice Mota seja bem vindo\n",
      "Olá Programando em Python seja bem vindo\n"
     ]
    }
   ],
   "source": [
    "#Definindo Funções em Python\n",
    "#Funções são pequenos trechos de codigos que realizam tarefas especificas\n",
    "def saudacao(nome):  #essa função recebe um parametro nome\n",
    "    print(f\"Olá {nome} seja bem vindo\")\n",
    "    \n",
    "saudacao('Francisco Douglas')\n",
    "saudacao('Laurice Mota')\n",
    "saudacao('Programando em Python')\n"
   ]
  },
  {
   "cell_type": "code",
   "execution_count": 2,
   "metadata": {},
   "outputs": [
    {
     "name": "stdout",
     "output_type": "stream",
     "text": [
      "4\n",
      "9\n",
      "16\n",
      "25\n"
     ]
    }
   ],
   "source": [
    "#Funções com Retorno\n",
    "def quadrado(q):\n",
    "    return q * q\n",
    "\n",
    "print(quadrado(2))\n",
    "print(quadrado(3))\n",
    "print(quadrado(4))\n",
    "print(quadrado(5))\n",
    "\n"
   ]
  },
  {
   "cell_type": "code",
   "execution_count": 3,
   "metadata": {},
   "outputs": [
    {
     "data": {
      "text/plain": [
       "'Cara'"
      ]
     },
     "execution_count": 3,
     "metadata": {},
     "output_type": "execute_result"
    }
   ],
   "source": [
    "from random import random\n",
    "\n",
    "def joga__moeda():\n",
    "    valor = random()\n",
    "    if valor > 0.5:\n",
    "        return 'Cara'\n",
    "    else:\n",
    "        return 'Coroa'\n",
    "    \n",
    "joga__moeda()"
   ]
  },
  {
   "cell_type": "code",
   "execution_count": 4,
   "metadata": {},
   "outputs": [
    {
     "name": "stdout",
     "output_type": "stream",
     "text": [
      "IMPA\n",
      "PAR\n"
     ]
    }
   ],
   "source": [
    "#par impa\n",
    "def par_impa(n):\n",
    "    if n % 2 == 0:\n",
    "        return 'PAR'\n",
    "    return \"IMPA\"\n",
    "\n",
    "print(par_impa(3))\n",
    "print(par_impa(2))"
   ]
  },
  {
   "cell_type": "code",
   "execution_count": 5,
   "metadata": {},
   "outputs": [
    {
     "name": "stdout",
     "output_type": "stream",
     "text": [
      "Quadrado 8\n",
      "32\n",
      "9\n",
      "1024\n"
     ]
    }
   ],
   "source": [
    "#Funções com Parametros padroes\n",
    "#Funçoes onde a passagem de parametros seja opcional\n",
    "\n",
    "#Exemplo de passagem obrigatoria\n",
    "def quadrado(numero):\n",
    "    return numero * 2\n",
    "print(\"Quadrado\", quadrado(4))\n",
    "\n",
    "#Levando a potencia\n",
    "def elevado_a(base, expoente=2):\n",
    "    return base ** expoente\n",
    "print(elevado_a(2, 5))\n",
    "print(elevado_a(3))\n",
    "print(elevado_a(4, 5))\n"
   ]
  },
  {
   "cell_type": "code",
   "execution_count": 6,
   "metadata": {},
   "outputs": [
    {
     "name": "stdout",
     "output_type": "stream",
     "text": [
      "Eu pensei que era Python\n",
      "Bem-Vindo\n",
      "Ola Francisco\n"
     ]
    }
   ],
   "source": [
    "def mostra_info(nome='Python', instrutor=False):\n",
    "    if nome == 'Python' and instrutor:\n",
    "        return 'Bem-Vindo'\n",
    "    elif nome == 'Python':\n",
    "        return 'Eu pensei que era Python'\n",
    "    return f'Ola {nome}'\n",
    "\n",
    "print(mostra_info())\n",
    "print(mostra_info(instrutor=True))\n",
    "print(mostra_info('Francisco'))"
   ]
  },
  {
   "cell_type": "code",
   "execution_count": 7,
   "metadata": {},
   "outputs": [
    {
     "name": "stdout",
     "output_type": "stream",
     "text": [
      "5\n",
      "-1\n",
      "-1\n"
     ]
    }
   ],
   "source": [
    "#Funcoes\n",
    "def soma(num1, num2):\n",
    "    return num1 + num2\n",
    "\n",
    "def mat(num1, num2, fun=soma):\n",
    "    return fun(num1, num2)\n",
    "\n",
    "def subtracao(num1, num2):\n",
    "    return num1 - num2\n",
    "\n",
    "print(mat(2, 3))\n",
    "print(mat(2, 3, subtracao))\n",
    "print(subtracao(2, 3))"
   ]
  },
  {
   "cell_type": "code",
   "execution_count": 8,
   "metadata": {},
   "outputs": [
    {
     "name": "stdout",
     "output_type": "stream",
     "text": [
      "900\n",
      "Help on function calcula_area in module __main__:\n",
      "\n",
      "calcula_area(altura=0, largura=0)\n",
      "    Esta função calcula a area total de um terreno\n",
      "\n",
      "None\n",
      "\n",
      "    Esta função calcula a area total de um terreno\n",
      "    \n"
     ]
    }
   ],
   "source": [
    "#Documentando Funcoes com DocString\n",
    "def calcula_area(altura=0, largura=0):\n",
    "    '''\n",
    "    Esta função calcula a area total de um terreno\n",
    "    '''\n",
    "    return altura * largura\n",
    "\n",
    "print(calcula_area(45, 20))\n",
    "print(help(calcula_area))\n",
    "\n",
    "#Metodo especial\n",
    "print(calcula_area.__doc__)"
   ]
  },
  {
   "cell_type": "code",
   "execution_count": null,
   "metadata": {},
   "outputs": [],
   "source": []
  },
  {
   "cell_type": "code",
   "execution_count": null,
   "metadata": {},
   "outputs": [],
   "source": []
  },
  {
   "cell_type": "markdown",
   "metadata": {},
   "source": [
    "### ***(*args)***"
   ]
  },
  {
   "cell_type": "markdown",
   "metadata": {},
   "source": [
    "Em Python, `*args` é um parâmetro especial que pode ser passado para funções para permitir que elas recebam um número variável de argumentos posicionais. O termo `args` é uma convenção, mas o asterisco (*) é o que realmente faz a mágica acontecer, pois indica que a função pode aceitar um número arbitrário de argumentos posicionais.\n",
    "\n",
    "Aqui está um exemplo simples para ilustrar como `*args` funciona:\n",
    "\n",
    "```python\n",
    "def minha_funcao(*args):\n",
    "    for arg in args:\n",
    "        print(arg)\n",
    "\n",
    "minha_funcao(1, 2, 3, 4, 5)\n",
    "```\n",
    "\n",
    "Neste exemplo, `*args` permite que a função `minha_funcao` aceite qualquer número de argumentos posicionais. Quando chamamos `minha_funcao(1, 2, 3, 4, 5)`, os argumentos 1, 2, 3, 4 e 5 são empacotados em uma tupla chamada `args`. Dentro da função, podemos iterar sobre essa tupla para acessar cada argumento individualmente.\n",
    "\n",
    "Agora, vamos dar uma olhada em outro exemplo mais prático:\n",
    "\n",
    "```python\n",
    "def soma(*args):\n",
    "    total = 0\n",
    "    for num in args:\n",
    "        total += num\n",
    "    return total\n",
    "\n",
    "print(soma(1, 2, 3, 4, 5))  # Saída: 15\n",
    "```\n",
    "\n",
    "Neste exemplo, `*args` permite que a função `soma` aceite um número variável de argumentos posicionais e os some todos, retornando o resultado.\n",
    "\n",
    "Outra aplicação comum de `*args` é para passar argumentos de uma função para outra. Aqui está um exemplo:\n",
    "\n",
    "```python\n",
    "def funcao1(*args):\n",
    "    outra_funcao(*args)\n",
    "\n",
    "def outra_funcao(a, b, c):\n",
    "    print(f'a = {a}, b = {b}, c = {c}')\n",
    "\n",
    "funcao1(1, 2, 3)\n",
    "```\n",
    "\n",
    "Neste exemplo, `funcao1` recebe os argumentos `1`, `2` e `3` através de `*args` e os repassa para `outra_funcao`, que espera exatamente três argumentos.\n",
    "\n",
    "Em resumo, `*args` é uma ferramenta poderosa em Python para lidar com um número variável de argumentos posicionais em funções. Isso torna o código mais flexível e permite que as funções sejam reutilizadas com diferentes números de argumentos."
   ]
  },
  {
   "cell_type": "code",
   "execution_count": null,
   "metadata": {},
   "outputs": [],
   "source": []
  },
  {
   "cell_type": "code",
   "execution_count": 9,
   "metadata": {},
   "outputs": [
    {
     "name": "stdout",
     "output_type": "stream",
     "text": [
      "10\n",
      "6\n",
      "4\n",
      "2\n",
      "\n",
      "\n",
      "2\n",
      "4\n",
      "6\n",
      "8\n",
      "10\n",
      "\n",
      "Utilizando o For\n",
      "6\n"
     ]
    }
   ],
   "source": [
    "#Entendendo *args\n",
    "#*args e um parametro especial em python onde posso chama varios argumentos\n",
    "\n",
    "def soma(*args):\n",
    "    return sum(args)\n",
    "\n",
    "print(soma(1, 2, 3, 4))\n",
    "print(soma(1, 2, 3))\n",
    "print(soma(2, 2))\n",
    "print(soma(2))\n",
    "\n",
    "print('\\n')\n",
    "\n",
    "\n",
    "for c in range(1, 6):\n",
    "    print(soma(c+c))\n",
    "    \n",
    "print('\\nUtilizando o For')\n",
    "def soma_2(*args):\n",
    "    total = 0\n",
    "    for numero in args:\n",
    "        total += numero\n",
    "    return total\n",
    "\n",
    "print(soma_2(1, 2, 3))"
   ]
  },
  {
   "cell_type": "code",
   "execution_count": null,
   "metadata": {},
   "outputs": [],
   "source": []
  },
  {
   "cell_type": "code",
   "execution_count": null,
   "metadata": {},
   "outputs": [],
   "source": []
  },
  {
   "cell_type": "markdown",
   "metadata": {},
   "source": [
    "### <font color='blue'><strong>(**kwargs )</strong></font>"
   ]
  },
  {
   "cell_type": "markdown",
   "metadata": {},
   "source": [
    "Em Python, `**kwargs` é um parâmetro especial que permite passar um número arbitrário de argumentos nomeados para uma função. Assim como `*args`, `**kwargs` é uma convenção, e o duplo asterisco (**) é o que habilita a funcionalidade.\n",
    "\n",
    "Enquanto `*args` coleta argumentos posicionais em uma tupla, `**kwargs` coleta argumentos nomeados em um dicionário.\n",
    "\n",
    "Vamos ver um exemplo para entender melhor como `**kwargs` funciona:\n",
    "\n",
    "```python\n",
    "def minha_funcao(**kwargs):\n",
    "    for chave, valor in kwargs.items():\n",
    "        print(f'{chave}: {valor}')\n",
    "\n",
    "minha_funcao(nome='Alice', idade=30, cidade='São Paulo')\n",
    "```\n",
    "\n",
    "Neste exemplo, `**kwargs` permite que a função `minha_funcao` aceite um número variável de argumentos nomeados. Quando chamamos `minha_funcao(nome='Alice', idade=30, cidade='São Paulo')`, os argumentos nomeados são empacotados em um dicionário chamado `kwargs`. Dentro da função, podemos iterar sobre esse dicionário para acessar cada par chave-valor.\n",
    "\n",
    "Agora, vamos ver outro exemplo mais prático:\n",
    "\n",
    "```python\n",
    "def criar_dicionario(**kwargs):\n",
    "    return kwargs\n",
    "\n",
    "resultado = criar_dicionario(nome='João', idade=25, cidade='Rio de Janeiro')\n",
    "print(resultado)  # Saída: {'nome': 'João', 'idade': 25, 'cidade': 'Rio de Janeiro'}\n",
    "```\n",
    "\n",
    "Neste exemplo, a função `criar_dicionario` retorna um dicionário contendo os argumentos nomeados recebidos através de `**kwargs`.\n",
    "\n",
    "Assim como acontece com `*args`, você também pode combinar `**kwargs` com outros parâmetros em uma função. Por exemplo:\n",
    "\n",
    "```python\n",
    "def minha_funcao(nome, **kwargs):\n",
    "    print(f'Meu nome é {nome}')\n",
    "    for chave, valor in kwargs.items():\n",
    "        print(f'{chave}: {valor}')\n",
    "\n",
    "minha_funcao('Maria', idade=35, cidade='Belo Horizonte')\n",
    "```\n",
    "\n",
    "Neste exemplo, a função `minha_funcao` recebe um parâmetro obrigatório `nome` e um número variável de argumentos nomeados através de `**kwargs`.\n",
    "\n",
    "Em resumo, `**kwargs` é uma ferramenta poderosa em Python para lidar com um número variável de argumentos nomeados em funções, tornando o código mais flexível e permitindo uma maior reutilização das funções."
   ]
  },
  {
   "cell_type": "code",
   "execution_count": 10,
   "metadata": {},
   "outputs": [
    {
     "name": "stdout",
     "output_type": "stream",
     "text": [
      "{'marcos': 'Verde', 'Marcio': 'Marron'}\n"
     ]
    }
   ],
   "source": [
    "# Diferentemente dos *args o **kargs exige que utilizamos parametros nomeados\n",
    "#o **kwargs ira sempre cria um dicionario\n",
    "\n",
    "def cores(**kwargs):\n",
    "    print(kwargs)\n",
    "    \n",
    "cores(marcos='Verde', Marcio='Marron')"
   ]
  },
  {
   "cell_type": "code",
   "execution_count": 11,
   "metadata": {},
   "outputs": [
    {
     "name": "stdout",
     "output_type": "stream",
     "text": [
      "A Cor de Marcos e Preto\n",
      "A Cor de Ana e Violeta\n",
      "A Cor de Joao e Branco\n",
      "A Cor de Francisco e braco\n"
     ]
    }
   ],
   "source": [
    "def cor(**kwargs):\n",
    "    for pessoa, cor in kwargs.items():\n",
    "        print(f'A Cor de {pessoa.title()} e {cor}')\n",
    "        \n",
    "cor(marcos='Preto', ana='Violeta', Joao='Branco')\n",
    "cor(Francisco='braco')"
   ]
  },
  {
   "cell_type": "code",
   "execution_count": null,
   "metadata": {},
   "outputs": [],
   "source": []
  },
  {
   "cell_type": "code",
   "execution_count": null,
   "metadata": {},
   "outputs": [],
   "source": []
  },
  {
   "cell_type": "markdown",
   "metadata": {},
   "source": [
    "# **Continuação Estudo de Funções**"
   ]
  },
  {
   "cell_type": "code",
   "execution_count": 12,
   "metadata": {},
   "outputs": [
    {
     "name": "stdout",
     "output_type": "stream",
     "text": [
      "Variavel Global\n",
      "3\n"
     ]
    }
   ],
   "source": [
    "#Escopo\n",
    "\n",
    "\"\"\"\n",
    "Escopo de funções em Python\n",
    "Escopo significa o local onde aquele código pode atingir.\n",
    "Existe o escopo global e local.\n",
    "O escopo global é o escopo onde todo o código é alcançavel.\n",
    "O escopo local é o escopo onde apenas nomes do mesmo local\n",
    "podem ser alcançados.\n",
    "\"\"\"\n",
    "\n",
    "V_global = 'Variavel Global'\n",
    "\n",
    "def teste(a, b):\n",
    "    local = a + b\n",
    "    return local\n",
    "\n",
    "def escopo():\n",
    "    print(V_global)\n",
    "    \n",
    "escopo()\n",
    "\n",
    "print(teste(1, 2))"
   ]
  },
  {
   "cell_type": "code",
   "execution_count": 13,
   "metadata": {},
   "outputs": [
    {
     "name": "stdout",
     "output_type": "stream",
     "text": [
      "15\n",
      "14\n",
      "2\n",
      "25\n"
     ]
    }
   ],
   "source": [
    "#Args\n",
    "def soma(*args):\n",
    "    total = 0\n",
    "    for numero in args:\n",
    "        total += numero\n",
    "    return total\n",
    "\n",
    "print(soma(1, 2, 3, 4, 5))\n",
    "print(soma(5, 8, 1))\n",
    "print(soma(2))\n",
    "print(soma(4*5, 5))"
   ]
  },
  {
   "cell_type": "code",
   "execution_count": 14,
   "metadata": {},
   "outputs": [
    {
     "name": "stdout",
     "output_type": "stream",
     "text": [
      "30\n"
     ]
    }
   ],
   "source": [
    "#Multiplica\n",
    "def mult(*args):\n",
    "    cont = 1\n",
    "    for numero in args:\n",
    "        cont *= numero\n",
    "    return cont\n",
    "\n",
    "print(mult(3, 5, 2))"
   ]
  },
  {
   "cell_type": "code",
   "execution_count": 15,
   "metadata": {},
   "outputs": [
    {
     "name": "stdout",
     "output_type": "stream",
     "text": [
      "O Numero 1 e Impar\n",
      "O Numero 3 e Impar\n",
      "O Numero 4 e Par\n",
      "O Numero 5 e Impar\n",
      "None\n"
     ]
    }
   ],
   "source": [
    "# Par ou impa\n",
    "def par_impar(*args):\n",
    "    cont = ''\n",
    "    for n in args:\n",
    "        if n % 2 == 0:\n",
    "            print(f'O Numero {n} e Par')\n",
    "        else:\n",
    "            print(f'O Numero {n} e Impar')\n",
    "            \n",
    "print(par_impar(1, 3, 4, 5))"
   ]
  },
  {
   "cell_type": "code",
   "execution_count": 16,
   "metadata": {},
   "outputs": [
    {
     "name": "stdout",
     "output_type": "stream",
     "text": [
      "Bom dia, Francisco!\n"
     ]
    }
   ],
   "source": [
    "#Closure e funoes que retornam outras funcoes\n",
    "\n",
    "def criar_saudacao(saudacao, nome):\n",
    "    def saudar():\n",
    "        return f'{saudacao}, {nome}!'\n",
    "    return saudar\n",
    "s1 = criar_saudacao('Bom dia', 'Francisco')\n",
    "print(s1())"
   ]
  },
  {
   "cell_type": "code",
   "execution_count": 17,
   "metadata": {},
   "outputs": [
    {
     "name": "stdout",
     "output_type": "stream",
     "text": [
      "Duplo 8\n",
      "Triplo 9\n",
      "Quadruplo 24\n",
      "Quintuplo 25\n"
     ]
    }
   ],
   "source": [
    "def multiplicador(multiplica):\n",
    "    def multiplo(numero):\n",
    "        return numero * multiplica\n",
    "    return multiplo\n",
    "\n",
    "duplo = multiplicador(2)\n",
    "triplo = multiplicador(3)\n",
    "quadruplo = multiplicador(4)\n",
    "quintuplo = multiplicador(5)\n",
    "\n",
    "print(f'Duplo {duplo(4)}')\n",
    "print(f'Triplo {triplo(3)}')\n",
    "print(f'Quadruplo {quadruplo(6)}')\n",
    "print(f'Quintuplo {quintuplo(5)}')"
   ]
  },
  {
   "cell_type": "code",
   "execution_count": null,
   "metadata": {},
   "outputs": [],
   "source": []
  },
  {
   "cell_type": "code",
   "execution_count": null,
   "metadata": {},
   "outputs": [],
   "source": []
  }
 ],
 "metadata": {
  "kernelspec": {
   "display_name": "base",
   "language": "python",
   "name": "python3"
  },
  "language_info": {
   "codemirror_mode": {
    "name": "ipython",
    "version": 3
   },
   "file_extension": ".py",
   "mimetype": "text/x-python",
   "name": "python",
   "nbconvert_exporter": "python",
   "pygments_lexer": "ipython3",
   "version": "3.11.7"
  }
 },
 "nbformat": 4,
 "nbformat_minor": 2
}
