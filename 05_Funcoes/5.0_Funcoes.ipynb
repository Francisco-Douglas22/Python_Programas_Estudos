{
 "cells": [
  {
   "cell_type": "markdown",
   "metadata": {},
   "source": [
    "# <font color='green'>***Funções em Python***</font>"
   ]
  },
  {
   "cell_type": "markdown",
   "metadata": {},
   "source": [
    "Em Python, funções são blocos de código reutilizáveis que realizam uma tarefa específica. Elas são definidas usando a palavra-chave `def`, seguida pelo nome da função, uma lista de parâmetros entre parênteses e um bloco de código indentado que define o que a função faz. As funções podem ter um valor de retorno, que é especificado usando a palavra-chave `return`.\n",
    "\n",
    "Vamos explorar detalhadamente os diferentes aspectos das funções em Python, incluindo sua definição, parâmetros, valor de retorno e métodos associados.\n",
    "\n",
    "### Definição de Funções:\n",
    "\n",
    "Em Python, uma função é definida usando a seguinte sintaxe:\n",
    "\n",
    "```python\n",
    "def nome_da_funcao(parametros):\n",
    "    # Corpo da função\n",
    "    # Realiza alguma operação\n",
    "    return valor_de_retorno\n",
    "```\n",
    "\n",
    "### Parâmetros:\n",
    "\n",
    "Os parâmetros são valores que podem ser passados para uma função quando ela é chamada. Uma função pode ter zero ou mais parâmetros. Eles são especificados entre parênteses na definição da função. Os parâmetros podem ter valores padrão, que são usados quando nenhum valor é fornecido durante a chamada da função.\n",
    "\n",
    "### Valor de Retorno:\n",
    "\n",
    "Uma função pode retornar um valor usando a palavra-chave `return`. Se uma função não especificar um valor de retorno, ela retorna `None` por padrão. Uma função pode retornar múltiplos valores como uma tupla.\n",
    "\n",
    "### Métodos Associados às Funções:\n",
    "\n",
    "1. **Docstring (`__doc__`)**: Permite documentar a função, fornecendo uma string de documentação. Ela pode ser acessada usando o atributo `__doc__`.\n",
    "\n",
    "2. **Nome (`__name__`)**: Fornece o nome da função como uma string. Útil para introspecção.\n",
    "\n",
    "3. **Código de byte (`__code__`)**: Retorna um objeto de código que representa o bytecode da função.\n",
    "\n",
    "4. **Padrão de parâmetros (`__defaults__`)**: Retorna uma tupla contendo os valores padrão dos parâmetros da função.\n",
    "\n",
    "5. **Assinatura (`__signature__`)**: Retorna um objeto `Signature` que representa a assinatura da função, incluindo os parâmetros e suas anotações.\n",
    "\n",
    "6. **Annotations (`__annotations__`)**: Retorna um dicionário contendo as anotações dos parâmetros e do valor de retorno da função.\n",
    "\n",
    "### Exemplos:\n",
    "\n",
    "```python\n",
    "# Definição de uma função simples\n",
    "def saudacao(nome):\n",
    "    return f\"Olá, {nome}!\"\n",
    "\n",
    "# Chamando a função e imprimindo o valor de retorno\n",
    "print(saudacao(\"Mundo\"))\n",
    "\n",
    "# Acessando a docstring da função\n",
    "print(saudacao.__doc__)\n",
    "\n",
    "# Acessando o nome da função\n",
    "print(saudacao.__name__)\n",
    "\n",
    "# Acessando a assinatura da função\n",
    "import inspect\n",
    "print(inspect.signature(saudacao))\n",
    "```\n",
    "\n",
    "Saída:\n",
    "```\n",
    "Olá, Mundo!\n",
    "None\n",
    "saudacao(nome)\n",
    "```\n",
    "\n",
    "### Uso Comum:\n",
    "\n",
    "As funções são uma parte essencial da programação em Python e são amplamente utilizadas para modularizar o código, promover a reutilização e tornar o código mais legível e organizado. Elas são usadas em muitos aspectos da programação, desde tarefas simples até algoritmos complexos.\n",
    "\n",
    "Em resumo, as funções em Python são blocos de código reutilizáveis que realizam uma tarefa específica. Elas podem ter parâmetros, um valor de retorno e vários métodos associados que fornecem informações sobre a função. As funções são uma parte fundamental da linguagem Python e são usadas extensivamente em desenvolvimento de software."
   ]
  },
  {
   "cell_type": "markdown",
   "metadata": {},
   "source": [
    "## **Exemplos**"
   ]
  },
  {
   "cell_type": "markdown",
   "metadata": {},
   "source": [
    "Claro! Vou fornecer exemplos de funções em Python, cobrindo diferentes aspectos, como definição, parâmetros, valor de retorno e métodos associados.\n",
    "\n",
    "### Exemplo 1: Função Simples\n",
    "\n",
    "Vamos começar com uma função simples que recebe um nome como parâmetro e retorna uma saudação.\n",
    "\n",
    "```python\n",
    "def saudacao(nome):\n",
    "    \"\"\"Retorna uma saudação com o nome fornecido.\"\"\"\n",
    "    return f\"Olá, {nome}!\"\n",
    "\n",
    "# Chamando a função e imprimindo o valor de retorno\n",
    "print(saudacao(\"Mundo\"))\n",
    "```\n",
    "\n",
    "Saída:\n",
    "```\n",
    "Olá, Mundo!\n",
    "```\n",
    "\n",
    "### Exemplo 2: Função com Parâmetros Padrão\n",
    "\n",
    "Vamos criar uma função que calcula a área de um retângulo. Esta função terá parâmetros padrão para o comprimento e a largura.\n",
    "\n",
    "```python\n",
    "def area_retangulo(comprimento=1, largura=1):\n",
    "    \"\"\"Calcula a área de um retângulo.\"\"\"\n",
    "    return comprimento * largura\n",
    "\n",
    "# Chamando a função com parâmetros padrão\n",
    "print(\"Área do retângulo:\", area_retangulo())\n",
    "\n",
    "# Chamando a função com valores específicos\n",
    "print(\"Área do retângulo:\", area_retangulo(5, 3))\n",
    "```\n",
    "\n",
    "Saída:\n",
    "```\n",
    "Área do retângulo: 1\n",
    "Área do retângulo: 15\n",
    "```\n",
    "\n",
    "### Exemplo 3: Função com Múltiplos Valores de Retorno\n",
    "\n",
    "Vamos criar uma função que retorna múltiplos valores, neste caso, o quociente e o resto da divisão entre dois números.\n",
    "\n",
    "```python\n",
    "def divisao_e_resto(dividendo, divisor):\n",
    "    \"\"\"Retorna o quociente e o resto da divisão.\"\"\"\n",
    "    quociente = dividendo // divisor\n",
    "    resto = dividendo % divisor\n",
    "    return quociente, resto\n",
    "\n",
    "# Chamando a função e armazenando os valores de retorno em variáveis separadas\n",
    "quociente, resto = divisao_e_resto(10, 3)\n",
    "print(\"Quociente:\", quociente)\n",
    "print(\"Resto:\", resto)\n",
    "```\n",
    "\n",
    "Saída:\n",
    "```\n",
    "Quociente: 3\n",
    "Resto: 1\n",
    "```\n",
    "\n",
    "### Exemplo 4: Função com Anotações de Tipos\n",
    "\n",
    "Vamos criar uma função que recebe dois inteiros como parâmetros e retorna um inteiro.\n",
    "\n",
    "```python\n",
    "def soma(a: int, b: int) -> int:\n",
    "    \"\"\"Retorna a soma de dois números inteiros.\"\"\"\n",
    "    return a + b\n",
    "\n",
    "# Chamando a função e imprimindo o valor de retorno\n",
    "print(\"Soma:\", soma(5, 3))\n",
    "```\n",
    "\n",
    "Saída:\n",
    "```\n",
    "Soma: 8\n",
    "```\n",
    "\n",
    "Estes são apenas alguns exemplos básicos de funções em Python. Elas podem ser usadas para realizar uma ampla variedade de tarefas e são uma parte fundamental da programação em Python."
   ]
  },
  {
   "cell_type": "code",
   "execution_count": null,
   "metadata": {},
   "outputs": [],
   "source": []
  },
  {
   "cell_type": "code",
   "execution_count": 1,
   "metadata": {},
   "outputs": [
    {
     "name": "stdout",
     "output_type": "stream",
     "text": [
      "Olá Francisco Douglas seja bem vindo\n",
      "Olá Laurice Mota seja bem vindo\n",
      "Olá Programando em Python seja bem vindo\n"
     ]
    }
   ],
   "source": [
    "#Definindo Funções em Python\n",
    "#Funções são pequenos trechos de codigos que realizam tarefas especificas\n",
    "def saudacao(nome):\n",
    "    \"\"\"\n",
    "    Função que imprime uma saudação para o nome fornecido.\n",
    "\n",
    "    Parâmetros:\n",
    "    nome (str): O nome para o qual a saudação será dirigida.\n",
    "    \"\"\"\n",
    "    print(f\"Olá {nome} seja bem-vindo\")\n",
    "\n",
    "# Chamadas da função saudacao com diferentes nomes\n",
    "saudacao('Francisco Douglas')\n",
    "saudacao('Laurice Mota')\n",
    "saudacao('Programando em Python')\n"
   ]
  },
  {
   "cell_type": "code",
   "execution_count": 2,
   "metadata": {},
   "outputs": [
    {
     "name": "stdout",
     "output_type": "stream",
     "text": [
      "4\n",
      "9\n",
      "16\n",
      "25\n"
     ]
    }
   ],
   "source": [
    "#Funções com Retorno\n",
    "def quadrado(q):\n",
    "    return q * q\n",
    "\n",
    "print(quadrado(2))\n",
    "print(quadrado(3))\n",
    "print(quadrado(4))\n",
    "print(quadrado(5))\n",
    "\n"
   ]
  },
  {
   "cell_type": "code",
   "execution_count": 3,
   "metadata": {},
   "outputs": [
    {
     "data": {
      "text/plain": [
       "'Cara'"
      ]
     },
     "execution_count": 3,
     "metadata": {},
     "output_type": "execute_result"
    }
   ],
   "source": [
    "from random import random\n",
    "\n",
    "def joga_moeda():\n",
    "    \"\"\"\n",
    "    Simula o lançamento de uma moeda e retorna o resultado.\n",
    "\n",
    "    Retorna:\n",
    "    str: 'Cara' se o valor gerado for maior que 0.5, 'Coroa' caso contrário.\n",
    "    \"\"\"\n",
    "    valor = random()\n",
    "    if valor > 0.5:\n",
    "        return 'Cara'\n",
    "    else:\n",
    "        return 'Coroa'\n",
    "\n",
    "# Chamada da função para simular o lançamento da moeda\n",
    "joga_moeda()\n"
   ]
  },
  {
   "cell_type": "code",
   "execution_count": 4,
   "metadata": {},
   "outputs": [
    {
     "name": "stdout",
     "output_type": "stream",
     "text": [
      "IMPA\n",
      "PAR\n"
     ]
    }
   ],
   "source": [
    "def par_impa(n):\n",
    "    \"\"\"\n",
    "    Verifica se um número é par ou ímpar.\n",
    "\n",
    "    Parâmetros:\n",
    "    n (int): O número a ser verificado.\n",
    "\n",
    "    Retorna:\n",
    "    str: 'PAR' se o número for par, 'IMPAR' caso contrário.\n",
    "    \"\"\"\n",
    "    if n % 2 == 0:\n",
    "        return 'PAR'\n",
    "    return 'IMPAR'\n",
    "\n",
    "# Exemplos de uso da função\n",
    "print(par_impa(3))  # Saída: IMPAR\n",
    "print(par_impa(2))  # Saída: PAR\n"
   ]
  },
  {
   "cell_type": "code",
   "execution_count": 5,
   "metadata": {},
   "outputs": [
    {
     "name": "stdout",
     "output_type": "stream",
     "text": [
      "Quadrado 8\n",
      "32\n",
      "9\n",
      "1024\n"
     ]
    }
   ],
   "source": [
    "#Funções com Parametros padroes\n",
    "#Funçoes onde a passagem de parametros seja opcional\n",
    "\n",
    "#Exemplo de passagem obrigatoria\n",
    "def quadrado(numero):\n",
    "    \"\"\"\n",
    "    Calcula o quadrado de um número.\n",
    "\n",
    "    Parâmetros:\n",
    "    numero (int ou float): O número para o qual deseja-se calcular o quadrado.\n",
    "\n",
    "    Retorna:\n",
    "    int ou float: O quadrado do número fornecido.\n",
    "    \"\"\"\n",
    "    return numero * numero\n",
    "\n",
    "print(\"Quadrado:\", quadrado(4))  # Saída: 16\n",
    "\n",
    "def elevado_a(base, expoente=2):\n",
    "    \"\"\"\n",
    "    Calcula a potência de um número dado uma base e um expoente.\n",
    "\n",
    "    Parâmetros:\n",
    "    base (int ou float): A base da potência.\n",
    "    expoente (int): O expoente para o qual elevar a base (padrão é 2).\n",
    "\n",
    "    Retorna:\n",
    "    int ou float: O resultado da base elevada ao expoente.\n",
    "    \"\"\"\n",
    "    return base ** expoente\n",
    "\n",
    "print(elevado_a(2, 5))  # Saída: 32\n",
    "print(elevado_a(3))      # Saída: 9 (elevado a 2, por padrão)\n",
    "print(elevado_a(4, 5))   # Saída: 1024\n"
   ]
  },
  {
   "cell_type": "code",
   "execution_count": 6,
   "metadata": {},
   "outputs": [
    {
     "name": "stdout",
     "output_type": "stream",
     "text": [
      "Eu pensei que era Python\n",
      "Bem-Vindo\n",
      "Ola Francisco\n"
     ]
    }
   ],
   "source": [
    "def mostra_info(nome='Python', instrutor=False):\n",
    "    \"\"\"\n",
    "    Mostra uma mensagem com base no nome e na condição do instrutor.\n",
    "\n",
    "    Parâmetros:\n",
    "    nome (str): O nome para o qual a mensagem será exibida (padrão é 'Python').\n",
    "    instrutor (bool): Um valor booleano que indica se a pessoa é um instrutor ou não (padrão é False).\n",
    "\n",
    "    Retorna:\n",
    "    str: Uma mensagem personalizada com base nos parâmetros fornecidos.\n",
    "    \"\"\"\n",
    "    if nome == 'Python' and instrutor:\n",
    "        return 'Bem-vindo'\n",
    "    elif nome == 'Python':\n",
    "        return 'Eu pensei que era Python'\n",
    "    return f'Olá {nome}'\n",
    "\n",
    "# Exemplos de uso da função\n",
    "print(mostra_info())               # Saída: Eu pensei que era Python\n",
    "print(mostra_info(instrutor=True)) # Saída: Bem-vindo\n",
    "print(mostra_info('Francisco'))    # Saída: Olá Francisco\n"
   ]
  },
  {
   "cell_type": "code",
   "execution_count": 7,
   "metadata": {},
   "outputs": [
    {
     "name": "stdout",
     "output_type": "stream",
     "text": [
      "5\n",
      "-1\n",
      "-1\n"
     ]
    }
   ],
   "source": [
    "#Funcoes\n",
    "def soma(num1, num2):\n",
    "    \"\"\"\n",
    "    Soma dois números.\n",
    "\n",
    "    Parâmetros:\n",
    "    num1 (int ou float): O primeiro número.\n",
    "    num2 (int ou float): O segundo número.\n",
    "\n",
    "    Retorna:\n",
    "    int ou float: A soma dos dois números.\n",
    "    \"\"\"\n",
    "    return num1 + num2\n",
    "\n",
    "def mat(num1, num2, fun=soma):\n",
    "    \"\"\"\n",
    "    Realiza uma operação matemática entre dois números.\n",
    "\n",
    "    Parâmetros:\n",
    "    num1 (int ou float): O primeiro número.\n",
    "    num2 (int ou float): O segundo número.\n",
    "    fun (função): A função que define a operação matemática (padrão é soma).\n",
    "\n",
    "    Retorna:\n",
    "    int ou float: O resultado da operação matemática.\n",
    "    \"\"\"\n",
    "    return fun(num1, num2)\n",
    "\n",
    "def subtracao(num1, num2):\n",
    "    \"\"\"\n",
    "    Subtrai dois números.\n",
    "\n",
    "    Parâmetros:\n",
    "    num1 (int ou float): O número do qual será subtraído.\n",
    "    num2 (int ou float): O número a ser subtraído.\n",
    "\n",
    "    Retorna:\n",
    "    int ou float: A diferença entre os dois números (num1 - num2).\n",
    "    \"\"\"\n",
    "    return num1 - num2\n",
    "\n",
    "# Exemplos de uso das funções\n",
    "print(mat(2, 3))           # Saída: 5 (soma padrão)\n",
    "print(mat(2, 3, subtracao)) # Saída: -1 (subtração)\n",
    "print(subtracao(2, 3))      # Saída: -1\n"
   ]
  },
  {
   "cell_type": "code",
   "execution_count": 8,
   "metadata": {},
   "outputs": [
    {
     "name": "stdout",
     "output_type": "stream",
     "text": [
      "900\n",
      "Help on function calcula_area in module __main__:\n",
      "\n",
      "calcula_area(altura=0, largura=0)\n",
      "    Esta função calcula a area total de um terreno\n",
      "\n",
      "None\n",
      "\n",
      "    Esta função calcula a area total de um terreno\n",
      "    \n"
     ]
    }
   ],
   "source": [
    "#Documentando Funcoes com DocString\n",
    "def calcula_area(altura=0, largura=0):\n",
    "    '''\n",
    "    Calcula a área total de um terreno.\n",
    "\n",
    "    Parâmetros:\n",
    "    altura (float): A altura do terreno (padrão é 0).\n",
    "    largura (float): A largura do terreno (padrão é 0).\n",
    "\n",
    "    Retorna:\n",
    "    float: A área total do terreno.\n",
    "    '''\n",
    "    return altura * largura\n",
    "\n",
    "print(calcula_area(45, 20))  # Saída: 900.0\n",
    "print(help(calcula_area))     # Exibe a documentação da função\n",
    "\n",
    "# Método especial para acessar a documentação\n",
    "print(calcula_area.__doc__)  # Saída: Esta função calcula a area total de um terreno\n"
   ]
  },
  {
   "cell_type": "code",
   "execution_count": null,
   "metadata": {},
   "outputs": [],
   "source": []
  },
  {
   "cell_type": "code",
   "execution_count": null,
   "metadata": {},
   "outputs": [],
   "source": []
  },
  {
   "cell_type": "markdown",
   "metadata": {},
   "source": [
    "### ***(*args)***"
   ]
  },
  {
   "cell_type": "markdown",
   "metadata": {},
   "source": [
    "Em Python, `*args` é um parâmetro especial que pode ser passado para funções para permitir que elas recebam um número variável de argumentos posicionais. O termo `args` é uma convenção, mas o asterisco (*) é o que realmente faz a mágica acontecer, pois indica que a função pode aceitar um número arbitrário de argumentos posicionais.\n",
    "\n",
    "Aqui está um exemplo simples para ilustrar como `*args` funciona:\n",
    "\n",
    "```python\n",
    "def minha_funcao(*args):\n",
    "    for arg in args:\n",
    "        print(arg)\n",
    "\n",
    "minha_funcao(1, 2, 3, 4, 5)\n",
    "```\n",
    "\n",
    "Neste exemplo, `*args` permite que a função `minha_funcao` aceite qualquer número de argumentos posicionais. Quando chamamos `minha_funcao(1, 2, 3, 4, 5)`, os argumentos 1, 2, 3, 4 e 5 são empacotados em uma tupla chamada `args`. Dentro da função, podemos iterar sobre essa tupla para acessar cada argumento individualmente.\n",
    "\n",
    "Agora, vamos dar uma olhada em outro exemplo mais prático:\n",
    "\n",
    "```python\n",
    "def soma(*args):\n",
    "    total = 0\n",
    "    for num in args:\n",
    "        total += num\n",
    "    return total\n",
    "\n",
    "print(soma(1, 2, 3, 4, 5))  # Saída: 15\n",
    "```\n",
    "\n",
    "Neste exemplo, `*args` permite que a função `soma` aceite um número variável de argumentos posicionais e os some todos, retornando o resultado.\n",
    "\n",
    "Outra aplicação comum de `*args` é para passar argumentos de uma função para outra. Aqui está um exemplo:\n",
    "\n",
    "```python\n",
    "def funcao1(*args):\n",
    "    outra_funcao(*args)\n",
    "\n",
    "def outra_funcao(a, b, c):\n",
    "    print(f'a = {a}, b = {b}, c = {c}')\n",
    "\n",
    "funcao1(1, 2, 3)\n",
    "```\n",
    "\n",
    "Neste exemplo, `funcao1` recebe os argumentos `1`, `2` e `3` através de `*args` e os repassa para `outra_funcao`, que espera exatamente três argumentos.\n",
    "\n",
    "Em resumo, `*args` é uma ferramenta poderosa em Python para lidar com um número variável de argumentos posicionais em funções. Isso torna o código mais flexível e permite que as funções sejam reutilizadas com diferentes números de argumentos."
   ]
  },
  {
   "cell_type": "code",
   "execution_count": null,
   "metadata": {},
   "outputs": [],
   "source": []
  },
  {
   "cell_type": "code",
   "execution_count": 9,
   "metadata": {},
   "outputs": [
    {
     "name": "stdout",
     "output_type": "stream",
     "text": [
      "10\n",
      "6\n",
      "4\n",
      "2\n",
      "\n",
      "\n",
      "2\n",
      "4\n",
      "6\n",
      "8\n",
      "10\n",
      "\n",
      "Utilizando o For\n",
      "6\n"
     ]
    }
   ],
   "source": [
    "#Entendendo *args\n",
    "#*args e um parametro especial em python onde posso chama varios argumentos\n",
    "\n",
    "def soma(*args):\n",
    "    '''\n",
    "    Calcula a soma de todos os argumentos fornecidos.\n",
    "\n",
    "    Parâmetros:\n",
    "    *args (float): Argumentos numéricos para serem somados.\n",
    "\n",
    "    Retorna:\n",
    "    float: A soma dos números fornecidos.\n",
    "    '''\n",
    "    return sum(args)\n",
    "\n",
    "print(soma(1, 2, 3, 4))  # Saída: 10\n",
    "print(soma(1, 2, 3))      # Saída: 6\n",
    "print(soma(2, 2))         # Saída: 4\n",
    "print(soma(2))            # Saída: 2\n",
    "\n",
    "print('\\n')\n",
    "\n",
    "for c in range(1, 6):\n",
    "    print(soma(c + c))\n",
    "\n",
    "print('\\nUtilizando o For')\n",
    "\n",
    "def soma_2(*args):\n",
    "    '''\n",
    "    Calcula a soma de todos os argumentos fornecidos usando um loop for.\n",
    "\n",
    "    Parâmetros:\n",
    "    *args (float): Argumentos numéricos para serem somados.\n",
    "\n",
    "    Retorna:\n",
    "    float: A soma dos números fornecidos.\n",
    "    '''\n",
    "    total = 0\n",
    "    for numero in args:\n",
    "        total += numero\n",
    "    return total\n",
    "\n",
    "print(soma_2(1, 2, 3))  # Saída: 6\n"
   ]
  },
  {
   "cell_type": "code",
   "execution_count": null,
   "metadata": {},
   "outputs": [],
   "source": []
  },
  {
   "cell_type": "code",
   "execution_count": null,
   "metadata": {},
   "outputs": [],
   "source": []
  },
  {
   "cell_type": "markdown",
   "metadata": {},
   "source": [
    "### <font color='blue'><strong>(**kwargs )</strong></font>"
   ]
  },
  {
   "cell_type": "markdown",
   "metadata": {},
   "source": [
    "Em Python, `**kwargs` é um parâmetro especial que permite passar um número arbitrário de argumentos nomeados para uma função. Assim como `*args`, `**kwargs` é uma convenção, e o duplo asterisco (**) é o que habilita a funcionalidade.\n",
    "\n",
    "Enquanto `*args` coleta argumentos posicionais em uma tupla, `**kwargs` coleta argumentos nomeados em um dicionário.\n",
    "\n",
    "Vamos ver um exemplo para entender melhor como `**kwargs` funciona:\n",
    "\n",
    "```python\n",
    "def minha_funcao(**kwargs):\n",
    "    for chave, valor in kwargs.items():\n",
    "        print(f'{chave}: {valor}')\n",
    "\n",
    "minha_funcao(nome='Alice', idade=30, cidade='São Paulo')\n",
    "```\n",
    "\n",
    "Neste exemplo, `**kwargs` permite que a função `minha_funcao` aceite um número variável de argumentos nomeados. Quando chamamos `minha_funcao(nome='Alice', idade=30, cidade='São Paulo')`, os argumentos nomeados são empacotados em um dicionário chamado `kwargs`. Dentro da função, podemos iterar sobre esse dicionário para acessar cada par chave-valor.\n",
    "\n",
    "Agora, vamos ver outro exemplo mais prático:\n",
    "\n",
    "```python\n",
    "def criar_dicionario(**kwargs):\n",
    "    return kwargs\n",
    "\n",
    "resultado = criar_dicionario(nome='João', idade=25, cidade='Rio de Janeiro')\n",
    "print(resultado)  # Saída: {'nome': 'João', 'idade': 25, 'cidade': 'Rio de Janeiro'}\n",
    "```\n",
    "\n",
    "Neste exemplo, a função `criar_dicionario` retorna um dicionário contendo os argumentos nomeados recebidos através de `**kwargs`.\n",
    "\n",
    "Assim como acontece com `*args`, você também pode combinar `**kwargs` com outros parâmetros em uma função. Por exemplo:\n",
    "\n",
    "```python\n",
    "def minha_funcao(nome, **kwargs):\n",
    "    print(f'Meu nome é {nome}')\n",
    "    for chave, valor in kwargs.items():\n",
    "        print(f'{chave}: {valor}')\n",
    "\n",
    "minha_funcao('Maria', idade=35, cidade='Belo Horizonte')\n",
    "```\n",
    "\n",
    "Neste exemplo, a função `minha_funcao` recebe um parâmetro obrigatório `nome` e um número variável de argumentos nomeados através de `**kwargs`.\n",
    "\n",
    "Em resumo, `**kwargs` é uma ferramenta poderosa em Python para lidar com um número variável de argumentos nomeados em funções, tornando o código mais flexível e permitindo uma maior reutilização das funções."
   ]
  },
  {
   "cell_type": "code",
   "execution_count": 10,
   "metadata": {},
   "outputs": [
    {
     "name": "stdout",
     "output_type": "stream",
     "text": [
      "{'marcos': 'Verde', 'Marcio': 'Marron'}\n"
     ]
    }
   ],
   "source": [
    "# Diferentemente dos *args o **kargs exige que utilizamos parametros nomeados\n",
    "#o **kwargs ira sempre cria um dicionario\n",
    "\n",
    "def cores(**kwargs):\n",
    "    '''\n",
    "    Imprime um dicionário de cores e seus respectivos nomes.\n",
    "\n",
    "    Parâmetros:\n",
    "    **kwargs (str): Argumentos nomeados representando cores e seus nomes.\n",
    "\n",
    "    Exemplo de Uso:\n",
    "    cores(marcos='Verde', Marcio='Marron')\n",
    "    '''\n",
    "    print(kwargs)\n",
    "\n",
    "cores(marcos='Verde', Marcio='Marron')  # Saída: {'marcos': 'Verde', 'Marcio': 'Marron'}\n"
   ]
  },
  {
   "cell_type": "code",
   "execution_count": 11,
   "metadata": {},
   "outputs": [
    {
     "name": "stdout",
     "output_type": "stream",
     "text": [
      "A Cor de Marcos e Preto\n",
      "A Cor de Ana e Violeta\n",
      "A Cor de Joao e Branco\n",
      "A Cor de Francisco e braco\n"
     ]
    }
   ],
   "source": [
    "def cor(**kwargs):\n",
    "    '''\n",
    "    Imprime as cores associadas a cada pessoa.\n",
    "\n",
    "    Parâmetros:\n",
    "    **kwargs (str): Argumentos nomeados representando pessoas e suas cores favoritas.\n",
    "\n",
    "    Exemplo de Uso:\n",
    "    cor(marcos='Preto', ana='Violeta', Joao='Branco')\n",
    "    cor(Francisco='Branco')\n",
    "    '''\n",
    "    for pessoa, cor in kwargs.items():\n",
    "        print(f'A cor de {pessoa.title()} é {cor}')\n",
    "\n",
    "cor(marcos='Preto', ana='Violeta', Joao='Branco')  \n",
    "# Saída: A cor de Marcos é Preto, A cor de Ana é Violeta, A cor de Joao é Branco\n",
    "\n",
    "cor(Francisco='Branco')  \n",
    "# Saída: A cor de Francisco é Branco\n"
   ]
  },
  {
   "cell_type": "code",
   "execution_count": null,
   "metadata": {},
   "outputs": [],
   "source": []
  },
  {
   "cell_type": "code",
   "execution_count": null,
   "metadata": {},
   "outputs": [],
   "source": []
  },
  {
   "cell_type": "markdown",
   "metadata": {},
   "source": [
    "# **Continuação Estudo de Funções**"
   ]
  },
  {
   "cell_type": "code",
   "execution_count": 12,
   "metadata": {},
   "outputs": [
    {
     "name": "stdout",
     "output_type": "stream",
     "text": [
      "Variavel Global\n",
      "3\n"
     ]
    }
   ],
   "source": [
    "\"\"\"\n",
    "Escopo de funções em Python\n",
    "Escopo significa o local onde aquele código pode atingir.\n",
    "Existe o escopo global e local.\n",
    "O escopo global é o escopo onde todo o código é alcançável.\n",
    "O escopo local é o escopo onde apenas nomes do mesmo local\n",
    "podem ser alcançados.\n",
    "\"\"\"\n",
    "\n",
    "V_global = 'Variável Global'\n",
    "\n",
    "def teste(a, b):\n",
    "    \"\"\"\n",
    "    Retorna a soma de dois números.\n",
    "\n",
    "    Parâmetros:\n",
    "    a (int): O primeiro número.\n",
    "    b (int): O segundo número.\n",
    "\n",
    "    Retorna:\n",
    "    int: A soma dos dois números.\n",
    "    \"\"\"\n",
    "    local = a + b\n",
    "    return local\n",
    "\n",
    "def escopo():\n",
    "    \"\"\"\n",
    "    Imprime o valor da variável global V_global.\n",
    "    \"\"\"\n",
    "    print(V_global)\n",
    "    \n",
    "escopo()              # Saída: Variável Global\n",
    "print(teste(1, 2))    # Saída: 3\n"
   ]
  },
  {
   "cell_type": "code",
   "execution_count": 13,
   "metadata": {},
   "outputs": [
    {
     "name": "stdout",
     "output_type": "stream",
     "text": [
      "15\n",
      "14\n",
      "2\n",
      "25\n"
     ]
    }
   ],
   "source": [
    "# Args\n",
    "def soma(*args):\n",
    "    \"\"\"\n",
    "    Calcula a soma de todos os argumentos fornecidos.\n",
    "\n",
    "    Parâmetros:\n",
    "    *args (int ou float): Argumentos numéricos a serem somados.\n",
    "\n",
    "    Retorna:\n",
    "    int ou float: A soma dos números fornecidos.\n",
    "    \"\"\"\n",
    "    total = 0\n",
    "    for numero in args:\n",
    "        total += numero\n",
    "    return total\n",
    "\n",
    "print(soma(1, 2, 3, 4, 5))  # Saída: 15\n",
    "print(soma(5, 8, 1))        # Saída: 14\n",
    "print(soma(2))               # Saída: 2\n",
    "print(soma(4*5, 5))          # Saída: 25\n"
   ]
  },
  {
   "cell_type": "code",
   "execution_count": 14,
   "metadata": {},
   "outputs": [
    {
     "name": "stdout",
     "output_type": "stream",
     "text": [
      "30\n"
     ]
    }
   ],
   "source": [
    "# Multiplica\n",
    "def mult(*args):\n",
    "    \"\"\"\n",
    "    Calcula o produto de todos os argumentos fornecidos.\n",
    "\n",
    "    Parâmetros:\n",
    "    *args (int ou float): Argumentos numéricos a serem multiplicados.\n",
    "\n",
    "    Retorna:\n",
    "    int ou float: O produto dos números fornecidos.\n",
    "    \"\"\"\n",
    "    cont = 1\n",
    "    for numero in args:\n",
    "        cont *= numero\n",
    "    return cont\n",
    "\n",
    "print(mult(3, 5, 2))  # Saída: 30\n"
   ]
  },
  {
   "cell_type": "code",
   "execution_count": 15,
   "metadata": {},
   "outputs": [
    {
     "name": "stdout",
     "output_type": "stream",
     "text": [
      "O Numero 1 e Impar\n",
      "O Numero 3 e Impar\n",
      "O Numero 4 e Par\n",
      "O Numero 5 e Impar\n",
      "None\n"
     ]
    }
   ],
   "source": [
    "# Par ou Ímpar\n",
    "def par_impar(*args):\n",
    "    \"\"\"\n",
    "    Verifica se cada número fornecido é par ou ímpar.\n",
    "\n",
    "    Parâmetros:\n",
    "    *args (int): Argumentos numéricos a serem verificados.\n",
    "\n",
    "    Exemplo de Uso:\n",
    "    par_impar(1, 3, 4, 5)\n",
    "    \"\"\"\n",
    "    for n in args:\n",
    "        if n % 2 == 0:\n",
    "            print(f'O número {n} é Par')\n",
    "        else:\n",
    "            print(f'O número {n} é Ímpar')\n",
    "\n",
    "par_impar(1, 3, 4, 5)  # Saída: O número 1 é Ímpar, O número 3 é Ímpar, O número 4 é Par, O número 5 é Ímpar\n"
   ]
  },
  {
   "cell_type": "code",
   "execution_count": 16,
   "metadata": {},
   "outputs": [
    {
     "name": "stdout",
     "output_type": "stream",
     "text": [
      "Bom dia, Francisco!\n"
     ]
    }
   ],
   "source": [
    "# Closure e funções que retornam outras funções\n",
    "\n",
    "def criar_saudacao(saudacao, nome):\n",
    "    \"\"\"\n",
    "    Cria uma função para saudar alguém com uma saudação específica.\n",
    "\n",
    "    Parâmetros:\n",
    "    saudacao (str): A saudação desejada.\n",
    "    nome (str): O nome da pessoa a ser saudada.\n",
    "\n",
    "    Retorna:\n",
    "    function: Uma função que combina a saudação e o nome para saudar a pessoa.\n",
    "    \"\"\"\n",
    "    def saudar():\n",
    "        \"\"\"\n",
    "        Combina a saudação e o nome fornecidos.\n",
    "\n",
    "        Retorna:\n",
    "        str: A saudação combinada.\n",
    "        \"\"\"\n",
    "        return f'{saudacao}, {nome}!'\n",
    "    \n",
    "    return saudar\n",
    "\n",
    "s1 = criar_saudacao('Bom dia', 'Francisco')\n",
    "print(s1())  # Saída: Bom dia, Francisco!\n"
   ]
  },
  {
   "cell_type": "code",
   "execution_count": 17,
   "metadata": {},
   "outputs": [
    {
     "name": "stdout",
     "output_type": "stream",
     "text": [
      "Duplo 8\n",
      "Triplo 9\n",
      "Quadruplo 24\n",
      "Quintuplo 25\n"
     ]
    }
   ],
   "source": [
    "def multiplicador(multiplica):\n",
    "    \"\"\"\n",
    "    Cria uma função que multiplica um número por um valor específico.\n",
    "\n",
    "    Parâmetros:\n",
    "    multiplica (int): O valor pelo qual o número será multiplicado.\n",
    "\n",
    "    Retorna:\n",
    "    function: Uma função que recebe um número e retorna o resultado da multiplicação.\n",
    "    \"\"\"\n",
    "    def multiplo(numero):\n",
    "        \"\"\"\n",
    "        Multiplica um número pelo valor fornecido.\n",
    "\n",
    "        Parâmetros:\n",
    "        numero (int): O número a ser multiplicado.\n",
    "\n",
    "        Retorna:\n",
    "        int: O resultado da multiplicação.\n",
    "        \"\"\"\n",
    "        return numero * multiplica\n",
    "    \n",
    "    return multiplo\n",
    "\n",
    "# Criando funções de multiplicação específicas\n",
    "duplo = multiplicador(2)\n",
    "triplo = multiplicador(3)\n",
    "quadruplo = multiplicador(4)\n",
    "quintuplo = multiplicador(5)\n",
    "\n",
    "# Utilizando as funções criadas\n",
    "print(f'Duplo: {duplo(4)}')       # Saída: 8\n",
    "print(f'Triplo: {triplo(3)}')     # Saída: 9\n",
    "print(f'Quadruplo: {quadruplo(6)}') # Saída: 24\n",
    "print(f'Quintuplo: {quintuplo(5)}') # Saída: 25\n"
   ]
  },
  {
   "cell_type": "code",
   "execution_count": null,
   "metadata": {},
   "outputs": [],
   "source": []
  },
  {
   "cell_type": "code",
   "execution_count": null,
   "metadata": {},
   "outputs": [],
   "source": []
  }
 ],
 "metadata": {
  "kernelspec": {
   "display_name": "base",
   "language": "python",
   "name": "python3"
  },
  "language_info": {
   "codemirror_mode": {
    "name": "ipython",
    "version": 3
   },
   "file_extension": ".py",
   "mimetype": "text/x-python",
   "name": "python",
   "nbconvert_exporter": "python",
   "pygments_lexer": "ipython3",
   "version": "3.11.7"
  }
 },
 "nbformat": 4,
 "nbformat_minor": 2
}
