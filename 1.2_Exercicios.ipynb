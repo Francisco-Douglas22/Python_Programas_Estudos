{
 "cells": [
  {
   "cell_type": "markdown",
   "metadata": {},
   "source": [
    "# **Exercicios Basicos em Python**\n",
    "\n",
    "\n",
    "# <font color='green'>***48 Exercicios/Programas Basicos em Python***</font>"
   ]
  },
  {
   "cell_type": "code",
   "execution_count": null,
   "metadata": {},
   "outputs": [],
   "source": []
  },
  {
   "cell_type": "markdown",
   "metadata": {},
   "source": [
    "***1 -  Crie um programa que receba o nome, idade, de uma pessoa, depois imprima com uma mensagem de \n",
    "boas-vindas ao mundo da programação***"
   ]
  },
  {
   "cell_type": "code",
   "execution_count": 1,
   "metadata": {},
   "outputs": [
    {
     "name": "stdout",
     "output_type": "stream",
     "text": [
      "Seu nome e Francisco Douglas voce tem 28 anos\n",
      "Francisco Douglas Seja bem vindo ao mundo do Python\n"
     ]
    }
   ],
   "source": [
    "#Variavel\n",
    "nome = input('Digite o seu nome: ').title()\n",
    "idade = int(input(f'{nome} Digite a sua idade: '))\n",
    "mensagem = f'{nome} Seja bem vindo ao mundo do Python'\n",
    "\n",
    "#Impressao\n",
    "print(f'Seu nome e {nome} voce tem {idade} anos')\n",
    "print(mensagem)"
   ]
  },
  {
   "cell_type": "code",
   "execution_count": null,
   "metadata": {},
   "outputs": [],
   "source": []
  },
  {
   "cell_type": "markdown",
   "metadata": {},
   "source": [
    "***2 -  Faça um programa que leia algo pelo teclado e mostre na tela o seu Ɵpo primiƟvo e todas as informações \n",
    "possíveis sobre ele.***"
   ]
  },
  {
   "cell_type": "code",
   "execution_count": 3,
   "metadata": {},
   "outputs": [
    {
     "name": "stdout",
     "output_type": "stream",
     "text": [
      "A variavel e algo a mais seu tipo e <class 'str'>\n",
      "E Numerica? False\n",
      "E Alfabetica? False\n",
      "E Decimal? False\n",
      "E um digito? False\n",
      "Esta em Maiusculas? False\n",
      "Esta em Minusculas? True\n",
      "Ela tem espaços? False\n"
     ]
    }
   ],
   "source": [
    "#Variavel\n",
    "var = input('Digite algo! ')\n",
    "\n",
    "#Tipo\n",
    "print(f'A variavel e {var} seu tipo e {type(var)}')\n",
    "\n",
    "#Informações\n",
    "print(f'E Numerica? {var.isnumeric()}')\n",
    "print(f'E Alfabetica? {var.isalpha()}')\n",
    "print(f'E Decimal? {var.isdecimal()}')\n",
    "print(f'E um digito? {var.isdigit()}')\n",
    "print(f'Esta em Maiusculas? {var.isupper()}')\n",
    "print(f'Esta em Minusculas? {var.islower()}')\n",
    "print(f'Ela tem espaços? {var.isspace()}')"
   ]
  },
  {
   "cell_type": "code",
   "execution_count": null,
   "metadata": {},
   "outputs": [],
   "source": []
  },
  {
   "cell_type": "markdown",
   "metadata": {},
   "source": [
    "***3 -  Faça um programa que leia 2 números Inteiro some os e mostre na tela o seu sucessor e seu antecessor.***"
   ]
  },
  {
   "cell_type": "code",
   "execution_count": 7,
   "metadata": {},
   "outputs": [
    {
     "name": "stdout",
     "output_type": "stream",
     "text": [
      "Os Numeros digitados foram (3, 5)\n",
      "A Soma dos numeros e 8\n",
      "O Sucessor de 8 e 9 e seu antecessor e 7\n"
     ]
    }
   ],
   "source": [
    "#Variaveis\n",
    "num1 = int(input('Primeiro Numero: '))\n",
    "num2 = int(input('Segundo Numero: '))\n",
    "print(f'Os Numeros digitados foram {num1, num2}')\n",
    "\n",
    "\n",
    "#Soma\n",
    "soma = num1 + num2\n",
    "print(f'A Soma dos numeros e {soma}')\n",
    "\n",
    "#Sucessor e Antecessor\n",
    "sucessor = soma + 1\n",
    "antecessor = soma - 1\n",
    "\n",
    "print(f'O Sucessor de {soma} e {sucessor} e seu antecessor e {antecessor}')\n"
   ]
  },
  {
   "cell_type": "code",
   "execution_count": null,
   "metadata": {},
   "outputs": [],
   "source": []
  },
  {
   "cell_type": "markdown",
   "metadata": {},
   "source": [
    "***4 -  Desenvolva um programa que leia as 4 notas de um aluno, calcule e mostre a sua média.***"
   ]
  },
  {
   "cell_type": "code",
   "execution_count": 8,
   "metadata": {},
   "outputs": [
    {
     "name": "stdout",
     "output_type": "stream",
     "text": [
      "A Media do aluno e de 7.275 pontos\n"
     ]
    }
   ],
   "source": [
    "#Variaveis notas\n",
    "soma = media = 0\n",
    "\n",
    "#Laço de repetição\n",
    "for c in range(4):\n",
    "    notas = float(input(f'Digite a {c} nota: '))\n",
    "    soma += notas\n",
    "media = soma / 4\n",
    "\n",
    "print(f'A Media do aluno e de {media} pontos')"
   ]
  },
  {
   "cell_type": "code",
   "execution_count": null,
   "metadata": {},
   "outputs": [],
   "source": []
  },
  {
   "cell_type": "markdown",
   "metadata": {},
   "source": [
    "***5 -  Escreva um programa que leia um valor em metros e o exiba converƟdo em (Quilometro, Hectômetro, \n",
    "Decâmetro, Decímetro, Cenơmetro, Milímetro) sendo que***\n",
    "\n",
    "        Km    = 1000 / \n",
    "        Hec   = 100 / \n",
    "        Deca = 10 / \n",
    "        Deci  = 10 * \n",
    "        Cent  = 100 * \n",
    "        Mili  = 1000 *"
   ]
  },
  {
   "cell_type": "code",
   "execution_count": 9,
   "metadata": {},
   "outputs": [
    {
     "name": "stdout",
     "output_type": "stream",
     "text": [
      "O Comprimento em Metros e 45.0 que e equivalente a\n",
      "\n",
      "    0.045 Quilometros Km\n",
      "    0.45 Hectometros\n",
      "    4.5 Decametros\n",
      "    450.0 Decimetros\n",
      "    4500.0 Centimetros\n",
      "    45000.0 Milimetros\n"
     ]
    }
   ],
   "source": [
    "#Variaveis\n",
    "metros = input('Digite o comprimento em Metros: ')\n",
    "\n",
    "try:\n",
    "    metros = float(metros)\n",
    "    print(f'O Comprimento em Metros e {metros} que e equivalente a')\n",
    "    \n",
    "    #Conversao\n",
    "    km = metros / 1000\n",
    "    hec = metros / 100\n",
    "    deca = metros / 10\n",
    "    deci = metros * 10\n",
    "    cent = metros * 100\n",
    "    mili = metros * 1000\n",
    "    \n",
    "    print(f'''\n",
    "    {km} Quilometros Km\n",
    "    {hec} Hectometros\n",
    "    {deca} Decametros\n",
    "    {deci} Decimetros\n",
    "    {cent} Centimetros\n",
    "    {mili} Milimetros''')\n",
    "    \n",
    "    \n",
    "except ValueError as erro:\n",
    "    print(f'Tivemos um erro {erro}') "
   ]
  },
  {
   "cell_type": "code",
   "execution_count": null,
   "metadata": {},
   "outputs": [],
   "source": []
  },
  {
   "cell_type": "markdown",
   "metadata": {},
   "source": [
    "***6 -  Faça um programa que leia um número Inteiro qualquer e mostre na tela a sua tabuada. OBS sem uƟliza \n",
    "laço de repeƟção ou mesmo funções***"
   ]
  },
  {
   "cell_type": "code",
   "execution_count": 31,
   "metadata": {},
   "outputs": [
    {
     "name": "stdout",
     "output_type": "stream",
     "text": [
      "==========================================\n",
      "Soma = 4 +   5   Multiplicação = 4 x   4\n",
      "Soma = 4 +   6   Multiplicação = 4 x   8\n",
      "Soma = 4 +   7   Multiplicação = 4 x  12\n",
      "Soma = 4 +   8   Multiplicação = 4 x  16\n",
      "Soma = 4 +   9   Multiplicação = 4 x  20\n",
      "Soma = 4 +  10   Multiplicação = 4 x  24\n",
      "Soma = 4 +  11   Multiplicação = 4 x  28\n",
      "Soma = 4 +  12   Multiplicação = 4 x  32\n",
      "Soma = 4 +  13   Multiplicação = 4 x  36\n",
      "Soma = 4 +  14   Multiplicação = 4 x  40\n",
      "==========================================\n"
     ]
    }
   ],
   "source": [
    "#Variaveis\n",
    "numero_calc = input('Digite o numero para Calculadora: ')\n",
    "\n",
    "try:\n",
    "    numero = int(numero_calc)\n",
    "    print('='*42)\n",
    "    \n",
    "    for eng in range(1,11):\n",
    "        print(f'Soma = {numero} + {numero+eng:3}   Multiplicação = {numero} x {numero*eng:3}')\n",
    "    print('='*42)  \n",
    "    \n",
    "    \n",
    "except ValueError as erro:\n",
    "    print('Tivemos um erro ', erro)"
   ]
  },
  {
   "cell_type": "code",
   "execution_count": null,
   "metadata": {},
   "outputs": [],
   "source": []
  },
  {
   "cell_type": "markdown",
   "metadata": {},
   "source": [
    "***7 -  Crie um programa que leia quanto dinheiro uma pessoa tem na carteira e mostre quantos dólares ela pode \n",
    "comprar***"
   ]
  },
  {
   "cell_type": "code",
   "execution_count": 2,
   "metadata": {},
   "outputs": [
    {
     "name": "stdout",
     "output_type": "stream",
     "text": [
      "Com a quantia de 3456.0 R$ e o dolar a 4.56 U$  você pode comprar...\n",
      "757.89 Dolares U$\n"
     ]
    }
   ],
   "source": [
    "#Variaveis\n",
    "dinheiro = input(\"Quanto dinheiro voce tem? \")\n",
    "v_dolar = input(\"Valor do Dolar hoje U$: \")\n",
    "\n",
    "try:\n",
    "    dinh = float(dinheiro)\n",
    "    dolar = float(v_dolar)\n",
    "    \n",
    "    print(f'Com a quantia de {dinh} R$ e o dolar a {dolar} U$  você pode comprar...')\n",
    "    \n",
    "    #Total dolares\n",
    "    total_dolar = dinh / dolar\n",
    "    print(f'{total_dolar:.2f} Dolares U$')\n",
    "    \n",
    "except ValueError:\n",
    "    print('Tivemos um erro de Valor', ValueError)\n",
    "    \n",
    "    "
   ]
  },
  {
   "cell_type": "code",
   "execution_count": null,
   "metadata": {},
   "outputs": [],
   "source": []
  },
  {
   "cell_type": "markdown",
   "metadata": {},
   "source": [
    "***8 -  Faça um programa que leia a largura e a altura de uma parede em metros, calcule a sua área e a quanƟdade \n",
    "de Ɵnta necessária para pintá-la, sabendo que cada litro de Ɵnta pinta uma área de 2 metros quadrados***"
   ]
  },
  {
   "cell_type": "code",
   "execution_count": 4,
   "metadata": {},
   "outputs": [
    {
     "name": "stdout",
     "output_type": "stream",
     "text": [
      "Uma parede de 30.00 Metros M² levara  15.0 Litros de tinta para ser pintada\n"
     ]
    }
   ],
   "source": [
    "#Variaveis\n",
    "altura = float(input('Digite a altura da parede: '))\n",
    "largura = float(input('Digite a largura da parede: '))\n",
    "\n",
    "metros_q = altura * largura\n",
    "\n",
    "print(f'Uma parede de {metros_q:.2f} Metros M² levara ',end=' ')\n",
    "\n",
    "litros = metros_q / 2\n",
    "print(f'{litros} Litros de tinta para ser pintada')"
   ]
  },
  {
   "cell_type": "code",
   "execution_count": null,
   "metadata": {},
   "outputs": [],
   "source": []
  },
  {
   "cell_type": "markdown",
   "metadata": {},
   "source": [
    "***9 -  Faça um algoritmo que leia o nome e o salário de um funcionário e mostre seu novo salário, com 15% de \n",
    "aumento***"
   ]
  },
  {
   "cell_type": "code",
   "execution_count": 8,
   "metadata": {},
   "outputs": [
    {
     "name": "stdout",
     "output_type": "stream",
     "text": [
      "O Funcionario que Ganhava 3456.0 R$ 15% de aumento passara a ganha  3974.40\n"
     ]
    }
   ],
   "source": [
    "#Variaveis\n",
    "salario = float(input(\"Salario do Funcionario R$: \"))\n",
    "percentual = 15\n",
    "print(f'O Funcionario que Ganhava {salario} R$ {percentual}% de aumento passara a ganha ',end=' ')\n",
    "\n",
    "#Calculo do novo salario\n",
    "novo_salario = salario * ((100 + percentual) / 100)\n",
    "print(f'{novo_salario:.2f}')"
   ]
  },
  {
   "cell_type": "code",
   "execution_count": null,
   "metadata": {},
   "outputs": [],
   "source": []
  },
  {
   "cell_type": "markdown",
   "metadata": {},
   "source": [
    "***10 -  Escreva um programa que pergunte a quanƟdade de Km percorridos por um carro alugado e a quanƟdade \n",
    "de dias pelos quais ele foi alugado. Calcule o preço a pagar, sabendo que o carro custa R$60 por dia e \n",
    "R$0,15 por Km rodado***"
   ]
  },
  {
   "cell_type": "code",
   "execution_count": 9,
   "metadata": {},
   "outputs": [
    {
     "name": "stdout",
     "output_type": "stream",
     "text": [
      "Um carro que percorreu 345 km em 4 dias tera um custo de 291.75 R$\n"
     ]
    }
   ],
   "source": [
    "#Variaveis\n",
    "q_km = input('Quantidade de Km percorridos: ')\n",
    "dias = input('Dias alugado: ')\n",
    "\n",
    "try:\n",
    "    km = float(q_km)\n",
    "    dias = int(dias)\n",
    "    \n",
    "    #Calculo de custo total\n",
    "    custo = km * 0.15 + (dias * 60)\n",
    "    \n",
    "    print(f'Um carro que percorreu {q_km} km em {dias} dias tera um custo de {custo:.2f} R$')\n",
    "    \n",
    "except:\n",
    "    print('Erro!!!')"
   ]
  },
  {
   "cell_type": "code",
   "execution_count": null,
   "metadata": {},
   "outputs": [],
   "source": []
  },
  {
   "cell_type": "markdown",
   "metadata": {},
   "source": [
    "***11 -  Programa que leia 4 números, 2 Inteiros e 2 Flutuantes, faça a soma dos Inteiros e a mulƟplicação dos \n",
    "Flutuantes, depois faça a mulƟplicação dos Flutuantes ao quadrado e a Raiz quadrada dos inteiros.  \n",
    "Some o Resultado final dos Números e Divida por 3***"
   ]
  },
  {
   "cell_type": "code",
   "execution_count": 3,
   "metadata": {},
   "outputs": [
    {
     "name": "stdout",
     "output_type": "stream",
     "text": [
      "A Soma dos inteiros e 9\n",
      "A Multiplicacao dos float ao quadrado e 104.52\n",
      "A Raiz da Soma dos inteiros e 3.0\n",
      "A Soma final dos float e da raiz e 107.52\n",
      "A divisao final e 35.839999999999996\n"
     ]
    }
   ],
   "source": [
    "#Variaveis\n",
    "n1_int = int(input('Primeiro Inteiro: '))\n",
    "n2_int = int(input('Segundo Inteiro: '))\n",
    "\n",
    "n1_float = float(input('Primeiro Float: '))\n",
    "n2_float = float(input('Segundo Float: '))\n",
    "\n",
    "#Soma inteiros\n",
    "soma_int = n1_int + n2_int\n",
    "print(f'A Soma dos inteiros e {soma_int}')\n",
    "\n",
    "#Multiplicacao float\n",
    "mult_float = (n1_float * n2_float) * 2\n",
    "print(f'A Multiplicacao dos float ao quadrado e {mult_float}')\n",
    "\n",
    "\n",
    "#Raiz dos inteiros\n",
    "raiz_int = soma_int ** (1 / 2)\n",
    "print(f'A Raiz da Soma dos inteiros e {raiz_int}')\n",
    "\n",
    "#Soma e divisao float\n",
    "soma_fin = raiz_int + mult_float\n",
    "print(f'A Soma final dos float e da raiz e {soma_fin}')\n",
    "\n",
    "#Divisao por \n",
    "dividir3 = soma_fin /3\n",
    "print(f'A divisao final e {dividir3}')"
   ]
  },
  {
   "cell_type": "code",
   "execution_count": null,
   "metadata": {},
   "outputs": [],
   "source": []
  },
  {
   "cell_type": "markdown",
   "metadata": {},
   "source": [
    "***12 - Programa que leia uma Temperatura em Graus Celsius e Apresente-a convertida em Graus\n",
    "Fahrenheit. Depois faça o inverso do programa transformando Fahrenheit em Celsius***\n",
    "\n",
    "        Formulas: F = celsius * (9.0/5.0) + 32\n",
    "        Formulas: C = (F – 32) * 5 / 9"
   ]
  },
  {
   "cell_type": "code",
   "execution_count": 4,
   "metadata": {},
   "outputs": [
    {
     "name": "stdout",
     "output_type": "stream",
     "text": [
      "A Temperatura de 45.0 Graus Celsius C° equivale a 83.00 Graus F°\n",
      "A Temperatura de 56.0 Graus Fahrenheit F° equeivale a 13.33 Graus C°\n"
     ]
    }
   ],
   "source": [
    "#Variaveis\n",
    "graus_c = float(input('Digite a temperatura em Graus C°: '))\n",
    "graus_f = float(input('Digite a temperatura em Graus F°: '))\n",
    "\n",
    "#Conversao\n",
    "c_para_f = graus_c * (9/5) + 2\n",
    "f_para_c = (graus_f - 32) * (5 /9)\n",
    "\n",
    "print(f'A Temperatura de {graus_c} Graus Celsius C° equivale a {c_para_f:.2f} Graus F°')\n",
    "print(f'A Temperatura de {graus_f} Graus Fahrenheit F° equeivale a {f_para_c:.2f} Graus C°')"
   ]
  },
  {
   "cell_type": "code",
   "execution_count": null,
   "metadata": {},
   "outputs": [],
   "source": []
  },
  {
   "cell_type": "markdown",
   "metadata": {},
   "source": [
    "***13 - Programa que receba 2 inputs, um Para transforma Graus Kelvin em Graus Celsius e o outro\n",
    "Para Transforma Graus Celsius em Graus Kelvin***\n",
    "\n",
    "        Formulas: C = K – 273.15\n",
    "        Formulas: K = C + 273.15"
   ]
  },
  {
   "cell_type": "code",
   "execution_count": 6,
   "metadata": {},
   "outputs": [
    {
     "name": "stdout",
     "output_type": "stream",
     "text": [
      "A Temperatura de 45.0 Graus Kelvin equivalem a -228.15 Graus Celsius \n",
      "A Temperatura de 45.0 Graus Celsius equivalem a 318.15 Graus Kelvin\n"
     ]
    }
   ],
   "source": [
    "#Variaveis\n",
    "graus_kelvin = float(input('Digite a temperatura em Graus Kelvin: '))\n",
    "graus_celsius = float(input('Digite os Graus Celsius: '))\n",
    "\n",
    "#Conversao\n",
    "k_para_c = graus_kelvin - 273.15\n",
    "c_para_k = graus_celsius + 273.15\n",
    "\n",
    "print(f'A Temperatura de {graus_kelvin} Graus Kelvin equivalem a {k_para_c:.2f} Graus Celsius ')\n",
    "print(f'A Temperatura de {graus_celsius} Graus Celsius equivalem a {c_para_k:.2f} Graus Kelvin')"
   ]
  },
  {
   "cell_type": "code",
   "execution_count": null,
   "metadata": {},
   "outputs": [],
   "source": []
  },
  {
   "cell_type": "markdown",
   "metadata": {},
   "source": [
    "***14 - Programa que ler a velocidade em KM/H (quilômetros por hora) e M/S (Metros por segundo).\n",
    "Converta KM/H em M/S e M/S em KM/H.***\n",
    "\n",
    "        Formulas: M = K / 3.6\n",
    "        Formulas: K = M * 3.6"
   ]
  },
  {
   "cell_type": "code",
   "execution_count": 7,
   "metadata": {},
   "outputs": [
    {
     "name": "stdout",
     "output_type": "stream",
     "text": [
      "230.0 Km por hora equivale a 63.89 Metros por segundo\n",
      "34.0 Metros por segundo equivale a 122 Quilometros por hora\n"
     ]
    }
   ],
   "source": [
    "#Variaveis\n",
    "v_km = float(input('Velocidade em Km: '))\n",
    "metros_s = float(input('Metros por Segundos: '))\n",
    "\n",
    "#Conversao\n",
    "km_s = v_km / 3.6\n",
    "m_km = metros_s * 3.6\n",
    "\n",
    "print(f'{v_km} Km por hora equivale a {km_s:.2f} Metros por segundo')\n",
    "print(f'{metros_s} Metros por segundo equivale a {m_km:.0f} Quilometros por hora')"
   ]
  },
  {
   "cell_type": "code",
   "execution_count": null,
   "metadata": {},
   "outputs": [],
   "source": []
  },
  {
   "cell_type": "markdown",
   "metadata": {},
   "source": [
    "***15 - Leia 2 Distancia, Milha e Km quilômetros, transforme as Milhas em Km e Quilometro em Milhas.***\n",
    "\n",
    "        Formulas: K = 1.61 * M\n",
    "        Formulas: M = K / 1.61"
   ]
  },
  {
   "cell_type": "code",
   "execution_count": 8,
   "metadata": {},
   "outputs": [
    {
     "name": "stdout",
     "output_type": "stream",
     "text": [
      "34.0 Km equivalem a 21.12 Milhas\n",
      "45.0 Milhas equivalem a 72.45 Km\n"
     ]
    }
   ],
   "source": [
    "#Variaveis\n",
    "km = float(input('Km por hora: '))\n",
    "milhas = float(input('Milhas por Hora: '))\n",
    "\n",
    "#Conversao\n",
    "km_milhas = km / 1.61\n",
    "milhas_km = milhas * 1.61\n",
    "\n",
    "print(f'{km} Km equivalem a {km_milhas:.2f} Milhas')\n",
    "print(f'{milhas} Milhas equivalem a {milhas_km:.2f} Km')"
   ]
  },
  {
   "cell_type": "code",
   "execution_count": null,
   "metadata": {},
   "outputs": [],
   "source": []
  },
  {
   "cell_type": "markdown",
   "metadata": {},
   "source": [
    "***16 - Leia 2 ângulos, 1 Radiano e outro em Graus, transforme o Radiano em Graus e Graus em Radiano***\n",
    "\n",
    "        Formulas: R = G * pi / 180 sendo valor de pi = 3.14\n",
    "        Formulas: G = R * 180 / pi"
   ]
  },
  {
   "cell_type": "code",
   "execution_count": 9,
   "metadata": {},
   "outputs": [
    {
     "name": "stdout",
     "output_type": "stream",
     "text": [
      "A Conversao de 45 Angulo Radiano para Graus equivale a 2579.62\n",
      "A Conversao de 45 Graus Para Radiano e 0.79\n"
     ]
    }
   ],
   "source": [
    "#Variaveis\n",
    "angulo_r = int(input('Angulo Radiano: '))\n",
    "angulo_g = int(input('Angulo em Graus: '))\n",
    "\n",
    "#Conversao de radiano para Graus\n",
    "rad_graus = angulo_r * 180 / 3.14\n",
    "print(f'A Conversao de {angulo_r} Angulo Radiano para Graus equivale a {rad_graus:.2f}')\n",
    "\n",
    "#Conversao de Graus para Radiano\n",
    "g_rad = angulo_g * 3.14 / 180\n",
    "print(f'A Conversao de {angulo_r} Graus Para Radiano e {g_rad:.2f}')"
   ]
  },
  {
   "cell_type": "code",
   "execution_count": null,
   "metadata": {},
   "outputs": [],
   "source": []
  },
  {
   "cell_type": "markdown",
   "metadata": {},
   "source": [
    "***17 - Leia 2 comprimento, Polegadas e Centimetros, transforme primeiro Polegadas em Centimetros e depois transforme Centimetros em Polegadas.***\n",
    "\n",
    "        Formulas: C = P * 2.54\n",
    "        Formulas: P = C / 2.54"
   ]
  },
  {
   "cell_type": "code",
   "execution_count": 10,
   "metadata": {},
   "outputs": [
    {
     "name": "stdout",
     "output_type": "stream",
     "text": [
      "45 Polegadas equivalem a 114.30 Centimetros\n",
      "56 Centimetros equivalem a 22.05 Polegadas\n"
     ]
    }
   ],
   "source": [
    "#Variaveis\n",
    "polegadas = int(input('Digite as Polegadas: '))\n",
    "centimetros = int(input('Digite os Centimetros: '))\n",
    "\n",
    "#Conversao\n",
    "p_para_c = polegadas * 2.54\n",
    "c_para_p = centimetros / 2.54\n",
    "\n",
    "print(f'{polegadas} Polegadas equivalem a {p_para_c:.2f} Centimetros')\n",
    "print(f'{centimetros} Centimetros equivalem a {c_para_p:.2f} Polegadas')"
   ]
  },
  {
   "cell_type": "code",
   "execution_count": null,
   "metadata": {},
   "outputs": [],
   "source": []
  },
  {
   "cell_type": "markdown",
   "metadata": {},
   "source": [
    "***18 - Leia 3 valores de Metros Cúbicos M³ e apresente em Litros, depois some esses valores e apresente o resultado em Metros Cúbicos M³.***\n",
    "\n",
    "        Formulas: L = 1000 * M\n",
    "        Formulas: M = L / 1000"
   ]
  },
  {
   "cell_type": "code",
   "execution_count": 11,
   "metadata": {},
   "outputs": [
    {
     "name": "stdout",
     "output_type": "stream",
     "text": [
      "1Metros Cubicos equivale a 1000 Litros\n",
      "2Metros Cubicos equivale a 2000 Litros\n",
      "3Metros Cubicos equivale a 3000 Litros\n",
      "A Soma total de litros de agua e 6000\n",
      "O Total de 6000 Litros equivalem a 6.0 M³\n"
     ]
    }
   ],
   "source": [
    "#Variaveis\n",
    "cubico1 = int(input('Primeiro M³: '))\n",
    "cubico2 = int(input('Segundo M³: '))\n",
    "cubico3 = int(input('Terceiro M³: '))\n",
    "\n",
    "#Conversao para litros\n",
    "l1 = cubico1 * 1000\n",
    "l2 = cubico2 * 1000\n",
    "l3 = cubico3 * 1000\n",
    "\n",
    "#Impressao\n",
    "print(f'{cubico1}Metros Cubicos equivale a {l1} Litros')\n",
    "print(f'{cubico2}Metros Cubicos equivale a {l2} Litros')\n",
    "print(f'{cubico3}Metros Cubicos equivale a {l3} Litros')\n",
    "\n",
    "#Soma litros\n",
    "soma = l1+l2+l3\n",
    "print(f'A Soma total de litros de agua e {soma}')\n",
    "\n",
    "#Transformando em M³\n",
    "m_c = soma / 1000\n",
    "print(f'O Total de {soma} Litros equivalem a {m_c} M³')"
   ]
  },
  {
   "cell_type": "code",
   "execution_count": null,
   "metadata": {},
   "outputs": [],
   "source": []
  },
  {
   "cell_type": "markdown",
   "metadata": {},
   "source": [
    "***19 - Leia um valor de massa em Kg Quilogramas e converta para Libras, depois disso converta novamente para\n",
    "kg.***\n",
    "\n",
    "        Formulas: L = k / 0.45\n",
    "        Formulas: k = L * 0.45"
   ]
  },
  {
   "cell_type": "code",
   "execution_count": 13,
   "metadata": {},
   "outputs": [
    {
     "name": "stdout",
     "output_type": "stream",
     "text": [
      "O valor de 45.0 kg equivalem a 100.00 Libras\n",
      "O valor de 100.00 Libras equivalem a 45.00 Kg\n"
     ]
    }
   ],
   "source": [
    "#Variaveis\n",
    "quilo_kg = float(input('Digite o valor em Kg: '))\n",
    "\n",
    "#Conversao para libras\n",
    "libra = quilo_kg / 0.45\n",
    "print(f'O valor de {quilo_kg} kg equivalem a {libra:.2f} Libras')\n",
    "\n",
    "#Conversao libra para kg\n",
    "kg = libra * 0.45\n",
    "print(f'O valor de {libra:.2f} Libras equivalem a {kg:.2f} Kg')"
   ]
  },
  {
   "cell_type": "code",
   "execution_count": null,
   "metadata": {},
   "outputs": [],
   "source": []
  },
  {
   "cell_type": "markdown",
   "metadata": {},
   "source": [
    "***20 - Leia um valor de comprimento em JARDAS e converta para Metros. Depois disso converta novamente para JARDAS***\n",
    "\n",
    "        Formulas: M = 0.91 * J\n",
    "        Formulas: J = M / 0.91"
   ]
  },
  {
   "cell_type": "code",
   "execution_count": 14,
   "metadata": {},
   "outputs": [
    {
     "name": "stdout",
     "output_type": "stream",
     "text": [
      "O Valor de 45 Jardas equivale a 40.95 Metros\n",
      "O Valor de 40.95 Metros equivale a 45.00 Jardas\n"
     ]
    }
   ],
   "source": [
    "#variaveis\n",
    "jardas = int(input('Digite o valor em Jardas: '))\n",
    "\n",
    "#Conversao\n",
    "m_jardas = 0.91 * jardas\n",
    "print(f'O Valor de {jardas} Jardas equivale a {m_jardas:.2f} Metros')\n",
    "\n",
    "#Revertendo\n",
    "ja_metros = m_jardas / 0.91\n",
    "print(f'O Valor de {m_jardas:.2f} Metros equivale a {ja_metros:.2f} Jardas')"
   ]
  },
  {
   "cell_type": "code",
   "execution_count": null,
   "metadata": {},
   "outputs": [],
   "source": []
  },
  {
   "cell_type": "markdown",
   "metadata": {},
   "source": [
    "***21 - Leia um valor em Metros Quadrados M² e converta o para ACRES e HECTARES, depois inverta a conversão\n",
    "para Metros Quadrados Novamente***\n",
    "\n",
    "        Formulas: A = M * 0.000247 Metros² em ACRES\n",
    "        Formulas: M = A * 4048.58 ACRES em Metros²\n",
    "        Formulas: H = M * 0.0001 Metros em Hectares\n",
    "        Formulas: M = H * 10000 Hectares em Metros"
   ]
  },
  {
   "cell_type": "code",
   "execution_count": 15,
   "metadata": {},
   "outputs": [
    {
     "name": "stdout",
     "output_type": "stream",
     "text": [
      "1200.0 Metros² equivalem a 0.2964 Acres\n",
      "1200.0 Metros² equivalem a 0.1200 Hectares\n",
      "\n",
      "Reverdendo as Conversoes de ACRES Para Metros², de Hectares para M²\n",
      "0.30 Acres equivalem a 1200.00 M²\n",
      "0.12000000000000001 Hectares equivalem a 1200.00 M²\n"
     ]
    }
   ],
   "source": [
    "#Variaveis\n",
    "metros_q = float(input('Digite o coprimento em Metros Quadrados M²: '))\n",
    "\n",
    "#Convertendo para ACRES\n",
    "acres = metros_q * 0.000247\n",
    "print(f'{metros_q} Metros² equivalem a {acres:.4f} Acres')\n",
    "\n",
    "#Convertendo para Hectars\n",
    "hectares = metros_q * 0.0001\n",
    "print(f'{metros_q} Metros² equivalem a {hectares:.4f} Hectares\\n')\n",
    "\n",
    "#Revertendo as conversoes\n",
    "a_metros = acres * 4048.58\n",
    "h_metros = hectares * 10000\n",
    "\n",
    "print(f'Reverdendo as Conversoes de ACRES Para Metros², de Hectares para M²')\n",
    "print(f'{acres:.2f} Acres equivalem a {a_metros:.2f} M²')\n",
    "print(f'{hectares} Hectares equivalem a {h_metros:.2f} M²')"
   ]
  },
  {
   "cell_type": "code",
   "execution_count": null,
   "metadata": {},
   "outputs": [],
   "source": []
  },
  {
   "cell_type": "markdown",
   "metadata": {},
   "source": [
    "***22 - Sejam a e b os catetos de um triangulo, onde a Hipotenusa e obtida pela equação\n",
    "Hipotenusa = Raiz de a² + b². Faça um programa que receba os valores de a e b e calcule o valor da Hipotenusa\n",
    "através da equação.***"
   ]
  },
  {
   "cell_type": "code",
   "execution_count": 16,
   "metadata": {},
   "outputs": [
    {
     "name": "stdout",
     "output_type": "stream",
     "text": [
      "A Hipotenuza sera de 2068.0\n"
     ]
    }
   ],
   "source": [
    "#Variaveis\n",
    "valor_a = int(input('Digite o valor de A: '))\n",
    "valor_b = int(input('Digite o valor de B: '))\n",
    "\n",
    "#Calculo da hipotenuza\n",
    "hipotenuza = ((valor_a ** 2) + (valor_b ** 2) ** 0.5)\n",
    "print(f'A Hipotenuza sera de {hipotenuza}')"
   ]
  },
  {
   "cell_type": "code",
   "execution_count": null,
   "metadata": {},
   "outputs": [],
   "source": []
  },
  {
   "cell_type": "markdown",
   "metadata": {},
   "source": [
    "***23 - Faça um programa que leia o valor de um produto e imprima o valor com desconto, tendo em vista que desconto foi de 12%***"
   ]
  },
  {
   "cell_type": "code",
   "execution_count": 17,
   "metadata": {},
   "outputs": [
    {
     "name": "stdout",
     "output_type": "stream",
     "text": [
      "O Notebook que custava 2345.0 R$\n",
      "Com 12% de desconto passara a custa 2063.60 R$\n"
     ]
    }
   ],
   "source": [
    "#Variaveis\n",
    "n_produto = str(input('Nome do Produto: '))\n",
    "valor_p = float(input(f'Valor do {n_produto}: '))\n",
    "\n",
    "#Calculo do desconto\n",
    "desconto = valor_p * ((100 - 12) / 100)\n",
    "\n",
    "print(f'O {n_produto} que custava {valor_p} R$')\n",
    "print(f'Com 12% de desconto passara a custa {desconto:.2f} R$')"
   ]
  },
  {
   "cell_type": "code",
   "execution_count": null,
   "metadata": {},
   "outputs": [],
   "source": []
  },
  {
   "cell_type": "markdown",
   "metadata": {},
   "source": [
    "***24 - Leia o salário de um funcionário. Calcule o valor do novo salário, sabendo que ele recebe um aumento de 25%***"
   ]
  },
  {
   "cell_type": "code",
   "execution_count": 18,
   "metadata": {},
   "outputs": [
    {
     "name": "stdout",
     "output_type": "stream",
     "text": [
      "O Funcionario que ganhava 2345.0R$ com 25% de aumento passara a ganha 2931.25R$\n"
     ]
    }
   ],
   "source": [
    "#Variavel\n",
    "salario = float(input('Digite o salario R$: '))\n",
    "aumento = 25\n",
    "\n",
    "#Calculo\n",
    "novo_s = salario * ((100 + aumento) / 100)\n",
    "\n",
    "print(f'O Funcionario que ganhava {salario}R$ com 25% de aumento passara a ganha {novo_s}R$')"
   ]
  },
  {
   "cell_type": "code",
   "execution_count": null,
   "metadata": {},
   "outputs": [],
   "source": []
  },
  {
   "cell_type": "markdown",
   "metadata": {},
   "source": [
    "***25 - A importância de R$ 780.000,00 será dividida entre três ganhadores de um concurso. Sendo que da quantia total.***\n",
    "\n",
    "\n",
    "     O primeiro ganhador receberá 46%\n",
    "     O segundo recebera 32%\n",
    "     O terceiro recebera o restante\n",
    "    Calcule quanto cada ganhador irá receber"
   ]
  },
  {
   "cell_type": "code",
   "execution_count": 19,
   "metadata": {},
   "outputs": [
    {
     "name": "stdout",
     "output_type": "stream",
     "text": [
      "Os valora a receber do premio são 780000 R$\n",
      "O Primeiro ira receber 42% totalizando 358800.0 R$\n",
      "O Segundo ira receber 32% totalizando 249600.0 R$\n",
      "O Terceiro ira Receber o Restante do premio totalizando 171600.0\n"
     ]
    }
   ],
   "source": [
    "#Variaveis\n",
    "# Percentul que cada ira receber\n",
    "primeiro = 46\n",
    "segunddo = 32 \n",
    "\n",
    "#Valor do premio\n",
    "premio = 780000\n",
    "\n",
    "#Valores a receber\n",
    "v_primeiro = premio* 0.46\n",
    "v_segundo  = premio* 0.32\n",
    "\n",
    "#Calculo do valor do Terceiro Ganhador\n",
    "v_terceiro = premio - (v_primeiro + v_segundo)\n",
    "\n",
    "print(f'Os valora a receber do premio são {premio} R$')\n",
    "print(f'O Primeiro ira receber 42% totalizando {v_primeiro} R$')\n",
    "print(f'O Segundo ira receber 32% totalizando {v_segundo} R$')\n",
    "print(f'O Terceiro ira Receber o Restante do premio totalizando {v_terceiro}')"
   ]
  },
  {
   "cell_type": "code",
   "execution_count": null,
   "metadata": {},
   "outputs": [],
   "source": []
  },
  {
   "cell_type": "markdown",
   "metadata": {},
   "source": [
    "***26 - Uma empresa contrata um encanador a R$ 30,00 por dia. Faça um programa que solicite o numero de dias trabalhados pelo encanador e imprima a quantia liquida que devera ser paga, sabendo-se que são descontados 8% para impostos de renda***"
   ]
  },
  {
   "cell_type": "code",
   "execution_count": 20,
   "metadata": {},
   "outputs": [
    {
     "name": "stdout",
     "output_type": "stream",
     "text": [
      "Durante 34 dias de trabalho o encanador ganhou 1020R$\n",
      "Com o desconto de 8% o encanador recebera apenas 938.4\n"
     ]
    }
   ],
   "source": [
    "#Variavel dias de trabalho\n",
    "dias_tabalhados = int(input('Quantos dias trabalhou: '))\n",
    "\n",
    "#Ganhos totais\n",
    "ganhos_totais = dias_tabalhados * 30\n",
    "\n",
    "#Desconto do imposto\n",
    "desconto_imposto = ganhos_totais - (ganhos_totais *0.08)\n",
    "\n",
    "print(f'Durante {dias_tabalhados} dias de trabalho o encanador ganhou {ganhos_totais}R$')\n",
    "print(f'Com o desconto de 8% o encanador recebera apenas {desconto_imposto}')"
   ]
  },
  {
   "cell_type": "code",
   "execution_count": null,
   "metadata": {},
   "outputs": [],
   "source": []
  },
  {
   "cell_type": "markdown",
   "metadata": {},
   "source": [
    "***27 - Faça um programa que leia o valor da hora de trabalho em R$ e numero de horas trabalhadas no mês. Sabendo que o trabalhador, trabalha 6 horas por dia e 4 dias e meio por semana. Imprima o valor a ser pago ao funcionário, adicionando 10% sobre o valor calculado.***"
   ]
  },
  {
   "cell_type": "code",
   "execution_count": 22,
   "metadata": {},
   "outputs": [
    {
     "name": "stdout",
     "output_type": "stream",
     "text": [
      "O Funcionario que trabalhou 108.0 horas ganhara 1296.00R$\n"
     ]
    }
   ],
   "source": [
    "#Variaveis\n",
    "valor_hora = int(input('Valor qu ganhara por Hora trabalhada: '))\n",
    "\n",
    "#Calculo do tempo de trabalho\n",
    "dias_mes = 4.5 * 4\n",
    "horas_trabalhadas = dias_mes * 6\n",
    "\n",
    "#Calculo final com 10% de adicional\n",
    "ganhos_finais = horas_trabalhadas * valor_hora\n",
    "\n",
    "print(f'O Funcionario que trabalhou {horas_trabalhadas} horas ganhara {ganhos_finais:.2f}R$')"
   ]
  },
  {
   "cell_type": "code",
   "execution_count": null,
   "metadata": {},
   "outputs": [],
   "source": []
  },
  {
   "cell_type": "markdown",
   "metadata": {},
   "source": [
    "***28 - Faça um programa onde o funcionário recebe o salário-base. Calcule o salário com uma gratificação de 5% sobre o salário e depois calcule 7% de imposto de renda, mostre o resultado final do salário***"
   ]
  },
  {
   "cell_type": "code",
   "execution_count": 23,
   "metadata": {},
   "outputs": [
    {
     "name": "stdout",
     "output_type": "stream",
     "text": [
      "O Funcionario que ganha 2345.0 R$ por mes\n",
      "Com 5% de Adicioal o funcionario ganha 2462.25 R$ porem!\n",
      "Com desconto de 7% de imposto de renda o funcionario so recebe 2289.89 R$\n"
     ]
    }
   ],
   "source": [
    "#Variavel salario funcionario\n",
    "salario_funcionario = float(input('Digite o salario do Funcionario R$: '))\n",
    "\n",
    "#Ganhos gratificações\n",
    "gratificacao = salario_funcionario * 1.05\n",
    "\n",
    "#Desconto imposto de renda\n",
    "d_imposto = gratificacao * 0.93\n",
    "\n",
    "print(f'O Funcionario que ganha {salario_funcionario} R$ por mes')\n",
    "print(f'Com 5% de Adicioal o funcionario ganha {gratificacao:.2f} R$ porem!')\n",
    "print(f'Com desconto de 7% de imposto de renda o funcionario so recebe {d_imposto:.2f} R$')"
   ]
  },
  {
   "cell_type": "code",
   "execution_count": null,
   "metadata": {},
   "outputs": [],
   "source": []
  },
  {
   "cell_type": "markdown",
   "metadata": {},
   "source": [
    "***29 - Escreva um programa de ajuda para vendedores. A partir de um valor total lido, mostre***\n",
    "\n",
    "         O Total a pagar com 10% de desconto\n",
    "         O Valor de cada parcela, no parcelamento de 3x sem juros\n",
    "         A comissão do vendedor de %5 no caso de venda à vista"
   ]
  },
  {
   "cell_type": "code",
   "execution_count": 24,
   "metadata": {},
   "outputs": [
    {
     "name": "stdout",
     "output_type": "stream",
     "text": [
      "O Preço de 2345.0 R$\n",
      "Com 10% de Desconto sera de 2110.50 R$\n",
      "Parcelado em 3x as parcelas ficam de 781.67 R$\n",
      "O Bonus do funcionario sera de 117.25 R$\n"
     ]
    }
   ],
   "source": [
    "#variavel\n",
    "valor_total = float(input('Digite o valor total: R$ '))\n",
    "\n",
    "#Valores com Desconto\n",
    "desconto_10 = valor_total * ((100-10)/100)\n",
    "parcelas = valor_total / 3\n",
    "comissao = valor_total * 0.05\n",
    "\n",
    "#Impressoes\n",
    "print(f'O Preço de {valor_total} R$')\n",
    "print(f'Com 10% de Desconto sera de {desconto_10:.2f} R$')\n",
    "print(f'Parcelado em 3x as parcelas ficam de {parcelas:.2f} R$')\n",
    "print(f'O Bonus do funcionario sera de {comissao:.2f} R$')"
   ]
  },
  {
   "cell_type": "code",
   "execution_count": null,
   "metadata": {},
   "outputs": [],
   "source": []
  },
  {
   "cell_type": "markdown",
   "metadata": {},
   "source": [
    "***30 - Em uma construção o Pedreiro deseja fazer o cálculo para uma escada, para isso ele deseja cria degraus para idosos de 15CM. Faça um programa onde Receba a Altura da Escada e calcule quantos degraus irá precisa essa escada.***"
   ]
  },
  {
   "cell_type": "code",
   "execution_count": 1,
   "metadata": {},
   "outputs": [
    {
     "name": "stdout",
     "output_type": "stream",
     "text": [
      "Uma escada de 3 Metros e degraus de 15CM\n",
      "Tera um total de 20 Degraus\n"
     ]
    }
   ],
   "source": [
    "#Variaveis\n",
    "altura_escada = int(input('Altura da escada: '))\n",
    "\n",
    "#Calculo degraus\n",
    "degraus = (altura_escada * 100) / 15\n",
    "print(f'Uma escada de {altura_escada} Metros e degraus de 15CM')\n",
    "print(f'Tera um total de {int(degraus)} Degraus')"
   ]
  },
  {
   "cell_type": "code",
   "execution_count": null,
   "metadata": {},
   "outputs": [],
   "source": []
  },
  {
   "cell_type": "markdown",
   "metadata": {},
   "source": [
    "***31 - Faça um programa onde converta Uma Palavra em Minúscula para Maiúscula e verse versa***"
   ]
  },
  {
   "cell_type": "code",
   "execution_count": 2,
   "metadata": {},
   "outputs": [
    {
     "name": "stdout",
     "output_type": "stream",
     "text": [
      "A Palavra digitada foi Amigo\n",
      "A Palavra em Maiuscula e AMIGO\n",
      "A Palavra em Minuscula e amigo\n"
     ]
    }
   ],
   "source": [
    "palavra = input('Digite a palavras').title()\n",
    "print(f'A Palavra digitada foi {palavra}')\n",
    "print(f'A Palavra em Maiuscula e {palavra.upper()}')\n",
    "print(f'A Palavra em Minuscula e {palavra.lower()}')"
   ]
  },
  {
   "cell_type": "code",
   "execution_count": null,
   "metadata": {},
   "outputs": [],
   "source": []
  },
  {
   "cell_type": "markdown",
   "metadata": {},
   "source": [
    "***32 - Faça um programa que leia um numero inteiro posi􀆟vo de três dígitos (de 100 a 999) Gere um outro número formado de dígitos invertidos do número: Exemplo 123 = 321***"
   ]
  },
  {
   "cell_type": "code",
   "execution_count": 3,
   "metadata": {},
   "outputs": [
    {
     "name": "stdout",
     "output_type": "stream",
     "text": [
      "O Numero digitado foi 456\n",
      "O Numero invertido e 654\n"
     ]
    }
   ],
   "source": [
    "numero = int(input('Digite um numero inteiro entre 100 a 999'))\n",
    "\n",
    "string = str(numero)\n",
    "invertido = string[::-1]\n",
    "print(f'O Numero digitado foi {numero}')\n",
    "print(f'O Numero invertido e {invertido}')"
   ]
  },
  {
   "cell_type": "code",
   "execution_count": null,
   "metadata": {},
   "outputs": [],
   "source": []
  },
  {
   "cell_type": "markdown",
   "metadata": {},
   "source": [
    "***33 - Leia um numero inteiro de 4 dígitos (de 1000 a 9999) e imprima cada digito separado por linha***"
   ]
  },
  {
   "cell_type": "code",
   "execution_count": 4,
   "metadata": {},
   "outputs": [
    {
     "name": "stdout",
     "output_type": "stream",
     "text": [
      "O Numero digitado foi 3754 seus digitos sao \n",
      "\n",
      "          4 Unidades\n",
      "          5 Dezenas\n",
      "          7 Centena\n",
      "          3 Milhar\n"
     ]
    }
   ],
   "source": [
    "#Variavel\n",
    "num = int(input('Digite um numero: '))\n",
    "\n",
    "#Varificando o numero\n",
    "if num >= 1000 and num <= 9999:\n",
    "    unidade = num // 1 % 10\n",
    "    dezena  = num // 10 % 10\n",
    "    centena = num // 100 % 10\n",
    "    milhar  = num // 1000 % 10\n",
    "    \n",
    "    print(f'O Numero digitado foi {num} seus digitos sao ')\n",
    "    print(f'''\n",
    "          {unidade} Unidades\n",
    "          {dezena} Dezenas\n",
    "          {centena} Centena\n",
    "          {milhar} Milhar''')"
   ]
  },
  {
   "cell_type": "code",
   "execution_count": null,
   "metadata": {},
   "outputs": [],
   "source": []
  },
  {
   "cell_type": "markdown",
   "metadata": {},
   "source": [
    "***34 - Leia um valor inteiro em Segundos e imprima em Horas e Minutos***"
   ]
  },
  {
   "cell_type": "code",
   "execution_count": 2,
   "metadata": {},
   "outputs": [
    {
     "name": "stdout",
     "output_type": "stream",
     "text": [
      "125 Segundos equivalem a 2 Minutos\n"
     ]
    }
   ],
   "source": [
    "#Segundos\n",
    "segundos = int(input('Digite os segundos: '))\n",
    "\n",
    "#Conversao\n",
    "minutos = segundos / 60\n",
    "horas = minutos / 60\n",
    "\n",
    "if horas < 1:\n",
    "    print(f'{segundos} Segundos equivalem a {minutos:.0f} Minutos')\n",
    "else:\n",
    "    print(f'{segundos} Segundos equivalem a {horas:.2f} Horas')"
   ]
  },
  {
   "cell_type": "code",
   "execution_count": null,
   "metadata": {},
   "outputs": [],
   "source": []
  },
  {
   "cell_type": "markdown",
   "metadata": {},
   "source": [
    "***35 - Crie um programa que leia o ano de uma pessoa e calcule sua idade a partir da data atual***"
   ]
  },
  {
   "cell_type": "code",
   "execution_count": 3,
   "metadata": {},
   "outputs": [
    {
     "name": "stdout",
     "output_type": "stream",
     "text": [
      "Quem nasceu em 1995 hoje no ano atual 2024\n",
      "Tem ou Fara 29 anos\n"
     ]
    }
   ],
   "source": [
    "#Import da biblioteca\n",
    "from datetime import date as dt \n",
    "ano_atual = dt.today().year\n",
    "\n",
    "#Nascimento\n",
    "ano_nascimento = int(input('Ano de nascimento: '))\n",
    "\n",
    "#Calculo da idade\n",
    "idade = ano_atual - ano_nascimento\n",
    "\n",
    "print(f'Quem nasceu em {ano_nascimento} hoje no ano atual {ano_atual}')\n",
    "print(f'Tem ou Fara {idade} anos')"
   ]
  },
  {
   "cell_type": "code",
   "execution_count": null,
   "metadata": {},
   "outputs": [],
   "source": []
  },
  {
   "cell_type": "markdown",
   "metadata": {},
   "source": [
    "***36 - Três amigos jogaram na loteria. Caso eles ganhem, o prêmio dever ser repartido proporcionalmente ao valor que cada um deu para a aposta. Faça um programa que leia quanto cada apostador investiu, o valor do prêmio, e imprima quanto cada um ganharia com base no valor investido***"
   ]
  },
  {
   "cell_type": "code",
   "execution_count": 4,
   "metadata": {},
   "outputs": [
    {
     "name": "stdout",
     "output_type": "stream",
     "text": [
      "A Aposta foi de 135 R$\n",
      "O Jogador 1 Apostou: 33.33%\n",
      "O Jogador 2 Apostou: 49.63%\n",
      "O Jogador 3 Apostou: 17.04%\n",
      "O Valor do Premio e de 8000000.0 R$\n",
      "O Jogador 1 que apostou 33.33% da Aposta total ira receber 2666666.67R$ \n",
      "O Jogador 2 que apostou 49.63% da Aposta total ira receber 3970370.37R$\n",
      "O Jogador 3 que apostou 17.04% da Aposta total ira receber 1362962.96R$\n"
     ]
    }
   ],
   "source": [
    "#Valores que cada um apostou\n",
    "jogador1 = int(input('Valor que o Jogador1 Apostou: R$ '))\n",
    "jogador2 = int(input('Valor que o Jogador2 Apostou: R$ '))\n",
    "jogador3 = int(input('Valor que o Jogador3 Apostou: R$ '))\n",
    "\n",
    "#Valor da Aposta total\n",
    "aposta_total = jogador1 + jogador2 + jogador3\n",
    "print(f'A Aposta foi de {aposta_total} R$')\n",
    "\n",
    "#Percentual que cada jogador apostou\n",
    "percentual_jogador1 = (jogador1 / aposta_total) * 100\n",
    "percentual_jogador2 = (jogador2 / aposta_total) * 100\n",
    "percentual_jogador3 = (jogador3 / aposta_total) * 100\n",
    "\n",
    "#Cada Jogador Ganhou um Percentual de \n",
    "print(f'O Jogador 1 Apostou: {percentual_jogador1:.2f}%')\n",
    "print(f'O Jogador 2 Apostou: {percentual_jogador2:.2f}%')\n",
    "print(f'O Jogador 3 Apostou: {percentual_jogador3:.2f}%')\n",
    "\n",
    "#Valor do premio\n",
    "valor_premio = float(input('Digite o Valor total do Premio R$: '))\n",
    "print(f'O Valor do Premio e de {valor_premio} R$')\n",
    "\n",
    "#Calculo de quanto cada ganhador ira ganha\n",
    "premio1 = valor_premio * (percentual_jogador1 / 100)\n",
    "premio2 = valor_premio * (percentual_jogador2 / 100)\n",
    "premio3 = valor_premio * (percentual_jogador3 / 100)\n",
    "\n",
    "print(f'O Jogador 1 que apostou {percentual_jogador1:.2f}% da Aposta total ira receber {premio1:.2f}R$ ')\n",
    "print(f'O Jogador 2 que apostou {percentual_jogador2:.2f}% da Aposta total ira receber {premio2:.2f}R$')\n",
    "print(f'O Jogador 3 que apostou {percentual_jogador3:.2f}% da Aposta total ira receber {premio3:.2f}R$')"
   ]
  },
  {
   "cell_type": "code",
   "execution_count": null,
   "metadata": {},
   "outputs": [],
   "source": []
  },
  {
   "cell_type": "markdown",
   "metadata": {},
   "source": [
    "***37 - Faça um programa para ler as dimensões de um terreno (comprimento x largura) bem como o preço do metro de arame. Imprima o custo para cerca esse terreno todo***"
   ]
  },
  {
   "cell_type": "code",
   "execution_count": 5,
   "metadata": {},
   "outputs": [
    {
     "name": "stdout",
     "output_type": "stream",
     "text": [
      "Um terreno de 450.0 x 100.0 tem um total de 45000.0 Metros²\n",
      "Um terreno de 45000.0 Metros² tera um custo de arame de 180000.0 R$\n"
     ]
    }
   ],
   "source": [
    "#Variaveis\n",
    "comprimento = float(input('Comprimento do Terreno: M '))\n",
    "largura = float(input('Largura do Terreno: M '))\n",
    "\n",
    "#Metros quadrados\n",
    "metros_q = comprimento * largura\n",
    "print(f'Um terreno de {comprimento} x {largura} tem um total de {metros_q} Metros²')\n",
    "\n",
    "#Calculo da arame\n",
    "preco_arame = float(input('Digite o preço do Arame: R$ '))\n",
    "custo_arame = metros_q * preco_arame\n",
    "\n",
    "print(f'Um terreno de {metros_q} Metros² tera um custo de arame de {custo_arame} R$')"
   ]
  },
  {
   "cell_type": "code",
   "execution_count": null,
   "metadata": {},
   "outputs": [],
   "source": []
  },
  {
   "cell_type": "markdown",
   "metadata": {},
   "source": [
    "***38 - Crie um programa que leia um número Real qualquer pelo teclado e mostre na tela a sua porção Inteira Biblioteca: from math import trunc***"
   ]
  },
  {
   "cell_type": "code",
   "execution_count": 7,
   "metadata": {},
   "outputs": [
    {
     "name": "stdout",
     "output_type": "stream",
     "text": [
      "O Numero digitado foi 456.667\n",
      "O Numero truncado e 456\n",
      "O Numero formatado como int e 456\n",
      "O Numero Sem casas decimais e 457\n"
     ]
    }
   ],
   "source": [
    "#Biblioteca\n",
    "from math import trunc\n",
    "\n",
    "num = float(input('Digite um numero: '))\n",
    "print(f'O Numero digitado foi {num}')\n",
    "\n",
    "#Formas de arredonda o numero\n",
    "print(f'O Numero truncado e {trunc(num)}')\n",
    "print(f'O Numero formatado como int e {int(num)}')\n",
    "print(f'O Numero Sem casas decimais e {num:.0f}')"
   ]
  },
  {
   "cell_type": "code",
   "execution_count": null,
   "metadata": {},
   "outputs": [],
   "source": []
  },
  {
   "cell_type": "markdown",
   "metadata": {},
   "source": [
    "***39 - Faça um programa que leia o comprimento do cateto oposto e do cateto adjacente de um triângulo retângulo. Calcule e mostre o comprimento da hipotenusa. from math import hypot***"
   ]
  },
  {
   "cell_type": "code",
   "execution_count": 8,
   "metadata": {},
   "outputs": [
    {
     "name": "stdout",
     "output_type": "stream",
     "text": [
      "O Valor da Hipotenuza sera de 71.84\n"
     ]
    }
   ],
   "source": [
    "#Import da Biblioteca math\n",
    "from math import hypot\n",
    "\n",
    "cateto_oposto = float(input('Digite o Cateto Oposto: '))\n",
    "cateto_adjacente = float(input('Cateto Adjacente: '))\n",
    "\n",
    "#Hipotenuza\n",
    "hipotenuza = hypot(cateto_oposto, cateto_adjacente)\n",
    "\n",
    "print(f'O Valor da Hipotenuza sera de {hipotenuza:.2f}')"
   ]
  },
  {
   "cell_type": "code",
   "execution_count": null,
   "metadata": {},
   "outputs": [],
   "source": []
  },
  {
   "cell_type": "markdown",
   "metadata": {},
   "source": [
    "***40 - Faça um programa que leia um ângulo qualquer e mostre na tela o valor do seno, cosseno e tangente desse ângulo. from math import cos, sin, tan, radians***"
   ]
  },
  {
   "cell_type": "code",
   "execution_count": 9,
   "metadata": {},
   "outputs": [
    {
     "name": "stdout",
     "output_type": "stream",
     "text": [
      "O Angulo de 45.0 e equivalente a\n",
      "      0.71 Seno\n",
      "      0.71 Cosseno\n",
      "      1.00 Tangente\n"
     ]
    }
   ],
   "source": [
    "#Imports\n",
    "from math import cos, sin, tan, radians\n",
    "\n",
    "#Variavel\n",
    "angulo = float(input(\"Digite o angulo em graus: \"))\n",
    "seno = sin(radians(angulo))\n",
    "cosseno = cos(radians(angulo))\n",
    "tangente = tan(radians(angulo))\n",
    "\n",
    "print(f'''O Angulo de {angulo} e equivalente a\n",
    "      {seno:.2f} Seno\n",
    "      {cosseno:.2f} Cosseno\n",
    "      {tangente:.2f} Tangente''')"
   ]
  },
  {
   "cell_type": "code",
   "execution_count": null,
   "metadata": {},
   "outputs": [],
   "source": []
  },
  {
   "cell_type": "markdown",
   "metadata": {},
   "source": [
    "***41 - Um professor que escolher entre 4 alunos da sala quem ira apaga o quadro, e depois esse mesmo professor quer sortear uma ordem de apresentação de trabalho entre esses 4 alunos. Faça um programa que ajude esse professor escolhendo o aluno e a ordem de apresentação.***\n",
    "\n",
    "\n",
    "        from random import choice\n",
    "        from random import shuffle"
   ]
  },
  {
   "cell_type": "code",
   "execution_count": 10,
   "metadata": {},
   "outputs": [
    {
     "name": "stdout",
     "output_type": "stream",
     "text": [
      "Entre os alunos ['A', 'B', 'C', 'D'] o que ira apaga o Quadro e:  C\n",
      "A Ordem de Apresentação sera: ['C', 'D', 'A', 'B']\n"
     ]
    }
   ],
   "source": [
    "#Import da biblioteca\n",
    "from random import shuffle, choice\n",
    "\n",
    "aluno1 = input('Nome primeiro aluno: ')\n",
    "aluno2 = input('Nome segundo aluno: ')\n",
    "aluno3 = input('Nome terceiro aluno: ')\n",
    "aluno4 = input('Nome do quarto aluno: ')\n",
    "\n",
    "lista = [aluno1, aluno2, aluno3, aluno4]\n",
    "\n",
    "alunos = [aluno1, aluno2, aluno3, aluno4]\n",
    "shuffle(alunos)\n",
    "print(f'Entre os alunos {lista} o que ira apaga o Quadro e: ',end=' ')\n",
    "print(f'{choice(alunos)}')\n",
    "\n",
    "print(f'A Ordem de Apresentação sera: {alunos}')"
   ]
  },
  {
   "cell_type": "code",
   "execution_count": null,
   "metadata": {},
   "outputs": [],
   "source": []
  },
  {
   "cell_type": "markdown",
   "metadata": {},
   "source": [
    "***43 - Crie um programa que leia o nome completo de uma pessoa e mostre:***\n",
    "\n",
    "         O nome com todas as letras maiúsculas e minúsculas.\n",
    "         Quantas letras ao todo (sem considerar espaços).\n",
    "         Quantas letras tem o primeiro nome.\n",
    "         O nome ao inverso\n",
    "         Se o nome tem algum palíndromo"
   ]
  },
  {
   "cell_type": "code",
   "execution_count": 11,
   "metadata": {},
   "outputs": [
    {
     "name": "stdout",
     "output_type": "stream",
     "text": [
      "O Nome em Maiuscula e FRANCISCO DOUGLAS\n",
      "O Nome em Minuscula e francisco douglas\n",
      "O Nome tem ao todo sem espaços 16\n",
      "O Primeiro nome tem 9 letras\n",
      "O Ultimo nome tem 7 letras\n",
      "O Nome inverso e SALGUOD OCSICNARF\n"
     ]
    }
   ],
   "source": [
    "# Variaveis\n",
    "n_comp = str(input('Digite o nome completo: '))\n",
    "\n",
    "print(f'O Nome em Maiuscula e {n_comp.upper()}')\n",
    "print(f'O Nome em Minuscula e {n_comp.lower()}')\n",
    "print(f'O Nome tem ao todo sem espaços {len(n_comp) - n_comp.count(\" \")}')\n",
    "\n",
    "n = n_comp.split()\n",
    "\n",
    "print(f'O Primeiro nome tem {len(n[0])} letras')\n",
    "print(f'O Ultimo nome tem {len(n[-1])} letras')\n",
    "\n",
    "#Inverso\n",
    "inverso = n_comp[::-1]\n",
    "print(f'O Nome inverso e {inverso}')"
   ]
  },
  {
   "cell_type": "code",
   "execution_count": null,
   "metadata": {},
   "outputs": [],
   "source": []
  },
  {
   "cell_type": "markdown",
   "metadata": {},
   "source": [
    "***44 - Faça um programa que leia um número de 0 a 9999 e mostre na tela cada um dos dígitos separados***"
   ]
  },
  {
   "cell_type": "code",
   "execution_count": 12,
   "metadata": {},
   "outputs": [
    {
     "name": "stdout",
     "output_type": "stream",
     "text": [
      "O Numero digitado foi 4556\n",
      "O Numero saparado e: \n",
      "\n",
      "          6 Unidade\n",
      "          5 Dezena\n",
      "          5 Centena\n",
      "          4 Milhar\n"
     ]
    }
   ],
   "source": [
    "#Variavel\n",
    "numero = input('Digite um numero: ')\n",
    "\n",
    "try:\n",
    "    n = int(numero)\n",
    "    print(f'O Numero digitado foi {n}')\n",
    "    print(f'O Numero saparado e: ')\n",
    "    \n",
    "    unidade = n // 1 % 10\n",
    "    dezena  = n // 10 % 10\n",
    "    centena = n // 100 % 10\n",
    "    milhar  = n // 1000 % 10\n",
    "    \n",
    "    print(f'''\n",
    "          {unidade} Unidade\n",
    "          {dezena} Dezena\n",
    "          {centena} Centena\n",
    "          {milhar} Milhar''')\n",
    "    \n",
    "except ValueError as erro:\n",
    "    print('Tivemos um erro',erro)"
   ]
  },
  {
   "cell_type": "code",
   "execution_count": null,
   "metadata": {},
   "outputs": [],
   "source": []
  },
  {
   "cell_type": "markdown",
   "metadata": {},
   "source": [
    "***45 - Crie um programa que leia o nome de uma cidade diga se ela começa ou não com o nome “SANTO”***"
   ]
  },
  {
   "cell_type": "code",
   "execution_count": 13,
   "metadata": {},
   "outputs": [
    {
     "name": "stdout",
     "output_type": "stream",
     "text": [
      "True\n",
      "False\n",
      "False\n"
     ]
    }
   ],
   "source": [
    "cidade = str(input('Digite o nome da cidade: ').title())\n",
    "\n",
    "print(f\"{cidade[:5] == 'Santo'}\")\n",
    "print(f'{cidade[:5] == \"santo\"}')\n",
    "print(f'{cidade[:5] == \"SANTO\"}')"
   ]
  },
  {
   "cell_type": "code",
   "execution_count": null,
   "metadata": {},
   "outputs": [],
   "source": []
  },
  {
   "cell_type": "markdown",
   "metadata": {},
   "source": [
    "***46 - Crie um programa que leia o nome completo de uma pessoa e diga se ela tem ‘Silva’ no nome. Depois mostre em seguida o primeiro e o ultimo nome***"
   ]
  },
  {
   "cell_type": "code",
   "execution_count": 15,
   "metadata": {},
   "outputs": [
    {
     "name": "stdout",
     "output_type": "stream",
     "text": [
      "True\n",
      "False\n",
      "False\n"
     ]
    }
   ],
   "source": [
    "#Nome\n",
    "n_completo = str(input('Digite seu nome completo: ')).title()\n",
    "print(f\"{'Silva' in n_completo}\")\n",
    "print(f\"{'silva' in n_completo}\")\n",
    "print(f\"{'SILVA' in n_completo}\")"
   ]
  },
  {
   "cell_type": "code",
   "execution_count": null,
   "metadata": {},
   "outputs": [],
   "source": []
  },
  {
   "cell_type": "markdown",
   "metadata": {},
   "source": [
    "***47 - Faça um programa que leia uma frase pelo teclado e mostre quantas vezes aparece a letra “A”, em que posição ela aparece a primeira vez e em que posição ela aparece a última vez. O Programa devera testa se a Frase forma um palíndromo ou não***"
   ]
  },
  {
   "cell_type": "code",
   "execution_count": 16,
   "metadata": {},
   "outputs": [
    {
     "name": "stdout",
     "output_type": "stream",
     "text": [
      "A Letra A aparece: 2 vezes na palavra\n",
      "A Primeira Letra A apareceu na posicao 2\n",
      "A Ultima Letra A apareceu na posicao: 5\n",
      "A Frase MANGA VERDE Não Forma um palindromo EDREV AGNAM\n"
     ]
    }
   ],
   "source": [
    "#Frase\n",
    "frase = str(input('Digite uma frase: ')).upper()\n",
    "\n",
    "print(f'A Letra A aparece: {frase.count(\"A\")} vezes na palavra')\n",
    "print(f'A Primeira Letra A apareceu na posicao {frase.find(\"A\")+1}')\n",
    "print(f'A Ultima Letra A apareceu na posicao: {frase.rfind(\"A\")+1}')\n",
    "\n",
    "inverso = frase[::-1]\n",
    "\n",
    "#Palindromo ou nao\n",
    "if inverso == frase:\n",
    "    print(f'A Frase {frase} Forma um palindromo {inverso}')\n",
    "else:\n",
    "    print(f'A Frase {frase} Não Forma um palindromo {inverso}')"
   ]
  },
  {
   "cell_type": "code",
   "execution_count": null,
   "metadata": {},
   "outputs": [],
   "source": []
  },
  {
   "cell_type": "markdown",
   "metadata": {},
   "source": [
    "***48 - Escreva um programa que leia 2 string do usuário e imprima a Primeira string com t todas as palavras em ordem alfabética, ignorando letras maiúsculas e minúsculas. Depois imprima a Segunda string com todas as palavras em ordem alfabética inversa, ignorando letras maiúsculas e minúsculas.***"
   ]
  },
  {
   "cell_type": "code",
   "execution_count": 17,
   "metadata": {},
   "outputs": [
    {
     "name": "stdout",
     "output_type": "stream",
     "text": [
      "Primeira em Ordem Alfabetica: PALAVRA\n",
      "Segunda em Ordem Alfabetica inversa: SEGUNDA\n"
     ]
    }
   ],
   "source": [
    "#LENDO AS 2 STRINGS\n",
    "string1 = str(input('Digite a primeira String: '))\n",
    "string2 = str(input('Digite a segunda String: '))\n",
    "\n",
    "#Imprimindo a primeira com todas as letras em ordem alfabetica\n",
    "print(f'Primeira em Ordem Alfabetica: {\" \".join(sorted(string1.split(), key=str.lower))}')\n",
    "print(f'Segunda em Ordem Alfabetica inversa: {\" \".join(sorted(string2.split(), key=str.lower, reverse=True))}')"
   ]
  },
  {
   "cell_type": "code",
   "execution_count": null,
   "metadata": {},
   "outputs": [],
   "source": []
  }
 ],
 "metadata": {
  "kernelspec": {
   "display_name": "base",
   "language": "python",
   "name": "python3"
  },
  "language_info": {
   "codemirror_mode": {
    "name": "ipython",
    "version": 3
   },
   "file_extension": ".py",
   "mimetype": "text/x-python",
   "name": "python",
   "nbconvert_exporter": "python",
   "pygments_lexer": "ipython3",
   "version": "3.11.5"
  }
 },
 "nbformat": 4,
 "nbformat_minor": 2
}
