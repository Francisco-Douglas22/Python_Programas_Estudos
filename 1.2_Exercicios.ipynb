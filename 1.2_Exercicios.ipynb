{
 "cells": [
  {
   "cell_type": "markdown",
   "metadata": {},
   "source": [
    "# **Exercicios Basicos Python**"
   ]
  },
  {
   "cell_type": "markdown",
   "metadata": {},
   "source": [
    "# <font color='green'>***48 Exercicios Basicos***</font>"
   ]
  },
  {
   "cell_type": "markdown",
   "metadata": {},
   "source": [
    "-\n",
    "-\n",
    "-"
   ]
  },
  {
   "cell_type": "markdown",
   "metadata": {},
   "source": [
    "***1 -    Crie um programa que receba o nome, idade, de uma pessoa, depois imprima com uma mensagem de boas-vindas ao mundo da programação***"
   ]
  },
  {
   "cell_type": "code",
   "execution_count": 1,
   "metadata": {},
   "outputs": [
    {
     "name": "stdout",
     "output_type": "stream",
     "text": [
      "Seu nome e francisco douglas e voce tem 28\n",
      "francisco douglas Seja Bem Vindo ao mundo do python\n"
     ]
    }
   ],
   "source": [
    "#Variaveis\n",
    "nome = input('Digite o seu nome: ')\n",
    "idade = int(input('Digite a sua idade: '))\n",
    "mensagem = 'Seja Bem Vindo ao mundo do python'\n",
    "\n",
    "#Impressao\n",
    "print(f'Seu nome e {nome} e voce tem {idade}')\n",
    "print(f'{nome} {mensagem}')"
   ]
  },
  {
   "cell_type": "code",
   "execution_count": null,
   "metadata": {},
   "outputs": [],
   "source": []
  },
  {
   "cell_type": "code",
   "execution_count": null,
   "metadata": {},
   "outputs": [],
   "source": []
  },
  {
   "cell_type": "markdown",
   "metadata": {},
   "source": [
    "***2 - Faça um programa que leia algo pelo teclado e mostre na tela o seu tipo primitivo e todas as informações possíveis sobre ele.***"
   ]
  },
  {
   "cell_type": "code",
   "execution_count": 4,
   "metadata": {},
   "outputs": [
    {
     "name": "stdout",
     "output_type": "stream",
     "text": [
      "A Variavel e ddf e do tipo <class 'str'>\n",
      "E Numerica? True\n",
      "E Alfabetica? True\n",
      "E Decimal? False\n",
      "E um Digito? False\n",
      "Esta em Minuscula? True\n",
      "Esta em Maiuscula? False\n",
      "Ela tem Espaço? False\n"
     ]
    }
   ],
   "source": [
    "#Criando a variavel\n",
    "var = input('Digite algo: ')\n",
    "\n",
    "#Tipo:\n",
    "print(f'A Variavel e {var} e do tipo {type(var)}')\n",
    "\n",
    "#Informações\n",
    "print(f'E Numerica? {var.isalnum()}')\n",
    "print(f'E Alfabetica? {var.isalpha()}')\n",
    "print(f'E Decimal? {var.isdecimal()}')\n",
    "print(f'E um Digito? {var.isdigit()}')\n",
    "print(f'Esta em Minuscula? {var.islower()}')\n",
    "print(f'Esta em Maiuscula? {var.isupper()}')\n",
    "print(f'Ela tem Espaço? {var.isspace()}')\n"
   ]
  },
  {
   "cell_type": "code",
   "execution_count": null,
   "metadata": {},
   "outputs": [],
   "source": []
  },
  {
   "cell_type": "code",
   "execution_count": null,
   "metadata": {},
   "outputs": [],
   "source": []
  },
  {
   "cell_type": "markdown",
   "metadata": {},
   "source": [
    "***3 - Faça um programa que leia 2 números Inteiro some os e mostre na tela o seu sucessor e seu antecessor***"
   ]
  },
  {
   "cell_type": "code",
   "execution_count": 5,
   "metadata": {},
   "outputs": [
    {
     "name": "stdout",
     "output_type": "stream",
     "text": [
      "Os numeros digitados foram 3 e 4\n",
      "A Soma dos numeros e 7\n",
      "O Antecessor e 6 e o Sucessor e 8\n"
     ]
    }
   ],
   "source": [
    "#Variaveis numero\n",
    "numero_1 = int(input('Primeiro Numero: '))\n",
    "numero_2 = int(input('Segundo Numero: '))\n",
    "\n",
    "#Soma\n",
    "soma = numero_1 + numero_2\n",
    "sucessor = soma + 1\n",
    "antecessor = soma - 1\n",
    "\n",
    "#Resultados e impressao\n",
    "print(f'Os numeros digitados foram {numero_1} e {numero_2}')\n",
    "print(f'A Soma dos numeros e {soma}')\n",
    "print(f'O Antecessor e {antecessor} e o Sucessor e {sucessor}')"
   ]
  },
  {
   "cell_type": "code",
   "execution_count": null,
   "metadata": {},
   "outputs": [],
   "source": []
  },
  {
   "cell_type": "code",
   "execution_count": null,
   "metadata": {},
   "outputs": [],
   "source": []
  },
  {
   "cell_type": "markdown",
   "metadata": {},
   "source": [
    "***4 - Desenvolva um programa que leia as 4 notas de um aluno, calcule e mostre a sua média.***"
   ]
  },
  {
   "cell_type": "code",
   "execution_count": 6,
   "metadata": {},
   "outputs": [
    {
     "name": "stdout",
     "output_type": "stream",
     "text": [
      "As notas do aluno e (5.6, 7.5, 8.0, 5.0)\n",
      "A Media final do aluno e de 6.525\n"
     ]
    }
   ],
   "source": [
    "#Notas\n",
    "nota1 = float(input('Primeira nota: '))\n",
    "nota2 = float(input('Segunda nota: '))\n",
    "nota3 = float(input('Terceira nota: '))\n",
    "nota4 = float(input('Quarta nota: '))\n",
    "\n",
    "print(f'As notas do aluno e {nota1, nota2, nota3, nota4}')\n",
    "\n",
    "#Soma das notas\n",
    "soma_notas = nota1 + nota2 + nota3 + nota4\n",
    "\n",
    "#Calculo da media\n",
    "media = soma_notas /4\n",
    "\n",
    "#resultado impressao\n",
    "print(f'A Media final do aluno e de {media}')"
   ]
  },
  {
   "cell_type": "code",
   "execution_count": null,
   "metadata": {},
   "outputs": [],
   "source": []
  },
  {
   "cell_type": "code",
   "execution_count": null,
   "metadata": {},
   "outputs": [],
   "source": []
  },
  {
   "cell_type": "markdown",
   "metadata": {},
   "source": [
    "***5 - Escreva um programa que leia um valor em metros e o exiba convertido em (Quilometro, Hectômetro, Decâmetro, Decímetro, Centimetro, Milímetro) sendo que***\n",
    "       \n",
    "        Km = 1000 /\n",
    "        Hec = 100 /\n",
    "        Deca = 10 /\n",
    "        Deci = 10 *\n",
    "        Cent = 100 *\n",
    "        Mili = 1000 *"
   ]
  },
  {
   "cell_type": "code",
   "execution_count": 7,
   "metadata": {},
   "outputs": [
    {
     "name": "stdout",
     "output_type": "stream",
     "text": [
      "O Comprimento de 45 Metros e equivalente a: \n",
      "\n",
      "      0.045 Quilometros km\n",
      "      0.45 Hectometros\n",
      "      4.5 Decametros\n",
      "      450 Decimetros\n",
      "      4500 Centimetros\n",
      "      45000 Milimetros\n"
     ]
    }
   ],
   "source": [
    "#Variaveis\n",
    "metros = int(input('Digite o comprimento em metros: '))\n",
    "\n",
    "#Conversão\n",
    "km   = metros / 1000\n",
    "hec  = metros / 100 \n",
    "deca = metros / 10 \n",
    "deci = metros * 10\n",
    "cent = metros * 100\n",
    "mili = metros * 1000\n",
    "\n",
    "print(f'O Comprimento de {metros} Metros e equivalente a: ')\n",
    "print(f'''\n",
    "      {km} Quilometros km\n",
    "      {hec} Hectometros\n",
    "      {deca} Decametros\n",
    "      {deci} Decimetros\n",
    "      {cent} Centimetros\n",
    "      {mili} Milimetros''')"
   ]
  },
  {
   "cell_type": "code",
   "execution_count": null,
   "metadata": {},
   "outputs": [],
   "source": []
  },
  {
   "cell_type": "code",
   "execution_count": null,
   "metadata": {},
   "outputs": [],
   "source": []
  },
  {
   "cell_type": "markdown",
   "metadata": {},
   "source": [
    "***6 - Faça um programa que leia um número Inteiro qualquer e mostre na tela a sua tabuada. OBS sem utiliza laço de repetição ou mesmo funções***"
   ]
  },
  {
   "cell_type": "code",
   "execution_count": 8,
   "metadata": {},
   "outputs": [
    {
     "name": "stdout",
     "output_type": "stream",
     "text": [
      "4 + 1 = 5\n",
      "4 + 2 = 6\n",
      "4 + 3 = 7\n",
      "4 + 4 = 8\n",
      "4 + 5 = 9\n",
      "4 + 6 = 10\n",
      "4 + 7 = 11\n",
      "4 + 8 = 12\n",
      "4 + 9 = 13\n",
      "4 + 10 = 14\n",
      "\n",
      "\n",
      "==========\n",
      "4 x 1 = 5\n",
      "4 x 2 = 6\n",
      "4 x 3 = 7\n",
      "4 x 4 = 8\n",
      "4 x 5 = 9\n",
      "4 x 6 = 10\n",
      "4 x 7 = 11\n",
      "4 x 8 = 12\n",
      "4 x 9 = 13\n",
      "4 x 10 = 14\n"
     ]
    }
   ],
   "source": [
    "#Nuemro\n",
    "numero = int(input('Digite um numero para calculadora: '))\n",
    "print(f'{numero} + {1} = {numero + 1}')\n",
    "print(f'{numero} + {2} = {numero + 2}')\n",
    "print(f'{numero} + {3} = {numero + 3}')\n",
    "print(f'{numero} + {4} = {numero + 4}')\n",
    "print(f'{numero} + {5} = {numero + 5}')\n",
    "print(f'{numero} + {6} = {numero + 6}')\n",
    "print(f'{numero} + {7} = {numero + 7}')\n",
    "print(f'{numero} + {8} = {numero + 8}')\n",
    "print(f'{numero} + {9} = {numero + 9}')\n",
    "print(f'{numero} + {10} = {numero + 10}')\n",
    "\n",
    "print('\\n')\n",
    "print('='*10)\n",
    "\n",
    "print(f'{numero} x {1} = {numero + 1}')\n",
    "print(f'{numero} x {2} = {numero + 2}')\n",
    "print(f'{numero} x {3} = {numero + 3}')\n",
    "print(f'{numero} x {4} = {numero + 4}')\n",
    "print(f'{numero} x {5} = {numero + 5}')\n",
    "print(f'{numero} x {6} = {numero + 6}')\n",
    "print(f'{numero} x {7} = {numero + 7}')\n",
    "print(f'{numero} x {8} = {numero + 8}')\n",
    "print(f'{numero} x {9} = {numero + 9}')\n",
    "print(f'{numero} x {10} = {numero + 10}')\n"
   ]
  },
  {
   "cell_type": "code",
   "execution_count": null,
   "metadata": {},
   "outputs": [],
   "source": []
  },
  {
   "cell_type": "code",
   "execution_count": null,
   "metadata": {},
   "outputs": [],
   "source": []
  },
  {
   "cell_type": "markdown",
   "metadata": {},
   "source": [
    "***7 - Crie um programa que leia quanto dinheiro uma pessoa tem na carteira e mostre quantos dólares ela pode comprar***"
   ]
  },
  {
   "cell_type": "code",
   "execution_count": 10,
   "metadata": {},
   "outputs": [
    {
     "name": "stdout",
     "output_type": "stream",
     "text": [
      "Com a quantia de 5600.0 R$ voce podera compra 1135.90 U$\n"
     ]
    }
   ],
   "source": [
    "#Variaveis\n",
    "dinheiro = float(input('Quanto dinheiro voce tem? R$ '))\n",
    "valor_dolar = 4.93 #Data 25-01-2024\n",
    "\n",
    "#Conversao\n",
    "total_dolar = dinheiro / valor_dolar\n",
    "\n",
    "print(f'Com a quantia de {dinheiro} R$ voce podera compra {total_dolar:.2f} U$')"
   ]
  },
  {
   "cell_type": "code",
   "execution_count": null,
   "metadata": {},
   "outputs": [],
   "source": []
  },
  {
   "cell_type": "code",
   "execution_count": null,
   "metadata": {},
   "outputs": [],
   "source": []
  },
  {
   "cell_type": "markdown",
   "metadata": {},
   "source": [
    "***8 - Faça um programa que leia a largura e a altura de uma parede em metros, calcule a sua área e a quantidade de tinta necessária para pintá-la, sabendo que cada litro de tinta pinta uma área de 2 metros quadrados***"
   ]
  },
  {
   "cell_type": "code",
   "execution_count": 1,
   "metadata": {},
   "outputs": [
    {
     "name": "stdout",
     "output_type": "stream",
     "text": [
      "Uma parede de 20.0 Metros² levara 10.0 litros de tinta para ser pintada\n"
     ]
    }
   ],
   "source": [
    "#Variaveis\n",
    "altura = float(input('Digite a Altura da Parede: '))\n",
    "largura = float(input('Digite a Largura da Parede: '))\n",
    "\n",
    "#Calculo metros quadrados\n",
    "m_quadrado = altura * largura\n",
    "\n",
    "#Litros de Tinda\n",
    "litros = m_quadrado / 2\n",
    "\n",
    "print(f'Uma parede de {m_quadrado} Metros² levara {litros} litros de tinta para ser pintada')"
   ]
  },
  {
   "cell_type": "code",
   "execution_count": null,
   "metadata": {},
   "outputs": [],
   "source": []
  },
  {
   "cell_type": "code",
   "execution_count": null,
   "metadata": {},
   "outputs": [],
   "source": []
  },
  {
   "cell_type": "markdown",
   "metadata": {},
   "source": [
    "***9 - Faça um algoritmo que leia o nome e o salário de um funcionário e mostre seu novo salário, com 15% de\n",
    "aumento***"
   ]
  },
  {
   "cell_type": "code",
   "execution_count": 3,
   "metadata": {},
   "outputs": [
    {
     "name": "stdout",
     "output_type": "stream",
     "text": [
      "O Funcionario que ganhava 4500.0 R$ por mes com 15 % de aumento\n",
      "Passara a ganha 5175.00 R$\n"
     ]
    }
   ],
   "source": [
    "#Variavel\n",
    "salario = float(input('Salario do Funcionario: R$ '))\n",
    "\n",
    "#Aumento \n",
    "aumento = 15\n",
    "\n",
    "#Novo Salario\n",
    "novo_salario = salario * ((100 + 15) / 100)\n",
    "\n",
    "print(f'O Funcionario que ganhava {salario} R$ por mes com {aumento} % de aumento')\n",
    "print(f'Passara a ganha {novo_salario:.2f} R$')"
   ]
  },
  {
   "cell_type": "code",
   "execution_count": null,
   "metadata": {},
   "outputs": [],
   "source": []
  },
  {
   "cell_type": "code",
   "execution_count": null,
   "metadata": {},
   "outputs": [],
   "source": []
  },
  {
   "cell_type": "markdown",
   "metadata": {},
   "source": [
    "***10 - Escreva um programa que pergunte a quantidade de Km percorridos por um carro alugado e a quantidade\n",
    "de dias pelos quais ele foi alugado. Calcule o preço a pagar, sabendo que o carro custa R$60 por dia e R$0,15 por Km rodado***"
   ]
  },
  {
   "cell_type": "code",
   "execution_count": 4,
   "metadata": {},
   "outputs": [
    {
     "name": "stdout",
     "output_type": "stream",
     "text": [
      "O Carro que ficou alugado por 20 e rodou 1200.0 tera um custo de 1380.0 R$\n"
     ]
    }
   ],
   "source": [
    "#Variavel\n",
    "km_rodado = float(input('Quantos Km percorreu: '))\n",
    "dias = int(input('Quantos Dias ficou alugado: '))\n",
    "\n",
    "#Custo\n",
    "custo = (km_rodado * 0.15) + (dias * 60)\n",
    "\n",
    "print(f'O Carro que ficou alugado por {dias} e rodou {km_rodado} tera um custo de {custo} R$')"
   ]
  },
  {
   "cell_type": "code",
   "execution_count": null,
   "metadata": {},
   "outputs": [],
   "source": []
  },
  {
   "cell_type": "code",
   "execution_count": null,
   "metadata": {},
   "outputs": [],
   "source": []
  },
  {
   "cell_type": "markdown",
   "metadata": {},
   "source": [
    "***11 - Programa que leia 4 números, 2 Inteiros e 2 Flutuantes, faça a soma dos Inteiros e a multiplicação dos\n",
    "Flutuantes, depois faça a multiplicação dos Flutuantes ao quadrado e a Raiz quadrada dos inteiros. Some o Resultado final dos Números e Divida por 3***"
   ]
  },
  {
   "cell_type": "code",
   "execution_count": 5,
   "metadata": {},
   "outputs": [
    {
     "name": "stdout",
     "output_type": "stream",
     "text": [
      "A Soma dos Inteiros e 9\n",
      "A Multiplicação dos Float ao quadrado e 89.4726\n",
      "A Raiz da soma dos inteiros e 3.0\n",
      "A Soma final e de 92.4726\n",
      "O Resultado final e de 30.8242\n"
     ]
    }
   ],
   "source": [
    "#Variavei\n",
    "n1_int = int(input('Primeiro Inteiro: '))\n",
    "n2_int = int(input('Segundo Inteiro: '))\n",
    "\n",
    "n1_float = float(input('Primeiro Float: '))\n",
    "n2_float = float(input('Segundo Float: '))\n",
    "\n",
    "#Soma inteiros\n",
    "soma_int = n1_int + n2_int\n",
    "print(f'A Soma dos Inteiros e {soma_int}')\n",
    "\n",
    "#Multiplicacao float\n",
    "mult_float = (n1_float * n2_float) * 2\n",
    "print(f'A Multiplicação dos Float ao quadrado e {mult_float}')\n",
    "\n",
    "#Raiz inteiro\n",
    "raiz_int = soma_int ** (1 / 2)\n",
    "print(f'A Raiz da soma dos inteiros e {raiz_int}')\n",
    "\n",
    "#Soma e divisao final\n",
    "soma_fin = raiz_int + mult_float\n",
    "print(f'A Soma final e de {soma_fin}')\n",
    "\n",
    "#Divisao por 3\n",
    "dividir3 = soma_fin / 3\n",
    "print(f'O Resultado final e de {dividir3}')\n",
    "\n"
   ]
  },
  {
   "cell_type": "code",
   "execution_count": null,
   "metadata": {},
   "outputs": [],
   "source": []
  },
  {
   "cell_type": "code",
   "execution_count": null,
   "metadata": {},
   "outputs": [],
   "source": []
  },
  {
   "cell_type": "markdown",
   "metadata": {},
   "source": [
    "***12 - Programa que leia uma Temperatura em Graus Celsius e Apresente-a convertida em Graus\n",
    "Fahrenheit. Depois faça o inverso do programa transformando Fahrenheit em Celsius***\n",
    "\n",
    "        Formulas: F = celsius * (9.0/5.0) + 32\n",
    "        Formulas: C = (F – 32) * 5 / 9"
   ]
  },
  {
   "cell_type": "code",
   "execution_count": 10,
   "metadata": {},
   "outputs": [
    {
     "name": "stdout",
     "output_type": "stream",
     "text": [
      "A Temperatura de 7.22 Graus Celsius C° equivale a 45.00 Graus F°\n",
      "A Temperatura de 113.0 Graus Fahrenheit F° equeivale a 45.00 Graus C°\n"
     ]
    }
   ],
   "source": [
    "#Variaveis\n",
    "graus_c = float(input('Digite a temperatura em Graus C°: '))\n",
    "graus_f = float(input('Digite a temperatura em Graus F°: '))\n",
    "\n",
    "#Conversao\n",
    "c_para_f = graus_c * (9/5) + 32\n",
    "f_para_c = (graus_f - 32) * (5/9)\n",
    "\n",
    "print(f'A Temperatura de {graus_c} Graus Celsius C° equivale a {c_para_f:.2f} Graus F°')\n",
    "print(f'A Temperatura de {graus_f} Graus Fahrenheit F° equeivale a {f_para_c:.2f} Graus C°')"
   ]
  },
  {
   "cell_type": "code",
   "execution_count": null,
   "metadata": {},
   "outputs": [],
   "source": []
  },
  {
   "cell_type": "code",
   "execution_count": null,
   "metadata": {},
   "outputs": [],
   "source": []
  },
  {
   "cell_type": "markdown",
   "metadata": {},
   "source": [
    "***13 - Programa que receba 2 inputs, um Para transforma Graus Kelvin em Graus Celsius e o outro\n",
    "Para Transforma Graus Celsius em Graus Kelvin***\n",
    "\n",
    "        Formulas: C = K – 273.15\n",
    "        Formulas: K = C + 273.15"
   ]
  },
  {
   "cell_type": "code",
   "execution_count": 12,
   "metadata": {},
   "outputs": [
    {
     "name": "stdout",
     "output_type": "stream",
     "text": [
      "A Temperatura de 318.15 Graus Kelvin equivalem a 45.00 Graus Celsius \n",
      "A Temperatura de -228.15 Graus Celsius equivalem a 45.00 Graus Kelvin\n"
     ]
    }
   ],
   "source": [
    "#Variaveis\n",
    "graus_kelvin = float(input('Digite a Temperatura em Graus Kelvin: '))\n",
    "graus_celsius = float(input('Digite os Graus Celsius: '))\n",
    "\n",
    "#Conversoes\n",
    "k_para_c = graus_kelvin - 273.15\n",
    "c_para_k = graus_celsius + 273.15\n",
    "\n",
    "print(f'A Temperatura de {graus_kelvin} Graus Kelvin equivalem a {k_para_c:.2f} Graus Celsius ')\n",
    "print(f'A Temperatura de {graus_celsius} Graus Celsius equivalem a {c_para_k:.2f} Graus Kelvin')"
   ]
  },
  {
   "cell_type": "code",
   "execution_count": null,
   "metadata": {},
   "outputs": [],
   "source": []
  },
  {
   "cell_type": "code",
   "execution_count": null,
   "metadata": {},
   "outputs": [],
   "source": []
  },
  {
   "cell_type": "markdown",
   "metadata": {},
   "source": [
    "***14 - Programa que ler a velocidade em KM/H (quilômetros por hora) e M/S (Metros por segundo).\n",
    "Converta KM/H em M/S e M/S em KM/H.***\n",
    "\n",
    "        Formulas: M = K / 3.6\n",
    "        Formulas: K = M * 3.6"
   ]
  },
  {
   "cell_type": "code",
   "execution_count": 16,
   "metadata": {},
   "outputs": [
    {
     "name": "stdout",
     "output_type": "stream",
     "text": [
      "120.0 Km por hora equivale a 33.33 Metros por segundo\n",
      "33.33 Metros por segundo equivale a 120 Quilometros por hora\n"
     ]
    }
   ],
   "source": [
    "#Variveis\n",
    "v_km = float(input('Velocidade em KM: '))\n",
    "metros_s = float(input('Metros por Segundo: '))\n",
    "\n",
    "#Conversao\n",
    "km_s = v_km / 3.6\n",
    "m_km = metros_s * 3.6\n",
    "\n",
    "print(f'{v_km} Km por hora equivale a {km_s:.2f} Metros por segundo')\n",
    "print(f'{metros_s} Metros por segundo equivale a {m_km:.0f} Quilometros por hora')"
   ]
  },
  {
   "cell_type": "code",
   "execution_count": null,
   "metadata": {},
   "outputs": [],
   "source": []
  },
  {
   "cell_type": "code",
   "execution_count": null,
   "metadata": {},
   "outputs": [],
   "source": []
  },
  {
   "cell_type": "markdown",
   "metadata": {},
   "source": [
    "***15 - Leia 2 Distancia, Milha e Km quilômetros, transforme as Milhas em Km e Quilometro em Milhas.***\n",
    "\n",
    "        Formulas: K = 1.61 * M\n",
    "        Formulas: M = K / 1.61"
   ]
  },
  {
   "cell_type": "code",
   "execution_count": 18,
   "metadata": {},
   "outputs": [
    {
     "name": "stdout",
     "output_type": "stream",
     "text": [
      "120.0 Km equivale a 74.53 Milhas\n",
      "75.0 Milhas equivale a 120.75 Km\n"
     ]
    }
   ],
   "source": [
    "#Variaveis\n",
    "km = float(input('Km por hora: '))\n",
    "milhas = float(input('Milhas por hora: '))\n",
    "\n",
    "#Conversao\n",
    "km_milhas = km / 1.61\n",
    "milhas_km = milhas * 1.61\n",
    "\n",
    "print(f'{km} Km equivale a {km_milhas:.2f} Milhas')\n",
    "print(f'{milhas} Milhas equivale a {milhas_km:.2f} Km')"
   ]
  },
  {
   "cell_type": "code",
   "execution_count": null,
   "metadata": {},
   "outputs": [],
   "source": []
  },
  {
   "cell_type": "code",
   "execution_count": null,
   "metadata": {},
   "outputs": [],
   "source": []
  },
  {
   "cell_type": "markdown",
   "metadata": {},
   "source": [
    "***16 - Leia 2 ângulos, 1 Radiano e outro em Graus, transforme o Radiano em Graus e Graus em Radiano***\n",
    "\n",
    "        Formulas: R = G * pi / 180 sendo valor de pi = 3.14\n",
    "        Formulas: G = R * 180 / pi"
   ]
  },
  {
   "cell_type": "code",
   "execution_count": 19,
   "metadata": {},
   "outputs": [
    {
     "name": "stdout",
     "output_type": "stream",
     "text": [
      "A Conversao de 45 Radiano para Graus e 2579.62\n",
      "A Conversao de 56 Graus para Radiano e 0.98\n"
     ]
    }
   ],
   "source": [
    "#Variaveis\n",
    "angulo_r = int(input('Angulo radiano: '))\n",
    "angulo_g = int(input('Angulo em Graus: '))\n",
    "\n",
    "#Conversao de Radiano para Graus\n",
    "rad_graus = angulo_r * 180/3.14\n",
    "print(f'A Conversao de {angulo_r} Radiano para Graus e {rad_graus:.2f}')\n",
    "\n",
    "#Conversao de Graus para Radiano\n",
    "g_rad = angulo_g * 3.14 / 180\n",
    "print(f'A Conversao de {angulo_g} Graus para Radiano e {g_rad:.2f}')"
   ]
  },
  {
   "cell_type": "code",
   "execution_count": null,
   "metadata": {},
   "outputs": [],
   "source": []
  },
  {
   "cell_type": "code",
   "execution_count": null,
   "metadata": {},
   "outputs": [],
   "source": []
  },
  {
   "cell_type": "markdown",
   "metadata": {},
   "source": [
    "***17 - Leia 2 comprimento, Polegadas e Centimetros, transforme primeiro Polegadas em Centimetros e depois transforme Centimetros em Polegadas.***\n",
    "\n",
    "        Formulas: C = P * 2.54\n",
    "        Formulas: P = C / 2.54"
   ]
  },
  {
   "cell_type": "code",
   "execution_count": 21,
   "metadata": {},
   "outputs": [
    {
     "name": "stdout",
     "output_type": "stream",
     "text": [
      "34 Polegadas equivalem a 86.36 Centimetros\n",
      "45 Centimetros equivalem a 17.72 Polegadas\n"
     ]
    }
   ],
   "source": [
    "#variaveis\n",
    "polegadas = int(input('Digite as polegadas: '))\n",
    "centimetros = int(input('Digite os centimetros: '))\n",
    "\n",
    "#Conversao \n",
    "p_para_c = polegadas * 2.54\n",
    "c_para_p = centimetros / 2.54\n",
    "\n",
    "print(f'{polegadas} Polegadas equivalem a {p_para_c:.2f} Centimetros')\n",
    "print(f'{centimetros} Centimetros equivalem a {c_para_p:.2f} Polegadas')"
   ]
  },
  {
   "cell_type": "code",
   "execution_count": null,
   "metadata": {},
   "outputs": [],
   "source": []
  },
  {
   "cell_type": "code",
   "execution_count": null,
   "metadata": {},
   "outputs": [],
   "source": []
  },
  {
   "cell_type": "code",
   "execution_count": null,
   "metadata": {},
   "outputs": [],
   "source": []
  },
  {
   "cell_type": "code",
   "execution_count": null,
   "metadata": {},
   "outputs": [],
   "source": []
  },
  {
   "cell_type": "code",
   "execution_count": null,
   "metadata": {},
   "outputs": [],
   "source": []
  },
  {
   "cell_type": "code",
   "execution_count": null,
   "metadata": {},
   "outputs": [],
   "source": []
  },
  {
   "cell_type": "code",
   "execution_count": null,
   "metadata": {},
   "outputs": [],
   "source": []
  },
  {
   "cell_type": "code",
   "execution_count": null,
   "metadata": {},
   "outputs": [],
   "source": []
  },
  {
   "cell_type": "code",
   "execution_count": null,
   "metadata": {},
   "outputs": [],
   "source": []
  },
  {
   "cell_type": "code",
   "execution_count": null,
   "metadata": {},
   "outputs": [],
   "source": []
  },
  {
   "cell_type": "code",
   "execution_count": null,
   "metadata": {},
   "outputs": [],
   "source": []
  },
  {
   "cell_type": "code",
   "execution_count": null,
   "metadata": {},
   "outputs": [],
   "source": []
  },
  {
   "cell_type": "code",
   "execution_count": null,
   "metadata": {},
   "outputs": [],
   "source": []
  },
  {
   "cell_type": "code",
   "execution_count": null,
   "metadata": {},
   "outputs": [],
   "source": []
  },
  {
   "cell_type": "code",
   "execution_count": null,
   "metadata": {},
   "outputs": [],
   "source": []
  },
  {
   "cell_type": "code",
   "execution_count": null,
   "metadata": {},
   "outputs": [],
   "source": []
  },
  {
   "cell_type": "code",
   "execution_count": null,
   "metadata": {},
   "outputs": [],
   "source": []
  },
  {
   "cell_type": "code",
   "execution_count": null,
   "metadata": {},
   "outputs": [],
   "source": []
  },
  {
   "cell_type": "code",
   "execution_count": null,
   "metadata": {},
   "outputs": [],
   "source": []
  },
  {
   "cell_type": "code",
   "execution_count": null,
   "metadata": {},
   "outputs": [],
   "source": []
  },
  {
   "cell_type": "code",
   "execution_count": null,
   "metadata": {},
   "outputs": [],
   "source": []
  },
  {
   "cell_type": "code",
   "execution_count": null,
   "metadata": {},
   "outputs": [],
   "source": []
  },
  {
   "cell_type": "code",
   "execution_count": null,
   "metadata": {},
   "outputs": [],
   "source": []
  },
  {
   "cell_type": "code",
   "execution_count": null,
   "metadata": {},
   "outputs": [],
   "source": []
  }
 ],
 "metadata": {
  "kernelspec": {
   "display_name": "base",
   "language": "python",
   "name": "python3"
  },
  "language_info": {
   "codemirror_mode": {
    "name": "ipython",
    "version": 3
   },
   "file_extension": ".py",
   "mimetype": "text/x-python",
   "name": "python",
   "nbconvert_exporter": "python",
   "pygments_lexer": "ipython3",
   "version": "3.12.1"
  }
 },
 "nbformat": 4,
 "nbformat_minor": 2
}
