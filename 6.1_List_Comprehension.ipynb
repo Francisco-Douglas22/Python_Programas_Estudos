{
 "cells": [
  {
   "cell_type": "markdown",
   "metadata": {},
   "source": [
    "# ***List Comprehension***"
   ]
  },
  {
   "cell_type": "code",
   "execution_count": 1,
   "metadata": {},
   "outputs": [
    {
     "name": "stdout",
     "output_type": "stream",
     "text": [
      "Ola Mundo\n"
     ]
    }
   ],
   "source": [
    "print('Ola Mundo')"
   ]
  },
  {
   "cell_type": "code",
   "execution_count": 3,
   "metadata": {},
   "outputs": [
    {
     "name": "stdout",
     "output_type": "stream",
     "text": [
      "[10, 20, 30, 40, 50, 60, 70]\n",
      "[0.5, 1.0, 1.5, 2.0, 2.5, 3.0, 3.5]\n"
     ]
    }
   ],
   "source": [
    "#Exemplo de List\n",
    "numeros = [1, 2, 3, 4, 5, 6, 7]\n",
    "\n",
    "#Quero que multiplique x 10 para cada numero in numeros\n",
    "res = [numero * 10 for numero in numeros]\n",
    "print(res)\n",
    "\n",
    "resp = [numero / 2 for numero in numeros]\n",
    "print(resp)"
   ]
  },
  {
   "cell_type": "code",
   "execution_count": 4,
   "metadata": {},
   "outputs": [
    {
     "name": "stdout",
     "output_type": "stream",
     "text": [
      "[1, 4, 9, 16, 25, 36, 49]\n"
     ]
    }
   ],
   "source": [
    "#Utilizando funcao\n",
    "def funcao(valor):\n",
    "    return valor * valor \n",
    "\n",
    "resd = [funcao(numero) for numero in numeros]\n",
    "print(resd)"
   ]
  },
  {
   "cell_type": "code",
   "execution_count": 7,
   "metadata": {},
   "outputs": [
    {
     "name": "stdout",
     "output_type": "stream",
     "text": [
      "[1, 2, 3, 4, 5, 6, 7, 8, 1, 2, 3, 4, 5, 6, 7, 8, [...]]\n",
      "\n",
      "\n",
      "[2, 4, 6, 8, 10, 12, 14, 16]\n"
     ]
    }
   ],
   "source": [
    "#List comprehension vs loop\n",
    "numeros  = [1, 2, 3, 4, 5, 6, 7, 8]\n",
    "\n",
    "n_dobrados = []\n",
    "\n",
    "for numero in numeros:\n",
    "    n_dobrados = numeros * 2\n",
    "    n_dobrados.append(n_dobrados)\n",
    "print(n_dobrados)\n",
    "\n",
    "print('\\n')\n",
    "\n",
    "#Utilizando o list comprehension\n",
    "print([numero * 2 for numero in numeros])"
   ]
  },
  {
   "cell_type": "code",
   "execution_count": 12,
   "metadata": {},
   "outputs": [
    {
     "name": "stdout",
     "output_type": "stream",
     "text": [
      "['P', 'R', 'O', 'G', 'R', 'A', 'M', 'A', 'N', 'D', 'O', ' ', 'E', 'M', ' ', 'P', 'Y', 'T', 'H', 'O', 'N']\n",
      "['Maria', 'Joca', 'Joao', 'Lucas', 'Douglas', 'Laurice']\n",
      "[3, 6, 9, 12, 15, 18, 21, 24, 27]\n",
      "[False, False, False, True, True, True, True]\n",
      "['1', '34', '2', '5', '7']\n"
     ]
    }
   ],
   "source": [
    "#Exemplo\n",
    "nome = 'Programando em Python'\n",
    "print([letra.upper() for letra in nome])\n",
    "\n",
    "#Exemplo\n",
    "amigos = ['maria', 'joca', 'joao', 'lucas', 'douglas', 'laurice']\n",
    "print([amigo.title() for amigo in amigos])\n",
    "\n",
    "#Exemplo\n",
    "print([n * 3 for n in range(1, 10)])\n",
    "\n",
    "#Exemplo\n",
    "print([bool(valor) for valor in [0, [], '', True, 1, 3, 5.6]])\n",
    "\n",
    "#Exemplo\n",
    "print([str(numero) for numero in [1, 34, 2, 5, 7]])"
   ]
  },
  {
   "cell_type": "code",
   "execution_count": 24,
   "metadata": {},
   "outputs": [
    {
     "name": "stdout",
     "output_type": "stream",
     "text": [
      "[6, 4, 8, 12, 2]\n",
      "[1, 3, 1, 5, 7, 3, 9]\n",
      "[6, 4, 8, 12, 2]\n",
      "[1, 3, 1, 5, 7, 3, 9]\n",
      "['IMPA 1', 'IMPA 3', 'IMPA 1', 'IMPA 5', 'PAR 6', 'IMPA 7', 'IMPA 3', 'PAR 4', 'PAR 8', 'IMPA 9', 'PAR 12', 'PAR 2']\n",
      "[0.5, 1.5, 0.5, 2.5, 12, 3.5, 1.5, 8, 16, 4.5, 24, 4]\n"
     ]
    }
   ],
   "source": [
    "#Implementando Estruturas Condicionais Logicas\n",
    "numeros = [1, 3, 1, 5, 6, 7, 3, 4, 8, 9, 12, 2]\n",
    "pares = [numero for numero in numeros if numero % 2 == 0]\n",
    "impares = [numero for numero in numeros if numero % 2 != 0]\n",
    "print(pares)\n",
    "print(impares)\n",
    "\n",
    "#Exemplo Refatorando\n",
    "pares = [numero for numero in numeros if not numero % 2]\n",
    "impares = [numero for numero in numeros if numero % 2]\n",
    "print(pares)\n",
    "print(impares)\n",
    "\n",
    "#Exemplo utilizando if dentro da List\n",
    "par_impa = [f\"PAR {numero}\" if numero % 2 == 0 else f\"IMPA {numero}\" for numero in numeros]\n",
    "print(par_impa)\n",
    "\n",
    "#Multiplica\n",
    "res = [numero * 2 if numero % 2 == 0 else numero / 2 for numero in numeros]\n",
    "print(res)"
   ]
  },
  {
   "cell_type": "code",
   "execution_count": 34,
   "metadata": {},
   "outputs": [
    {
     "name": "stdout",
     "output_type": "stream",
     "text": [
      "1\n",
      "2\n",
      "3\n",
      "4\n",
      "5\n",
      "6\n",
      "7\n",
      "8\n",
      "9\n",
      "[[1, 2, 3], [1, 2, 3], [1, 2, 3]]\n",
      "[['O', 'X', 'O'], ['O', 'X', 'O'], ['O', 'X', 'O']]\n",
      "[['*', '*', '*'], ['*', '*', '*'], ['*', '*', '*']]\n"
     ]
    }
   ],
   "source": [
    "#Listas aninhadas\n",
    "listas = [[1, 2, 3], [4, 5, 6], [7, 8, 9]] #Matrix 3 x 3\n",
    "\n",
    "#List comprehension\n",
    "[[print(valor) for valor in lista] for lista in listas]\n",
    "\n",
    "#Exemplo\n",
    "tabuleiro = [[numero for numero in range(1, 4)] for valor in range(1, 4)]\n",
    "print(tabuleiro)\n",
    "\n",
    "#Gerando Jogadas para o Jogo da velha\n",
    "velha = [[\"X\" if numero % 2 == 0 else \"O\" for numero in range(1, 4)] for valor in range(1, 4)]\n",
    "print(f'{velha}')\n",
    "\n",
    "#Exemplo\n",
    "print([[\"*\" for i in range(1, 4)] for j in range(1, 4)])"
   ]
  },
  {
   "cell_type": "code",
   "execution_count": null,
   "metadata": {},
   "outputs": [],
   "source": []
  },
  {
   "cell_type": "markdown",
   "metadata": {},
   "source": [
    "# ***Dictionary Comprehension***"
   ]
  },
  {
   "cell_type": "code",
   "execution_count": 40,
   "metadata": {},
   "outputs": [
    {
     "name": "stdout",
     "output_type": "stream",
     "text": [
      "{'a': 1, 'b': 16, 'c': 4, 'd': 36, 'e': 9, 'f': 25}\n",
      "{1: 1, 2: 4, 3: 9, 4: 16, 5: 25, 6: 36}\n",
      "{'a': 1, 'b': 2, 'c': 3, 'd': 4, 'e': 5}\n"
     ]
    }
   ],
   "source": [
    "#Exemplo\n",
    "num = {'a':1, 'b':4, 'c':2, 'd':6, 'e':3, 'f':5}\n",
    "quadrado = {chave: valor ** 2 for chave, valor in num.items()}\n",
    "print(quadrado)\n",
    "\n",
    "#Exemplo\n",
    "numero = [1, 2, 3, 4, 5, 6]\n",
    "quadro = {valor: valor ** 2 for valor in numero}\n",
    "print(quadro)\n",
    "\n",
    "#Exemplo\n",
    "chaves = 'abcde'\n",
    "valores = [1, 2, 3, 4, 5]\n",
    "\n",
    "mistura = {chaves[i]: valores[i] for i in range(0, len(chaves))}\n",
    "print(mistura)"
   ]
  },
  {
   "cell_type": "code",
   "execution_count": 42,
   "metadata": {},
   "outputs": [
    {
     "name": "stdout",
     "output_type": "stream",
     "text": [
      "{1: 'impar', 2: 'par', 5: 'impar', 12: 'par', 8: 'par', 9: 'impar', 23: 'impar', 4: 'par', 3: 'impar'}\n"
     ]
    }
   ],
   "source": [
    "#Exemplo com logica condicional\n",
    "numeros = [1, 2, 5, 12, 8, 9, 23, 5, 4, 3]\n",
    "res = {num: (\"par\" if num % 2 == 0 else \"impar\") for num in numeros}\n",
    "print(res)"
   ]
  },
  {
   "cell_type": "code",
   "execution_count": null,
   "metadata": {},
   "outputs": [],
   "source": []
  },
  {
   "cell_type": "markdown",
   "metadata": {},
   "source": [
    "# **Set Comprehension**"
   ]
  },
  {
   "cell_type": "code",
   "execution_count": 48,
   "metadata": {},
   "outputs": [
    {
     "name": "stdout",
     "output_type": "stream",
     "text": [
      "{1, 2, 3, 4, 5, 6, 7} <class 'set'>\n",
      "{0, 1, 64, 4, 36, 9, 16, 49, 81, 25} <class 'set'>\n",
      "{1, 2, 3, 4, 5, 6, 7, 8, 9, 10} <class 'set'>\n",
      "{1: 1, 2: 2, 3: 3, 4: 4, 5: 5, 6: 6, 7: 7, 8: 8, 9: 9, 10: 10} <class 'dict'>\n"
     ]
    }
   ],
   "source": [
    "#Exemplo\n",
    "numeros = {num for num in range(1, 8)}\n",
    "print(numeros, type(numeros))\n",
    "\n",
    "#Outro Exemplo\n",
    "numeros = {x ** 2 for x in range(10)}\n",
    "print(numeros, type(numeros))\n",
    "\n",
    "#Diferença de Sets para Dicionario\n",
    "sets = {numero for numero in range(1, 11)}\n",
    "dicio = {numero: numero for numero in range(1, 11)}\n",
    "print(sets, type(sets))\n",
    "print(dicio, type(dicio))"
   ]
  },
  {
   "cell_type": "code",
   "execution_count": null,
   "metadata": {},
   "outputs": [],
   "source": []
  },
  {
   "cell_type": "code",
   "execution_count": null,
   "metadata": {},
   "outputs": [],
   "source": []
  },
  {
   "cell_type": "code",
   "execution_count": null,
   "metadata": {},
   "outputs": [],
   "source": []
  },
  {
   "cell_type": "code",
   "execution_count": null,
   "metadata": {},
   "outputs": [],
   "source": []
  }
 ],
 "metadata": {
  "kernelspec": {
   "display_name": "Python 3",
   "language": "python",
   "name": "python3"
  },
  "language_info": {
   "codemirror_mode": {
    "name": "ipython",
    "version": 3
   },
   "file_extension": ".py",
   "mimetype": "text/x-python",
   "name": "python",
   "nbconvert_exporter": "python",
   "pygments_lexer": "ipython3",
   "version": "3.12.1"
  }
 },
 "nbformat": 4,
 "nbformat_minor": 2
}
