{
 "cells": [
  {
   "cell_type": "markdown",
   "metadata": {},
   "source": [
    "# ***Expressões Lambdas e Funções Integradas***"
   ]
  },
  {
   "cell_type": "markdown",
   "metadata": {},
   "source": [
    "As expressões Lambda em Python são também conhecidas como funções anônimas12. Elas são funções que não precisam ser definidas antes de serem usadas1. Aqui estão alguns pontos importantes sobre as expressões Lambda:\n",
    "\n",
    "* Sintaxe: A sintaxe da função Lambda no Python pode variar de acordo com o caso de uso. No entanto, um exemplo comum seria lambda x: x*0.3, onde x é o parâmetro e x*0.3 é a expressão que será avaliada e retornada1.\n",
    "\n",
    "* Uso: As funções Lambda são úteis quando você precisa de uma função temporária para uma operação específica, como uma operação matemática ou uma filtragem de listas3. Elas são especialmente úteis quando usadas em conjunto com as funções map, filter e reduce, pois permitem aplicar operações de forma simples e eficiente sobre os elementos de um iterável4.\n",
    "\n",
    "* Vantagens: A grande vantagem de usar Lambda é criar um parâmetro para outra função. Você não precisa, por exemplo, definir uma função para depois, passá-la para o map1. Isso torna suas tarefas muito mais práticas, objetivas e rápidas1.\n",
    "\n",
    "* Desvantagens: A função Lambda só não é indicada para quem ainda está aprendendo as ferramentas do Python"
   ]
  },
  {
   "cell_type": "code",
   "execution_count": 1,
   "metadata": {},
   "outputs": [
    {
     "name": "stdout",
     "output_type": "stream",
     "text": [
      "10\n"
     ]
    }
   ],
   "source": [
    "#Conhecidas por expressoes Lambdas, são funções sem nome ou seja. Funções anônimas\n",
    "#Função normal em python\n",
    "def soma(a, b):\n",
    "    return a + b\n",
    "\n",
    "print(soma(4, 6))"
   ]
  },
  {
   "cell_type": "code",
   "execution_count": 9,
   "metadata": {},
   "outputs": [
    {
     "name": "stdout",
     "output_type": "stream",
     "text": [
      "Francisco Douglas\n",
      "\n",
      "A Soma e 9\n"
     ]
    }
   ],
   "source": [
    "#Expressão Lambda\n",
    "nome_completo = lambda nome, sobrenome: nome.strip().title() + \" \" + sobrenome.strip().title()\n",
    "print(nome_completo('Francisco','Douglas'))\n",
    "\n",
    "#Soma\n",
    "soma = lambda a, b: a + b\n",
    "print(f'\\nA Soma e {soma(5, 4)}')"
   ]
  },
  {
   "cell_type": "code",
   "execution_count": 14,
   "metadata": {},
   "outputs": [
    {
     "name": "stdout",
     "output_type": "stream",
     "text": [
      "Como aprender Python\n",
      "19\n",
      "3.4641016151377544\n",
      "3.529411764705882\n"
     ]
    }
   ],
   "source": [
    "#Exemplo\n",
    "amar = lambda: 'Como aprender Python'\n",
    "uma  = lambda x: 3 * x + 1\n",
    "duas = lambda x, y: (x * y) ** 0.5\n",
    "tres = lambda x, y, z: 3 / (1 / x + 1/ y * 3)\n",
    "\n",
    "print(amar())\n",
    "print(uma(6))\n",
    "print(duas(3, 4))\n",
    "print(tres(4, 5, 6))"
   ]
  },
  {
   "cell_type": "code",
   "execution_count": 21,
   "metadata": {},
   "outputs": [
    {
     "name": "stdout",
     "output_type": "stream",
     "text": [
      "['Paulo Autran', 'Christian Bale', 'Humphrey Bogart', 'Marlon Brando', 'Charles Chaplin', 'Sean Connery', 'Fausto Corrêa', 'Daniel Day-Lewis', 'Leonardo DiCaprio', 'Harrison Ford', 'Tom Hanks', 'Dustin Hoffman', 'Luciano Huck', 'Larissa Machado', 'Jack Nicholson', 'Robert De Niro', 'Laurence Olivier', 'Al Pacino', 'Ivete Sangalo', 'Denzel Washington']\n"
     ]
    }
   ],
   "source": [
    "#Autores\n",
    "autores = [\n",
    "    \"Jack Nicholson\", \"Robert De Niro\", \"Al Pacino\", \"Denzel Washington\", \"Sean Connery\",\n",
    "    \"Harrison Ford\", \"Tom Hanks\",\"Marlon Brando\",\"Dustin Hoffman\", \"Laurence Olivier\",\n",
    "    \"Daniel Day-Lewis\",\"Christian Bale\",\"Leonardo DiCaprio\",\"Paulo Autran\",\n",
    "    \"Humphrey Bogart\",\"Charles Chaplin\",\"Ivete Sangalo\",\n",
    "    \"Fausto Corrêa\",\"Luciano Huck\",\"Larissa Machado\"]\n",
    "\n",
    "autores.sort(key=lambda nome: nome.split(' ')[-1].lower())\n",
    "print(autores)"
   ]
  },
  {
   "cell_type": "markdown",
   "metadata": {},
   "source": [
    "### **MAP**"
   ]
  },
  {
   "cell_type": "code",
   "execution_count": 33,
   "metadata": {},
   "outputs": [
    {
     "name": "stdout",
     "output_type": "stream",
     "text": [
      "12.566370614359172\n",
      "98.5203456165759\n",
      "[12.566370614359172, 78.53981633974483, 113.09733552923255, 12.566370614359172, 153.93804002589985, 201.06192982974676]\n",
      "\n",
      "<map object at 0x0000024505C14C40>\n",
      "[12.566370614359172, 78.53981633974483, 113.09733552923255, 12.566370614359172, 153.93804002589985, 201.06192982974676]\n",
      "[12.566370614359172, 78.53981633974483, 113.09733552923255, 12.566370614359172, 153.93804002589985, 201.06192982974676]\n"
     ]
    }
   ],
   "source": [
    "#EXEMPLO COM DEF\n",
    "import math\n",
    "def area(r):\n",
    "    '''Calcula a area de um circulo com raio 'r' '''\n",
    "    return math.pi * (r**2)\n",
    "print(area(2))\n",
    "print(area(5.6))\n",
    "\n",
    "#Exemplo \n",
    "raios = [2, 5, 6, 2, 7, 8]\n",
    "\n",
    "#Forma comum\n",
    "areas = []\n",
    "for r in raios:\n",
    "    areas.append((area(r)))\n",
    "print(f'{areas}\\n')\n",
    "\n",
    "#Utilizando map\n",
    "areas2 = map(area, raios)\n",
    "print(areas2)\n",
    "print(list(areas))\n",
    "\n",
    "#Utilizando lambda\n",
    "print(list(map(lambda r: math.pi * (r ** 2), raios)))\n",
    "#OSB: apos utiliza a função map ele zera a memoria"
   ]
  },
  {
   "cell_type": "code",
   "execution_count": 37,
   "metadata": {},
   "outputs": [
    {
     "name": "stdout",
     "output_type": "stream",
     "text": [
      "[('berlim', 29), ('cairo', 32), ('londres', 20), ('madrid', 35), ('roma', 30), ('paris', 25), ('atenas', 33), ('lisboa', 28), ('dublin', 15), ('amsterdã', 19), ('bruxelas', 21), ('viena', 22)]\n",
      "[('berlim', 84.2), ('cairo', 89.6), ('londres', 68.0), ('madrid', 95.0), ('roma', 86.0), ('paris', 77.0), ('atenas', 91.4), ('lisboa', 82.4), ('dublin', 59.0), ('amsterdã', 66.2), ('bruxelas', 69.80000000000001), ('viena', 71.6)]\n"
     ]
    }
   ],
   "source": [
    "cidades = [('berlim', 29), ('cairo',32), ('londres', 20),('madrid', 35),\n",
    "    ('roma', 30),('paris', 25),('atenas', 33),('lisboa', 28),('dublin', 15),\n",
    "    ('amsterdã', 19),('bruxelas', 21), ('viena', 22)\n",
    "]\n",
    "print(cidades)\n",
    "\n",
    "#f = 9/ 5 * c + 32\n",
    "#Lambda\n",
    "c_para_f = lambda dado: (dado[0], (9/5) * dado[1] + 32)\n",
    "print(list(map(c_para_f, cidades)))\n"
   ]
  },
  {
   "cell_type": "code",
   "execution_count": null,
   "metadata": {},
   "outputs": [],
   "source": []
  },
  {
   "cell_type": "markdown",
   "metadata": {},
   "source": [
    "### ***Filter***"
   ]
  },
  {
   "cell_type": "code",
   "execution_count": 38,
   "metadata": {},
   "outputs": [
    {
     "name": "stdout",
     "output_type": "stream",
     "text": [
      "3.5\n"
     ]
    }
   ],
   "source": [
    "#filter() - Filtra dados de uma determinada coleção\n",
    "valores = 1, 2, 3, 4, 5, 6\n",
    "media = sum(valores) / len(valores)\n",
    "print(media)"
   ]
  },
  {
   "cell_type": "code",
   "execution_count": 42,
   "metadata": {},
   "outputs": [
    {
     "name": "stdout",
     "output_type": "stream",
     "text": [
      "2.85\n",
      "[4.5, 6.7, 3]\n"
     ]
    }
   ],
   "source": [
    "#Biblioteca -ara trabalha com dados estatisticos\n",
    "import statistics\n",
    "\n",
    "#Dados coletados de algum senso\n",
    "dados = [1.3, 4.5, 2.6, 6.7, -1, 3]\n",
    "\n",
    "#Calculando a media dos dados utilizando a funcao mean()\n",
    "media = statistics.mean(dados)\n",
    "print(media)\n",
    "\n",
    "#OBS: Assim como a funcao map(), a filte() recebe dois parametros, sendo\n",
    "#uma funcao e um iteravel\n",
    "res = filter(lambda x: x > media, dados)\n",
    "print(list(res))"
   ]
  },
  {
   "cell_type": "code",
   "execution_count": 46,
   "metadata": {},
   "outputs": [
    {
     "name": "stdout",
     "output_type": "stream",
     "text": [
      "['Brasil', '', 'Argentina', '', 'Chile', '', 'Peru', '', 'Colômbia', '', 'Uruguai', '', 'Paraguai', '', 'Bolívia', '', 'Equador', '', 'Venezuela', '']\n",
      "['Brasil', 'Argentina', 'Chile', 'Peru', 'Colômbia', 'Uruguai', 'Paraguai', 'Bolívia', 'Equador', 'Venezuela']\n",
      "['Brasil', 'Argentina', 'Chile', 'Peru', 'Colômbia', 'Uruguai', 'Paraguai', 'Bolívia', 'Equador', 'Venezuela']\n"
     ]
    }
   ],
   "source": [
    "#Paises\n",
    "paises = [\"Brasil\", \"\", \"Argentina\", \"\", \"Chile\", \"\", \n",
    "          \"Peru\", \"\", \"Colômbia\", \"\", \"Uruguai\", \"\", \n",
    "          \"Paraguai\", \"\", \"Bolívia\", \"\", \"Equador\", \"\", \"Venezuela\", \"\"]\n",
    "\n",
    "print(paises)\n",
    "\n",
    "res = filter(None, paises)\n",
    "print(list(res))\n",
    "\n",
    "#Utilizando Lambda\n",
    "res2 = list(filter(lambda x: x != \"\", paises))\n",
    "print(res2)"
   ]
  },
  {
   "cell_type": "code",
   "execution_count": 49,
   "metadata": {},
   "outputs": [
    {
     "name": "stdout",
     "output_type": "stream",
     "text": [
      "[{'username': 'samuel', 'tweets': ['Eu adoro Bolo', 'Eu adoro Pizza']}, {'username': 'nome2', 'tweets': ['Eu Como', 'Quando Quero']}, {'username': 'nome3', 'tweets': []}, {'username': 'nome4', 'tweets': []}, {'username': 'nome5', 'tweets': ['Sou Bonito']}, {'username': 'nome6', 'tweets': []}, {'username': 'nome7', 'tweets': ['Gosto de Sair', 'Saio']}, {'username': 'nome8', 'tweets': []}]\n",
      "[{'username': 'nome3', 'tweets': []}, {'username': 'nome4', 'tweets': []}, {'username': 'nome6', 'tweets': []}, {'username': 'nome8', 'tweets': []}]\n"
     ]
    }
   ],
   "source": [
    "#Exemplo\n",
    "usuarios = [\n",
    "    {\"username\": \"samuel\", \"tweets\": [\"Eu adoro Bolo\", \"Eu adoro Pizza\"]},\n",
    "    {\"username\": \"nome2\", \"tweets\": [\"Eu Como\", \"Quando Quero\"]},\n",
    "    {\"username\": \"nome3\", \"tweets\": []},\n",
    "    {\"username\": \"nome4\", \"tweets\": []},\n",
    "    {\"username\": \"nome5\", \"tweets\": [\"Sou Bonito\"]},\n",
    "    {\"username\": \"nome6\", \"tweets\": []},\n",
    "    {\"username\": \"nome7\", \"tweets\": [\"Gosto de Sair\",\"Saio\"]},\n",
    "    {\"username\": \"nome8\", \"tweets\": []}\n",
    "]\n",
    "\n",
    "print(usuarios)\n",
    "\n",
    "#FIltra os usuarios Inativos\n",
    "inativos = list(filter(lambda usuario: len(usuario['tweets']) == 0, usuarios))\n",
    "print(inativos)"
   ]
  },
  {
   "cell_type": "code",
   "execution_count": 51,
   "metadata": {},
   "outputs": [
    {
     "name": "stdout",
     "output_type": "stream",
     "text": [
      "['O Nome e ana', 'O Nome e java']\n"
     ]
    }
   ],
   "source": [
    "#Combinando filter e map\n",
    "nomes = ['ana', 'python', 'java', 'elite', 'nomes']\n",
    "\n",
    "lista = list(map(lambda nome: f'O Nome e {nome}', \n",
    "                 filter(lambda nome: len(nome) <5, nomes)))\n",
    "print(lista)"
   ]
  },
  {
   "cell_type": "code",
   "execution_count": null,
   "metadata": {},
   "outputs": [],
   "source": []
  },
  {
   "cell_type": "markdown",
   "metadata": {},
   "source": [
    "### **Reduce**"
   ]
  },
  {
   "cell_type": "code",
   "execution_count": 62,
   "metadata": {},
   "outputs": [
    {
     "name": "stdout",
     "output_type": "stream",
     "text": [
      "Utilizando o Reduce: 1099308672000\n",
      "Utilizando o For: 1099308672000\n",
      "120\n"
     ]
    }
   ],
   "source": [
    "'''\n",
    "OBS: A Partir do Python3.6 a funcao reduce() nao e mais uma funcao integrada\n",
    "(built-in). Agora temos que importa e utiliza esta função a partir do modulo \"functools\n",
    "\n",
    "Guido van Rossum: Utiliz a funcao reduce() se voce realmente precisa dela. Em todo caso\n",
    "99% das vezes um loop for e mais legivel\"'''\n",
    "\n",
    "#Assim como map() e filter() a funcao reduce recebe 2 parametros\n",
    "\n",
    "#Funcionamento do reduce na pratica\n",
    "from functools import reduce\n",
    "\n",
    "dados = [1, 45, 3, 11, 34, 6, 7, 8, 12, 15, 9, 10, 4]\n",
    "\n",
    "#Para utiliza o reduce() precisamos de uma funcao que receba 2 parametros\n",
    "mult = lambda x, y: x * y\n",
    "print(f'Utilizando o Reduce: {reduce(mult, dados)}') #\"Multiplica os dados\"\n",
    "\n",
    "#OBS: O Reduce funciona como um for\n",
    "#Ele percorre todos os elementos da lista\n",
    "res = 1\n",
    "for n in dados:\n",
    "    res *= n\n",
    "print(f'Utilizando o For: {res}')\n",
    "\n",
    "#Outro\n",
    "d = [1, 2, 3, 4, 5]\n",
    "m = lambda x, y: x * y\n",
    "print(reduce(m, d))\n"
   ]
  },
  {
   "cell_type": "code",
   "execution_count": null,
   "metadata": {},
   "outputs": [],
   "source": []
  },
  {
   "cell_type": "markdown",
   "metadata": {},
   "source": [
    "### **Any e All**"
   ]
  },
  {
   "cell_type": "code",
   "execution_count": 3,
   "metadata": {},
   "outputs": [
    {
     "name": "stdout",
     "output_type": "stream",
     "text": [
      "False\n",
      "True\n"
     ]
    }
   ],
   "source": [
    "#Retorna True se todos os elementos do iteravel são verdadeiros ou ainda\n",
    "#se o iteravel esta vazio\n",
    "\n",
    "print(all([0, 1, 2, 3, 4, 5, 6]))\n",
    "print(all([1, 2, 3, 4, 5, 6, 7]))"
   ]
  },
  {
   "cell_type": "code",
   "execution_count": 15,
   "metadata": {},
   "outputs": [
    {
     "name": "stdout",
     "output_type": "stream",
     "text": [
      "False\n",
      "True\n"
     ]
    }
   ],
   "source": [
    "nomes = ['MMA', 'Python', 'SQL', 'Carlos', \"Alves\"]\n",
    "print(all([nome[0] == \"M\" for nome in nomes]))\n",
    "print(all([num for num in [4, 2, 10, 6, 7, 5] if num % 2 == 0]))"
   ]
  },
  {
   "cell_type": "code",
   "execution_count": 18,
   "metadata": {},
   "outputs": [
    {
     "name": "stdout",
     "output_type": "stream",
     "text": [
      "True\n",
      "False\n",
      "True\n"
     ]
    }
   ],
   "source": [
    "#Any - Retorna True se qualquer elemento do iteravel for verdadeiro\n",
    "# Se o iteravel estiver vazio, retorna False\n",
    "print(any([0, 1, 2, 3, 4]))\n",
    "print(any([False, 0, {}, [], ()]))\n",
    "nomes = ['MMA', 'Python', 'SQL', 'Carlos', \"Alves\"]\n",
    "print(any([nome[0] == \"C\" for nome in nomes]))"
   ]
  },
  {
   "cell_type": "code",
   "execution_count": null,
   "metadata": {},
   "outputs": [],
   "source": []
  },
  {
   "cell_type": "markdown",
   "metadata": {},
   "source": [
    "## **Generators**"
   ]
  },
  {
   "cell_type": "code",
   "execution_count": 24,
   "metadata": {},
   "outputs": [
    {
     "name": "stdout",
     "output_type": "stream",
     "text": [
      "<generator object <genexpr> at 0x000001BE971A1000>\n",
      "[False, False, False, True, False]\n",
      "<generator object <genexpr> at 0x000001BE94EEA260>\n"
     ]
    }
   ],
   "source": [
    "print(any(nome[0]) == \"C\" for nome in nomes)\n",
    "\n",
    "#List comprehension\n",
    "res = [nome[0] == \"C\" for nome in nomes]\n",
    "print(res)\n",
    "\n",
    "#Generator Tuples comprehension\n",
    "res = (nome[0] == \"C\" for nome in nomes)\n",
    "print(res)"
   ]
  },
  {
   "cell_type": "code",
   "execution_count": 42,
   "metadata": {},
   "outputs": [
    {
     "name": "stdout",
     "output_type": "stream",
     "text": [
      "64\n",
      "93\n",
      "\n",
      "\n",
      "8856\n",
      "32984\n",
      "36952\n",
      "208\n"
     ]
    }
   ],
   "source": [
    "#Getsizeof\n",
    "from sys import getsizeof as goff\n",
    "\n",
    "print(goff(\"Python Especial\"))\n",
    "print(goff(\"Programação Dinamica\"))\n",
    "\n",
    "print('\\n')\n",
    "#List Comprehension\n",
    "print(goff([x * 10 for x in range(1000)]))\n",
    "\n",
    "#Dic comprehension\n",
    "print(goff({x * 10 for x in range(1000)}))\n",
    "\n",
    "#Dictionaru Comprehension\n",
    "print(goff({x: x * 10 for x in range(1000)}))\n",
    "\n",
    "#Generator Tuple Comprehension\n",
    "print(goff(x * 10 for x in range(1000)))"
   ]
  },
  {
   "cell_type": "markdown",
   "metadata": {},
   "source": [
    "### **Min e Max**"
   ]
  },
  {
   "cell_type": "code",
   "execution_count": 43,
   "metadata": {},
   "outputs": [
    {
     "name": "stdout",
     "output_type": "stream",
     "text": [
      "1\n",
      "8\n"
     ]
    }
   ],
   "source": [
    "lista = [1, 2, 5, 1, 2, 4, 6, 8]\n",
    "print(min(lista))\n",
    "print(max(lista))"
   ]
  },
  {
   "cell_type": "code",
   "execution_count": 47,
   "metadata": {},
   "outputs": [
    {
     "name": "stdout",
     "output_type": "stream",
     "text": [
      "[6, 5, 4, 3, 2, 1]\n"
     ]
    }
   ],
   "source": [
    "#Reverse\n",
    "lista = [1 , 2, 3, 4, 5, 6]\n",
    "print(list(reversed(lista)))"
   ]
  },
  {
   "cell_type": "markdown",
   "metadata": {},
   "source": [
    "## Len abs sum round"
   ]
  },
  {
   "cell_type": "code",
   "execution_count": 54,
   "metadata": {},
   "outputs": [
    {
     "name": "stdout",
     "output_type": "stream",
     "text": [
      "Tamanho da Lista: 6 = [1, 2, 3, 4, 5, 6]\n",
      "21\n",
      "Soma da Lista: 21 = [1, 2, 3, 4, 5, 6]\n"
     ]
    }
   ],
   "source": [
    "#Len\n",
    "lista = [1, 2, 3, 4, 5, 6]\n",
    "print(f'Tamanho da Lista: {len(lista)} = {lista}')\n",
    "print(len(\"Programando em Python\"))\n",
    "\n",
    "#sum\n",
    "print(f'Soma da Lista: {sum(lista)} = {lista}')\n",
    "\n",
    "#round\n"
   ]
  },
  {
   "cell_type": "code",
   "execution_count": 59,
   "metadata": {},
   "outputs": [
    {
     "name": "stdout",
     "output_type": "stream",
     "text": [
      "5\n",
      "5\n",
      "4.56\n",
      "4.35\n"
     ]
    }
   ],
   "source": [
    "#ABS retorna o valor absoluto\n",
    "print(abs(-5))\n",
    "print(abs(5))\n",
    "print(abs(4.56))\n",
    "print(abs(-4.35))\n",
    "\n",
    "#utilizando o abs qualquer numero negativo vira positivo\n",
    "#o abs não se utiliza com strings"
   ]
  },
  {
   "cell_type": "code",
   "execution_count": 62,
   "metadata": {},
   "outputs": [
    {
     "name": "stdout",
     "output_type": "stream",
     "text": [
      "10\n",
      "11\n",
      "1.23\n"
     ]
    }
   ],
   "source": [
    "#round retorna um numero aredondado\n",
    "print(round(10.4)) #Aredonda para 10\n",
    "print(round(10.6)) #Aredonda para 11\n",
    "print(round(1.23456, 2)) #Aredonda para 2 casas decimais"
   ]
  },
  {
   "cell_type": "markdown",
   "metadata": {},
   "source": [
    "## ***ZIP***"
   ]
  },
  {
   "cell_type": "code",
   "execution_count": 66,
   "metadata": {},
   "outputs": [
    {
     "name": "stdout",
     "output_type": "stream",
     "text": [
      "<zip object at 0x000001BE96F302C0> <class 'zip'>\n",
      "[(1, 4), (2, 5), (3, 6)]\n",
      "{}\n",
      "()\n"
     ]
    }
   ],
   "source": [
    "#Cria um iteravel (Zip Object) que agrega elemento de ada um dos iteraveis passados\n",
    "lista1 = [1, 2, 3]\n",
    "lista2 = [4, 5, 6]\n",
    "zip1 = zip(lista1, lista2)\n",
    "print(zip1, type(zip1))\n",
    "\n",
    "#Para imprimir o zip devemos converte para algum tipo de conjunto\n",
    "print(list(zip1))\n",
    "print(dict(zip1))\n",
    "print(tuple(zip1))"
   ]
  },
  {
   "cell_type": "code",
   "execution_count": null,
   "metadata": {},
   "outputs": [],
   "source": []
  },
  {
   "cell_type": "code",
   "execution_count": 8,
   "metadata": {},
   "outputs": [
    {
     "name": "stdout",
     "output_type": "stream",
     "text": [
      "[{'nome': 'Ana', 'sobrenome': 'Silva'}, {'nome': 'Carla', 'sobrenome': 'Pereira'}, {'nome': 'Fernando', 'sobrenome': 'Costa'}, {'nome': 'João', 'sobrenome': 'Santos'}, {'nome': 'Juliana', 'sobrenome': 'Ribeiro'}, {'nome': 'Luiz', 'sobrenome': 'Marcos'}, {'nome': 'Maria', 'sobrenome': 'Oliveira'}, {'nome': 'Patrícia', 'sobrenome': 'Mendes'}, {'nome': 'Pedro', 'sobrenome': 'Alves'}, {'nome': 'Ricardo', 'sobrenome': 'Lima'}]\n"
     ]
    }
   ],
   "source": [
    "pessoas = [\n",
    "    {'nome': 'Luiz', 'sobrenome': 'Marcos'},\n",
    "    {'nome': 'Ana', 'sobrenome': 'Silva'},\n",
    "    {'nome': 'Pedro', 'sobrenome': 'Alves'},\n",
    "    {'nome': 'Maria', 'sobrenome': 'Oliveira'},\n",
    "    {'nome': 'João', 'sobrenome': 'Santos'},\n",
    "    {'nome': 'Carla', 'sobrenome': 'Pereira'},\n",
    "    {'nome': 'Fernando', 'sobrenome': 'Costa'},\n",
    "    {'nome': 'Juliana', 'sobrenome': 'Ribeiro'},\n",
    "    {'nome': 'Ricardo', 'sobrenome': 'Lima'},\n",
    "    {'nome': 'Patrícia', 'sobrenome': 'Mendes'}\n",
    "]\n",
    "\n",
    "l1 = sorted(pessoas, key=lambda item: item['nome'])\n",
    "print(f'{l1}')"
   ]
  },
  {
   "cell_type": "code",
   "execution_count": null,
   "metadata": {},
   "outputs": [],
   "source": []
  },
  {
   "cell_type": "code",
   "execution_count": null,
   "metadata": {},
   "outputs": [],
   "source": []
  }
 ],
 "metadata": {
  "kernelspec": {
   "display_name": "base",
   "language": "python",
   "name": "python3"
  },
  "language_info": {
   "codemirror_mode": {
    "name": "ipython",
    "version": 3
   },
   "file_extension": ".py",
   "mimetype": "text/x-python",
   "name": "python",
   "nbconvert_exporter": "python",
   "pygments_lexer": "ipython3",
   "version": "3.11.5"
  }
 },
 "nbformat": 4,
 "nbformat_minor": 2
}
