{
 "cells": [
  {
   "cell_type": "markdown",
   "metadata": {},
   "source": [
    "# ***List Comprehension***"
   ]
  },
  {
   "cell_type": "markdown",
   "metadata": {},
   "source": [
    "List Comprehension é uma maneira concisa e expressiva de criar listas em Python. Ela permite que você crie novas listas a partir de iteráveis existentes (como listas, tuplas, conjuntos, etc.) de uma forma mais compacta do que usando loops tradicionais.\n",
    "\n",
    "A sintaxe básica de uma List Comprehension em Python é a seguinte:\n",
    "\n",
    "```python\n",
    "nova_lista = [expressao for item in iteravel if condicao]\n",
    "```\n",
    "\n",
    "Vamos quebrar essa sintaxe em partes:\n",
    "\n",
    "- `expressao`: é a expressão que será avaliada e incluída na nova lista. Ela pode ser qualquer expressão válida em Python, inclusive envolvendo operações ou chamadas de função.\n",
    "\n",
    "- `for item in iteravel`: é a parte do loop, onde você especifica o iterável do qual deseja extrair os elementos. O loop itera sobre cada elemento no iterável, e o nome `item` é uma variável temporária que armazena o valor atual durante a iteração.\n",
    "\n",
    "- `if condicao`: é uma parte opcional que permite filtrar os elementos do iterável. Somente os elementos que satisfazem a condição especificada serão incluídos na nova lista.\n",
    "\n",
    "Vamos ver alguns exemplos para entender melhor como funciona a List Comprehension:\n",
    "\n",
    "### Exemplo 1: Criando uma lista de quadrados dos números de 1 a 5\n",
    "\n",
    "```python\n",
    "quadrados = [x ** 2 for x in range(1, 6)]\n",
    "# Resultado: [1, 4, 9, 16, 25]\n",
    "```\n",
    "\n",
    "### Exemplo 2: Filtrando apenas números pares de uma lista\n",
    "\n",
    "```python\n",
    "numeros = [1, 2, 3, 4, 5, 6, 7, 8, 9, 10]\n",
    "pares = [x for x in numeros if x % 2 == 0]\n",
    "# Resultado: [2, 4, 6, 8, 10]\n",
    "```\n",
    "\n",
    "### Exemplo 3: Criando uma lista de tuplas com os elementos e seus respectivos quadrados\n",
    "\n",
    "```python\n",
    "elementos = [1, 2, 3, 4, 5]\n",
    "tuplas = [(x, x ** 2) for x in elementos]\n",
    "# Resultado: [(1, 1), (2, 4), (3, 9), (4, 16), (5, 25)]\n",
    "```\n",
    "\n",
    "### Exemplo 4: Filtrando e modificando elementos de uma lista\n",
    "\n",
    "```python\n",
    "palavras = ['banana', 'maçã', 'abacaxi', 'pera']\n",
    "frutas = [fruta.upper() for fruta in palavras if 'a' in fruta]\n",
    "# Resultado: ['BANANA', 'MAÇÃ', 'ABACAXI']\n",
    "```\n",
    "\n",
    "A List Comprehension é uma ferramenta poderosa em Python para criar e transformar listas de forma eficiente e concisa. No entanto, é importante lembrar que sua utilização deve ser moderada para não sacrificar a legibilidade do código. Em alguns casos, loops tradicionais podem ser mais adequados, especialmente quando a lógica é mais complexa."
   ]
  },
  {
   "cell_type": "code",
   "execution_count": 1,
   "metadata": {},
   "outputs": [
    {
     "name": "stdout",
     "output_type": "stream",
     "text": [
      "Ola Mundo\n"
     ]
    }
   ],
   "source": [
    "print('Ola Mundo')"
   ]
  },
  {
   "cell_type": "code",
   "execution_count": 2,
   "metadata": {},
   "outputs": [
    {
     "name": "stdout",
     "output_type": "stream",
     "text": [
      "[10, 20, 30, 40, 50, 60, 70]\n",
      "[0.5, 1.0, 1.5, 2.0, 2.5, 3.0, 3.5]\n"
     ]
    }
   ],
   "source": [
    "#Exemplo de List\n",
    "numeros = [1, 2, 3, 4, 5, 6, 7]\n",
    "\n",
    "#Quero que multiplique x 10 para cada numero in numeros\n",
    "res = [numero * 10 for numero in numeros]\n",
    "print(res)\n",
    "\n",
    "resp = [numero / 2 for numero in numeros]\n",
    "print(resp)"
   ]
  },
  {
   "cell_type": "code",
   "execution_count": 3,
   "metadata": {},
   "outputs": [
    {
     "name": "stdout",
     "output_type": "stream",
     "text": [
      "[1, 4, 9, 16, 25, 36, 49]\n"
     ]
    }
   ],
   "source": [
    "#Utilizando funcao\n",
    "def funcao(valor):\n",
    "    return valor * valor \n",
    "\n",
    "resd = [funcao(numero) for numero in numeros]\n",
    "print(resd)"
   ]
  },
  {
   "cell_type": "code",
   "execution_count": 4,
   "metadata": {},
   "outputs": [
    {
     "name": "stdout",
     "output_type": "stream",
     "text": [
      "[1, 2, 3, 4, 5, 6, 7, 8, 1, 2, 3, 4, 5, 6, 7, 8, [...]]\n",
      "\n",
      "\n",
      "[2, 4, 6, 8, 10, 12, 14, 16]\n"
     ]
    }
   ],
   "source": [
    "#List comprehension vs loop\n",
    "numeros  = [1, 2, 3, 4, 5, 6, 7, 8]\n",
    "\n",
    "n_dobrados = []\n",
    "\n",
    "for numero in numeros:\n",
    "    n_dobrados = numeros * 2\n",
    "    n_dobrados.append(n_dobrados)\n",
    "print(n_dobrados)\n",
    "\n",
    "print('\\n')\n",
    "\n",
    "#Utilizando o list comprehension\n",
    "print([numero * 2 for numero in numeros])"
   ]
  },
  {
   "cell_type": "code",
   "execution_count": 5,
   "metadata": {},
   "outputs": [
    {
     "name": "stdout",
     "output_type": "stream",
     "text": [
      "['P', 'R', 'O', 'G', 'R', 'A', 'M', 'A', 'N', 'D', 'O', ' ', 'E', 'M', ' ', 'P', 'Y', 'T', 'H', 'O', 'N']\n",
      "['Maria', 'Joca', 'Joao', 'Lucas', 'Douglas', 'Laurice']\n",
      "[3, 6, 9, 12, 15, 18, 21, 24, 27]\n",
      "[False, False, False, True, True, True, True]\n",
      "['1', '34', '2', '5', '7']\n"
     ]
    }
   ],
   "source": [
    "#Exemplo\n",
    "nome = 'Programando em Python'\n",
    "print([letra.upper() for letra in nome])\n",
    "\n",
    "#Exemplo\n",
    "amigos = ['maria', 'joca', 'joao', 'lucas', 'douglas', 'laurice']\n",
    "print([amigo.title() for amigo in amigos])\n",
    "\n",
    "#Exemplo\n",
    "print([n * 3 for n in range(1, 10)])\n",
    "\n",
    "#Exemplo\n",
    "print([bool(valor) for valor in [0, [], '', True, 1, 3, 5.6]])\n",
    "\n",
    "#Exemplo\n",
    "print([str(numero) for numero in [1, 34, 2, 5, 7]])"
   ]
  },
  {
   "cell_type": "code",
   "execution_count": 6,
   "metadata": {},
   "outputs": [
    {
     "name": "stdout",
     "output_type": "stream",
     "text": [
      "[6, 4, 8, 12, 2]\n",
      "[1, 3, 1, 5, 7, 3, 9]\n",
      "[6, 4, 8, 12, 2]\n",
      "[1, 3, 1, 5, 7, 3, 9]\n",
      "['IMPA 1', 'IMPA 3', 'IMPA 1', 'IMPA 5', 'PAR 6', 'IMPA 7', 'IMPA 3', 'PAR 4', 'PAR 8', 'IMPA 9', 'PAR 12', 'PAR 2']\n",
      "[0.5, 1.5, 0.5, 2.5, 12, 3.5, 1.5, 8, 16, 4.5, 24, 4]\n"
     ]
    }
   ],
   "source": [
    "#Implementando Estruturas Condicionais Logicas\n",
    "numeros = [1, 3, 1, 5, 6, 7, 3, 4, 8, 9, 12, 2]\n",
    "pares = [numero for numero in numeros if numero % 2 == 0]\n",
    "impares = [numero for numero in numeros if numero % 2 != 0]\n",
    "print(pares)\n",
    "print(impares)\n",
    "\n",
    "#Exemplo Refatorando\n",
    "pares = [numero for numero in numeros if not numero % 2]\n",
    "impares = [numero for numero in numeros if numero % 2]\n",
    "print(pares)\n",
    "print(impares)\n",
    "\n",
    "#Exemplo utilizando if dentro da List\n",
    "par_impa = [f\"PAR {numero}\" if numero % 2 == 0 else f\"IMPA {numero}\" for numero in numeros]\n",
    "print(par_impa)\n",
    "\n",
    "#Multiplica\n",
    "res = [numero * 2 if numero % 2 == 0 else numero / 2 for numero in numeros]\n",
    "print(res)"
   ]
  },
  {
   "cell_type": "code",
   "execution_count": 7,
   "metadata": {},
   "outputs": [
    {
     "name": "stdout",
     "output_type": "stream",
     "text": [
      "1\n",
      "2\n",
      "3\n",
      "4\n",
      "5\n",
      "6\n",
      "7\n",
      "8\n",
      "9\n",
      "[[1, 2, 3], [1, 2, 3], [1, 2, 3]]\n",
      "[['O', 'X', 'O'], ['O', 'X', 'O'], ['O', 'X', 'O']]\n",
      "[['*', '*', '*'], ['*', '*', '*'], ['*', '*', '*']]\n"
     ]
    }
   ],
   "source": [
    "#Listas aninhadas\n",
    "listas = [[1, 2, 3], [4, 5, 6], [7, 8, 9]] #Matrix 3 x 3\n",
    "\n",
    "#List comprehension\n",
    "[[print(valor) for valor in lista] for lista in listas]\n",
    "\n",
    "#Exemplo\n",
    "tabuleiro = [[numero for numero in range(1, 4)] for valor in range(1, 4)]\n",
    "print(tabuleiro)\n",
    "\n",
    "#Gerando Jogadas para o Jogo da velha\n",
    "velha = [[\"X\" if numero % 2 == 0 else \"O\" for numero in range(1, 4)] for valor in range(1, 4)]\n",
    "print(f'{velha}')\n",
    "\n",
    "#Exemplo\n",
    "print([[\"*\" for i in range(1, 4)] for j in range(1, 4)])"
   ]
  },
  {
   "cell_type": "code",
   "execution_count": null,
   "metadata": {},
   "outputs": [],
   "source": []
  },
  {
   "cell_type": "markdown",
   "metadata": {},
   "source": [
    "# ***Dictionary Comprehension***\n",
    "\n",
    "\n",
    "Dictionary Comprehension é uma técnica em Python que permite construir dicionários de forma concisa e eficiente usando uma sintaxe similar à List Comprehension. Com ela, é possível criar dicionários a partir de iteráveis, como listas, tuplas, sets, etc., de maneira mais legível e sucinta.\n",
    "\n",
    "A sintaxe geral do Dictionary Comprehension em Python é:\n",
    "\n",
    "```python\n",
    "{chave: valor for item in iterável}\n",
    "```\n",
    "\n",
    "Onde:\n",
    "- `chave`: Expressão que define a chave do dicionário.\n",
    "- `valor`: Expressão que define o valor associado à chave no dicionário.\n",
    "- `item`: Variável que representa cada elemento do iterável.\n",
    "- `iterável`: Coleção de elementos sobre os quais o dicionário será construído.\n",
    "\n",
    "Vamos ver alguns exemplos para ilustrar como isso funciona:\n",
    "\n",
    "### Exemplo 1: Converter uma lista em um dicionário onde as chaves são os elementos e os valores são seus quadrados.\n",
    "\n",
    "```python\n",
    "lista = [1, 2, 3, 4, 5]\n",
    "dicionario = {x: x**2 for x in lista}\n",
    "print(dicionario)\n",
    "```\n",
    "\n",
    "Neste exemplo, o dicionário resultante será `{1: 1, 2: 4, 3: 9, 4: 16, 5: 25}`. A cada iteração, `x` recebe um valor da lista, e o dicionário é construído com a chave sendo o elemento da lista e o valor sendo o quadrado desse elemento.\n",
    "\n",
    "### Exemplo 2: Converter uma lista de tuplas em um dicionário.\n",
    "\n",
    "```python\n",
    "tuplas = [(1, 'um'), (2, 'dois'), (3, 'três')]\n",
    "dicionario = {x: y for x, y in tuplas}\n",
    "print(dicionario)\n",
    "```\n",
    "\n",
    "Neste exemplo, cada tupla contém um par de chave-valor. O Dictionary Comprehension itera sobre essas tuplas, atribuindo o primeiro elemento da tupla à chave e o segundo elemento à valor, criando assim um dicionário `{1: 'um', 2: 'dois', 3: 'três'}`.\n",
    "\n",
    "### Exemplo 3: Filtrar um dicionário com base em uma condição.\n",
    "\n",
    "```python\n",
    "dicionario = {'a': 1, 'b': 2, 'c': 3, 'd': 4}\n",
    "dicionario_filtrado = {chave: valor for chave, valor in dicionario.items() if valor > 2}\n",
    "print(dicionario_filtrado)\n",
    "```\n",
    "\n",
    "Neste exemplo, o Dictionary Comprehension filtra o dicionário original, mantendo apenas os pares chave-valor onde o valor é maior que 2. O resultado será `{'c': 3, 'd': 4}`.\n",
    "\n",
    "O Dictionary Comprehension é uma técnica poderosa e concisa em Python, permitindo a criação rápida de dicionários a partir de iteráveis e a aplicação de transformações e filtros de forma eficiente."
   ]
  },
  {
   "cell_type": "code",
   "execution_count": 8,
   "metadata": {},
   "outputs": [
    {
     "name": "stdout",
     "output_type": "stream",
     "text": [
      "{'a': 1, 'b': 16, 'c': 4, 'd': 36, 'e': 9, 'f': 25}\n",
      "{1: 1, 2: 4, 3: 9, 4: 16, 5: 25, 6: 36}\n",
      "{'a': 1, 'b': 2, 'c': 3, 'd': 4, 'e': 5}\n"
     ]
    }
   ],
   "source": [
    "#Exemplo\n",
    "num = {'a':1, 'b':4, 'c':2, 'd':6, 'e':3, 'f':5}\n",
    "quadrado = {chave: valor ** 2 for chave, valor in num.items()}\n",
    "print(quadrado)\n",
    "\n",
    "#Exemplo\n",
    "numero = [1, 2, 3, 4, 5, 6]\n",
    "quadro = {valor: valor ** 2 for valor in numero}\n",
    "print(quadro)\n",
    "\n",
    "#Exemplo\n",
    "chaves = 'abcde'\n",
    "valores = [1, 2, 3, 4, 5]\n",
    "\n",
    "mistura = {chaves[i]: valores[i] for i in range(0, len(chaves))}\n",
    "print(mistura)"
   ]
  },
  {
   "cell_type": "code",
   "execution_count": 9,
   "metadata": {},
   "outputs": [
    {
     "name": "stdout",
     "output_type": "stream",
     "text": [
      "{1: 'impar', 2: 'par', 5: 'impar', 12: 'par', 8: 'par', 9: 'impar', 23: 'impar', 4: 'par', 3: 'impar'}\n"
     ]
    }
   ],
   "source": [
    "#Exemplo com logica condicional\n",
    "numeros = [1, 2, 5, 12, 8, 9, 23, 5, 4, 3]\n",
    "res = {num: (\"par\" if num % 2 == 0 else \"impar\") for num in numeros}\n",
    "print(res)"
   ]
  },
  {
   "cell_type": "code",
   "execution_count": null,
   "metadata": {},
   "outputs": [],
   "source": []
  },
  {
   "cell_type": "markdown",
   "metadata": {},
   "source": [
    "# **Set Comprehension**"
   ]
  },
  {
   "cell_type": "markdown",
   "metadata": {},
   "source": [
    "Set Comprehension é uma técnica semelhante à List e Dictionary Comprehension, mas em vez de criar uma lista ou um dicionário, cria um conjunto (set) em Python. Um conjunto é uma coleção não ordenada de elementos únicos. A sintaxe básica para Set Comprehension é:\n",
    "\n",
    "```python\n",
    "{expressão for item in iterável}\n",
    "```\n",
    "\n",
    "Onde:\n",
    "- `expressão`: Uma expressão que será avaliada para cada item no iterável, e o resultado será adicionado ao conjunto.\n",
    "- `item`: A variável que representa cada elemento do iterável.\n",
    "- `iterável`: A coleção de elementos sobre os quais o conjunto será construído.\n",
    "\n",
    "Vamos ver alguns exemplos para entender melhor como funciona:\n",
    "\n",
    "### Exemplo 1: Criar um conjunto de quadrados de números de 0 a 9.\n",
    "\n",
    "```python\n",
    "conjunto_quadrados = {x**2 for x in range(10)}\n",
    "print(conjunto_quadrados)\n",
    "```\n",
    "\n",
    "Neste exemplo, `range(10)` gera os números de 0 a 9, e para cada número `x`, `x**2` é calculado e adicionado ao conjunto. O resultado será `{0, 1, 4, 9, 16, 25, 36, 49, 64, 81}`.\n",
    "\n",
    "### Exemplo 2: Criar um conjunto de letras únicas de uma string.\n",
    "\n",
    "```python\n",
    "string = \"python\"\n",
    "conjunto_letras = {letra for letra in string}\n",
    "print(conjunto_letras)\n",
    "```\n",
    "\n",
    "Neste exemplo, a string é iterada, e cada letra é adicionada ao conjunto. Como conjuntos não permitem elementos duplicados, apenas as letras únicas são mantidas. O resultado será `{'y', 'o', 't', 'h', 'n', 'p'}`.\n",
    "\n",
    "### Exemplo 3: Filtrar um conjunto com base em uma condição.\n",
    "\n",
    "```python\n",
    "conjunto_numeros = {1, 2, 3, 4, 5, 6, 7, 8, 9, 10}\n",
    "conjunto_pares = {numero for numero in conjunto_numeros if numero % 2 == 0}\n",
    "print(conjunto_pares)\n",
    "```\n",
    "\n",
    "Neste exemplo, o conjunto original é filtrado para manter apenas os números pares. A condição `if numero % 2 == 0` verifica se o número é par. O resultado será `{2, 4, 6, 8, 10}`.\n",
    "\n",
    "Set Comprehension é uma ferramenta útil para criar conjuntos de forma concisa e legível em Python, especialmente quando se trabalha com transformações simples e filtragem de dados."
   ]
  },
  {
   "cell_type": "code",
   "execution_count": 10,
   "metadata": {},
   "outputs": [
    {
     "name": "stdout",
     "output_type": "stream",
     "text": [
      "{1, 2, 3, 4, 5, 6, 7} <class 'set'>\n",
      "{0, 1, 64, 4, 36, 9, 16, 49, 81, 25} <class 'set'>\n",
      "{1, 2, 3, 4, 5, 6, 7, 8, 9, 10} <class 'set'>\n",
      "{1: 1, 2: 2, 3: 3, 4: 4, 5: 5, 6: 6, 7: 7, 8: 8, 9: 9, 10: 10} <class 'dict'>\n"
     ]
    }
   ],
   "source": [
    "#Exemplo\n",
    "numeros = {num for num in range(1, 8)}\n",
    "print(numeros, type(numeros))\n",
    "\n",
    "#Outro Exemplo\n",
    "numeros = {x ** 2 for x in range(10)}\n",
    "print(numeros, type(numeros))\n",
    "\n",
    "#Diferença de Sets para Dicionario\n",
    "sets = {numero for numero in range(1, 11)}\n",
    "dicio = {numero: numero for numero in range(1, 11)}\n",
    "print(sets, type(sets))\n",
    "print(dicio, type(dicio))"
   ]
  },
  {
   "cell_type": "code",
   "execution_count": null,
   "metadata": {},
   "outputs": [],
   "source": []
  },
  {
   "cell_type": "code",
   "execution_count": null,
   "metadata": {},
   "outputs": [],
   "source": []
  }
 ],
 "metadata": {
  "kernelspec": {
   "display_name": "Python 3",
   "language": "python",
   "name": "python3"
  },
  "language_info": {
   "codemirror_mode": {
    "name": "ipython",
    "version": 3
   },
   "file_extension": ".py",
   "mimetype": "text/x-python",
   "name": "python",
   "nbconvert_exporter": "python",
   "pygments_lexer": "ipython3",
   "version": "3.11.7"
  }
 },
 "nbformat": 4,
 "nbformat_minor": 2
}
