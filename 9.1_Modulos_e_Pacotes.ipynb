{
 "cells": [
  {
   "cell_type": "markdown",
   "metadata": {},
   "source": [
    "# **Modulos e Pacotes**"
   ]
  },
  {
   "cell_type": "markdown",
   "metadata": {},
   "source": [
    "### **Modulo Random**"
   ]
  },
  {
   "cell_type": "code",
   "execution_count": 3,
   "metadata": {},
   "outputs": [
    {
     "name": "stdout",
     "output_type": "stream",
     "text": [
      "Requirement already satisfied: py2flowchart in c:\\users\\francisco\\anaconda3\\lib\\site-packages (0.0.3)\n",
      "Requirement already satisfied: dill>=0.3.2 in c:\\users\\francisco\\anaconda3\\lib\\site-packages (from py2flowchart) (0.3.7)\n"
     ]
    }
   ],
   "source": [
    "!pip install -U py2flowchart"
   ]
  },
  {
   "cell_type": "code",
   "execution_count": 11,
   "metadata": {},
   "outputs": [
    {
     "name": "stdout",
     "output_type": "stream",
     "text": [
      "2\n",
      "['BPF', 'LOG4', 'NV_MAGICCONST', 'RECIP_BPF', 'Random', 'SG_MAGICCONST', 'SystemRandom', 'TWOPI', '_ONE', '_Sequence', '_Set', '__all__', '__builtins__', '__cached__', '__doc__', '__file__', '__loader__', '__name__', '__package__', '__spec__', '_accumulate', '_acos', '_bisect', '_ceil', '_cos', '_e', '_exp', '_floor', '_index', '_inst', '_isfinite', '_log', '_os', '_pi', '_random', '_repeat', '_sha512', '_sin', '_sqrt', '_test', '_test_generator', '_urandom', '_warn', 'betavariate', 'choice', 'choices', 'expovariate', 'gammavariate', 'gauss', 'getrandbits', 'getstate', 'lognormvariate', 'normalvariate', 'paretovariate', 'randbytes', 'randint', 'random', 'randrange', 'sample', 'seed', 'setstate', 'shuffle', 'triangular', 'uniform', 'vonmisesvariate', 'weibullvariate']\n"
     ]
    }
   ],
   "source": [
    "#Modulo random - Possui varias funções para geração de numeros - pseudo-aleatorios\n",
    "#Existe duas formas de se utilza um modulo ou função\n",
    "\n",
    "'''\n",
    "1 - Forma de importação, importando todo o modulo com todas as funções\n",
    "metodos e atributos\n",
    "'''\n",
    "import random\n",
    "print(random.randint(0, 5))   #Gerar um número aleatorio\n",
    "\n",
    "#Listando todos os metodos atributos funções\n",
    "print(dir(random))"
   ]
  },
  {
   "cell_type": "code",
   "execution_count": 48,
   "metadata": {},
   "outputs": [
    {
     "name": "stdout",
     "output_type": "stream",
     "text": [
      "O número escolhido foi 27\n",
      "Gerando numero < 0 = 0.3784397130257193\n",
      "Escolhendo um numero 27\n"
     ]
    }
   ],
   "source": [
    "# 2 - Forma de importação, importando apenas as funções que desejo\n",
    "from random import randint, choice, random\n",
    "numero = randint(1, 50) #Gera numero aleatorio\n",
    "numero2 = random() # Gera numeros entre 0 e 1\n",
    "print(f'O número escolhido foi {numero}')\n",
    "print(f'Gerando numero < 0 = {numero2}')\n",
    "lista = [numero, numero2]\n",
    "print(f'Escolhendo um numero {choice(lista)}')"
   ]
  },
  {
   "cell_type": "code",
   "execution_count": 106,
   "metadata": {},
   "outputs": [
    {
     "name": "stdout",
     "output_type": "stream",
     "text": [
      "3.190994559059227\n",
      "Random = 0.9825848565899655\n",
      "Randint = 10\n",
      "Uniform = 5.576982004104068\n",
      "Choice = [0.9825848565899655, 10, 5.576982004104068]\n",
      "Shuffle = [5.576982004104068, 0.9825848565899655, 10]\n"
     ]
    }
   ],
   "source": [
    "#Uniform - gera numero pseudo-aleatorio entre os valores estabelecidos\n",
    "from random import uniform\n",
    "print(uniform(3, 6))\n",
    "\n",
    "# random - gera numeros reais abaixo de 1 0.56 \n",
    "# randint - gera numeros aleatorios inteiros\n",
    "# uniform - gera numeros reais positivos acima de 0\n",
    "# choice  - seleciona um valor aleatorio\n",
    "# shuffle - embaralha os valores\n",
    "\n",
    "from random import uniform, random, randint, choice, shuffle, sample\n",
    "num1 = random()\n",
    "num2 = randint(1, 10)\n",
    "num3 = uniform(1, 10)\n",
    "\n",
    "print(f'Random = {num1}')\n",
    "print(f'Randint = {num2}')\n",
    "print(f'Uniform = {num3}')\n",
    "lista = [num1, num2, num3]\n",
    "print(f'Choice = {lista}')\n",
    "shuffle(lista)\n",
    "print(f'Shuffle = {lista}')\n",
    "\n",
    "\n",
    "m44 = sample(lista, 2) #Escolhe 2 elementos "
   ]
  },
  {
   "cell_type": "code",
   "execution_count": null,
   "metadata": {},
   "outputs": [],
   "source": []
  },
  {
   "cell_type": "markdown",
   "metadata": {},
   "source": [
    "### Instalando Pacotes Modulos"
   ]
  },
  {
   "cell_type": "code",
   "execution_count": 114,
   "metadata": {},
   "outputs": [],
   "source": [
    "#pip install colorama\n",
    "#Utilizamos o Pip\n",
    "# !pip install colorama\n",
    "# pip install colorama\n",
    "# pip install upgrade pip"
   ]
  },
  {
   "cell_type": "code",
   "execution_count": 135,
   "metadata": {},
   "outputs": [
    {
     "name": "stdout",
     "output_type": "stream",
     "text": [
      "Novo Programador Python\n",
      "Programador Python\n",
      "Programa\n"
     ]
    }
   ],
   "source": [
    "from colorama import init, Fore, Back\n",
    "init()\n",
    "\n",
    "print(Fore.MAGENTA + 'Novo Programador Python') \n",
    "print(Fore.BLUE + 'Programador Python')\n",
    "print(Back.BLUE + 'Programa')\n"
   ]
  },
  {
   "cell_type": "code",
   "execution_count": null,
   "metadata": {},
   "outputs": [],
   "source": [
    "# Modulo - E um arquivo em Python que pode ter diversas funcoes\n",
    "# Pacote - E um diretorio contendo uma colaçao de modulos\n"
   ]
  },
  {
   "cell_type": "code",
   "execution_count": null,
   "metadata": {},
   "outputs": [],
   "source": []
  },
  {
   "cell_type": "markdown",
   "metadata": {},
   "source": [
    "# <font color='red'>***Dunder Name - > __name__***</font>\n",
    "# <font color='blue'>***Dunder Main - > __main__***</font>"
   ]
  },
  {
   "cell_type": "code",
   "execution_count": 136,
   "metadata": {},
   "outputs": [
    {
     "name": "stdout",
     "output_type": "stream",
     "text": [
      "9\n",
      "9\n"
     ]
    }
   ],
   "source": [
    "# Em python, se executamos \n",
    "def soma_impares(numeros):\n",
    "    total = 0\n",
    "    for num in numeros:\n",
    "        if num % 2 != 0:\n",
    "            total += num\n",
    "    return total\n",
    "\n",
    "if __name__ == '__main__':\n",
    "    lista = [1, 2, 3, 4, 5]\n",
    "    print(soma_impares(lista))\n",
    "    \n",
    "    tupla = (1, 2, 3, 4, 5)\n",
    "    print(soma_impares(tupla))"
   ]
  },
  {
   "cell_type": "code",
   "execution_count": null,
   "metadata": {},
   "outputs": [],
   "source": []
  },
  {
   "cell_type": "code",
   "execution_count": null,
   "metadata": {},
   "outputs": [],
   "source": []
  },
  {
   "cell_type": "code",
   "execution_count": null,
   "metadata": {},
   "outputs": [],
   "source": []
  },
  {
   "cell_type": "code",
   "execution_count": null,
   "metadata": {},
   "outputs": [],
   "source": []
  },
  {
   "cell_type": "code",
   "execution_count": null,
   "metadata": {},
   "outputs": [],
   "source": []
  },
  {
   "cell_type": "code",
   "execution_count": null,
   "metadata": {},
   "outputs": [],
   "source": []
  }
 ],
 "metadata": {
  "kernelspec": {
   "display_name": "base",
   "language": "python",
   "name": "python3"
  },
  "language_info": {
   "codemirror_mode": {
    "name": "ipython",
    "version": 3
   },
   "file_extension": ".py",
   "mimetype": "text/x-python",
   "name": "python",
   "nbconvert_exporter": "python",
   "pygments_lexer": "ipython3",
   "version": "3.11.7"
  }
 },
 "nbformat": 4,
 "nbformat_minor": 2
}
