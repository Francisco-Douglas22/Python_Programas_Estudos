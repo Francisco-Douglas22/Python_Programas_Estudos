{
 "cells": [
  {
   "cell_type": "markdown",
   "metadata": {},
   "source": [
    "# <font color='red'>***Estruturas Logicas e Condicionais em Python***</font>\n",
    "\n",
    "\n",
    "### <font color='yellow'>**Condicionais: if, else, elif**</font>"
   ]
  },
  {
   "cell_type": "markdown",
   "metadata": {},
   "source": [
    "Em Python, as estruturas condicionais são usadas para controlar o fluxo do programa com base em condições específicas. As estruturas condicionais mais comuns em Python são as declarações `if`, `elif` (abreviação de \"else if\") e `else`.\n",
    "\n",
    "Aqui está uma explicação sobre como essas estruturas funcionam:\n",
    "\n",
    "1. **Declaração `if`**: A declaração `if` é usada para testar uma condição. Se a condição for avaliada como verdadeira (isto é, resulta em `True`), o bloco de código indentado dentro do `if` é executado. Se a condição for avaliada como falsa (resulta em `False`), o bloco de código dentro do `if` é ignorado.\n",
    "\n",
    "   ```python\n",
    "   if condition:\n",
    "       # código a ser executado se a condição for verdadeira\n",
    "   ```\n",
    "\n",
    "2. **Declaração `elif`**: A declaração `elif` é usada para adicionar mais condições para testar, caso a primeira condição (`if`) não seja verdadeira. Você pode ter zero ou mais blocos `elif`, e a condição em cada um será testada sequencialmente. Se uma das condições `elif` for verdadeira, o bloco de código associado a ela será executado e as outras condições `elif` subsequentes e o bloco de código associado a eles serão ignorados.\n",
    "\n",
    "   ```python\n",
    "   if condition1:\n",
    "       # código a ser executado se condition1 for verdadeira\n",
    "   elif condition2:\n",
    "       # código a ser executado se condition2 for verdadeira\n",
    "   elif condition3:\n",
    "       # código a ser executado se condition3 for verdadeira\n",
    "   ...\n",
    "   else:\n",
    "       # código a ser executado se nenhuma das condições anteriores for verdadeira\n",
    "   ```\n",
    "\n",
    "3. **Declaração `else`**: A declaração `else` é usada para executar um bloco de código quando nenhuma das condições anteriores (`if` e `elif`) é verdadeira.\n",
    "\n",
    "   ```python\n",
    "   if condition:\n",
    "       # código a ser executado se a condição for verdadeira\n",
    "   else:\n",
    "       # código a ser executado se a condição não for verdadeira\n",
    "   ```\n",
    "\n",
    "É importante notar que a indentação é crucial em Python. O código dentro de cada bloco condicional (`if`, `elif`, `else`) deve ser indentado corretamente para indicar que ele pertence ao bloco condicional. Geralmente, uma indentação de quatro espaços é usada para isso.\n",
    "\n",
    "Além disso, as condições em declarações `if`, `elif` e `else` devem ser expressões que retornam um valor booleano (`True` ou `False`). Essas expressões podem incluir operadores de comparação, como `==` (igualdade), `!=` (diferente), `<` (menor que), `>` (maior que), `<=` (menor ou igual a), `>=` (maior ou igual a), bem como operadores lógicos, como `and`, `or` e `not`.\n",
    "\n",
    "Exemplo:\n",
    "\n",
    "```python\n",
    "x = 10\n",
    "\n",
    "if x > 5:\n",
    "    print(\"x é maior do que 5\")\n",
    "elif x == 5:\n",
    "    print(\"x é igual a 5\")\n",
    "else:\n",
    "    print(\"x é menor do que 5\")\n",
    "```\n",
    "\n",
    "Neste exemplo, se `x` for maior que 5, a primeira mensagem será impressa. Se `x` for igual a 5, a segunda mensagem será impressa. Caso contrário, a terceira mensagem será impressa."
   ]
  },
  {
   "cell_type": "code",
   "execution_count": 1,
   "metadata": {},
   "outputs": [
    {
     "name": "stdout",
     "output_type": "stream",
     "text": [
      "A Idade e de 10 anos\n",
      "Menor de Idade\n"
     ]
    }
   ],
   "source": [
    "#Estruturas condicionais em python\n",
    "from random import randint\n",
    "idade = randint(10, 20)\n",
    "print(f'A Idade e de {idade} anos')\n",
    "\n",
    "#Condicionais\n",
    "if idade <= 18:\n",
    "    print('Menor de Idade')\n",
    "else:\n",
    "    print('Maior de idade')"
   ]
  },
  {
   "cell_type": "code",
   "execution_count": 2,
   "metadata": {},
   "outputs": [
    {
     "name": "stdout",
     "output_type": "stream",
     "text": [
      "A Idade e de 20 anos\n",
      "Ja tem mais de 18 anos voce tem 20 anos\n"
     ]
    }
   ],
   "source": [
    "#Utilizando o elif\n",
    "from random import randint as rand\n",
    "idade = rand(10, 25)\n",
    "print(f'A Idade e de {idade} anos')\n",
    "\n",
    "#Condicionais\n",
    "if idade == 18:\n",
    "    print('Maior de Idade')\n",
    "elif idade > 18:\n",
    "    print(f'Ja tem mais de 18 anos voce tem {idade} anos')\n",
    "elif idade <= 13:\n",
    "    print(f'Voce ainda e uma criança de {idade} anos')\n",
    "else:\n",
    "    print(f'Voce ja e um jovem de {idade} anos')"
   ]
  },
  {
   "cell_type": "code",
   "execution_count": null,
   "metadata": {},
   "outputs": [],
   "source": []
  },
  {
   "cell_type": "code",
   "execution_count": null,
   "metadata": {},
   "outputs": [],
   "source": []
  },
  {
   "cell_type": "markdown",
   "metadata": {},
   "source": [
    "### <font color='yellow'>**Logicas: and, or, not, not is, is not**</font>\n",
    "\n",
    "        and (e)\n",
    "        or (ou)\n",
    "        not (não)\n",
    "        is (é)\n",
    "Operadores Unarios <font color='green'><strong><u>not, is</u></strong></font>\n",
    "\n",
    "Operadores binarios <font color='green'><strong><u>and, or</u></strong></font>"
   ]
  },
  {
   "cell_type": "markdown",
   "metadata": {},
   "source": [
    "### **`Exemplo`**\n",
    "* Para o <font color='gree'>'and'</font> ambos os valores precisam ser True\n",
    "* Para o <font color='gree'>'or'</font> ou ou outro valor precisa ser True\n",
    "* Para o <font color='gree'>'not'</font> o valor do booleano e invertido, True e False, e False e True\n",
    "* Para o <font color='gree'>'in'</font> Funciona em range significa dentro\n",
    "* Para o <font color='gree'>'is'</font> o Valor e comparado com um outro valor"
   ]
  },
  {
   "cell_type": "markdown",
   "metadata": {},
   "source": [
    "Em Python, as estruturas lógicas são usadas para avaliar e manipular valores booleanos (Verdadeiro ou Falso) e expressões condicionais. As estruturas lógicas mais comuns em Python incluem operadores lógicos, tais como `and`, `or`, e `not`, bem como operadores de comparação, como `==`, `!=`, `<`, `>`, `<=` e `>=`.\n",
    "\n",
    "Aqui está uma explicação sobre essas estruturas lógicas:\n",
    "\n",
    "1. **Operadores de Comparação**:\n",
    "   - `==` (igual a): Retorna `True` se os operandos forem iguais.\n",
    "   - `!=` (diferente de): Retorna `True` se os operandos forem diferentes.\n",
    "   - `<` (menor que): Retorna `True` se o operando da esquerda for menor que o operando da direita.\n",
    "   - `>` (maior que): Retorna `True` se o operando da esquerda for maior que o operando da direita.\n",
    "   - `<=` (menor ou igual a): Retorna `True` se o operando da esquerda for menor ou igual ao operando da direita.\n",
    "   - `>=` (maior ou igual a): Retorna `True` se o operando da esquerda for maior ou igual ao operando da direita.\n",
    "\n",
    "2. **Operadores Lógicos**:\n",
    "   - `and`: Retorna `True` se ambos os operandos forem verdadeiros.\n",
    "   - `or`: Retorna `True` se pelo menos um dos operandos for verdadeiro.\n",
    "   - `not`: Inverte o valor do operando. Se o operando for `True`, `not` retorna `False`; se o operando for `False`, `not` retorna `True`.\n",
    "\n",
    "3. **Precedência de Operadores**:\n",
    "   - Os operadores de comparação têm uma precedência mais alta do que os operadores lógicos.\n",
    "   - `not` tem a precedência mais alta, seguido por `and` e `or`.\n",
    "   - Você pode usar parênteses para alterar a ordem de avaliação e tornar a expressão mais clara.\n",
    "\n",
    "Exemplo de uso de estruturas lógicas em Python:\n",
    "\n",
    "```python\n",
    "x = 5\n",
    "y = 10\n",
    "\n",
    "# Operadores de comparação\n",
    "print(x == y)   # False\n",
    "print(x < y)    # True\n",
    "\n",
    "# Operadores lógicos\n",
    "print(x < 10 and y > 5)    # True\n",
    "print(x == 5 or y == 5)    # True\n",
    "print(not(x == y))         # True\n",
    "\n",
    "# Precedência de operadores\n",
    "print(True or False and not False)  # True\n",
    "print((True or False) and not False)  # True\n",
    "```\n",
    "\n",
    "Neste exemplo, você pode ver como os operadores de comparação e lógicos são usados para avaliar expressões condicionais e como a precedência dos operadores pode afetar o resultado."
   ]
  },
  {
   "cell_type": "code",
   "execution_count": 3,
   "metadata": {},
   "outputs": [
    {
     "name": "stdout",
     "output_type": "stream",
     "text": [
      "Voce precisa ativar sua conta: Por favor cheque seu email\n",
      "Bem vindo\n"
     ]
    }
   ],
   "source": [
    "#Exemplo\n",
    "# Para o 'and' ambos os valores precisam ser True\n",
    "# Para o 'or' ou ou outro valor precisa ser True\n",
    "# Para o 'not' o valor do booleano e invertido, True e False, e False e True\n",
    "# Para o 'in' Funciona em range significa dentro\n",
    "# Para o 'is' o Valor e comparado com um outro valor\n",
    "\n",
    "ativo = False\n",
    "logado = False\n",
    "\n",
    "if ativo or logado:\n",
    "    print('Bem vindo usuario')\n",
    "else:\n",
    "    print('Voce precisa ativar sua conta: Por favor cheque seu email')\n",
    "\n",
    "if not ativo:\n",
    "    print('Bem vindo')\n",
    "else:\n",
    "    print('Tchaw')"
   ]
  },
  {
   "cell_type": "code",
   "execution_count": null,
   "metadata": {},
   "outputs": [],
   "source": []
  },
  {
   "cell_type": "code",
   "execution_count": 1,
   "metadata": {},
   "outputs": [
    {
     "name": "stdout",
     "output_type": "stream",
     "text": [
      "O Numero digitado foi 5\n",
      "O Numero e IMPAR\n"
     ]
    }
   ],
   "source": [
    "#Numero\n",
    "numero = input('Digite um numero: ')\n",
    "\n",
    "try:\n",
    "    numero = int(numero)\n",
    "    print(f'O Numero digitado foi {numero}')\n",
    "    if numero % 2 == 0:\n",
    "        print('O Numero e PAR')\n",
    "    else:\n",
    "        print('O Numero e IMPAR')\n",
    "    \n",
    "except:\n",
    "    print('Tivemos um erro!')"
   ]
  },
  {
   "cell_type": "code",
   "execution_count": null,
   "metadata": {},
   "outputs": [],
   "source": []
  },
  {
   "cell_type": "code",
   "execution_count": 58,
   "metadata": {},
   "outputs": [
    {
     "name": "stdout",
     "output_type": "stream",
     "text": [
      "<attribute 'hour' of 'datetime.time' objects>\n",
      "Ja São 17 Horas da TARDE\n"
     ]
    }
   ],
   "source": [
    "#Hora atual\n",
    "from random import randint\n",
    "hora = randint(1, 24)\n",
    "\n",
    "if hora >= 6 and hora <= 11:\n",
    "    print(f'Ja São {hora} Horas da MANHÃ')\n",
    "elif hora >= 12 and hora <= 17:\n",
    "    print(f'Ja São {hora} Horas da TARDE')\n",
    "elif hora >= 18 and hora <= 23:\n",
    "    print(f'Ja São {hora} Horas da NOITE')\n",
    "else:\n",
    "    print(f'Ja São {hora} Horas da MADRUGADA') "
   ]
  },
  {
   "cell_type": "code",
   "execution_count": null,
   "metadata": {},
   "outputs": [],
   "source": []
  },
  {
   "cell_type": "code",
   "execution_count": null,
   "metadata": {},
   "outputs": [],
   "source": []
  },
  {
   "cell_type": "markdown",
   "metadata": {},
   "source": [
    "# **Operações Ternarias**"
   ]
  },
  {
   "cell_type": "markdown",
   "metadata": {},
   "source": [
    "Em Python, os operadores ternários são uma forma concisa de escrever estruturas condicionais de uma linha. Eles são frequentemente utilizados quando você precisa atribuir um valor a uma variável com base em uma condição. A sintaxe básica do operador ternário em Python é a seguinte:\n",
    "\n",
    "```python\n",
    "valor_se_verdadeiro if condicao else valor_se_falso\n",
    "```\n",
    "\n",
    "Aqui está uma explicação de cada parte:\n",
    "\n",
    "- `valor_se_verdadeiro`: O valor que será atribuído à variável se a condição for verdadeira.\n",
    "- `condicao`: A expressão que será avaliada. Se for verdadeira, `valor_se_verdadeiro` será atribuído à variável; caso contrário, `valor_se_falso` será atribuído.\n",
    "- `valor_se_falso`: O valor que será atribuído à variável se a condição for falsa.\n",
    "\n",
    "Por exemplo:\n",
    "\n",
    "```python\n",
    "idade = 20\n",
    "status = \"Maior de Idade\" if idade >= 18 else \"Menor de Idade\"\n",
    "print(status)  # Saída: Maior de Idade\n",
    "```\n",
    "\n",
    "Neste exemplo, se a idade for maior ou igual a 18, a variável `status` receberá o valor \"Maior de Idade\"; caso contrário, receberá o valor \"Menor de Idade\".\n",
    "\n",
    "Os operadores ternários são úteis quando você tem uma condição simples e deseja fazer uma atribuição com base nessa condição em uma única linha, tornando o código mais conciso e legível. No entanto, é importante usá-los com moderação para não sacrificar a clareza do código."
   ]
  },
  {
   "cell_type": "code",
   "execution_count": 1,
   "metadata": {},
   "outputs": [
    {
     "name": "stdout",
     "output_type": "stream",
     "text": [
      "Outro valor\n"
     ]
    }
   ],
   "source": [
    "#Exemplo\n",
    "nome = 'Valor' if False else 'Outro valor'\n",
    "print(nome)"
   ]
  },
  {
   "cell_type": "code",
   "execution_count": 2,
   "metadata": {},
   "outputs": [
    {
     "name": "stdout",
     "output_type": "stream",
     "text": [
      "Ao realiza o saque tivemos Falha\n"
     ]
    }
   ],
   "source": [
    "from random import randint\n",
    "saldo = randint(100, 200)\n",
    "saque = randint(100, 200)\n",
    "\n",
    "sucesso = \"Sucesso\" if saldo >= saque else \"Falha\"\n",
    "print(f'Ao realiza o saque tivemos {sucesso}')"
   ]
  },
  {
   "cell_type": "code",
   "execution_count": 1,
   "metadata": {},
   "outputs": [
    {
     "name": "stdout",
     "output_type": "stream",
     "text": [
      "Aprovado\n"
     ]
    }
   ],
   "source": [
    "condicao = 10\n",
    "retorno = \"Aprovado\" if condicao >= 7 else \"Reprovado\"\n",
    "print(retorno)"
   ]
  },
  {
   "cell_type": "code",
   "execution_count": 2,
   "metadata": {},
   "outputs": [
    {
     "name": "stdout",
     "output_type": "stream",
     "text": [
      "Menina\n"
     ]
    }
   ],
   "source": [
    "sexo = True\n",
    "print('Menina' if sexo == True else 'Menino')"
   ]
  },
  {
   "cell_type": "code",
   "execution_count": null,
   "metadata": {},
   "outputs": [],
   "source": []
  }
 ],
 "metadata": {
  "kernelspec": {
   "display_name": "Python 3 (ipykernel)",
   "language": "python",
   "name": "python3"
  },
  "language_info": {
   "codemirror_mode": {
    "name": "ipython",
    "version": 3
   },
   "file_extension": ".py",
   "mimetype": "text/x-python",
   "name": "python",
   "nbconvert_exporter": "python",
   "pygments_lexer": "ipython3",
   "version": "3.11.7"
  }
 },
 "nbformat": 4,
 "nbformat_minor": 4
}
