{
 "cells": [
  {
   "cell_type": "markdown",
   "metadata": {},
   "source": [
    "### ***Crie um programa que leia 2 números inteiros e mostre na tela qual é PAR e qual e IMPAR, depois mostre qual deles e o maior***"
   ]
  },
  {
   "cell_type": "code",
   "execution_count": null,
   "metadata": {},
   "outputs": [],
   "source": []
  },
  {
   "cell_type": "markdown",
   "metadata": {},
   "source": [
    "#### ***Codigo Cru sem Comentarios e explicações***"
   ]
  },
  {
   "cell_type": "code",
   "execution_count": 2,
   "metadata": {},
   "outputs": [
    {
     "name": "stdout",
     "output_type": "stream",
     "text": [
      "Os numeros digitados foram (2, 3)\n",
      "O numero [1] 2 e Par, o numero [2] 3 e Impar\n"
     ]
    }
   ],
   "source": [
    "num1 = input('Digite o primeiro numero: ')\n",
    "num2 = input('Digite o segundo numero: ')\n",
    "\n",
    "try:\n",
    "    n1 = int(num1)\n",
    "    n2 = int(num2)\n",
    "    \n",
    "    print(f'Os numeros digitados foram {n1, n2}')\n",
    "    if n1 % 2 == 0 and n2 % 2 == 0:\n",
    "        print(f'O numero [1] {n1} e Par, o numero [2] {n2} tambem e Par')\n",
    "    elif n1 % 2 == 0 and n2 % 2 == 1:\n",
    "        print(f'O numero [1] {n1} e Par, o numero [2] {n2} e Impar')\n",
    "    elif n1 % 2 == 1 and n2 % 2 == 0:\n",
    "        print(f'O numero [1] {n1} e Impar, o numero [2] {n2} e Par')\n",
    "    else:\n",
    "        print(f'Os numeros {n1} e {n2} são Impares')\n",
    "    \n",
    "except ValueError:\n",
    "    print('Tivemos um erro de valor')"
   ]
  },
  {
   "cell_type": "code",
   "execution_count": null,
   "metadata": {},
   "outputs": [],
   "source": []
  },
  {
   "cell_type": "markdown",
   "metadata": {},
   "source": [
    "#### ***Codigo Documentado***"
   ]
  },
  {
   "cell_type": "markdown",
   "metadata": {},
   "source": [
    "#### ***Explicando o Codigo***"
   ]
  },
  {
   "cell_type": "markdown",
   "metadata": {
    "vscode": {
     "languageId": "plaintext"
    }
   },
   "source": [
    "\n",
    "\n",
    "```python\n",
    "# Solicita ao usuário que digite o primeiro número e o armazena em 'num1'\n",
    "num1 = input('Digite o primeiro número: ')\n",
    "\n",
    "# Solicita ao usuário que digite o segundo número e o armazena em 'num2'\n",
    "num2 = input('Digite o segundo número: ')\n",
    "\n",
    "try:\n",
    "    # Tenta converter os números para inteiros\n",
    "    n1 = int(num1)\n",
    "    n2 = int(num2)\n",
    "    \n",
    "    # Imprime os números digitados pelo usuário\n",
    "    print(f'Os números digitados foram {n1, n2}')\n",
    "    \n",
    "    # Verifica se ambos os números são pares, ímpares ou se um é par e o outro é ímpar\n",
    "    if n1 % 2 == 0 and n2 % 2 == 0:\n",
    "        print(f'O número [1] {n1} é Par, o número [2] {n2} também é Par')\n",
    "    elif n1 % 2 == 0 and n2 % 2 == 1:\n",
    "        print(f'O número [1] {n1} é Par, o número [2] {n2} é Ímpar')\n",
    "    elif n1 % 2 == 1 and n2 % 2 == 0:\n",
    "        print(f'O número [1] {n1} é Ímpar, o número [2] {n2} é Par')\n",
    "    else:\n",
    "        print(f'Os números {n1} e {n2} são Ímpares')\n",
    "    \n",
    "except ValueError:\n",
    "    # Se ocorrer um erro ao tentar converter para inteiro, imprime uma mensagem de erro\n",
    "    print('Tivemos um erro de valor')\n",
    "```\n",
    "\n",
    "**Explicação:**\n",
    "\n",
    "1. **Input dos Números:** O código solicita ao usuário que insira dois números e armazena-os nas variáveis `num1` e `num2`.\n",
    "\n",
    "2. **Conversão para Inteiros:** Tenta converter os números fornecidos pelo usuário para inteiros (`int`). Se isso for bem-sucedido, os números convertidos são armazenados nas variáveis `n1` e `n2`.\n",
    "\n",
    "3. **Impressão dos Números:** Imprime os números digitados pelo usuário.\n",
    "\n",
    "4. **Verificação da Paridade:** Utiliza condicionais (`if-elif-else`) para verificar a paridade dos números e imprime mensagens correspondentes, indicando se ambos são pares, ímpares, ou se um é par e o outro é ímpar.\n",
    "\n",
    "5. **Tratamento de Exceção:** Caso ocorra um erro ao tentar converter para inteiro (por exemplo, se o usuário digitar um texto em vez de um número), uma exceção do tipo `ValueError` é levantada. Nesse caso, o programa imprime uma mensagem de erro.\n",
    "\n"
   ]
  },
  {
   "cell_type": "code",
   "execution_count": null,
   "metadata": {},
   "outputs": [],
   "source": []
  }
 ],
 "metadata": {
  "kernelspec": {
   "display_name": "base",
   "language": "python",
   "name": "python3"
  },
  "language_info": {
   "codemirror_mode": {
    "name": "ipython",
    "version": 3
   },
   "file_extension": ".py",
   "mimetype": "text/x-python",
   "name": "python",
   "nbconvert_exporter": "python",
   "pygments_lexer": "ipython3",
   "version": "3.11.7"
  }
 },
 "nbformat": 4,
 "nbformat_minor": 2
}
