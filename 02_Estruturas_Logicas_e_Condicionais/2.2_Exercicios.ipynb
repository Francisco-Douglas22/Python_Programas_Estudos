{
 "cells": [
  {
   "cell_type": "markdown",
   "metadata": {},
   "source": [
    "***1- Escreva um programa que faça o computador “pensar” em um número inteiro entre 0 e 5 e peça para o usuário tentar descobrir qual foi o número escolhido pelo computador. O programa deverá escrever na tela se o usuário venceu ou perdeu***"
   ]
  },
  {
   "cell_type": "code",
   "execution_count": 4,
   "metadata": {},
   "outputs": [
    {
     "name": "stdout",
     "output_type": "stream",
     "text": [
      "Estou pensando em um numero tente advinhar: \n",
      "Digite um numero entre [0 a 5]\n",
      "Voce errou eu pensei em 5 e voce digitou 1\n"
     ]
    }
   ],
   "source": [
    "# Importa a função randint do módulo random\n",
    "from random import randint \n",
    "\n",
    "# Gera um número aleatório entre 0 e 5 e atribui a pc\n",
    "pc = randint(0, 5)\n",
    "\n",
    "# Exibe uma mensagem para o usuário\n",
    "print('Estou pensando em um número. Tente adivinhar!')\n",
    "\n",
    "# Recebe a entrada do usuário e converte para inteiro\n",
    "opcao = int(input('Digite um número entre 0 e 5: '))\n",
    "\n",
    "# Verifica se o número digitado está dentro do intervalo [0, 5]\n",
    "if 0 <= opcao <= 5:\n",
    "    # Verifica se o número digitado é igual ao número aleatório gerado\n",
    "    if pc == opcao:\n",
    "        # Exibe mensagem de parabéns se o usuário acertar\n",
    "        print(f'Parabéns! Você acertou. Eu pensei em {pc} e você digitou {opcao}.')\n",
    "    else:\n",
    "        # Exibe mensagem de erro se o usuário errar\n",
    "        print(f'Você errou. Eu pensei em {pc} e você digitou {opcao}.')\n",
    "else:\n",
    "    # Exibe uma mensagem se o número digitado estiver fora do intervalo [0, 5]\n",
    "    print('Por favor, digite um número entre 0 e 5.')\n"
   ]
  },
  {
   "cell_type": "code",
   "execution_count": null,
   "metadata": {},
   "outputs": [],
   "source": []
  },
  {
   "cell_type": "code",
   "execution_count": null,
   "metadata": {},
   "outputs": [],
   "source": []
  },
  {
   "cell_type": "markdown",
   "metadata": {},
   "source": [
    "***2 - Escreva um programa que leia a velocidade de um carro. Se ele ultrapassar 80Km/h, mostre uma mensagem dizendo que ele foi multado. A multa vai custar R$7,00 por cada Km acima do limite***"
   ]
  },
  {
   "cell_type": "code",
   "execution_count": 5,
   "metadata": {},
   "outputs": [
    {
     "name": "stdout",
     "output_type": "stream",
     "text": [
      "Um carro que estava a 120.0 Km/hr. \n",
      "Sera multado em 280.00 R$\n"
     ]
    }
   ],
   "source": [
    "# Solicita a velocidade do carro em km/h\n",
    "km_hora = float(input('Digite a velocidade: km '))\n",
    "\n",
    "# Exibe a velocidade inserida pelo usuário\n",
    "print(f'Um carro estava a {km_hora} Km/hr.')\n",
    "\n",
    "# Verifica se a velocidade é maior que 80 km/h\n",
    "if km_hora > 80:\n",
    "    # Calcula a multa: R$ 7 para cada km/h acima de 80\n",
    "    multa = (km_hora - 80) * 7\n",
    "    # Exibe a multa a ser paga\n",
    "    print(f'Será multado em {multa:.2f} R$')\n",
    "else:\n",
    "    # Se estiver abaixo de 80 km/h, elogia o motorista\n",
    "    print('Tem um motorista prudente')\n"
   ]
  },
  {
   "cell_type": "code",
   "execution_count": null,
   "metadata": {},
   "outputs": [],
   "source": []
  },
  {
   "cell_type": "code",
   "execution_count": null,
   "metadata": {},
   "outputs": [],
   "source": []
  },
  {
   "cell_type": "markdown",
   "metadata": {},
   "source": [
    "***3-      Crie um programa que leia 2 números inteiros e mostre na tela qual é PAR e qual e IMPAR, depois mostre qual deles e o maio***"
   ]
  },
  {
   "cell_type": "code",
   "execution_count": null,
   "metadata": {},
   "outputs": [],
   "source": [
    "# Solicita ao usuário que digite dois números inteiros\n",
    "num1 = int(input('Primeiro Numero: '))\n",
    "num2 = int(input('Segundo Numero: '))\n",
    "\n",
    "# Exibe os números digitados pelo usuário\n",
    "print(f'Os números digitados foram {num1} e {num2}')\n",
    "\n",
    "# Verifica se ambos os números são inteiros\n",
    "if isinstance(num1, int) and isinstance(num2, int):\n",
    "    # Verifica a paridade de ambos os números\n",
    "    if num1 % 2 == 0 and num2 % 2 == 0:\n",
    "        print(f'O Primeiro número {num1} e o Segundo número {num2} são PARES.')\n",
    "    elif num1 % 2 == 0 and num2 % 2 == 1:\n",
    "        print(f'O Primeiro número {num1} é PAR e o Segundo número {num2} é ÍMPAR.')\n",
    "    elif num1 % 2 == 1 and num2 % 2 == 0:\n",
    "        print(f'O Primeiro número {num1} é ÍMPAR e o Segundo número {num2} é PAR.')\n",
    "    else:\n",
    "        print(f'Ambos os números {num1} e {num2} são ÍMPARES.')\n",
    "else:\n",
    "    # Exibe uma mensagem se os números não forem inteiros\n",
    "    print('Por favor, digite dois números inteiros.')\n"
   ]
  },
  {
   "cell_type": "code",
   "execution_count": null,
   "metadata": {},
   "outputs": [],
   "source": []
  },
  {
   "cell_type": "code",
   "execution_count": null,
   "metadata": {},
   "outputs": [],
   "source": []
  },
  {
   "cell_type": "markdown",
   "metadata": {},
   "source": [
    "***4-      Desenvolva um programa que pergunte a distância de uma viagem em Km. Calcule o preço da passagem, cobrando R$0,50 por Km para viagens de até 200Km e R$0,45 parta viagens mais longas***"
   ]
  },
  {
   "cell_type": "code",
   "execution_count": 8,
   "metadata": {},
   "outputs": [
    {
     "name": "stdout",
     "output_type": "stream",
     "text": [
      "Para uma viagem de 230.00 Km a passagem sera de 103.50 R$\n"
     ]
    }
   ],
   "source": [
    "# Solicita ao usuário que digite a distância da viagem\n",
    "distancia = input('Digite a distância da Viagem: ')\n",
    "\n",
    "try:\n",
    "    # Tenta converter a entrada em um número inteiro\n",
    "    distancia = int(distancia)\n",
    "    \n",
    "    # Verifica se a distância é um número inteiro ou flutuante\n",
    "    if isinstance(distancia, (int, float)):\n",
    "        # Calcula o preço da passagem com base na distância\n",
    "        if distancia > 200:\n",
    "            passagem = distancia * 0.45\n",
    "            print(f'Para uma viagem de {distancia:.2f} Km a passagem será de {passagem:.2f} R$')\n",
    "        else:\n",
    "            passagem = distancia * 0.50\n",
    "            print(f'Para uma viagem de {distancia:.2f} Km a passagem será de {passagem:.2f} R$')\n",
    "    else:\n",
    "        # Exibe uma mensagem se a distância não for numérica\n",
    "        print('A distância não é numérica.')\n",
    "    \n",
    "except ValueError:\n",
    "    # Exibe uma mensagem se não for possível converter a entrada em um número\n",
    "    print('Não foi possível converter. Por favor, digite um valor numérico.')\n"
   ]
  },
  {
   "cell_type": "code",
   "execution_count": null,
   "metadata": {},
   "outputs": [],
   "source": []
  },
  {
   "cell_type": "code",
   "execution_count": null,
   "metadata": {},
   "outputs": [],
   "source": []
  },
  {
   "cell_type": "markdown",
   "metadata": {},
   "source": [
    "***5-      Faça um programa que leia 3 anos qualquer e mostre qual é bissexto. Sendo que um ano e bissexto se for divisível por 400 ou se for divisível por 4 e não for divisível por 100.***"
   ]
  },
  {
   "cell_type": "code",
   "execution_count": 19,
   "metadata": {},
   "outputs": [
    {
     "name": "stdout",
     "output_type": "stream",
     "text": [
      "O Primeiro Ano 2000 e BISSEXTO \n",
      "O Segundo Ano 2010 e BISSEXTO\n",
      "O Terceiro Ano 2022 Não e BISSEXTO\n"
     ]
    }
   ],
   "source": [
    "# Solicita ao usuário que insira três anos\n",
    "ano1 = input('Primeiro ano: ')\n",
    "ano2 = input('Segundo ano: ')\n",
    "ano3 = input('Terceiro ano: ')\n",
    "\n",
    "try:\n",
    "    # Tenta converter os anos para inteiros\n",
    "    a1 = int(ano1)\n",
    "    a2 = int(ano2)\n",
    "    a3 = int(ano3)\n",
    "    \n",
    "    # Verifica se os anos são inteiros\n",
    "    if isinstance(a1, int) and isinstance(a2, int) and isinstance(a3, int):\n",
    "        # Verifica se cada ano é bissexto\n",
    "        if a1:\n",
    "            if a1 % 4 == 0 and (a1 % 100 != 0 or a1 % 400 == 0):\n",
    "                print(f'O Primeiro Ano {a1} é BISSEXTO')\n",
    "            else:\n",
    "                print(f'O Primeiro Ano {a1} Não é BISSEXTO')\n",
    "                \n",
    "        if a2:\n",
    "            if a2 % 4 == 0 and (a2 % 100 != 0 or a2 % 400 == 0):\n",
    "                print(f'O Segundo Ano {a2} é BISSEXTO')\n",
    "            else:\n",
    "                print(f'O Segundo Ano {a2} Não é BISSEXTO')\n",
    "                \n",
    "        if a3:\n",
    "            if a3 % 4 == 0 and (a3 % 100 != 0 or a3 % 400 == 0):\n",
    "                print(f'O Terceiro Ano {a3} é BISSEXTO')\n",
    "            else:\n",
    "                print(f'O Terceiro Ano {a3} Não é BISSEXTO')\n",
    "        else:\n",
    "            print('Os Anos são inválidos')\n",
    "    \n",
    "except ValueError as erro:\n",
    "    # Exibe uma mensagem de erro se a conversão para int falhar\n",
    "    print('Tivemos um erro:', erro)\n"
   ]
  },
  {
   "cell_type": "code",
   "execution_count": null,
   "metadata": {},
   "outputs": [],
   "source": []
  },
  {
   "cell_type": "code",
   "execution_count": null,
   "metadata": {},
   "outputs": [],
   "source": []
  },
  {
   "cell_type": "markdown",
   "metadata": {},
   "source": [
    "***6- Faça um programa que leia 3 notas de um aluno, verifique se as notas são validas e exiba na tela a media das notas. Uma nota valida dever ser um valor entre 0.0 e 10.0, caso não seja válida imprima invalida. Verifique tambem qual foi a maior e a menor nota***"
   ]
  },
  {
   "cell_type": "code",
   "execution_count": 23,
   "metadata": {},
   "outputs": [
    {
     "name": "stdout",
     "output_type": "stream",
     "text": [
      "Todas as Notas São Validas Iremos Calcula a Media\n",
      "A Media do aluno sera de 6.00 Pontos\n"
     ]
    }
   ],
   "source": [
    "# Solicita as notas do usuário\n",
    "nota1 = input('Primeira nota: ')\n",
    "nota2 = input('Segunda nota: ')\n",
    "nota3 = input('Terceira nota: ')\n",
    "\n",
    "# Tenta converter as notas para números decimais e calcular a média\n",
    "try:\n",
    "    # Converte as notas para float\n",
    "    n1 = float(nota1)\n",
    "    n2 = float(nota2)\n",
    "    n3 = float(nota3)\n",
    "    \n",
    "    # Verifica se as notas são do tipo float\n",
    "    if isinstance(n1, float) and isinstance(n2, float) and isinstance(n3, float):\n",
    "        # Verifica se as notas estão dentro do intervalo válido (0 a 10)\n",
    "        if 0 < n1 < 10 and 0 < n2 < 10 and 0 < n3 < 10:\n",
    "            print('Todas as notas são válidas. Iremos calcular a média.')\n",
    "            # Calcula a média das notas\n",
    "            media = (n1 + n2 + n3) / 3\n",
    "            # Exibe a média formatada com duas casas decimais\n",
    "            print(f'A média do aluno será de {media:.2f} pontos.')\n",
    "        else:\n",
    "            print('Pelo menos uma das notas é inválida.')\n",
    "    else:\n",
    "        print('As notas não são do tipo float.')\n",
    "        \n",
    "# Se ocorrer um erro durante a conversão das notas para float\n",
    "except ValueError:\n",
    "    print('Erro: Alguma das entradas não é um número válido.')\n"
   ]
  },
  {
   "cell_type": "code",
   "execution_count": null,
   "metadata": {},
   "outputs": [],
   "source": []
  },
  {
   "cell_type": "code",
   "execution_count": null,
   "metadata": {},
   "outputs": [],
   "source": []
  },
  {
   "cell_type": "markdown",
   "metadata": {},
   "source": [
    "***7- Escreva um programa que pergunte o salário de um funcionário e calcule o valor do seu aumento.\n",
    "Para salários superiores a R$1250,00, calcule um aumento de 10%. Para os inferiores ou iguais, o\n",
    "aumento é de 15%.***"
   ]
  },
  {
   "cell_type": "code",
   "execution_count": 6,
   "metadata": {},
   "outputs": [
    {
     "name": "stdout",
     "output_type": "stream",
     "text": [
      "O Funcionario que Ganhava 1250.0 R$\n",
      "Com um aumento de 15% passara a ganhar 1437.50 R$\n"
     ]
    }
   ],
   "source": [
    "# Solicita o salário do funcionário e armazena o valor.\n",
    "salario = float(input('Salario do Funcionario: R$ '))\n",
    "\n",
    "# Lista de aumentos percentuais.\n",
    "aumentos = [10, 15]\n",
    "\n",
    "# Imprime o salário atual.\n",
    "print(f'O Funcionario que Ganhava {salario} R$')\n",
    "\n",
    "# Verifica se o salário é um número.\n",
    "if isinstance(salario, (int, float)):\n",
    "    # Calcula o aumento com base no valor do salário.\n",
    "    if salario > 1250:\n",
    "        aumento = salario * (aumentos[0] / 100) + salario\n",
    "        print(f'Com um aumento de 10% passara a ganhar {aumento:.2f} R$')\n",
    "    else:\n",
    "        aumento = salario * (aumentos[1] / 100) + salario\n",
    "        print(f'Com um aumento de 15% passara a ganhar {aumento:.2f} R$')\n",
    "else:\n",
    "    print('Por favor, digite o Salario em Formato de numero!')\n"
   ]
  },
  {
   "cell_type": "code",
   "execution_count": null,
   "metadata": {},
   "outputs": [],
   "source": []
  },
  {
   "cell_type": "code",
   "execution_count": null,
   "metadata": {},
   "outputs": [],
   "source": []
  },
  {
   "cell_type": "markdown",
   "metadata": {},
   "source": [
    "***8- Escreva um programa que leia um numero inteiro maior que zero e devolva, na tela a soma de todos os seus alegorismos. Por exemplo, ao numero 251 corresponde o valor 8 (2 + 5 + 1). Se o número lido não for maior que zero, o programa terminara.***"
   ]
  },
  {
   "cell_type": "code",
   "execution_count": 9,
   "metadata": {},
   "outputs": [
    {
     "name": "stdout",
     "output_type": "stream",
     "text": [
      "O Numero digitado foi 345\n",
      "Os Numeros de 345 são 0, 3, 4, 5\n",
      "A Soma dos numeros e 12\n"
     ]
    }
   ],
   "source": [
    "# Solicita ao usuário que insira um número inteiro e armazena o valor em uma variável.\n",
    "numero = input('Digite um numero inteiro: ')\n",
    "\n",
    "try:\n",
    "    # Tenta converter o número para inteiro.\n",
    "    num = int(numero)\n",
    "    \n",
    "    # Verifica se o número é maior que zero.\n",
    "    if num > 0:\n",
    "        # Extrai os dígitos do número.\n",
    "        unidade = num // 1 % 10\n",
    "        dezena  = num // 10 % 10\n",
    "        centena = num // 100 % 10\n",
    "        milhar  = num // 1000 % 10\n",
    "        \n",
    "        # Imprime o número digitado.\n",
    "        print(f'O Numero digitado foi {numero}')\n",
    "        \n",
    "        # Imprime os dígitos extraídos do número.\n",
    "        print(f'Os Numeros de {num} são {milhar}, {centena}, {dezena}, {unidade}')\n",
    "        \n",
    "        # Calcula e imprime a soma dos dígitos do número.\n",
    "        soma = unidade + dezena + centena + milhar\n",
    "        print(f'A Soma dos numeros e {soma}')\n",
    "        \n",
    "    else:\n",
    "        # Se o número for menor ou igual a zero, imprime uma mensagem.\n",
    "        print(f'Voce digitou um numero menor que 0')\n",
    "    \n",
    "\n",
    "except ValueError as erro:\n",
    "    # Se ocorrer um erro de valor, imprime uma mensagem de erro.\n",
    "    print(f'Tivemos um erro do tipo {erro}')\n"
   ]
  },
  {
   "cell_type": "code",
   "execution_count": null,
   "metadata": {},
   "outputs": [],
   "source": []
  },
  {
   "cell_type": "code",
   "execution_count": null,
   "metadata": {},
   "outputs": [],
   "source": []
  },
  {
   "cell_type": "markdown",
   "metadata": {},
   "source": [
    "***9- Desenvolva um programa que leia o comprimento de três retas e diga ao usuário se elas podem ou não formar um triângulo.***"
   ]
  },
  {
   "cell_type": "code",
   "execution_count": 11,
   "metadata": {},
   "outputs": [
    {
     "name": "stdout",
     "output_type": "stream",
     "text": [
      "As retas 4, 5, 6 Forman um triangulo\n"
     ]
    }
   ],
   "source": [
    "# Solicita ao usuário que insira os comprimentos das três retas e\n",
    "# armazena os valores em variáveis.\n",
    "r1 = int(input('Primeira reta: '))\n",
    "r2 = int(input('Segunda Reta: '))\n",
    "r3 = int(input('Terceira Reta: '))\n",
    "\n",
    "# Verifica se os comprimentos fornecidos podem formar um triângulo.\n",
    "if r1 < r2 + r3 and r2 < r1 + r3 and r3 < r1 + r2:\n",
    "    # Se a condição for verdadeira, imprime que as retas formam um triângulo.\n",
    "    print(f'As retas {r1}, {r2}, {r3} formam um triângulo')\n",
    "else:\n",
    "    # Se a condição for falsa, imprime que as retas não formam um triângulo.\n",
    "    print(f'As retas não formam um triângulo')\n"
   ]
  },
  {
   "cell_type": "code",
   "execution_count": null,
   "metadata": {},
   "outputs": [],
   "source": []
  },
  {
   "cell_type": "code",
   "execution_count": null,
   "metadata": {},
   "outputs": [],
   "source": []
  },
  {
   "cell_type": "markdown",
   "metadata": {},
   "source": [
    "***10- Escreva um programa para aprovar o empréstimo bancário para a compra de uma casa. Pergunte o\n",
    "valor da casa, o salário do comprador e em quantos anos ele vai pagar. A prestação mensal não pode\n",
    "exceder 30% do salário ou então o empréstimo será negado***"
   ]
  },
  {
   "cell_type": "code",
   "execution_count": 12,
   "metadata": {},
   "outputs": [
    {
     "name": "stdout",
     "output_type": "stream",
     "text": [
      "Financiamento de Uma casa:\n",
      "Para financia uma casa de 250000.00 R$ em 10 anos\n",
      "As Parcelas da casa ficaram de 2083.33 R$ Não podendo exceder o limite de 30%\n",
      "O Emprestimo sera negado pois excede o limite de 30% do salario\n",
      "Seu limite e de 1680.00 R$\n"
     ]
    }
   ],
   "source": [
    "# Solicita ao usuário que insira o valor da casa, o salário do comprador e o prazo \n",
    "# desejado para o financiamento.\n",
    "valor_casa = float(input('Valor da Casa: R$ '))\n",
    "salario = float(input('Salario do Comprador: R$ '))\n",
    "tempo = int(input('Em quantos anos deseja financiar: '))\n",
    "\n",
    "# Calcula o valor das parcelas mensais do financiamento.\n",
    "parcelas = valor_casa / (tempo * 12)\n",
    "\n",
    "# Calcula o limite máximo das parcelas com base no salário do comprador (30% do salário).\n",
    "maximo_s = salario * 0.30\n",
    "\n",
    "# Imprime informações sobre o financiamento.\n",
    "print(f'Financiamento de Uma casa:')\n",
    "print(f'Para financiar uma casa de {valor_casa:.2f} R$ em {tempo} anos')\n",
    "\n",
    "# Verifica se o valor das parcelas excede o limite máximo permitido.\n",
    "if parcelas > maximo_s:\n",
    "    print(f'As Parcelas da casa ficarão de {parcelas:.2f} R$, excedendo o limite de 30% do salário.')\n",
    "    print(f'O Empréstimo será negado, pois ultrapassa o limite estabelecido.')\n",
    "    print(f'Seu limite é de {maximo_s:.2f} R$.')\n",
    "else:\n",
    "    print(f'As Parcelas da casa ficarão de {parcelas:.2f} R$, dentro do limite de 30% do salário.')\n",
    "    print(f'O Empréstimo será concedido, pois não ultrapassa o limite estabelecido.')\n"
   ]
  },
  {
   "cell_type": "code",
   "execution_count": null,
   "metadata": {},
   "outputs": [],
   "source": []
  },
  {
   "cell_type": "code",
   "execution_count": null,
   "metadata": {},
   "outputs": [],
   "source": []
  },
  {
   "cell_type": "markdown",
   "metadata": {},
   "source": [
    "***11- Escreva um programa em Python que leia um número inteiro qualquer e peça para o usuário escolher qual será a base de conversão: 1 para binário, 2 para octal e 3 para hexadecimal.***"
   ]
  },
  {
   "cell_type": "code",
   "execution_count": 24,
   "metadata": {},
   "outputs": [
    {
     "name": "stdout",
     "output_type": "stream",
     "text": [
      "O Numero digitado foi 2345\n",
      "========================================\n",
      "\n",
      "        Escolha 1 Opção de Conversão\n",
      "        [1] Binario\n",
      "        [2] Octal\n",
      "        [3] Hexadecimal\n",
      "========================================\n",
      "Convertendo 2345 para Binario = 0b100100101001\n"
     ]
    }
   ],
   "source": [
    "# Solicita ao usuário que digite um número\n",
    "num = input('Digite um número: ')\n",
    "\n",
    "# Verifica se a entrada consiste apenas de dígitos\n",
    "if num.isdigit():\n",
    "    # Converte a entrada para um número inteiro\n",
    "    num = int(num)\n",
    "    # Imprime o número digitado pelo usuário\n",
    "    print(f'O número digitado foi {num}')\n",
    "    print('=' * 40)\n",
    "    print('Escolha uma opção de conversão:')\n",
    "    print('[1] Binário')\n",
    "    print('[2] Octal')\n",
    "    print('[3] Hexadecimal')\n",
    "    print('=' * 40)\n",
    "    \n",
    "    # Solicita ao usuário que escolha uma opção de conversão\n",
    "    opcao = input('Digite sua opção: ')\n",
    "    \n",
    "    # Verifica se a opção digitada é um número\n",
    "    if opcao.isdigit():\n",
    "        # Converte a opção para um número inteiro\n",
    "        opcao = int(opcao)\n",
    "        # Verifica se a opção está dentro do intervalo válido (1 a 3)\n",
    "        if 1 <= opcao <= 3:\n",
    "            # Realiza a conversão conforme a opção escolhida\n",
    "            if opcao == 1:\n",
    "                print(f'Convertendo {num} para Binário = {bin(num)}')\n",
    "            elif opcao == 2:\n",
    "                print(f'Convertendo {num} para Octal = {oct(num)}')\n",
    "            else:\n",
    "                print(f'Convertendo {num} para Hexadecimal = {hex(num)}')\n",
    "        else:\n",
    "            # Informa ao usuário que a opção digitada está fora do intervalo válido\n",
    "            print('Por favor, digite um número entre 1 e 3')\n",
    "    else:\n",
    "        # Informa ao usuário que a opção digitada não é um número\n",
    "        print('Por favor, sua opção deve ser um número')\n",
    "else:\n",
    "    # Informa ao usuário que a entrada não consiste apenas de dígitos\n",
    "    print('Por favor, digite apenas números')\n"
   ]
  },
  {
   "cell_type": "code",
   "execution_count": null,
   "metadata": {},
   "outputs": [],
   "source": []
  },
  {
   "cell_type": "code",
   "execution_count": null,
   "metadata": {},
   "outputs": [],
   "source": []
  },
  {
   "cell_type": "markdown",
   "metadata": {},
   "source": [
    "12- Digamos que você precisa criar um programa para um fundo de investimentos conseguir avaliar o resultado de uma carteira de ações e o quanto de taxa deverá ser pago.\n",
    "\n",
    "\n",
    "        A regra desse fundo de investimentos é:\n",
    "\n",
    "\n",
    "O fundo se compromete a entregar no mínimo 5% de retorno ao ano. Caso o fundo não consiga\n",
    "entregar os 5% de retorno, ele não pode cobrar taxa dos seus investidores. Caso o fundo consiga entregar mais de 5% de retorno, ele irá cobrar 2% de taxa dos seus investidores. Caso o fundo consiga mais de 20% de retorno, ele irá cobrar 4% de taxa dos seus investidores"
   ]
  },
  {
   "cell_type": "code",
   "execution_count": 27,
   "metadata": {},
   "outputs": [
    {
     "name": "stdout",
     "output_type": "stream",
     "text": [
      "Um Fundo com capital de 120500500.0 R$ que obteve lucro de 12500300.0 R$ no ano\n",
      "Teve uma margem de Lucro de 10.373649901867626%\n",
      "A Taxa do fundo de investimento sera de 2%\n",
      "O Lucro da taxa do fundo sera de 250006.0\n"
     ]
    }
   ],
   "source": [
    "# Solicita ao usuário que digite o capital do fundo\n",
    "capital_fundo = input('Digite o capital do fundo: R$ ')\n",
    "\n",
    "# Solicita ao usuário que digite o lucro do fundo no ano\n",
    "lucro_ano  = input('Digite o lucro do Fundo no ano: R$ ')\n",
    "\n",
    "# Verifica se as entradas são compostas apenas de dígitos\n",
    "if capital_fundo.isdigit() and lucro_ano.isdigit():\n",
    "    # Converte as entradas para números em ponto flutuante\n",
    "    capital = float(capital_fundo)\n",
    "    lucro = float(lucro_ano)\n",
    "    \n",
    "    # Calcula o percentual de retorno do fundo\n",
    "    p_retorno = (lucro / capital) * 100 # Percentual de retorno\n",
    "    \n",
    "    # Imprime as informações sobre o fundo e seu lucro\n",
    "    print(f'Um Fundo com capital de {capital} R$ que obteve lucro de {lucro} R$ no ano')\n",
    "    print(f'Teve uma margem de Lucro de {p_retorno}%')\n",
    "    \n",
    "    # Determina a taxa de fundo com base no percentual de retorno\n",
    "    if p_retorno >= 5:\n",
    "        taxa = 2\n",
    "        print(f'A Taxa do fundo de investimento será de 2%')\n",
    "        print(f'O Lucro da taxa do fundo será de {lucro*(taxa / 100)}')\n",
    "    elif p_retorno >= 20:\n",
    "        taxa = 4\n",
    "        print(f'A Taxa do fundo de investimento será de 4%')\n",
    "        print(f'O Lucro da taxa do fundo será de {lucro*(taxa / 100)}')\n",
    "    else:\n",
    "        taxa = 0\n",
    "        print(f'O Fundo não poderá cobrar taxa')\n",
    "else:\n",
    "    # Informa ao usuário que as entradas devem ser compostas apenas de números\n",
    "    print('Por favor digite apenas números')\n"
   ]
  },
  {
   "cell_type": "code",
   "execution_count": null,
   "metadata": {},
   "outputs": [],
   "source": []
  },
  {
   "cell_type": "code",
   "execution_count": null,
   "metadata": {},
   "outputs": [],
   "source": []
  },
  {
   "cell_type": "markdown",
   "metadata": {},
   "source": [
    "***13- Vamos criar um programa para analisar o bônus dos funcionários de uma empresa (pode parecer \"simples\", mas uma empresa como a Amazon tem 900.000 funcionários)***\n",
    "\n",
    "\n",
    "Para os cargos de vendedores, a regra do bônus é de acordo com a meta de vendas da pessoa: Se ela vendeu abaixo da meta dela, ela não ganha bônus. Se ela vendeu acima da meta dela, ela ganha como bônus 3% do valor que ela vendeu. Se ela vendeu mais do que o dobro da meta dela, ela ganha como bônus 7% do valor que ela vendeu. Vamos criar um programa para avaliar uma pessoa que tinha como meta de vendas 20.000 reais e calcular o bônus dela de acordo com o valor de vendas que ela tiver."
   ]
  },
  {
   "cell_type": "code",
   "execution_count": 29,
   "metadata": {},
   "outputs": [
    {
     "name": "stdout",
     "output_type": "stream",
     "text": [
      "Parabens voce Bateu a meta\n",
      "Voce bateu o dobro da meta vendeu 45000.0\n",
      "O Seu bonus sera de 3150.00 R$\n"
     ]
    }
   ],
   "source": [
    "# Define a meta de vendas\n",
    "meta_vendas = 20000\n",
    "\n",
    "# Solicita ao usuário o total de vendas do funcionário\n",
    "vendas = input('Digite o total de vendas do Funcionário: R$ ')\n",
    "\n",
    "# Verifica se a entrada do usuário contém apenas dígitos\n",
    "if vendas.isdigit():\n",
    "    # Converte a entrada validada para um número de ponto flutuante\n",
    "    vendas = float(vendas)\n",
    "    \n",
    "    # Verifica se o total de vendas excede a meta\n",
    "    if vendas > meta_vendas:\n",
    "        # Se exceder a meta, imprime uma mensagem de parabéns\n",
    "        print(f'Parabéns! Você bateu a meta.')\n",
    "        \n",
    "        # Verifica se o total de vendas é mais do que o dobro da meta\n",
    "        if vendas > meta_vendas * 2:\n",
    "            # Se for mais do que o dobro da meta, imprime uma mensagem específica\n",
    "            print(f'Você bateu o dobro da meta, vendeu {vendas}.')\n",
    "            \n",
    "            # Calcula o bônus com base no total de vendas e imprime o valor formatado\n",
    "            bonus = vendas * 0.07\n",
    "            print(f'O seu bônus será de {bonus:.2f} R$')\n",
    "        else:\n",
    "            # Se não for mais do que o dobro da meta, calcula e imprime o bônus padrão\n",
    "            bonus = vendas * 0.03\n",
    "            print(f'O seu bônus será de {bonus:.2f} R$')\n",
    "    else:\n",
    "        # Se o total de vendas não atingir a meta, informa ao funcionário que ele não receberá bônus\n",
    "        print(f'Você não conseguiu bater a meta, então não receberá bônus.')\n",
    "else:\n",
    "    # Se a entrada do usuário não for composta apenas de dígitos, exibe uma mensagem de erro\n",
    "    print('Por favor, digite um valor numérico.')\n"
   ]
  },
  {
   "cell_type": "code",
   "execution_count": null,
   "metadata": {},
   "outputs": [],
   "source": []
  },
  {
   "cell_type": "code",
   "execution_count": null,
   "metadata": {},
   "outputs": [],
   "source": []
  },
  {
   "cell_type": "code",
   "execution_count": null,
   "metadata": {},
   "outputs": [],
   "source": []
  },
  {
   "cell_type": "code",
   "execution_count": null,
   "metadata": {},
   "outputs": [],
   "source": []
  },
  {
   "cell_type": "code",
   "execution_count": null,
   "metadata": {},
   "outputs": [],
   "source": []
  },
  {
   "cell_type": "code",
   "execution_count": null,
   "metadata": {},
   "outputs": [],
   "source": []
  },
  {
   "cell_type": "code",
   "execution_count": null,
   "metadata": {},
   "outputs": [],
   "source": []
  },
  {
   "cell_type": "code",
   "execution_count": null,
   "metadata": {},
   "outputs": [],
   "source": []
  },
  {
   "cell_type": "code",
   "execution_count": null,
   "metadata": {},
   "outputs": [],
   "source": []
  },
  {
   "cell_type": "code",
   "execution_count": null,
   "metadata": {},
   "outputs": [],
   "source": []
  }
 ],
 "metadata": {
  "kernelspec": {
   "display_name": "Python 3",
   "language": "python",
   "name": "python3"
  },
  "language_info": {
   "codemirror_mode": {
    "name": "ipython",
    "version": 3
   },
   "file_extension": ".py",
   "mimetype": "text/x-python",
   "name": "python",
   "nbconvert_exporter": "python",
   "pygments_lexer": "ipython3",
   "version": "3.12.2"
  }
 },
 "nbformat": 4,
 "nbformat_minor": 2
}
