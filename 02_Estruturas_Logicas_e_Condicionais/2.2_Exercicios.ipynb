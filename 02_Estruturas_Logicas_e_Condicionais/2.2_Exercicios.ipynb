{
 "cells": [
  {
   "cell_type": "markdown",
   "metadata": {},
   "source": [
    "***1- Escreva um programa que faça o computador “pensar” em um número inteiro entre 0 e 5 e peça para o usuário tentar descobrir qual foi o número escolhido pelo computador. O programa deverá escrever na tela se o usuário venceu ou perdeu***"
   ]
  },
  {
   "cell_type": "code",
   "execution_count": 4,
   "metadata": {},
   "outputs": [
    {
     "name": "stdout",
     "output_type": "stream",
     "text": [
      "Estou pensando em um numero tente advinhar: \n",
      "Digite um numero entre [0 a 5]\n",
      "Voce errou eu pensei em 5 e voce digitou 1\n"
     ]
    }
   ],
   "source": [
    "# Importa a função randint do módulo random\n",
    "from random import randint \n",
    "\n",
    "# Gera um número aleatório entre 0 e 5 e atribui a pc\n",
    "pc = randint(0, 5)\n",
    "\n",
    "# Exibe uma mensagem para o usuário\n",
    "print('Estou pensando em um número. Tente adivinhar!')\n",
    "\n",
    "# Recebe a entrada do usuário e converte para inteiro\n",
    "opcao = int(input('Digite um número entre 0 e 5: '))\n",
    "\n",
    "# Verifica se o número digitado está dentro do intervalo [0, 5]\n",
    "if 0 <= opcao <= 5:\n",
    "    # Verifica se o número digitado é igual ao número aleatório gerado\n",
    "    if pc == opcao:\n",
    "        # Exibe mensagem de parabéns se o usuário acertar\n",
    "        print(f'Parabéns! Você acertou. Eu pensei em {pc} e você digitou {opcao}.')\n",
    "    else:\n",
    "        # Exibe mensagem de erro se o usuário errar\n",
    "        print(f'Você errou. Eu pensei em {pc} e você digitou {opcao}.')\n",
    "else:\n",
    "    # Exibe uma mensagem se o número digitado estiver fora do intervalo [0, 5]\n",
    "    print('Por favor, digite um número entre 0 e 5.')\n"
   ]
  },
  {
   "cell_type": "code",
   "execution_count": null,
   "metadata": {},
   "outputs": [],
   "source": []
  },
  {
   "cell_type": "code",
   "execution_count": null,
   "metadata": {},
   "outputs": [],
   "source": []
  },
  {
   "cell_type": "markdown",
   "metadata": {},
   "source": [
    "***2 - Escreva um programa que leia a velocidade de um carro. Se ele ultrapassar 80Km/h, mostre uma mensagem dizendo que ele foi multado. A multa vai custar R$7,00 por cada Km acima do limite***"
   ]
  },
  {
   "cell_type": "code",
   "execution_count": 5,
   "metadata": {},
   "outputs": [
    {
     "name": "stdout",
     "output_type": "stream",
     "text": [
      "Um carro que estava a 120.0 Km/hr. \n",
      "Sera multado em 280.00 R$\n"
     ]
    }
   ],
   "source": [
    "# Solicita a velocidade do carro em km/h\n",
    "km_hora = float(input('Digite a velocidade: km '))\n",
    "\n",
    "# Exibe a velocidade inserida pelo usuário\n",
    "print(f'Um carro estava a {km_hora} Km/hr.')\n",
    "\n",
    "# Verifica se a velocidade é maior que 80 km/h\n",
    "if km_hora > 80:\n",
    "    # Calcula a multa: R$ 7 para cada km/h acima de 80\n",
    "    multa = (km_hora - 80) * 7\n",
    "    # Exibe a multa a ser paga\n",
    "    print(f'Será multado em {multa:.2f} R$')\n",
    "else:\n",
    "    # Se estiver abaixo de 80 km/h, elogia o motorista\n",
    "    print('Tem um motorista prudente')\n"
   ]
  },
  {
   "cell_type": "code",
   "execution_count": null,
   "metadata": {},
   "outputs": [],
   "source": []
  },
  {
   "cell_type": "code",
   "execution_count": null,
   "metadata": {},
   "outputs": [],
   "source": []
  },
  {
   "cell_type": "markdown",
   "metadata": {},
   "source": [
    "***3-      Crie um programa que leia 2 números inteiros e mostre na tela qual é PAR e qual e IMPAR, depois mostre qual deles e o maio***"
   ]
  },
  {
   "cell_type": "code",
   "execution_count": null,
   "metadata": {},
   "outputs": [],
   "source": [
    "# Solicita ao usuário que digite dois números inteiros\n",
    "num1 = int(input('Primeiro Numero: '))\n",
    "num2 = int(input('Segundo Numero: '))\n",
    "\n",
    "# Exibe os números digitados pelo usuário\n",
    "print(f'Os números digitados foram {num1} e {num2}')\n",
    "\n",
    "# Verifica se ambos os números são inteiros\n",
    "if isinstance(num1, int) and isinstance(num2, int):\n",
    "    # Verifica a paridade de ambos os números\n",
    "    if num1 % 2 == 0 and num2 % 2 == 0:\n",
    "        print(f'O Primeiro número {num1} e o Segundo número {num2} são PARES.')\n",
    "    elif num1 % 2 == 0 and num2 % 2 == 1:\n",
    "        print(f'O Primeiro número {num1} é PAR e o Segundo número {num2} é ÍMPAR.')\n",
    "    elif num1 % 2 == 1 and num2 % 2 == 0:\n",
    "        print(f'O Primeiro número {num1} é ÍMPAR e o Segundo número {num2} é PAR.')\n",
    "    else:\n",
    "        print(f'Ambos os números {num1} e {num2} são ÍMPARES.')\n",
    "else:\n",
    "    # Exibe uma mensagem se os números não forem inteiros\n",
    "    print('Por favor, digite dois números inteiros.')\n"
   ]
  },
  {
   "cell_type": "code",
   "execution_count": null,
   "metadata": {},
   "outputs": [],
   "source": []
  },
  {
   "cell_type": "code",
   "execution_count": null,
   "metadata": {},
   "outputs": [],
   "source": []
  },
  {
   "cell_type": "markdown",
   "metadata": {},
   "source": [
    "***4-      Desenvolva um programa que pergunte a distância de uma viagem em Km. Calcule o preço da passagem, cobrando R$0,50 por Km para viagens de até 200Km e R$0,45 parta viagens mais longas***"
   ]
  },
  {
   "cell_type": "code",
   "execution_count": 8,
   "metadata": {},
   "outputs": [
    {
     "name": "stdout",
     "output_type": "stream",
     "text": [
      "Para uma viagem de 230.00 Km a passagem sera de 103.50 R$\n"
     ]
    }
   ],
   "source": [
    "# Solicita ao usuário que digite a distância da viagem\n",
    "distancia = input('Digite a distância da Viagem: ')\n",
    "\n",
    "try:\n",
    "    # Tenta converter a entrada em um número inteiro\n",
    "    distancia = int(distancia)\n",
    "    \n",
    "    # Verifica se a distância é um número inteiro ou flutuante\n",
    "    if isinstance(distancia, (int, float)):\n",
    "        # Calcula o preço da passagem com base na distância\n",
    "        if distancia > 200:\n",
    "            passagem = distancia * 0.45\n",
    "            print(f'Para uma viagem de {distancia:.2f} Km a passagem será de {passagem:.2f} R$')\n",
    "        else:\n",
    "            passagem = distancia * 0.50\n",
    "            print(f'Para uma viagem de {distancia:.2f} Km a passagem será de {passagem:.2f} R$')\n",
    "    else:\n",
    "        # Exibe uma mensagem se a distância não for numérica\n",
    "        print('A distância não é numérica.')\n",
    "    \n",
    "except ValueError:\n",
    "    # Exibe uma mensagem se não for possível converter a entrada em um número\n",
    "    print('Não foi possível converter. Por favor, digite um valor numérico.')\n"
   ]
  },
  {
   "cell_type": "code",
   "execution_count": null,
   "metadata": {},
   "outputs": [],
   "source": []
  },
  {
   "cell_type": "code",
   "execution_count": null,
   "metadata": {},
   "outputs": [],
   "source": []
  },
  {
   "cell_type": "markdown",
   "metadata": {},
   "source": [
    "***5-      Faça um programa que leia 3 anos qualquer e mostre qual é bissexto. Sendo que um ano e bissexto se for divisível por 400 ou se for divisível por 4 e não for divisível por 100.***"
   ]
  },
  {
   "cell_type": "code",
   "execution_count": 19,
   "metadata": {},
   "outputs": [
    {
     "name": "stdout",
     "output_type": "stream",
     "text": [
      "O Primeiro Ano 2000 e BISSEXTO \n",
      "O Segundo Ano 2010 e BISSEXTO\n",
      "O Terceiro Ano 2022 Não e BISSEXTO\n"
     ]
    }
   ],
   "source": [
    "# Solicita ao usuário que insira três anos\n",
    "ano1 = input('Primeiro ano: ')\n",
    "ano2 = input('Segundo ano: ')\n",
    "ano3 = input('Terceiro ano: ')\n",
    "\n",
    "try:\n",
    "    # Tenta converter os anos para inteiros\n",
    "    a1 = int(ano1)\n",
    "    a2 = int(ano2)\n",
    "    a3 = int(ano3)\n",
    "    \n",
    "    # Verifica se os anos são inteiros\n",
    "    if isinstance(a1, int) and isinstance(a2, int) and isinstance(a3, int):\n",
    "        # Verifica se cada ano é bissexto\n",
    "        if a1:\n",
    "            if a1 % 4 == 0 and (a1 % 100 != 0 or a1 % 400 == 0):\n",
    "                print(f'O Primeiro Ano {a1} é BISSEXTO')\n",
    "            else:\n",
    "                print(f'O Primeiro Ano {a1} Não é BISSEXTO')\n",
    "                \n",
    "        if a2:\n",
    "            if a2 % 4 == 0 and (a2 % 100 != 0 or a2 % 400 == 0):\n",
    "                print(f'O Segundo Ano {a2} é BISSEXTO')\n",
    "            else:\n",
    "                print(f'O Segundo Ano {a2} Não é BISSEXTO')\n",
    "                \n",
    "        if a3:\n",
    "            if a3 % 4 == 0 and (a3 % 100 != 0 or a3 % 400 == 0):\n",
    "                print(f'O Terceiro Ano {a3} é BISSEXTO')\n",
    "            else:\n",
    "                print(f'O Terceiro Ano {a3} Não é BISSEXTO')\n",
    "        else:\n",
    "            print('Os Anos são inválidos')\n",
    "    \n",
    "except ValueError as erro:\n",
    "    # Exibe uma mensagem de erro se a conversão para int falhar\n",
    "    print('Tivemos um erro:', erro)\n"
   ]
  },
  {
   "cell_type": "code",
   "execution_count": null,
   "metadata": {},
   "outputs": [],
   "source": []
  },
  {
   "cell_type": "code",
   "execution_count": null,
   "metadata": {},
   "outputs": [],
   "source": []
  },
  {
   "cell_type": "markdown",
   "metadata": {},
   "source": [
    "***6- Faça um programa que leia 3 notas de um aluno, verifique se as notas são validas e exiba na tela a media das notas. Uma nota valida dever ser um valor entre 0.0 e 10.0, caso não seja válida imprima invalida. Verifique tambem qual foi a maior e a menor nota***"
   ]
  },
  {
   "cell_type": "code",
   "execution_count": 23,
   "metadata": {},
   "outputs": [
    {
     "name": "stdout",
     "output_type": "stream",
     "text": [
      "Todas as Notas São Validas Iremos Calcula a Media\n",
      "A Media do aluno sera de 6.00 Pontos\n"
     ]
    }
   ],
   "source": [
    "# Solicita as notas do usuário\n",
    "nota1 = input('Primeira nota: ')\n",
    "nota2 = input('Segunda nota: ')\n",
    "nota3 = input('Terceira nota: ')\n",
    "\n",
    "# Tenta converter as notas para números decimais e calcular a média\n",
    "try:\n",
    "    # Converte as notas para float\n",
    "    n1 = float(nota1)\n",
    "    n2 = float(nota2)\n",
    "    n3 = float(nota3)\n",
    "    \n",
    "    # Verifica se as notas são do tipo float\n",
    "    if isinstance(n1, float) and isinstance(n2, float) and isinstance(n3, float):\n",
    "        # Verifica se as notas estão dentro do intervalo válido (0 a 10)\n",
    "        if 0 < n1 < 10 and 0 < n2 < 10 and 0 < n3 < 10:\n",
    "            print('Todas as notas são válidas. Iremos calcular a média.')\n",
    "            # Calcula a média das notas\n",
    "            media = (n1 + n2 + n3) / 3\n",
    "            # Exibe a média formatada com duas casas decimais\n",
    "            print(f'A média do aluno será de {media:.2f} pontos.')\n",
    "        else:\n",
    "            print('Pelo menos uma das notas é inválida.')\n",
    "    else:\n",
    "        print('As notas não são do tipo float.')\n",
    "        \n",
    "# Se ocorrer um erro durante a conversão das notas para float\n",
    "except ValueError:\n",
    "    print('Erro: Alguma das entradas não é um número válido.')\n"
   ]
  },
  {
   "cell_type": "code",
   "execution_count": null,
   "metadata": {},
   "outputs": [],
   "source": []
  },
  {
   "cell_type": "code",
   "execution_count": null,
   "metadata": {},
   "outputs": [],
   "source": []
  },
  {
   "cell_type": "markdown",
   "metadata": {},
   "source": [
    "***7- Escreva um programa que pergunte o salário de um funcionário e calcule o valor do seu aumento.\n",
    "Para salários superiores a R$1250,00, calcule um aumento de 10%. Para os inferiores ou iguais, o\n",
    "aumento é de 15%.***"
   ]
  },
  {
   "cell_type": "code",
   "execution_count": 6,
   "metadata": {},
   "outputs": [
    {
     "name": "stdout",
     "output_type": "stream",
     "text": [
      "O Funcionario que Ganhava 1250.0 R$\n",
      "Com um aumento de 15% passara a ganhar 1437.50 R$\n"
     ]
    }
   ],
   "source": [
    "# Solicita o salário do funcionário e armazena o valor.\n",
    "salario = float(input('Salario do Funcionario: R$ '))\n",
    "\n",
    "# Lista de aumentos percentuais.\n",
    "aumentos = [10, 15]\n",
    "\n",
    "# Imprime o salário atual.\n",
    "print(f'O Funcionario que Ganhava {salario} R$')\n",
    "\n",
    "# Verifica se o salário é um número.\n",
    "if isinstance(salario, (int, float)):\n",
    "    # Calcula o aumento com base no valor do salário.\n",
    "    if salario > 1250:\n",
    "        aumento = salario * (aumentos[0] / 100) + salario\n",
    "        print(f'Com um aumento de 10% passara a ganhar {aumento:.2f} R$')\n",
    "    else:\n",
    "        aumento = salario * (aumentos[1] / 100) + salario\n",
    "        print(f'Com um aumento de 15% passara a ganhar {aumento:.2f} R$')\n",
    "else:\n",
    "    print('Por favor, digite o Salario em Formato de numero!')\n"
   ]
  },
  {
   "cell_type": "code",
   "execution_count": null,
   "metadata": {},
   "outputs": [],
   "source": []
  },
  {
   "cell_type": "code",
   "execution_count": null,
   "metadata": {},
   "outputs": [],
   "source": []
  },
  {
   "cell_type": "markdown",
   "metadata": {},
   "source": [
    "***8- Escreva um programa que leia um numero inteiro maior que zero e devolva, na tela a soma de todos os seus alegorismos. Por exemplo, ao numero 251 corresponde o valor 8 (2 + 5 + 1). Se o número lido não for maior que zero, o programa terminara.***"
   ]
  },
  {
   "cell_type": "code",
   "execution_count": 9,
   "metadata": {},
   "outputs": [
    {
     "name": "stdout",
     "output_type": "stream",
     "text": [
      "O Numero digitado foi 345\n",
      "Os Numeros de 345 são 0, 3, 4, 5\n",
      "A Soma dos numeros e 12\n"
     ]
    }
   ],
   "source": [
    "# Solicita ao usuário que insira um número inteiro e armazena o valor em uma variável.\n",
    "numero = input('Digite um numero inteiro: ')\n",
    "\n",
    "try:\n",
    "    # Tenta converter o número para inteiro.\n",
    "    num = int(numero)\n",
    "    \n",
    "    # Verifica se o número é maior que zero.\n",
    "    if num > 0:\n",
    "        # Extrai os dígitos do número.\n",
    "        unidade = num // 1 % 10\n",
    "        dezena  = num // 10 % 10\n",
    "        centena = num // 100 % 10\n",
    "        milhar  = num // 1000 % 10\n",
    "        \n",
    "        # Imprime o número digitado.\n",
    "        print(f'O Numero digitado foi {numero}')\n",
    "        \n",
    "        # Imprime os dígitos extraídos do número.\n",
    "        print(f'Os Numeros de {num} são {milhar}, {centena}, {dezena}, {unidade}')\n",
    "        \n",
    "        # Calcula e imprime a soma dos dígitos do número.\n",
    "        soma = unidade + dezena + centena + milhar\n",
    "        print(f'A Soma dos numeros e {soma}')\n",
    "        \n",
    "    else:\n",
    "        # Se o número for menor ou igual a zero, imprime uma mensagem.\n",
    "        print(f'Voce digitou um numero menor que 0')\n",
    "    \n",
    "\n",
    "except ValueError as erro:\n",
    "    # Se ocorrer um erro de valor, imprime uma mensagem de erro.\n",
    "    print(f'Tivemos um erro do tipo {erro}')\n"
   ]
  },
  {
   "cell_type": "code",
   "execution_count": null,
   "metadata": {},
   "outputs": [],
   "source": []
  },
  {
   "cell_type": "code",
   "execution_count": null,
   "metadata": {},
   "outputs": [],
   "source": []
  },
  {
   "cell_type": "markdown",
   "metadata": {},
   "source": [
    "***9- Desenvolva um programa que leia o comprimento de três retas e diga ao usuário se elas podem ou não formar um triângulo.***"
   ]
  },
  {
   "cell_type": "code",
   "execution_count": 11,
   "metadata": {},
   "outputs": [
    {
     "name": "stdout",
     "output_type": "stream",
     "text": [
      "As retas 4, 5, 6 Forman um triangulo\n"
     ]
    }
   ],
   "source": [
    "# Solicita ao usuário que insira os comprimentos das três retas e\n",
    "# armazena os valores em variáveis.\n",
    "r1 = int(input('Primeira reta: '))\n",
    "r2 = int(input('Segunda Reta: '))\n",
    "r3 = int(input('Terceira Reta: '))\n",
    "\n",
    "# Verifica se os comprimentos fornecidos podem formar um triângulo.\n",
    "if r1 < r2 + r3 and r2 < r1 + r3 and r3 < r1 + r2:\n",
    "    # Se a condição for verdadeira, imprime que as retas formam um triângulo.\n",
    "    print(f'As retas {r1}, {r2}, {r3} formam um triângulo')\n",
    "else:\n",
    "    # Se a condição for falsa, imprime que as retas não formam um triângulo.\n",
    "    print(f'As retas não formam um triângulo')\n"
   ]
  },
  {
   "cell_type": "code",
   "execution_count": null,
   "metadata": {},
   "outputs": [],
   "source": []
  },
  {
   "cell_type": "code",
   "execution_count": null,
   "metadata": {},
   "outputs": [],
   "source": []
  },
  {
   "cell_type": "markdown",
   "metadata": {},
   "source": [
    "***10- Escreva um programa para aprovar o empréstimo bancário para a compra de uma casa. Pergunte o\n",
    "valor da casa, o salário do comprador e em quantos anos ele vai pagar. A prestação mensal não pode\n",
    "exceder 30% do salário ou então o empréstimo será negado***"
   ]
  },
  {
   "cell_type": "code",
   "execution_count": 12,
   "metadata": {},
   "outputs": [
    {
     "name": "stdout",
     "output_type": "stream",
     "text": [
      "Financiamento de Uma casa:\n",
      "Para financia uma casa de 250000.00 R$ em 10 anos\n",
      "As Parcelas da casa ficaram de 2083.33 R$ Não podendo exceder o limite de 30%\n",
      "O Emprestimo sera negado pois excede o limite de 30% do salario\n",
      "Seu limite e de 1680.00 R$\n"
     ]
    }
   ],
   "source": [
    "# Solicita ao usuário que insira o valor da casa, o salário do comprador e o prazo \n",
    "# desejado para o financiamento.\n",
    "valor_casa = float(input('Valor da Casa: R$ '))\n",
    "salario = float(input('Salario do Comprador: R$ '))\n",
    "tempo = int(input('Em quantos anos deseja financiar: '))\n",
    "\n",
    "# Calcula o valor das parcelas mensais do financiamento.\n",
    "parcelas = valor_casa / (tempo * 12)\n",
    "\n",
    "# Calcula o limite máximo das parcelas com base no salário do comprador (30% do salário).\n",
    "maximo_s = salario * 0.30\n",
    "\n",
    "# Imprime informações sobre o financiamento.\n",
    "print(f'Financiamento de Uma casa:')\n",
    "print(f'Para financiar uma casa de {valor_casa:.2f} R$ em {tempo} anos')\n",
    "\n",
    "# Verifica se o valor das parcelas excede o limite máximo permitido.\n",
    "if parcelas > maximo_s:\n",
    "    print(f'As Parcelas da casa ficarão de {parcelas:.2f} R$, excedendo o limite de 30% do salário.')\n",
    "    print(f'O Empréstimo será negado, pois ultrapassa o limite estabelecido.')\n",
    "    print(f'Seu limite é de {maximo_s:.2f} R$.')\n",
    "else:\n",
    "    print(f'As Parcelas da casa ficarão de {parcelas:.2f} R$, dentro do limite de 30% do salário.')\n",
    "    print(f'O Empréstimo será concedido, pois não ultrapassa o limite estabelecido.')\n"
   ]
  },
  {
   "cell_type": "code",
   "execution_count": null,
   "metadata": {},
   "outputs": [],
   "source": []
  },
  {
   "cell_type": "code",
   "execution_count": null,
   "metadata": {},
   "outputs": [],
   "source": []
  },
  {
   "cell_type": "markdown",
   "metadata": {},
   "source": [
    "***11- Escreva um programa em Python que leia um número inteiro qualquer e peça para o usuário escolher qual será a base de conversão: 1 para binário, 2 para octal e 3 para hexadecimal.***"
   ]
  },
  {
   "cell_type": "code",
   "execution_count": 24,
   "metadata": {},
   "outputs": [
    {
     "name": "stdout",
     "output_type": "stream",
     "text": [
      "O Numero digitado foi 2345\n",
      "========================================\n",
      "\n",
      "        Escolha 1 Opção de Conversão\n",
      "        [1] Binario\n",
      "        [2] Octal\n",
      "        [3] Hexadecimal\n",
      "========================================\n",
      "Convertendo 2345 para Binario = 0b100100101001\n"
     ]
    }
   ],
   "source": [
    "# Solicita ao usuário que digite um número\n",
    "num = input('Digite um número: ')\n",
    "\n",
    "# Verifica se a entrada consiste apenas de dígitos\n",
    "if num.isdigit():\n",
    "    # Converte a entrada para um número inteiro\n",
    "    num = int(num)\n",
    "    # Imprime o número digitado pelo usuário\n",
    "    print(f'O número digitado foi {num}')\n",
    "    print('=' * 40)\n",
    "    print('Escolha uma opção de conversão:')\n",
    "    print('[1] Binário')\n",
    "    print('[2] Octal')\n",
    "    print('[3] Hexadecimal')\n",
    "    print('=' * 40)\n",
    "    \n",
    "    # Solicita ao usuário que escolha uma opção de conversão\n",
    "    opcao = input('Digite sua opção: ')\n",
    "    \n",
    "    # Verifica se a opção digitada é um número\n",
    "    if opcao.isdigit():\n",
    "        # Converte a opção para um número inteiro\n",
    "        opcao = int(opcao)\n",
    "        # Verifica se a opção está dentro do intervalo válido (1 a 3)\n",
    "        if 1 <= opcao <= 3:\n",
    "            # Realiza a conversão conforme a opção escolhida\n",
    "            if opcao == 1:\n",
    "                print(f'Convertendo {num} para Binário = {bin(num)}')\n",
    "            elif opcao == 2:\n",
    "                print(f'Convertendo {num} para Octal = {oct(num)}')\n",
    "            else:\n",
    "                print(f'Convertendo {num} para Hexadecimal = {hex(num)}')\n",
    "        else:\n",
    "            # Informa ao usuário que a opção digitada está fora do intervalo válido\n",
    "            print('Por favor, digite um número entre 1 e 3')\n",
    "    else:\n",
    "        # Informa ao usuário que a opção digitada não é um número\n",
    "        print('Por favor, sua opção deve ser um número')\n",
    "else:\n",
    "    # Informa ao usuário que a entrada não consiste apenas de dígitos\n",
    "    print('Por favor, digite apenas números')\n"
   ]
  },
  {
   "cell_type": "code",
   "execution_count": null,
   "metadata": {},
   "outputs": [],
   "source": []
  },
  {
   "cell_type": "code",
   "execution_count": null,
   "metadata": {},
   "outputs": [],
   "source": []
  },
  {
   "cell_type": "markdown",
   "metadata": {},
   "source": [
    "12- Digamos que você precisa criar um programa para um fundo de investimentos conseguir avaliar o resultado de uma carteira de ações e o quanto de taxa deverá ser pago.\n",
    "\n",
    "\n",
    "        A regra desse fundo de investimentos é:\n",
    "\n",
    "\n",
    "O fundo se compromete a entregar no mínimo 5% de retorno ao ano. Caso o fundo não consiga\n",
    "entregar os 5% de retorno, ele não pode cobrar taxa dos seus investidores. Caso o fundo consiga entregar mais de 5% de retorno, ele irá cobrar 2% de taxa dos seus investidores. Caso o fundo consiga mais de 20% de retorno, ele irá cobrar 4% de taxa dos seus investidores"
   ]
  },
  {
   "cell_type": "code",
   "execution_count": 27,
   "metadata": {},
   "outputs": [
    {
     "name": "stdout",
     "output_type": "stream",
     "text": [
      "Um Fundo com capital de 120500500.0 R$ que obteve lucro de 12500300.0 R$ no ano\n",
      "Teve uma margem de Lucro de 10.373649901867626%\n",
      "A Taxa do fundo de investimento sera de 2%\n",
      "O Lucro da taxa do fundo sera de 250006.0\n"
     ]
    }
   ],
   "source": [
    "# Solicita ao usuário que digite o capital do fundo\n",
    "capital_fundo = input('Digite o capital do fundo: R$ ')\n",
    "\n",
    "# Solicita ao usuário que digite o lucro do fundo no ano\n",
    "lucro_ano  = input('Digite o lucro do Fundo no ano: R$ ')\n",
    "\n",
    "# Verifica se as entradas são compostas apenas de dígitos\n",
    "if capital_fundo.isdigit() and lucro_ano.isdigit():\n",
    "    # Converte as entradas para números em ponto flutuante\n",
    "    capital = float(capital_fundo)\n",
    "    lucro = float(lucro_ano)\n",
    "    \n",
    "    # Calcula o percentual de retorno do fundo\n",
    "    p_retorno = (lucro / capital) * 100 # Percentual de retorno\n",
    "    \n",
    "    # Imprime as informações sobre o fundo e seu lucro\n",
    "    print(f'Um Fundo com capital de {capital} R$ que obteve lucro de {lucro} R$ no ano')\n",
    "    print(f'Teve uma margem de Lucro de {p_retorno}%')\n",
    "    \n",
    "    # Determina a taxa de fundo com base no percentual de retorno\n",
    "    if p_retorno >= 5:\n",
    "        taxa = 2\n",
    "        print(f'A Taxa do fundo de investimento será de 2%')\n",
    "        print(f'O Lucro da taxa do fundo será de {lucro*(taxa / 100)}')\n",
    "    elif p_retorno >= 20:\n",
    "        taxa = 4\n",
    "        print(f'A Taxa do fundo de investimento será de 4%')\n",
    "        print(f'O Lucro da taxa do fundo será de {lucro*(taxa / 100)}')\n",
    "    else:\n",
    "        taxa = 0\n",
    "        print(f'O Fundo não poderá cobrar taxa')\n",
    "else:\n",
    "    # Informa ao usuário que as entradas devem ser compostas apenas de números\n",
    "    print('Por favor digite apenas números')\n"
   ]
  },
  {
   "cell_type": "code",
   "execution_count": null,
   "metadata": {},
   "outputs": [],
   "source": []
  },
  {
   "cell_type": "code",
   "execution_count": null,
   "metadata": {},
   "outputs": [],
   "source": []
  },
  {
   "cell_type": "markdown",
   "metadata": {},
   "source": [
    "***13- Vamos criar um programa para analisar o bônus dos funcionários de uma empresa (pode parecer \"simples\", mas uma empresa como a Amazon tem 900.000 funcionários)***\n",
    "\n",
    "\n",
    "Para os cargos de vendedores, a regra do bônus é de acordo com a meta de vendas da pessoa: Se ela vendeu abaixo da meta dela, ela não ganha bônus. Se ela vendeu acima da meta dela, ela ganha como bônus 3% do valor que ela vendeu. Se ela vendeu mais do que o dobro da meta dela, ela ganha como bônus 7% do valor que ela vendeu. Vamos criar um programa para avaliar uma pessoa que tinha como meta de vendas 20.000 reais e calcular o bônus dela de acordo com o valor de vendas que ela tiver."
   ]
  },
  {
   "cell_type": "code",
   "execution_count": 29,
   "metadata": {},
   "outputs": [
    {
     "name": "stdout",
     "output_type": "stream",
     "text": [
      "Parabens voce Bateu a meta\n",
      "Voce bateu o dobro da meta vendeu 45000.0\n",
      "O Seu bonus sera de 3150.00 R$\n"
     ]
    }
   ],
   "source": [
    "# Define a meta de vendas\n",
    "meta_vendas = 20000\n",
    "\n",
    "# Solicita ao usuário o total de vendas do funcionário\n",
    "vendas = input('Digite o total de vendas do Funcionário: R$ ')\n",
    "\n",
    "# Verifica se a entrada do usuário contém apenas dígitos\n",
    "if vendas.isdigit():\n",
    "    # Converte a entrada validada para um número de ponto flutuante\n",
    "    vendas = float(vendas)\n",
    "    \n",
    "    # Verifica se o total de vendas excede a meta\n",
    "    if vendas > meta_vendas:\n",
    "        # Se exceder a meta, imprime uma mensagem de parabéns\n",
    "        print(f'Parabéns! Você bateu a meta.')\n",
    "        \n",
    "        # Verifica se o total de vendas é mais do que o dobro da meta\n",
    "        if vendas > meta_vendas * 2:\n",
    "            # Se for mais do que o dobro da meta, imprime uma mensagem específica\n",
    "            print(f'Você bateu o dobro da meta, vendeu {vendas}.')\n",
    "            \n",
    "            # Calcula o bônus com base no total de vendas e imprime o valor formatado\n",
    "            bonus = vendas * 0.07\n",
    "            print(f'O seu bônus será de {bonus:.2f} R$')\n",
    "        else:\n",
    "            # Se não for mais do que o dobro da meta, calcula e imprime o bônus padrão\n",
    "            bonus = vendas * 0.03\n",
    "            print(f'O seu bônus será de {bonus:.2f} R$')\n",
    "    else:\n",
    "        # Se o total de vendas não atingir a meta, informa ao funcionário que ele não receberá bônus\n",
    "        print(f'Você não conseguiu bater a meta, então não receberá bônus.')\n",
    "else:\n",
    "    # Se a entrada do usuário não for composta apenas de dígitos, exibe uma mensagem de erro\n",
    "    print('Por favor, digite um valor numérico.')\n"
   ]
  },
  {
   "cell_type": "code",
   "execution_count": null,
   "metadata": {},
   "outputs": [],
   "source": []
  },
  {
   "cell_type": "code",
   "execution_count": null,
   "metadata": {},
   "outputs": [],
   "source": []
  },
  {
   "cell_type": "markdown",
   "metadata": {},
   "source": [
    "***14- Faça um programa que mostre um menu de matemática, o programa deve receber 2 números, depois\n",
    "com condicionais escolha o que deve ser feito, soma, dividir etc...***"
   ]
  },
  {
   "cell_type": "code",
   "execution_count": 10,
   "metadata": {},
   "outputs": [
    {
     "name": "stdout",
     "output_type": "stream",
     "text": [
      "========== MENU ==========\n",
      "\n",
      "[1] Soma\n",
      "[2] Subtrair\n",
      "[3] Dividir\n",
      "[4] Multiplicar\n",
      "\n",
      "========== MENU ==========\n",
      "Soma: 5 + 6 = 11\n"
     ]
    }
   ],
   "source": [
    "# Imprime o cabeçalho do menu\n",
    "print(f'{\"=\"*10} MENU {\"=\"*10}')\n",
    "\n",
    "# Imprime as opções do menu\n",
    "print('''\n",
    "[1] Soma\n",
    "[2] Subtrair\n",
    "[3] Dividir\n",
    "[4] Multiplicar''')\n",
    "\n",
    "# Imprime o rodapé do menu\n",
    "print(f'\\n{\"=\"*10} MENU {\"=\"*10}')\n",
    "\n",
    "# Solicita ao usuário os números para operações matemáticas\n",
    "numero1 = input('Digite o primeiro numero: ')\n",
    "numero2 = input('Digite o segundo numero: ')\n",
    "\n",
    "# Verifica se os números são dígitos\n",
    "if numero1.isdigit() and numero2.isdigit():\n",
    "    \n",
    "    # Converte os números para inteiros\n",
    "    num1 = int(numero1)\n",
    "    num2 = int(numero2)\n",
    "    \n",
    "    # Solicita ao usuário a escolha da operação\n",
    "    opcao = input('Digite sua opção de Calculo: ')\n",
    "    \n",
    "    # Verifica se a opção é um dígito\n",
    "    if opcao.isdigit():\n",
    "        opcao = int(opcao)\n",
    "        \n",
    "        # Verifica se a opção está dentro do intervalo válido\n",
    "        if opcao >= 1 and opcao <= 4:\n",
    "            # Realiza a operação de acordo com a escolha do usuário\n",
    "            if opcao == 1:\n",
    "                print(f'Soma: {num1} + {num2} = {num1+num2}')\n",
    "            elif opcao == 2:\n",
    "                print(f'Subtrair: {num1} - {num2} = {num1-num2}')\n",
    "            elif opcao == 3:\n",
    "                print(f'Dividir: {num1} / {num2} = {num1/num2}')\n",
    "            elif opcao == 4:\n",
    "                print(f'Multiplicar: {num1} x {num2} = {num1*num2}')\n",
    "        else:\n",
    "            print(f'Por favor, sua opção deve ser um número entre 1 e 4. Você digitou {opcao}.')\n",
    "    else:\n",
    "        print(f'Por favor, sua opção deve ser um número. Você digitou \"{opcao}\".')\n",
    "else:\n",
    "    print(f'Por favor, digite apenas números. Você digitou \"{numero1}\" e \"{numero2}\".')\n"
   ]
  },
  {
   "cell_type": "code",
   "execution_count": null,
   "metadata": {},
   "outputs": [],
   "source": []
  },
  {
   "cell_type": "code",
   "execution_count": null,
   "metadata": {},
   "outputs": [],
   "source": []
  },
  {
   "cell_type": "markdown",
   "metadata": {},
   "source": [
    "***15- Faça um programa para verificar se um determinado número inteiro e divisível por 3 ou 5 mais que não seja divisível por 2***"
   ]
  },
  {
   "cell_type": "code",
   "execution_count": 21,
   "metadata": {},
   "outputs": [
    {
     "name": "stdout",
     "output_type": "stream",
     "text": [
      "O Numero 15 e Divisivel por 5 e Por 3\n"
     ]
    }
   ],
   "source": [
    "# Solicita ao usuário que digite um número\n",
    "numero = input('Digite um numero: ')\n",
    "\n",
    "# Verifica se o número é composto apenas por dígitos\n",
    "if numero.isdigit():\n",
    "    # Converte o número para inteiro\n",
    "    num = int(numero)\n",
    "    \n",
    "    # Verifica se o número é ímpar\n",
    "    if num % 2 != 0:\n",
    "        \n",
    "        # Verifica se o número é divisível por 3 e 5, mas não por 2\n",
    "        if num % 3 == 0 and num % 5 == 0 and num % 2 != 0:\n",
    "            print(f\"O Numero {num} é Divisível por 5 e Por 3\")\n",
    "            \n",
    "        # Verifica se o número é divisível apenas por 3, mas não por 5\n",
    "        elif num % 3 == 0 and num % 5 == 1:\n",
    "            print(f'O Numero {num} é Divisível por 3 mas não por 5')\n",
    "            \n",
    "        # Verifica se o número é divisível apenas por 5, mas não por 3\n",
    "        elif num % 3 == 1 and num % 5 == 0:\n",
    "            print(f'O Numero {num} é Divisível por 5 mas não por 3')\n",
    "            \n",
    "        # Se não for divisível por 2, 3 ou 5\n",
    "        else:\n",
    "            print(f'O Numero {num} Não é Divisível por 3 nem por 5 ')\n",
    "            \n",
    "    # Se o número for par\n",
    "    else:\n",
    "        print(f'O Numero {num} é Divisível por 2')\n",
    "# Se a entrada não for composta apenas por dígitos\n",
    "else:\n",
    "    print(f'Por favor digite um numero. Você digitou \"{numero}\"')\n",
    "\n",
    "# Classificação do código: Intermediário\n"
   ]
  },
  {
   "cell_type": "code",
   "execution_count": null,
   "metadata": {},
   "outputs": [],
   "source": []
  },
  {
   "cell_type": "code",
   "execution_count": null,
   "metadata": {},
   "outputs": [],
   "source": []
  },
  {
   "cell_type": "markdown",
   "metadata": {},
   "source": [
    "***16- Dados 3 valores, A, B, C, verifique se eles podem forma um triangulo, e se forma, veja qual tipo de triangulo formara, Escaleno, Isósceles, Equilátero.***\n",
    "\n",
    "Considere:\n",
    "\n",
    "\n",
    "         O Comprimento de cada lado de um triangulo e menor que a soma dos outros dois lados\n",
    "         O Equilátero tem Três lados iguais\n",
    "         O Isósceles tem apenas dois lados iguais\n",
    "         Escaleno Todos os lados são diferentes"
   ]
  },
  {
   "cell_type": "code",
   "execution_count": 30,
   "metadata": {},
   "outputs": [
    {
     "name": "stdout",
     "output_type": "stream",
     "text": [
      "Opa Tivemos um erro, voce digitou um valor incorreto: \n",
      "Primeiro Valor {'w'} Incorreto\n",
      "Segundo  Valor {'3'} Correto\n",
      "Terceiro Valor {'4'} Correto\n"
     ]
    }
   ],
   "source": [
    "# Solicita ao usuário que digite três valores\n",
    "v1 = input(\"Digite o primeiro valor: \")\n",
    "v2 = input('Digite o segundo valor: ')\n",
    "v3 = input('Digite o terceiro valor: ')\n",
    "\n",
    "# Verifica se todos os valores digitados são dígitos\n",
    "if v1.isdigit() and v2.isdigit() and v3.isdigit():\n",
    "    try:\n",
    "        # Tenta converter os valores para inteiros\n",
    "        v1 = int(v1)\n",
    "        v2 = int(v2)\n",
    "        v3 = int(v3)\n",
    "        \n",
    "        # Imprime os valores digitados\n",
    "        print(f'Os Valores digitados foram {v1}, {v2} e {v3}')\n",
    "        \n",
    "        # Verifica se os valores formam um triângulo\n",
    "        if v1 < v2 + v3 and v2 < v1 + v3 and v3 < v1 + v2:\n",
    "            print(f'Forman um triangulo do Tipo: ', end='')\n",
    "            # Verifica o tipo de triângulo\n",
    "            if v1 == v2 == v3:\n",
    "                print('Equilatero')\n",
    "            elif v1 != v2 != v3:\n",
    "                print('Escaleno')\n",
    "            else:\n",
    "                print('Isosceles')\n",
    "        \n",
    "    except ValueError as erro:\n",
    "        print(f'Tivemos um erro do tipo {erro}')\n",
    "        \n",
    "else:\n",
    "    # Se algum valor digitado não for um dígito, exibe uma mensagem de erro\n",
    "    print(f'Opa Tivemos um erro, voce digitou um valor incorreto: ')\n",
    "    # Exibe se cada valor digitado é correto ou não\n",
    "    print(\"Primeiro Valor\", {v1}, \"Correto\" if v1.isdigit() else \"Incorreto\")\n",
    "    print(\"Segundo  Valor\", {v2}, \"Correto\" if v2.isdigit() else \"Incorreto\")\n",
    "    print(\"Terceiro Valor\", {v3}, \"Correto\" if v3.isdigit() else \"Incorreto\")"
   ]
  },
  {
   "cell_type": "code",
   "execution_count": null,
   "metadata": {},
   "outputs": [],
   "source": []
  },
  {
   "cell_type": "code",
   "execution_count": null,
   "metadata": {},
   "outputs": [],
   "source": []
  },
  {
   "cell_type": "markdown",
   "metadata": {},
   "source": [
    "***17- Leia a idade e o tempo de serviço de um trabalhador e escreva se ele pode ou não se aposentar. As condições são.***\n",
    "\n",
    "\n",
    "         Ter pelo menos 65 anos\n",
    "         Ou ter trabalhado pelo menos 30 anos\n",
    "         Ou ter pelo menos 60 anos e trabalhado 25 anos"
   ]
  },
  {
   "cell_type": "code",
   "execution_count": 33,
   "metadata": {},
   "outputs": [
    {
     "name": "stdout",
     "output_type": "stream",
     "text": [
      "O Trabalhador tem 45 anos e 32 Tempo de serviço\n",
      "O Trabalhador se aposentara por serviço\n"
     ]
    }
   ],
   "source": [
    "# Solicita ao usuário a idade do trabalhador\n",
    "idade = int(input('Idade do trabalhador: '))\n",
    "# Solicita ao usuário o tempo de serviço do trabalhador\n",
    "tempo_serviço = int(input('Tempo de Serviço: '))\n",
    "\n",
    "# Imprime a idade e o tempo de serviço do trabalhador\n",
    "print(f'O Trabalhador tem {idade} anos e {tempo_serviço} Tempo de serviço')\n",
    "\n",
    "# Verifica as condições para aposentadoria\n",
    "if idade >= 65:\n",
    "    if idade >= 65 and tempo_serviço >= 30:\n",
    "        print(f'O Trabalhador se aposentará por idade e pelo serviço')\n",
    "    else:\n",
    "        print(f'O Trabalhador poderá se aposentar pela idade')\n",
    "elif idade >= 60 and tempo_serviço >= 25:\n",
    "    print(f'O Trabalhador se aposentará por tempo de serviço')\n",
    "elif idade < 60 and tempo_serviço >= 30:\n",
    "    print('O Trabalhador se aposentará por serviço')\n",
    "else:\n",
    "    print('O Trabalhador não poderá se aposentar')\n",
    "\n",
    "# Classificação do código: Básico\n"
   ]
  },
  {
   "cell_type": "code",
   "execution_count": null,
   "metadata": {},
   "outputs": [],
   "source": []
  },
  {
   "cell_type": "code",
   "execution_count": null,
   "metadata": {},
   "outputs": [],
   "source": []
  },
  {
   "cell_type": "markdown",
   "metadata": {},
   "source": [
    "***18- Uma empresa vendo o mesmo produto para quatro diferentes estados. Cada estado possui uma taxa\n",
    "diferente de imposto sobre o produto (MG 7%, SP 12%, RJ 15%, MS 8%, PI 14%) faça um programa em\n",
    "que o usuário entre o valor e o estado destino do produto e o programa retorne o preço final do\n",
    "produto acrescido do imposto do estado em que será vendido.***"
   ]
  },
  {
   "cell_type": "code",
   "execution_count": 48,
   "metadata": {},
   "outputs": [
    {
     "name": "stdout",
     "output_type": "stream",
     "text": [
      "O Produto que custava 3500 R$\n",
      "Para o Destino de SP o imposto sera de 14%\n",
      "O Novo preço do produto sera de 3990.00 R$\n"
     ]
    }
   ],
   "source": [
    "# Dicionário com os impostos de cada estado\n",
    "estados = {\"MG\": 7, \"SP\": 12, \"RJ\": 15, \"MS\": 8, \"PI\": 14}\n",
    "\n",
    "# Solicita ao usuário o nome do produto, o preço e o estado de destino\n",
    "produto = input('Digite o nome do produto: ').upper()\n",
    "preco = input(f'Digite o preco do {produto} R$: ')\n",
    "destino = input('Digite o estado de destino do produto: ').upper()\n",
    "\n",
    "# Verifica se os dados inseridos são válidos\n",
    "if destino.isalpha() and preco.isdigit() and produto.isalpha():\n",
    "    print(f'O Produto que custava {preco} R$')\n",
    "    \n",
    "    # Verifica o imposto com base no estado de destino e calcula o novo preço do produto\n",
    "    if destino in estados:\n",
    "        imposto = estados[destino]\n",
    "        novo_preco = int(preco) * ((imposto + 100) / 100)\n",
    "        print(f'Para o Destino de {destino} o imposto será de {imposto}%')\n",
    "        print(f'O Novo preço do produto será de {novo_preco:.2f} R$')\n",
    "    else:\n",
    "        print('Estado de destino não encontrado.')\n",
    "else:\n",
    "    print('Por favor digite os dados corretamente')\n",
    "\n",
    "# Classificação do código: Intermediário\n"
   ]
  },
  {
   "cell_type": "code",
   "execution_count": null,
   "metadata": {},
   "outputs": [],
   "source": []
  },
  {
   "cell_type": "code",
   "execution_count": null,
   "metadata": {},
   "outputs": [],
   "source": []
  },
  {
   "cell_type": "markdown",
   "metadata": {},
   "source": [
    "***19- Leia a distancia em Km e a quantidade de litros de gasolina consumidos por um carro em um percurso, calcule o consumo em Km/l e escreva uma mensagem de acordo com as opções.***\n",
    "\n",
    "\n",
    "         Se percorre 8km por litro: Venda o carro\n",
    "         Se percorre entre 10 e 12: Econômico\n",
    "         Se percorre mais que 12: Super econômico"
   ]
  },
  {
   "cell_type": "code",
   "execution_count": 9,
   "metadata": {},
   "outputs": [
    {
     "name": "stdout",
     "output_type": "stream",
     "text": [
      "Seu carro percorre 13.24 km por litro, super econômico\n"
     ]
    }
   ],
   "source": [
    "# Solicita ao usuário os quilômetros percorridos pelo carro e os \n",
    "# litros de gasolina consumidos\n",
    "km = input('Km percorridos pelo carro: ')\n",
    "gasolina = input('Litros de gasolina consumidos: ')\n",
    "\n",
    "# Verifica se as entradas são dígitos\n",
    "if km.isdigit() and gasolina.isdigit():\n",
    "    try:\n",
    "        # Converte as entradas para números de ponto flutuante\n",
    "        km = int(km)\n",
    "        gas = int(gasolina)\n",
    "        \n",
    "        # Calcula a média de quilômetros por litro\n",
    "        km_litros = km / gas\n",
    "        \n",
    "        # Avalia a eficiência do carro com base na média de quilômetros por litro\n",
    "        if km_litros <= 8:\n",
    "            print(f'Seu carro percorre {km_litros:.2f} por litro. Venda o Carro') \n",
    "        elif km_litros > 10 and km_litros < 12:\n",
    "            print(f'Seu carro percorre {km_litros:.2f} km por litro, Econômico')\n",
    "        elif km_litros > 12:\n",
    "            print(f'Seu carro percorre {km_litros:.2f} km por litro, super econômico')\n",
    "    \n",
    "    except:\n",
    "        # Se ocorrer uma exceção ao converter para float, informa ao usuário que \n",
    "        # deve digitar um valor numérico\n",
    "        print('Por favor, digite um valor numérico')\n",
    "        \n",
    "else:\n",
    "    # Se as entradas não forem dígitos, informa ao usuário para verificar suas entradas\n",
    "    print('Você digitou algum valor errado, verifique qual')\n",
    "    print(f\"{km} {'Válido' if km.isdigit() else 'Não é válido'}\")\n",
    "    print(f\"{gasolina} {'Válido' if gasolina.isdigit() else 'Não é válido'}\")\n"
   ]
  },
  {
   "cell_type": "code",
   "execution_count": null,
   "metadata": {},
   "outputs": [],
   "source": []
  },
  {
   "cell_type": "code",
   "execution_count": null,
   "metadata": {},
   "outputs": [],
   "source": []
  },
  {
   "cell_type": "markdown",
   "metadata": {},
   "source": [
    "***20- A Confederação Nacional de Natação precisa de um programa que leia o ano de nascimento de um\n",
    "atleta e mostre sua categoria, de acordo com a idade:***\n",
    "\n",
    "\n",
    "         Até 9 anos: MIRIM\n",
    "         Até 14 anos: INFANTIL\n",
    "         Até 19 anos: JÚNIOR\n",
    "         Até 25 anos: SÊNIOR\n",
    "         Acima de 25 anos: MASTER"
   ]
  },
  {
   "cell_type": "code",
   "execution_count": 11,
   "metadata": {},
   "outputs": [
    {
     "name": "stdout",
     "output_type": "stream",
     "text": [
      "O Atleta de 29 anos ele se encaixara na categoria: MASTER\n"
     ]
    }
   ],
   "source": [
    "# Importa a classe 'date' do módulo 'datetime'\n",
    "from datetime import date \n",
    "\n",
    "# Obtém o ano atual\n",
    "atual = date.today().year\n",
    "\n",
    "# Solicita ao usuário o ano de nascimento do atleta\n",
    "nascimento = input('Ano de nascimento do atleta: ')\n",
    "\n",
    "# Verifica se o ano de nascimento é um número\n",
    "if nascimento.isdigit():\n",
    "    try:\n",
    "        # Converte o ano de nascimento para inteiro\n",
    "        nasc = int(nascimento)\n",
    "        \n",
    "        # Calcula a idade do atleta\n",
    "        idade = atual - nasc\n",
    "        \n",
    "        # Determina a categoria do atleta com base na idade\n",
    "        print(f'O Atleta de {idade} anos ele se encaixará na categoria: ', end='')\n",
    "        \n",
    "        if idade <= 9:\n",
    "            print('MIRIM')\n",
    "        elif idade <= 14:\n",
    "            print('INFANTIL')\n",
    "        elif idade <= 19:   \n",
    "            print(\"JÚNIOR\")\n",
    "        elif idade <= 25:\n",
    "            print(\"SENIOR\")\n",
    "        else:\n",
    "            print(\"MASTER\")\n",
    "        \n",
    "    except ValueError as erro:\n",
    "        # Se ocorrer um erro durante a conversão para inteiro, imprime uma mensagem de erro\n",
    "        print('Tivemos um erro do tipo', erro)\n",
    "        \n",
    "else:\n",
    "    # Se o ano de nascimento não for um número, solicita ao usuário que insira um valor numérico\n",
    "    print(f'Por favor, a Data de Nascimento deve ser numérica: {nascimento}')\n"
   ]
  },
  {
   "cell_type": "code",
   "execution_count": null,
   "metadata": {},
   "outputs": [],
   "source": []
  },
  {
   "cell_type": "code",
   "execution_count": null,
   "metadata": {},
   "outputs": [],
   "source": []
  },
  {
   "cell_type": "markdown",
   "metadata": {},
   "source": [
    "***21- Desenvolva uma lógica que leia o peso e a altura de uma pessoa, calcule seu Índice de Massa Corporal (IMC) e mostre seu status, de acordo com a tabela abaixo:***\n",
    "\n",
    "\n",
    "         IMC abaixo de 18,5: Abaixo do Peso\n",
    "         Entre 18,5 e 25: Peso Ideal\n",
    "         25 até 30: Sobrepeso\n",
    "         30 até 40: Obesidade\n",
    "         Acima de 40: Obesidade Grave"
   ]
  },
  {
   "cell_type": "code",
   "execution_count": 27,
   "metadata": {},
   "outputs": [
    {
     "name": "stdout",
     "output_type": "stream",
     "text": [
      "Uma pessoa que pesa 85500.0 kg e mede 167.0 metros de altura terá um IMC de 3.07\n",
      "Uma Pessoa com um IMC de 3.07 está Abaixo do Peso\n",
      "Por favor, verifique onde você pode ter errado.\n",
      "Peso: Incorreto 85500.0\n",
      "Altura: Incorreto 167.0\n"
     ]
    }
   ],
   "source": [
    "# Solicita ao usuário o peso e a altura da pessoa\n",
    "peso = input('Digite o peso da Pessoa: kg ')\n",
    "altura = input('Digite a altura da Pessoa: ')\n",
    "\n",
    "try:\n",
    "    # Converte as entradas para números de ponto flutuante\n",
    "    peso = float(peso)\n",
    "    altura = float(altura)\n",
    "    \n",
    "    # Calcula o Índice de Massa Corporal (IMC)\n",
    "    imc = peso / (altura * altura)\n",
    "    \n",
    "    # Exibe o IMC da pessoa\n",
    "    print(f'Uma pessoa que pesa {peso} kg e mede {altura} metros de altura terá um IMC de {imc:.2f}')\n",
    "    \n",
    "    # Determina a condição de peso com base no IMC\n",
    "    print(f'Uma Pessoa com um IMC de {imc:.2f} está ', end='')\n",
    "    \n",
    "    if imc < 18.5:\n",
    "        print('Abaixo do Peso')\n",
    "    elif imc < 25:\n",
    "        print('Peso Ideal')\n",
    "    elif imc < 30:\n",
    "        print('Sobrepeso')\n",
    "    elif imc < 40:\n",
    "        print('Obesidade')\n",
    "    else:\n",
    "        print('Obesidade Mórbida')\n",
    "    \n",
    "except ValueError as erro:\n",
    "    # Se ocorrer um erro durante a conversão para float, imprime uma mensagem de erro\n",
    "    print('Tivemos um erro de valor', erro)\n",
    "    ocorreu_erro = True\n",
    "    \n",
    "    \n",
    "finally:\n",
    "    if ocorreu_erro:  # Verifica se ocorreu um erro antes de exibir a mensagem final\n",
    "        print('Por favor, verifique onde você pode ter errado.')\n",
    "        print(f\"Peso: {'Correto' if str(peso).isdigit() else 'Incorreto'} {peso}\")\n",
    "        print(f\"Altura: {'Correto' if str(altura).isdigit() else 'Incorreto'} {altura}\")\n"
   ]
  },
  {
   "cell_type": "code",
   "execution_count": null,
   "metadata": {},
   "outputs": [],
   "source": []
  },
  {
   "cell_type": "code",
   "execution_count": null,
   "metadata": {},
   "outputs": [],
   "source": []
  },
  {
   "cell_type": "markdown",
   "metadata": {},
   "source": [
    "***22- Escreva um programa que leia o código de um produto escolhido do cardápio e a quantidade em kg. O programa deve calcula o valor a ser pago de acordo com a tabela:***\n",
    "\n",
    "\n",
    "        Produto                 Código              Preço kg\n",
    "        Cachorro quente         100                 1.20\n",
    "        Bauru Simples           101                 1.30\n",
    "        Bauru com ovo           102                 1.45\n",
    "        Refrigerante            103                 1.67\n",
    "        Cheeseburguer           104                 2.21\n",
    "        Suco Natural            105                 1.23\n",
    "        Hamburguer              106                 2.11"
   ]
  },
  {
   "cell_type": "code",
   "execution_count": 29,
   "metadata": {},
   "outputs": [
    {
     "name": "stdout",
     "output_type": "stream",
     "text": [
      "Valor a ser pago: R$ 2.4\n"
     ]
    }
   ],
   "source": [
    "# Dicionário contendo os produtos e seus preços por kg\n",
    "tabela_precos = {\n",
    "    100: 1.20,  # Cachorro quente\n",
    "    101: 1.30,  # Bauru Simples\n",
    "    102: 1.45,  # Bauru com ovo\n",
    "    103: 1.67,  # Refrigerante\n",
    "    104: 2.21,  # Cheeseburguer\n",
    "    105: 1.23,  # Suco Natural\n",
    "    106: 2.11   # Hamburguer\n",
    "}\n",
    "\n",
    "# Função para calcular o valor a ser pago\n",
    "def calcular_valor(codigo_produto, quantidade_kg):\n",
    "    if codigo_produto in tabela_precos:\n",
    "        preco_por_kg = tabela_precos[codigo_produto]\n",
    "        valor_total = preco_por_kg * quantidade_kg\n",
    "        return valor_total\n",
    "    else:\n",
    "        return None\n",
    "\n",
    "# Entrada do usuário: código do produto e quantidade em kg\n",
    "codigo = int(input(\"Digite o código do produto: \"))\n",
    "quantidade = float(input(\"Digite a quantidade em kg: \"))\n",
    "\n",
    "# Calcula o valor a ser pago e imprime o resultado\n",
    "valor_a_pagar = calcular_valor(codigo, quantidade)\n",
    "if valor_a_pagar is not None:\n",
    "    print(\"Valor a ser pago: R$\", valor_a_pagar)\n",
    "else:\n",
    "    print(\"Produto não encontrado.\")\n"
   ]
  },
  {
   "cell_type": "code",
   "execution_count": null,
   "metadata": {},
   "outputs": [],
   "source": []
  },
  {
   "cell_type": "code",
   "execution_count": null,
   "metadata": {},
   "outputs": [],
   "source": []
  },
  {
   "cell_type": "markdown",
   "metadata": {},
   "source": [
    "23- Uma empresa decide dar um aumento aos seus funcionários de acordo com uma tabela que considera\n",
    "o salário atual e o tempo de serviço de acordo com os dados.\n",
    "\n",
    "\n",
    "         De 3 a 5 anos 10% de aumento\n",
    "         De 6 a 10 anos 15% de aumento\n",
    "         Abaixo de 3 anos 5% de aumento"
   ]
  },
  {
   "cell_type": "code",
   "execution_count": 30,
   "metadata": {},
   "outputs": [
    {
     "name": "stdout",
     "output_type": "stream",
     "text": [
      "O Tempo do Funcionario não e sufiente para aumento\n"
     ]
    }
   ],
   "source": [
    "# Solicita ao usuário que insira o salário atual do funcionário\n",
    "salario_atual = float(input('Digite o salario atual: R$ '))\n",
    "\n",
    "# Solicita ao usuário que insira o tempo de serviço do funcionário em anos\n",
    "tempo_servico = int(input('Tempo de Serviço: '))\n",
    "\n",
    "# Verifica se o tempo de serviço está entre 3 e 5 anos\n",
    "if 3 < tempo_servico < 5:\n",
    "    # Define o percentual de aumento\n",
    "    aumento = 10\n",
    "    # Calcula o novo salário com o aumento\n",
    "    novo_salario = salario_atual * 1.10\n",
    "    # Exibe a mensagem informando o aumento e o novo salário\n",
    "    print(f'O Funcionário que tem {tempo_servico} anos de serviço receberá um aumento de 10%')\n",
    "    print(f'Com 10% de aumento o Novo salário do funcionário passará a ser de {novo_salario:.2f} R$')\n",
    "    \n",
    "# Verifica se o tempo de serviço está entre 6 e 10 anos\n",
    "elif 6 < tempo_servico < 10:\n",
    "    # Define o percentual de aumento\n",
    "    aumento = 15\n",
    "    # Calcula o novo salário com o aumento\n",
    "    novo_salario = salario_atual * 1.15\n",
    "    # Exibe a mensagem informando o aumento e o novo salário\n",
    "    print(f'O Funcionário que tem {tempo_servico} anos de serviço receberá um aumento de 15%')\n",
    "    print(f'Com 15% de aumento o Novo salário do funcionário passará a ser de {novo_salario:.2f} R$')\n",
    "    \n",
    "# Verifica se o tempo de serviço é inferior a 3 anos\n",
    "elif tempo_servico < 3:\n",
    "    # Define o percentual de aumento\n",
    "    aumento = 5\n",
    "    # Calcula o novo salário com o aumento\n",
    "    novo_salario = salario_atual * 1.05\n",
    "    # Exibe a mensagem informando o aumento e o novo salário\n",
    "    print(f'O Funcionário que tem {tempo_servico} anos de serviço receberá um aumento de 5%')\n",
    "    print(f'Com 5% de aumento o Novo salário do funcionário passará a ser de {novo_salario:.2f} R$')\n",
    "    \n",
    "# Se o tempo de serviço não se enquadrar em nenhuma das condições anteriores\n",
    "else:\n",
    "    print('O Tempo do Funcionário não é suficiente para aumento')\n"
   ]
  },
  {
   "cell_type": "code",
   "execution_count": null,
   "metadata": {},
   "outputs": [],
   "source": []
  },
  {
   "cell_type": "code",
   "execution_count": null,
   "metadata": {},
   "outputs": [],
   "source": []
  },
  {
   "cell_type": "markdown",
   "metadata": {},
   "source": [
    "24- Escreva um programa que leia dois números inteiros e compare-os. mostrando na tela uma\n",
    "mensagem:\n",
    "\n",
    "\n",
    "    – O primeiro valor é maior\n",
    "    – O segundo valor é maior\n",
    "    – Não existe valor maior, os dois são iguais"
   ]
  },
  {
   "cell_type": "code",
   "execution_count": 5,
   "metadata": {},
   "outputs": [
    {
     "name": "stdout",
     "output_type": "stream",
     "text": [
      "Voce Digitou os Numeros 3, 4\n",
      "O Segundo numero 4 e Maior que o primeiro 3\n"
     ]
    }
   ],
   "source": [
    "# Solicita ao usuário para digitar dois números\n",
    "p_numero = input('Digite o primeiro numero: ')\n",
    "s_numero = input('Digite o segundo numero: ')\n",
    "\n",
    "# Verifica se ambos os números são dígitos\n",
    "if p_numero.isdigit() and s_numero.isdigit():\n",
    "    try:\n",
    "        # Converte os números de string para inteiros\n",
    "        p = int(p_numero)\n",
    "        s = int(s_numero)\n",
    "        \n",
    "        # Imprime os números digitados\n",
    "        print(f'Você digitou os números {p}, {s}')\n",
    "        \n",
    "        # Compara os números para determinar qual é maior\n",
    "        if p > s:\n",
    "            print(f'O primeiro número {p} é maior que o segundo {s}')\n",
    "        elif p < s:\n",
    "            print(f'O segundo número {s} é maior que o primeiro {p}')\n",
    "        else:\n",
    "            print(f'Os números {p} e {s} são iguais')\n",
    "        \n",
    "    except ValueError:\n",
    "        # Se ocorrer um erro ao converter para inteiros\n",
    "        print(\"Erro!!!\")\n",
    "        \n",
    "else:\n",
    "    # Se os números digitados não forem dígitos\n",
    "    print('Por favor, digite os 2 números')\n",
    "    print(f\"Primeiro Número: {'Incorreto' if not p_numero.isdigit() else 'Correto'}\")\n",
    "    print(f\"Segundo Número: {'Incorreto' if not s_numero.isdigit() else 'Correto'}\")\n"
   ]
  },
  {
   "cell_type": "code",
   "execution_count": null,
   "metadata": {},
   "outputs": [],
   "source": []
  },
  {
   "cell_type": "code",
   "execution_count": null,
   "metadata": {},
   "outputs": [],
   "source": []
  },
  {
   "cell_type": "markdown",
   "metadata": {},
   "source": [
    "***25- Faça um programa que leia o ano de nascimento de um jovem e informe, de acordo com a sua idade, se ele ainda vai se alistar ao serviço militar, se é a hora exata de se alistar ou se já passou do tempo do alistamento. Seu programa também deverá mostrar o tempo que falta ou que passou do prazo.***"
   ]
  },
  {
   "cell_type": "code",
   "execution_count": 5,
   "metadata": {},
   "outputs": [
    {
     "name": "stdout",
     "output_type": "stream",
     "text": [
      "Ja se passou 11 anos para seu alistamento\n",
      "Voce deveria ter se alistado no ano de 2013\n"
     ]
    }
   ],
   "source": [
    "from datetime import date \n",
    "\n",
    "# Obtém o ano atual\n",
    "atual = date.today().year\n",
    "\n",
    "# Solicita ao usuário o ano de nascimento\n",
    "nascimento = input('Ano de Nascimento: ')\n",
    "\n",
    "try:\n",
    "    # Tenta converter o ano de nascimento para inteiro\n",
    "    nasc = int(nascimento)\n",
    "    \n",
    "    # Calcula a idade\n",
    "    idade = atual - nasc\n",
    "    \n",
    "    # Verifica a idade para determinar o status de alistamento\n",
    "    if idade == 18:\n",
    "        print(f'Você já tem {idade} anos, está na hora de se alistar.')\n",
    "        \n",
    "    elif idade > 18:\n",
    "        passou = idade - 18\n",
    "        ano_alistamento = atual - passou\n",
    "        print(f'Já se passaram {passou} anos desde seu alistamento.')\n",
    "        print(f'Você deveria ter se alistado no ano de {ano_alistamento}.')\n",
    "        \n",
    "    elif idade < 18:\n",
    "        falta = 18 - idade\n",
    "        ano_alistamento = atual + falta\n",
    "        print(f'Ainda faltam {falta} anos para seu alistamento.')\n",
    "        print(f'Você poderá se alistar no ano de {ano_alistamento}.')\n",
    "    \n",
    "except ValueError as erro:\n",
    "    # Se ocorrer um erro ao converter para inteiro\n",
    "    print('Tivemos um erro:', erro)\n",
    "    print('Por favor, digite um valor numérico.')\n",
    "    print('Erro' if not nascimento.isdigit() else 'Correto')\n"
   ]
  },
  {
   "cell_type": "code",
   "execution_count": null,
   "metadata": {},
   "outputs": [],
   "source": []
  },
  {
   "cell_type": "code",
   "execution_count": null,
   "metadata": {},
   "outputs": [],
   "source": []
  },
  {
   "cell_type": "markdown",
   "metadata": {},
   "source": [
    "***26- Crie um programa que leia duas notas de um aluno e calcule sua média, mostrando uma mensagem no final, de acordo com a média atingida:***\n",
    "\n",
    "\n",
    "        – Média abaixo de 5.0: REPROVADO\n",
    "        – Média entre 5.0 e 6.9: RECUPERAÇÃO\n",
    "        – Média 7.0 ou superior: APROVADO"
   ]
  },
  {
   "cell_type": "code",
   "execution_count": 8,
   "metadata": {},
   "outputs": [
    {
     "name": "stdout",
     "output_type": "stream",
     "text": [
      "O Aluno que tirou 6.0 e 7.0 tera uma media de 6.5 pontos\n",
      "Esse aluno esta: Recuperação\n"
     ]
    }
   ],
   "source": [
    "# Solicita ao usuário que insira suas notas\n",
    "nota1 = input('Primeira nota: ')\n",
    "nota2 = input('Segunda nota: ')\n",
    "\n",
    "try:\n",
    "    # Tenta converter as notas para números de ponto flutuante\n",
    "    n1 = float(nota1)\n",
    "    n2 = float(nota2)\n",
    "    \n",
    "    # Calcula a média das notas\n",
    "    media = (n1 + n2) / 2\n",
    "    \n",
    "    # Exibe a média das notas e determina o resultado do aluno\n",
    "    print(f'O aluno que tirou {n1} e {n2} terá uma média de {media} pontos')\n",
    "    print('Este aluno está:', end=' ')\n",
    "    \n",
    "    # Determina o resultado com base na média\n",
    "    if media < 5:\n",
    "        print('Reprovado')\n",
    "    elif media >= 5 and media < 7:\n",
    "        print('Em recuperação')\n",
    "    else:\n",
    "        print('Aprovado')\n",
    "    \n",
    "except ValueError:\n",
    "    # Se ocorrer um erro ao converter para número de ponto flutuante\n",
    "    print('Tivemos um erro ao converter as notas para números de ponto flutuante.')\n"
   ]
  },
  {
   "cell_type": "code",
   "execution_count": null,
   "metadata": {},
   "outputs": [],
   "source": []
  },
  {
   "cell_type": "code",
   "execution_count": null,
   "metadata": {},
   "outputs": [],
   "source": []
  },
  {
   "cell_type": "markdown",
   "metadata": {},
   "source": [
    "***27- Elabore um programa que calcule o valor a ser pago por um produto,\n",
    "considerando o seu preço normal e condição de pagamento:***\n",
    "\n",
    "\n",
    "         à vista dinheiro/cheque: 10% de desconto\n",
    "         à vista no cartão: 5% de desconto\n",
    "         em até 2x no cartão: preço formal\n",
    "         3x ou mais no cartão: 20% de juros"
   ]
  },
  {
   "cell_type": "code",
   "execution_count": 15,
   "metadata": {},
   "outputs": [
    {
     "name": "stdout",
     "output_type": "stream",
     "text": [
      "\n",
      "Loja So Compre se quiser:\n",
      "Formas de Pagamento.\n",
      "--------------------------------------------\n",
      "[1] A Vista/Dinheiro Cheque: 10% de Desconto\n",
      "[2] A Vista no Cartao 5% de Desconto\n",
      "[3] Em ate 2X no Cartao: Preço Normal\n",
      "[4] Mais de 3X 20% de Juros\n",
      "--------------------------------------------\n",
      "\n",
      "Voce digitou a opção 4\n",
      "Em 3X ou mais no cartão 20% de Juros\n",
      "Em 4 Parcelas de 1035.00 R$ saira por 4140.00 R$\n"
     ]
    }
   ],
   "source": [
    "# Exibe as opções de pagamento para o usuário\n",
    "print('''\n",
    "Loja So Compre se quiser:\n",
    "Formas de Pagamento.\n",
    "--------------------------------------------\n",
    "[1] A Vista/Dinheiro Cheque: 10% de Desconto\n",
    "[2] A Vista no Cartao 5% de Desconto\n",
    "[3] Em ate 2X no Cartao: Preço Normal\n",
    "[4] Mais de 3X 20% de Juros\n",
    "--------------------------------------------\n",
    "''')\n",
    "\n",
    "# Solicita ao usuário que insira o preço do produto\n",
    "preco = input('Digite o preço do Produto: R$ ')\n",
    "\n",
    "try:\n",
    "    # Converte o preço inserido pelo usuário em um número de ponto flutuante (float)\n",
    "    preco = float(preco)\n",
    "    \n",
    "    # Solicita ao usuário que insira sua opção de pagamento\n",
    "    opcao = input('Digite sua opcao de Pagamento: ')\n",
    "    \n",
    "    if opcao.isdigit():\n",
    "        # Converte a opção inserida pelo usuário em um número inteiro (int)\n",
    "        opcao = int(opcao)\n",
    "        \n",
    "        # Verifica se a opção inserida está dentro do intervalo correto (de 1 a 4)\n",
    "        if 1 <= opcao <= 4:\n",
    "            print(f'Você digitou a opção {opcao}')\n",
    "            \n",
    "            if opcao == 1:\n",
    "                # Aplica desconto de 10% para opção 1\n",
    "                print('A Vista/Dinheiro ou Cheque: 10% de Desconto')\n",
    "                novo_preco = preco * 0.90\n",
    "                print(f'O Produto passará a custar R$ {novo_preco:.2f}')\n",
    "            elif opcao == 2:\n",
    "                # Aplica desconto de 5% para opção 2\n",
    "                print('A vista no cartão: 5% de desconto')\n",
    "                novo_preco = preco * 0.95\n",
    "                print(f'O Produto passará a custar R$ {novo_preco:.2f}')\n",
    "            elif opcao == 3:\n",
    "                # Não aplica desconto para opção 3\n",
    "                print('Preço normal, sem desconto')\n",
    "            else:\n",
    "                # Aplica juros de 20% para opção 4\n",
    "                print('Em 3X ou mais no cartão: 20% de Juros')\n",
    "                novo_preco = preco * 1.20\n",
    "                parcelas = int(input('Em quantas parcelas? '))\n",
    "                preco_parc = novo_preco / parcelas\n",
    "                print(f'Em {parcelas} parcelas de R$ {preco_parc:.2f} sairá por R$ {novo_preco:.2f}')\n",
    "        else:\n",
    "            # Mensagem de erro se a opção inserida estiver fora do intervalo correto\n",
    "            print(f'Opção {opcao} incorreta, por favor digite a opção correta')\n",
    "    else:\n",
    "        # Mensagem de erro se a opção inserida não for um número válido\n",
    "        print(f'Opção {opcao} incorreta, por favor digite um valor numerico')\n",
    "    \n",
    "except ValueError as erro:\n",
    "    # Captura erros de conversão (se o usuário inserir algo que não pode ser convertido para float ou int)\n",
    "    print('Erro:', erro)\n"
   ]
  },
  {
   "cell_type": "code",
   "execution_count": null,
   "metadata": {},
   "outputs": [],
   "source": []
  },
  {
   "cell_type": "code",
   "execution_count": null,
   "metadata": {},
   "outputs": [],
   "source": []
  },
  {
   "cell_type": "markdown",
   "metadata": {},
   "source": [
    "***28- Elabora um programa que Jogue Pedra Papel e Tesoura, o programa deverá receber 2 input e uma altomoção, sendo que serão 2 jogadores contra o Computador.***"
   ]
  },
  {
   "cell_type": "code",
   "execution_count": 46,
   "metadata": {},
   "outputs": [
    {
     "name": "stdout",
     "output_type": "stream",
     "text": [
      "===================================\n",
      "Vamos Jogar Pedra, Papel e Tesoura\n",
      "\n",
      "Escolha sua opação\n",
      "[0] Pedra\n",
      "[1] Papel\n",
      "[2] Tesoura\n",
      "===================================\n",
      "Primeiro Jogador Jogou Papel\n",
      "Segundo Jogador Jogou Tesoura\n",
      "Pc Jogou: Papel\n",
      "O Resultado do Primeiro Jogador e: Empate\n",
      "O Resultado do Segundo Jogador e: Ganhou\n"
     ]
    }
   ],
   "source": [
    "from random import randint\n",
    "\n",
    "# O computador (pc) escolhe aleatoriamente entre 0, 1 ou 2 para representar Pedra, Papel ou Tesoura\n",
    "pc = randint(0, 2)\n",
    "lista = ['Pedra', 'Papel', 'Tesoura']  # Lista para mapear os números escolhidos pelo jogador/computador para as opções do jogo\n",
    "\n",
    "# Exibe o título do jogo e as opções para os jogadores\n",
    "print('='*35)\n",
    "print('Vamos Jogar Pedra, Papel e Tesoura')\n",
    "print('''\n",
    "Escolha sua opção\n",
    "[0] Pedra\n",
    "[1] Papel\n",
    "[2] Tesoura''')\n",
    "print('='*35)\n",
    "\n",
    "# Solicita a entrada dos jogadores\n",
    "jogador1 = input('Primeiro Jogador Jogue: ')\n",
    "jogador2 = input('Segundo Jogador Jogue: ')\n",
    "\n",
    "# Verifica se as entradas dos jogadores são dígitos e se estão dentro do intervalo de 0 a 2\n",
    "if jogador1.isdigit() and jogador2.isdigit():\n",
    "    jog1 = int(jogador1)\n",
    "    jog2 = int(jogador2)\n",
    "\n",
    "    # Exibe as escolhas dos jogadores e do computador\n",
    "    print(f'Primeiro Jogador Jogou {lista[jog1]}')\n",
    "    print(f'Segundo Jogador Jogou {lista[jog2]}')\n",
    "    print(f'Pc Jogou: {lista[pc]}')\n",
    "\n",
    "    # Verifica o resultado do jogo para o jogador 1\n",
    "    if jogador1:\n",
    "        print(f'O Resultado do Primeiro Jogador é: ', end='')\n",
    "        if jog1 == pc:\n",
    "            print('Empate')\n",
    "\n",
    "        elif jog1 == 0 and pc == 1:\n",
    "            print('Pc Ganhou')\n",
    "\n",
    "        elif jog1 == 0 and pc == 2:\n",
    "            print('Ganhou')\n",
    "\n",
    "        elif jog1 == 1 and pc == 0:\n",
    "            print('Ganhou')\n",
    "\n",
    "        elif jog1 == 1 and pc == 2:\n",
    "            print('Pc Ganhou')\n",
    "\n",
    "        elif jog1 == 2 and pc == 0:\n",
    "            print('Pc Ganhou')\n",
    "\n",
    "        elif jog1 == 2 and pc == 1:\n",
    "            print('Ganhou')\n",
    "\n",
    "    # Verifica o resultado do jogo para o jogador 2\n",
    "    if jogador2:\n",
    "        print(f'O Resultado do Segundo Jogador é: ', end='')\n",
    "        if jog2 == pc:\n",
    "            print('Empate')\n",
    "\n",
    "        elif jog2 == 0 and pc == 1:\n",
    "            print('Pc Ganhou')\n",
    "\n",
    "        elif jog2 == 0 and pc == 2:\n",
    "            print('Ganhou')\n",
    "\n",
    "        elif jog2 == 1 and pc == 0:\n",
    "            print('Ganhou')\n",
    "\n",
    "        elif jog2 == 1 and pc == 2:\n",
    "            print('Pc Ganhou')\n",
    "\n",
    "        elif jog2 == 2 and pc == 0:\n",
    "            print('Pc Ganhou')\n",
    "\n",
    "        elif jog2 == 2 and pc == 1:\n",
    "            print('Ganhou')\n",
    "\n",
    "else:\n",
    "    # Mensagem de erro se as entradas dos jogadores não são dígitos válidos\n",
    "    print('Por favor, digitem apenas 1 número entre 0 e 2')\n",
    "    # Exibe se a entrada de cada jogador é válida ou não\n",
    "    print(f'Jogador 1: {jogador1} {\"Correto\" if jogador1.isdigit() else \"Incorreto\"}')\n",
    "    print(f'Jogador 2: {jogador2} {\"Correto\" if jogador2.isdigit() else \"Incorreto\"}')\n"
   ]
  },
  {
   "cell_type": "code",
   "execution_count": null,
   "metadata": {},
   "outputs": [],
   "source": []
  },
  {
   "cell_type": "code",
   "execution_count": null,
   "metadata": {},
   "outputs": [],
   "source": []
  }
 ],
 "metadata": {
  "kernelspec": {
   "display_name": "Python 3",
   "language": "python",
   "name": "python3"
  },
  "language_info": {
   "codemirror_mode": {
    "name": "ipython",
    "version": 3
   },
   "file_extension": ".py",
   "mimetype": "text/x-python",
   "name": "python",
   "nbconvert_exporter": "python",
   "pygments_lexer": "ipython3",
   "version": "3.12.2"
  }
 },
 "nbformat": 4,
 "nbformat_minor": 2
}
