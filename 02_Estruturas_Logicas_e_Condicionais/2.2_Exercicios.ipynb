{
 "cells": [
  {
   "cell_type": "markdown",
   "metadata": {},
   "source": [
    "***1- Escreva um programa que faça o computador “pensar” em um número inteiro entre 0 e 5 e peça para o usuário tentar descobrir qual foi o número escolhido pelo computador. O programa deverá escrever na tela se o usuário venceu ou perdeu***"
   ]
  },
  {
   "cell_type": "code",
   "execution_count": 4,
   "metadata": {},
   "outputs": [
    {
     "name": "stdout",
     "output_type": "stream",
     "text": [
      "Estou pensando em um numero tente advinhar: \n",
      "Digite um numero entre [0 a 5]\n",
      "Voce errou eu pensei em 5 e voce digitou 1\n"
     ]
    }
   ],
   "source": [
    "# Importa a função randint do módulo random\n",
    "from random import randint \n",
    "\n",
    "# Gera um número aleatório entre 0 e 5 e atribui a pc\n",
    "pc = randint(0, 5)\n",
    "\n",
    "# Exibe uma mensagem para o usuário\n",
    "print('Estou pensando em um número. Tente adivinhar!')\n",
    "\n",
    "# Recebe a entrada do usuário e converte para inteiro\n",
    "opcao = int(input('Digite um número entre 0 e 5: '))\n",
    "\n",
    "# Verifica se o número digitado está dentro do intervalo [0, 5]\n",
    "if 0 <= opcao <= 5:\n",
    "    # Verifica se o número digitado é igual ao número aleatório gerado\n",
    "    if pc == opcao:\n",
    "        # Exibe mensagem de parabéns se o usuário acertar\n",
    "        print(f'Parabéns! Você acertou. Eu pensei em {pc} e você digitou {opcao}.')\n",
    "    else:\n",
    "        # Exibe mensagem de erro se o usuário errar\n",
    "        print(f'Você errou. Eu pensei em {pc} e você digitou {opcao}.')\n",
    "else:\n",
    "    # Exibe uma mensagem se o número digitado estiver fora do intervalo [0, 5]\n",
    "    print('Por favor, digite um número entre 0 e 5.')\n"
   ]
  },
  {
   "cell_type": "code",
   "execution_count": null,
   "metadata": {},
   "outputs": [],
   "source": []
  },
  {
   "cell_type": "code",
   "execution_count": null,
   "metadata": {},
   "outputs": [],
   "source": []
  },
  {
   "cell_type": "markdown",
   "metadata": {},
   "source": [
    "***2 - Escreva um programa que leia a velocidade de um carro. Se ele ultrapassar 80Km/h, mostre uma mensagem dizendo que ele foi multado. A multa vai custar R$7,00 por cada Km acima do limite***"
   ]
  },
  {
   "cell_type": "code",
   "execution_count": 5,
   "metadata": {},
   "outputs": [
    {
     "name": "stdout",
     "output_type": "stream",
     "text": [
      "Um carro que estava a 120.0 Km/hr. \n",
      "Sera multado em 280.00 R$\n"
     ]
    }
   ],
   "source": [
    "# Solicita a velocidade do carro em km/h\n",
    "km_hora = float(input('Digite a velocidade: km '))\n",
    "\n",
    "# Exibe a velocidade inserida pelo usuário\n",
    "print(f'Um carro estava a {km_hora} Km/hr.')\n",
    "\n",
    "# Verifica se a velocidade é maior que 80 km/h\n",
    "if km_hora > 80:\n",
    "    # Calcula a multa: R$ 7 para cada km/h acima de 80\n",
    "    multa = (km_hora - 80) * 7\n",
    "    # Exibe a multa a ser paga\n",
    "    print(f'Será multado em {multa:.2f} R$')\n",
    "else:\n",
    "    # Se estiver abaixo de 80 km/h, elogia o motorista\n",
    "    print('Tem um motorista prudente')\n"
   ]
  },
  {
   "cell_type": "code",
   "execution_count": null,
   "metadata": {},
   "outputs": [],
   "source": []
  },
  {
   "cell_type": "code",
   "execution_count": null,
   "metadata": {},
   "outputs": [],
   "source": []
  },
  {
   "cell_type": "markdown",
   "metadata": {},
   "source": [
    "***3-      Crie um programa que leia 2 números inteiros e mostre na tela qual é PAR e qual e IMPAR, depois mostre qual deles e o maio***"
   ]
  },
  {
   "cell_type": "code",
   "execution_count": null,
   "metadata": {},
   "outputs": [],
   "source": [
    "# Solicita ao usuário que digite dois números inteiros\n",
    "num1 = int(input('Primeiro Numero: '))\n",
    "num2 = int(input('Segundo Numero: '))\n",
    "\n",
    "# Exibe os números digitados pelo usuário\n",
    "print(f'Os números digitados foram {num1} e {num2}')\n",
    "\n",
    "# Verifica se ambos os números são inteiros\n",
    "if isinstance(num1, int) and isinstance(num2, int):\n",
    "    # Verifica a paridade de ambos os números\n",
    "    if num1 % 2 == 0 and num2 % 2 == 0:\n",
    "        print(f'O Primeiro número {num1} e o Segundo número {num2} são PARES.')\n",
    "    elif num1 % 2 == 0 and num2 % 2 == 1:\n",
    "        print(f'O Primeiro número {num1} é PAR e o Segundo número {num2} é ÍMPAR.')\n",
    "    elif num1 % 2 == 1 and num2 % 2 == 0:\n",
    "        print(f'O Primeiro número {num1} é ÍMPAR e o Segundo número {num2} é PAR.')\n",
    "    else:\n",
    "        print(f'Ambos os números {num1} e {num2} são ÍMPARES.')\n",
    "else:\n",
    "    # Exibe uma mensagem se os números não forem inteiros\n",
    "    print('Por favor, digite dois números inteiros.')\n"
   ]
  },
  {
   "cell_type": "code",
   "execution_count": null,
   "metadata": {},
   "outputs": [],
   "source": []
  },
  {
   "cell_type": "code",
   "execution_count": null,
   "metadata": {},
   "outputs": [],
   "source": []
  },
  {
   "cell_type": "markdown",
   "metadata": {},
   "source": [
    "***4-      Desenvolva um programa que pergunte a distância de uma viagem em Km. Calcule o preço da passagem, cobrando R$0,50 por Km para viagens de até 200Km e R$0,45 parta viagens mais longas***"
   ]
  },
  {
   "cell_type": "code",
   "execution_count": 8,
   "metadata": {},
   "outputs": [
    {
     "name": "stdout",
     "output_type": "stream",
     "text": [
      "Para uma viagem de 230.00 Km a passagem sera de 103.50 R$\n"
     ]
    }
   ],
   "source": [
    "# Solicita ao usuário que digite a distância da viagem\n",
    "distancia = input('Digite a distância da Viagem: ')\n",
    "\n",
    "try:\n",
    "    # Tenta converter a entrada em um número inteiro\n",
    "    distancia = int(distancia)\n",
    "    \n",
    "    # Verifica se a distância é um número inteiro ou flutuante\n",
    "    if isinstance(distancia, (int, float)):\n",
    "        # Calcula o preço da passagem com base na distância\n",
    "        if distancia > 200:\n",
    "            passagem = distancia * 0.45\n",
    "            print(f'Para uma viagem de {distancia:.2f} Km a passagem será de {passagem:.2f} R$')\n",
    "        else:\n",
    "            passagem = distancia * 0.50\n",
    "            print(f'Para uma viagem de {distancia:.2f} Km a passagem será de {passagem:.2f} R$')\n",
    "    else:\n",
    "        # Exibe uma mensagem se a distância não for numérica\n",
    "        print('A distância não é numérica.')\n",
    "    \n",
    "except ValueError:\n",
    "    # Exibe uma mensagem se não for possível converter a entrada em um número\n",
    "    print('Não foi possível converter. Por favor, digite um valor numérico.')\n"
   ]
  },
  {
   "cell_type": "code",
   "execution_count": null,
   "metadata": {},
   "outputs": [],
   "source": []
  },
  {
   "cell_type": "code",
   "execution_count": null,
   "metadata": {},
   "outputs": [],
   "source": []
  },
  {
   "cell_type": "markdown",
   "metadata": {},
   "source": [
    "***5-      Faça um programa que leia 3 anos qualquer e mostre qual é bissexto. Sendo que um ano e bissexto se for divisível por 400 ou se for divisível por 4 e não for divisível por 100.***"
   ]
  },
  {
   "cell_type": "code",
   "execution_count": 19,
   "metadata": {},
   "outputs": [
    {
     "name": "stdout",
     "output_type": "stream",
     "text": [
      "O Primeiro Ano 2000 e BISSEXTO \n",
      "O Segundo Ano 2010 e BISSEXTO\n",
      "O Terceiro Ano 2022 Não e BISSEXTO\n"
     ]
    }
   ],
   "source": [
    "# Solicita ao usuário que insira três anos\n",
    "ano1 = input('Primeiro ano: ')\n",
    "ano2 = input('Segundo ano: ')\n",
    "ano3 = input('Terceiro ano: ')\n",
    "\n",
    "try:\n",
    "    # Tenta converter os anos para inteiros\n",
    "    a1 = int(ano1)\n",
    "    a2 = int(ano2)\n",
    "    a3 = int(ano3)\n",
    "    \n",
    "    # Verifica se os anos são inteiros\n",
    "    if isinstance(a1, int) and isinstance(a2, int) and isinstance(a3, int):\n",
    "        # Verifica se cada ano é bissexto\n",
    "        if a1:\n",
    "            if a1 % 4 == 0 and (a1 % 100 != 0 or a1 % 400 == 0):\n",
    "                print(f'O Primeiro Ano {a1} é BISSEXTO')\n",
    "            else:\n",
    "                print(f'O Primeiro Ano {a1} Não é BISSEXTO')\n",
    "                \n",
    "        if a2:\n",
    "            if a2 % 4 == 0 and (a2 % 100 != 0 or a2 % 400 == 0):\n",
    "                print(f'O Segundo Ano {a2} é BISSEXTO')\n",
    "            else:\n",
    "                print(f'O Segundo Ano {a2} Não é BISSEXTO')\n",
    "                \n",
    "        if a3:\n",
    "            if a3 % 4 == 0 and (a3 % 100 != 0 or a3 % 400 == 0):\n",
    "                print(f'O Terceiro Ano {a3} é BISSEXTO')\n",
    "            else:\n",
    "                print(f'O Terceiro Ano {a3} Não é BISSEXTO')\n",
    "        else:\n",
    "            print('Os Anos são inválidos')\n",
    "    \n",
    "except ValueError as erro:\n",
    "    # Exibe uma mensagem de erro se a conversão para int falhar\n",
    "    print('Tivemos um erro:', erro)\n"
   ]
  },
  {
   "cell_type": "code",
   "execution_count": null,
   "metadata": {},
   "outputs": [],
   "source": []
  },
  {
   "cell_type": "code",
   "execution_count": null,
   "metadata": {},
   "outputs": [],
   "source": []
  },
  {
   "cell_type": "markdown",
   "metadata": {},
   "source": [
    "***6- Faça um programa que leia 3 notas de um aluno, verifique se as notas são validas e exiba na tela a media das notas. Uma nota valida dever ser um valor entre 0.0 e 10.0, caso não seja válida imprima invalida. Verifique tambem qual foi a maior e a menor nota***"
   ]
  },
  {
   "cell_type": "code",
   "execution_count": 23,
   "metadata": {},
   "outputs": [
    {
     "name": "stdout",
     "output_type": "stream",
     "text": [
      "Todas as Notas São Validas Iremos Calcula a Media\n",
      "A Media do aluno sera de 6.00 Pontos\n"
     ]
    }
   ],
   "source": [
    "# Solicita as notas do usuário\n",
    "nota1 = input('Primeira nota: ')\n",
    "nota2 = input('Segunda nota: ')\n",
    "nota3 = input('Terceira nota: ')\n",
    "\n",
    "# Tenta converter as notas para números decimais e calcular a média\n",
    "try:\n",
    "    # Converte as notas para float\n",
    "    n1 = float(nota1)\n",
    "    n2 = float(nota2)\n",
    "    n3 = float(nota3)\n",
    "    \n",
    "    # Verifica se as notas são do tipo float\n",
    "    if isinstance(n1, float) and isinstance(n2, float) and isinstance(n3, float):\n",
    "        # Verifica se as notas estão dentro do intervalo válido (0 a 10)\n",
    "        if 0 < n1 < 10 and 0 < n2 < 10 and 0 < n3 < 10:\n",
    "            print('Todas as notas são válidas. Iremos calcular a média.')\n",
    "            # Calcula a média das notas\n",
    "            media = (n1 + n2 + n3) / 3\n",
    "            # Exibe a média formatada com duas casas decimais\n",
    "            print(f'A média do aluno será de {media:.2f} pontos.')\n",
    "        else:\n",
    "            print('Pelo menos uma das notas é inválida.')\n",
    "    else:\n",
    "        print('As notas não são do tipo float.')\n",
    "        \n",
    "# Se ocorrer um erro durante a conversão das notas para float\n",
    "except ValueError:\n",
    "    print('Erro: Alguma das entradas não é um número válido.')\n"
   ]
  },
  {
   "cell_type": "code",
   "execution_count": null,
   "metadata": {},
   "outputs": [],
   "source": []
  },
  {
   "cell_type": "code",
   "execution_count": null,
   "metadata": {},
   "outputs": [],
   "source": []
  },
  {
   "cell_type": "code",
   "execution_count": null,
   "metadata": {},
   "outputs": [],
   "source": []
  },
  {
   "cell_type": "code",
   "execution_count": null,
   "metadata": {},
   "outputs": [],
   "source": []
  },
  {
   "cell_type": "code",
   "execution_count": null,
   "metadata": {},
   "outputs": [],
   "source": []
  },
  {
   "cell_type": "code",
   "execution_count": null,
   "metadata": {},
   "outputs": [],
   "source": []
  },
  {
   "cell_type": "code",
   "execution_count": null,
   "metadata": {},
   "outputs": [],
   "source": []
  },
  {
   "cell_type": "code",
   "execution_count": null,
   "metadata": {},
   "outputs": [],
   "source": []
  },
  {
   "cell_type": "code",
   "execution_count": null,
   "metadata": {},
   "outputs": [],
   "source": []
  },
  {
   "cell_type": "code",
   "execution_count": null,
   "metadata": {},
   "outputs": [],
   "source": []
  }
 ],
 "metadata": {
  "kernelspec": {
   "display_name": "Python 3",
   "language": "python",
   "name": "python3"
  },
  "language_info": {
   "codemirror_mode": {
    "name": "ipython",
    "version": 3
   },
   "file_extension": ".py",
   "mimetype": "text/x-python",
   "name": "python",
   "nbconvert_exporter": "python",
   "pygments_lexer": "ipython3",
   "version": "3.12.2"
  }
 },
 "nbformat": 4,
 "nbformat_minor": 2
}
