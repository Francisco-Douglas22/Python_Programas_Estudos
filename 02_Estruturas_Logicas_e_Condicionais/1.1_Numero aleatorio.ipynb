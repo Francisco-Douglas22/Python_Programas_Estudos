{
 "cells": [
  {
   "cell_type": "markdown",
   "metadata": {},
   "source": [
    "### ***Escreva um programa que faça o computador “pensar” em um número inteiro entre 0 e 5 e peça para o usuário tentar descobrir qual foi o número escolhido pelo computador. O programa deverá escrever na tela se o usuário venceu ou perdeu***"
   ]
  },
  {
   "cell_type": "code",
   "execution_count": null,
   "metadata": {},
   "outputs": [],
   "source": []
  },
  {
   "cell_type": "markdown",
   "metadata": {},
   "source": [
    "#### ***Codigo Cru sem Comentarios e explicações***"
   ]
  },
  {
   "cell_type": "code",
   "execution_count": 8,
   "metadata": {},
   "outputs": [
    {
     "name": "stdout",
     "output_type": "stream",
     "text": [
      "Estou pensando em um numero, tente advinha...\n",
      "Voce errou eu pensei em 1 e voce digitou 3\n"
     ]
    }
   ],
   "source": [
    "from random import randint\n",
    "pc = randint(0,5)\n",
    "\n",
    "print('''Estou pensando em um numero, tente advinha...''')\n",
    "\n",
    "usuario = int(input('Digite o seu palpite: '))\n",
    "\n",
    "\n",
    "if usuario >= 0 and usuario <= 5:\n",
    "    if usuario == pc:\n",
    "        print(f'Voce acertou eu pensei em {pc} e voce digitou {usuario}')\n",
    "    else:\n",
    "        print(f'Voce errou eu pensei em {pc} e voce digitou {usuario}')\n",
    "else:\n",
    "    print(f'Digite um numero entre 0 e 5')"
   ]
  },
  {
   "cell_type": "code",
   "execution_count": null,
   "metadata": {},
   "outputs": [],
   "source": []
  },
  {
   "cell_type": "markdown",
   "metadata": {},
   "source": [
    "#### ***Codigo Documentado***"
   ]
  },
  {
   "cell_type": "markdown",
   "metadata": {},
   "source": [
    "#### ***Explicando o Codigo***"
   ]
  },
  {
   "cell_type": "markdown",
   "metadata": {
    "vscode": {
     "languageId": "plaintext"
    }
   },
   "source": [
    "\n",
    "\n",
    "```python\n",
    "from random import randint  # Importa a função randint do módulo random\n",
    "\n",
    "pc = randint(0, 5)  # Gera um número aleatório entre 0 e 5 e armazena na variável 'pc'\n",
    "\n",
    "print('''Estou pensando em um número, tente adivinhar...''')\n",
    "\n",
    "usuario = int(input('Digite o seu palpite: '))  # Solicita ao usuário que insira seu palpite e armazena-o na variável 'usuario'\n",
    "\n",
    "if usuario >= 0 and usuario <= 5:  # Verifica se o palpite do usuário está no intervalo de 0 a 5\n",
    "    if usuario == pc:  # Verifica se o palpite do usuário é igual ao número escolhido aleatoriamente\n",
    "        print(f'Você acertou! Eu pensei em {pc} e você digitou {usuario}')\n",
    "    else:  # Caso contrário\n",
    "        print(f'Você errou! Eu pensei em {pc} e você digitou {usuario}')\n",
    "else:  # Se o palpite estiver fora do intervalo de 0 a 5\n",
    "    print(f'Digite um número entre 0 e 5')\n",
    "```\n",
    "\n",
    "**Explicação:**\n",
    "\n",
    "1. **Importação da Função `randint()`:** A linha `from random import randint` importa a função `randint` do módulo `random`. Essa função é usada para gerar números inteiros aleatórios dentro de um intervalo especificado.\n",
    "\n",
    "2. **Geração do Número Aleatório:** A linha `pc = randint(0, 5)` gera um número aleatório entre 0 e 5 (inclusive) e armazena-o na variável `pc`.\n",
    "\n",
    "3. **Solicitação do Palpite do Usuário:** A linha `usuario = int(input('Digite o seu palpite: '))` solicita ao usuário que insira seu palpite e converte a entrada para um número inteiro, armazenando-o na variável `usuario`.\n",
    "\n",
    "4. **Verificação do Palpite:** O bloco `if-else` verifica se o palpite do usuário está no intervalo de 0 a 5. Se estiver, outro bloco `if-else` verifica se o palpite do usuário é igual ao número escolhido aleatoriamente (`pc`). Se for, imprime uma mensagem dizendo que o usuário acertou; caso contrário, imprime uma mensagem dizendo que o usuário errou, juntamente com o número escolhido pelo programa e o palpite do usuário. Se o palpite estiver fora do intervalo de 0 a 5, o programa imprime uma mensagem pedindo ao usuário que insira um número dentro desse intervalo."
   ]
  },
  {
   "cell_type": "code",
   "execution_count": null,
   "metadata": {},
   "outputs": [],
   "source": []
  }
 ],
 "metadata": {
  "kernelspec": {
   "display_name": "base",
   "language": "python",
   "name": "python3"
  },
  "language_info": {
   "codemirror_mode": {
    "name": "ipython",
    "version": 3
   },
   "file_extension": ".py",
   "mimetype": "text/x-python",
   "name": "python",
   "nbconvert_exporter": "python",
   "pygments_lexer": "ipython3",
   "version": "3.11.7"
  }
 },
 "nbformat": 4,
 "nbformat_minor": 2
}
