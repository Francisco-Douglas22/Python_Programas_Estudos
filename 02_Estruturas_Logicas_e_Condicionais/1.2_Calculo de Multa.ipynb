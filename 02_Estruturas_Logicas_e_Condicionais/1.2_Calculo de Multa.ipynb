{
 "cells": [
  {
   "cell_type": "markdown",
   "metadata": {},
   "source": [
    "### Escreva um programa que leia a velocidade de um carro. Se ele ultrapassar 80Km/h, mostre uma\n",
    "mensagem dizendo que ele foi multado. A multa vai custar R$7,00 por cada Km acima do limite."
   ]
  },
  {
   "cell_type": "code",
   "execution_count": null,
   "metadata": {},
   "outputs": [],
   "source": []
  },
  {
   "cell_type": "markdown",
   "metadata": {},
   "source": [
    "#### ***Codigo Cru sem Comentarios e explicações***"
   ]
  },
  {
   "cell_type": "code",
   "execution_count": 1,
   "metadata": {},
   "outputs": [
    {
     "name": "stdout",
     "output_type": "stream",
     "text": [
      "O Carro estava a 120.0 km/hr \n",
      "Voce sera multado em 280.00 R$\n"
     ]
    }
   ],
   "source": [
    "velocidade = float(input('Digite a Velocidade do Carro: km/hr '))\n",
    "print(f'O Carro estava a {velocidade} km/hr ')\n",
    "\n",
    "if velocidade > 80:\n",
    "    multa = (velocidade - 80) * 7 \n",
    "    print(f'Voce sera multado em {multa:.2f} R$')\n",
    "else:\n",
    "    print('Parabens voce e um motorista prudente')"
   ]
  },
  {
   "cell_type": "code",
   "execution_count": null,
   "metadata": {},
   "outputs": [],
   "source": []
  },
  {
   "cell_type": "markdown",
   "metadata": {},
   "source": [
    "#### ***Codigo Documentado***"
   ]
  },
  {
   "cell_type": "markdown",
   "metadata": {},
   "source": [
    "#### ***Explicando o Codigo***"
   ]
  },
  {
   "cell_type": "markdown",
   "metadata": {
    "vscode": {
     "languageId": "plaintext"
    }
   },
   "source": [
    "\n",
    "\n",
    "```python\n",
    "# Solicita ao usuário que digite a velocidade do carro em km/h e armazena-a na variável 'velocidade', convertendo-a para float\n",
    "velocidade = float(input('Digite a Velocidade do Carro: km/hr '))\n",
    "\n",
    "# Imprime a velocidade do carro fornecida pelo usuário\n",
    "print(f'O Carro estava a {velocidade} km/hr')\n",
    "\n",
    "# Verifica se a velocidade excede 80 km/h\n",
    "if velocidade > 80:\n",
    "    # Calcula a multa com base na velocidade excedente (multa de R$7 para cada km/h excedido)\n",
    "    multa = (velocidade - 80) * 7 \n",
    "    # Imprime a multa formatada com duas casas decimais\n",
    "    print(f'Você será multado em {multa:.2f} R$')\n",
    "else:\n",
    "    # Se a velocidade não excede 80 km/h, imprime uma mensagem elogiando o motorista por ser prudente\n",
    "    print('Parabéns, você é um motorista prudente')\n",
    "```\n",
    "\n",
    "**Explicação:**\n",
    "\n",
    "1. **Input da Velocidade do Carro:** Solicita ao usuário que digite a velocidade do carro em km/h e armazena-a na variável `velocidade`, convertendo-a para `float`. Isso permite que o programa manipule números decimais.\n",
    "\n",
    "2. **Impressão da Velocidade:** Imprime a velocidade do carro fornecida pelo usuário.\n",
    "\n",
    "3. **Verificação da Velocidade:** Utiliza uma estrutura condicional `if-else` para verificar se a velocidade excede 80 km/h.\n",
    "\n",
    "4. **Cálculo da Multa:** Se a velocidade exceder 80 km/h, calcula a multa com base na velocidade excedente, multiplicando a diferença entre a velocidade e 80 por R$7 (valor da multa por km/h excedido). O resultado é armazenado na variável `multa`.\n",
    "\n",
    "5. **Impressão da Multa:** Se a velocidade exceder 80 km/h, imprime a multa formatada com duas casas decimais. Caso contrário, imprime uma mensagem elogiando o motorista por ser prudente.\n"
   ]
  },
  {
   "cell_type": "code",
   "execution_count": null,
   "metadata": {},
   "outputs": [],
   "source": []
  }
 ],
 "metadata": {
  "kernelspec": {
   "display_name": "base",
   "language": "python",
   "name": "python3"
  },
  "language_info": {
   "codemirror_mode": {
    "name": "ipython",
    "version": 3
   },
   "file_extension": ".py",
   "mimetype": "text/x-python",
   "name": "python",
   "nbconvert_exporter": "python",
   "pygments_lexer": "ipython3",
   "version": "3.11.7"
  }
 },
 "nbformat": 4,
 "nbformat_minor": 2
}
