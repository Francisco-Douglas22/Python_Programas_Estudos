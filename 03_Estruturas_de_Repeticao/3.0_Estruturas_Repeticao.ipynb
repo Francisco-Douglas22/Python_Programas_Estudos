{
 "cells": [
  {
   "cell_type": "markdown",
   "metadata": {},
   "source": [
    "# <font color='blue'>***Estruturas de Repetição - For e While***</font>"
   ]
  },
  {
   "cell_type": "markdown",
   "metadata": {},
   "source": [
    "As estruturas de repetição, também conhecidas como loops, são fundamentais em programação para executar um bloco de código várias vezes. Elas permitem automatizar tarefas repetitivas e processar conjuntos de dados de forma eficiente. Em Python, existem dois tipos principais de estruturas de repetição: o loop `for` e o loop `while`.\n",
    "\n",
    "1. **Loop `for`**: O loop `for` é usado para iterar sobre uma sequência (como uma lista, tupla, dicionário, etc.) ou qualquer objeto iterável. A sintaxe básica é:\n",
    "\n",
    "```python\n",
    "for item in sequencia:\n",
    "    # Bloco de código a ser repetido para cada item na sequência\n",
    "```\n",
    "\n",
    "- `item` é uma variável que recebe cada elemento da sequência em cada iteração.\n",
    "- `sequencia` é a sequência de elementos sobre a qual o loop é executado.\n",
    "\n",
    "Exemplo:\n",
    "```python\n",
    "for i in range(5):\n",
    "    print(i)  # Imprime os números de 0 a 4\n",
    "```\n",
    "\n",
    "2. **Loop `while`**: O loop `while` é utilizado quando o número de iterações não é conhecido antecipadamente, mas uma condição deve ser verificada em cada iteração para decidir se o loop continua ou não. A sintaxe básica é:\n",
    "\n",
    "```python\n",
    "while condicao:\n",
    "    # Bloco de código a ser repetido enquanto a condição for verdadeira\n",
    "```\n",
    "\n",
    "- `condicao` é a expressão que é avaliada antes de cada iteração. O loop continua enquanto essa condição for verdadeira.\n",
    "\n",
    "Exemplo:\n",
    "```python\n",
    "contador = 0\n",
    "while contador < 5:\n",
    "    print(contador)  # Imprime os números de 0 a 4\n",
    "    contador += 1\n",
    "```\n",
    "\n",
    "Os loops podem ser controlados utilizando instruções como `break` para interromper o loop prematuramente, `continue` para pular uma iteração e ir para a próxima, e `else` que é executado ao término do loop (no caso do `for`, ele é executado se o loop terminar normalmente; no caso do `while`, ele é executado se a condição se tornar falsa).\n",
    "\n",
    "É importante ter cuidado ao usar estruturas de repetição para evitar loops infinitos (que não terminam) e garantir que a condição de término seja alcançada em algum momento."
   ]
  },
  {
   "cell_type": "markdown",
   "metadata": {},
   "source": [
    "# <font color='gray'>**For**</font>"
   ]
  },
  {
   "cell_type": "markdown",
   "metadata": {},
   "source": [
    "O loop `for` em Python é usado para iterar sobre uma sequência de itens. Ele é especialmente útil quando você precisa executar um bloco de código um número específico de vezes ou para percorrer os elementos de uma lista, tupla, dicionário ou qualquer outro objeto iterável.\n",
    "\n",
    "### Sintaxe do loop `for`:\n",
    "\n",
    "```python\n",
    "for item in sequencia:\n",
    "    # Bloco de código a ser repetido para cada item na sequência\n",
    "```\n",
    "\n",
    "- `item`: é uma variável que assume o valor de cada elemento da sequência a cada iteração.\n",
    "- `sequencia`: é a sequência de elementos sobre a qual o loop é executado.\n",
    "\n",
    "### Exemplos de uso do loop `for`:\n",
    "\n",
    "#### Iterando sobre uma lista:\n",
    "\n",
    "```python\n",
    "frutas = [\"maçã\", \"banana\", \"laranja\", \"uva\"]\n",
    "\n",
    "for fruta in frutas:\n",
    "    print(fruta)\n",
    "```\n",
    "\n",
    "Neste exemplo, o loop `for` itera sobre a lista `frutas` e imprime cada elemento da lista.\n",
    "\n",
    "#### Iterando sobre um intervalo:\n",
    "\n",
    "```python\n",
    "for numero in range(1, 6):\n",
    "    print(numero)\n",
    "```\n",
    "\n",
    "A função `range(1, 6)` gera uma sequência de números de 1 a 5. O loop `for` itera sobre essa sequência e imprime cada número.\n",
    "\n",
    "#### Iterando sobre uma string:\n",
    "\n",
    "```python\n",
    "for letra in \"Python\":\n",
    "    print(letra)\n",
    "```\n",
    "\n",
    "Neste exemplo, o loop `for` itera sobre a string \"Python\" e imprime cada caractere individual.\n",
    "\n",
    "#### Usando a função `enumerate()` para obter índice e valor:\n",
    "\n",
    "```python\n",
    "frutas = [\"maçã\", \"banana\", \"laranja\", \"uva\"]\n",
    "\n",
    "for indice, fruta in enumerate(frutas):\n",
    "    print(f\"Índice {indice}: {fruta}\")\n",
    "```\n",
    "\n",
    "O loop `for` iterará sobre a lista `frutas`, mas a função `enumerate()` também retorna o índice de cada elemento. Isso permite acessar tanto o índice quanto o valor de cada elemento.\n",
    "\n",
    "#### Usando a instrução `break` para interromper o loop:\n",
    "\n",
    "```python\n",
    "for numero in range(10):\n",
    "    if numero == 5:\n",
    "        break\n",
    "    print(numero)\n",
    "```\n",
    "\n",
    "Neste exemplo, o loop `for` é interrompido quando o valor de `numero` é igual a 5.\n",
    "\n",
    "#### Usando a instrução `continue` para pular uma iteração:\n",
    "\n",
    "```python\n",
    "for numero in range(10):\n",
    "    if numero % 2 == 0:\n",
    "        continue\n",
    "    print(numero)\n",
    "```\n",
    "\n",
    "Neste exemplo, o loop `for` continua para a próxima iteração se o número atual for par, e apenas os números ímpares são impressos.\n",
    "\n",
    "O loop `for` em Python é uma ferramenta poderosa para iterar sobre uma variedade de objetos iteráveis, tornando mais fácil processar dados e realizar tarefas repetitivas de forma eficiente e legível."
   ]
  },
  {
   "cell_type": "code",
   "execution_count": 1,
   "metadata": {},
   "outputs": [
    {
     "name": "stdout",
     "output_type": "stream",
     "text": [
      "D - e - s - e - n - v - o - l - v - e - d - o - r -   - P - y - t - h - o - n - "
     ]
    }
   ],
   "source": [
    "#Utilizamos loops para iterar sobre sequencas ou sobre valores iteraveis\n",
    "nome = 'Desenvolvedor Python'\n",
    "lista = [1, 2, 3, 4]\n",
    "numeros = range(1, 10)\n",
    "\n",
    "#Iterando sobre uma string\n",
    "#Para cada letra no nome imprima a letra\n",
    "# end = junta linhas e posso seleciona o espaço\n",
    "for letra in nome:\n",
    "    print(letra, end=' - ')"
   ]
  },
  {
   "cell_type": "code",
   "execution_count": 2,
   "metadata": {},
   "outputs": [
    {
     "name": "stdout",
     "output_type": "stream",
     "text": [
      "1  2  3  4  "
     ]
    }
   ],
   "source": [
    "#Exemplo for iterando sobre uma lista\n",
    "for numero in lista:\n",
    "    print(numero, end='  ') #Se eu nao utiliza o end sera imprimido cada elemento em linhas separadas"
   ]
  },
  {
   "cell_type": "code",
   "execution_count": 3,
   "metadata": {},
   "outputs": [
    {
     "name": "stdout",
     "output_type": "stream",
     "text": [
      "1\n",
      "2\n",
      "3\n",
      "4\n",
      "5\n",
      "6\n",
      "7\n",
      "8\n",
      "9\n",
      "10\n"
     ]
    }
   ],
   "source": [
    "#Utilizando com o range\n",
    "#O range sempre desconsidera o ultimo numero\n",
    "# no range o primeiro valor e 0\n",
    "\n",
    "for numero in range(1, 11):\n",
    "    print(numero)"
   ]
  },
  {
   "cell_type": "code",
   "execution_count": 4,
   "metadata": {},
   "outputs": [
    {
     "name": "stdout",
     "output_type": "stream",
     "text": [
      "P 0\n",
      "y 1\n",
      "t 2\n",
      "h 3\n",
      "o 4\n",
      "n 5\n",
      "  6\n",
      "e 7\n",
      "  8\n",
      "J 9\n",
      "A 10\n",
      "V 11\n",
      "A 12\n"
     ]
    }
   ],
   "source": [
    "#Utilizando o Enumerate\n",
    "texto = 'Python e JAVA'\n",
    "lista = [1, 45, 1, 6, 7, 8, 3, 5, 12]\n",
    "numeros = range(1,20)\n",
    "\n",
    "#Para cada indice dentro da numeracao no texto\n",
    "#Imprima o Indice e o valor/letra\n",
    "\n",
    "for indice, valor in enumerate(texto):\n",
    "    print(valor, indice)"
   ]
  },
  {
   "cell_type": "code",
   "execution_count": 5,
   "metadata": {},
   "outputs": [
    {
     "name": "stdout",
     "output_type": "stream",
     "text": [
      "P - y - t - h - o - n -   - e -   - J - A - V - A - "
     ]
    }
   ],
   "source": [
    "#Quando nao sei qual parametro utiliza ou se nao desejo utiliza o indice\n",
    "for _, letra in enumerate(texto):\n",
    "    print(letra, end=' - ')"
   ]
  },
  {
   "cell_type": "code",
   "execution_count": 6,
   "metadata": {},
   "outputs": [
    {
     "name": "stdout",
     "output_type": "stream",
     "text": [
      "0\n",
      "1\n",
      "2\n",
      "3\n",
      "4\n",
      "5\n",
      "6\n",
      "7\n",
      "8\n",
      "9\n",
      "10\n",
      "11\n",
      "12\n"
     ]
    }
   ],
   "source": [
    "#Imprimindo apenas o indice\n",
    "for indice, valor in enumerate(texto):\n",
    "    print(indice)"
   ]
  },
  {
   "cell_type": "code",
   "execution_count": 7,
   "metadata": {},
   "outputs": [
    {
     "name": "stdout",
     "output_type": "stream",
     "text": [
      "Imprimindo o valor 1\n",
      "Imprimindo o valor 2\n",
      "Imprimindo o valor 3\n",
      "Imprimindo o valor 4\n"
     ]
    }
   ],
   "source": [
    "#Quantidade de numeros\n",
    "qtd = int(input('Digite a quantidade: '))\n",
    "\n",
    "for n in range(1, qtd+1):\n",
    "    print(f'Imprimindo o valor {n}')"
   ]
  },
  {
   "cell_type": "code",
   "execution_count": 8,
   "metadata": {},
   "outputs": [
    {
     "name": "stdout",
     "output_type": "stream",
     "text": [
      "A Soma dos 3 numeros e 11\n"
     ]
    }
   ],
   "source": [
    "#Outro exemplo\n",
    "qtd = int(input('Digite a quantidade: '))\n",
    "\n",
    "soma = 0\n",
    "\n",
    "for n in range(1, qtd+1):\n",
    "    num = int(input(f'Digite o {n} numero: '))\n",
    "    soma += num\n",
    "    \n",
    "print(f'A Soma dos {qtd} numeros e {soma}')"
   ]
  },
  {
   "cell_type": "code",
   "execution_count": 9,
   "metadata": {},
   "outputs": [
    {
     "name": "stdout",
     "output_type": "stream",
     "text": [
      "😂 😅\n",
      "😂😂 😅😅\n",
      "😂😂😂 😅😅😅\n",
      "😂😂😂😂 😅😅😅😅\n",
      "😂😂😂😂😂 😅😅😅😅😅\n",
      "😂😂😂😂😂😂 😅😅😅😅😅😅\n",
      "😂😂😂😂😂😂😂 😅😅😅😅😅😅😅\n",
      "😂😂😂😂😂😂😂😂 😅😅😅😅😅😅😅😅\n",
      "😂😂😂😂😂😂😂😂😂 😅😅😅😅😅😅😅😅😅\n",
      "😂😂😂😂😂😂😂😂😂😂 😅😅😅😅😅😅😅😅😅😅\n",
      "😂😂😂😂😂😂😂😂😂😂😂 😅😅😅😅😅😅😅😅😅😅😅\n"
     ]
    }
   ],
   "source": [
    "#Imprimindo emojis\n",
    "# emoji = U+1F602 - Temos que modifica, troca o + por 3 zeros 000\n",
    "# emoji = U0001F602 # Modificado\n",
    "\n",
    "emoji = 'U0001F602'\n",
    "\n",
    "for num in range(1, 12):\n",
    "    print('\\U0001F602' * num, '\\U0001F605' * num)"
   ]
  },
  {
   "cell_type": "code",
   "execution_count": 10,
   "metadata": {},
   "outputs": [
    {
     "name": "stdout",
     "output_type": "stream",
     "text": [
      "1\n",
      "3\n",
      "5\n",
      "7\n",
      "9\n"
     ]
    }
   ],
   "source": [
    "#range\n",
    "#inicio, fim, passo\n",
    "#vai de 1 ao 10 de 2 em 2\n",
    "\n",
    "for n in range(1, 11, 2):\n",
    "    print(n)"
   ]
  },
  {
   "cell_type": "code",
   "execution_count": 11,
   "metadata": {},
   "outputs": [
    {
     "name": "stdout",
     "output_type": "stream",
     "text": [
      "1 -, 4 -, 7 -, 10 -, 13 -, 16 -, 19 -, 22 -, 25 -, 28 -, 31 -, 34 -, 37 -, 40 -, 43 -, 46 -, 49 -, 52 -, 55 -, 58 -, 61 -, 64 -, 67 -, 70 -, 73 -, 76 -, 79 -, 82 -, 85 -, 88 -, 91 -, 94 -, 97 -, 100 -, "
     ]
    }
   ],
   "source": [
    "#Melhor explicação\n",
    "inicio = 1\n",
    "fim    = 100\n",
    "passo  = 3\n",
    "\n",
    "for n in range(inicio, fim + 1, passo):\n",
    "    print(n, end=' -, ')"
   ]
  },
  {
   "cell_type": "code",
   "execution_count": 12,
   "metadata": {},
   "outputs": [
    {
     "name": "stdout",
     "output_type": "stream",
     "text": [
      "0\n",
      "1\n",
      "2\n",
      "3\n",
      "4\n",
      "5\n",
      "6\n",
      "7\n",
      "8\n",
      "9\n",
      "10\n"
     ]
    }
   ],
   "source": [
    "#Utilizamos tambem o range apenas com Inicio e fim na maioria das vezes\n",
    "inicio = 0\n",
    "fim = 11\n",
    "\n",
    "for n in range(inicio, fim):\n",
    "    print(n)"
   ]
  },
  {
   "cell_type": "code",
   "execution_count": 13,
   "metadata": {},
   "outputs": [
    {
     "name": "stdout",
     "output_type": "stream",
     "text": [
      "P\n",
      "y\n",
      "t\n",
      "h\n",
      "o\n",
      "n\n"
     ]
    }
   ],
   "source": [
    "#Exemplo \n",
    "texto = 'Python'\n",
    "\n",
    "for n in texto:\n",
    "    print(n)"
   ]
  },
  {
   "cell_type": "code",
   "execution_count": 14,
   "metadata": {},
   "outputs": [
    {
     "name": "stdout",
     "output_type": "stream",
     "text": [
      "0 + 1 = 1\n",
      "1 + 2 = 3\n",
      "2 + 3 = 5\n",
      "3 + 4 = 7\n",
      "4 + 5 = 9\n",
      "5 + 6 = 11\n",
      "6 + 7 = 13\n",
      "7 + 8 = 15\n",
      "8 + 9 = 17\n",
      "9 + 10 = 19\n"
     ]
    }
   ],
   "source": [
    "#Utilizando o range\n",
    "for dados in range(10):\n",
    "    print(f'{dados} + {dados+1} = {dados+dados+1}')"
   ]
  },
  {
   "cell_type": "code",
   "execution_count": 15,
   "metadata": {},
   "outputs": [],
   "source": [
    "#QUANDO UTILIZA CADA FOR\n",
    "produtos = [\"Produto 1\", \"Produto 2\", \"Produto 3\", \"Produto 4\", \"Produto 5\", \n",
    "            \"Produto 6\", \"Produto 7\", \"Produto 8\", \"Produto 9\", \"Produto 10\"]\n",
    "\n",
    "precos = [10.99, 20.99, 30.99, 40.99, 50.99, 60.99, 70.99, 80.99, 90.99, 100.99]"
   ]
  },
  {
   "cell_type": "code",
   "execution_count": 16,
   "metadata": {},
   "outputs": [
    {
     "name": "stdout",
     "output_type": "stream",
     "text": [
      "12.09\n",
      "23.09\n",
      "34.09\n",
      "45.09\n",
      "56.09\n",
      "67.09\n",
      "78.09\n",
      "89.09\n",
      "100.09\n",
      "111.09\n"
     ]
    }
   ],
   "source": [
    "#For item in lista\n",
    "for preco in precos:\n",
    "    print(f'{preco*1.1:.2f}')"
   ]
  },
  {
   "cell_type": "code",
   "execution_count": 17,
   "metadata": {},
   "outputs": [
    {
     "name": "stdout",
     "output_type": "stream",
     "text": [
      "10.99 Produto 1\n",
      "20.99 Produto 2\n",
      "30.99 Produto 3\n",
      "40.99 Produto 4\n",
      "50.99 Produto 5\n",
      "60.99 Produto 6\n",
      "70.99 Produto 7\n",
      "80.99 Produto 8\n",
      "90.99 Produto 9\n",
      "100.99 Produto 10\n"
     ]
    }
   ],
   "source": [
    "#For i in range\n",
    "for i in range(len(precos)):\n",
    "    print(precos[i], produtos[i])"
   ]
  },
  {
   "cell_type": "code",
   "execution_count": 18,
   "metadata": {},
   "outputs": [
    {
     "name": "stdout",
     "output_type": "stream",
     "text": [
      "10.99 Produto 1\n",
      "20.99 Produto 2\n",
      "30.99 Produto 3\n",
      "40.99 Produto 4\n",
      "50.99 Produto 5\n",
      "60.99 Produto 6\n",
      "70.99 Produto 7\n",
      "80.99 Produto 8\n",
      "90.99 Produto 9\n",
      "100.99 Produto 10\n"
     ]
    }
   ],
   "source": [
    "#For item in lista com Enumerate\n",
    "for indice, preco in enumerate(precos):\n",
    "    print(precos[indice], produtos[indice])\n"
   ]
  },
  {
   "cell_type": "code",
   "execution_count": null,
   "metadata": {},
   "outputs": [],
   "source": []
  },
  {
   "cell_type": "code",
   "execution_count": null,
   "metadata": {},
   "outputs": [],
   "source": []
  },
  {
   "cell_type": "markdown",
   "metadata": {},
   "source": [
    "# **While**"
   ]
  },
  {
   "cell_type": "markdown",
   "metadata": {},
   "source": [
    "O loop `while` em Python é usado para repetir um bloco de código enquanto uma condição específica for verdadeira. Ele é útil quando o número de iterações não é conhecido antecipadamente, mas uma condição deve ser verificada a cada iteração para decidir se o loop continua ou não.\n",
    "\n",
    "### Sintaxe do loop `while`:\n",
    "\n",
    "```python\n",
    "while condicao:\n",
    "    # Bloco de código a ser repetido enquanto a condição for verdadeira\n",
    "```\n",
    "\n",
    "- `condicao`: é a expressão que é avaliada antes de cada iteração. O loop continua enquanto essa condição for verdadeira.\n",
    "\n",
    "### Exemplos de uso do loop `while`:\n",
    "\n",
    "#### Contagem regressiva:\n",
    "\n",
    "```python\n",
    "contador = 5\n",
    "while contador > 0:\n",
    "    print(contador)\n",
    "    contador -= 1\n",
    "```\n",
    "\n",
    "Este loop imprime uma contagem regressiva de 5 a 1. Ele continua enquanto o valor de `contador` for maior que 0.\n",
    "\n",
    "#### Entrada do usuário:\n",
    "\n",
    "```python\n",
    "resposta = ''\n",
    "while resposta.lower() != 'sim':\n",
    "    resposta = input(\"Você deseja continuar? (sim/não): \")\n",
    "```\n",
    "\n",
    "Este loop solicita ao usuário uma entrada repetidamente até que a resposta seja \"sim\" (não importando a capitalização). Ele continua enquanto a resposta do usuário não for \"sim\".\n",
    "\n",
    "#### Loop infinito com verificação de saída:\n",
    "\n",
    "```python\n",
    "while True:\n",
    "    resposta = input(\"Você deseja continuar? (sim/não): \")\n",
    "    if resposta.lower() == 'não':\n",
    "        break\n",
    "```\n",
    "\n",
    "Este loop é executado indefinidamente, mas é interrompido quando o usuário digita \"não\". A instrução `break` interrompe o loop e o código continua a partir do próximo comando após o loop.\n",
    "\n",
    "### Considerações sobre loops `while`:\n",
    "\n",
    "- É importante garantir que a condição do loop eventualmente se torne falsa para evitar loops infinitos.\n",
    "- Você pode usar as instruções `break` e `continue` dentro de um loop `while` para modificar o fluxo de execução.\n",
    "- O loop `while` é útil quando você não sabe quantas vezes o código deve ser repetido antecipadamente, mas sabe quando parar com base em uma condição.\n",
    "\n",
    "O loop `while` é uma ferramenta flexível e poderosa para repetir um bloco de código enquanto uma condição específica for verdadeira. Ele oferece uma forma eficaz de lidar com situações em que o número de iterações não é fixo ou conhecido antecipadamente."
   ]
  },
  {
   "cell_type": "code",
   "execution_count": 19,
   "metadata": {},
   "outputs": [
    {
     "name": "stdout",
     "output_type": "stream",
     "text": [
      "Meu nome e 1\n",
      "Meu nome e 2\n",
      "Meu nome e 3\n",
      "Meu nome e 4\n",
      "Meu nome e 5\n",
      "Meu nome e 6\n",
      "Meu nome e 7\n",
      "Meu nome e 8\n",
      "Meu nome e 9\n",
      "Meu nome e 10\n"
     ]
    }
   ],
   "source": [
    "#While utiliza uma expressao booleana para executa o loop\n",
    "# no While sempre devo utiliza um criterio de parada\n",
    "# Algumas vezes nao poderei utiliza criterios de parada\n",
    "\n",
    "cont = 0\n",
    "\n",
    "while cont < 10:\n",
    "    cont += 1  #Caso eu nao utilize esse encremento o loop ficara infinito\n",
    "    print(f'Meu nome e {cont}')"
   ]
  },
  {
   "cell_type": "code",
   "execution_count": 20,
   "metadata": {},
   "outputs": [
    {
     "name": "stdout",
     "output_type": "stream",
     "text": [
      "dd\n",
      "sim\n"
     ]
    }
   ],
   "source": [
    "#Outra forma\n",
    "resposta = ''\n",
    "\n",
    "while resposta != 'sim':\n",
    "    resposta = input('Digite alguma coisa ou \"sim\" para sair: ').lower()\n",
    "    print(resposta)"
   ]
  },
  {
   "cell_type": "code",
   "execution_count": 21,
   "metadata": {},
   "outputs": [
    {
     "name": "stdout",
     "output_type": "stream",
     "text": [
      "Voce digitou 2 numeros\n",
      "A Soma dos 2 numeros e 91\n"
     ]
    }
   ],
   "source": [
    "#Interronpendo loops com break\n",
    "soma = 0\n",
    "contador = 0\n",
    "\n",
    "while True:\n",
    "    \n",
    "    num = int(input('Digite um numero inteiro: '))\n",
    "    contador += 1\n",
    "    soma += num\n",
    "    \n",
    "    sair = str(input('Deseja sair [S][N]: ')).upper()\n",
    "    \n",
    "    if sair == \"S\":\n",
    "        break\n",
    "    \n",
    "print(f'Voce digitou {contador} numeros')\n",
    "print(f'A Soma dos {contador} numeros e {soma}')"
   ]
  },
  {
   "cell_type": "code",
   "execution_count": 22,
   "metadata": {},
   "outputs": [
    {
     "name": "stdout",
     "output_type": "stream",
     "text": [
      "1\n",
      "2\n",
      "3\n",
      "4\n",
      "5\n",
      "Encerrando no 6\n"
     ]
    }
   ],
   "source": [
    "#Exemplo do Break com for\n",
    "for numero in range(1, 11):\n",
    "    if numero == 6:\n",
    "        print(f'Encerrando no 6')\n",
    "        break\n",
    "    else:\n",
    "        print(numero)"
   ]
  },
  {
   "cell_type": "code",
   "execution_count": 23,
   "metadata": {},
   "outputs": [
    {
     "name": "stdout",
     "output_type": "stream",
     "text": [
      "1 2 3 5 6 7 8 12 13 14 15 17 18 19 \n",
      "\n",
      "\n",
      "1 2 3 5 6 7 8 9 10 15 16 17 18 19 20 "
     ]
    }
   ],
   "source": [
    "#Utilizando o pass\n",
    "for n in range(1, 20):\n",
    "    if n == 4:\n",
    "        pass\n",
    "    elif n > 8 and n < 12:\n",
    "        pass\n",
    "    elif n == 16:\n",
    "        pass\n",
    "    else:\n",
    "        print(n, end=' ')\n",
    "        \n",
    "print('\\n\\n')  \n",
    "\n",
    "\n",
    "#Utilizando o while\n",
    "    \n",
    "cont = 0\n",
    "while cont < 20:\n",
    "    cont += 1\n",
    "    if cont == 4:\n",
    "        pass\n",
    "    elif cont > 10 and cont < 15:\n",
    "        pass\n",
    "    else:\n",
    "        print(cont, end=' ')"
   ]
  },
  {
   "cell_type": "code",
   "execution_count": 24,
   "metadata": {},
   "outputs": [
    {
     "name": "stdout",
     "output_type": "stream",
     "text": [
      "Seu nome e Francisco\n"
     ]
    }
   ],
   "source": [
    "#Exemplo\n",
    "condicao = True\n",
    "\n",
    "while condicao:\n",
    "    nome = input('Digite o seu nome: ').title()\n",
    "    print(f'Seu nome e {nome}')\n",
    "    condicao = False"
   ]
  },
  {
   "cell_type": "code",
   "execution_count": 25,
   "metadata": {},
   "outputs": [
    {
     "name": "stdout",
     "output_type": "stream",
     "text": [
      "1 2 3 4 5 6 7 8 9 10 "
     ]
    }
   ],
   "source": [
    "#Exemplo\n",
    "contador = 0\n",
    "\n",
    "while True:\n",
    "    contador += 1\n",
    "    print(contador, end=' ')\n",
    "    if contador == 10:\n",
    "        break"
   ]
  },
  {
   "cell_type": "code",
   "execution_count": 26,
   "metadata": {},
   "outputs": [
    {
     "name": "stdout",
     "output_type": "stream",
     "text": [
      "1 - 2 - 3 - 4 - 5 - 10 - 11 - 13 - 14 - 15 - 16 - 17 - 18 - 19 - 20 - 21 - "
     ]
    }
   ],
   "source": [
    "#Utilizando o continue\n",
    "\n",
    "cont = 0\n",
    "\n",
    "while cont <= 20:\n",
    "    cont += 1\n",
    "    if cont > 5 and cont < 10:\n",
    "        continue\n",
    "    elif cont == 12:\n",
    "        continue\n",
    "    print(cont, end=' - ')"
   ]
  },
  {
   "cell_type": "code",
   "execution_count": 27,
   "metadata": {},
   "outputs": [
    {
     "name": "stdout",
     "output_type": "stream",
     "text": [
      "\n",
      "[1] [4] [1]\n",
      "[1] [4] [2]\n",
      "[1] [4] [3]\n",
      "\n",
      "[2] [4] [1]\n",
      "[2] [4] [2]\n",
      "[2] [4] [3]\n",
      "\n",
      "[3] [4] [1]\n",
      "[3] [4] [2]\n",
      "[3] [4] [3]\n"
     ]
    }
   ],
   "source": [
    "#While dentro de while criando uma matriz simples de 3 x 3\n",
    "\n",
    "qtd_linhas  = 3\n",
    "qtd_colunas = 3\n",
    "qtd_terc    = 3\n",
    "\n",
    "linha = 1\n",
    "while linha <= qtd_linhas:\n",
    "    \n",
    "    coluna = 1\n",
    "    \n",
    "    print('')\n",
    "    \n",
    "    while coluna <= qtd_colunas:\n",
    "        \n",
    "        tres = 1\n",
    "        coluna += 1\n",
    "        \n",
    "    while tres <= qtd_terc:\n",
    "        print(f'[{linha}] [{coluna}] [{tres}]')\n",
    "        tres += 1\n",
    "    linha += 1"
   ]
  },
  {
   "cell_type": "code",
   "execution_count": 28,
   "metadata": {},
   "outputs": [
    {
     "name": "stdout",
     "output_type": "stream",
     "text": [
      "Soma: 3.0 + 5.0 = 8.0\n",
      "N\n",
      "Subtrair: 3.0 - 5.0 = -2.0\n",
      "Encerrando o programa...\n",
      "Programa encerrado com sucesso\n"
     ]
    }
   ],
   "source": [
    "#Criando uma Calculadora com o WHile\n",
    "\n",
    "from time import sleep\n",
    "\n",
    "while True:\n",
    "    \n",
    "    numero_1 = input('Digite o primeiro numero: ')\n",
    "    numero_2 = input('Digite o segundo numero: ')\n",
    "    \n",
    "    operador = input('Digite o operador [ + - / * ]: ')\n",
    "    \n",
    "    numeros_validos = None\n",
    "    \n",
    "    try:\n",
    "        n1 = float(numero_1)\n",
    "        n2 = float(numero_2)\n",
    "        \n",
    "        numeros_validos = True\n",
    "        operadores_permitidos = '+-/*'\n",
    "        \n",
    "        if numeros_validos is None:\n",
    "            print(f'Um ou Ambos os numeros e Invalido')\n",
    "            continue\n",
    "        \n",
    "        if operador not in operadores_permitidos:\n",
    "            print(f'O Operador {operador} e invalido')\n",
    "            continue\n",
    "        \n",
    "        if len(operador) > 1:\n",
    "            print('Digite apenas 1 operador')\n",
    "            continue\n",
    "        \n",
    "        #Condicionais para calculadora\n",
    "        if operador == '+':\n",
    "            print(f'Soma: {n1} + {n2} = {n1+n2}')\n",
    "            \n",
    "        elif operador == '-':\n",
    "            print(f'Subtrair: {n1} - {n2} = {n1-n2}')\n",
    "            \n",
    "        elif operador == '*':\n",
    "            print(f'Multiplicar: {n1} x {n2}')\n",
    "            \n",
    "        elif operador == '/':\n",
    "            print(f'Dividir: {n1} / {n2}')\n",
    "                  \n",
    "        \n",
    "        \n",
    "        \n",
    "    except Exception as erro:\n",
    "        print(erro)\n",
    "    \n",
    "    sair = input('Quer sair? [S][N]').title()\n",
    "    \n",
    "    if sair == \"S\":\n",
    "        print('Encerrando o programa...')\n",
    "        sleep(2)\n",
    "        print('Programa encerrado com sucesso')\n",
    "        break\n",
    "    else:\n",
    "        print(sair)\n",
    "    \n",
    "    "
   ]
  },
  {
   "cell_type": "code",
   "execution_count": 29,
   "metadata": {},
   "outputs": [
    {
     "name": "stdout",
     "output_type": "stream",
     "text": [
      "P\n",
      "y\n",
      "t\n",
      "h\n",
      "o\n",
      "n\n",
      "\n",
      "O Else foi executado\n"
     ]
    }
   ],
   "source": [
    "#Exemplo de while e else\n",
    "string = 'Python'\n",
    "\n",
    "cont = 0\n",
    "\n",
    "while cont < len(string):\n",
    "    letra = string[cont]\n",
    "    \n",
    "    print(letra)\n",
    "    cont += 1\n",
    "    \n",
    "else:\n",
    "    print('\\nO Else foi executado')"
   ]
  },
  {
   "cell_type": "code",
   "execution_count": 30,
   "metadata": {},
   "outputs": [
    {
     "name": "stdout",
     "output_type": "stream",
     "text": [
      "A Letra que apareceu mais vezes foi150 que apareceu150 x\n"
     ]
    }
   ],
   "source": [
    "#Contagem de Letras com o while\n",
    "poema =  \"\"\"Python, linguagem de encanto e magia,\n",
    "            Em cada linha, uma nova fantasia.\n",
    "            Simples e elegante, como uma canção,\n",
    "            Nos traz soluções com precisão.\n",
    "            Com sua sintaxe clara e concisa,\n",
    "            Torna a programação uma brisa.\n",
    "            Python, em nosso coração você habita,\n",
    "            Nas asas da inovação, nossa mente agita.\n",
    "            E assim vai, por sempre e para sempre.\n",
    "        \"\"\"\n",
    "\n",
    "indice = 0\n",
    "cont_letras = 0\n",
    "letra_mais_vezes = ''\n",
    "\n",
    "while indice < len(poema):\n",
    "    letra_atual = poema[indice]\n",
    "    \n",
    "    if letra_atual == '':\n",
    "        indice += 1\n",
    "        continue\n",
    "    \n",
    "    contagem_letras = poema.count(letra_atual)\n",
    "    \n",
    "    if  cont_letras < contagem_letras:\n",
    "        cont_letras = contagem_letras\n",
    "        letra_mais_vezes = letra_atual        \n",
    "    \n",
    "    indice += 1\n",
    "    \n",
    "print(\n",
    "    'A Letra que apareceu mais vezes foi'\n",
    "    f'{cont_letras} que apareceu'\n",
    "    f'{contagem_letras} x')"
   ]
  },
  {
   "cell_type": "code",
   "execution_count": null,
   "metadata": {},
   "outputs": [],
   "source": []
  },
  {
   "cell_type": "code",
   "execution_count": 32,
   "metadata": {},
   "outputs": [
    {
     "name": "stdout",
     "output_type": "stream",
     "text": [
      "Por favor, digite apenas uma letra válida.\n",
      "Palavra Formada: P-----\n",
      "Palavra Formada: P-----\n",
      "Palavra Formada: P-----\n",
      "Palavra Formada: P-----\n",
      "Palavra Formada: P-----\n",
      "Palavra Formada: P-----\n",
      "Palavra Formada: P-----\n"
     ]
    }
   ],
   "source": [
    "import os\n",
    "\n",
    "palavra = 'PYTHON'\n",
    "letra_correta = ''\n",
    "\n",
    "while True:\n",
    "    letra = input('Digite uma letra: ').upper()\n",
    "    \n",
    "    if len(letra) != 1 or not letra.isalpha():\n",
    "        print('Por favor, digite apenas uma letra válida.')\n",
    "        continue\n",
    "    else:\n",
    "        if letra in palavra:\n",
    "            letra_correta += letra\n",
    "            \n",
    "        palavra_formada = ''\n",
    "        \n",
    "        for letra_secreta in palavra:\n",
    "            if letra_secreta in letra_correta:\n",
    "                palavra_formada += letra_secreta\n",
    "            else:\n",
    "                palavra_formada += '-'\n",
    "        \n",
    "        print(f'Palavra Formada: {palavra_formada}')\n",
    "        \n",
    "        if palavra_formada == palavra:\n",
    "            os.system('clear')\n",
    "            print('Parabéns! Você completou a palavra!')\n",
    "            break  # Termina o jogo quando a palavra é completada\n",
    "\n"
   ]
  },
  {
   "cell_type": "code",
   "execution_count": null,
   "metadata": {},
   "outputs": [],
   "source": []
  },
  {
   "cell_type": "markdown",
   "metadata": {},
   "source": [
    "Aqui está o código documentado e uma explicação detalhada:\n",
    "\n",
    "```python\n",
    "# Definição da palavra que o jogador precisa adivinhar\n",
    "palavra = 'Python'\n",
    "# Inicialização da string que conterá as letras corretas adivinhadas pelo jogador\n",
    "letra_correta = ''\n",
    "\n",
    "# Loop principal do jogo, que continua indefinidamente até que o jogador adivinhe todas as letras corretamente\n",
    "while True:\n",
    "    # Solicita ao jogador que digite uma letra e converte para maiúscula\n",
    "    letra = input('Digite uma letra: ').upper()\n",
    "    \n",
    "    # Verifica se o input do jogador é válido (uma única letra alfabética)\n",
    "    if len(letra) != 1 or not letra.isalpha():\n",
    "        print('Por favor, digite apenas uma letra válida.')\n",
    "        continue  # Reinicia o loop, solicitando novamente ao jogador que digite uma letra válida\n",
    "    else:\n",
    "        # Verifica se a letra digitada pelo jogador está presente na palavra\n",
    "        if letra in palavra:\n",
    "            # Adiciona a letra correta à string contendo as letras corretas adivinhadas\n",
    "            letra_correta += letra\n",
    "            \n",
    "        # Inicializa a string que representará a palavra a ser exibida para o jogador\n",
    "        palavra_formada = ''\n",
    "        \n",
    "        # Loop que percorre cada letra da palavra secreta\n",
    "        for letra_secreta in palavra:\n",
    "            # Verifica se a letra secreta está presente nas letras corretas adivinhadas\n",
    "            if letra_secreta in letra_correta:\n",
    "                # Se estiver, adiciona a letra correta à palavra formada\n",
    "                palavra_formada += letra_secreta\n",
    "            else:\n",
    "                # Se não estiver, adiciona um traço para indicar que a letra ainda não foi adivinhada\n",
    "                palavra_formada += '-'\n",
    "        \n",
    "        # Exibe a palavra formada até o momento para o jogador\n",
    "        print(f'Palavra Formada: {palavra_formada}')\n",
    "        \n",
    "        # Verifica se o jogador adivinhou todas as letras corretamente\n",
    "        if palavra_formada == palavra:\n",
    "            # Limpa a tela e exibe uma mensagem de parabéns quando o jogador completa a palavra\n",
    "            os.system('clear')  # Limpa a tela do console (funciona em sistemas Unix)\n",
    "            print('Parabéns! Você completou a palavra!')\n",
    "            break  # Termina o jogo quando a palavra é completada\n",
    "```\n",
    "\n",
    "### Explicação:\n",
    "\n",
    "- O código implementa um jogo de adivinhação de palavras, onde o jogador precisa adivinhar uma palavra oculta letra por letra.\n",
    "- O jogador digita uma letra em cada iteração do loop `while`, e o programa verifica se essa letra está presente na palavra a ser adivinhada.\n",
    "- O loop continua indefinidamente até que o jogador adivinhe todas as letras corretamente e complete a palavra.\n",
    "- Dentro do loop, há uma verificação para garantir que o input do jogador seja válido (uma única letra alfabética). Se não for válido, o jogador é solicitado a digitar novamente.\n",
    "- Se a letra adivinhada pelo jogador estiver correta, ela é adicionada à string `letra_correta`, que armazena as letras corretas adivinhadas até o momento.\n",
    "- A cada iteração, o programa constrói uma representação da palavra a ser exibida para o jogador, substituindo letras não adivinhadas por traços.\n",
    "- Quando o jogador adivinha todas as letras corretamente e completa a palavra, o programa exibe uma mensagem de parabéns e termina o jogo.\n",
    "- A função `os.system('clear')` é usada para limpar a tela do console quando o jogador completa a palavra (esta parte do código funciona em sistemas Unix; para Windows, você pode substituir `'clear'` por `'cls'`).\n",
    "- A instrução `break` é usada para sair do loop e encerrar o jogo quando a palavra é completada."
   ]
  },
  {
   "cell_type": "markdown",
   "metadata": {},
   "source": []
  }
 ],
 "metadata": {
  "kernelspec": {
   "display_name": "base",
   "language": "python",
   "name": "python3"
  },
  "language_info": {
   "codemirror_mode": {
    "name": "ipython",
    "version": 3
   },
   "file_extension": ".py",
   "mimetype": "text/x-python",
   "name": "python",
   "nbconvert_exporter": "python",
   "pygments_lexer": "ipython3",
   "version": "3.11.7"
  }
 },
 "nbformat": 4,
 "nbformat_minor": 2
}
