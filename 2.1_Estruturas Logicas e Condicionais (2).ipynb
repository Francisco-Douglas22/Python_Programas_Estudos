{
 "cells": [
  {
   "cell_type": "markdown",
   "metadata": {},
   "source": [
    "# <font color='red'>***Estruturas Logicas e Condicionais em Python***</font>\n",
    "\n",
    "\n",
    "### <font color='yellow'>**Condicionais: if, else, elif**</font>"
   ]
  },
  {
   "cell_type": "code",
   "execution_count": 1,
   "metadata": {},
   "outputs": [
    {
     "name": "stdout",
     "output_type": "stream",
     "text": [
      "A Idade e de 10 anos\n",
      "Menor de Idade\n"
     ]
    }
   ],
   "source": [
    "#Estruturas condicionais em python\n",
    "from random import randint\n",
    "idade = randint(10, 20)\n",
    "print(f'A Idade e de {idade} anos')\n",
    "\n",
    "#Condicionais\n",
    "if idade <= 18:\n",
    "    print('Menor de Idade')s\n",
    "else:\n",
    "    print('Maior de idade')"
   ]
  },
  {
   "cell_type": "code",
   "execution_count": 2,
   "metadata": {},
   "outputs": [
    {
     "name": "stdout",
     "output_type": "stream",
     "text": [
      "A Idade e de 20 anos\n",
      "Ja tem mais de 18 anos voce tem 20 anos\n"
     ]
    }
   ],
   "source": [
    "#Utilizando o elif\n",
    "from random import randint as rand\n",
    "idade = rand(10, 25)\n",
    "print(f'A Idade e de {idade} anos')\n",
    "\n",
    "#Condicionais\n",
    "if idade == 18:\n",
    "    print('Maior de Idade')\n",
    "elif idade > 18:\n",
    "    print(f'Ja tem mais de 18 anos voce tem {idade} anos')\n",
    "elif idade <= 13:\n",
    "    print(f'Voce ainda e uma criança de {idade} anos')\n",
    "else:\n",
    "    print(f'Voce ja e um jovem de {idade} anos')"
   ]
  },
  {
   "cell_type": "code",
   "execution_count": null,
   "metadata": {},
   "outputs": [],
   "source": []
  },
  {
   "cell_type": "code",
   "execution_count": null,
   "metadata": {},
   "outputs": [],
   "source": []
  },
  {
   "cell_type": "markdown",
   "metadata": {},
   "source": [
    "### <font color='yellow'>**Logicas: and, or, not, not is, is not**</font>\n",
    "\n",
    "        and (e)\n",
    "        or (ou)\n",
    "        not (não)\n",
    "        is (é)\n",
    "Operadores Unarios <font color='green'>not, is</font>\n",
    "\n",
    "Operadores binarios <font color='green'>and, or</font>"
   ]
  },
  {
   "cell_type": "markdown",
   "metadata": {},
   "source": [
    "### **`Exemplo`**\n",
    "* Para o <font color='gree'>'and'</font> ambos os valores precisam ser True\n",
    "* Para o <font color='gree'>'or'</font> ou ou outro valor precisa ser True\n",
    "* Para o <font color='gree'>'not'</font> o valor do booleano e invertido, True e False, e False e True\n",
    "* Para o <font color='gree'>'in'</font> Funciona em range significa dentro\n",
    "* Para o <font color='gree'>'is'</font> o Valor e comparado com um outro valor"
   ]
  },
  {
   "cell_type": "code",
   "execution_count": 3,
   "metadata": {},
   "outputs": [
    {
     "name": "stdout",
     "output_type": "stream",
     "text": [
      "Voce precisa ativar sua conta: Por favor cheque seu email\n",
      "Bem vindo\n"
     ]
    }
   ],
   "source": [
    "#Exemplo\n",
    "# Para o 'and' ambos os valores precisam ser True\n",
    "# Para o 'or' ou ou outro valor precisa ser True\n",
    "# Para o 'not' o valor do booleano e invertido, True e False, e False e True\n",
    "# Para o 'in' Funciona em range significa dentro\n",
    "# Para o 'is' o Valor e comparado com um outro valor\n",
    "\n",
    "ativo = False\n",
    "logado = False\n",
    "\n",
    "if ativo or logado:\n",
    "    print('Bem vindo usuario')\n",
    "else:\n",
    "    print('Voce precisa ativar sua conta: Por favor cheque seu email')\n",
    "\n",
    "if not ativo:\n",
    "    print('Bem vindo')\n",
    "else:\n",
    "    print('Tchaw')"
   ]
  },
  {
   "cell_type": "code",
   "execution_count": null,
   "metadata": {},
   "outputs": [],
   "source": []
  },
  {
   "cell_type": "code",
   "execution_count": 1,
   "metadata": {},
   "outputs": [
    {
     "name": "stdout",
     "output_type": "stream",
     "text": [
      "O Numero digitado foi 5\n",
      "O Numero e IMPAR\n"
     ]
    }
   ],
   "source": [
    "#Numero\n",
    "numero = input('Digite um numero: ')\n",
    "\n",
    "try:\n",
    "    numero = int(numero)\n",
    "    print(f'O Numero digitado foi {numero}')\n",
    "    if numero % 2 == 0:\n",
    "        print('O Numero e PAR')\n",
    "    else:\n",
    "        print('O Numero e IMPAR')\n",
    "    \n",
    "except:\n",
    "    print('Tivemos um erro!')"
   ]
  },
  {
   "cell_type": "code",
   "execution_count": null,
   "metadata": {},
   "outputs": [],
   "source": []
  },
  {
   "cell_type": "code",
   "execution_count": 58,
   "metadata": {},
   "outputs": [
    {
     "name": "stdout",
     "output_type": "stream",
     "text": [
      "<attribute 'hour' of 'datetime.time' objects>\n",
      "Ja São 17 Horas da TARDE\n"
     ]
    }
   ],
   "source": [
    "#Hora atual\n",
    "from random import randint\n",
    "hora = randint(1, 24)\n",
    "\n",
    "if hora >= 6 and hora <= 11:\n",
    "    print(f'Ja São {hora} Horas da MANHÃ')\n",
    "elif hora >= 12 and hora <= 17:\n",
    "    print(f'Ja São {hora} Horas da TARDE')\n",
    "elif hora >= 18 and hora <= 23:\n",
    "    print(f'Ja São {hora} Horas da NOITE')\n",
    "else:\n",
    "    print(f'Ja São {hora} Horas da MADRUGADA') "
   ]
  },
  {
   "cell_type": "code",
   "execution_count": null,
   "metadata": {},
   "outputs": [],
   "source": []
  },
  {
   "cell_type": "code",
   "execution_count": null,
   "metadata": {},
   "outputs": [],
   "source": []
  },
  {
   "cell_type": "markdown",
   "metadata": {},
   "source": [
    "# **Operações Ternarias**"
   ]
  },
  {
   "cell_type": "code",
   "execution_count": 1,
   "metadata": {},
   "outputs": [
    {
     "name": "stdout",
     "output_type": "stream",
     "text": [
      "Outro valor\n"
     ]
    }
   ],
   "source": [
    "#Exemplo\n",
    "nome = 'Valor' if False else 'Outro valor'\n",
    "print(nome)"
   ]
  },
  {
   "cell_type": "code",
   "execution_count": null,
   "metadata": {},
   "outputs": [],
   "source": []
  },
  {
   "cell_type": "code",
   "execution_count": null,
   "metadata": {},
   "outputs": [],
   "source": []
  },
  {
   "cell_type": "code",
   "execution_count": null,
   "metadata": {},
   "outputs": [],
   "source": []
  },
  {
   "cell_type": "code",
   "execution_count": null,
   "metadata": {},
   "outputs": [],
   "source": []
  },
  {
   "cell_type": "code",
   "execution_count": null,
   "metadata": {},
   "outputs": [],
   "source": []
  },
  {
   "cell_type": "code",
   "execution_count": null,
   "metadata": {},
   "outputs": [],
   "source": []
  }
 ],
 "metadata": {
  "kernelspec": {
   "display_name": "Python 3 (ipykernel)",
   "language": "python",
   "name": "python3"
  },
  "language_info": {
   "codemirror_mode": {
    "name": "ipython",
    "version": 3
   },
   "file_extension": ".py",
   "mimetype": "text/x-python",
   "name": "python",
   "nbconvert_exporter": "python",
   "pygments_lexer": "ipython3",
   "version": "3.11.7"
  }
 },
 "nbformat": 4,
 "nbformat_minor": 4
}
