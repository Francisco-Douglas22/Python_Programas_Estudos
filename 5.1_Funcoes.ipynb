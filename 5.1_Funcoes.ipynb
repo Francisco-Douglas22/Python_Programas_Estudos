{
 "cells": [
  {
   "cell_type": "markdown",
   "metadata": {},
   "source": [
    "# <font color='green'>***Funções em Python***</font>"
   ]
  },
  {
   "cell_type": "code",
   "execution_count": 3,
   "metadata": {},
   "outputs": [
    {
     "name": "stdout",
     "output_type": "stream",
     "text": [
      "Olá Francisco Douglas seja bem vindo\n",
      "Olá Laurice Mota seja bem vindo\n",
      "Olá Programando em Python seja bem vindo\n"
     ]
    }
   ],
   "source": [
    "#Definindo Funções em Python\n",
    "#Funções são pequenos trechos de codigos que realizam tarefas especificas\n",
    "def saudacao(nome):  #essa função recebe um parametro nome\n",
    "    print(f\"Olá {nome} seja bem vindo\")\n",
    "    \n",
    "saudacao('Francisco Douglas')\n",
    "saudacao('Laurice Mota')\n",
    "saudacao('Programando em Python')\n"
   ]
  },
  {
   "cell_type": "code",
   "execution_count": 17,
   "metadata": {},
   "outputs": [
    {
     "name": "stdout",
     "output_type": "stream",
     "text": [
      "4\n",
      "9\n",
      "16\n",
      "25\n"
     ]
    }
   ],
   "source": [
    "#Funções com Retorno\n",
    "def quadrado(q):\n",
    "    return q * q\n",
    "\n",
    "print(quadrado(2))\n",
    "print(quadrado(3))\n",
    "print(quadrado(4))\n",
    "print(quadrado(5))\n",
    "\n"
   ]
  },
  {
   "cell_type": "code",
   "execution_count": 20,
   "metadata": {},
   "outputs": [
    {
     "data": {
      "text/plain": [
       "'Cara'"
      ]
     },
     "execution_count": 20,
     "metadata": {},
     "output_type": "execute_result"
    }
   ],
   "source": [
    "from random import random\n",
    "\n",
    "def joga__moeda():\n",
    "    valor = random()\n",
    "    if valor > 0.5:\n",
    "        return 'Cara'\n",
    "    else:\n",
    "        return 'Coroa'\n",
    "    \n",
    "joga__moeda()"
   ]
  },
  {
   "cell_type": "code",
   "execution_count": 22,
   "metadata": {},
   "outputs": [
    {
     "name": "stdout",
     "output_type": "stream",
     "text": [
      "IMPA\n",
      "PAR\n"
     ]
    }
   ],
   "source": [
    "#par impa\n",
    "def par_impa(n):\n",
    "    if n % 2 == 0:\n",
    "        return 'PAR'\n",
    "    return \"IMPA\"\n",
    "\n",
    "print(par_impa(3))\n",
    "print(par_impa(2))"
   ]
  },
  {
   "cell_type": "code",
   "execution_count": 4,
   "metadata": {},
   "outputs": [
    {
     "name": "stdout",
     "output_type": "stream",
     "text": [
      "Quadrado 8\n",
      "32\n",
      "9\n",
      "1024\n"
     ]
    }
   ],
   "source": [
    "#Funções com Parametros padroes\n",
    "#Funçoes onde a passagem de parametros seja opcional\n",
    "\n",
    "#Exemplo de passagem obrigatoria\n",
    "def quadrado(numero):\n",
    "    return numero * 2\n",
    "print(\"Quadrado\", quadrado(4))\n",
    "\n",
    "#Levando a potencia\n",
    "def elevado_a(base, expoente=2):\n",
    "    return base ** expoente\n",
    "print(elevado_a(2, 5))\n",
    "print(elevado_a(3))\n",
    "print(elevado_a(4, 5))\n"
   ]
  },
  {
   "cell_type": "code",
   "execution_count": 5,
   "metadata": {},
   "outputs": [
    {
     "name": "stdout",
     "output_type": "stream",
     "text": [
      "Eu pensei que era Python\n",
      "Bem-Vindo\n",
      "Ola Francisco\n"
     ]
    }
   ],
   "source": [
    "def mostra_info(nome='Python', instrutor=False):\n",
    "    if nome == 'Python' and instrutor:\n",
    "        return 'Bem-Vindo'\n",
    "    elif nome == 'Python':\n",
    "        return 'Eu pensei que era Python'\n",
    "    return f'Ola {nome}'\n",
    "\n",
    "print(mostra_info())\n",
    "print(mostra_info(instrutor=True))\n",
    "print(mostra_info('Francisco'))"
   ]
  },
  {
   "cell_type": "code",
   "execution_count": 8,
   "metadata": {},
   "outputs": [
    {
     "name": "stdout",
     "output_type": "stream",
     "text": [
      "5\n",
      "-1\n",
      "-1\n"
     ]
    }
   ],
   "source": [
    "#Funcoes\n",
    "def soma(num1, num2):\n",
    "    return num1 + num2\n",
    "\n",
    "def mat(num1, num2, fun=soma):\n",
    "    return fun(num1, num2)\n",
    "\n",
    "def subtracao(num1, num2):\n",
    "    return num1 - num2\n",
    "\n",
    "print(mat(2, 3))\n",
    "print(mat(2, 3, subtracao))\n",
    "print(subtracao(2, 3))"
   ]
  },
  {
   "cell_type": "code",
   "execution_count": 16,
   "metadata": {},
   "outputs": [
    {
     "name": "stdout",
     "output_type": "stream",
     "text": [
      "900\n",
      "Help on function calcula_area in module __main__:\n",
      "\n",
      "calcula_area(altura=0, largura=0)\n",
      "    Esta função calcula a area total de um terreno\n",
      "\n",
      "None\n",
      "\n",
      "    Esta função calcula a area total de um terreno\n",
      "    \n"
     ]
    }
   ],
   "source": [
    "#Documentando Funcoes com DocString\n",
    "def calcula_area(altura=0, largura=0):\n",
    "    '''\n",
    "    Esta função calcula a area total de um terreno\n",
    "    '''\n",
    "    return altura * largura\n",
    "\n",
    "print(calcula_area(45, 20))\n",
    "print(help(calcula_area))\n",
    "\n",
    "#Metodo especial\n",
    "print(calcula_area.__doc__)"
   ]
  },
  {
   "cell_type": "markdown",
   "metadata": {},
   "source": [
    "### ***(*args)***"
   ]
  },
  {
   "cell_type": "code",
   "execution_count": 14,
   "metadata": {},
   "outputs": [
    {
     "name": "stdout",
     "output_type": "stream",
     "text": [
      "10\n",
      "6\n",
      "4\n",
      "2\n",
      "\n",
      "\n",
      "2\n",
      "4\n",
      "6\n",
      "8\n",
      "10\n",
      "\n",
      "Utilizando o For\n",
      "6\n"
     ]
    }
   ],
   "source": [
    "#Entendendo *args\n",
    "#*args e um parametro especial em python onde posso chama varios argumentos\n",
    "\n",
    "def soma(*args):\n",
    "    return sum(args)\n",
    "\n",
    "print(soma(1, 2, 3, 4))\n",
    "print(soma(1, 2, 3))\n",
    "print(soma(2, 2))\n",
    "print(soma(2))\n",
    "\n",
    "print('\\n')\n",
    "\n",
    "\n",
    "for c in range(1, 6):\n",
    "    print(soma(c+c))\n",
    "    \n",
    "print('\\nUtilizando o For')\n",
    "def soma_2(*args):\n",
    "    total = 0\n",
    "    for numero in args:\n",
    "        total += numero\n",
    "    return total\n",
    "\n",
    "print(soma_2(1, 2, 3))"
   ]
  },
  {
   "cell_type": "markdown",
   "metadata": {},
   "source": [
    "### <font color='blue'>**( **kwargs )**</font>"
   ]
  },
  {
   "cell_type": "code",
   "execution_count": 23,
   "metadata": {},
   "outputs": [
    {
     "name": "stdout",
     "output_type": "stream",
     "text": [
      "{'marcos': 'Verde', 'Marcio': 'Marron'}\n"
     ]
    }
   ],
   "source": [
    "# Diferentemente dos *args o **kargs exige que utilizamos parametros nomeados\n",
    "#o **kwargs ira sempre cria um dicionario\n",
    "\n",
    "def cores(**kwargs):\n",
    "    print(kwargs)\n",
    "    \n",
    "cores(marcos='Verde', Marcio='Marron')"
   ]
  },
  {
   "cell_type": "code",
   "execution_count": 26,
   "metadata": {},
   "outputs": [
    {
     "name": "stdout",
     "output_type": "stream",
     "text": [
      "A Cor de Marcos e Preto\n",
      "A Cor de Ana e Violeta\n",
      "A Cor de Joao e Branco\n",
      "A Cor de Francisco e braco\n"
     ]
    }
   ],
   "source": [
    "def cor(**kwargs):\n",
    "    for pessoa, cor in kwargs.items():\n",
    "        print(f'A Cor de {pessoa.title()} e {cor}')\n",
    "        \n",
    "cor(marcos='Preto', ana='Violeta', Joao='Branco')\n",
    "cor(Francisco='braco')"
   ]
  },
  {
   "cell_type": "code",
   "execution_count": null,
   "metadata": {},
   "outputs": [],
   "source": []
  },
  {
   "cell_type": "code",
   "execution_count": null,
   "metadata": {},
   "outputs": [],
   "source": []
  },
  {
   "cell_type": "markdown",
   "metadata": {},
   "source": [
    "# **Continuação Estudo de Funções**"
   ]
  },
  {
   "cell_type": "code",
   "execution_count": 3,
   "metadata": {},
   "outputs": [
    {
     "name": "stdout",
     "output_type": "stream",
     "text": [
      "Variavel Global\n",
      "3\n"
     ]
    }
   ],
   "source": [
    "#Escopo\n",
    "\n",
    "\"\"\"\n",
    "Escopo de funções em Python\n",
    "Escopo significa o local onde aquele código pode atingir.\n",
    "Existe o escopo global e local.\n",
    "O escopo global é o escopo onde todo o código é alcançavel.\n",
    "O escopo local é o escopo onde apenas nomes do mesmo local\n",
    "podem ser alcançados.\n",
    "\"\"\"\n",
    "\n",
    "V_global = 'Variavel Global'\n",
    "\n",
    "def teste(a, b):\n",
    "    local = a + b\n",
    "    return local\n",
    "\n",
    "def escopo():\n",
    "    print(V_global)\n",
    "    \n",
    "escopo()\n",
    "\n",
    "print(teste(1, 2))"
   ]
  },
  {
   "cell_type": "code",
   "execution_count": 7,
   "metadata": {},
   "outputs": [
    {
     "name": "stdout",
     "output_type": "stream",
     "text": [
      "15\n",
      "14\n",
      "2\n",
      "25\n"
     ]
    }
   ],
   "source": [
    "#Args\n",
    "def soma(*args):\n",
    "    total = 0\n",
    "    for numero in args:\n",
    "        total += numero\n",
    "    return total\n",
    "\n",
    "print(soma(1, 2, 3, 4, 5))\n",
    "print(soma(5, 8, 1))\n",
    "print(soma(2))\n",
    "print(soma(4*5, 5))"
   ]
  },
  {
   "cell_type": "code",
   "execution_count": 20,
   "metadata": {},
   "outputs": [
    {
     "name": "stdout",
     "output_type": "stream",
     "text": [
      "30\n"
     ]
    }
   ],
   "source": [
    "#Multiplica\n",
    "def mult(*args):\n",
    "    cont = 1\n",
    "    for numero in args:\n",
    "        cont *= numero\n",
    "    return cont\n",
    "\n",
    "print(mult(3, 5, 2))"
   ]
  },
  {
   "cell_type": "code",
   "execution_count": 21,
   "metadata": {},
   "outputs": [
    {
     "name": "stdout",
     "output_type": "stream",
     "text": [
      "O Numero 1 e Impar\n",
      "O Numero 3 e Impar\n",
      "O Numero 4 e Par\n",
      "O Numero 5 e Impar\n",
      "None\n"
     ]
    }
   ],
   "source": [
    "# Par ou impa\n",
    "def par_impar(*args):\n",
    "    cont = ''\n",
    "    for n in args:\n",
    "        if n % 2 == 0:\n",
    "            print(f'O Numero {n} e Par')\n",
    "        else:\n",
    "            print(f'O Numero {n} e Impar')\n",
    "            \n",
    "print(par_impar(1, 3, 4, 5))"
   ]
  },
  {
   "cell_type": "code",
   "execution_count": 29,
   "metadata": {},
   "outputs": [
    {
     "name": "stdout",
     "output_type": "stream",
     "text": [
      "Bom dia, Francisco!\n"
     ]
    }
   ],
   "source": [
    "#Closure e funoes que retornam outras funcoes\n",
    "\n",
    "def criar_saudacao(saudacao, nome):\n",
    "    def saudar():\n",
    "        return f'{saudacao}, {nome}!'\n",
    "    return saudar\n",
    "s1 = criar_saudacao('Bom dia', 'Francisco')\n",
    "print(s1())"
   ]
  },
  {
   "cell_type": "code",
   "execution_count": 34,
   "metadata": {},
   "outputs": [
    {
     "name": "stdout",
     "output_type": "stream",
     "text": [
      "Duplo 8\n",
      "Triplo 9\n",
      "Quadruplo 24\n",
      "Quintuplo 25\n"
     ]
    }
   ],
   "source": [
    "def multiplicador(multiplica):\n",
    "    def multiplo(numero):\n",
    "        return numero * multiplica\n",
    "    return multiplo\n",
    "\n",
    "duplo = multiplicador(2)\n",
    "triplo = multiplicador(3)\n",
    "quadruplo = multiplicador(4)\n",
    "quintuplo = multiplicador(5)\n",
    "\n",
    "print(f'Duplo {duplo(4)}')\n",
    "print(f'Triplo {triplo(3)}')\n",
    "print(f'Quadruplo {quadruplo(6)}')\n",
    "print(f'Quintuplo {quintuplo(5)}')"
   ]
  },
  {
   "cell_type": "code",
   "execution_count": null,
   "metadata": {},
   "outputs": [],
   "source": []
  },
  {
   "cell_type": "code",
   "execution_count": null,
   "metadata": {},
   "outputs": [],
   "source": []
  }
 ],
 "metadata": {
  "kernelspec": {
   "display_name": "base",
   "language": "python",
   "name": "python3"
  },
  "language_info": {
   "codemirror_mode": {
    "name": "ipython",
    "version": 3
   },
   "file_extension": ".py",
   "mimetype": "text/x-python",
   "name": "python",
   "nbconvert_exporter": "python",
   "pygments_lexer": "ipython3",
   "version": "3.11.5"
  }
 },
 "nbformat": 4,
 "nbformat_minor": 2
}
