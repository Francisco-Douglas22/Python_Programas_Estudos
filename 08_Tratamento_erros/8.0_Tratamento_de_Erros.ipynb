{
 "cells": [
  {
   "cell_type": "markdown",
   "metadata": {},
   "source": [
    "# **Erros em Python**"
   ]
  },
  {
   "cell_type": "markdown",
   "metadata": {},
   "source": [
    "### **Erros Mais Comuns**\n",
    "\n",
    "1. **SyntaxError**: Este é o erro mais comum e ocorre quando há um erro de sintaxe no seu código Python.\n",
    "\n",
    "2. **IndentationError**: Este erro ocorre quando a indentação do código não está correta, especialmente ao usar blocos de código, como loops e funções.\n",
    "\n",
    "3. **TypeError**: Ocorre quando uma operação é realizada em um tipo de dado que não é suportado.\n",
    "\n",
    "4. **NameError**: Ocorre quando um nome de variável é usado antes de ser definido.\n",
    "\n",
    "5. **ZeroDivisionError**: Ocorre quando há uma tentativa de divisão por zero.\n",
    "\n",
    "6. **IndexError**: Ocorre quando você tenta acessar um índice inválido em uma lista, tupla ou outro tipo de sequência.\n",
    "\n",
    "7. **KeyError**: Ocorre quando você tenta acessar uma chave que não existe em um dicionário.\n",
    "\n",
    "8. **ValueError**: Ocorre quando uma função recebe um argumento com o tipo correto, mas um valor inadequado.\n",
    "\n",
    "9. **AttributeError**: Ocorre quando uma tentativa é feita para acessar um atributo que não existe.\n",
    "\n",
    "10. **ImportError**: Ocorre quando uma importação de um módulo falha.\n",
    "\n",
    "11. **FileNotFoundError**: Ocorre quando um arquivo que você está tentando acessar não pode ser encontrado.\n",
    "\n",
    "12. **IOError**: Ocorre quando ocorre um erro de entrada/saída, como falha ao abrir ou ler um arquivo.\n",
    "\n",
    "13. **KeyboardInterrupt**: Ocorre quando o usuário interrompe a execução de um programa pressionando `Ctrl+C`.\n",
    "\n",
    "14. **RecursionError**: Ocorre quando a recursão em uma função atinge um número máximo de chamadas recursivas permitidas.\n",
    "\n",
    "15. **TypeError**: Ocorre quando um operador ou função é aplicado a um tipo de dado inadequado.\n",
    "\n",
    "16. **StopIteration**: Ocorre quando a função `next()` é chamada em um iterador que não tem mais elementos.\n",
    "\n",
    "17. **AssertionError**: Ocorre quando uma declaração `assert` falha.\n",
    "\n",
    "18. **MemoryError**: Ocorre quando não há memória suficiente para executar um programa.\n",
    "\n",
    "19. **TypeError**: Ocorre quando uma operação é realizada em tipos incompatíveis.\n",
    "\n",
    "20. **OverflowError**: Ocorre quando um cálculo excede o limite máximo do tipo de dado.\n",
    "\n",
    "21. **UnicodeError**: Ocorre quando ocorre um erro relacionado a codificação ou decodificação de caracteres Unicode.\n",
    "\n",
    "22. **EOFError**: Ocorre quando a função `input()` encontra o final do arquivo de entrada.\n",
    "\n",
    "23. **ConnectionError**: Ocorre quando há um problema com uma conexão de rede.\n",
    "\n",
    "24. **ModuleNotFoundError**: Ocorre quando um módulo que você está tentando importar não pode ser encontrado.\n",
    "\n",
    "25. **DeprecationWarning**: Ocorre quando você usa uma função ou recurso que está obsoleto e será removido em versões futuras do Python.\n",
    "\n",
    "26. **SyntaxWarning**: Ocorre quando há uma má prática de codificação ou uma construção suspeita de código.\n",
    "\n",
    "27. **TabError**: Ocorre quando há uma mistura de espaços e tabulações na indentação do código.\n",
    "\n",
    "28. **RuntimeError**: Ocorre quando ocorre um erro não especificado durante a execução do programa.\n",
    "\n",
    "29. **SystemError**: Ocorre quando o interpretador Python encontra uma situação interna inesperada, geralmente indicando um bug no Python.\n",
    "\n",
    "30. **OSError**: Ocorre quando ocorre um erro relacionado ao sistema operacional, como falha ao acessar um arquivo.\n",
    "\n",
    "Estes são apenas alguns dos erros mais comuns em Python, e é importante aprender a reconhecê-los e corrigi-los ao escrever código Python."
   ]
  },
  {
   "cell_type": "code",
   "execution_count": null,
   "metadata": {},
   "outputs": [],
   "source": []
  },
  {
   "cell_type": "markdown",
   "metadata": {},
   "source": [
    "# **SyntaxError**"
   ]
  },
  {
   "cell_type": "markdown",
   "metadata": {},
   "source": [
    "`SyntaxError` é uma exceção em Python que ocorre quando o interpretador encontra um erro na estrutura do código, ou seja, quando o código não está gramaticalmente correto. Isso pode acontecer por vários motivos, como a utilização incorreta de palavras-chave, operadores, ou a falta de fechamento de parênteses, chaves ou colchetes.\n",
    "\n",
    "Aqui estão alguns exemplos de situações que podem causar um `SyntaxError`:\n",
    "\n",
    "1. Esquecer de fechar um parêntese, colchete ou chave:\n",
    "\n",
    "```python\n",
    "# Exemplo 1: Falta de fechamento de parênteses\n",
    "print(\"Hello, World!\"\n",
    "```\n",
    "\n",
    "Este código resultará em um `SyntaxError` porque falta fechar o parêntese após a string \"Hello, World!\".\n",
    "\n",
    "2. Utilizar uma palavra-chave reservada de maneira incorreta:\n",
    "\n",
    "```python\n",
    "# Exemplo 2: Usando 'return' fora de uma função\n",
    "return_value = 5\n",
    "```\n",
    "\n",
    "Este código resultará em um `SyntaxError` porque a palavra-chave `return` só pode ser usada dentro de uma função.\n",
    "\n",
    "3. Erros de indentação:\n",
    "\n",
    "```python\n",
    "# Exemplo 3: Mistura de espaços e tabulações\n",
    "def minha_funcao():\n",
    "    print(\"Olá, Mundo!\")\n",
    "        print(\"Estou aprendendo Python!\")\n",
    "```\n",
    "\n",
    "Este código resultará em um `IndentationError`, que é um tipo específico de `SyntaxError`, porque a segunda linha tem uma indentação incorreta.\n",
    "\n",
    "4. Utilizar operadores de maneira incorreta:\n",
    "\n",
    "```python\n",
    "# Exemplo 4: Divisão por zero\n",
    "resultado = 10 / 0\n",
    "```\n",
    "\n",
    "Este código resultará em um `ZeroDivisionError`, que é um tipo específico de `SyntaxError`, porque estamos tentando dividir por zero.\n",
    "\n",
    "5. Comentários mal formados:\n",
    "\n",
    "```python\n",
    "# Exemplo 5: Comentário mal formado\n",
    "print(\"Olá, Mundo!\") # Este é um comentário mal formado\n",
    "```\n",
    "\n",
    "Este código resultará em um `SyntaxError` porque o comentário não está bem formatado. Comentários devem começar com `#` e continuar até o final da linha.\n",
    "\n",
    "Quando você encontrar um `SyntaxError`, é importante verificar cuidadosamente o código para corrigir o erro de sintaxe antes de continuar a execução."
   ]
  },
  {
   "cell_type": "code",
   "execution_count": null,
   "metadata": {},
   "outputs": [],
   "source": []
  },
  {
   "cell_type": "code",
   "execution_count": null,
   "metadata": {},
   "outputs": [],
   "source": []
  },
  {
   "cell_type": "markdown",
   "metadata": {},
   "source": [
    "# **IndentationError**"
   ]
  },
  {
   "cell_type": "markdown",
   "metadata": {},
   "source": [
    "`IndentationError` é uma exceção em Python que ocorre quando há erros na indentação do código fonte. Em Python, a indentação é significativa e é usada para definir a estrutura do código, como blocos de código em loops, condicionais e funções.\n",
    "\n",
    "Aqui estão alguns exemplos de situações que podem causar um `IndentationError`:\n",
    "\n",
    "1. Mistura de espaços e tabulações:\n",
    "\n",
    "```python\n",
    "# Exemplo 1: Mistura de espaços e tabulações\n",
    "def minha_funcao():\n",
    "    print(\"Olá, Mundo!\")\n",
    "        print(\"Estou aprendendo Python!\")\n",
    "```\n",
    "\n",
    "Neste exemplo, há uma mistura de espaços e tabulações na indentação, o que causa um `IndentationError`.\n",
    "\n",
    "2. Falha na indentação consistente:\n",
    "\n",
    "```python\n",
    "# Exemplo 2: Falha na indentação consistente\n",
    "if True:\n",
    "print(\"Verdadeiro!\")\n",
    "```\n",
    "\n",
    "Neste exemplo, a linha de código após a instrução `if` não está indentada corretamente, causando um `IndentationError`.\n",
    "\n",
    "3. Tentativa de indentação em um contexto onde não é permitido:\n",
    "\n",
    "```python\n",
    "# Exemplo 3: Tentativa de indentação em um contexto onde não é permitido\n",
    "return_value = 5\n",
    "    print(return_value)\n",
    "```\n",
    "\n",
    "Neste exemplo, a linha de código está tentando ser indentada fora de uma função ou de outro bloco de código que requer indentação, o que causa um `IndentationError`.\n",
    "\n",
    "4. Falta de indentação em um bloco de código que requer:\n",
    "\n",
    "```python\n",
    "# Exemplo 4: Falta de indentação em um bloco de código que requer\n",
    "for i in range(5):\n",
    "print(i)\n",
    "```\n",
    "\n",
    "Neste exemplo, o bloco de código dentro do loop `for` não está indentado corretamente, causando um `IndentationError`.\n",
    "\n",
    "Ao encontrar um `IndentationError`, é necessário verificar a indentação do código para garantir que esteja correta e consistente. Geralmente, corrigir esses erros envolve ajustar a indentação das linhas afetadas para corresponder ao contexto adequado no qual elas estão inseridas."
   ]
  },
  {
   "cell_type": "code",
   "execution_count": null,
   "metadata": {},
   "outputs": [],
   "source": []
  },
  {
   "cell_type": "code",
   "execution_count": null,
   "metadata": {},
   "outputs": [],
   "source": []
  },
  {
   "cell_type": "markdown",
   "metadata": {},
   "source": [
    "# **TypeError**"
   ]
  },
  {
   "cell_type": "markdown",
   "metadata": {},
   "source": [
    "`TypeError` é uma exceção em Python que ocorre quando uma operação é aplicada a um objeto de tipo incompatível. Isso significa que o tipo de dados usado em uma operação não é suportado pela operação em questão. Aqui estão alguns exemplos de situações que podem causar um `TypeError`:\n",
    "\n",
    "1. Operações inválidas entre tipos de dados diferentes:\n",
    "\n",
    "```python\n",
    "# Exemplo 1: Tentativa de somar uma string com um número\n",
    "resultado = \"5\" + 3\n",
    "```\n",
    "\n",
    "Este código resultará em um `TypeError` porque estamos tentando concatenar uma string com um número inteiro.\n",
    "\n",
    "2. Passagem de argumentos incorretos para uma função:\n",
    "\n",
    "```python\n",
    "# Exemplo 2: Passagem de argumentos incorretos para uma função\n",
    "def multiplicar(a, b):\n",
    "    return a * b\n",
    "\n",
    "resultado = multiplicar(\"5\", 3)\n",
    "```\n",
    "\n",
    "Neste exemplo, estamos tentando multiplicar uma string por um número inteiro, o que resultará em um `TypeError` porque a função `multiplicar` espera que ambos os argumentos sejam números.\n",
    "\n",
    "3. Indexação inválida de tipos que não são indexáveis:\n",
    "\n",
    "```python\n",
    "# Exemplo 3: Indexação inválida de um número inteiro\n",
    "numero = 123\n",
    "digito = numero[0]\n",
    "```\n",
    "\n",
    "Este código resultará em um `TypeError` porque números inteiros não suportam indexação como sequências de caracteres.\n",
    "\n",
    "4. Utilização de operadores em objetos que não suportam essas operações:\n",
    "\n",
    "```python\n",
    "# Exemplo 4: Utilização de operadores em tipos de dados não suportados\n",
    "lista = [1, 2, 3]\n",
    "resultado = lista * 2\n",
    "```\n",
    "\n",
    "Neste exemplo, estamos tentando multiplicar uma lista por um número inteiro, o que resultará em um `TypeError` porque a lista não suporta a multiplicação direta por um número.\n",
    "\n",
    "Ao encontrar um `TypeError`, é importante revisar o código para garantir que os tipos de dados estejam sendo usados corretamente e que as operações estejam sendo aplicadas aos tipos de objetos adequados. Corrigir esses erros geralmente envolve converter os tipos de dados conforme necessário ou revisar a lógica do programa para garantir que as operações estejam sendo aplicadas corretamente aos tipos de dados esperados."
   ]
  },
  {
   "cell_type": "code",
   "execution_count": null,
   "metadata": {},
   "outputs": [],
   "source": []
  },
  {
   "cell_type": "code",
   "execution_count": null,
   "metadata": {},
   "outputs": [],
   "source": []
  },
  {
   "cell_type": "markdown",
   "metadata": {},
   "source": [
    "# **NameError**"
   ]
  },
  {
   "cell_type": "markdown",
   "metadata": {},
   "source": [
    "`NameError` e `TypeError` são exceções comuns em Python, mas são diferentes em sua causa e significado.\n",
    "\n",
    "1. **NameError**: Este erro ocorre quando o Python encontra uma variável ou nome que não foi definido no contexto atual. Isso pode acontecer quando você tenta usar uma variável antes de atribuir um valor a ela, ou quando tenta acessar uma variável que está fora do escopo atual.\n",
    "\n",
    "   Exemplo:\n",
    "   ```python\n",
    "   print(x)\n",
    "   ```\n",
    "   Se `x` não tiver sido definido anteriormente, isso resultará em um `NameError`.\n",
    "\n",
    "2. **TypeError**: Este erro ocorre quando uma operação é aplicada a um objeto de um tipo incompatível. Por exemplo, tentar realizar uma operação matemática em um tipo de dados que não suporta essa operação resultará em um `TypeError`.\n",
    "\n",
    "   Exemplo:\n",
    "   ```python\n",
    "   x = \"5\"\n",
    "   y = 2\n",
    "   print(x + y)\n",
    "   ```\n",
    "   Neste exemplo, estamos tentando adicionar uma string com um número inteiro, o que resultará em um `TypeError`.\n",
    "\n",
    "Aqui estão exemplos de código que levam a cada um desses erros:\n",
    "\n",
    "**NameError:**\n",
    "```python\n",
    "# Exemplo de NameError\n",
    "print(x)\n",
    "```\n",
    "Neste exemplo, `x` não foi definido anteriormente, então ocorrerá um `NameError`.\n",
    "\n",
    "**TypeError:**\n",
    "```python\n",
    "# Exemplo de TypeError\n",
    "x = \"5\"\n",
    "y = 2\n",
    "print(x + y)\n",
    "```\n",
    "Neste exemplo, estamos tentando concatenar uma string com um número inteiro, o que resultará em um `TypeError`. Para corrigir isso, você pode converter `y` em uma string ou `x` em um número inteiro, dependendo da intenção do código. Por exemplo:\n",
    "```python\n",
    "x = \"5\"\n",
    "y = 2\n",
    "print(x + str(y))  # Saída: 52\n",
    "```\n",
    "Ou:\n",
    "```python\n",
    "x = 5\n",
    "y = 2\n",
    "print(str(x) + str(y))  # Saída: 52\n",
    "```\n",
    "\n",
    "É importante entender a diferença entre esses erros para diagnosticar e corrigir problemas em seu código Python de forma eficaz."
   ]
  },
  {
   "cell_type": "code",
   "execution_count": null,
   "metadata": {},
   "outputs": [],
   "source": []
  },
  {
   "cell_type": "code",
   "execution_count": null,
   "metadata": {},
   "outputs": [],
   "source": []
  },
  {
   "cell_type": "markdown",
   "metadata": {},
   "source": [
    "# **ZeroDivisionError**"
   ]
  },
  {
   "cell_type": "markdown",
   "metadata": {},
   "source": [
    "`ZeroDivisionError` é uma exceção que ocorre quando você tenta dividir um número por zero em Python. A divisão por zero não é definida na matemática, e tentar realizar essa operação resultará em um erro.\n",
    "\n",
    "Aqui está um exemplo de código que leva a um `ZeroDivisionError`:\n",
    "\n",
    "```python\n",
    "# Exemplo de ZeroDivisionError\n",
    "resultado = 10 / 0\n",
    "```\n",
    "\n",
    "Neste exemplo, estamos tentando dividir o número 10 por zero, o que resultará em um `ZeroDivisionError`.\n",
    "\n",
    "Para evitar esse erro, você pode adicionar uma verificação para garantir que o divisor não seja zero antes de realizar a divisão:\n",
    "\n",
    "```python\n",
    "divisor = 0\n",
    "if divisor != 0:\n",
    "    resultado = 10 / divisor\n",
    "else:\n",
    "    print(\"Não é possível dividir por zero.\")\n",
    "```\n",
    "\n",
    "Dessa forma, o código verifica se o divisor é diferente de zero antes de realizar a divisão. Se o divisor for zero, uma mensagem será impressa indicando que a divisão por zero não é possível. Essa verificação ajuda a evitar que o código gere um `ZeroDivisionError` em tempo de execução."
   ]
  },
  {
   "cell_type": "code",
   "execution_count": null,
   "metadata": {},
   "outputs": [],
   "source": []
  },
  {
   "cell_type": "code",
   "execution_count": null,
   "metadata": {},
   "outputs": [],
   "source": []
  },
  {
   "cell_type": "markdown",
   "metadata": {},
   "source": [
    "# **IndexError**"
   ]
  },
  {
   "cell_type": "markdown",
   "metadata": {},
   "source": [
    "`IndexError` é uma exceção em Python que ocorre quando você tenta acessar um índice em uma sequência (como uma lista, tupla ou string) que está fora dos limites válidos. Em outras palavras, você está tentando acessar um elemento que não existe na sequência.\n",
    "\n",
    "Aqui está um exemplo de código que leva a um `IndexError`:\n",
    "\n",
    "```python\n",
    "# Exemplo de IndexError\n",
    "lista = [1, 2, 3]\n",
    "print(lista[3])\n",
    "```\n",
    "\n",
    "Neste exemplo, estamos tentando acessar o elemento de índice 3 da lista `lista`, mas a lista só tem elementos nos índices 0, 1 e 2. Portanto, tentar acessar o índice 3 resultará em um `IndexError`.\n",
    "\n",
    "Para evitar esse erro, você deve garantir que o índice que está tentando acessar esteja dentro dos limites válidos da sequência. Por exemplo:\n",
    "\n",
    "```python\n",
    "# Evitando IndexError\n",
    "lista = [1, 2, 3]\n",
    "if len(lista) > 3:\n",
    "    print(lista[3])\n",
    "else:\n",
    "    print(\"Índice fora dos limites.\")\n",
    "```\n",
    "\n",
    "Neste exemplo, verificamos se o comprimento da lista é maior que 3 antes de tentar acessar o índice 3. Se o comprimento for menor ou igual a 3, significa que o índice está fora dos limites e uma mensagem apropriada é impressa. Isso evita que o código gere um `IndexError` em tempo de execução."
   ]
  },
  {
   "cell_type": "code",
   "execution_count": null,
   "metadata": {},
   "outputs": [],
   "source": []
  },
  {
   "cell_type": "code",
   "execution_count": null,
   "metadata": {},
   "outputs": [],
   "source": []
  },
  {
   "cell_type": "markdown",
   "metadata": {},
   "source": [
    "# **KeyError**"
   ]
  },
  {
   "cell_type": "markdown",
   "metadata": {},
   "source": [
    "`KeyError` é uma exceção em Python que ocorre quando você tenta acessar uma chave que não existe em um dicionário.\n",
    "\n",
    "Aqui está um exemplo de código que leva a um `KeyError`:\n",
    "\n",
    "```python\n",
    "# Exemplo de KeyError\n",
    "meu_dicionario = {'a': 1, 'b': 2, 'c': 3}\n",
    "print(meu_dicionario['d'])\n",
    "```\n",
    "\n",
    "Neste exemplo, estamos tentando acessar a chave `'d'` em `meu_dicionario`, mas essa chave não está presente no dicionário. Portanto, tentar acessar essa chave resultará em um `KeyError`.\n",
    "\n",
    "Para evitar esse erro, você deve garantir que a chave que está tentando acessar exista no dicionário. Você pode usar o método `get()` ou verificar a existência da chave antes de acessá-la diretamente:\n",
    "\n",
    "Usando o método `get()`:\n",
    "\n",
    "```python\n",
    "# Evitando KeyError usando o método get()\n",
    "meu_dicionario = {'a': 1, 'b': 2, 'c': 3}\n",
    "valor = meu_dicionario.get('d')\n",
    "if valor is not None:\n",
    "    print(valor)\n",
    "else:\n",
    "    print(\"Chave 'd' não encontrada.\")\n",
    "```\n",
    "\n",
    "Verificando a existência da chave:\n",
    "\n",
    "```python\n",
    "# Evitando KeyError verificando a existência da chave\n",
    "meu_dicionario = {'a': 1, 'b': 2, 'c': 3}\n",
    "if 'd' in meu_dicionario:\n",
    "    print(meu_dicionario['d'])\n",
    "else:\n",
    "    print(\"Chave 'd' não encontrada.\")\n",
    "```\n",
    "\n",
    "Ambos os métodos garantem que você evite `KeyError` ao acessar chaves em um dicionário."
   ]
  },
  {
   "cell_type": "code",
   "execution_count": null,
   "metadata": {},
   "outputs": [],
   "source": []
  },
  {
   "cell_type": "code",
   "execution_count": null,
   "metadata": {},
   "outputs": [],
   "source": []
  },
  {
   "cell_type": "markdown",
   "metadata": {},
   "source": [
    "# **ValueError**"
   ]
  },
  {
   "cell_type": "markdown",
   "metadata": {},
   "source": [
    "`ValueError` é uma exceção em Python que ocorre quando uma função recebe um argumento com o tipo correto, mas um valor incorreto ou inválido.\n",
    "\n",
    "Aqui estão alguns exemplos de situações que podem causar um `ValueError`:\n",
    "\n",
    "1. Conversão de tipo inválida:\n",
    "\n",
    "```python\n",
    "# Exemplo 1: Tentando converter uma string para um número inteiro, mas a string contém caracteres não numéricos.\n",
    "numero = int(\"abc\")\n",
    "```\n",
    "\n",
    "Este código resultará em um `ValueError` porque a string \"abc\" não pode ser convertida para um número inteiro.\n",
    "\n",
    "2. Operações de contêiner:\n",
    "\n",
    "```python\n",
    "# Exemplo 2: Tentando remover um elemento de uma lista que não está presente na lista.\n",
    "lista = [1, 2, 3]\n",
    "lista.remove(4)\n",
    "```\n",
    "\n",
    "Este código resultará em um `ValueError` porque o elemento 4 não está presente na lista.\n",
    "\n",
    "3. Funções que esperam argumentos dentro de um intervalo específico:\n",
    "\n",
    "```python\n",
    "# Exemplo 3: Tentando criar uma faixa de números com o intervalo final menor do que o inicial.\n",
    "faixa = range(5, 1)\n",
    "```\n",
    "\n",
    "Este código resultará em um `ValueError` porque o valor inicial do intervalo é maior do que o valor final.\n",
    "\n",
    "4. Utilizando funções que esperam valores dentro de um domínio específico:\n",
    "\n",
    "```python\n",
    "# Exemplo 4: Utilizando a função `int` com uma string que representa um número em base incorreta.\n",
    "numero = int(\"10\", base=2)\n",
    "```\n",
    "\n",
    "Este código resultará em um `ValueError` porque a string \"10\" é interpretada como um número binário, mas contém um \"1\" que não é válido na base binária.\n",
    "\n",
    "Quando você encontrar um `ValueError`, é importante verificar cuidadosamente os valores passados para a função e garantir que estejam dentro dos limites e formatos esperados pela função. Isso pode exigir validações adicionais antes de chamar a função para garantir que os valores fornecidos sejam válidos"
   ]
  },
  {
   "cell_type": "code",
   "execution_count": null,
   "metadata": {},
   "outputs": [],
   "source": []
  },
  {
   "cell_type": "code",
   "execution_count": null,
   "metadata": {},
   "outputs": [],
   "source": []
  },
  {
   "cell_type": "markdown",
   "metadata": {},
   "source": [
    "# **Try, Except, Else, Finaly**"
   ]
  },
  {
   "cell_type": "markdown",
   "metadata": {},
   "source": [
    "`try` é uma estrutura de controle em Python que permite que você lide com exceções em seu código de uma maneira controlada e elegante. Junto com `except`, `else` e `finally`, `try` forma o bloco `try-except` que é utilizado para lidar com exceções.\n",
    "\n",
    "A estrutura básica de um bloco `try-except` em Python é a seguinte:\n",
    "\n",
    "```python\n",
    "try:\n",
    "    # Bloco de código onde você suspeita que uma exceção possa ocorrer\n",
    "    # Se uma exceção ocorrer neste bloco, ela será tratada pelo bloco 'except'\n",
    "except ExcecaoTipo:\n",
    "    # Bloco de código para lidar com a exceção\n",
    "```\n",
    "\n",
    "Aqui está uma explicação detalhada de cada parte do bloco `try-except`:\n",
    "\n",
    "- `try`: É o bloco onde você coloca o código que pode gerar uma exceção. Isso permite que você isole o código que pode lançar uma exceção em um bloco separado.\n",
    "\n",
    "- `except ExcecaoTipo`: É o bloco onde você lida com a exceção que pode ocorrer dentro do bloco `try`. `ExcecaoTipo` pode ser o tipo específico de exceção que você espera capturar, como `ValueError`, `TypeError`, `KeyError`, entre outros. Se uma exceção do tipo especificado ocorrer dentro do bloco `try`, o código dentro do bloco `except` será executado. Se não houver uma exceção correspondente, o bloco `except` será ignorado.\n",
    "\n",
    "Além disso, você pode ter vários blocos `except` para lidar com diferentes tipos de exceções. Você também pode usar `except` sem especificar o tipo de exceção para capturar todas as exceções que ocorrem dentro do bloco `try`. Por exemplo:\n",
    "\n",
    "```python\n",
    "try:\n",
    "    # Bloco de código onde você suspeita que uma exceção possa ocorrer\n",
    "    # Se uma exceção ocorrer neste bloco, ela será tratada pelo bloco 'except'\n",
    "except:\n",
    "    # Bloco de código para lidar com todas as exceções\n",
    "```\n",
    "\n",
    "É importante notar que usar `except` sem especificar o tipo de exceção pode capturar exceções indesejadas e tornar a depuração mais difícil, então é uma prática recomendada especificar os tipos de exceção que você espera lidar.\n",
    "\n",
    "Agora, vamos adicionar outras partes do bloco `try-except`:\n",
    "\n",
    "- `else`: O bloco `else` é opcional e é executado somente se nenhum exceção ocorrer dentro do bloco `try`. Isso é útil para executar código que depende do sucesso do bloco `try`.\n",
    "\n",
    "- `finally`: O bloco `finally` também é opcional e é executado sempre, independentemente de ocorrer ou não uma exceção dentro do bloco `try`. Isso é útil para ações de limpeza, como fechar arquivos ou liberar recursos, que devem ser realizadas, independentemente de exceções ocorrerem ou não.\n",
    "\n",
    "Aqui está um exemplo de bloco `try-except` completo com `else` e `finally`:\n",
    "\n",
    "```python\n",
    "try:\n",
    "    # Bloco de código onde você suspeita que uma exceção possa ocorrer\n",
    "except ExcecaoTipo:\n",
    "    # Bloco de código para lidar com a exceção\n",
    "else:\n",
    "    # Bloco de código que é executado se nenhuma exceção ocorrer\n",
    "finally:\n",
    "    # Bloco de código que é executado sempre, independentemente de ocorrer ou não uma exceção\n",
    "```\n",
    "\n",
    "Usando `try-except`, você pode lidar com exceções de uma maneira controlada, fornecendo uma maneira de continuar a execução do programa mesmo quando ocorrem erros, além de permitir a execução de ações de limpeza importantes. Isso torna o código mais robusto e resistente a falhas."
   ]
  },
  {
   "cell_type": "code",
   "execution_count": 6,
   "metadata": {},
   "outputs": [
    {
     "name": "stdout",
     "output_type": "stream",
     "text": [
      "Valor incorreto\n",
      "Nao serve pra nada\n",
      "Ele sempre sera executado\n"
     ]
    }
   ],
   "source": [
    "try:\n",
    "    num = int(input('Digite um numero: '))\n",
    "    print(f'Voce digitou o numero {num}')\n",
    "except ValueError:\n",
    "    print('Valor incorreto')\n",
    "else:\n",
    "    print(f'Voce digitou {num}')\n",
    "finally:\n",
    "    print('Nao serve pra nada')\n",
    "    print('Ele sempre sera executado')\n",
    "    \n",
    "#Melhor mesmo e utiliza apenas o Try e o Except"
   ]
  },
  {
   "cell_type": "code",
   "execution_count": 9,
   "metadata": {},
   "outputs": [
    {
     "name": "stdout",
     "output_type": "stream",
     "text": [
      "Tivemos um erro de division by zero\n"
     ]
    }
   ],
   "source": [
    "try:\n",
    "    numero = int(input('Dividir um numero: '))\n",
    "    divisao = numero / 0\n",
    "    print(f'A Divisao e {divisao}')\n",
    "except (ValueError, ZeroDivisionError) as erro:\n",
    "    print(f'Tivemos um erro de {erro}')\n"
   ]
  },
  {
   "cell_type": "code",
   "execution_count": null,
   "metadata": {},
   "outputs": [],
   "source": []
  },
  {
   "cell_type": "code",
   "execution_count": null,
   "metadata": {},
   "outputs": [],
   "source": []
  },
  {
   "cell_type": "markdown",
   "metadata": {},
   "source": [
    "# ***Utilizando o PDB***"
   ]
  },
  {
   "cell_type": "code",
   "execution_count": 2,
   "metadata": {},
   "outputs": [],
   "source": [
    "import pdb\n",
    "\n",
    "# Comandos basicos do pdb\n",
    "# l (lista onde estamos no codigo)\n",
    "# n (proxima linha)\n",
    "# p (imprime variavel)\n",
    "# c (continua a execução)"
   ]
  },
  {
   "cell_type": "code",
   "execution_count": 1,
   "metadata": {},
   "outputs": [
    {
     "name": "stdout",
     "output_type": "stream",
     "text": [
      "Tivemos um erro de invalid literal for int() with base 10: 'er'\n"
     ]
    }
   ],
   "source": [
    "#pdb.set_trace()\n",
    "try:\n",
    "    numero = int(input('Dividir um numero: '))\n",
    "    divisao = numero / 0\n",
    "    print(f'A Divisao e {divisao}')\n",
    "except (ValueError, ZeroDivisionError) as erro:\n",
    "    print(f'Tivemos um erro de {erro}')"
   ]
  },
  {
   "cell_type": "code",
   "execution_count": null,
   "metadata": {},
   "outputs": [],
   "source": []
  },
  {
   "cell_type": "code",
   "execution_count": null,
   "metadata": {},
   "outputs": [],
   "source": []
  }
 ],
 "metadata": {
  "kernelspec": {
   "display_name": "base",
   "language": "python",
   "name": "python3"
  },
  "language_info": {
   "codemirror_mode": {
    "name": "ipython",
    "version": 3
   },
   "file_extension": ".py",
   "mimetype": "text/x-python",
   "name": "python",
   "nbconvert_exporter": "python",
   "pygments_lexer": "ipython3",
   "version": "3.11.7"
  }
 },
 "nbformat": 4,
 "nbformat_minor": 2
}
